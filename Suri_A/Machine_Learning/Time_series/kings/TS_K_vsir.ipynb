{
 "cells": [
  {
   "cell_type": "code",
   "execution_count": 1,
   "id": "2832d275",
   "metadata": {},
   "outputs": [],
   "source": [
    "import pandas as pd \n",
    "pd.set_option('display.max_columns', None)\n",
    "import numpy as np \n",
    "import matplotlib.pyplot as plt \n",
    "import statsmodels.api as sm\n",
    "import statsmodels.formula.api as smf\n",
    "from statsmodels.tsa.stattools import adfuller\n",
    "%matplotlib inline\n",
    "from math import sqrt\n",
    "from statsmodels.tsa.arima_model import ARIMA\n",
    "from sklearn.metrics import mean_squared_error"
   ]
  },
  {
   "cell_type": "code",
   "execution_count": 2,
   "id": "069f8fa9",
   "metadata": {},
   "outputs": [
    {
     "data": {
      "text/html": [
       "<div>\n",
       "<style scoped>\n",
       "    .dataframe tbody tr th:only-of-type {\n",
       "        vertical-align: middle;\n",
       "    }\n",
       "\n",
       "    .dataframe tbody tr th {\n",
       "        vertical-align: top;\n",
       "    }\n",
       "\n",
       "    .dataframe thead th {\n",
       "        text-align: right;\n",
       "    }\n",
       "</style>\n",
       "<table border=\"1\" class=\"dataframe\">\n",
       "  <thead>\n",
       "    <tr style=\"text-align: right;\">\n",
       "      <th></th>\n",
       "      <th>obsno</th>\n",
       "      <th>age</th>\n",
       "    </tr>\n",
       "  </thead>\n",
       "  <tbody>\n",
       "    <tr>\n",
       "      <th>0</th>\n",
       "      <td>1</td>\n",
       "      <td>60</td>\n",
       "    </tr>\n",
       "    <tr>\n",
       "      <th>1</th>\n",
       "      <td>2</td>\n",
       "      <td>43</td>\n",
       "    </tr>\n",
       "    <tr>\n",
       "      <th>2</th>\n",
       "      <td>3</td>\n",
       "      <td>67</td>\n",
       "    </tr>\n",
       "    <tr>\n",
       "      <th>3</th>\n",
       "      <td>4</td>\n",
       "      <td>50</td>\n",
       "    </tr>\n",
       "    <tr>\n",
       "      <th>4</th>\n",
       "      <td>5</td>\n",
       "      <td>56</td>\n",
       "    </tr>\n",
       "    <tr>\n",
       "      <th>5</th>\n",
       "      <td>6</td>\n",
       "      <td>42</td>\n",
       "    </tr>\n",
       "    <tr>\n",
       "      <th>6</th>\n",
       "      <td>7</td>\n",
       "      <td>50</td>\n",
       "    </tr>\n",
       "    <tr>\n",
       "      <th>7</th>\n",
       "      <td>8</td>\n",
       "      <td>65</td>\n",
       "    </tr>\n",
       "    <tr>\n",
       "      <th>8</th>\n",
       "      <td>9</td>\n",
       "      <td>68</td>\n",
       "    </tr>\n",
       "    <tr>\n",
       "      <th>9</th>\n",
       "      <td>10</td>\n",
       "      <td>43</td>\n",
       "    </tr>\n",
       "    <tr>\n",
       "      <th>10</th>\n",
       "      <td>11</td>\n",
       "      <td>65</td>\n",
       "    </tr>\n",
       "    <tr>\n",
       "      <th>11</th>\n",
       "      <td>12</td>\n",
       "      <td>34</td>\n",
       "    </tr>\n",
       "    <tr>\n",
       "      <th>12</th>\n",
       "      <td>13</td>\n",
       "      <td>47</td>\n",
       "    </tr>\n",
       "    <tr>\n",
       "      <th>13</th>\n",
       "      <td>14</td>\n",
       "      <td>34</td>\n",
       "    </tr>\n",
       "    <tr>\n",
       "      <th>14</th>\n",
       "      <td>15</td>\n",
       "      <td>49</td>\n",
       "    </tr>\n",
       "    <tr>\n",
       "      <th>15</th>\n",
       "      <td>16</td>\n",
       "      <td>41</td>\n",
       "    </tr>\n",
       "    <tr>\n",
       "      <th>16</th>\n",
       "      <td>17</td>\n",
       "      <td>13</td>\n",
       "    </tr>\n",
       "    <tr>\n",
       "      <th>17</th>\n",
       "      <td>18</td>\n",
       "      <td>35</td>\n",
       "    </tr>\n",
       "    <tr>\n",
       "      <th>18</th>\n",
       "      <td>19</td>\n",
       "      <td>53</td>\n",
       "    </tr>\n",
       "    <tr>\n",
       "      <th>19</th>\n",
       "      <td>20</td>\n",
       "      <td>56</td>\n",
       "    </tr>\n",
       "    <tr>\n",
       "      <th>20</th>\n",
       "      <td>21</td>\n",
       "      <td>16</td>\n",
       "    </tr>\n",
       "    <tr>\n",
       "      <th>21</th>\n",
       "      <td>22</td>\n",
       "      <td>43</td>\n",
       "    </tr>\n",
       "    <tr>\n",
       "      <th>22</th>\n",
       "      <td>23</td>\n",
       "      <td>69</td>\n",
       "    </tr>\n",
       "    <tr>\n",
       "      <th>23</th>\n",
       "      <td>24</td>\n",
       "      <td>59</td>\n",
       "    </tr>\n",
       "    <tr>\n",
       "      <th>24</th>\n",
       "      <td>25</td>\n",
       "      <td>48</td>\n",
       "    </tr>\n",
       "    <tr>\n",
       "      <th>25</th>\n",
       "      <td>26</td>\n",
       "      <td>59</td>\n",
       "    </tr>\n",
       "    <tr>\n",
       "      <th>26</th>\n",
       "      <td>27</td>\n",
       "      <td>86</td>\n",
       "    </tr>\n",
       "    <tr>\n",
       "      <th>27</th>\n",
       "      <td>28</td>\n",
       "      <td>55</td>\n",
       "    </tr>\n",
       "    <tr>\n",
       "      <th>28</th>\n",
       "      <td>29</td>\n",
       "      <td>68</td>\n",
       "    </tr>\n",
       "    <tr>\n",
       "      <th>29</th>\n",
       "      <td>30</td>\n",
       "      <td>51</td>\n",
       "    </tr>\n",
       "    <tr>\n",
       "      <th>30</th>\n",
       "      <td>31</td>\n",
       "      <td>33</td>\n",
       "    </tr>\n",
       "    <tr>\n",
       "      <th>31</th>\n",
       "      <td>32</td>\n",
       "      <td>49</td>\n",
       "    </tr>\n",
       "    <tr>\n",
       "      <th>32</th>\n",
       "      <td>33</td>\n",
       "      <td>67</td>\n",
       "    </tr>\n",
       "    <tr>\n",
       "      <th>33</th>\n",
       "      <td>34</td>\n",
       "      <td>77</td>\n",
       "    </tr>\n",
       "    <tr>\n",
       "      <th>34</th>\n",
       "      <td>35</td>\n",
       "      <td>81</td>\n",
       "    </tr>\n",
       "    <tr>\n",
       "      <th>35</th>\n",
       "      <td>36</td>\n",
       "      <td>67</td>\n",
       "    </tr>\n",
       "    <tr>\n",
       "      <th>36</th>\n",
       "      <td>37</td>\n",
       "      <td>71</td>\n",
       "    </tr>\n",
       "    <tr>\n",
       "      <th>37</th>\n",
       "      <td>38</td>\n",
       "      <td>81</td>\n",
       "    </tr>\n",
       "    <tr>\n",
       "      <th>38</th>\n",
       "      <td>39</td>\n",
       "      <td>68</td>\n",
       "    </tr>\n",
       "    <tr>\n",
       "      <th>39</th>\n",
       "      <td>40</td>\n",
       "      <td>70</td>\n",
       "    </tr>\n",
       "    <tr>\n",
       "      <th>40</th>\n",
       "      <td>41</td>\n",
       "      <td>77</td>\n",
       "    </tr>\n",
       "    <tr>\n",
       "      <th>41</th>\n",
       "      <td>42</td>\n",
       "      <td>56</td>\n",
       "    </tr>\n",
       "  </tbody>\n",
       "</table>\n",
       "</div>"
      ],
      "text/plain": [
       "    obsno  age\n",
       "0       1   60\n",
       "1       2   43\n",
       "2       3   67\n",
       "3       4   50\n",
       "4       5   56\n",
       "5       6   42\n",
       "6       7   50\n",
       "7       8   65\n",
       "8       9   68\n",
       "9      10   43\n",
       "10     11   65\n",
       "11     12   34\n",
       "12     13   47\n",
       "13     14   34\n",
       "14     15   49\n",
       "15     16   41\n",
       "16     17   13\n",
       "17     18   35\n",
       "18     19   53\n",
       "19     20   56\n",
       "20     21   16\n",
       "21     22   43\n",
       "22     23   69\n",
       "23     24   59\n",
       "24     25   48\n",
       "25     26   59\n",
       "26     27   86\n",
       "27     28   55\n",
       "28     29   68\n",
       "29     30   51\n",
       "30     31   33\n",
       "31     32   49\n",
       "32     33   67\n",
       "33     34   77\n",
       "34     35   81\n",
       "35     36   67\n",
       "36     37   71\n",
       "37     38   81\n",
       "38     39   68\n",
       "39     40   70\n",
       "40     41   77\n",
       "41     42   56"
      ]
     },
     "execution_count": 2,
     "metadata": {},
     "output_type": "execute_result"
    }
   ],
   "source": [
    "kings=pd.read_csv('Downloads/kings.csv')\n",
    "kings\n"
   ]
  },
  {
   "cell_type": "code",
   "execution_count": 3,
   "id": "ec991b32",
   "metadata": {},
   "outputs": [
    {
     "name": "stdout",
     "output_type": "stream",
     "text": [
      "<class 'pandas.core.frame.DataFrame'>\n",
      "RangeIndex: 42 entries, 0 to 41\n",
      "Data columns (total 2 columns):\n",
      " #   Column  Non-Null Count  Dtype\n",
      "---  ------  --------------  -----\n",
      " 0   obsno   42 non-null     int64\n",
      " 1   age     42 non-null     int64\n",
      "dtypes: int64(2)\n",
      "memory usage: 800.0 bytes\n"
     ]
    }
   ],
   "source": [
    "kings.info() # 42 "
   ]
  },
  {
   "cell_type": "code",
   "execution_count": 4,
   "id": "cf1a1126",
   "metadata": {},
   "outputs": [
    {
     "name": "stdout",
     "output_type": "stream",
     "text": [
      "<class 'pandas.core.frame.DataFrame'>\n",
      "RangeIndex: 42 entries, 0 to 41\n",
      "Data columns (total 1 columns):\n",
      " #   Column  Non-Null Count  Dtype\n",
      "---  ------  --------------  -----\n",
      " 0   age     42 non-null     int64\n",
      "dtypes: int64(1)\n",
      "memory usage: 464.0 bytes\n"
     ]
    },
    {
     "data": {
      "text/plain": [
       "RangeIndex(start=0, stop=42, step=1)"
      ]
     },
     "execution_count": 4,
     "metadata": {},
     "output_type": "execute_result"
    }
   ],
   "source": [
    "kings = kings.drop('obsno', axis=1)\n",
    "kings.info()\n",
    "kings.index #RangeIndex(start=0, stop=42, step=1)\n"
   ]
  },
  {
   "cell_type": "code",
   "execution_count": 5,
   "id": "e0b49dd6",
   "metadata": {},
   "outputs": [
    {
     "data": {
      "text/plain": [
       "Text(0.5, 1.0, 'data = kings')"
      ]
     },
     "execution_count": 5,
     "metadata": {},
     "output_type": "execute_result"
    },
    {
     "data": {
      "image/png": "[encoded data removed]",
      "text/plain": [
       "<Figure size 432x288 with 1 Axes>"
      ]
     },
     "metadata": {
      "needs_background": "light"
     },
     "output_type": "display_data"
    }
   ],
   "source": [
    "#lineplot\n",
    "plt.plot(kings, color = 'r')\n",
    "plt.title('data = kings', fontsize=16)\n"
   ]
  },
  {
   "cell_type": "code",
   "execution_count": 6,
   "id": "4ad8c629",
   "metadata": {},
   "outputs": [
    {
     "data": {
      "text/plain": [
       "Text(0.5, 1.0, 'Histogram of kings Data')"
      ]
     },
     "execution_count": 6,
     "metadata": {},
     "output_type": "execute_result"
    },
    {
     "data": {
      "image/png": "[encoded data removed]",
      "text/plain": [
       "<Figure size 432x288 with 1 Axes>"
      ]
     },
     "metadata": {
      "needs_background": "light"
     },
     "output_type": "display_data"
    }
   ],
   "source": [
    "#Histogram\n",
    "kings.plot(kind='hist', facecolor = 'r')\n",
    "plt.title('Histogram of kings Data')\n"
   ]
  },
  {
   "cell_type": "code",
   "execution_count": 7,
   "id": "c210019e",
   "metadata": {},
   "outputs": [
    {
     "data": {
      "text/plain": [
       "Text(0.5, 1.0, 'Density plot of kings Data')"
      ]
     },
     "execution_count": 7,
     "metadata": {},
     "output_type": "execute_result"
    },
    {
     "data": {
      "image/png": "[encoded data removed]",
      "text/plain": [
       "<Figure size 432x288 with 1 Axes>"
      ]
     },
     "metadata": {
      "needs_background": "light"
     },
     "output_type": "display_data"
    }
   ],
   "source": [
    "#Density plot\n",
    "kings.plot(kind='kde', color = 'r')\n",
    "plt.title('Density plot of kings Data')\n"
   ]
  },
  {
   "cell_type": "code",
   "execution_count": 8,
   "id": "07fe5688",
   "metadata": {},
   "outputs": [
    {
     "data": {
      "text/plain": [
       "Text(0.5, 1.0, 'Boxplot of kings Data')"
      ]
     },
     "execution_count": 8,
     "metadata": {},
     "output_type": "execute_result"
    },
    {
     "data": {
      "image/png": "[encoded data removed]",
      "text/plain": [
       "<Figure size 432x288 with 1 Axes>"
      ]
     },
     "metadata": {
      "needs_background": "light"
     },
     "output_type": "display_data"
    }
   ],
   "source": [
    "#Boxplot\n",
    "props2 = dict(boxes = 'red', whiskers ='green', medians = 'black', caps = 'blue')\n",
    "kings.plot.box(color = props2 , patch_artist = True, vert = False)\n",
    "plt.title('Boxplot of kings Data')\n"
   ]
  },
  {
   "cell_type": "code",
   "execution_count": 9,
   "id": "862e7886",
   "metadata": {},
   "outputs": [],
   "source": [
    "#Decompose with multiplicative\n",
    "from statsmodels.tsa.seasonal import seasonal_decompose\n",
    "kings_decomp_m = seasonal_decompose(kings, period=1, model='mul') \n",
    "#Peroid is specified being the data is not having date as index\n"
   ]
  },
  {
   "cell_type": "code",
   "execution_count": 10,
   "id": "11c17603",
   "metadata": {},
   "outputs": [
    {
     "data": {
      "image/png": "[encoded data removed]",
      "text/plain": [
       "<Figure size 432x288 with 4 Axes>"
      ]
     },
     "execution_count": 10,
     "metadata": {},
     "output_type": "execute_result"
    },
    {
     "data": {
      "image/png": "[encoded data removed]",
      "text/plain": [
       "<Figure size 432x288 with 4 Axes>"
      ]
     },
     "metadata": {
      "needs_background": "light"
     },
     "output_type": "display_data"
    }
   ],
   "source": [
    "kings_decomp_m.plot() #No Trend & no seasonality; note 1"
   ]
  },
  {
   "cell_type": "code",
   "execution_count": 11,
   "id": "db81e8c1",
   "metadata": {},
   "outputs": [
    {
     "data": {
      "text/plain": [
       "0     1.0\n",
       "1     1.0\n",
       "2     1.0\n",
       "3     1.0\n",
       "4     1.0\n",
       "5     1.0\n",
       "6     1.0\n",
       "7     1.0\n",
       "8     1.0\n",
       "9     1.0\n",
       "10    1.0\n",
       "11    1.0\n",
       "12    1.0\n",
       "13    1.0\n",
       "14    1.0\n",
       "15    1.0\n",
       "16    1.0\n",
       "17    1.0\n",
       "18    1.0\n",
       "19    1.0\n",
       "20    1.0\n",
       "21    1.0\n",
       "22    1.0\n",
       "23    1.0\n",
       "24    1.0\n",
       "25    1.0\n",
       "26    1.0\n",
       "27    1.0\n",
       "28    1.0\n",
       "29    1.0\n",
       "30    1.0\n",
       "31    1.0\n",
       "32    1.0\n",
       "33    1.0\n",
       "34    1.0\n",
       "35    1.0\n",
       "36    1.0\n",
       "37    1.0\n",
       "38    1.0\n",
       "39    1.0\n",
       "40    1.0\n",
       "41    1.0\n",
       "Name: resid, dtype: float64"
      ]
     },
     "execution_count": 11,
     "metadata": {},
     "output_type": "execute_result"
    }
   ],
   "source": [
    "kings_decomp_m.observed\n",
    "kings_decomp_m.trend\n",
    "kings_decomp_m.seasonal\n",
    "kings_decomp_m.resid"
   ]
  },
  {
   "cell_type": "code",
   "execution_count": 12,
   "id": "4e909f77",
   "metadata": {},
   "outputs": [],
   "source": [
    "#Decompose with Additive\n",
    "from statsmodels.tsa.seasonal import seasonal_decompose\n",
    "kings_decomp_add = seasonal_decompose(kings, period=1, model='add')\n"
   ]
  },
  {
   "cell_type": "code",
   "execution_count": 13,
   "id": "496d38c5",
   "metadata": {},
   "outputs": [
    {
     "data": {
      "image/png": "[encoded data removed]",
      "text/plain": [
       "<Figure size 432x288 with 4 Axes>"
      ]
     },
     "execution_count": 13,
     "metadata": {},
     "output_type": "execute_result"
    },
    {
     "data": {
      "image/png": "[encoded data removed]",
      "text/plain": [
       "<Figure size 432x288 with 4 Axes>"
      ]
     },
     "metadata": {
      "needs_background": "light"
     },
     "output_type": "display_data"
    }
   ],
   "source": [
    "kings_decomp_add.plot() #No Trend & no seasonality\n"
   ]
  },
  {
   "cell_type": "code",
   "execution_count": 14,
   "id": "f29854e0",
   "metadata": {},
   "outputs": [
    {
     "data": {
      "text/plain": [
       "0     0.0\n",
       "1     0.0\n",
       "2     0.0\n",
       "3     0.0\n",
       "4     0.0\n",
       "5     0.0\n",
       "6     0.0\n",
       "7     0.0\n",
       "8     0.0\n",
       "9     0.0\n",
       "10    0.0\n",
       "11    0.0\n",
       "12    0.0\n",
       "13    0.0\n",
       "14    0.0\n",
       "15    0.0\n",
       "16    0.0\n",
       "17    0.0\n",
       "18    0.0\n",
       "19    0.0\n",
       "20    0.0\n",
       "21    0.0\n",
       "22    0.0\n",
       "23    0.0\n",
       "24    0.0\n",
       "25    0.0\n",
       "26    0.0\n",
       "27    0.0\n",
       "28    0.0\n",
       "29    0.0\n",
       "30    0.0\n",
       "31    0.0\n",
       "32    0.0\n",
       "33    0.0\n",
       "34    0.0\n",
       "35    0.0\n",
       "36    0.0\n",
       "37    0.0\n",
       "38    0.0\n",
       "39    0.0\n",
       "40    0.0\n",
       "41    0.0\n",
       "Name: resid, dtype: float64"
      ]
     },
     "execution_count": 14,
     "metadata": {},
     "output_type": "execute_result"
    }
   ],
   "source": [
    "kings_decomp_add.observed\n",
    "kings_decomp_add.trend\n",
    "kings_decomp_add.seasonal\n",
    "kings_decomp_add.resid\n"
   ]
  },
  {
   "cell_type": "code",
   "execution_count": 15,
   "id": "f8bc217d",
   "metadata": {},
   "outputs": [
    {
     "data": {
      "text/plain": [
       "(-4.090229860104913,\n",
       " 0.0010051728027032974,\n",
       " 0,\n",
       " 41,\n",
       " {'1%': -3.60098336718852,\n",
       "  '5%': -2.9351348158036012,\n",
       "  '10%': -2.6059629803688282},\n",
       " 263.5882454953018)"
      ]
     },
     "execution_count": 15,
     "metadata": {},
     "output_type": "execute_result"
    }
   ],
   "source": [
    "#Test for stationarity\n",
    "from statsmodels.tsa.stattools import adfuller\n",
    "kings_adf = adfuller(kings)\n",
    "kings_adf"
   ]
  },
  {
   "cell_type": "code",
   "execution_count": 16,
   "id": "8cf5ec7e",
   "metadata": {},
   "outputs": [
    {
     "name": "stdout",
     "output_type": "stream",
     "text": [
      "ADF Statistic: -4.090230\n",
      "p-value: 0.001005\n",
      "Critical Values:\n",
      "\t1%: -3.601\n",
      "\t5%: -2.935\n",
      "\t10%: -2.606\n"
     ]
    }
   ],
   "source": [
    "print('ADF Statistic: %f' % kings_adf[0])\n",
    "print('p-value: %f' % kings_adf[1])\n",
    "print('Critical Values:')\n",
    "for key, value in kings_adf[4].items():\n",
    "    print('\\t%s: %.3f' % (key, value))"
   ]
  },
  {
   "cell_type": "code",
   "execution_count": 17,
   "id": "3bf047b2",
   "metadata": {},
   "outputs": [],
   "source": [
    "#H0: Data is not stationary\n",
    "#p-value: 0.001005 ie <= 0.05, Null Hypothesis rejected, so, the data is stationary\n"
   ]
  },
  {
   "cell_type": "code",
   "execution_count": 18,
   "id": "2c1ce787",
   "metadata": {},
   "outputs": [
    {
     "data": {
      "text/html": [
       "<div>\n",
       "<style scoped>\n",
       "    .dataframe tbody tr th:only-of-type {\n",
       "        vertical-align: middle;\n",
       "    }\n",
       "\n",
       "    .dataframe tbody tr th {\n",
       "        vertical-align: top;\n",
       "    }\n",
       "\n",
       "    .dataframe thead th {\n",
       "        text-align: right;\n",
       "    }\n",
       "</style>\n",
       "<table border=\"1\" class=\"dataframe\">\n",
       "  <thead>\n",
       "    <tr style=\"text-align: right;\">\n",
       "      <th></th>\n",
       "      <th>age</th>\n",
       "    </tr>\n",
       "  </thead>\n",
       "  <tbody>\n",
       "    <tr>\n",
       "      <th>0</th>\n",
       "      <td>NaN</td>\n",
       "    </tr>\n",
       "    <tr>\n",
       "      <th>1</th>\n",
       "      <td>NaN</td>\n",
       "    </tr>\n",
       "    <tr>\n",
       "      <th>2</th>\n",
       "      <td>56.666667</td>\n",
       "    </tr>\n",
       "    <tr>\n",
       "      <th>3</th>\n",
       "      <td>53.333333</td>\n",
       "    </tr>\n",
       "    <tr>\n",
       "      <th>4</th>\n",
       "      <td>57.666667</td>\n",
       "    </tr>\n",
       "    <tr>\n",
       "      <th>5</th>\n",
       "      <td>49.333333</td>\n",
       "    </tr>\n",
       "    <tr>\n",
       "      <th>6</th>\n",
       "      <td>49.333333</td>\n",
       "    </tr>\n",
       "    <tr>\n",
       "      <th>7</th>\n",
       "      <td>52.333333</td>\n",
       "    </tr>\n",
       "    <tr>\n",
       "      <th>8</th>\n",
       "      <td>61.000000</td>\n",
       "    </tr>\n",
       "    <tr>\n",
       "      <th>9</th>\n",
       "      <td>58.666667</td>\n",
       "    </tr>\n",
       "  </tbody>\n",
       "</table>\n",
       "</div>"
      ],
      "text/plain": [
       "         age\n",
       "0        NaN\n",
       "1        NaN\n",
       "2  56.666667\n",
       "3  53.333333\n",
       "4  57.666667\n",
       "5  49.333333\n",
       "6  49.333333\n",
       "7  52.333333\n",
       "8  61.000000\n",
       "9  58.666667"
      ]
     },
     "execution_count": 18,
     "metadata": {},
     "output_type": "execute_result"
    }
   ],
   "source": [
    "#Moving average/Rolloing average @3\n",
    "kings_ma3 = kings.rolling(window=3).mean()\n",
    "kings_ma3.head(10) # 1st & 2nd obs will be na"
   ]
  },
  {
   "cell_type": "code",
   "execution_count": 19,
   "id": "0b9ca5b3",
   "metadata": {},
   "outputs": [
    {
     "data": {
      "text/plain": [
       "Text(0.5, 1.0, 'data = kings')"
      ]
     },
     "execution_count": 19,
     "metadata": {},
     "output_type": "execute_result"
    },
    {
     "data": {
      "image/png": "[encoded data removed]",
      "text/plain": [
       "<Figure size 432x288 with 1 Axes>"
      ]
     },
     "metadata": {
      "needs_background": "light"
     },
     "output_type": "display_data"
    }
   ],
   "source": [
    "#lineplot\n",
    "plt.plot(kings_ma3, 'r')\n",
    "plt.title('data = kings', fontsize=16)"
   ]
  },
  {
   "cell_type": "code",
   "execution_count": 20,
   "id": "0e57570a",
   "metadata": {},
   "outputs": [
    {
     "data": {
      "text/html": [
       "<div>\n",
       "<style scoped>\n",
       "    .dataframe tbody tr th:only-of-type {\n",
       "        vertical-align: middle;\n",
       "    }\n",
       "\n",
       "    .dataframe tbody tr th {\n",
       "        vertical-align: top;\n",
       "    }\n",
       "\n",
       "    .dataframe thead th {\n",
       "        text-align: right;\n",
       "    }\n",
       "</style>\n",
       "<table border=\"1\" class=\"dataframe\">\n",
       "  <thead>\n",
       "    <tr style=\"text-align: right;\">\n",
       "      <th></th>\n",
       "      <th>age</th>\n",
       "    </tr>\n",
       "  </thead>\n",
       "  <tbody>\n",
       "    <tr>\n",
       "      <th>2</th>\n",
       "      <td>10.333333</td>\n",
       "    </tr>\n",
       "    <tr>\n",
       "      <th>3</th>\n",
       "      <td>-3.333333</td>\n",
       "    </tr>\n",
       "    <tr>\n",
       "      <th>4</th>\n",
       "      <td>-1.666667</td>\n",
       "    </tr>\n",
       "    <tr>\n",
       "      <th>5</th>\n",
       "      <td>-7.333333</td>\n",
       "    </tr>\n",
       "    <tr>\n",
       "      <th>6</th>\n",
       "      <td>0.666667</td>\n",
       "    </tr>\n",
       "  </tbody>\n",
       "</table>\n",
       "</div>"
      ],
      "text/plain": [
       "         age\n",
       "2  10.333333\n",
       "3  -3.333333\n",
       "4  -1.666667\n",
       "5  -7.333333\n",
       "6   0.666667"
      ]
     },
     "execution_count": 20,
     "metadata": {},
     "output_type": "execute_result"
    }
   ],
   "source": [
    "#Residuals / errors\n",
    "kings_ma3_res = kings - kings_ma3\n",
    "kings_ma3_res.head()\n",
    "kings_ma3_res = kings_ma3_res.dropna()\n",
    "kings_ma3_res.head()"
   ]
  },
  {
   "cell_type": "code",
   "execution_count": 21,
   "id": "e6f48603",
   "metadata": {},
   "outputs": [
    {
     "data": {
      "text/plain": [
       "Text(0.5, 1.0, 'Histogram Residuals @MA3')"
      ]
     },
     "execution_count": 21,
     "metadata": {},
     "output_type": "execute_result"
    },
    {
     "data": {
      "image/png": "[encoded data removed]",
      "text/plain": [
       "<Figure size 432x288 with 1 Axes>"
      ]
     },
     "metadata": {
      "needs_background": "light"
     },
     "output_type": "display_data"
    }
   ],
   "source": [
    "#Plotting histogram for residuals\n",
    "plt.hist(kings_ma3_res, facecolor = 'g')\n",
    "plt.title('Histogram Residuals @MA3')"
   ]
  },
  {
   "cell_type": "code",
   "execution_count": 22,
   "id": "a195eebb",
   "metadata": {},
   "outputs": [
    {
     "data": {
      "image/png": "[encoded data removed]",
      "text/plain": [
       "<Figure size 432x288 with 1 Axes>"
      ]
     },
     "execution_count": 22,
     "metadata": {},
     "output_type": "execute_result"
    },
    {
     "data": {
      "image/png": "[encoded data removed]",
      "text/plain": [
       "<Figure size 432x288 with 1 Axes>"
      ]
     },
     "metadata": {
      "needs_background": "light"
     },
     "output_type": "display_data"
    }
   ],
   "source": [
    "#Plotting acf\n",
    "from statsmodels.graphics.tsaplots import plot_acf\n",
    "plot_acf(kings_ma3_res, lags=20, color ='g')\n"
   ]
  },
  {
   "cell_type": "code",
   "execution_count": 23,
   "id": "f2b1ca75",
   "metadata": {},
   "outputs": [
    {
     "data": {
      "image/png": "[encoded data removed]",
      "text/plain": [
       "<Figure size 432x288 with 1 Axes>"
      ]
     },
     "execution_count": 23,
     "metadata": {},
     "output_type": "execute_result"
    },
    {
     "data": {
      "image/png": "[encoded data removed]",
      "text/plain": [
       "<Figure size 432x288 with 1 Axes>"
      ]
     },
     "metadata": {
      "needs_background": "light"
     },
     "output_type": "display_data"
    }
   ],
   "source": [
    "#Plotting pacf\n",
    "from statsmodels.graphics.tsaplots import plot_pacf \n",
    "plot_pacf(kings_ma3_res, lags=19, color = 'g')\n"
   ]
  },
  {
   "cell_type": "code",
   "execution_count": 24,
   "id": "426341c3",
   "metadata": {},
   "outputs": [
    {
     "data": {
      "text/html": [
       "<div>\n",
       "<style scoped>\n",
       "    .dataframe tbody tr th:only-of-type {\n",
       "        vertical-align: middle;\n",
       "    }\n",
       "\n",
       "    .dataframe tbody tr th {\n",
       "        vertical-align: top;\n",
       "    }\n",
       "\n",
       "    .dataframe thead th {\n",
       "        text-align: right;\n",
       "    }\n",
       "</style>\n",
       "<table border=\"1\" class=\"dataframe\">\n",
       "  <thead>\n",
       "    <tr style=\"text-align: right;\">\n",
       "      <th></th>\n",
       "      <th>age</th>\n",
       "    </tr>\n",
       "  </thead>\n",
       "  <tbody>\n",
       "    <tr>\n",
       "      <th>2</th>\n",
       "      <td>106.777778</td>\n",
       "    </tr>\n",
       "    <tr>\n",
       "      <th>3</th>\n",
       "      <td>11.111111</td>\n",
       "    </tr>\n",
       "    <tr>\n",
       "      <th>4</th>\n",
       "      <td>2.777778</td>\n",
       "    </tr>\n",
       "    <tr>\n",
       "      <th>5</th>\n",
       "      <td>53.777778</td>\n",
       "    </tr>\n",
       "    <tr>\n",
       "      <th>6</th>\n",
       "      <td>0.444444</td>\n",
       "    </tr>\n",
       "  </tbody>\n",
       "</table>\n",
       "</div>"
      ],
      "text/plain": [
       "          age\n",
       "2  106.777778\n",
       "3   11.111111\n",
       "4    2.777778\n",
       "5   53.777778\n",
       "6    0.444444"
      ]
     },
     "execution_count": 24,
     "metadata": {},
     "output_type": "execute_result"
    }
   ],
   "source": [
    "#______________________________RMSE\n",
    "#Squaring residuals/ errors\n",
    "kings_ma3_se = pow(kings_ma3_res,2)\n",
    "kings_ma3_se.head()"
   ]
  },
  {
   "cell_type": "code",
   "execution_count": 25,
   "id": "5be83306",
   "metadata": {},
   "outputs": [],
   "source": [
    "#Dropping na's ie the fist row\n",
    "#kings_ma3_se = kings_ma3_se.dropna()\n",
    "#len(kings_ma3_se) #40"
   ]
  },
  {
   "cell_type": "code",
   "execution_count": 26,
   "id": "4a513343",
   "metadata": {},
   "outputs": [
    {
     "name": "stdout",
     "output_type": "stream",
     "text": [
      "age    128.752778\n",
      "dtype: float64\n"
     ]
    }
   ],
   "source": [
    "#average/mean of squared residuals/ errors\n",
    "kings_ma3_mse = (kings_ma3_se.sum())/len(kings_ma3_se)\n",
    "print(kings_ma3_mse) #128.7527777777778"
   ]
  },
  {
   "cell_type": "code",
   "execution_count": 27,
   "id": "eae06f7f",
   "metadata": {},
   "outputs": [
    {
     "name": "stdout",
     "output_type": "stream",
     "text": [
      "11.346928120763689\n"
     ]
    }
   ],
   "source": [
    "#Root of average/mean of squared residuals/ errors\n",
    "kings_ma3_rmse = sqrt(kings_ma3_mse) \n",
    "print(kings_ma3_rmse) #11.346928120763689"
   ]
  },
  {
   "cell_type": "code",
   "execution_count": 28,
   "id": "9c853821",
   "metadata": {},
   "outputs": [
    {
     "name": "stdout",
     "output_type": "stream",
     "text": [
      "11.346928120763689\n"
     ]
    }
   ],
   "source": [
    "#______________RMSE\n",
    "kings_ma3 = kings.rolling(window=3).mean()\n",
    "kings_ma3 = kings_ma3.dropna()\n",
    "ma3_rmse = sqrt(mean_squared_error(kings[2:],kings_ma3))\n",
    "print(ma3_rmse) #11.346928120763689"
   ]
  },
  {
   "cell_type": "code",
   "execution_count": 29,
   "id": "68435b1a",
   "metadata": {},
   "outputs": [
    {
     "name": "stdout",
     "output_type": "stream",
     "text": [
      "       age\n",
      "0      NaN\n",
      "1      NaN\n",
      "2      NaN\n",
      "3      NaN\n",
      "4      NaN\n",
      "5      NaN\n",
      "6      NaN\n",
      "7   54.125\n",
      "8   55.125\n",
      "9   55.125\n",
      "10  54.875\n",
      "11  52.875\n",
      "12  51.750\n",
      "13  50.750\n",
      "14  50.625\n",
      "15  47.625\n",
      "16  40.750\n",
      "17  39.750\n",
      "18  38.250\n",
      "19  41.000\n",
      "20  37.125\n",
      "21  38.250\n",
      "22  40.750\n",
      "23  43.000\n",
      "24  47.375\n",
      "25  50.375\n",
      "26  54.500\n",
      "27  54.375\n",
      "28  60.875\n",
      "29  61.875\n",
      "30  57.375\n",
      "31  56.125\n",
      "32  58.500\n",
      "33  60.750\n",
      "34  60.125\n",
      "35  61.625\n",
      "36  62.000\n",
      "37  65.750\n",
      "38  70.125\n",
      "39  72.750\n",
      "40  74.000\n",
      "41  71.375\n"
     ]
    }
   ],
   "source": [
    "#____________________________________Moving average/Rolloing average @8\n",
    "kings_ma8 = kings.rolling(window=8).mean()\n",
    "print(kings_ma8) # First 7 obs will be na\n"
   ]
  },
  {
   "cell_type": "code",
   "execution_count": 30,
   "id": "f3f8c6f2",
   "metadata": {},
   "outputs": [
    {
     "data": {
      "text/plain": [
       "Text(0.5, 1.0, 'data = kings')"
      ]
     },
     "execution_count": 30,
     "metadata": {},
     "output_type": "execute_result"
    },
    {
     "data": {
      "image/png": "[encoded data removed]",
      "text/plain": [
       "<Figure size 432x288 with 1 Axes>"
      ]
     },
     "metadata": {
      "needs_background": "light"
     },
     "output_type": "display_data"
    }
   ],
   "source": [
    "#lineplot\n",
    "plt.plot(kings_ma8, 'g')\n",
    "plt.title('data = kings', fontsize=16)\n"
   ]
  },
  {
   "cell_type": "code",
   "execution_count": 31,
   "id": "e3ff7710",
   "metadata": {},
   "outputs": [
    {
     "data": {
      "text/html": [
       "<div>\n",
       "<style scoped>\n",
       "    .dataframe tbody tr th:only-of-type {\n",
       "        vertical-align: middle;\n",
       "    }\n",
       "\n",
       "    .dataframe tbody tr th {\n",
       "        vertical-align: top;\n",
       "    }\n",
       "\n",
       "    .dataframe thead th {\n",
       "        text-align: right;\n",
       "    }\n",
       "</style>\n",
       "<table border=\"1\" class=\"dataframe\">\n",
       "  <thead>\n",
       "    <tr style=\"text-align: right;\">\n",
       "      <th></th>\n",
       "      <th>age</th>\n",
       "    </tr>\n",
       "  </thead>\n",
       "  <tbody>\n",
       "    <tr>\n",
       "      <th>7</th>\n",
       "      <td>10.875</td>\n",
       "    </tr>\n",
       "    <tr>\n",
       "      <th>8</th>\n",
       "      <td>12.875</td>\n",
       "    </tr>\n",
       "    <tr>\n",
       "      <th>9</th>\n",
       "      <td>-12.125</td>\n",
       "    </tr>\n",
       "    <tr>\n",
       "      <th>10</th>\n",
       "      <td>10.125</td>\n",
       "    </tr>\n",
       "    <tr>\n",
       "      <th>11</th>\n",
       "      <td>-18.875</td>\n",
       "    </tr>\n",
       "  </tbody>\n",
       "</table>\n",
       "</div>"
      ],
      "text/plain": [
       "       age\n",
       "7   10.875\n",
       "8   12.875\n",
       "9  -12.125\n",
       "10  10.125\n",
       "11 -18.875"
      ]
     },
     "execution_count": 31,
     "metadata": {},
     "output_type": "execute_result"
    }
   ],
   "source": [
    "#Residuals / errors\n",
    "kings_ma8_res = kings - kings_ma8\n",
    "kings_ma8_res.head(10)\n",
    "kings_ma8_res = kings_ma8_res.dropna() \n",
    "kings_ma8_res.head()"
   ]
  },
  {
   "cell_type": "code",
   "execution_count": 32,
   "id": "4faaaf5f",
   "metadata": {},
   "outputs": [
    {
     "data": {
      "text/plain": [
       "Text(0.5, 1.0, 'Histogram Residuals @MA8')"
      ]
     },
     "execution_count": 32,
     "metadata": {},
     "output_type": "execute_result"
    },
    {
     "data": {
      "image/png": "[encoded data removed]",
      "text/plain": [
       "<Figure size 432x288 with 1 Axes>"
      ]
     },
     "metadata": {
      "needs_background": "light"
     },
     "output_type": "display_data"
    }
   ],
   "source": [
    "#Plotting histogram for residuals\n",
    "plt.hist(kings_ma8_res)\n",
    "plt.title('Histogram Residuals @MA8')\n"
   ]
  },
  {
   "cell_type": "code",
   "execution_count": 33,
   "id": "7c9e05e2",
   "metadata": {},
   "outputs": [
    {
     "data": {
      "image/png": "[encoded data removed]",
      "text/plain": [
       "<Figure size 432x288 with 1 Axes>"
      ]
     },
     "execution_count": 33,
     "metadata": {},
     "output_type": "execute_result"
    },
    {
     "data": {
      "image/png": "[encoded data removed]",
      "text/plain": [
       "<Figure size 432x288 with 1 Axes>"
      ]
     },
     "metadata": {
      "needs_background": "light"
     },
     "output_type": "display_data"
    },
    {
     "data": {
      "image/png": "[encoded data removed]",
      "text/plain": [
       "<Figure size 432x288 with 1 Axes>"
      ]
     },
     "metadata": {
      "needs_background": "light"
     },
     "output_type": "display_data"
    }
   ],
   "source": [
    "#Plotting acf & pacf \n",
    "from statsmodels.graphics.tsaplots import plot_acf\n",
    "from statsmodels.graphics.tsaplots import plot_pacf\n",
    "plot_acf(kings_ma8_res, lags=20) \n",
    "plot_pacf(kings_ma8_res, lags=16)"
   ]
  },
  {
   "cell_type": "code",
   "execution_count": 34,
   "id": "2481bc8e",
   "metadata": {},
   "outputs": [
    {
     "data": {
      "text/html": [
       "<div>\n",
       "<style scoped>\n",
       "    .dataframe tbody tr th:only-of-type {\n",
       "        vertical-align: middle;\n",
       "    }\n",
       "\n",
       "    .dataframe tbody tr th {\n",
       "        vertical-align: top;\n",
       "    }\n",
       "\n",
       "    .dataframe thead th {\n",
       "        text-align: right;\n",
       "    }\n",
       "</style>\n",
       "<table border=\"1\" class=\"dataframe\">\n",
       "  <thead>\n",
       "    <tr style=\"text-align: right;\">\n",
       "      <th></th>\n",
       "      <th>age</th>\n",
       "    </tr>\n",
       "  </thead>\n",
       "  <tbody>\n",
       "    <tr>\n",
       "      <th>7</th>\n",
       "      <td>118.265625</td>\n",
       "    </tr>\n",
       "    <tr>\n",
       "      <th>8</th>\n",
       "      <td>165.765625</td>\n",
       "    </tr>\n",
       "    <tr>\n",
       "      <th>9</th>\n",
       "      <td>147.015625</td>\n",
       "    </tr>\n",
       "    <tr>\n",
       "      <th>10</th>\n",
       "      <td>102.515625</td>\n",
       "    </tr>\n",
       "    <tr>\n",
       "      <th>11</th>\n",
       "      <td>356.265625</td>\n",
       "    </tr>\n",
       "    <tr>\n",
       "      <th>12</th>\n",
       "      <td>22.562500</td>\n",
       "    </tr>\n",
       "    <tr>\n",
       "      <th>13</th>\n",
       "      <td>280.562500</td>\n",
       "    </tr>\n",
       "    <tr>\n",
       "      <th>14</th>\n",
       "      <td>2.640625</td>\n",
       "    </tr>\n",
       "    <tr>\n",
       "      <th>15</th>\n",
       "      <td>43.890625</td>\n",
       "    </tr>\n",
       "    <tr>\n",
       "      <th>16</th>\n",
       "      <td>770.062500</td>\n",
       "    </tr>\n",
       "  </tbody>\n",
       "</table>\n",
       "</div>"
      ],
      "text/plain": [
       "           age\n",
       "7   118.265625\n",
       "8   165.765625\n",
       "9   147.015625\n",
       "10  102.515625\n",
       "11  356.265625\n",
       "12   22.562500\n",
       "13  280.562500\n",
       "14    2.640625\n",
       "15   43.890625\n",
       "16  770.062500"
      ]
     },
     "execution_count": 34,
     "metadata": {},
     "output_type": "execute_result"
    }
   ],
   "source": [
    "#Squaring residuals/ errors\n",
    "kings_ma8_se = pow(kings_ma8_res,2)\n",
    "kings_ma8_se.head(10)"
   ]
  },
  {
   "cell_type": "code",
   "execution_count": 35,
   "id": "f4d021b0",
   "metadata": {},
   "outputs": [
    {
     "data": {
      "text/plain": [
       "35"
      ]
     },
     "execution_count": 35,
     "metadata": {},
     "output_type": "execute_result"
    }
   ],
   "source": [
    "#Dropping na's ie the fist row\n",
    "kings_ma8_se = kings_ma8_se.dropna()\n",
    "len(kings_ma8_se) #35"
   ]
  },
  {
   "cell_type": "code",
   "execution_count": 36,
   "id": "3b80c50b",
   "metadata": {},
   "outputs": [
    {
     "name": "stdout",
     "output_type": "stream",
     "text": [
      "age    128.752778\n",
      "dtype: float64\n"
     ]
    }
   ],
   "source": [
    "#average/mean of squared residuals/ errors\n",
    "kings_ma8_mse = (kings_ma8_se.sum())/len(kings_ma8_se)\n",
    "print(kings_ma3_mse) #128.752778"
   ]
  },
  {
   "cell_type": "code",
   "execution_count": 37,
   "id": "a3191eff",
   "metadata": {},
   "outputs": [
    {
     "name": "stdout",
     "output_type": "stream",
     "text": [
      "14.393373351253397\n"
     ]
    }
   ],
   "source": [
    "#Root of average/mean of squared residuals/ errors\n",
    "kings_ma8_rmse = sqrt(kings_ma8_mse) \n",
    "print(kings_ma8_rmse) #14.393373351253397\n"
   ]
  },
  {
   "cell_type": "code",
   "execution_count": 38,
   "id": "c63e68e3",
   "metadata": {},
   "outputs": [
    {
     "name": "stdout",
     "output_type": "stream",
     "text": [
      "14.393373351253397\n"
     ]
    }
   ],
   "source": [
    "#Another method to find RMSE\n",
    "kings_ma8 = kings.rolling(window=8).mean()\n",
    "kings_ma8 = kings_ma8.dropna()\n",
    "ma8_rmse = sqrt(mean_squared_error(kings[7:],kings_ma8))\n",
    "print(ma8_rmse) #14.393373351253397"
   ]
  },
  {
   "cell_type": "code",
   "execution_count": 39,
   "id": "549bad30",
   "metadata": {},
   "outputs": [
    {
     "data": {
      "text/html": [
       "<table class=\"simpletable\">\n",
       "<caption>SARIMAX Results</caption>\n",
       "<tr>\n",
       "  <th>Dep. Variable:</th>          <td>age</td>       <th>  No. Observations:  </th>    <td>42</td>   \n",
       "</tr>\n",
       "<tr>\n",
       "  <th>Model:</th>            <td>ARIMA(0, 0, 3)</td>  <th>  Log Likelihood     </th> <td>-173.643</td>\n",
       "</tr>\n",
       "<tr>\n",
       "  <th>Date:</th>            <td>Sun, 05 Sep 2021</td> <th>  AIC                </th>  <td>357.286</td>\n",
       "</tr>\n",
       "<tr>\n",
       "  <th>Time:</th>                <td>12:52:04</td>     <th>  BIC                </th>  <td>365.974</td>\n",
       "</tr>\n",
       "<tr>\n",
       "  <th>Sample:</th>                  <td>0</td>        <th>  HQIC               </th>  <td>360.470</td>\n",
       "</tr>\n",
       "<tr>\n",
       "  <th></th>                       <td> - 42</td>      <th>                     </th>     <td> </td>   \n",
       "</tr>\n",
       "<tr>\n",
       "  <th>Covariance Type:</th>        <td>opg</td>       <th>                     </th>     <td> </td>   \n",
       "</tr>\n",
       "</table>\n",
       "<table class=\"simpletable\">\n",
       "<tr>\n",
       "     <td></td>       <th>coef</th>     <th>std err</th>      <th>z</th>      <th>P>|z|</th>  <th>[0.025</th>    <th>0.975]</th>  \n",
       "</tr>\n",
       "<tr>\n",
       "  <th>const</th>  <td>   55.3010</td> <td>    4.155</td> <td>   13.310</td> <td> 0.000</td> <td>   47.158</td> <td>   63.444</td>\n",
       "</tr>\n",
       "<tr>\n",
       "  <th>ma.L1</th>  <td>    0.3525</td> <td>    0.256</td> <td>    1.375</td> <td> 0.169</td> <td>   -0.150</td> <td>    0.855</td>\n",
       "</tr>\n",
       "<tr>\n",
       "  <th>ma.L2</th>  <td>    0.1218</td> <td>    0.197</td> <td>    0.617</td> <td> 0.537</td> <td>   -0.265</td> <td>    0.509</td>\n",
       "</tr>\n",
       "<tr>\n",
       "  <th>ma.L3</th>  <td>    0.0434</td> <td>    0.194</td> <td>    0.224</td> <td> 0.823</td> <td>   -0.336</td> <td>    0.423</td>\n",
       "</tr>\n",
       "<tr>\n",
       "  <th>sigma2</th> <td>  227.6143</td> <td>   58.406</td> <td>    3.897</td> <td> 0.000</td> <td>  113.140</td> <td>  342.089</td>\n",
       "</tr>\n",
       "</table>\n",
       "<table class=\"simpletable\">\n",
       "<tr>\n",
       "  <th>Ljung-Box (L1) (Q):</th>     <td>0.02</td> <th>  Jarque-Bera (JB):  </th> <td>2.69</td> \n",
       "</tr>\n",
       "<tr>\n",
       "  <th>Prob(Q):</th>                <td>0.90</td> <th>  Prob(JB):          </th> <td>0.26</td> \n",
       "</tr>\n",
       "<tr>\n",
       "  <th>Heteroskedasticity (H):</th> <td>1.03</td> <th>  Skew:              </th> <td>-0.61</td>\n",
       "</tr>\n",
       "<tr>\n",
       "  <th>Prob(H) (two-sided):</th>    <td>0.96</td> <th>  Kurtosis:          </th> <td>3.19</td> \n",
       "</tr>\n",
       "</table><br/><br/>Warnings:<br/>[1] Covariance matrix calculated using the outer product of gradients (complex-step)."
      ],
      "text/plain": [
       "<class 'statsmodels.iolib.summary.Summary'>\n",
       "\"\"\"\n",
       "                               SARIMAX Results                                \n",
       "==============================================================================\n",
       "Dep. Variable:                    age   No. Observations:                   42\n",
       "Model:                 ARIMA(0, 0, 3)   Log Likelihood                -173.643\n",
       "Date:                Sun, 05 Sep 2021   AIC                            357.286\n",
       "Time:                        12:52:04   BIC                            365.974\n",
       "Sample:                             0   HQIC                           360.470\n",
       "                                 - 42                                         \n",
       "Covariance Type:                  opg                                         \n",
       "==============================================================================\n",
       "                 coef    std err          z      P>|z|      [0.025      0.975]\n",
       "------------------------------------------------------------------------------\n",
       "const         55.3010      4.155     13.310      0.000      47.158      63.444\n",
       "ma.L1          0.3525      0.256      1.375      0.169      -0.150       0.855\n",
       "ma.L2          0.1218      0.197      0.617      0.537      -0.265       0.509\n",
       "ma.L3          0.0434      0.194      0.224      0.823      -0.336       0.423\n",
       "sigma2       227.6143     58.406      3.897      0.000     113.140     342.089\n",
       "===================================================================================\n",
       "Ljung-Box (L1) (Q):                   0.02   Jarque-Bera (JB):                 2.69\n",
       "Prob(Q):                              0.90   Prob(JB):                         0.26\n",
       "Heteroskedasticity (H):               1.03   Skew:                            -0.61\n",
       "Prob(H) (two-sided):                  0.96   Kurtosis:                         3.19\n",
       "===================================================================================\n",
       "\n",
       "Warnings:\n",
       "[1] Covariance matrix calculated using the outer product of gradients (complex-step).\n",
       "\"\"\""
      ]
     },
     "execution_count": 39,
     "metadata": {},
     "output_type": "execute_result"
    }
   ],
   "source": [
    "#_______________________Predicting with Moving average using Arima \n",
    "from statsmodels.tsa.arima.model import ARIMA\n",
    "kings_ma_model = ARIMA(kings, order=(0,0,3)).fit()\n",
    "kings_ma_model.summary()"
   ]
  },
  {
   "cell_type": "code",
   "execution_count": 40,
   "id": "3c0deb6e",
   "metadata": {},
   "outputs": [],
   "source": [
    "#SARIMAX = Seasonal Auto Regressive Integrated Moving Average with Exogeneous Regressors"
   ]
  },
  {
   "cell_type": "code",
   "execution_count": 41,
   "id": "4eb5fd3d",
   "metadata": {},
   "outputs": [
    {
     "data": {
      "text/plain": [
       "pandas.core.series.Series"
      ]
     },
     "execution_count": 41,
     "metadata": {},
     "output_type": "execute_result"
    }
   ],
   "source": [
    "#Prediction\n",
    "kings_ma_pred = kings_ma_model.forecast(10)\n",
    "type(kings_ma_pred)"
   ]
  },
  {
   "cell_type": "code",
   "execution_count": 42,
   "id": "fcadb539",
   "metadata": {},
   "outputs": [
    {
     "data": {
      "text/html": [
       "<div>\n",
       "<style scoped>\n",
       "    .dataframe tbody tr th:only-of-type {\n",
       "        vertical-align: middle;\n",
       "    }\n",
       "\n",
       "    .dataframe tbody tr th {\n",
       "        vertical-align: top;\n",
       "    }\n",
       "\n",
       "    .dataframe thead th {\n",
       "        text-align: right;\n",
       "    }\n",
       "</style>\n",
       "<table border=\"1\" class=\"dataframe\">\n",
       "  <thead>\n",
       "    <tr style=\"text-align: right;\">\n",
       "      <th></th>\n",
       "      <th>predicted_mean</th>\n",
       "    </tr>\n",
       "  </thead>\n",
       "  <tbody>\n",
       "    <tr>\n",
       "      <th>42</th>\n",
       "      <td>55.451151</td>\n",
       "    </tr>\n",
       "    <tr>\n",
       "      <th>43</th>\n",
       "      <td>55.219174</td>\n",
       "    </tr>\n",
       "    <tr>\n",
       "      <th>44</th>\n",
       "      <td>55.014224</td>\n",
       "    </tr>\n",
       "    <tr>\n",
       "      <th>45</th>\n",
       "      <td>55.301029</td>\n",
       "    </tr>\n",
       "    <tr>\n",
       "      <th>46</th>\n",
       "      <td>55.301029</td>\n",
       "    </tr>\n",
       "    <tr>\n",
       "      <th>47</th>\n",
       "      <td>55.301029</td>\n",
       "    </tr>\n",
       "    <tr>\n",
       "      <th>48</th>\n",
       "      <td>55.301029</td>\n",
       "    </tr>\n",
       "    <tr>\n",
       "      <th>49</th>\n",
       "      <td>55.301029</td>\n",
       "    </tr>\n",
       "    <tr>\n",
       "      <th>50</th>\n",
       "      <td>55.301029</td>\n",
       "    </tr>\n",
       "    <tr>\n",
       "      <th>51</th>\n",
       "      <td>55.301029</td>\n",
       "    </tr>\n",
       "  </tbody>\n",
       "</table>\n",
       "</div>"
      ],
      "text/plain": [
       "    predicted_mean\n",
       "42       55.451151\n",
       "43       55.219174\n",
       "44       55.014224\n",
       "45       55.301029\n",
       "46       55.301029\n",
       "47       55.301029\n",
       "48       55.301029\n",
       "49       55.301029\n",
       "50       55.301029\n",
       "51       55.301029"
      ]
     },
     "execution_count": 42,
     "metadata": {},
     "output_type": "execute_result"
    }
   ],
   "source": [
    "#Converting series to data frame\n",
    "kings_ma_pred = pd.DataFrame(kings_ma_pred)\n",
    "kings_ma_pred\n"
   ]
  },
  {
   "cell_type": "code",
   "execution_count": 43,
   "id": "5af67856",
   "metadata": {},
   "outputs": [
    {
     "data": {
      "image/png": "[encoded data removed]",
      "text/plain": [
       "<Figure size 432x288 with 1 Axes>"
      ]
     },
     "metadata": {
      "needs_background": "light"
     },
     "output_type": "display_data"
    }
   ],
   "source": [
    "#Plot\n",
    "plt.plot(kings)\n",
    "plt.plot(kings_ma_pred)\n",
    "plt.legend(['Actual','Forecast'], bbox_to_anchor=(1, 1), loc=2)\n",
    "plt.show()\n"
   ]
  },
  {
   "cell_type": "code",
   "execution_count": 44,
   "id": "830402fa",
   "metadata": {},
   "outputs": [],
   "source": [
    "#Applying autoarima\n",
    "#!pip install pmdarima\n"
   ]
  },
  {
   "cell_type": "code",
   "execution_count": 45,
   "id": "88445a27",
   "metadata": {},
   "outputs": [
    {
     "name": "stdout",
     "output_type": "stream",
     "text": [
      "Requirement already satisfied: pmdarima in c:\\users\\suresh a\\appdata\\roaming\\python\\python38\\site-packages (1.8.2)\n",
      "Requirement already satisfied: setuptools!=50.0.0,>=38.6.0 in c:\\program files\\ancondapython\\lib\\site-packages (from pmdarima) (52.0.0.post20210125)\n",
      "Requirement already satisfied: scikit-learn>=0.22 in c:\\program files\\ancondapython\\lib\\site-packages (from pmdarima) (0.24.1)\n",
      "Requirement already satisfied: pandas>=0.19 in c:\\program files\\ancondapython\\lib\\site-packages (from pmdarima) (1.2.4)\n",
      "Requirement already satisfied: urllib3 in c:\\program files\\ancondapython\\lib\\site-packages (from pmdarima) (1.26.4)\n",
      "Requirement already satisfied: Cython!=0.29.18,>=0.29 in c:\\program files\\ancondapython\\lib\\site-packages (from pmdarima) (0.29.23)\n",
      "Requirement already satisfied: statsmodels!=0.12.0,>=0.11 in c:\\program files\\ancondapython\\lib\\site-packages (from pmdarima) (0.12.2)\n",
      "Requirement already satisfied: scipy>=1.3.2 in c:\\program files\\ancondapython\\lib\\site-packages (from pmdarima) (1.6.2)\n",
      "Requirement already satisfied: numpy~=1.19.0 in c:\\users\\suresh a\\appdata\\roaming\\python\\python38\\site-packages (from pmdarima) (1.19.5)\n",
      "Requirement already satisfied: joblib>=0.11 in c:\\program files\\ancondapython\\lib\\site-packages (from pmdarima) (1.0.1)\n",
      "Requirement already satisfied: pytz>=2017.3 in c:\\program files\\ancondapython\\lib\\site-packages (from pandas>=0.19->pmdarima) (2021.1)\n",
      "Requirement already satisfied: python-dateutil>=2.7.3 in c:\\program files\\ancondapython\\lib\\site-packages (from pandas>=0.19->pmdarima) (2.8.1)\n",
      "Requirement already satisfied: six>=1.5 in c:\\program files\\ancondapython\\lib\\site-packages (from python-dateutil>=2.7.3->pandas>=0.19->pmdarima) (1.15.0)\n",
      "Requirement already satisfied: threadpoolctl>=2.0.0 in c:\\program files\\ancondapython\\lib\\site-packages (from scikit-learn>=0.22->pmdarima) (2.1.0)\n",
      "Requirement already satisfied: patsy>=0.5 in c:\\program files\\ancondapython\\lib\\site-packages (from statsmodels!=0.12.0,>=0.11->pmdarima) (0.5.1)\n"
     ]
    }
   ],
   "source": [
    "!pip install --user pmdarima"
   ]
  },
  {
   "cell_type": "code",
   "execution_count": 46,
   "id": "e87ec60b",
   "metadata": {},
   "outputs": [
    {
     "data": {
      "text/html": [
       "<table class=\"simpletable\">\n",
       "<caption>SARIMAX Results</caption>\n",
       "<tr>\n",
       "  <th>Dep. Variable:</th>           <td>y</td>        <th>  No. Observations:  </th>    <td>42</td>   \n",
       "</tr>\n",
       "<tr>\n",
       "  <th>Model:</th>           <td>SARIMAX(0, 1, 1)</td> <th>  Log Likelihood     </th> <td>-170.064</td>\n",
       "</tr>\n",
       "<tr>\n",
       "  <th>Date:</th>            <td>Sun, 05 Sep 2021</td> <th>  AIC                </th>  <td>344.127</td>\n",
       "</tr>\n",
       "<tr>\n",
       "  <th>Time:</th>                <td>12:52:22</td>     <th>  BIC                </th>  <td>347.554</td>\n",
       "</tr>\n",
       "<tr>\n",
       "  <th>Sample:</th>                  <td>0</td>        <th>  HQIC               </th>  <td>345.375</td>\n",
       "</tr>\n",
       "<tr>\n",
       "  <th></th>                       <td> - 42</td>      <th>                     </th>     <td> </td>   \n",
       "</tr>\n",
       "<tr>\n",
       "  <th>Covariance Type:</th>        <td>opg</td>       <th>                     </th>     <td> </td>   \n",
       "</tr>\n",
       "</table>\n",
       "<table class=\"simpletable\">\n",
       "<tr>\n",
       "     <td></td>       <th>coef</th>     <th>std err</th>      <th>z</th>      <th>P>|z|</th>  <th>[0.025</th>    <th>0.975]</th>  \n",
       "</tr>\n",
       "<tr>\n",
       "  <th>ma.L1</th>  <td>   -0.7218</td> <td>    0.146</td> <td>   -4.957</td> <td> 0.000</td> <td>   -1.007</td> <td>   -0.436</td>\n",
       "</tr>\n",
       "<tr>\n",
       "  <th>sigma2</th> <td>  230.4371</td> <td>   57.900</td> <td>    3.980</td> <td> 0.000</td> <td>  116.956</td> <td>  343.919</td>\n",
       "</tr>\n",
       "</table>\n",
       "<table class=\"simpletable\">\n",
       "<tr>\n",
       "  <th>Ljung-Box (L1) (Q):</th>     <td>0.12</td> <th>  Jarque-Bera (JB):  </th> <td>0.38</td> \n",
       "</tr>\n",
       "<tr>\n",
       "  <th>Prob(Q):</th>                <td>0.73</td> <th>  Prob(JB):          </th> <td>0.83</td> \n",
       "</tr>\n",
       "<tr>\n",
       "  <th>Heteroskedasticity (H):</th> <td>1.15</td> <th>  Skew:              </th> <td>-0.15</td>\n",
       "</tr>\n",
       "<tr>\n",
       "  <th>Prob(H) (two-sided):</th>    <td>0.80</td> <th>  Kurtosis:          </th> <td>2.64</td> \n",
       "</tr>\n",
       "</table><br/><br/>Warnings:<br/>[1] Covariance matrix calculated using the outer product of gradients (complex-step)."
      ],
      "text/plain": [
       "<class 'statsmodels.iolib.summary.Summary'>\n",
       "\"\"\"\n",
       "                               SARIMAX Results                                \n",
       "==============================================================================\n",
       "Dep. Variable:                      y   No. Observations:                   42\n",
       "Model:               SARIMAX(0, 1, 1)   Log Likelihood                -170.064\n",
       "Date:                Sun, 05 Sep 2021   AIC                            344.127\n",
       "Time:                        12:52:22   BIC                            347.554\n",
       "Sample:                             0   HQIC                           345.375\n",
       "                                 - 42                                         \n",
       "Covariance Type:                  opg                                         \n",
       "==============================================================================\n",
       "                 coef    std err          z      P>|z|      [0.025      0.975]\n",
       "------------------------------------------------------------------------------\n",
       "ma.L1         -0.7218      0.146     -4.957      0.000      -1.007      -0.436\n",
       "sigma2       230.4371     57.900      3.980      0.000     116.956     343.919\n",
       "===================================================================================\n",
       "Ljung-Box (L1) (Q):                   0.12   Jarque-Bera (JB):                 0.38\n",
       "Prob(Q):                              0.73   Prob(JB):                         0.83\n",
       "Heteroskedasticity (H):               1.15   Skew:                            -0.15\n",
       "Prob(H) (two-sided):                  0.80   Kurtosis:                         2.64\n",
       "===================================================================================\n",
       "\n",
       "Warnings:\n",
       "[1] Covariance matrix calculated using the outer product of gradients (complex-step).\n",
       "\"\"\""
      ]
     },
     "execution_count": 46,
     "metadata": {},
     "output_type": "execute_result"
    }
   ],
   "source": [
    "from pmdarima import auto_arima\n",
    "model_autoarima = auto_arima(kings) \n",
    "model_autoarima.summary()"
   ]
  },
  {
   "cell_type": "code",
   "execution_count": 47,
   "id": "930d9a13",
   "metadata": {},
   "outputs": [],
   "source": [
    "#Prediction\n",
    "kings_pred = model_autoarima.predict(n_periods=10)\n",
    "kings_pred\n",
    "#kings_pred = pd.DataFrame(kings_pred); need to put index\n",
    "kings_pred = pd.DataFrame(kings_pred, index=(np.arange(41,51,1)))\n",
    "#Plot"
   ]
  },
  {
   "cell_type": "code",
   "execution_count": 48,
   "id": "f8828f24",
   "metadata": {},
   "outputs": [
    {
     "data": {
      "image/png": "[encoded data removed]",
      "text/plain": [
       "<Figure size 432x288 with 1 Axes>"
      ]
     },
     "metadata": {
      "needs_background": "light"
     },
     "output_type": "display_data"
    }
   ],
   "source": [
    "plt.plot(kings)\n",
    "plt.plot(kings_pred)\n",
    "plt.legend(['Actual','Prediction'], bbox_to_anchor=(1, 1))\n",
    "plt.show()"
   ]
  }
 ],
 "metadata": {
  "kernelspec": {
   "display_name": "Python 3",
   "language": "python",
   "name": "python3"
  },
  "language_info": {
   "codemirror_mode": {
    "name": "ipython",
    "version": 3
   },
   "file_extension": ".py",
   "mimetype": "text/x-python",
   "name": "python",
   "nbconvert_exporter": "python",
   "pygments_lexer": "ipython3",
   "version": "3.8.8"
  }
 },
 "nbformat": 4,
 "nbformat_minor": 5
}
