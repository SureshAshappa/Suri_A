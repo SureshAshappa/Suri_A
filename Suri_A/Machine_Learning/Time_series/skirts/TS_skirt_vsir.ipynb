{
 "cells": [
  {
   "cell_type": "code",
   "execution_count": 1,
   "id": "d2f24ceb",
   "metadata": {},
   "outputs": [],
   "source": [
    "import pandas as pd \n",
    "pd.set_option('display.max_columns', None)\n",
    "import numpy as np \n",
    "import matplotlib.pyplot as plt \n",
    "import statsmodels.api as sm\n",
    "import statsmodels.formula.api as smf\n",
    "from statsmodels.tsa.stattools import adfuller\n",
    "%matplotlib inline\n",
    "from math import sqrt\n",
    "from statsmodels.tsa.arima_model import ARIMA\n",
    "from sklearn.metrics import mean_squared_error"
   ]
  },
  {
   "cell_type": "code",
   "execution_count": 2,
   "id": "7f00efd6",
   "metadata": {},
   "outputs": [
    {
     "name": "stdout",
     "output_type": "stream",
     "text": [
      "<class 'pandas.core.frame.DataFrame'>\n",
      "DatetimeIndex: 46 entries, 1866-01-01 to 1911-01-01\n",
      "Data columns (total 2 columns):\n",
      " #   Column  Non-Null Count  Dtype\n",
      "---  ------  --------------  -----\n",
      " 0   obsno   46 non-null     int64\n",
      " 1   diam    46 non-null     int64\n",
      "dtypes: int64(2)\n",
      "memory usage: 1.1 KB\n"
     ]
    }
   ],
   "source": [
    "skirts = pd.read_csv('skirts.csv', index_col=[1], parse_dates=True)\n",
    "skirts.info()"
   ]
  },
  {
   "cell_type": "code",
   "execution_count": 3,
   "id": "39970c20",
   "metadata": {},
   "outputs": [
    {
     "data": {
      "text/html": [
       "<div>\n",
       "<style scoped>\n",
       "    .dataframe tbody tr th:only-of-type {\n",
       "        vertical-align: middle;\n",
       "    }\n",
       "\n",
       "    .dataframe tbody tr th {\n",
       "        vertical-align: top;\n",
       "    }\n",
       "\n",
       "    .dataframe thead th {\n",
       "        text-align: right;\n",
       "    }\n",
       "</style>\n",
       "<table border=\"1\" class=\"dataframe\">\n",
       "  <thead>\n",
       "    <tr style=\"text-align: right;\">\n",
       "      <th></th>\n",
       "      <th>diam</th>\n",
       "    </tr>\n",
       "    <tr>\n",
       "      <th>year</th>\n",
       "      <th></th>\n",
       "    </tr>\n",
       "  </thead>\n",
       "  <tbody>\n",
       "    <tr>\n",
       "      <th>1866-01-01</th>\n",
       "      <td>608</td>\n",
       "    </tr>\n",
       "    <tr>\n",
       "      <th>1867-01-01</th>\n",
       "      <td>617</td>\n",
       "    </tr>\n",
       "    <tr>\n",
       "      <th>1868-01-01</th>\n",
       "      <td>625</td>\n",
       "    </tr>\n",
       "    <tr>\n",
       "      <th>1869-01-01</th>\n",
       "      <td>636</td>\n",
       "    </tr>\n",
       "    <tr>\n",
       "      <th>1870-01-01</th>\n",
       "      <td>657</td>\n",
       "    </tr>\n",
       "  </tbody>\n",
       "</table>\n",
       "</div>"
      ],
      "text/plain": [
       "            diam\n",
       "year            \n",
       "1866-01-01   608\n",
       "1867-01-01   617\n",
       "1868-01-01   625\n",
       "1869-01-01   636\n",
       "1870-01-01   657"
      ]
     },
     "execution_count": 3,
     "metadata": {},
     "output_type": "execute_result"
    }
   ],
   "source": [
    "skirts = skirts.drop('obsno', axis=1)\n",
    "skirts.head()"
   ]
  },
  {
   "cell_type": "code",
   "execution_count": 4,
   "id": "f66e8d1f",
   "metadata": {},
   "outputs": [
    {
     "data": {
      "text/html": [
       "<div>\n",
       "<style scoped>\n",
       "    .dataframe tbody tr th:only-of-type {\n",
       "        vertical-align: middle;\n",
       "    }\n",
       "\n",
       "    .dataframe tbody tr th {\n",
       "        vertical-align: top;\n",
       "    }\n",
       "\n",
       "    .dataframe thead th {\n",
       "        text-align: right;\n",
       "    }\n",
       "</style>\n",
       "<table border=\"1\" class=\"dataframe\">\n",
       "  <thead>\n",
       "    <tr style=\"text-align: right;\">\n",
       "      <th></th>\n",
       "      <th>diam</th>\n",
       "    </tr>\n",
       "  </thead>\n",
       "  <tbody>\n",
       "    <tr>\n",
       "      <th>count</th>\n",
       "      <td>46.000000</td>\n",
       "    </tr>\n",
       "    <tr>\n",
       "      <th>mean</th>\n",
       "      <td>759.260870</td>\n",
       "    </tr>\n",
       "    <tr>\n",
       "      <th>std</th>\n",
       "      <td>179.202856</td>\n",
       "    </tr>\n",
       "    <tr>\n",
       "      <th>min</th>\n",
       "      <td>523.000000</td>\n",
       "    </tr>\n",
       "    <tr>\n",
       "      <th>25%</th>\n",
       "      <td>593.000000</td>\n",
       "    </tr>\n",
       "    <tr>\n",
       "      <th>50%</th>\n",
       "      <td>765.000000</td>\n",
       "    </tr>\n",
       "    <tr>\n",
       "      <th>75%</th>\n",
       "      <td>909.750000</td>\n",
       "    </tr>\n",
       "    <tr>\n",
       "      <th>max</th>\n",
       "      <td>1049.000000</td>\n",
       "    </tr>\n",
       "  </tbody>\n",
       "</table>\n",
       "</div>"
      ],
      "text/plain": [
       "              diam\n",
       "count    46.000000\n",
       "mean    759.260870\n",
       "std     179.202856\n",
       "min     523.000000\n",
       "25%     593.000000\n",
       "50%     765.000000\n",
       "75%     909.750000\n",
       "max    1049.000000"
      ]
     },
     "execution_count": 4,
     "metadata": {},
     "output_type": "execute_result"
    }
   ],
   "source": [
    "skirts.tail()\n",
    "skirts.describe()"
   ]
  },
  {
   "cell_type": "code",
   "execution_count": 5,
   "id": "96a42075",
   "metadata": {},
   "outputs": [
    {
     "data": {
      "text/plain": [
       "Text(0.5, 1.0, 'Data = Skirts')"
      ]
     },
     "execution_count": 5,
     "metadata": {},
     "output_type": "execute_result"
    },
    {
     "data": {
      "image/png": "[encoded data removed]",
      "text/plain": [
       "<Figure size 432x288 with 1 Axes>"
      ]
     },
     "metadata": {
      "needs_background": "light"
     },
     "output_type": "display_data"
    }
   ],
   "source": [
    "#Lineplot\n",
    "skirts.plot()\n",
    "plt.title('Data = Skirts')\n"
   ]
  },
  {
   "cell_type": "code",
   "execution_count": 6,
   "id": "c84a8a07",
   "metadata": {},
   "outputs": [
    {
     "data": {
      "text/plain": [
       "Text(0.5, 1.0, 'Histogram of Skirts Data')"
      ]
     },
     "execution_count": 6,
     "metadata": {},
     "output_type": "execute_result"
    },
    {
     "data": {
      "image/png": "[encoded data removed]",
      "text/plain": [
       "<Figure size 432x288 with 1 Axes>"
      ]
     },
     "metadata": {
      "needs_background": "light"
     },
     "output_type": "display_data"
    }
   ],
   "source": [
    "#Histogram\n",
    "skirts.plot(kind='hist')\n",
    "plt.title('Histogram of Skirts Data')"
   ]
  },
  {
   "cell_type": "code",
   "execution_count": 7,
   "id": "efd4e779",
   "metadata": {},
   "outputs": [
    {
     "data": {
      "text/plain": [
       "Text(0.5, 1.0, 'Density plot of skirts Data')"
      ]
     },
     "execution_count": 7,
     "metadata": {},
     "output_type": "execute_result"
    },
    {
     "data": {
      "image/png": "[encoded data removed]",
      "text/plain": [
       "<Figure size 432x288 with 1 Axes>"
      ]
     },
     "metadata": {
      "needs_background": "light"
     },
     "output_type": "display_data"
    }
   ],
   "source": [
    "#Density plot\n",
    "skirts.plot(kind='kde')\n",
    "plt.title('Density plot of skirts Data')\n"
   ]
  },
  {
   "cell_type": "code",
   "execution_count": 8,
   "id": "c66d24ba",
   "metadata": {},
   "outputs": [
    {
     "data": {
      "text/plain": [
       "Text(0.5, 1.0, 'Boxplot of Skirts Data')"
      ]
     },
     "execution_count": 8,
     "metadata": {},
     "output_type": "execute_result"
    },
    {
     "data": {
      "image/png": "[encoded data removed]",
      "text/plain": [
       "<Figure size 432x288 with 1 Axes>"
      ]
     },
     "metadata": {
      "needs_background": "light"
     },
     "output_type": "display_data"
    }
   ],
   "source": [
    "#Boxplot\n",
    "props2 = dict(boxes = 'red', whiskers ='green', medians = 'black', caps = 'blue')\n",
    "skirts.plot.box(color = props2 , patch_artist = True, vert = False)\n",
    "plt.title('Boxplot of Skirts Data')\n"
   ]
  },
  {
   "cell_type": "code",
   "execution_count": 9,
   "id": "5986550d",
   "metadata": {},
   "outputs": [
    {
     "data": {
      "text/plain": [
       "year\n",
       "1866-01-01    1.0\n",
       "1867-01-01    1.0\n",
       "1868-01-01    1.0\n",
       "1869-01-01    1.0\n",
       "1870-01-01    1.0\n",
       "1871-01-01    1.0\n",
       "1872-01-01    1.0\n",
       "1873-01-01    1.0\n",
       "1874-01-01    1.0\n",
       "1875-01-01    1.0\n",
       "1876-01-01    1.0\n",
       "1877-01-01    1.0\n",
       "1878-01-01    1.0\n",
       "1879-01-01    1.0\n",
       "1880-01-01    1.0\n",
       "1881-01-01    1.0\n",
       "1882-01-01    1.0\n",
       "1883-01-01    1.0\n",
       "1884-01-01    1.0\n",
       "1885-01-01    1.0\n",
       "1886-01-01    1.0\n",
       "1887-01-01    1.0\n",
       "1888-01-01    1.0\n",
       "1889-01-01    1.0\n",
       "1890-01-01    1.0\n",
       "1891-01-01    1.0\n",
       "1892-01-01    1.0\n",
       "1893-01-01    1.0\n",
       "1894-01-01    1.0\n",
       "1895-01-01    1.0\n",
       "1896-01-01    1.0\n",
       "1897-01-01    1.0\n",
       "1898-01-01    1.0\n",
       "1899-01-01    1.0\n",
       "1900-01-01    1.0\n",
       "1901-01-01    1.0\n",
       "1902-01-01    1.0\n",
       "1903-01-01    1.0\n",
       "1904-01-01    1.0\n",
       "1905-01-01    1.0\n",
       "1906-01-01    1.0\n",
       "1907-01-01    1.0\n",
       "1908-01-01    1.0\n",
       "1909-01-01    1.0\n",
       "1910-01-01    1.0\n",
       "1911-01-01    1.0\n",
       "Name: resid, dtype: float64"
      ]
     },
     "execution_count": 9,
     "metadata": {},
     "output_type": "execute_result"
    },
    {
     "data": {
      "image/png": "[encoded data removed]",
      "text/plain": [
       "<Figure size 432x288 with 4 Axes>"
      ]
     },
     "metadata": {
      "needs_background": "light"
     },
     "output_type": "display_data"
    }
   ],
   "source": [
    "#Decompose with multiplicative model\n",
    "from statsmodels.tsa.seasonal import seasonal_decompose\n",
    "skirts_decomp_m = seasonal_decompose(skirts, model='mul')\n",
    "skirts_decomp_m.plot() #No Trend & no seasonality\n",
    "skirts_decomp_m.observed\n",
    "skirts_decomp_m.trend\n",
    "skirts_decomp_m.seasonal\n",
    "skirts_decomp_m.resid"
   ]
  },
  {
   "cell_type": "code",
   "execution_count": 10,
   "id": "43b8c8dc",
   "metadata": {},
   "outputs": [
    {
     "data": {
      "text/plain": [
       "year\n",
       "1866-01-01    0.0\n",
       "1867-01-01    0.0\n",
       "1868-01-01    0.0\n",
       "1869-01-01    0.0\n",
       "1870-01-01    0.0\n",
       "1871-01-01    0.0\n",
       "1872-01-01    0.0\n",
       "1873-01-01    0.0\n",
       "1874-01-01    0.0\n",
       "1875-01-01    0.0\n",
       "1876-01-01    0.0\n",
       "1877-01-01    0.0\n",
       "1878-01-01    0.0\n",
       "1879-01-01    0.0\n",
       "1880-01-01    0.0\n",
       "1881-01-01    0.0\n",
       "1882-01-01    0.0\n",
       "1883-01-01    0.0\n",
       "1884-01-01    0.0\n",
       "1885-01-01    0.0\n",
       "1886-01-01    0.0\n",
       "1887-01-01    0.0\n",
       "1888-01-01    0.0\n",
       "1889-01-01    0.0\n",
       "1890-01-01    0.0\n",
       "1891-01-01    0.0\n",
       "1892-01-01    0.0\n",
       "1893-01-01    0.0\n",
       "1894-01-01    0.0\n",
       "1895-01-01    0.0\n",
       "1896-01-01    0.0\n",
       "1897-01-01    0.0\n",
       "1898-01-01    0.0\n",
       "1899-01-01    0.0\n",
       "1900-01-01    0.0\n",
       "1901-01-01    0.0\n",
       "1902-01-01    0.0\n",
       "1903-01-01    0.0\n",
       "1904-01-01    0.0\n",
       "1905-01-01    0.0\n",
       "1906-01-01    0.0\n",
       "1907-01-01    0.0\n",
       "1908-01-01    0.0\n",
       "1909-01-01    0.0\n",
       "1910-01-01    0.0\n",
       "1911-01-01    0.0\n",
       "Name: resid, dtype: float64"
      ]
     },
     "execution_count": 10,
     "metadata": {},
     "output_type": "execute_result"
    },
    {
     "data": {
      "image/png": "[encoded data removed]",
      "text/plain": [
       "<Figure size 432x288 with 4 Axes>"
      ]
     },
     "metadata": {
      "needs_background": "light"
     },
     "output_type": "display_data"
    }
   ],
   "source": [
    "#Decompose with additive model\n",
    "from statsmodels.tsa.seasonal import seasonal_decompose\n",
    "skirts_decomp_a = seasonal_decompose(skirts, model='add')\n",
    "skirts_decomp_a.plot() #No Trend & no seasonality\n",
    "skirts_decomp_a.observed\n",
    "skirts_decomp_a.trend\n",
    "skirts_decomp_a.seasonal\n",
    "skirts_decomp_a.resid"
   ]
  },
  {
   "cell_type": "code",
   "execution_count": 11,
   "id": "1750759e",
   "metadata": {},
   "outputs": [],
   "source": [
    "#Test for stationarity\n",
    "from statsmodels.tsa.stattools import adfuller\n",
    "skirts_adf = adfuller(skirts)\n"
   ]
  },
  {
   "cell_type": "code",
   "execution_count": 12,
   "id": "3ee0b3b8",
   "metadata": {},
   "outputs": [
    {
     "name": "stdout",
     "output_type": "stream",
     "text": [
      "ADF Statistic: -1.917555\n",
      "p-value: 0.323848\n",
      "Critical Values:\n",
      "\t1%: -3.616\n",
      "\t5%: -2.941\n",
      "\t10%: -2.609\n"
     ]
    }
   ],
   "source": [
    "print('ADF Statistic: %f' % skirts_adf[0])\n",
    "print('p-value: %f' % skirts_adf[1])\n",
    "print('Critical Values:')\n",
    "for key, value in skirts_adf[4].items():\n",
    "    print('\\t%s: %.3f' % (key, value))"
   ]
  },
  {
   "cell_type": "code",
   "execution_count": 13,
   "id": "8a8f5112",
   "metadata": {},
   "outputs": [],
   "source": [
    "#p-value: 0.323848 ie > 0.5, Null Hypothesis accepted, Data is not stationary\n",
    "#H0: Data is not stationary\n"
   ]
  },
  {
   "cell_type": "code",
   "execution_count": 14,
   "id": "b5a401f1",
   "metadata": {},
   "outputs": [
    {
     "data": {
      "text/plain": [
       "'When data is not stationary, apply differencing and check for stationarity'"
      ]
     },
     "execution_count": 14,
     "metadata": {},
     "output_type": "execute_result"
    }
   ],
   "source": [
    "'''When data is not stationary, apply differencing and check for stationarity'''"
   ]
  },
  {
   "cell_type": "code",
   "execution_count": 15,
   "id": "696e8326",
   "metadata": {},
   "outputs": [
    {
     "data": {
      "text/html": [
       "<div>\n",
       "<style scoped>\n",
       "    .dataframe tbody tr th:only-of-type {\n",
       "        vertical-align: middle;\n",
       "    }\n",
       "\n",
       "    .dataframe tbody tr th {\n",
       "        vertical-align: top;\n",
       "    }\n",
       "\n",
       "    .dataframe thead th {\n",
       "        text-align: right;\n",
       "    }\n",
       "</style>\n",
       "<table border=\"1\" class=\"dataframe\">\n",
       "  <thead>\n",
       "    <tr style=\"text-align: right;\">\n",
       "      <th></th>\n",
       "      <th>diam</th>\n",
       "    </tr>\n",
       "    <tr>\n",
       "      <th>year</th>\n",
       "      <th></th>\n",
       "    </tr>\n",
       "  </thead>\n",
       "  <tbody>\n",
       "    <tr>\n",
       "      <th>1867-01-01</th>\n",
       "      <td>9.0</td>\n",
       "    </tr>\n",
       "    <tr>\n",
       "      <th>1868-01-01</th>\n",
       "      <td>8.0</td>\n",
       "    </tr>\n",
       "    <tr>\n",
       "      <th>1869-01-01</th>\n",
       "      <td>11.0</td>\n",
       "    </tr>\n",
       "    <tr>\n",
       "      <th>1870-01-01</th>\n",
       "      <td>21.0</td>\n",
       "    </tr>\n",
       "    <tr>\n",
       "      <th>1871-01-01</th>\n",
       "      <td>34.0</td>\n",
       "    </tr>\n",
       "    <tr>\n",
       "      <th>1872-01-01</th>\n",
       "      <td>37.0</td>\n",
       "    </tr>\n",
       "    <tr>\n",
       "      <th>1873-01-01</th>\n",
       "      <td>56.0</td>\n",
       "    </tr>\n",
       "    <tr>\n",
       "      <th>1874-01-01</th>\n",
       "      <td>32.0</td>\n",
       "    </tr>\n",
       "    <tr>\n",
       "      <th>1875-01-01</th>\n",
       "      <td>60.0</td>\n",
       "    </tr>\n",
       "    <tr>\n",
       "      <th>1876-01-01</th>\n",
       "      <td>73.0</td>\n",
       "    </tr>\n",
       "    <tr>\n",
       "      <th>1877-01-01</th>\n",
       "      <td>48.0</td>\n",
       "    </tr>\n",
       "    <tr>\n",
       "      <th>1878-01-01</th>\n",
       "      <td>30.0</td>\n",
       "    </tr>\n",
       "    <tr>\n",
       "      <th>1879-01-01</th>\n",
       "      <td>20.0</td>\n",
       "    </tr>\n",
       "    <tr>\n",
       "      <th>1880-01-01</th>\n",
       "      <td>2.0</td>\n",
       "    </tr>\n",
       "    <tr>\n",
       "      <th>1881-01-01</th>\n",
       "      <td>-31.0</td>\n",
       "    </tr>\n",
       "    <tr>\n",
       "      <th>1882-01-01</th>\n",
       "      <td>3.0</td>\n",
       "    </tr>\n",
       "    <tr>\n",
       "      <th>1883-01-01</th>\n",
       "      <td>-9.0</td>\n",
       "    </tr>\n",
       "    <tr>\n",
       "      <th>1884-01-01</th>\n",
       "      <td>6.0</td>\n",
       "    </tr>\n",
       "    <tr>\n",
       "      <th>1885-01-01</th>\n",
       "      <td>-27.0</td>\n",
       "    </tr>\n",
       "    <tr>\n",
       "      <th>1886-01-01</th>\n",
       "      <td>-29.0</td>\n",
       "    </tr>\n",
       "    <tr>\n",
       "      <th>1887-01-01</th>\n",
       "      <td>-41.0</td>\n",
       "    </tr>\n",
       "    <tr>\n",
       "      <th>1888-01-01</th>\n",
       "      <td>-50.0</td>\n",
       "    </tr>\n",
       "    <tr>\n",
       "      <th>1889-01-01</th>\n",
       "      <td>-42.0</td>\n",
       "    </tr>\n",
       "    <tr>\n",
       "      <th>1890-01-01</th>\n",
       "      <td>-7.0</td>\n",
       "    </tr>\n",
       "    <tr>\n",
       "      <th>1891-01-01</th>\n",
       "      <td>-2.0</td>\n",
       "    </tr>\n",
       "    <tr>\n",
       "      <th>1892-01-01</th>\n",
       "      <td>-18.0</td>\n",
       "    </tr>\n",
       "    <tr>\n",
       "      <th>1893-01-01</th>\n",
       "      <td>19.0</td>\n",
       "    </tr>\n",
       "    <tr>\n",
       "      <th>1894-01-01</th>\n",
       "      <td>-2.0</td>\n",
       "    </tr>\n",
       "    <tr>\n",
       "      <th>1895-01-01</th>\n",
       "      <td>-28.0</td>\n",
       "    </tr>\n",
       "    <tr>\n",
       "      <th>1896-01-01</th>\n",
       "      <td>-45.0</td>\n",
       "    </tr>\n",
       "    <tr>\n",
       "      <th>1897-01-01</th>\n",
       "      <td>-20.0</td>\n",
       "    </tr>\n",
       "    <tr>\n",
       "      <th>1898-01-01</th>\n",
       "      <td>-65.0</td>\n",
       "    </tr>\n",
       "    <tr>\n",
       "      <th>1899-01-01</th>\n",
       "      <td>-41.0</td>\n",
       "    </tr>\n",
       "    <tr>\n",
       "      <th>1900-01-01</th>\n",
       "      <td>-32.0</td>\n",
       "    </tr>\n",
       "    <tr>\n",
       "      <th>1901-01-01</th>\n",
       "      <td>-20.0</td>\n",
       "    </tr>\n",
       "    <tr>\n",
       "      <th>1902-01-01</th>\n",
       "      <td>-26.0</td>\n",
       "    </tr>\n",
       "    <tr>\n",
       "      <th>1903-01-01</th>\n",
       "      <td>9.0</td>\n",
       "    </tr>\n",
       "    <tr>\n",
       "      <th>1904-01-01</th>\n",
       "      <td>-10.0</td>\n",
       "    </tr>\n",
       "    <tr>\n",
       "      <th>1905-01-01</th>\n",
       "      <td>16.0</td>\n",
       "    </tr>\n",
       "    <tr>\n",
       "      <th>1906-01-01</th>\n",
       "      <td>-1.0</td>\n",
       "    </tr>\n",
       "    <tr>\n",
       "      <th>1907-01-01</th>\n",
       "      <td>-22.0</td>\n",
       "    </tr>\n",
       "    <tr>\n",
       "      <th>1908-01-01</th>\n",
       "      <td>-6.0</td>\n",
       "    </tr>\n",
       "    <tr>\n",
       "      <th>1909-01-01</th>\n",
       "      <td>1.0</td>\n",
       "    </tr>\n",
       "    <tr>\n",
       "      <th>1910-01-01</th>\n",
       "      <td>-6.0</td>\n",
       "    </tr>\n",
       "    <tr>\n",
       "      <th>1911-01-01</th>\n",
       "      <td>8.0</td>\n",
       "    </tr>\n",
       "  </tbody>\n",
       "</table>\n",
       "</div>"
      ],
      "text/plain": [
       "            diam\n",
       "year            \n",
       "1867-01-01   9.0\n",
       "1868-01-01   8.0\n",
       "1869-01-01  11.0\n",
       "1870-01-01  21.0\n",
       "1871-01-01  34.0\n",
       "1872-01-01  37.0\n",
       "1873-01-01  56.0\n",
       "1874-01-01  32.0\n",
       "1875-01-01  60.0\n",
       "1876-01-01  73.0\n",
       "1877-01-01  48.0\n",
       "1878-01-01  30.0\n",
       "1879-01-01  20.0\n",
       "1880-01-01   2.0\n",
       "1881-01-01 -31.0\n",
       "1882-01-01   3.0\n",
       "1883-01-01  -9.0\n",
       "1884-01-01   6.0\n",
       "1885-01-01 -27.0\n",
       "1886-01-01 -29.0\n",
       "1887-01-01 -41.0\n",
       "1888-01-01 -50.0\n",
       "1889-01-01 -42.0\n",
       "1890-01-01  -7.0\n",
       "1891-01-01  -2.0\n",
       "1892-01-01 -18.0\n",
       "1893-01-01  19.0\n",
       "1894-01-01  -2.0\n",
       "1895-01-01 -28.0\n",
       "1896-01-01 -45.0\n",
       "1897-01-01 -20.0\n",
       "1898-01-01 -65.0\n",
       "1899-01-01 -41.0\n",
       "1900-01-01 -32.0\n",
       "1901-01-01 -20.0\n",
       "1902-01-01 -26.0\n",
       "1903-01-01   9.0\n",
       "1904-01-01 -10.0\n",
       "1905-01-01  16.0\n",
       "1906-01-01  -1.0\n",
       "1907-01-01 -22.0\n",
       "1908-01-01  -6.0\n",
       "1909-01-01   1.0\n",
       "1910-01-01  -6.0\n",
       "1911-01-01   8.0"
      ]
     },
     "execution_count": 15,
     "metadata": {},
     "output_type": "execute_result"
    }
   ],
   "source": [
    "#Differencing @1\n",
    "skirts_diff1 = skirts.diff() #default 1\n",
    "skirts_diff1.head()\n",
    "skirts_diff1 = skirts_diff1.dropna()\n",
    "skirts_diff1\n"
   ]
  },
  {
   "cell_type": "code",
   "execution_count": 16,
   "id": "03901762",
   "metadata": {},
   "outputs": [
    {
     "data": {
      "text/plain": [
       "Text(0.5, 1.0, 'Data = Skirts@Diff_1')"
      ]
     },
     "execution_count": 16,
     "metadata": {},
     "output_type": "execute_result"
    },
    {
     "data": {
      "image/png": "[encoded data removed]",
      "text/plain": [
       "<Figure size 432x288 with 1 Axes>"
      ]
     },
     "metadata": {
      "needs_background": "light"
     },
     "output_type": "display_data"
    }
   ],
   "source": [
    "#Lineplot\n",
    "plt.plot(skirts_diff1, 'r')\n",
    "plt.title('Data = Skirts@Diff_1')"
   ]
  },
  {
   "cell_type": "code",
   "execution_count": 17,
   "id": "c81d3e14",
   "metadata": {},
   "outputs": [
    {
     "data": {
      "text/plain": [
       "Text(0.5, 1.0, 'Histogram of Skirts@Diff_1')"
      ]
     },
     "execution_count": 17,
     "metadata": {},
     "output_type": "execute_result"
    },
    {
     "data": {
      "image/png": "[encoded data removed]",
      "text/plain": [
       "<Figure size 432x288 with 1 Axes>"
      ]
     },
     "metadata": {
      "needs_background": "light"
     },
     "output_type": "display_data"
    }
   ],
   "source": [
    "#Histogram\n",
    "plt.hist(skirts_diff1)\n",
    "plt.title('Histogram of Skirts@Diff_1')\n"
   ]
  },
  {
   "cell_type": "code",
   "execution_count": 18,
   "id": "994d46a7",
   "metadata": {},
   "outputs": [
    {
     "data": {
      "text/plain": [
       "Text(0.5, 1.0, 'Density plot of skirts Data')"
      ]
     },
     "execution_count": 18,
     "metadata": {},
     "output_type": "execute_result"
    },
    {
     "data": {
      "image/png": "[encoded data removed]",
      "text/plain": [
       "<Figure size 432x288 with 1 Axes>"
      ]
     },
     "metadata": {
      "needs_background": "light"
     },
     "output_type": "display_data"
    }
   ],
   "source": [
    "#Density plot\n",
    "skirts_diff1.plot(kind='kde')\n",
    "plt.title('Density plot of skirts Data')"
   ]
  },
  {
   "cell_type": "code",
   "execution_count": 19,
   "id": "35c7a69a",
   "metadata": {},
   "outputs": [
    {
     "data": {
      "text/plain": [
       "year\n",
       "1867-01-01    0.0\n",
       "1868-01-01    0.0\n",
       "1869-01-01    0.0\n",
       "1870-01-01    0.0\n",
       "1871-01-01    0.0\n",
       "1872-01-01    0.0\n",
       "1873-01-01    0.0\n",
       "1874-01-01    0.0\n",
       "1875-01-01    0.0\n",
       "1876-01-01    0.0\n",
       "1877-01-01    0.0\n",
       "1878-01-01    0.0\n",
       "1879-01-01    0.0\n",
       "1880-01-01    0.0\n",
       "1881-01-01    0.0\n",
       "1882-01-01    0.0\n",
       "1883-01-01    0.0\n",
       "1884-01-01    0.0\n",
       "1885-01-01    0.0\n",
       "1886-01-01    0.0\n",
       "1887-01-01    0.0\n",
       "1888-01-01    0.0\n",
       "1889-01-01    0.0\n",
       "1890-01-01    0.0\n",
       "1891-01-01    0.0\n",
       "1892-01-01    0.0\n",
       "1893-01-01    0.0\n",
       "1894-01-01    0.0\n",
       "1895-01-01    0.0\n",
       "1896-01-01    0.0\n",
       "1897-01-01    0.0\n",
       "1898-01-01    0.0\n",
       "1899-01-01    0.0\n",
       "1900-01-01    0.0\n",
       "1901-01-01    0.0\n",
       "1902-01-01    0.0\n",
       "1903-01-01    0.0\n",
       "1904-01-01    0.0\n",
       "1905-01-01    0.0\n",
       "1906-01-01    0.0\n",
       "1907-01-01    0.0\n",
       "1908-01-01    0.0\n",
       "1909-01-01    0.0\n",
       "1910-01-01    0.0\n",
       "1911-01-01    0.0\n",
       "Name: resid, dtype: float64"
      ]
     },
     "execution_count": 19,
     "metadata": {},
     "output_type": "execute_result"
    },
    {
     "data": {
      "image/png": "[encoded data removed]",
      "text/plain": [
       "<Figure size 432x288 with 4 Axes>"
      ]
     },
     "metadata": {
      "needs_background": "light"
     },
     "output_type": "display_data"
    }
   ],
   "source": [
    "#Decompose with Additive model\n",
    "#Multiplicative seasonality is not appropriate for zero and negative values\n",
    "#So model multiplicative is not applicable\n",
    "from statsmodels.tsa.seasonal import seasonal_decompose\n",
    "skirts_diff1_decomp_a = seasonal_decompose(skirts_diff1, model='add')\n",
    "skirts_diff1_decomp_a.plot() #No Trend & no seasonality\n",
    "skirts_diff1_decomp_a.observed\n",
    "skirts_diff1_decomp_a.trend\n",
    "skirts_diff1_decomp_a.seasonal\n",
    "skirts_diff1_decomp_a.resid"
   ]
  },
  {
   "cell_type": "code",
   "execution_count": 20,
   "id": "9750b022",
   "metadata": {},
   "outputs": [],
   "source": [
    "#Test for stationarity\n",
    "from statsmodels.tsa.stattools import adfuller\n",
    "skirts_diff1_adf = adfuller(skirts_diff1)"
   ]
  },
  {
   "cell_type": "code",
   "execution_count": 21,
   "id": "1a4dfc4c",
   "metadata": {},
   "outputs": [
    {
     "name": "stdout",
     "output_type": "stream",
     "text": [
      "ADF Statistic: -2.520768\n",
      "p-value: 0.110503\n",
      "Critical Values:\n",
      "\t1%: -3.639\n",
      "\t5%: -2.951\n",
      "\t10%: -2.614\n"
     ]
    }
   ],
   "source": [
    "print('ADF Statistic: %f' % skirts_diff1_adf[0])\n",
    "print('p-value: %f' % skirts_diff1_adf[1])\n",
    "print('Critical Values:')\n",
    "for key, value in skirts_diff1_adf[4].items():\n",
    "    print('\\t%s: %.3f' % (key, value))"
   ]
  },
  {
   "cell_type": "code",
   "execution_count": 22,
   "id": "d44d4a5a",
   "metadata": {},
   "outputs": [],
   "source": [
    "#p-value: 0.110503 ie > 0.5, Null Hypothesis accepted, Data is not stationary\n",
    "#H0: Data is not stationary\n"
   ]
  },
  {
   "cell_type": "code",
   "execution_count": 23,
   "id": "66afd9e6",
   "metadata": {},
   "outputs": [
    {
     "data": {
      "text/html": [
       "<div>\n",
       "<style scoped>\n",
       "    .dataframe tbody tr th:only-of-type {\n",
       "        vertical-align: middle;\n",
       "    }\n",
       "\n",
       "    .dataframe tbody tr th {\n",
       "        vertical-align: top;\n",
       "    }\n",
       "\n",
       "    .dataframe thead th {\n",
       "        text-align: right;\n",
       "    }\n",
       "</style>\n",
       "<table border=\"1\" class=\"dataframe\">\n",
       "  <thead>\n",
       "    <tr style=\"text-align: right;\">\n",
       "      <th></th>\n",
       "      <th>diam</th>\n",
       "    </tr>\n",
       "    <tr>\n",
       "      <th>year</th>\n",
       "      <th></th>\n",
       "    </tr>\n",
       "  </thead>\n",
       "  <tbody>\n",
       "    <tr>\n",
       "      <th>1868-01-01</th>\n",
       "      <td>17.0</td>\n",
       "    </tr>\n",
       "    <tr>\n",
       "      <th>1869-01-01</th>\n",
       "      <td>19.0</td>\n",
       "    </tr>\n",
       "    <tr>\n",
       "      <th>1870-01-01</th>\n",
       "      <td>32.0</td>\n",
       "    </tr>\n",
       "    <tr>\n",
       "      <th>1871-01-01</th>\n",
       "      <td>55.0</td>\n",
       "    </tr>\n",
       "    <tr>\n",
       "      <th>1872-01-01</th>\n",
       "      <td>71.0</td>\n",
       "    </tr>\n",
       "    <tr>\n",
       "      <th>1873-01-01</th>\n",
       "      <td>93.0</td>\n",
       "    </tr>\n",
       "    <tr>\n",
       "      <th>1874-01-01</th>\n",
       "      <td>88.0</td>\n",
       "    </tr>\n",
       "    <tr>\n",
       "      <th>1875-01-01</th>\n",
       "      <td>92.0</td>\n",
       "    </tr>\n",
       "    <tr>\n",
       "      <th>1876-01-01</th>\n",
       "      <td>133.0</td>\n",
       "    </tr>\n",
       "    <tr>\n",
       "      <th>1877-01-01</th>\n",
       "      <td>121.0</td>\n",
       "    </tr>\n",
       "    <tr>\n",
       "      <th>1878-01-01</th>\n",
       "      <td>78.0</td>\n",
       "    </tr>\n",
       "    <tr>\n",
       "      <th>1879-01-01</th>\n",
       "      <td>50.0</td>\n",
       "    </tr>\n",
       "    <tr>\n",
       "      <th>1880-01-01</th>\n",
       "      <td>22.0</td>\n",
       "    </tr>\n",
       "    <tr>\n",
       "      <th>1881-01-01</th>\n",
       "      <td>-29.0</td>\n",
       "    </tr>\n",
       "    <tr>\n",
       "      <th>1882-01-01</th>\n",
       "      <td>-28.0</td>\n",
       "    </tr>\n",
       "    <tr>\n",
       "      <th>1883-01-01</th>\n",
       "      <td>-6.0</td>\n",
       "    </tr>\n",
       "    <tr>\n",
       "      <th>1884-01-01</th>\n",
       "      <td>-3.0</td>\n",
       "    </tr>\n",
       "    <tr>\n",
       "      <th>1885-01-01</th>\n",
       "      <td>-21.0</td>\n",
       "    </tr>\n",
       "    <tr>\n",
       "      <th>1886-01-01</th>\n",
       "      <td>-56.0</td>\n",
       "    </tr>\n",
       "    <tr>\n",
       "      <th>1887-01-01</th>\n",
       "      <td>-70.0</td>\n",
       "    </tr>\n",
       "    <tr>\n",
       "      <th>1888-01-01</th>\n",
       "      <td>-91.0</td>\n",
       "    </tr>\n",
       "    <tr>\n",
       "      <th>1889-01-01</th>\n",
       "      <td>-92.0</td>\n",
       "    </tr>\n",
       "    <tr>\n",
       "      <th>1890-01-01</th>\n",
       "      <td>-49.0</td>\n",
       "    </tr>\n",
       "    <tr>\n",
       "      <th>1891-01-01</th>\n",
       "      <td>-9.0</td>\n",
       "    </tr>\n",
       "    <tr>\n",
       "      <th>1892-01-01</th>\n",
       "      <td>-20.0</td>\n",
       "    </tr>\n",
       "    <tr>\n",
       "      <th>1893-01-01</th>\n",
       "      <td>1.0</td>\n",
       "    </tr>\n",
       "    <tr>\n",
       "      <th>1894-01-01</th>\n",
       "      <td>17.0</td>\n",
       "    </tr>\n",
       "    <tr>\n",
       "      <th>1895-01-01</th>\n",
       "      <td>-30.0</td>\n",
       "    </tr>\n",
       "    <tr>\n",
       "      <th>1896-01-01</th>\n",
       "      <td>-73.0</td>\n",
       "    </tr>\n",
       "    <tr>\n",
       "      <th>1897-01-01</th>\n",
       "      <td>-65.0</td>\n",
       "    </tr>\n",
       "    <tr>\n",
       "      <th>1898-01-01</th>\n",
       "      <td>-85.0</td>\n",
       "    </tr>\n",
       "    <tr>\n",
       "      <th>1899-01-01</th>\n",
       "      <td>-106.0</td>\n",
       "    </tr>\n",
       "    <tr>\n",
       "      <th>1900-01-01</th>\n",
       "      <td>-73.0</td>\n",
       "    </tr>\n",
       "    <tr>\n",
       "      <th>1901-01-01</th>\n",
       "      <td>-52.0</td>\n",
       "    </tr>\n",
       "    <tr>\n",
       "      <th>1902-01-01</th>\n",
       "      <td>-46.0</td>\n",
       "    </tr>\n",
       "    <tr>\n",
       "      <th>1903-01-01</th>\n",
       "      <td>-17.0</td>\n",
       "    </tr>\n",
       "    <tr>\n",
       "      <th>1904-01-01</th>\n",
       "      <td>-1.0</td>\n",
       "    </tr>\n",
       "    <tr>\n",
       "      <th>1905-01-01</th>\n",
       "      <td>6.0</td>\n",
       "    </tr>\n",
       "    <tr>\n",
       "      <th>1906-01-01</th>\n",
       "      <td>15.0</td>\n",
       "    </tr>\n",
       "    <tr>\n",
       "      <th>1907-01-01</th>\n",
       "      <td>-23.0</td>\n",
       "    </tr>\n",
       "    <tr>\n",
       "      <th>1908-01-01</th>\n",
       "      <td>-28.0</td>\n",
       "    </tr>\n",
       "    <tr>\n",
       "      <th>1909-01-01</th>\n",
       "      <td>-5.0</td>\n",
       "    </tr>\n",
       "    <tr>\n",
       "      <th>1910-01-01</th>\n",
       "      <td>-5.0</td>\n",
       "    </tr>\n",
       "    <tr>\n",
       "      <th>1911-01-01</th>\n",
       "      <td>2.0</td>\n",
       "    </tr>\n",
       "  </tbody>\n",
       "</table>\n",
       "</div>"
      ],
      "text/plain": [
       "             diam\n",
       "year             \n",
       "1868-01-01   17.0\n",
       "1869-01-01   19.0\n",
       "1870-01-01   32.0\n",
       "1871-01-01   55.0\n",
       "1872-01-01   71.0\n",
       "1873-01-01   93.0\n",
       "1874-01-01   88.0\n",
       "1875-01-01   92.0\n",
       "1876-01-01  133.0\n",
       "1877-01-01  121.0\n",
       "1878-01-01   78.0\n",
       "1879-01-01   50.0\n",
       "1880-01-01   22.0\n",
       "1881-01-01  -29.0\n",
       "1882-01-01  -28.0\n",
       "1883-01-01   -6.0\n",
       "1884-01-01   -3.0\n",
       "1885-01-01  -21.0\n",
       "1886-01-01  -56.0\n",
       "1887-01-01  -70.0\n",
       "1888-01-01  -91.0\n",
       "1889-01-01  -92.0\n",
       "1890-01-01  -49.0\n",
       "1891-01-01   -9.0\n",
       "1892-01-01  -20.0\n",
       "1893-01-01    1.0\n",
       "1894-01-01   17.0\n",
       "1895-01-01  -30.0\n",
       "1896-01-01  -73.0\n",
       "1897-01-01  -65.0\n",
       "1898-01-01  -85.0\n",
       "1899-01-01 -106.0\n",
       "1900-01-01  -73.0\n",
       "1901-01-01  -52.0\n",
       "1902-01-01  -46.0\n",
       "1903-01-01  -17.0\n",
       "1904-01-01   -1.0\n",
       "1905-01-01    6.0\n",
       "1906-01-01   15.0\n",
       "1907-01-01  -23.0\n",
       "1908-01-01  -28.0\n",
       "1909-01-01   -5.0\n",
       "1910-01-01   -5.0\n",
       "1911-01-01    2.0"
      ]
     },
     "execution_count": 23,
     "metadata": {},
     "output_type": "execute_result"
    }
   ],
   "source": [
    "#Differencing @2\n",
    "skirts_diff2 = skirts.diff(2) \n",
    "skirts_diff2.head()\n",
    "skirts_diff2 = skirts_diff2.dropna()\n",
    "skirts_diff2\n"
   ]
  },
  {
   "cell_type": "code",
   "execution_count": 24,
   "id": "d4e3827e",
   "metadata": {},
   "outputs": [
    {
     "data": {
      "text/plain": [
       "Text(0.5, 1.0, 'Data = Skirts@Diff_2')"
      ]
     },
     "execution_count": 24,
     "metadata": {},
     "output_type": "execute_result"
    },
    {
     "data": {
      "image/png": "[encoded data removed]",
      "text/plain": [
       "<Figure size 432x288 with 1 Axes>"
      ]
     },
     "metadata": {
      "needs_background": "light"
     },
     "output_type": "display_data"
    }
   ],
   "source": [
    "#Lineplot\n",
    "plt.plot(skirts_diff2, 'r')\n",
    "plt.title('Data = Skirts@Diff_2')\n"
   ]
  },
  {
   "cell_type": "code",
   "execution_count": 25,
   "id": "0e8c9a25",
   "metadata": {},
   "outputs": [
    {
     "data": {
      "text/plain": [
       "Text(0.5, 1.0, 'Histogram of Skirts@Diff_2')"
      ]
     },
     "execution_count": 25,
     "metadata": {},
     "output_type": "execute_result"
    },
    {
     "data": {
      "image/png": "[encoded data removed]",
      "text/plain": [
       "<Figure size 432x288 with 1 Axes>"
      ]
     },
     "metadata": {
      "needs_background": "light"
     },
     "output_type": "display_data"
    }
   ],
   "source": [
    "#Histogram\n",
    "plt.hist(skirts_diff2)\n",
    "plt.title('Histogram of Skirts@Diff_2')\n"
   ]
  },
  {
   "cell_type": "code",
   "execution_count": 26,
   "id": "b8d2b54b",
   "metadata": {},
   "outputs": [
    {
     "data": {
      "text/plain": [
       "Text(0.5, 1.0, 'Density plot of skirts Data')"
      ]
     },
     "execution_count": 26,
     "metadata": {},
     "output_type": "execute_result"
    },
    {
     "data": {
      "image/png": "[encoded data removed]",
      "text/plain": [
       "<Figure size 432x288 with 1 Axes>"
      ]
     },
     "metadata": {
      "needs_background": "light"
     },
     "output_type": "display_data"
    }
   ],
   "source": [
    "#Density plot\n",
    "skirts_diff2.plot(kind='kde')\n",
    "plt.title('Density plot of skirts Data')\n"
   ]
  },
  {
   "cell_type": "code",
   "execution_count": 27,
   "id": "52a6731b",
   "metadata": {},
   "outputs": [
    {
     "data": {
      "text/plain": [
       "year\n",
       "1868-01-01    0.0\n",
       "1869-01-01    0.0\n",
       "1870-01-01    0.0\n",
       "1871-01-01    0.0\n",
       "1872-01-01    0.0\n",
       "1873-01-01    0.0\n",
       "1874-01-01    0.0\n",
       "1875-01-01    0.0\n",
       "1876-01-01    0.0\n",
       "1877-01-01    0.0\n",
       "1878-01-01    0.0\n",
       "1879-01-01    0.0\n",
       "1880-01-01    0.0\n",
       "1881-01-01    0.0\n",
       "1882-01-01    0.0\n",
       "1883-01-01    0.0\n",
       "1884-01-01    0.0\n",
       "1885-01-01    0.0\n",
       "1886-01-01    0.0\n",
       "1887-01-01    0.0\n",
       "1888-01-01    0.0\n",
       "1889-01-01    0.0\n",
       "1890-01-01    0.0\n",
       "1891-01-01    0.0\n",
       "1892-01-01    0.0\n",
       "1893-01-01    0.0\n",
       "1894-01-01    0.0\n",
       "1895-01-01    0.0\n",
       "1896-01-01    0.0\n",
       "1897-01-01    0.0\n",
       "1898-01-01    0.0\n",
       "1899-01-01    0.0\n",
       "1900-01-01    0.0\n",
       "1901-01-01    0.0\n",
       "1902-01-01    0.0\n",
       "1903-01-01    0.0\n",
       "1904-01-01    0.0\n",
       "1905-01-01    0.0\n",
       "1906-01-01    0.0\n",
       "1907-01-01    0.0\n",
       "1908-01-01    0.0\n",
       "1909-01-01    0.0\n",
       "1910-01-01    0.0\n",
       "1911-01-01    0.0\n",
       "Name: resid, dtype: float64"
      ]
     },
     "execution_count": 27,
     "metadata": {},
     "output_type": "execute_result"
    },
    {
     "data": {
      "image/png": "[encoded data removed]",
      "text/plain": [
       "<Figure size 432x288 with 4 Axes>"
      ]
     },
     "metadata": {
      "needs_background": "light"
     },
     "output_type": "display_data"
    }
   ],
   "source": [
    "#Decompose with additive model\n",
    "from statsmodels.tsa.seasonal import seasonal_decompose\n",
    "skirts_diff2_decomp_a = seasonal_decompose(skirts_diff2, model='add')\n",
    "skirts_diff2_decomp_a.plot() #No Trend & no seasonality\n",
    "skirts_diff2_decomp_a.observed\n",
    "skirts_diff2_decomp_a.trend\n",
    "skirts_diff2_decomp_a.seasonal\n",
    "skirts_diff2_decomp_a.resid"
   ]
  },
  {
   "cell_type": "code",
   "execution_count": 28,
   "id": "1b035145",
   "metadata": {},
   "outputs": [],
   "source": [
    "#Test for stationarity\n",
    "from statsmodels.tsa.stattools import adfuller\n",
    "skirts_diff2_adf = adfuller(skirts_diff2)\n"
   ]
  },
  {
   "cell_type": "code",
   "execution_count": 29,
   "id": "ab026b10",
   "metadata": {},
   "outputs": [
    {
     "name": "stdout",
     "output_type": "stream",
     "text": [
      "ADF Statistic: -1.614915\n",
      "p-value: 0.475396\n",
      "Critical Values:\n",
      "\t1%: -3.610\n",
      "\t5%: -2.939\n",
      "\t10%: -2.608\n"
     ]
    }
   ],
   "source": [
    "print('ADF Statistic: %f' % skirts_diff2_adf[0])\n",
    "print('p-value: %f' % skirts_diff2_adf[1])\n",
    "print('Critical Values:')\n",
    "for key, value in skirts_diff2_adf[4].items():\n",
    "    print('\\t%s: %.3f' % (key, value))"
   ]
  },
  {
   "cell_type": "code",
   "execution_count": 30,
   "id": "52155fd7",
   "metadata": {},
   "outputs": [],
   "source": [
    "#p-value: 0.475396 ie > 0.5, Null Hypothesis accepted, Data is not stationary\n",
    "#H0: Data is not stationary"
   ]
  },
  {
   "cell_type": "code",
   "execution_count": 31,
   "id": "6d41760c",
   "metadata": {},
   "outputs": [],
   "source": [
    "#Being trend and seasonality is not visible in the data using\n",
    "#single exponential smoothing"
   ]
  },
  {
   "cell_type": "code",
   "execution_count": 32,
   "id": "0bd244f0",
   "metadata": {},
   "outputs": [
    {
     "name": "stderr",
     "output_type": "stream",
     "text": [
      "C:\\Program Files\\ancondapython\\lib\\site-packages\\statsmodels\\tsa\\base\\tsa_model.py:524: ValueWarning: No frequency information was provided, so inferred frequency AS-JAN will be used.\n",
      "  warnings.warn('No frequency information was'\n",
      "C:\\Program Files\\ancondapython\\lib\\site-packages\\statsmodels\\tsa\\holtwinters\\model.py:427: FutureWarning: After 0.13 initialization must be handled at model creation\n",
      "  warnings.warn(\n"
     ]
    },
    {
     "data": {
      "text/html": [
       "<table class=\"simpletable\">\n",
       "<caption>SimpleExpSmoothing Model Results</caption>\n",
       "<tr>\n",
       "  <th>Dep. Variable:</th>           <td>diam</td>        <th>  No. Observations:  </th>        <td>46</td>       \n",
       "</tr>\n",
       "<tr>\n",
       "  <th>Model:</th>            <td>SimpleExpSmoothing</td> <th>  SSE                </th>     <td>41869.930</td>   \n",
       "</tr>\n",
       "<tr>\n",
       "  <th>Optimized:</th>               <td>True</td>        <th>  AIC                </th>      <td>317.429</td>    \n",
       "</tr>\n",
       "<tr>\n",
       "  <th>Trend:</th>                   <td>None</td>        <th>  BIC                </th>      <td>321.087</td>    \n",
       "</tr>\n",
       "<tr>\n",
       "  <th>Seasonal:</th>                <td>None</td>        <th>  AICC               </th>      <td>318.405</td>    \n",
       "</tr>\n",
       "<tr>\n",
       "  <th>Seasonal Periods:</th>        <td>None</td>        <th>  Date:              </th> <td>Sun, 05 Sep 2021</td>\n",
       "</tr>\n",
       "<tr>\n",
       "  <th>Box-Cox:</th>                 <td>False</td>       <th>  Time:              </th>     <td>19:44:25</td>    \n",
       "</tr>\n",
       "<tr>\n",
       "  <th>Box-Cox Coeff.:</th>          <td>None</td>        <th>                     </th>         <td> </td>       \n",
       "</tr>\n",
       "</table>\n",
       "<table class=\"simpletable\">\n",
       "<tr>\n",
       "         <td></td>                 <th>coeff</th>                <th>code</th>               <th>optimized</th>     \n",
       "</tr>\n",
       "<tr>\n",
       "  <th>smoothing_level</th> <td>           0.9950000</td> <td>               alpha</td> <td>                True</td>\n",
       "</tr>\n",
       "<tr>\n",
       "  <th>initial_level</th>   <td>           608.00000</td> <td>                 l.0</td> <td>                True</td>\n",
       "</tr>\n",
       "</table>"
      ],
      "text/plain": [
       "<class 'statsmodels.iolib.summary.Summary'>\n",
       "\"\"\"\n",
       "                       SimpleExpSmoothing Model Results                       \n",
       "==============================================================================\n",
       "Dep. Variable:                   diam   No. Observations:                   46\n",
       "Model:             SimpleExpSmoothing   SSE                          41869.930\n",
       "Optimized:                       True   AIC                            317.429\n",
       "Trend:                           None   BIC                            321.087\n",
       "Seasonal:                        None   AICC                           318.405\n",
       "Seasonal Periods:                None   Date:                 Sun, 05 Sep 2021\n",
       "Box-Cox:                        False   Time:                         19:44:25\n",
       "Box-Cox Coeff.:                  None                                         \n",
       "==============================================================================\n",
       "                       coeff                 code              optimized      \n",
       "------------------------------------------------------------------------------\n",
       "smoothing_level            0.9950000                alpha                 True\n",
       "initial_level              608.00000                  l.0                 True\n",
       "------------------------------------------------------------------------------\n",
       "\"\"\""
      ]
     },
     "execution_count": 32,
     "metadata": {},
     "output_type": "execute_result"
    }
   ],
   "source": [
    "from statsmodels.tsa.holtwinters import SimpleExpSmoothing \n",
    "skirts_ses = SimpleExpSmoothing(skirts).fit()\n",
    "skirts_ses.summary()"
   ]
  },
  {
   "cell_type": "code",
   "execution_count": 33,
   "id": "ff6845b9",
   "metadata": {},
   "outputs": [
    {
     "data": {
      "text/plain": [
       "year\n",
       "1866-01-01     0.000000\n",
       "1867-01-01     9.000000\n",
       "1868-01-01     8.045000\n",
       "1869-01-01    11.040225\n",
       "1870-01-01    21.055201\n",
       "dtype: float64"
      ]
     },
     "execution_count": 33,
     "metadata": {},
     "output_type": "execute_result"
    }
   ],
   "source": [
    "#Residual given by the model\n",
    "skirts_ses_res = skirts_ses.resid\n",
    "skirts_ses_res.head()\n"
   ]
  },
  {
   "cell_type": "code",
   "execution_count": 34,
   "id": "dfe7729d",
   "metadata": {},
   "outputs": [
    {
     "data": {
      "image/png": "[encoded data removed]",
      "text/plain": [
       "<Figure size 432x288 with 1 Axes>"
      ]
     },
     "metadata": {
      "needs_background": "light"
     },
     "output_type": "display_data"
    }
   ],
   "source": [
    "#Histogram of residuals\n",
    "plt.hist(skirts_ses_res)\n",
    "plt.title('skirts - Residual given by the Model')\n",
    "plt.show()"
   ]
  },
  {
   "cell_type": "code",
   "execution_count": 35,
   "id": "6380445e",
   "metadata": {},
   "outputs": [
    {
     "name": "stdout",
     "output_type": "stream",
     "text": [
      "Defaulting to user installation because normal site-packages is not writeable\n",
      "Requirement already satisfied: statsmodels in c:\\program files\\ancondapython\\lib\\site-packages (0.12.2)\n",
      "Requirement already satisfied: numpy>=1.15 in c:\\users\\suresh a\\appdata\\roaming\\python\\python38\\site-packages (from statsmodels) (1.19.5)\n",
      "Requirement already satisfied: scipy>=1.1 in c:\\program files\\ancondapython\\lib\\site-packages (from statsmodels) (1.6.2)\n",
      "Requirement already satisfied: pandas>=0.21 in c:\\program files\\ancondapython\\lib\\site-packages (from statsmodels) (1.2.4)\n",
      "Requirement already satisfied: patsy>=0.5 in c:\\program files\\ancondapython\\lib\\site-packages (from statsmodels) (0.5.1)\n",
      "Requirement already satisfied: python-dateutil>=2.7.3 in c:\\program files\\ancondapython\\lib\\site-packages (from pandas>=0.21->statsmodels) (2.8.1)\n",
      "Requirement already satisfied: pytz>=2017.3 in c:\\program files\\ancondapython\\lib\\site-packages (from pandas>=0.21->statsmodels) (2021.1)\n",
      "Requirement already satisfied: six in c:\\program files\\ancondapython\\lib\\site-packages (from patsy>=0.5->statsmodels) (1.15.0)\n"
     ]
    }
   ],
   "source": [
    "!python -m pip install statsmodels "
   ]
  },
  {
   "cell_type": "code",
   "execution_count": 36,
   "id": "efaff63a",
   "metadata": {},
   "outputs": [],
   "source": []
  },
  {
   "cell_type": "code",
   "execution_count": 42,
   "id": "03e1cdb7",
   "metadata": {},
   "outputs": [],
   "source": [
    "from statsmodels.compat.pandas import deprecate_kwarg\n",
    "\n",
    "import numpy as np\n",
    "import pandas as pd\n",
    "\n",
    "from statsmodels.graphics import utils\n",
    "from statsmodels.tsa.stattools import acf, pacf"
   ]
  },
  {
   "cell_type": "code",
   "execution_count": 38,
   "id": "991d7558",
   "metadata": {},
   "outputs": [
    {
     "name": "stdout",
     "output_type": "stream",
     "text": [
      "Defaulting to user installation because normal site-packages is not writeable\n",
      "Requirement already satisfied: statsmodels in c:\\program files\\ancondapython\\lib\\site-packages (0.12.2)\n"
     ]
    },
    {
     "name": "stderr",
     "output_type": "stream",
     "text": [
      "WARNING: Retrying (Retry(total=4, connect=None, read=None, redirect=None, status=None)) after connection broken by 'NewConnectionError('<pip._vendor.urllib3.connection.HTTPSConnection object at 0x000001A118D14550>: Failed to establish a new connection: [Errno 11001] getaddrinfo failed')': /simple/statsmodels/\n",
      "WARNING: Retrying (Retry(total=3, connect=None, read=None, redirect=None, status=None)) after connection broken by 'NewConnectionError('<pip._vendor.urllib3.connection.HTTPSConnection object at 0x000001A118D14160>: Failed to establish a new connection: [Errno 11001] getaddrinfo failed')': /simple/statsmodels/\n",
      "WARNING: Retrying (Retry(total=2, connect=None, read=None, redirect=None, status=None)) after connection broken by 'NewConnectionError('<pip._vendor.urllib3.connection.HTTPSConnection object at 0x000001A118D0F9D0>: Failed to establish a new connection: [Errno 11001] getaddrinfo failed')': /simple/statsmodels/\n",
      "WARNING: Retrying (Retry(total=1, connect=None, read=None, redirect=None, status=None)) after connection broken by 'NewConnectionError('<pip._vendor.urllib3.connection.HTTPSConnection object at 0x000001A118D0FD30>: Failed to establish a new connection: [Errno 11001] getaddrinfo failed')': /simple/statsmodels/\n",
      "WARNING: Retrying (Retry(total=0, connect=None, read=None, redirect=None, status=None)) after connection broken by 'NewConnectionError('<pip._vendor.urllib3.connection.HTTPSConnection object at 0x000001A118D0FDF0>: Failed to establish a new connection: [Errno 11001] getaddrinfo failed')': /simple/statsmodels/\n"
     ]
    }
   ],
   "source": [
    "!pip install --upgrade --no-deps statsmodels"
   ]
  },
  {
   "cell_type": "code",
   "execution_count": 59,
   "id": "064abc6a",
   "metadata": {},
   "outputs": [],
   "source": [
    "#Plotting acf & pacf - residual\n",
    "from statsmodels.graphics.tsaplots import plot_acf\n",
    "from statsmodels.graphics.tsaplots import plot_pacf\n"
   ]
  },
  {
   "cell_type": "code",
   "execution_count": 60,
   "id": "3fce5b7d",
   "metadata": {},
   "outputs": [
    {
     "data": {
      "image/png": "[encoded data removed]",
      "text/plain": [
       "<Figure size 432x288 with 1 Axes>"
      ]
     },
     "execution_count": 60,
     "metadata": {},
     "output_type": "execute_result"
    },
    {
     "data": {
      "image/png": "[encoded data removed]",
      "text/plain": [
       "<Figure size 432x288 with 1 Axes>"
      ]
     },
     "metadata": {
      "needs_background": "light"
     },
     "output_type": "display_data"
    },
    {
     "data": {
      "image/png": "[encoded data removed]",
      "text/plain": [
       "<Figure size 432x288 with 1 Axes>"
      ]
     },
     "metadata": {
      "needs_background": "light"
     },
     "output_type": "display_data"
    }
   ],
   "source": [
    "plot_acf(skirts_ses_res, lags=20, title='skirts - Residual given by the Model - Autocorrelation') \n",
    "plot_pacf(skirts_ses_res, lags=20, title='skirts - Residual given by the Model - Partial Autocorrelation')"
   ]
  },
  {
   "cell_type": "code",
   "execution_count": 44,
   "id": "4b1d1de9",
   "metadata": {},
   "outputs": [
    {
     "data": {
      "text/plain": [
       "year\n",
       "1866-01-01      0.000000\n",
       "1867-01-01     81.000000\n",
       "1868-01-01     64.722025\n",
       "1869-01-01    121.886568\n",
       "1870-01-01    443.321494\n",
       "dtype: float64"
      ]
     },
     "execution_count": 44,
     "metadata": {},
     "output_type": "execute_result"
    }
   ],
   "source": [
    "#Squaring residuals/ errors\n",
    "skirts_ses_se = pow(skirts_ses_res,2)\n",
    "skirts_ses_se.head()\n"
   ]
  },
  {
   "cell_type": "code",
   "execution_count": 45,
   "id": "9dd5780c",
   "metadata": {},
   "outputs": [
    {
     "name": "stdout",
     "output_type": "stream",
     "text": [
      "910.2158736656878\n"
     ]
    }
   ],
   "source": [
    "#average/mean of squared residuals/ errors\n",
    "skirts_ses_mse = (skirts_ses_se.sum())/len(skirts_ses_se)\n",
    "print(skirts_ses_mse) #910.2158736656878\n"
   ]
  },
  {
   "cell_type": "code",
   "execution_count": 46,
   "id": "055de771",
   "metadata": {},
   "outputs": [
    {
     "name": "stdout",
     "output_type": "stream",
     "text": [
      "30.16978411698844\n"
     ]
    }
   ],
   "source": [
    "#Root of average/mean of squared residuals/ errors\n",
    "skirts_ses_rmse = sqrt(skirts_ses_mse)\n",
    "print(skirts_ses_rmse) #30.16978411698844\n"
   ]
  },
  {
   "cell_type": "code",
   "execution_count": 47,
   "id": "2834b70b",
   "metadata": {},
   "outputs": [
    {
     "name": "stdout",
     "output_type": "stream",
     "text": [
      "1912-01-01    530.96015\n",
      "1913-01-01    530.96015\n",
      "1914-01-01    530.96015\n",
      "1915-01-01    530.96015\n",
      "1916-01-01    530.96015\n",
      "1917-01-01    530.96015\n",
      "1918-01-01    530.96015\n",
      "1919-01-01    530.96015\n",
      "1920-01-01    530.96015\n",
      "1921-01-01    530.96015\n",
      "1922-01-01    530.96015\n",
      "1923-01-01    530.96015\n",
      "1924-01-01    530.96015\n",
      "1925-01-01    530.96015\n",
      "1926-01-01    530.96015\n",
      "1927-01-01    530.96015\n",
      "1928-01-01    530.96015\n",
      "1929-01-01    530.96015\n",
      "1930-01-01    530.96015\n",
      "Freq: AS-JAN, dtype: float64\n"
     ]
    }
   ],
   "source": [
    "#Forecasting next 19 periods\n",
    "skirts_pred = skirts_ses.forecast(steps=19)\n",
    "print(skirts_pred)"
   ]
  },
  {
   "cell_type": "code",
   "execution_count": 48,
   "id": "eb839c42",
   "metadata": {},
   "outputs": [
    {
     "data": {
      "image/png": "[encoded data removed]",
      "text/plain": [
       "<Figure size 432x288 with 1 Axes>"
      ]
     },
     "metadata": {
      "needs_background": "light"
     },
     "output_type": "display_data"
    }
   ],
   "source": [
    "#Plot of actual and forecast\n",
    "plt.plot(skirts)\n",
    "plt.plot(skirts_pred)\n",
    "plt.legend(['Actual', 'Forecast'])\n",
    "plt.show()"
   ]
  },
  {
   "cell_type": "code",
   "execution_count": 49,
   "id": "5387cd70",
   "metadata": {},
   "outputs": [
    {
     "data": {
      "text/html": [
       "<table class=\"simpletable\">\n",
       "<caption>SARIMAX Results</caption>\n",
       "<tr>\n",
       "  <th>Dep. Variable:</th>           <td>y</td>        <th>  No. Observations:  </th>    <td>46</td>   \n",
       "</tr>\n",
       "<tr>\n",
       "  <th>Model:</th>           <td>SARIMAX(1, 2, 0)</td> <th>  Log Likelihood     </th> <td>-193.664</td>\n",
       "</tr>\n",
       "<tr>\n",
       "  <th>Date:</th>            <td>Sun, 05 Sep 2021</td> <th>  AIC                </th>  <td>391.329</td>\n",
       "</tr>\n",
       "<tr>\n",
       "  <th>Time:</th>                <td>20:16:49</td>     <th>  BIC                </th>  <td>394.897</td>\n",
       "</tr>\n",
       "<tr>\n",
       "  <th>Sample:</th>                  <td>0</td>        <th>  HQIC               </th>  <td>392.652</td>\n",
       "</tr>\n",
       "<tr>\n",
       "  <th></th>                       <td> - 46</td>      <th>                     </th>     <td> </td>   \n",
       "</tr>\n",
       "<tr>\n",
       "  <th>Covariance Type:</th>        <td>opg</td>       <th>                     </th>     <td> </td>   \n",
       "</tr>\n",
       "</table>\n",
       "<table class=\"simpletable\">\n",
       "<tr>\n",
       "     <td></td>       <th>coef</th>     <th>std err</th>      <th>z</th>      <th>P>|z|</th>  <th>[0.025</th>    <th>0.975]</th>  \n",
       "</tr>\n",
       "<tr>\n",
       "  <th>ar.L1</th>  <td>   -0.2997</td> <td>    0.152</td> <td>   -1.971</td> <td> 0.049</td> <td>   -0.598</td> <td>   -0.002</td>\n",
       "</tr>\n",
       "<tr>\n",
       "  <th>sigma2</th> <td>  388.7357</td> <td>  114.253</td> <td>    3.402</td> <td> 0.001</td> <td>  164.804</td> <td>  612.667</td>\n",
       "</tr>\n",
       "</table>\n",
       "<table class=\"simpletable\">\n",
       "<tr>\n",
       "  <th>Ljung-Box (L1) (Q):</th>     <td>0.00</td> <th>  Jarque-Bera (JB):  </th> <td>1.79</td> \n",
       "</tr>\n",
       "<tr>\n",
       "  <th>Prob(Q):</th>                <td>0.97</td> <th>  Prob(JB):          </th> <td>0.41</td> \n",
       "</tr>\n",
       "<tr>\n",
       "  <th>Heteroskedasticity (H):</th> <td>0.88</td> <th>  Skew:              </th> <td>-0.14</td>\n",
       "</tr>\n",
       "<tr>\n",
       "  <th>Prob(H) (two-sided):</th>    <td>0.80</td> <th>  Kurtosis:          </th> <td>2.05</td> \n",
       "</tr>\n",
       "</table><br/><br/>Warnings:<br/>[1] Covariance matrix calculated using the outer product of gradients (complex-step)."
      ],
      "text/plain": [
       "<class 'statsmodels.iolib.summary.Summary'>\n",
       "\"\"\"\n",
       "                               SARIMAX Results                                \n",
       "==============================================================================\n",
       "Dep. Variable:                      y   No. Observations:                   46\n",
       "Model:               SARIMAX(1, 2, 0)   Log Likelihood                -193.664\n",
       "Date:                Sun, 05 Sep 2021   AIC                            391.329\n",
       "Time:                        20:16:49   BIC                            394.897\n",
       "Sample:                             0   HQIC                           392.652\n",
       "                                 - 46                                         \n",
       "Covariance Type:                  opg                                         \n",
       "==============================================================================\n",
       "                 coef    std err          z      P>|z|      [0.025      0.975]\n",
       "------------------------------------------------------------------------------\n",
       "ar.L1         -0.2997      0.152     -1.971      0.049      -0.598      -0.002\n",
       "sigma2       388.7357    114.253      3.402      0.001     164.804     612.667\n",
       "===================================================================================\n",
       "Ljung-Box (L1) (Q):                   0.00   Jarque-Bera (JB):                 1.79\n",
       "Prob(Q):                              0.97   Prob(JB):                         0.41\n",
       "Heteroskedasticity (H):               0.88   Skew:                            -0.14\n",
       "Prob(H) (two-sided):                  0.80   Kurtosis:                         2.05\n",
       "===================================================================================\n",
       "\n",
       "Warnings:\n",
       "[1] Covariance matrix calculated using the outer product of gradients (complex-step).\n",
       "\"\"\""
      ]
     },
     "execution_count": 49,
     "metadata": {},
     "output_type": "execute_result"
    }
   ],
   "source": [
    "#Applying autoarima\n",
    "from pmdarima import auto_arima\n",
    "\n",
    "skirts_aa = auto_arima(skirts)\n",
    "skirts_aa.summary()"
   ]
  },
  {
   "cell_type": "code",
   "execution_count": 50,
   "id": "7fc492f9",
   "metadata": {},
   "outputs": [
    {
     "data": {
      "text/plain": [
       "array([ 608.        , -295.02600484,   -1.07580747,    2.70033466,\n",
       "         10.89899602,   15.99665341,    6.89564944,   19.89899602,\n",
       "        -18.30635851,   20.80803181,   21.39062956,  -21.10435056,\n",
       "        -25.49163354,  -15.39397615,  -20.99665341,  -38.39397615,\n",
       "         24.11104373,   -1.81137839,   11.4040159 ,  -28.50501988,\n",
       "        -11.88895627,  -12.59933068,  -12.5959841 ,    5.30301193,\n",
       "         37.39732273,   15.48828695,  -14.50167329,   32.20535454,\n",
       "         -9.91238237,  -32.29297217,  -24.79129888,   19.9056892 ,\n",
       "        -37.50836646,   10.51505964,   16.19196819,   14.69698807,\n",
       "         -2.4040159 ,   33.20200795,   -8.51171305,   20.30635851,\n",
       "         -9.20870112,  -26.0943108 ,    9.70702783,   11.79464546,\n",
       "         -4.90234261,   11.90234261])"
      ]
     },
     "execution_count": 50,
     "metadata": {},
     "output_type": "execute_result"
    }
   ],
   "source": [
    "#Residuals given by the mode\n",
    "skirts_aa_res = skirts_aa.resid()\n",
    "skirts_aa_res"
   ]
  },
  {
   "cell_type": "code",
   "execution_count": 51,
   "id": "f8bc4660",
   "metadata": {},
   "outputs": [
    {
     "data": {
      "text/html": [
       "<div>\n",
       "<style scoped>\n",
       "    .dataframe tbody tr th:only-of-type {\n",
       "        vertical-align: middle;\n",
       "    }\n",
       "\n",
       "    .dataframe tbody tr th {\n",
       "        vertical-align: top;\n",
       "    }\n",
       "\n",
       "    .dataframe thead th {\n",
       "        text-align: right;\n",
       "    }\n",
       "</style>\n",
       "<table border=\"1\" class=\"dataframe\">\n",
       "  <thead>\n",
       "    <tr style=\"text-align: right;\">\n",
       "      <th></th>\n",
       "      <th>0</th>\n",
       "    </tr>\n",
       "    <tr>\n",
       "      <th>year</th>\n",
       "      <th></th>\n",
       "    </tr>\n",
       "  </thead>\n",
       "  <tbody>\n",
       "    <tr>\n",
       "      <th>1866-01-01</th>\n",
       "      <td>608.000000</td>\n",
       "    </tr>\n",
       "    <tr>\n",
       "      <th>1867-01-01</th>\n",
       "      <td>-295.026005</td>\n",
       "    </tr>\n",
       "    <tr>\n",
       "      <th>1868-01-01</th>\n",
       "      <td>-1.075807</td>\n",
       "    </tr>\n",
       "    <tr>\n",
       "      <th>1869-01-01</th>\n",
       "      <td>2.700335</td>\n",
       "    </tr>\n",
       "    <tr>\n",
       "      <th>1870-01-01</th>\n",
       "      <td>10.898996</td>\n",
       "    </tr>\n",
       "    <tr>\n",
       "      <th>1871-01-01</th>\n",
       "      <td>15.996653</td>\n",
       "    </tr>\n",
       "    <tr>\n",
       "      <th>1872-01-01</th>\n",
       "      <td>6.895649</td>\n",
       "    </tr>\n",
       "    <tr>\n",
       "      <th>1873-01-01</th>\n",
       "      <td>19.898996</td>\n",
       "    </tr>\n",
       "    <tr>\n",
       "      <th>1874-01-01</th>\n",
       "      <td>-18.306359</td>\n",
       "    </tr>\n",
       "    <tr>\n",
       "      <th>1875-01-01</th>\n",
       "      <td>20.808032</td>\n",
       "    </tr>\n",
       "    <tr>\n",
       "      <th>1876-01-01</th>\n",
       "      <td>21.390630</td>\n",
       "    </tr>\n",
       "    <tr>\n",
       "      <th>1877-01-01</th>\n",
       "      <td>-21.104351</td>\n",
       "    </tr>\n",
       "    <tr>\n",
       "      <th>1878-01-01</th>\n",
       "      <td>-25.491634</td>\n",
       "    </tr>\n",
       "    <tr>\n",
       "      <th>1879-01-01</th>\n",
       "      <td>-15.393976</td>\n",
       "    </tr>\n",
       "    <tr>\n",
       "      <th>1880-01-01</th>\n",
       "      <td>-20.996653</td>\n",
       "    </tr>\n",
       "    <tr>\n",
       "      <th>1881-01-01</th>\n",
       "      <td>-38.393976</td>\n",
       "    </tr>\n",
       "    <tr>\n",
       "      <th>1882-01-01</th>\n",
       "      <td>24.111044</td>\n",
       "    </tr>\n",
       "    <tr>\n",
       "      <th>1883-01-01</th>\n",
       "      <td>-1.811378</td>\n",
       "    </tr>\n",
       "    <tr>\n",
       "      <th>1884-01-01</th>\n",
       "      <td>11.404016</td>\n",
       "    </tr>\n",
       "    <tr>\n",
       "      <th>1885-01-01</th>\n",
       "      <td>-28.505020</td>\n",
       "    </tr>\n",
       "    <tr>\n",
       "      <th>1886-01-01</th>\n",
       "      <td>-11.888956</td>\n",
       "    </tr>\n",
       "    <tr>\n",
       "      <th>1887-01-01</th>\n",
       "      <td>-12.599331</td>\n",
       "    </tr>\n",
       "    <tr>\n",
       "      <th>1888-01-01</th>\n",
       "      <td>-12.595984</td>\n",
       "    </tr>\n",
       "    <tr>\n",
       "      <th>1889-01-01</th>\n",
       "      <td>5.303012</td>\n",
       "    </tr>\n",
       "    <tr>\n",
       "      <th>1890-01-01</th>\n",
       "      <td>37.397323</td>\n",
       "    </tr>\n",
       "    <tr>\n",
       "      <th>1891-01-01</th>\n",
       "      <td>15.488287</td>\n",
       "    </tr>\n",
       "    <tr>\n",
       "      <th>1892-01-01</th>\n",
       "      <td>-14.501673</td>\n",
       "    </tr>\n",
       "    <tr>\n",
       "      <th>1893-01-01</th>\n",
       "      <td>32.205355</td>\n",
       "    </tr>\n",
       "    <tr>\n",
       "      <th>1894-01-01</th>\n",
       "      <td>-9.912382</td>\n",
       "    </tr>\n",
       "    <tr>\n",
       "      <th>1895-01-01</th>\n",
       "      <td>-32.292972</td>\n",
       "    </tr>\n",
       "    <tr>\n",
       "      <th>1896-01-01</th>\n",
       "      <td>-24.791299</td>\n",
       "    </tr>\n",
       "    <tr>\n",
       "      <th>1897-01-01</th>\n",
       "      <td>19.905689</td>\n",
       "    </tr>\n",
       "    <tr>\n",
       "      <th>1898-01-01</th>\n",
       "      <td>-37.508366</td>\n",
       "    </tr>\n",
       "    <tr>\n",
       "      <th>1899-01-01</th>\n",
       "      <td>10.515060</td>\n",
       "    </tr>\n",
       "    <tr>\n",
       "      <th>1900-01-01</th>\n",
       "      <td>16.191968</td>\n",
       "    </tr>\n",
       "    <tr>\n",
       "      <th>1901-01-01</th>\n",
       "      <td>14.696988</td>\n",
       "    </tr>\n",
       "    <tr>\n",
       "      <th>1902-01-01</th>\n",
       "      <td>-2.404016</td>\n",
       "    </tr>\n",
       "    <tr>\n",
       "      <th>1903-01-01</th>\n",
       "      <td>33.202008</td>\n",
       "    </tr>\n",
       "    <tr>\n",
       "      <th>1904-01-01</th>\n",
       "      <td>-8.511713</td>\n",
       "    </tr>\n",
       "    <tr>\n",
       "      <th>1905-01-01</th>\n",
       "      <td>20.306359</td>\n",
       "    </tr>\n",
       "    <tr>\n",
       "      <th>1906-01-01</th>\n",
       "      <td>-9.208701</td>\n",
       "    </tr>\n",
       "    <tr>\n",
       "      <th>1907-01-01</th>\n",
       "      <td>-26.094311</td>\n",
       "    </tr>\n",
       "    <tr>\n",
       "      <th>1908-01-01</th>\n",
       "      <td>9.707028</td>\n",
       "    </tr>\n",
       "    <tr>\n",
       "      <th>1909-01-01</th>\n",
       "      <td>11.794645</td>\n",
       "    </tr>\n",
       "    <tr>\n",
       "      <th>1910-01-01</th>\n",
       "      <td>-4.902343</td>\n",
       "    </tr>\n",
       "    <tr>\n",
       "      <th>1911-01-01</th>\n",
       "      <td>11.902343</td>\n",
       "    </tr>\n",
       "  </tbody>\n",
       "</table>\n",
       "</div>"
      ],
      "text/plain": [
       "                     0\n",
       "year                  \n",
       "1866-01-01  608.000000\n",
       "1867-01-01 -295.026005\n",
       "1868-01-01   -1.075807\n",
       "1869-01-01    2.700335\n",
       "1870-01-01   10.898996\n",
       "1871-01-01   15.996653\n",
       "1872-01-01    6.895649\n",
       "1873-01-01   19.898996\n",
       "1874-01-01  -18.306359\n",
       "1875-01-01   20.808032\n",
       "1876-01-01   21.390630\n",
       "1877-01-01  -21.104351\n",
       "1878-01-01  -25.491634\n",
       "1879-01-01  -15.393976\n",
       "1880-01-01  -20.996653\n",
       "1881-01-01  -38.393976\n",
       "1882-01-01   24.111044\n",
       "1883-01-01   -1.811378\n",
       "1884-01-01   11.404016\n",
       "1885-01-01  -28.505020\n",
       "1886-01-01  -11.888956\n",
       "1887-01-01  -12.599331\n",
       "1888-01-01  -12.595984\n",
       "1889-01-01    5.303012\n",
       "1890-01-01   37.397323\n",
       "1891-01-01   15.488287\n",
       "1892-01-01  -14.501673\n",
       "1893-01-01   32.205355\n",
       "1894-01-01   -9.912382\n",
       "1895-01-01  -32.292972\n",
       "1896-01-01  -24.791299\n",
       "1897-01-01   19.905689\n",
       "1898-01-01  -37.508366\n",
       "1899-01-01   10.515060\n",
       "1900-01-01   16.191968\n",
       "1901-01-01   14.696988\n",
       "1902-01-01   -2.404016\n",
       "1903-01-01   33.202008\n",
       "1904-01-01   -8.511713\n",
       "1905-01-01   20.306359\n",
       "1906-01-01   -9.208701\n",
       "1907-01-01  -26.094311\n",
       "1908-01-01    9.707028\n",
       "1909-01-01   11.794645\n",
       "1910-01-01   -4.902343\n",
       "1911-01-01   11.902343"
      ]
     },
     "execution_count": 51,
     "metadata": {},
     "output_type": "execute_result"
    }
   ],
   "source": [
    "#Addings index to the residuals & converting into dataframe\n",
    "skirts_aa_res = pd.DataFrame(skirts_aa_res, index=skirts.index)\n",
    "skirts_aa_res"
   ]
  },
  {
   "cell_type": "code",
   "execution_count": 52,
   "id": "c6512803",
   "metadata": {},
   "outputs": [
    {
     "name": "stdout",
     "output_type": "stream",
     "text": [
      "782.2861317286374\n"
     ]
    }
   ],
   "source": [
    "#Calculating RMSE\n",
    "skirts_aa_rmse = sqrt(mean_squared_error(skirts,skirts_aa_res))\n",
    "print(skirts_aa_rmse) #782.2861317288002\n"
   ]
  },
  {
   "cell_type": "code",
   "execution_count": 53,
   "id": "c89a3dd0",
   "metadata": {},
   "outputs": [
    {
     "data": {
      "text/plain": [
       "Text(0.5, 1.0, 'Histogram of Skirts_residuals')"
      ]
     },
     "execution_count": 53,
     "metadata": {},
     "output_type": "execute_result"
    },
    {
     "data": {
      "image/png": "[encoded data removed]",
      "text/plain": [
       "<Figure size 432x288 with 1 Axes>"
      ]
     },
     "metadata": {
      "needs_background": "light"
     },
     "output_type": "display_data"
    }
   ],
   "source": [
    "#Residuals plot\n",
    "plt.hist(skirts_aa_res)\n",
    "plt.title('Histogram of Skirts_residuals')"
   ]
  },
  {
   "cell_type": "code",
   "execution_count": 54,
   "id": "f9c1e9e0",
   "metadata": {},
   "outputs": [
    {
     "data": {
      "text/plain": [
       "array([534.80468522, 539.86656088, 544.55170013, 549.34973423,\n",
       "       554.11393765, 558.88827896, 563.65958229, 568.431796  ,\n",
       "       573.2037369 , 577.97575956, 582.74775771, 587.51976321,\n",
       "       592.2917665 , 597.06377046, 601.83577421, 606.60777803,\n",
       "       611.37978183, 616.15178563, 620.92378944])"
      ]
     },
     "execution_count": 54,
     "metadata": {},
     "output_type": "execute_result"
    }
   ],
   "source": [
    "#Forecasting next 19 periods\n",
    "skirts_aa_pred = skirts_aa.predict(n_periods=19)\n",
    "skirts_aa_pred"
   ]
  },
  {
   "cell_type": "code",
   "execution_count": 55,
   "id": "8d05e7cc",
   "metadata": {},
   "outputs": [
    {
     "data": {
      "text/html": [
       "<div>\n",
       "<style scoped>\n",
       "    .dataframe tbody tr th:only-of-type {\n",
       "        vertical-align: middle;\n",
       "    }\n",
       "\n",
       "    .dataframe tbody tr th {\n",
       "        vertical-align: top;\n",
       "    }\n",
       "\n",
       "    .dataframe thead th {\n",
       "        text-align: right;\n",
       "    }\n",
       "</style>\n",
       "<table border=\"1\" class=\"dataframe\">\n",
       "  <thead>\n",
       "    <tr style=\"text-align: right;\">\n",
       "      <th></th>\n",
       "      <th>0</th>\n",
       "    </tr>\n",
       "  </thead>\n",
       "  <tbody>\n",
       "    <tr>\n",
       "      <th>1912-01-01</th>\n",
       "      <td>534.804685</td>\n",
       "    </tr>\n",
       "    <tr>\n",
       "      <th>1913-01-01</th>\n",
       "      <td>539.866561</td>\n",
       "    </tr>\n",
       "    <tr>\n",
       "      <th>1914-01-01</th>\n",
       "      <td>544.551700</td>\n",
       "    </tr>\n",
       "    <tr>\n",
       "      <th>1915-01-01</th>\n",
       "      <td>549.349734</td>\n",
       "    </tr>\n",
       "    <tr>\n",
       "      <th>1916-01-01</th>\n",
       "      <td>554.113938</td>\n",
       "    </tr>\n",
       "    <tr>\n",
       "      <th>1917-01-01</th>\n",
       "      <td>558.888279</td>\n",
       "    </tr>\n",
       "    <tr>\n",
       "      <th>1918-01-01</th>\n",
       "      <td>563.659582</td>\n",
       "    </tr>\n",
       "    <tr>\n",
       "      <th>1919-01-01</th>\n",
       "      <td>568.431796</td>\n",
       "    </tr>\n",
       "    <tr>\n",
       "      <th>1920-01-01</th>\n",
       "      <td>573.203737</td>\n",
       "    </tr>\n",
       "    <tr>\n",
       "      <th>1921-01-01</th>\n",
       "      <td>577.975760</td>\n",
       "    </tr>\n",
       "    <tr>\n",
       "      <th>1922-01-01</th>\n",
       "      <td>582.747758</td>\n",
       "    </tr>\n",
       "    <tr>\n",
       "      <th>1923-01-01</th>\n",
       "      <td>587.519763</td>\n",
       "    </tr>\n",
       "    <tr>\n",
       "      <th>1924-01-01</th>\n",
       "      <td>592.291767</td>\n",
       "    </tr>\n",
       "    <tr>\n",
       "      <th>1925-01-01</th>\n",
       "      <td>597.063770</td>\n",
       "    </tr>\n",
       "    <tr>\n",
       "      <th>1926-01-01</th>\n",
       "      <td>601.835774</td>\n",
       "    </tr>\n",
       "    <tr>\n",
       "      <th>1927-01-01</th>\n",
       "      <td>606.607778</td>\n",
       "    </tr>\n",
       "    <tr>\n",
       "      <th>1928-01-01</th>\n",
       "      <td>611.379782</td>\n",
       "    </tr>\n",
       "    <tr>\n",
       "      <th>1929-01-01</th>\n",
       "      <td>616.151786</td>\n",
       "    </tr>\n",
       "    <tr>\n",
       "      <th>1930-01-01</th>\n",
       "      <td>620.923789</td>\n",
       "    </tr>\n",
       "  </tbody>\n",
       "</table>\n",
       "</div>"
      ],
      "text/plain": [
       "                     0\n",
       "1912-01-01  534.804685\n",
       "1913-01-01  539.866561\n",
       "1914-01-01  544.551700\n",
       "1915-01-01  549.349734\n",
       "1916-01-01  554.113938\n",
       "1917-01-01  558.888279\n",
       "1918-01-01  563.659582\n",
       "1919-01-01  568.431796\n",
       "1920-01-01  573.203737\n",
       "1921-01-01  577.975760\n",
       "1922-01-01  582.747758\n",
       "1923-01-01  587.519763\n",
       "1924-01-01  592.291767\n",
       "1925-01-01  597.063770\n",
       "1926-01-01  601.835774\n",
       "1927-01-01  606.607778\n",
       "1928-01-01  611.379782\n",
       "1929-01-01  616.151786\n",
       "1930-01-01  620.923789"
      ]
     },
     "execution_count": 55,
     "metadata": {},
     "output_type": "execute_result"
    }
   ],
   "source": [
    "#Adding date index to the forecasting values and converting arrays to dataframe\n",
    "skirts_aa_pred = pd.DataFrame(skirts_aa_pred, \n",
    "                              index=pd.date_range(start='1912-01-01',\n",
    "                                                  periods=19,freq='YS'))\n",
    "skirts_aa_pred"
   ]
  },
  {
   "cell_type": "code",
   "execution_count": 56,
   "id": "7019c23f",
   "metadata": {},
   "outputs": [
    {
     "data": {
      "image/png": "[encoded data removed]",
      "text/plain": [
       "<Figure size 432x288 with 1 Axes>"
      ]
     },
     "metadata": {
      "needs_background": "light"
     },
     "output_type": "display_data"
    }
   ],
   "source": [
    "#Plot of actual and forecast\n",
    "plt.plot(skirts)\n",
    "plt.plot(skirts_aa_pred)\n",
    "plt.legend(['Actual', 'Forecast'])\n",
    "plt.show()\n"
   ]
  },
  {
   "cell_type": "code",
   "execution_count": null,
   "id": "8068b155",
   "metadata": {},
   "outputs": [],
   "source": []
  }
 ],
 "metadata": {
  "kernelspec": {
   "display_name": "Python 3",
   "language": "python",
   "name": "python3"
  },
  "language_info": {
   "codemirror_mode": {
    "name": "ipython",
    "version": 3
   },
   "file_extension": ".py",
   "mimetype": "text/x-python",
   "name": "python",
   "nbconvert_exporter": "python",
   "pygments_lexer": "ipython3",
   "version": "3.8.8"
  }
 },
 "nbformat": 4,
 "nbformat_minor": 5
}
