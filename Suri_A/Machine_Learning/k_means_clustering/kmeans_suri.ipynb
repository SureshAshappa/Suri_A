{
 "cells": [
  {
   "cell_type": "code",
   "execution_count": 1,
   "id": "b18038f5",
   "metadata": {},
   "outputs": [],
   "source": [
    "import pandas as pd\n",
    "import numpy as np\n",
    "import seaborn as sns\n",
    "import matplotlib.pyplot as plt\n",
    "pd.set_option('display.max_column',None)\n",
    "from random import sample\n",
    "from sklearn import preprocessing\n",
    "from sklearn.preprocessing import scale\n",
    "from sklearn.preprocessing import StandardScaler\n",
    "from sklearn.cluster import KMeans\n",
    "from scipy.spatial import distance_matrix\n",
    "from scipy.spatial import distance\n",
    "from sklearn import datasets\n",
    "from sklearn.metrics import silhouette_score\n",
    "from sklearn.metrics import silhouette_samples\n",
    "from sklearn.decomposition import PCA\n"
   ]
  },
  {
   "cell_type": "code",
   "execution_count": 2,
   "id": "99e1cb65",
   "metadata": {},
   "outputs": [],
   "source": [
    "data=pd.read_csv('USArrests.csv')"
   ]
  },
  {
   "cell_type": "code",
   "execution_count": 3,
   "id": "9de4e523",
   "metadata": {},
   "outputs": [
    {
     "data": {
      "text/html": [
       "<div>\n",
       "<style scoped>\n",
       "    .dataframe tbody tr th:only-of-type {\n",
       "        vertical-align: middle;\n",
       "    }\n",
       "\n",
       "    .dataframe tbody tr th {\n",
       "        vertical-align: top;\n",
       "    }\n",
       "\n",
       "    .dataframe thead th {\n",
       "        text-align: right;\n",
       "    }\n",
       "</style>\n",
       "<table border=\"1\" class=\"dataframe\">\n",
       "  <thead>\n",
       "    <tr style=\"text-align: right;\">\n",
       "      <th></th>\n",
       "      <th>State</th>\n",
       "      <th>Murder</th>\n",
       "      <th>Assault</th>\n",
       "      <th>UrbanPop</th>\n",
       "      <th>Rape</th>\n",
       "      <th>sil_score</th>\n",
       "    </tr>\n",
       "  </thead>\n",
       "  <tbody>\n",
       "    <tr>\n",
       "      <th>0</th>\n",
       "      <td>Alabama</td>\n",
       "      <td>13.2</td>\n",
       "      <td>236</td>\n",
       "      <td>58</td>\n",
       "      <td>21.2</td>\n",
       "      <td>0.485775</td>\n",
       "    </tr>\n",
       "    <tr>\n",
       "      <th>1</th>\n",
       "      <td>Alaska</td>\n",
       "      <td>10.0</td>\n",
       "      <td>263</td>\n",
       "      <td>48</td>\n",
       "      <td>44.5</td>\n",
       "      <td>0.058252</td>\n",
       "    </tr>\n",
       "    <tr>\n",
       "      <th>2</th>\n",
       "      <td>Arizona</td>\n",
       "      <td>8.1</td>\n",
       "      <td>294</td>\n",
       "      <td>80</td>\n",
       "      <td>31.0</td>\n",
       "      <td>0.415483</td>\n",
       "    </tr>\n",
       "    <tr>\n",
       "      <th>3</th>\n",
       "      <td>Arkansas</td>\n",
       "      <td>8.8</td>\n",
       "      <td>190</td>\n",
       "      <td>50</td>\n",
       "      <td>19.5</td>\n",
       "      <td>0.118709</td>\n",
       "    </tr>\n",
       "    <tr>\n",
       "      <th>4</th>\n",
       "      <td>California</td>\n",
       "      <td>9.0</td>\n",
       "      <td>276</td>\n",
       "      <td>91</td>\n",
       "      <td>40.6</td>\n",
       "      <td>0.435559</td>\n",
       "    </tr>\n",
       "  </tbody>\n",
       "</table>\n",
       "</div>"
      ],
      "text/plain": [
       "        State  Murder  Assault  UrbanPop  Rape  sil_score\n",
       "0     Alabama    13.2      236        58  21.2   0.485775\n",
       "1      Alaska    10.0      263        48  44.5   0.058252\n",
       "2     Arizona     8.1      294        80  31.0   0.415483\n",
       "3    Arkansas     8.8      190        50  19.5   0.118709\n",
       "4  California     9.0      276        91  40.6   0.435559"
      ]
     },
     "execution_count": 3,
     "metadata": {},
     "output_type": "execute_result"
    }
   ],
   "source": [
    "data.head()"
   ]
  },
  {
   "cell_type": "code",
   "execution_count": 5,
   "id": "8ecba0c9",
   "metadata": {},
   "outputs": [
    {
     "data": {
      "text/plain": [
       "(50, 6)"
      ]
     },
     "execution_count": 5,
     "metadata": {},
     "output_type": "execute_result"
    }
   ],
   "source": [
    "data.shape"
   ]
  },
  {
   "cell_type": "code",
   "execution_count": 6,
   "id": "e0be6326",
   "metadata": {},
   "outputs": [
    {
     "name": "stdout",
     "output_type": "stream",
     "text": [
      "<class 'pandas.core.frame.DataFrame'>\n",
      "RangeIndex: 50 entries, 0 to 49\n",
      "Data columns (total 6 columns):\n",
      " #   Column     Non-Null Count  Dtype  \n",
      "---  ------     --------------  -----  \n",
      " 0   State      50 non-null     object \n",
      " 1   Murder     50 non-null     float64\n",
      " 2   Assault    50 non-null     int64  \n",
      " 3   UrbanPop   50 non-null     int64  \n",
      " 4   Rape       50 non-null     float64\n",
      " 5   sil_score  50 non-null     float64\n",
      "dtypes: float64(3), int64(2), object(1)\n",
      "memory usage: 2.5+ KB\n"
     ]
    }
   ],
   "source": [
    "data.info()"
   ]
  },
  {
   "cell_type": "code",
   "execution_count": 7,
   "id": "ef9eb526",
   "metadata": {},
   "outputs": [],
   "source": [
    "data=data.set_index('State')"
   ]
  },
  {
   "cell_type": "code",
   "execution_count": 8,
   "id": "1a8791cc",
   "metadata": {},
   "outputs": [
    {
     "data": {
      "text/html": [
       "<div>\n",
       "<style scoped>\n",
       "    .dataframe tbody tr th:only-of-type {\n",
       "        vertical-align: middle;\n",
       "    }\n",
       "\n",
       "    .dataframe tbody tr th {\n",
       "        vertical-align: top;\n",
       "    }\n",
       "\n",
       "    .dataframe thead th {\n",
       "        text-align: right;\n",
       "    }\n",
       "</style>\n",
       "<table border=\"1\" class=\"dataframe\">\n",
       "  <thead>\n",
       "    <tr style=\"text-align: right;\">\n",
       "      <th></th>\n",
       "      <th>Murder</th>\n",
       "      <th>Assault</th>\n",
       "      <th>UrbanPop</th>\n",
       "      <th>Rape</th>\n",
       "      <th>sil_score</th>\n",
       "    </tr>\n",
       "    <tr>\n",
       "      <th>State</th>\n",
       "      <th></th>\n",
       "      <th></th>\n",
       "      <th></th>\n",
       "      <th></th>\n",
       "      <th></th>\n",
       "    </tr>\n",
       "  </thead>\n",
       "  <tbody>\n",
       "    <tr>\n",
       "      <th>Alabama</th>\n",
       "      <td>13.2</td>\n",
       "      <td>236</td>\n",
       "      <td>58</td>\n",
       "      <td>21.2</td>\n",
       "      <td>0.485775</td>\n",
       "    </tr>\n",
       "    <tr>\n",
       "      <th>Alaska</th>\n",
       "      <td>10.0</td>\n",
       "      <td>263</td>\n",
       "      <td>48</td>\n",
       "      <td>44.5</td>\n",
       "      <td>0.058252</td>\n",
       "    </tr>\n",
       "    <tr>\n",
       "      <th>Arizona</th>\n",
       "      <td>8.1</td>\n",
       "      <td>294</td>\n",
       "      <td>80</td>\n",
       "      <td>31.0</td>\n",
       "      <td>0.415483</td>\n",
       "    </tr>\n",
       "    <tr>\n",
       "      <th>Arkansas</th>\n",
       "      <td>8.8</td>\n",
       "      <td>190</td>\n",
       "      <td>50</td>\n",
       "      <td>19.5</td>\n",
       "      <td>0.118709</td>\n",
       "    </tr>\n",
       "    <tr>\n",
       "      <th>California</th>\n",
       "      <td>9.0</td>\n",
       "      <td>276</td>\n",
       "      <td>91</td>\n",
       "      <td>40.6</td>\n",
       "      <td>0.435559</td>\n",
       "    </tr>\n",
       "  </tbody>\n",
       "</table>\n",
       "</div>"
      ],
      "text/plain": [
       "            Murder  Assault  UrbanPop  Rape  sil_score\n",
       "State                                                 \n",
       "Alabama       13.2      236        58  21.2   0.485775\n",
       "Alaska        10.0      263        48  44.5   0.058252\n",
       "Arizona        8.1      294        80  31.0   0.415483\n",
       "Arkansas       8.8      190        50  19.5   0.118709\n",
       "California     9.0      276        91  40.6   0.435559"
      ]
     },
     "execution_count": 8,
     "metadata": {},
     "output_type": "execute_result"
    }
   ],
   "source": [
    "data.head()"
   ]
  },
  {
   "cell_type": "code",
   "execution_count": 9,
   "id": "9659c5db",
   "metadata": {},
   "outputs": [],
   "source": [
    "sample=data.sample(frac=0.20,replace=False,random_state=123)"
   ]
  },
  {
   "cell_type": "code",
   "execution_count": 10,
   "id": "e03fcf83",
   "metadata": {},
   "outputs": [
    {
     "data": {
      "text/html": [
       "<div>\n",
       "<style scoped>\n",
       "    .dataframe tbody tr th:only-of-type {\n",
       "        vertical-align: middle;\n",
       "    }\n",
       "\n",
       "    .dataframe tbody tr th {\n",
       "        vertical-align: top;\n",
       "    }\n",
       "\n",
       "    .dataframe thead th {\n",
       "        text-align: right;\n",
       "    }\n",
       "</style>\n",
       "<table border=\"1\" class=\"dataframe\">\n",
       "  <thead>\n",
       "    <tr style=\"text-align: right;\">\n",
       "      <th></th>\n",
       "      <th>Murder</th>\n",
       "      <th>Assault</th>\n",
       "      <th>UrbanPop</th>\n",
       "      <th>Rape</th>\n",
       "      <th>sil_score</th>\n",
       "    </tr>\n",
       "    <tr>\n",
       "      <th>State</th>\n",
       "      <th></th>\n",
       "      <th></th>\n",
       "      <th></th>\n",
       "      <th></th>\n",
       "      <th></th>\n",
       "    </tr>\n",
       "  </thead>\n",
       "  <tbody>\n",
       "    <tr>\n",
       "      <th>Hawaii</th>\n",
       "      <td>5.3</td>\n",
       "      <td>46</td>\n",
       "      <td>83</td>\n",
       "      <td>20.2</td>\n",
       "      <td>0.335259</td>\n",
       "    </tr>\n",
       "    <tr>\n",
       "      <th>Indiana</th>\n",
       "      <td>7.2</td>\n",
       "      <td>113</td>\n",
       "      <td>65</td>\n",
       "      <td>21.0</td>\n",
       "      <td>0.307631</td>\n",
       "    </tr>\n",
       "    <tr>\n",
       "      <th>New Mexico</th>\n",
       "      <td>11.4</td>\n",
       "      <td>285</td>\n",
       "      <td>70</td>\n",
       "      <td>32.1</td>\n",
       "      <td>0.327703</td>\n",
       "    </tr>\n",
       "    <tr>\n",
       "      <th>Washington</th>\n",
       "      <td>4.0</td>\n",
       "      <td>145</td>\n",
       "      <td>73</td>\n",
       "      <td>26.2</td>\n",
       "      <td>0.437123</td>\n",
       "    </tr>\n",
       "    <tr>\n",
       "      <th>Maine</th>\n",
       "      <td>2.1</td>\n",
       "      <td>83</td>\n",
       "      <td>51</td>\n",
       "      <td>7.8</td>\n",
       "      <td>0.544340</td>\n",
       "    </tr>\n",
       "    <tr>\n",
       "      <th>Alabama</th>\n",
       "      <td>13.2</td>\n",
       "      <td>236</td>\n",
       "      <td>58</td>\n",
       "      <td>21.2</td>\n",
       "      <td>0.485775</td>\n",
       "    </tr>\n",
       "    <tr>\n",
       "      <th>South Dakota</th>\n",
       "      <td>3.8</td>\n",
       "      <td>86</td>\n",
       "      <td>45</td>\n",
       "      <td>12.8</td>\n",
       "      <td>0.544407</td>\n",
       "    </tr>\n",
       "    <tr>\n",
       "      <th>Illinois</th>\n",
       "      <td>10.4</td>\n",
       "      <td>249</td>\n",
       "      <td>83</td>\n",
       "      <td>24.0</td>\n",
       "      <td>0.262780</td>\n",
       "    </tr>\n",
       "    <tr>\n",
       "      <th>New Jersey</th>\n",
       "      <td>7.4</td>\n",
       "      <td>159</td>\n",
       "      <td>89</td>\n",
       "      <td>18.8</td>\n",
       "      <td>0.376536</td>\n",
       "    </tr>\n",
       "    <tr>\n",
       "      <th>Florida</th>\n",
       "      <td>15.4</td>\n",
       "      <td>335</td>\n",
       "      <td>80</td>\n",
       "      <td>31.9</td>\n",
       "      <td>0.258017</td>\n",
       "    </tr>\n",
       "  </tbody>\n",
       "</table>\n",
       "</div>"
      ],
      "text/plain": [
       "              Murder  Assault  UrbanPop  Rape  sil_score\n",
       "State                                                   \n",
       "Hawaii           5.3       46        83  20.2   0.335259\n",
       "Indiana          7.2      113        65  21.0   0.307631\n",
       "New Mexico      11.4      285        70  32.1   0.327703\n",
       "Washington       4.0      145        73  26.2   0.437123\n",
       "Maine            2.1       83        51   7.8   0.544340\n",
       "Alabama         13.2      236        58  21.2   0.485775\n",
       "South Dakota     3.8       86        45  12.8   0.544407\n",
       "Illinois        10.4      249        83  24.0   0.262780\n",
       "New Jersey       7.4      159        89  18.8   0.376536\n",
       "Florida         15.4      335        80  31.9   0.258017"
      ]
     },
     "execution_count": 10,
     "metadata": {},
     "output_type": "execute_result"
    }
   ],
   "source": [
    "len(sample)\n",
    "sample"
   ]
  },
  {
   "cell_type": "code",
   "execution_count": 11,
   "id": "69aa0884",
   "metadata": {},
   "outputs": [],
   "source": [
    "DM=pd.DataFrame(distance_matrix(sample.values,sample.values),index=sample.index,columns=sample.index)\n",
    "round(DM,2)\n",
    "DM.to_csv('DM2.csv')"
   ]
  },
  {
   "cell_type": "code",
   "execution_count": 12,
   "id": "2791c60b",
   "metadata": {},
   "outputs": [
    {
     "data": {
      "text/html": [
       "<div>\n",
       "<style scoped>\n",
       "    .dataframe tbody tr th:only-of-type {\n",
       "        vertical-align: middle;\n",
       "    }\n",
       "\n",
       "    .dataframe tbody tr th {\n",
       "        vertical-align: top;\n",
       "    }\n",
       "\n",
       "    .dataframe thead th {\n",
       "        text-align: right;\n",
       "    }\n",
       "</style>\n",
       "<table border=\"1\" class=\"dataframe\">\n",
       "  <thead>\n",
       "    <tr style=\"text-align: right;\">\n",
       "      <th>State</th>\n",
       "      <th>Hawaii</th>\n",
       "      <th>Indiana</th>\n",
       "      <th>New Mexico</th>\n",
       "      <th>Washington</th>\n",
       "      <th>Maine</th>\n",
       "      <th>Alabama</th>\n",
       "      <th>South Dakota</th>\n",
       "      <th>Illinois</th>\n",
       "      <th>New Jersey</th>\n",
       "      <th>Florida</th>\n",
       "    </tr>\n",
       "    <tr>\n",
       "      <th>State</th>\n",
       "      <th></th>\n",
       "      <th></th>\n",
       "      <th></th>\n",
       "      <th></th>\n",
       "      <th></th>\n",
       "      <th></th>\n",
       "      <th></th>\n",
       "      <th></th>\n",
       "      <th></th>\n",
       "      <th></th>\n",
       "    </tr>\n",
       "  </thead>\n",
       "  <tbody>\n",
       "    <tr>\n",
       "      <th>Hawaii</th>\n",
       "      <td>0.000000</td>\n",
       "      <td>69.406417</td>\n",
       "      <td>239.726553</td>\n",
       "      <td>99.693031</td>\n",
       "      <td>50.567220</td>\n",
       "      <td>191.803109</td>\n",
       "      <td>55.687106</td>\n",
       "      <td>203.099619</td>\n",
       "      <td>113.187330</td>\n",
       "      <td>289.428585</td>\n",
       "    </tr>\n",
       "    <tr>\n",
       "      <th>Indiana</th>\n",
       "      <td>69.406417</td>\n",
       "      <td>0.000000</td>\n",
       "      <td>172.481449</td>\n",
       "      <td>33.545443</td>\n",
       "      <td>36.004250</td>\n",
       "      <td>123.345335</td>\n",
       "      <td>34.754224</td>\n",
       "      <td>137.256118</td>\n",
       "      <td>51.931539</td>\n",
       "      <td>222.923871</td>\n",
       "    </tr>\n",
       "    <tr>\n",
       "      <th>New Mexico</th>\n",
       "      <td>239.726553</td>\n",
       "      <td>172.481449</td>\n",
       "      <td>0.000000</td>\n",
       "      <td>140.351637</td>\n",
       "      <td>204.553237</td>\n",
       "      <td>51.643731</td>\n",
       "      <td>201.634067</td>\n",
       "      <td>39.135843</td>\n",
       "      <td>128.179142</td>\n",
       "      <td>51.147286</td>\n",
       "    </tr>\n",
       "    <tr>\n",
       "      <th>Washington</th>\n",
       "      <td>99.693031</td>\n",
       "      <td>33.545443</td>\n",
       "      <td>140.351637</td>\n",
       "      <td>0.000000</td>\n",
       "      <td>68.338726</td>\n",
       "      <td>92.820485</td>\n",
       "      <td>66.667920</td>\n",
       "      <td>104.698760</td>\n",
       "      <td>22.766723</td>\n",
       "      <td>190.555719</td>\n",
       "    </tr>\n",
       "    <tr>\n",
       "      <th>Maine</th>\n",
       "      <td>50.567220</td>\n",
       "      <td>36.004250</td>\n",
       "      <td>204.553237</td>\n",
       "      <td>68.338726</td>\n",
       "      <td>0.000000</td>\n",
       "      <td>154.145300</td>\n",
       "      <td>8.537564</td>\n",
       "      <td>170.033553</td>\n",
       "      <td>85.843568</td>\n",
       "      <td>255.152468</td>\n",
       "    </tr>\n",
       "    <tr>\n",
       "      <th>Alabama</th>\n",
       "      <td>191.803109</td>\n",
       "      <td>123.345335</td>\n",
       "      <td>51.643731</td>\n",
       "      <td>92.820485</td>\n",
       "      <td>154.145300</td>\n",
       "      <td>0.000000</td>\n",
       "      <td>151.089124</td>\n",
       "      <td>28.455750</td>\n",
       "      <td>83.243089</td>\n",
       "      <td>102.001872</td>\n",
       "    </tr>\n",
       "    <tr>\n",
       "      <th>South Dakota</th>\n",
       "      <td>55.687106</td>\n",
       "      <td>34.754224</td>\n",
       "      <td>201.634067</td>\n",
       "      <td>66.667920</td>\n",
       "      <td>8.537564</td>\n",
       "      <td>151.089124</td>\n",
       "      <td>0.000000</td>\n",
       "      <td>167.875190</td>\n",
       "      <td>85.521858</td>\n",
       "      <td>252.439007</td>\n",
       "    </tr>\n",
       "    <tr>\n",
       "      <th>Illinois</th>\n",
       "      <td>203.099619</td>\n",
       "      <td>137.256118</td>\n",
       "      <td>39.135843</td>\n",
       "      <td>104.698760</td>\n",
       "      <td>170.033553</td>\n",
       "      <td>28.455750</td>\n",
       "      <td>167.875190</td>\n",
       "      <td>0.000000</td>\n",
       "      <td>90.399408</td>\n",
       "      <td>86.558709</td>\n",
       "    </tr>\n",
       "    <tr>\n",
       "      <th>New Jersey</th>\n",
       "      <td>113.187330</td>\n",
       "      <td>51.931539</td>\n",
       "      <td>128.179142</td>\n",
       "      <td>22.766723</td>\n",
       "      <td>85.843568</td>\n",
       "      <td>83.243089</td>\n",
       "      <td>85.521858</td>\n",
       "      <td>90.399408</td>\n",
       "      <td>0.000000</td>\n",
       "      <td>176.897213</td>\n",
       "    </tr>\n",
       "    <tr>\n",
       "      <th>Florida</th>\n",
       "      <td>289.428585</td>\n",
       "      <td>222.923871</td>\n",
       "      <td>51.147286</td>\n",
       "      <td>190.555719</td>\n",
       "      <td>255.152468</td>\n",
       "      <td>102.001872</td>\n",
       "      <td>252.439007</td>\n",
       "      <td>86.558709</td>\n",
       "      <td>176.897213</td>\n",
       "      <td>0.000000</td>\n",
       "    </tr>\n",
       "  </tbody>\n",
       "</table>\n",
       "</div>"
      ],
      "text/plain": [
       "State             Hawaii     Indiana  New Mexico  Washington       Maine  \\\n",
       "State                                                                      \n",
       "Hawaii          0.000000   69.406417  239.726553   99.693031   50.567220   \n",
       "Indiana        69.406417    0.000000  172.481449   33.545443   36.004250   \n",
       "New Mexico    239.726553  172.481449    0.000000  140.351637  204.553237   \n",
       "Washington     99.693031   33.545443  140.351637    0.000000   68.338726   \n",
       "Maine          50.567220   36.004250  204.553237   68.338726    0.000000   \n",
       "Alabama       191.803109  123.345335   51.643731   92.820485  154.145300   \n",
       "South Dakota   55.687106   34.754224  201.634067   66.667920    8.537564   \n",
       "Illinois      203.099619  137.256118   39.135843  104.698760  170.033553   \n",
       "New Jersey    113.187330   51.931539  128.179142   22.766723   85.843568   \n",
       "Florida       289.428585  222.923871   51.147286  190.555719  255.152468   \n",
       "\n",
       "State            Alabama  South Dakota    Illinois  New Jersey     Florida  \n",
       "State                                                                       \n",
       "Hawaii        191.803109     55.687106  203.099619  113.187330  289.428585  \n",
       "Indiana       123.345335     34.754224  137.256118   51.931539  222.923871  \n",
       "New Mexico     51.643731    201.634067   39.135843  128.179142   51.147286  \n",
       "Washington     92.820485     66.667920  104.698760   22.766723  190.555719  \n",
       "Maine         154.145300      8.537564  170.033553   85.843568  255.152468  \n",
       "Alabama         0.000000    151.089124   28.455750   83.243089  102.001872  \n",
       "South Dakota  151.089124      0.000000  167.875190   85.521858  252.439007  \n",
       "Illinois       28.455750    167.875190    0.000000   90.399408   86.558709  \n",
       "New Jersey     83.243089     85.521858   90.399408    0.000000  176.897213  \n",
       "Florida       102.001872    252.439007   86.558709  176.897213    0.000000  "
      ]
     },
     "execution_count": 12,
     "metadata": {},
     "output_type": "execute_result"
    }
   ],
   "source": [
    "DM"
   ]
  },
  {
   "cell_type": "code",
   "execution_count": 13,
   "id": "0100eadc",
   "metadata": {},
   "outputs": [
    {
     "data": {
      "image/png": "[encoded data removed]",
      "text/plain": [
       "<Figure size 432x288 with 1 Axes>"
      ]
     },
     "metadata": {
      "needs_background": "light"
     },
     "output_type": "display_data"
    }
   ],
   "source": [
    "plt.plot(DM)\n",
    "plt.ylabel('Distances')\n",
    "plt.grid(False)\n",
    "plt.xticks(rotation=90)\n",
    "plt.title('distance among states')\n",
    "plt.show()"
   ]
  },
  {
   "cell_type": "code",
   "execution_count": 17,
   "id": "432ab99b",
   "metadata": {},
   "outputs": [
    {
     "data": {
      "text/plain": [
       "array([[ 1.25517927,  0.79078716, -0.52619514, -0.00345116,  0.98353112],\n",
       "       [ 0.51301858,  1.11805959, -1.22406668,  2.50942392, -1.89478211],\n",
       "       [ 0.07236067,  1.49381682,  1.00912225,  1.05346626,  0.51028776],\n",
       "       [ 0.23470832,  0.23321191, -1.08449238, -0.18679398, -1.48775094],\n",
       "       [ 0.28109336,  1.2756352 ,  1.77678094,  2.08881393,  0.64544729],\n",
       "       [ 0.02597562,  0.40290872,  0.86954794,  1.88390137, -0.08850964],\n",
       "       [-1.04088037, -0.73648418,  0.79976079, -1.09272319, -0.75751408],\n",
       "       [-0.43787481,  0.81502956,  0.45082502, -0.58583422, -0.04518929],\n",
       "       [ 1.76541475,  1.99078607,  1.00912225,  1.1505301 , -0.54985538],\n",
       "       [ 2.22926518,  0.48775713, -0.38662083,  0.49265293,  0.21620801],\n",
       "       [-0.57702994, -1.51224105,  1.21848371, -0.11129987, -0.0298244 ],\n",
       "       [-1.20322802, -0.61527217, -0.80534376, -0.75839217,  0.38541301],\n",
       "       [ 0.60578867,  0.94836277,  1.21848371,  0.29852525, -0.51779156],\n",
       "       [-0.13637203, -0.70012057, -0.03768506, -0.0250209 , -0.21582923],\n",
       "       [-1.29599811, -1.39102904, -0.5959823 , -1.07115345,  1.10873273],\n",
       "       [-0.41468229, -0.67587817,  0.03210209, -0.34856705, -0.51399042],\n",
       "       [ 0.44344101, -0.74860538, -0.94491807, -0.53190987, -1.68376989],\n",
       "       [ 1.76541475,  0.94836277,  0.03210209,  0.10439756, -0.14682633],\n",
       "       [-1.31919063, -1.06375661, -1.01470522, -1.44862395,  1.37781733],\n",
       "       [ 0.81452136,  1.56654403,  0.10188925,  0.70835037, -1.63073093],\n",
       "       [-0.78576263, -0.26375734,  1.35805802, -0.53190987,  0.95874429],\n",
       "       [ 1.00006153,  1.02108998,  0.59039932,  1.49564599,  0.52563836],\n",
       "       [-1.1800355 , -1.19708982,  0.03210209, -0.68289807, -1.33348802],\n",
       "       [ 1.9277624 ,  1.06957478, -1.5032153 , -0.44563089,  1.41486046],\n",
       "       [ 0.28109336,  0.0877575 ,  0.31125071,  0.75148985, -2.7796624 ],\n",
       "       [-0.41468229, -0.74860538, -0.87513091, -0.521125  , -0.4428012 ],\n",
       "       [-0.80895515, -0.83345379, -0.24704653, -0.51034012, -1.84574276],\n",
       "       [ 1.02325405,  0.98472638,  1.0789094 ,  2.671197  ,  0.57514244],\n",
       "       [-1.31919063, -1.37890783, -0.66576945, -1.26528114,  1.23213863],\n",
       "       [-0.08998698, -0.14254532,  1.63720664, -0.26228808,  0.24807464],\n",
       "       [ 0.83771388,  1.38472601,  0.31125071,  1.17209984, -0.08069822],\n",
       "       [ 0.76813632,  1.00896878,  1.42784517,  0.52500755,  0.13250531],\n",
       "       [ 1.20879423,  2.01502847, -1.43342815, -0.55347961,  0.67414609],\n",
       "       [-1.62069341, -1.52436225, -1.5032153 , -1.50254831,  1.28338033],\n",
       "       [-0.11317951, -0.61527217,  0.66018648,  0.01811858,  1.05692173],\n",
       "       [-0.27552716, -0.23951493,  0.1716764 , -0.13286962,  0.67443664],\n",
       "       [-0.66980002, -0.14254532,  0.10188925,  0.87012344, -0.31971727],\n",
       "       [-0.34510472, -0.78496898,  0.45082502, -0.68289807, -0.06038333],\n",
       "       [-1.01768785,  0.03927269,  1.49763233, -1.39469959, -0.07962721],\n",
       "       [ 1.53348953,  1.3119988 , -1.22406668,  0.13675217,  1.32012962],\n",
       "       [-0.92491776, -1.027393  , -1.43342815, -0.90938037,  1.37827225],\n",
       "       [ 1.25517927,  0.20896951, -0.45640799,  0.61128652, -0.30875276],\n",
       "       [ 1.13921666,  0.36654512,  1.00912225,  0.46029832, -0.85389519],\n",
       "       [-1.06407289, -0.61527217,  1.00912225,  0.17989166,  0.7282491 ],\n",
       "       [-1.29599811, -1.48799864, -2.34066115, -1.08193832,  0.97673534],\n",
       "       [ 0.16513075, -0.17890893, -0.17725937, -0.05737552, -0.34537605],\n",
       "       [-0.87853272, -0.31224214,  0.52061217,  0.53579242,  0.65598074],\n",
       "       [-0.48425985, -1.08799901, -1.85215107, -1.28685088,  1.01250057],\n",
       "       [-1.20322802, -1.42739264,  0.03210209, -1.1250778 , -0.49812127],\n",
       "       [-0.22914211, -0.11830292, -0.38662083, -0.60740397, -1.56466391]])"
      ]
     },
     "execution_count": 17,
     "metadata": {},
     "output_type": "execute_result"
    }
   ],
   "source": [
    "data_scaled=StandardScaler().fit_transform(data)\n",
    "data_scaled"
   ]
  },
  {
   "cell_type": "code",
   "execution_count": 18,
   "id": "a3b19bbc",
   "metadata": {},
   "outputs": [
    {
     "name": "stderr",
     "output_type": "stream",
     "text": [
      "C:\\Users\\SURESH A\\Downloads\\pythonnew\\lib\\site-packages\\sklearn\\cluster\\_kmeans.py:881: UserWarning: KMeans is known to have a memory leak on Windows with MKL, when there are less chunks than available threads. You can avoid it by setting the environment variable OMP_NUM_THREADS=1.\n",
      "  warnings.warn(\n"
     ]
    },
    {
     "data": {
      "image/png": "[encoded data removed]",
      "text/plain": [
       "<Figure size 720x576 with 1 Axes>"
      ]
     },
     "metadata": {
      "needs_background": "light"
     },
     "output_type": "display_data"
    }
   ],
   "source": [
    "plt.figure(figsize=(10,8))\n",
    "\n",
    "wcss = []\n",
    "for i in range(1,11):\n",
    "    kmeans = KMeans(n_clusters= i, init= 'random', random_state=42)\n",
    "    kmeans.fit(data_scaled)\n",
    "    wcss.append(kmeans.inertia_)\n",
    "    \n",
    "plt.plot(range(1,11), wcss, 'gx-')\n",
    "plt.title('wcss of clusters')\n",
    "plt.xlabel('number of clusters')\n",
    "plt.ylabel('wcss')\n",
    "plt.show()\n",
    "    "
   ]
  },
  {
   "cell_type": "markdown",
   "id": "f2ddc427",
   "metadata": {},
   "source": [
    "Clustering happened!"
   ]
  },
  {
   "cell_type": "code",
   "execution_count": 19,
   "id": "c3747a1b",
   "metadata": {},
   "outputs": [],
   "source": [
    "kmeans = KMeans(n_clusters=4)"
   ]
  },
  {
   "cell_type": "markdown",
   "id": "043691b7",
   "metadata": {},
   "source": [
    "#fitting the cluster to the backend(not fitted dataset here)\n",
    "#clusters allocation"
   ]
  },
  {
   "cell_type": "code",
   "execution_count": 20,
   "id": "4cffe9b1",
   "metadata": {},
   "outputs": [
    {
     "data": {
      "text/plain": [
       "array([0, 3, 3, 1, 3, 3, 1, 1, 3, 0, 1, 2, 3, 1, 2, 1, 1, 0, 2, 3, 1, 3,\n",
       "       1, 0, 1, 1, 1, 3, 2, 1, 3, 3, 0, 2, 1, 1, 1, 1, 1, 0, 2, 0, 3, 1,\n",
       "       2, 1, 1, 2, 1, 1])"
      ]
     },
     "execution_count": 20,
     "metadata": {},
     "output_type": "execute_result"
    }
   ],
   "source": [
    "clusters=kmeans.fit_predict(data_scaled)\n",
    "clusters"
   ]
  },
  {
   "cell_type": "markdown",
   "id": "a6d17960",
   "metadata": {},
   "source": [
    "Cluster Membership"
   ]
  },
  {
   "cell_type": "code",
   "execution_count": 21,
   "id": "1f543a9c",
   "metadata": {},
   "outputs": [
    {
     "data": {
      "text/html": [
       "<div>\n",
       "<style scoped>\n",
       "    .dataframe tbody tr th:only-of-type {\n",
       "        vertical-align: middle;\n",
       "    }\n",
       "\n",
       "    .dataframe tbody tr th {\n",
       "        vertical-align: top;\n",
       "    }\n",
       "\n",
       "    .dataframe thead th {\n",
       "        text-align: right;\n",
       "    }\n",
       "</style>\n",
       "<table border=\"1\" class=\"dataframe\">\n",
       "  <thead>\n",
       "    <tr style=\"text-align: right;\">\n",
       "      <th></th>\n",
       "      <th>Murder</th>\n",
       "      <th>Assault</th>\n",
       "      <th>UrbanPop</th>\n",
       "      <th>Rape</th>\n",
       "      <th>sil_score</th>\n",
       "      <th>member</th>\n",
       "    </tr>\n",
       "    <tr>\n",
       "      <th>State</th>\n",
       "      <th></th>\n",
       "      <th></th>\n",
       "      <th></th>\n",
       "      <th></th>\n",
       "      <th></th>\n",
       "      <th></th>\n",
       "    </tr>\n",
       "  </thead>\n",
       "  <tbody>\n",
       "    <tr>\n",
       "      <th>Alabama</th>\n",
       "      <td>13.2</td>\n",
       "      <td>236</td>\n",
       "      <td>58</td>\n",
       "      <td>21.2</td>\n",
       "      <td>0.485775</td>\n",
       "      <td>1</td>\n",
       "    </tr>\n",
       "    <tr>\n",
       "      <th>Alaska</th>\n",
       "      <td>10.0</td>\n",
       "      <td>263</td>\n",
       "      <td>48</td>\n",
       "      <td>44.5</td>\n",
       "      <td>0.058252</td>\n",
       "      <td>4</td>\n",
       "    </tr>\n",
       "    <tr>\n",
       "      <th>Arizona</th>\n",
       "      <td>8.1</td>\n",
       "      <td>294</td>\n",
       "      <td>80</td>\n",
       "      <td>31.0</td>\n",
       "      <td>0.415483</td>\n",
       "      <td>4</td>\n",
       "    </tr>\n",
       "    <tr>\n",
       "      <th>Arkansas</th>\n",
       "      <td>8.8</td>\n",
       "      <td>190</td>\n",
       "      <td>50</td>\n",
       "      <td>19.5</td>\n",
       "      <td>0.118709</td>\n",
       "      <td>2</td>\n",
       "    </tr>\n",
       "    <tr>\n",
       "      <th>California</th>\n",
       "      <td>9.0</td>\n",
       "      <td>276</td>\n",
       "      <td>91</td>\n",
       "      <td>40.6</td>\n",
       "      <td>0.435559</td>\n",
       "      <td>4</td>\n",
       "    </tr>\n",
       "  </tbody>\n",
       "</table>\n",
       "</div>"
      ],
      "text/plain": [
       "            Murder  Assault  UrbanPop  Rape  sil_score  member\n",
       "State                                                         \n",
       "Alabama       13.2      236        58  21.2   0.485775       1\n",
       "Alaska        10.0      263        48  44.5   0.058252       4\n",
       "Arizona        8.1      294        80  31.0   0.415483       4\n",
       "Arkansas       8.8      190        50  19.5   0.118709       2\n",
       "California     9.0      276        91  40.6   0.435559       4"
      ]
     },
     "execution_count": 21,
     "metadata": {},
     "output_type": "execute_result"
    }
   ],
   "source": [
    "Final_Clusters=clusters+1\n",
    "cluster=list(Final_Clusters)\n",
    "data['member']=cluster\n",
    "data.head()"
   ]
  },
  {
   "cell_type": "markdown",
   "id": "c84b2768",
   "metadata": {},
   "source": [
    "Overall Silhouette Score\n"
   ]
  },
  {
   "cell_type": "markdown",
   "id": "1e6a1217",
   "metadata": {},
   "source": [
    "silhouette score_OVERALL"
   ]
  },
  {
   "cell_type": "code",
   "execution_count": 22,
   "id": "d938cc04",
   "metadata": {},
   "outputs": [
    {
     "name": "stdout",
     "output_type": "stream",
     "text": [
      "sill score(n=4) : 0.33631840100435817\n"
     ]
    }
   ],
   "source": [
    "print(f'sill score(n=4) : {silhouette_score(data_scaled,cluster)}')"
   ]
  },
  {
   "cell_type": "markdown",
   "id": "39b19178",
   "metadata": {},
   "source": [
    "Silhouette Score of each data point\n"
   ]
  },
  {
   "cell_type": "code",
   "execution_count": 23,
   "id": "039a8a2b",
   "metadata": {},
   "outputs": [],
   "source": [
    "sample_values=silhouette_samples(data_scaled,cluster)"
   ]
  },
  {
   "cell_type": "markdown",
   "id": "d5e160a2",
   "metadata": {},
   "source": [
    "sample_values is an array , convert to pdf"
   ]
  },
  {
   "cell_type": "code",
   "execution_count": 24,
   "id": "208e960e",
   "metadata": {},
   "outputs": [],
   "source": [
    "sample_values=pd.DataFrame(sample_values)"
   ]
  },
  {
   "cell_type": "code",
   "execution_count": 25,
   "id": "702fd43f",
   "metadata": {},
   "outputs": [
    {
     "data": {
      "text/html": [
       "<div>\n",
       "<style scoped>\n",
       "    .dataframe tbody tr th:only-of-type {\n",
       "        vertical-align: middle;\n",
       "    }\n",
       "\n",
       "    .dataframe tbody tr th {\n",
       "        vertical-align: top;\n",
       "    }\n",
       "\n",
       "    .dataframe thead th {\n",
       "        text-align: right;\n",
       "    }\n",
       "</style>\n",
       "<table border=\"1\" class=\"dataframe\">\n",
       "  <thead>\n",
       "    <tr style=\"text-align: right;\">\n",
       "      <th></th>\n",
       "      <th>0</th>\n",
       "    </tr>\n",
       "  </thead>\n",
       "  <tbody>\n",
       "    <tr>\n",
       "      <th>0</th>\n",
       "      <td>0.488442</td>\n",
       "    </tr>\n",
       "    <tr>\n",
       "      <th>1</th>\n",
       "      <td>0.134416</td>\n",
       "    </tr>\n",
       "    <tr>\n",
       "      <th>2</th>\n",
       "      <td>0.349808</td>\n",
       "    </tr>\n",
       "    <tr>\n",
       "      <th>3</th>\n",
       "      <td>0.131495</td>\n",
       "    </tr>\n",
       "    <tr>\n",
       "      <th>4</th>\n",
       "      <td>0.414228</td>\n",
       "    </tr>\n",
       "    <tr>\n",
       "      <th>5</th>\n",
       "      <td>0.329751</td>\n",
       "    </tr>\n",
       "    <tr>\n",
       "      <th>6</th>\n",
       "      <td>0.347236</td>\n",
       "    </tr>\n",
       "    <tr>\n",
       "      <th>7</th>\n",
       "      <td>0.232043</td>\n",
       "    </tr>\n",
       "    <tr>\n",
       "      <th>8</th>\n",
       "      <td>0.253339</td>\n",
       "    </tr>\n",
       "    <tr>\n",
       "      <th>9</th>\n",
       "      <td>0.385686</td>\n",
       "    </tr>\n",
       "    <tr>\n",
       "      <th>10</th>\n",
       "      <td>0.330143</td>\n",
       "    </tr>\n",
       "    <tr>\n",
       "      <th>11</th>\n",
       "      <td>0.321188</td>\n",
       "    </tr>\n",
       "    <tr>\n",
       "      <th>12</th>\n",
       "      <td>0.277106</td>\n",
       "    </tr>\n",
       "    <tr>\n",
       "      <th>13</th>\n",
       "      <td>0.373543</td>\n",
       "    </tr>\n",
       "    <tr>\n",
       "      <th>14</th>\n",
       "      <td>0.597731</td>\n",
       "    </tr>\n",
       "    <tr>\n",
       "      <th>15</th>\n",
       "      <td>0.399420</td>\n",
       "    </tr>\n",
       "    <tr>\n",
       "      <th>16</th>\n",
       "      <td>0.256808</td>\n",
       "    </tr>\n",
       "    <tr>\n",
       "      <th>17</th>\n",
       "      <td>0.260211</td>\n",
       "    </tr>\n",
       "    <tr>\n",
       "      <th>18</th>\n",
       "      <td>0.678541</td>\n",
       "    </tr>\n",
       "    <tr>\n",
       "      <th>19</th>\n",
       "      <td>0.187710</td>\n",
       "    </tr>\n",
       "    <tr>\n",
       "      <th>20</th>\n",
       "      <td>0.247710</td>\n",
       "    </tr>\n",
       "    <tr>\n",
       "      <th>21</th>\n",
       "      <td>0.268744</td>\n",
       "    </tr>\n",
       "    <tr>\n",
       "      <th>22</th>\n",
       "      <td>0.292144</td>\n",
       "    </tr>\n",
       "    <tr>\n",
       "      <th>23</th>\n",
       "      <td>0.547394</td>\n",
       "    </tr>\n",
       "    <tr>\n",
       "      <th>24</th>\n",
       "      <td>0.003990</td>\n",
       "    </tr>\n",
       "    <tr>\n",
       "      <th>25</th>\n",
       "      <td>0.082991</td>\n",
       "    </tr>\n",
       "    <tr>\n",
       "      <th>26</th>\n",
       "      <td>0.348925</td>\n",
       "    </tr>\n",
       "    <tr>\n",
       "      <th>27</th>\n",
       "      <td>0.353326</td>\n",
       "    </tr>\n",
       "    <tr>\n",
       "      <th>28</th>\n",
       "      <td>0.636311</td>\n",
       "    </tr>\n",
       "    <tr>\n",
       "      <th>29</th>\n",
       "      <td>0.219080</td>\n",
       "    </tr>\n",
       "    <tr>\n",
       "      <th>30</th>\n",
       "      <td>0.257887</td>\n",
       "    </tr>\n",
       "    <tr>\n",
       "      <th>31</th>\n",
       "      <td>0.324774</td>\n",
       "    </tr>\n",
       "    <tr>\n",
       "      <th>32</th>\n",
       "      <td>0.455946</td>\n",
       "    </tr>\n",
       "    <tr>\n",
       "      <th>33</th>\n",
       "      <td>0.674997</td>\n",
       "    </tr>\n",
       "    <tr>\n",
       "      <th>34</th>\n",
       "      <td>0.216303</td>\n",
       "    </tr>\n",
       "    <tr>\n",
       "      <th>35</th>\n",
       "      <td>0.231431</td>\n",
       "    </tr>\n",
       "    <tr>\n",
       "      <th>36</th>\n",
       "      <td>0.216292</td>\n",
       "    </tr>\n",
       "    <tr>\n",
       "      <th>37</th>\n",
       "      <td>0.344448</td>\n",
       "    </tr>\n",
       "    <tr>\n",
       "      <th>38</th>\n",
       "      <td>0.297914</td>\n",
       "    </tr>\n",
       "    <tr>\n",
       "      <th>39</th>\n",
       "      <td>0.539848</td>\n",
       "    </tr>\n",
       "    <tr>\n",
       "      <th>40</th>\n",
       "      <td>0.659477</td>\n",
       "    </tr>\n",
       "    <tr>\n",
       "      <th>41</th>\n",
       "      <td>0.180921</td>\n",
       "    </tr>\n",
       "    <tr>\n",
       "      <th>42</th>\n",
       "      <td>0.217444</td>\n",
       "    </tr>\n",
       "    <tr>\n",
       "      <th>43</th>\n",
       "      <td>0.267679</td>\n",
       "    </tr>\n",
       "    <tr>\n",
       "      <th>44</th>\n",
       "      <td>0.601381</td>\n",
       "    </tr>\n",
       "    <tr>\n",
       "      <th>45</th>\n",
       "      <td>0.279176</td>\n",
       "    </tr>\n",
       "    <tr>\n",
       "      <th>46</th>\n",
       "      <td>0.274521</td>\n",
       "    </tr>\n",
       "    <tr>\n",
       "      <th>47</th>\n",
       "      <td>0.589322</td>\n",
       "    </tr>\n",
       "    <tr>\n",
       "      <th>48</th>\n",
       "      <td>0.051295</td>\n",
       "    </tr>\n",
       "    <tr>\n",
       "      <th>49</th>\n",
       "      <td>0.385406</td>\n",
       "    </tr>\n",
       "  </tbody>\n",
       "</table>\n",
       "</div>"
      ],
      "text/plain": [
       "           0\n",
       "0   0.488442\n",
       "1   0.134416\n",
       "2   0.349808\n",
       "3   0.131495\n",
       "4   0.414228\n",
       "5   0.329751\n",
       "6   0.347236\n",
       "7   0.232043\n",
       "8   0.253339\n",
       "9   0.385686\n",
       "10  0.330143\n",
       "11  0.321188\n",
       "12  0.277106\n",
       "13  0.373543\n",
       "14  0.597731\n",
       "15  0.399420\n",
       "16  0.256808\n",
       "17  0.260211\n",
       "18  0.678541\n",
       "19  0.187710\n",
       "20  0.247710\n",
       "21  0.268744\n",
       "22  0.292144\n",
       "23  0.547394\n",
       "24  0.003990\n",
       "25  0.082991\n",
       "26  0.348925\n",
       "27  0.353326\n",
       "28  0.636311\n",
       "29  0.219080\n",
       "30  0.257887\n",
       "31  0.324774\n",
       "32  0.455946\n",
       "33  0.674997\n",
       "34  0.216303\n",
       "35  0.231431\n",
       "36  0.216292\n",
       "37  0.344448\n",
       "38  0.297914\n",
       "39  0.539848\n",
       "40  0.659477\n",
       "41  0.180921\n",
       "42  0.217444\n",
       "43  0.267679\n",
       "44  0.601381\n",
       "45  0.279176\n",
       "46  0.274521\n",
       "47  0.589322\n",
       "48  0.051295\n",
       "49  0.385406"
      ]
     },
     "execution_count": 25,
     "metadata": {},
     "output_type": "execute_result"
    }
   ],
   "source": [
    "sample_values"
   ]
  },
  {
   "cell_type": "markdown",
   "id": "5ebfb5ce",
   "metadata": {},
   "source": [
    "export to desktop"
   ]
  },
  {
   "cell_type": "code",
   "execution_count": 31,
   "id": "d821958b",
   "metadata": {},
   "outputs": [],
   "source": [
    "sample_values.to_csv('http://localhost:8888/edit/Downloads/sample_values.csv')"
   ]
  },
  {
   "cell_type": "code",
   "execution_count": 37,
   "id": "4bb5a7ac",
   "metadata": {},
   "outputs": [],
   "source": [
    "data1=pd.read_csv('CLSTUSA1.csv')"
   ]
  },
  {
   "cell_type": "code",
   "execution_count": 38,
   "id": "0d32d03f",
   "metadata": {},
   "outputs": [
    {
     "data": {
      "text/html": [
       "<div>\n",
       "<style scoped>\n",
       "    .dataframe tbody tr th:only-of-type {\n",
       "        vertical-align: middle;\n",
       "    }\n",
       "\n",
       "    .dataframe tbody tr th {\n",
       "        vertical-align: top;\n",
       "    }\n",
       "\n",
       "    .dataframe thead th {\n",
       "        text-align: right;\n",
       "    }\n",
       "</style>\n",
       "<table border=\"1\" class=\"dataframe\">\n",
       "  <thead>\n",
       "    <tr style=\"text-align: right;\">\n",
       "      <th></th>\n",
       "      <th>State</th>\n",
       "      <th>Murder</th>\n",
       "      <th>Assault</th>\n",
       "      <th>UrbanPop</th>\n",
       "      <th>Rape</th>\n",
       "      <th>member</th>\n",
       "      <th>sil_score</th>\n",
       "    </tr>\n",
       "  </thead>\n",
       "  <tbody>\n",
       "    <tr>\n",
       "      <th>0</th>\n",
       "      <td>Alabama</td>\n",
       "      <td>13.2</td>\n",
       "      <td>236</td>\n",
       "      <td>58</td>\n",
       "      <td>21.2</td>\n",
       "      <td>1</td>\n",
       "      <td>0.485775</td>\n",
       "    </tr>\n",
       "    <tr>\n",
       "      <th>1</th>\n",
       "      <td>Alaska</td>\n",
       "      <td>10.0</td>\n",
       "      <td>263</td>\n",
       "      <td>48</td>\n",
       "      <td>44.5</td>\n",
       "      <td>3</td>\n",
       "      <td>0.058252</td>\n",
       "    </tr>\n",
       "    <tr>\n",
       "      <th>2</th>\n",
       "      <td>Arizona</td>\n",
       "      <td>8.1</td>\n",
       "      <td>294</td>\n",
       "      <td>80</td>\n",
       "      <td>31.0</td>\n",
       "      <td>3</td>\n",
       "      <td>0.415483</td>\n",
       "    </tr>\n",
       "    <tr>\n",
       "      <th>3</th>\n",
       "      <td>Arkansas</td>\n",
       "      <td>8.8</td>\n",
       "      <td>190</td>\n",
       "      <td>50</td>\n",
       "      <td>19.5</td>\n",
       "      <td>1</td>\n",
       "      <td>0.118709</td>\n",
       "    </tr>\n",
       "    <tr>\n",
       "      <th>4</th>\n",
       "      <td>California</td>\n",
       "      <td>9.0</td>\n",
       "      <td>276</td>\n",
       "      <td>91</td>\n",
       "      <td>40.6</td>\n",
       "      <td>3</td>\n",
       "      <td>0.435559</td>\n",
       "    </tr>\n",
       "  </tbody>\n",
       "</table>\n",
       "</div>"
      ],
      "text/plain": [
       "        State  Murder  Assault  UrbanPop  Rape  member  sil_score\n",
       "0     Alabama    13.2      236        58  21.2       1   0.485775\n",
       "1      Alaska    10.0      263        48  44.5       3   0.058252\n",
       "2     Arizona     8.1      294        80  31.0       3   0.415483\n",
       "3    Arkansas     8.8      190        50  19.5       1   0.118709\n",
       "4  California     9.0      276        91  40.6       3   0.435559"
      ]
     },
     "execution_count": 38,
     "metadata": {},
     "output_type": "execute_result"
    }
   ],
   "source": [
    "data1.head()"
   ]
  },
  {
   "cell_type": "code",
   "execution_count": 39,
   "id": "2c9bfd73",
   "metadata": {},
   "outputs": [],
   "source": [
    "data1=pd.DataFrame(data1)"
   ]
  },
  {
   "cell_type": "markdown",
   "id": "72f28bf4",
   "metadata": {},
   "source": [
    "Pattern of sil_score across clusters"
   ]
  },
  {
   "cell_type": "code",
   "execution_count": 40,
   "id": "c38661c5",
   "metadata": {},
   "outputs": [
    {
     "data": {
      "text/plain": [
       "Text(0.5, 1.0, 'Silhouette Scores')"
      ]
     },
     "execution_count": 40,
     "metadata": {},
     "output_type": "execute_result"
    },
    {
     "data": {
      "image/png": "[encoded data removed]",
      "text/plain": [
       "<Figure size 432x288 with 1 Axes>"
      ]
     },
     "metadata": {
      "needs_background": "light"
     },
     "output_type": "display_data"
    }
   ],
   "source": [
    "sns.violinplot(x='member',y='sil_score',data=data1)\n",
    "plt.title('Silhouette Scores')"
   ]
  },
  {
   "cell_type": "code",
   "execution_count": 41,
   "id": "9ece3599",
   "metadata": {},
   "outputs": [
    {
     "data": {
      "text/plain": [
       "Text(0.5, 1.0, 'boxplot for silhouette score')"
      ]
     },
     "execution_count": 41,
     "metadata": {},
     "output_type": "execute_result"
    },
    {
     "data": {
      "image/png": "[encoded data removed]",
      "text/plain": [
       "<Figure size 432x288 with 1 Axes>"
      ]
     },
     "metadata": {
      "needs_background": "light"
     },
     "output_type": "display_data"
    }
   ],
   "source": [
    "sns.boxplot(x='member',y='sil_score',data=data1)\n",
    "plt.title('boxplot for silhouette score')"
   ]
  },
  {
   "cell_type": "code",
   "execution_count": 42,
   "id": "8c3a94af",
   "metadata": {},
   "outputs": [],
   "source": [
    "from sklearn.metrics import silhouette_samples"
   ]
  },
  {
   "cell_type": "code",
   "execution_count": 43,
   "id": "be46a197",
   "metadata": {},
   "outputs": [],
   "source": [
    "num_clusters = 4"
   ]
  },
  {
   "cell_type": "markdown",
   "id": "71fc5e51",
   "metadata": {},
   "source": [
    "sil score for each data point\n",
    "do it again we had made DataFrame before"
   ]
  },
  {
   "cell_type": "code",
   "execution_count": 44,
   "id": "d21610d6",
   "metadata": {},
   "outputs": [],
   "source": [
    "sample_values=silhouette_samples(data_scaled,cluster)"
   ]
  },
  {
   "cell_type": "code",
   "execution_count": 45,
   "id": "5f1a8852",
   "metadata": {},
   "outputs": [
    {
     "name": "stdout",
     "output_type": "stream",
     "text": [
      "[0.41]\n",
      "[0.41, 0.25]\n",
      "[0.41, 0.25, 0.59]\n",
      "[0.41, 0.25, 0.59, 0.28]\n"
     ]
    }
   ],
   "source": [
    "means_list=[]\n",
    "for i in range(num_clusters):\n",
    "    means_list.append(round(sample_values[i == clusters].mean(),2))\n",
    "    print(means_list)"
   ]
  },
  {
   "cell_type": "code",
   "execution_count": 47,
   "id": "b5bd9138",
   "metadata": {},
   "outputs": [],
   "source": [
    "from matplotlib import cm\n",
    "from sklearn.metrics import silhouette_samples"
   ]
  },
  {
   "cell_type": "code",
   "execution_count": 48,
   "id": "26e87ac3",
   "metadata": {},
   "outputs": [
    {
     "data": {
      "text/plain": [
       "Text(0.5, 0, 'Silhouette coefficient')"
      ]
     },
     "execution_count": 48,
     "metadata": {},
     "output_type": "execute_result"
    },
    {
     "data": {
      "image/png": "[encoded data removed]",
      "text/plain": [
       "<Figure size 864x432 with 1 Axes>"
      ]
     },
     "metadata": {
      "needs_background": "light"
     },
     "output_type": "display_data"
    }
   ],
   "source": [
    "plt.figure(figsize=(12,6))\n",
    "cluster_labels = np.unique(clusters)\n",
    "n_clusters = cluster_labels.shape[0]\n",
    "silhouette_vals = silhouette_samples(data_scaled,clusters,metric='euclidean')\n",
    "y_ax_lower, y_ax_upper = 0, 0\n",
    "yticks = []\n",
    "\n",
    "for i, c in enumerate(cluster_labels):\n",
    "    c_silhouette_vals = silhouette_vals[clusters == c]\n",
    "    c_silhouette_vals.sort()\n",
    "    y_ax_upper += len(c_silhouette_vals)\n",
    "    color = cm.jet(float(i) / n_clusters)\n",
    "    plt.barh(range(y_ax_lower, y_ax_upper),\n",
    "             c_silhouette_vals,\n",
    "             height=1.0,\n",
    "             edgecolor='none',\n",
    "             color=color)\n",
    "    yticks.append((y_ax_lower + y_ax_upper) / 2.)\n",
    "    y_ax_lower += len(c_silhouette_vals)\n",
    "silhouette_avg = np.mean(silhouette_vals)\n",
    "plt.axvline(silhouette_avg,\n",
    "            color=\"red\",\n",
    "            linestyle=\"--\")\n",
    "plt.yticks(yticks, cluster_labels + 1)\n",
    "plt.ylabel('Cluster')\n",
    "plt.xlabel('Silhouette coefficient')\n",
    "\n",
    "\n"
   ]
  },
  {
   "cell_type": "code",
   "execution_count": 49,
   "id": "c51421f4",
   "metadata": {},
   "outputs": [
    {
     "data": {
      "text/html": [
       "<div>\n",
       "<style scoped>\n",
       "    .dataframe tbody tr th:only-of-type {\n",
       "        vertical-align: middle;\n",
       "    }\n",
       "\n",
       "    .dataframe tbody tr th {\n",
       "        vertical-align: top;\n",
       "    }\n",
       "\n",
       "    .dataframe thead th {\n",
       "        text-align: right;\n",
       "    }\n",
       "</style>\n",
       "<table border=\"1\" class=\"dataframe\">\n",
       "  <thead>\n",
       "    <tr style=\"text-align: right;\">\n",
       "      <th></th>\n",
       "      <th>Murder</th>\n",
       "      <th>Assault</th>\n",
       "      <th>UrbanPop</th>\n",
       "      <th>Rape</th>\n",
       "      <th>sil_score</th>\n",
       "    </tr>\n",
       "    <tr>\n",
       "      <th>member</th>\n",
       "      <th></th>\n",
       "      <th></th>\n",
       "      <th></th>\n",
       "      <th></th>\n",
       "      <th></th>\n",
       "    </tr>\n",
       "  </thead>\n",
       "  <tbody>\n",
       "    <tr>\n",
       "      <th>1</th>\n",
       "      <td>14.671429</td>\n",
       "      <td>251.285714</td>\n",
       "      <td>54.285714</td>\n",
       "      <td>21.685714</td>\n",
       "      <td>0.427817</td>\n",
       "    </tr>\n",
       "    <tr>\n",
       "      <th>2</th>\n",
       "      <td>5.808696</td>\n",
       "      <td>131.956522</td>\n",
       "      <td>69.608696</td>\n",
       "      <td>18.395652</td>\n",
       "      <td>0.277169</td>\n",
       "    </tr>\n",
       "    <tr>\n",
       "      <th>3</th>\n",
       "      <td>2.687500</td>\n",
       "      <td>72.000000</td>\n",
       "      <td>47.250000</td>\n",
       "      <td>10.425000</td>\n",
       "      <td>0.502239</td>\n",
       "    </tr>\n",
       "    <tr>\n",
       "      <th>4</th>\n",
       "      <td>10.966667</td>\n",
       "      <td>264.000000</td>\n",
       "      <td>76.500000</td>\n",
       "      <td>33.608333</td>\n",
       "      <td>0.299743</td>\n",
       "    </tr>\n",
       "  </tbody>\n",
       "</table>\n",
       "</div>"
      ],
      "text/plain": [
       "           Murder     Assault   UrbanPop       Rape  sil_score\n",
       "member                                                        \n",
       "1       14.671429  251.285714  54.285714  21.685714   0.427817\n",
       "2        5.808696  131.956522  69.608696  18.395652   0.277169\n",
       "3        2.687500   72.000000  47.250000  10.425000   0.502239\n",
       "4       10.966667  264.000000  76.500000  33.608333   0.299743"
      ]
     },
     "execution_count": 49,
     "metadata": {},
     "output_type": "execute_result"
    }
   ],
   "source": [
    "data.groupby(data['member']).mean()"
   ]
  },
  {
   "cell_type": "markdown",
   "id": "79745d5b",
   "metadata": {},
   "source": [
    "plotting the scatterplot"
   ]
  },
  {
   "cell_type": "code",
   "execution_count": 50,
   "id": "460618d6",
   "metadata": {},
   "outputs": [
    {
     "name": "stderr",
     "output_type": "stream",
     "text": [
      "C:\\Users\\SURESH A\\Downloads\\pythonnew\\lib\\site-packages\\seaborn\\_decorators.py:36: FutureWarning: Pass the following variables as keyword args: x, y. From version 0.12, the only valid positional argument will be `data`, and passing other arguments without an explicit keyword will result in an error or misinterpretation.\n",
      "  warnings.warn(\n"
     ]
    },
    {
     "data": {
      "text/plain": [
       "<AxesSubplot:xlabel='Murder', ylabel='Rape'>"
      ]
     },
     "execution_count": 50,
     "metadata": {},
     "output_type": "execute_result"
    },
    {
     "data": {
      "image/png": "[encoded data removed]",
      "text/plain": [
       "<Figure size 864x432 with 1 Axes>"
      ]
     },
     "metadata": {
      "needs_background": "light"
     },
     "output_type": "display_data"
    }
   ],
   "source": [
    "plt.figure(figsize=(12,6))\n",
    "sns.scatterplot(data['Murder'],data['Rape'],hue=Final_Clusters,palette=['green','orange','blue','red'])"
   ]
  },
  {
   "cell_type": "code",
   "execution_count": null,
   "id": "7f9a84a3",
   "metadata": {},
   "outputs": [],
   "source": []
  }
 ],
 "metadata": {
  "kernelspec": {
   "display_name": "Python 3",
   "language": "python",
   "name": "python3"
  },
  "language_info": {
   "codemirror_mode": {
    "name": "ipython",
    "version": 3
   },
   "file_extension": ".py",
   "mimetype": "text/x-python",
   "name": "python",
   "nbconvert_exporter": "python",
   "pygments_lexer": "ipython3",
   "version": "3.8.8"
  }
 },
 "nbformat": 4,
 "nbformat_minor": 5
}
