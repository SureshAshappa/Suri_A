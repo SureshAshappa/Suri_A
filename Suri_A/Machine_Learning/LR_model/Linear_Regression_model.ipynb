{
 "cells": [
  {
   "cell_type": "code",
   "execution_count": 1,
   "id": "7b16b73c",
   "metadata": {},
   "outputs": [],
   "source": [
    "import numpy as np\n",
    "import pandas as pd\n",
    "import matplotlib.pyplot as plt\n",
    "import seaborn as sns\n",
    "from scipy import stats \n",
    "import statsmodels.api as sm\n",
    "from statsmodels.formula.api import ols\n",
    "from statsmodels.stats.multicomp import pairwise_tukeyhsd\n",
    "import statsmodels.formula.api as smf\n"
   ]
  },
  {
   "cell_type": "code",
   "execution_count": 2,
   "id": "a5c73055",
   "metadata": {},
   "outputs": [],
   "source": [
    "data=pd.read_csv('insurance.csv')"
   ]
  },
  {
   "cell_type": "code",
   "execution_count": 3,
   "id": "13f16e7f",
   "metadata": {},
   "outputs": [],
   "source": [
    "data.drop('id',axis=1,inplace = True)"
   ]
  },
  {
   "cell_type": "code",
   "execution_count": 4,
   "id": "1b3b4594",
   "metadata": {},
   "outputs": [
    {
     "data": {
      "text/html": [
       "<div>\n",
       "<style scoped>\n",
       "    .dataframe tbody tr th:only-of-type {\n",
       "        vertical-align: middle;\n",
       "    }\n",
       "\n",
       "    .dataframe tbody tr th {\n",
       "        vertical-align: top;\n",
       "    }\n",
       "\n",
       "    .dataframe thead th {\n",
       "        text-align: right;\n",
       "    }\n",
       "</style>\n",
       "<table border=\"1\" class=\"dataframe\">\n",
       "  <thead>\n",
       "    <tr style=\"text-align: right;\">\n",
       "      <th></th>\n",
       "      <th>age</th>\n",
       "      <th>sex</th>\n",
       "      <th>bmi</th>\n",
       "      <th>children</th>\n",
       "      <th>smoker</th>\n",
       "      <th>region</th>\n",
       "      <th>charges</th>\n",
       "    </tr>\n",
       "  </thead>\n",
       "  <tbody>\n",
       "    <tr>\n",
       "      <th>0</th>\n",
       "      <td>19</td>\n",
       "      <td>female</td>\n",
       "      <td>27.900</td>\n",
       "      <td>0</td>\n",
       "      <td>yes</td>\n",
       "      <td>southwest</td>\n",
       "      <td>16884.92400</td>\n",
       "    </tr>\n",
       "    <tr>\n",
       "      <th>1</th>\n",
       "      <td>18</td>\n",
       "      <td>male</td>\n",
       "      <td>33.770</td>\n",
       "      <td>1</td>\n",
       "      <td>no</td>\n",
       "      <td>southeast</td>\n",
       "      <td>1725.55230</td>\n",
       "    </tr>\n",
       "    <tr>\n",
       "      <th>2</th>\n",
       "      <td>28</td>\n",
       "      <td>male</td>\n",
       "      <td>33.000</td>\n",
       "      <td>3</td>\n",
       "      <td>no</td>\n",
       "      <td>southeast</td>\n",
       "      <td>4449.46200</td>\n",
       "    </tr>\n",
       "    <tr>\n",
       "      <th>3</th>\n",
       "      <td>33</td>\n",
       "      <td>male</td>\n",
       "      <td>22.705</td>\n",
       "      <td>0</td>\n",
       "      <td>no</td>\n",
       "      <td>northwest</td>\n",
       "      <td>21984.47061</td>\n",
       "    </tr>\n",
       "    <tr>\n",
       "      <th>4</th>\n",
       "      <td>32</td>\n",
       "      <td>male</td>\n",
       "      <td>28.880</td>\n",
       "      <td>0</td>\n",
       "      <td>no</td>\n",
       "      <td>northwest</td>\n",
       "      <td>3866.85520</td>\n",
       "    </tr>\n",
       "  </tbody>\n",
       "</table>\n",
       "</div>"
      ],
      "text/plain": [
       "   age     sex     bmi  children smoker     region      charges\n",
       "0   19  female  27.900         0    yes  southwest  16884.92400\n",
       "1   18    male  33.770         1     no  southeast   1725.55230\n",
       "2   28    male  33.000         3     no  southeast   4449.46200\n",
       "3   33    male  22.705         0     no  northwest  21984.47061\n",
       "4   32    male  28.880         0     no  northwest   3866.85520"
      ]
     },
     "execution_count": 4,
     "metadata": {},
     "output_type": "execute_result"
    }
   ],
   "source": [
    "data.head()"
   ]
  },
  {
   "cell_type": "code",
   "execution_count": 5,
   "id": "3919d6d9",
   "metadata": {},
   "outputs": [
    {
     "name": "stdout",
     "output_type": "stream",
     "text": [
      "4\n"
     ]
    },
    {
     "data": {
      "text/plain": [
       "Index(['age', 'bmi', 'children', 'charges'], dtype='object')"
      ]
     },
     "execution_count": 5,
     "metadata": {},
     "output_type": "execute_result"
    }
   ],
   "source": [
    "numerical=data.select_dtypes(include=np.number)\n",
    "print(len(numerical.columns))\n",
    "numerical.columns"
   ]
  },
  {
   "cell_type": "code",
   "execution_count": 6,
   "id": "1214a3c9",
   "metadata": {},
   "outputs": [
    {
     "name": "stdout",
     "output_type": "stream",
     "text": [
      "3\n"
     ]
    },
    {
     "data": {
      "text/plain": [
       "Index(['sex', 'smoker', 'region'], dtype='object')"
      ]
     },
     "execution_count": 6,
     "metadata": {},
     "output_type": "execute_result"
    }
   ],
   "source": [
    "categorical=data.select_dtypes(include=object)\n",
    "print(len(categorical.columns))\n",
    "categorical.columns"
   ]
  },
  {
   "cell_type": "code",
   "execution_count": 7,
   "id": "fb49e196",
   "metadata": {},
   "outputs": [
    {
     "name": "stdout",
     "output_type": "stream",
     "text": [
      "<class 'pandas.core.frame.DataFrame'>\n",
      "RangeIndex: 1338 entries, 0 to 1337\n",
      "Data columns (total 7 columns):\n",
      " #   Column    Non-Null Count  Dtype  \n",
      "---  ------    --------------  -----  \n",
      " 0   age       1338 non-null   int64  \n",
      " 1   sex       1338 non-null   object \n",
      " 2   bmi       1338 non-null   float64\n",
      " 3   children  1338 non-null   int64  \n",
      " 4   smoker    1338 non-null   object \n",
      " 5   region    1338 non-null   object \n",
      " 6   charges   1338 non-null   float64\n",
      "dtypes: float64(2), int64(2), object(3)\n",
      "memory usage: 73.3+ KB\n"
     ]
    }
   ],
   "source": [
    "data.info()"
   ]
  },
  {
   "cell_type": "code",
   "execution_count": 8,
   "id": "ffbbc60d",
   "metadata": {},
   "outputs": [
    {
     "data": {
      "text/plain": [
       "age         0\n",
       "sex         0\n",
       "bmi         0\n",
       "children    0\n",
       "smoker      0\n",
       "region      0\n",
       "charges     0\n",
       "dtype: int64"
      ]
     },
     "execution_count": 8,
     "metadata": {},
     "output_type": "execute_result"
    }
   ],
   "source": [
    "data.isnull().sum()"
   ]
  },
  {
   "cell_type": "code",
   "execution_count": 9,
   "id": "38c6bccd",
   "metadata": {},
   "outputs": [],
   "source": [
    "data['chrges']=np.log(data['charges'])"
   ]
  },
  {
   "cell_type": "code",
   "execution_count": 10,
   "id": "55efffa8",
   "metadata": {},
   "outputs": [],
   "source": [
    "dummy_enc=pd.get_dummies(categorical,drop_first=True)"
   ]
  },
  {
   "cell_type": "code",
   "execution_count": 11,
   "id": "4aa35acf",
   "metadata": {},
   "outputs": [],
   "source": [
    "data1=pd.concat([dummy_enc,numerical],axis=1)"
   ]
  },
  {
   "cell_type": "code",
   "execution_count": 12,
   "id": "64b212d6",
   "metadata": {},
   "outputs": [
    {
     "data": {
      "text/html": [
       "<div>\n",
       "<style scoped>\n",
       "    .dataframe tbody tr th:only-of-type {\n",
       "        vertical-align: middle;\n",
       "    }\n",
       "\n",
       "    .dataframe tbody tr th {\n",
       "        vertical-align: top;\n",
       "    }\n",
       "\n",
       "    .dataframe thead th {\n",
       "        text-align: right;\n",
       "    }\n",
       "</style>\n",
       "<table border=\"1\" class=\"dataframe\">\n",
       "  <thead>\n",
       "    <tr style=\"text-align: right;\">\n",
       "      <th></th>\n",
       "      <th>sex_male</th>\n",
       "      <th>smoker_yes</th>\n",
       "      <th>region_northwest</th>\n",
       "      <th>region_southeast</th>\n",
       "      <th>region_southwest</th>\n",
       "      <th>age</th>\n",
       "      <th>bmi</th>\n",
       "      <th>children</th>\n",
       "      <th>charges</th>\n",
       "    </tr>\n",
       "  </thead>\n",
       "  <tbody>\n",
       "    <tr>\n",
       "      <th>0</th>\n",
       "      <td>0</td>\n",
       "      <td>1</td>\n",
       "      <td>0</td>\n",
       "      <td>0</td>\n",
       "      <td>1</td>\n",
       "      <td>19</td>\n",
       "      <td>27.900</td>\n",
       "      <td>0</td>\n",
       "      <td>16884.92400</td>\n",
       "    </tr>\n",
       "    <tr>\n",
       "      <th>1</th>\n",
       "      <td>1</td>\n",
       "      <td>0</td>\n",
       "      <td>0</td>\n",
       "      <td>1</td>\n",
       "      <td>0</td>\n",
       "      <td>18</td>\n",
       "      <td>33.770</td>\n",
       "      <td>1</td>\n",
       "      <td>1725.55230</td>\n",
       "    </tr>\n",
       "    <tr>\n",
       "      <th>2</th>\n",
       "      <td>1</td>\n",
       "      <td>0</td>\n",
       "      <td>0</td>\n",
       "      <td>1</td>\n",
       "      <td>0</td>\n",
       "      <td>28</td>\n",
       "      <td>33.000</td>\n",
       "      <td>3</td>\n",
       "      <td>4449.46200</td>\n",
       "    </tr>\n",
       "    <tr>\n",
       "      <th>3</th>\n",
       "      <td>1</td>\n",
       "      <td>0</td>\n",
       "      <td>1</td>\n",
       "      <td>0</td>\n",
       "      <td>0</td>\n",
       "      <td>33</td>\n",
       "      <td>22.705</td>\n",
       "      <td>0</td>\n",
       "      <td>21984.47061</td>\n",
       "    </tr>\n",
       "    <tr>\n",
       "      <th>4</th>\n",
       "      <td>1</td>\n",
       "      <td>0</td>\n",
       "      <td>1</td>\n",
       "      <td>0</td>\n",
       "      <td>0</td>\n",
       "      <td>32</td>\n",
       "      <td>28.880</td>\n",
       "      <td>0</td>\n",
       "      <td>3866.85520</td>\n",
       "    </tr>\n",
       "  </tbody>\n",
       "</table>\n",
       "</div>"
      ],
      "text/plain": [
       "   sex_male  smoker_yes  region_northwest  region_southeast  region_southwest  \\\n",
       "0         0           1                 0                 0                 1   \n",
       "1         1           0                 0                 1                 0   \n",
       "2         1           0                 0                 1                 0   \n",
       "3         1           0                 1                 0                 0   \n",
       "4         1           0                 1                 0                 0   \n",
       "\n",
       "   age     bmi  children      charges  \n",
       "0   19  27.900         0  16884.92400  \n",
       "1   18  33.770         1   1725.55230  \n",
       "2   28  33.000         3   4449.46200  \n",
       "3   33  22.705         0  21984.47061  \n",
       "4   32  28.880         0   3866.85520  "
      ]
     },
     "execution_count": 12,
     "metadata": {},
     "output_type": "execute_result"
    }
   ],
   "source": [
    "data1.head()"
   ]
  },
  {
   "cell_type": "code",
   "execution_count": 13,
   "id": "44407c70",
   "metadata": {},
   "outputs": [],
   "source": [
    "#Library for VIF\n",
    "from statsmodels.stats.outliers_influence import variance_inflation_factor"
   ]
  },
  {
   "cell_type": "code",
   "execution_count": 14,
   "id": "29314675",
   "metadata": {},
   "outputs": [],
   "source": [
    "def calculate_vif(dataset):\n",
    "    vif = pd.DataFrame()\n",
    "    vif[\"features\"] = dataset.columns\n",
    "    vif[\"VIF_Values\"] = [variance_inflation_factor(dataset.values, i) for i in range(dataset.shape[1])]\n",
    "    return(vif)"
   ]
  },
  {
   "cell_type": "markdown",
   "id": "cafb5110",
   "metadata": {},
   "source": [
    "**1. take dataset from input**\n",
    "\n",
    "**2. create a empty dataframe**\n",
    "\n",
    "**3. one columns features means name of the column dataset**\n",
    "\n",
    "**second  vif_value means what is the vif value for particular column**"
   ]
  },
  {
   "cell_type": "markdown",
   "id": "02d9034d",
   "metadata": {},
   "source": [
    "# correlation  test to remove highly impact"
   ]
  },
  {
   "cell_type": "code",
   "execution_count": 15,
   "id": "abfce53e",
   "metadata": {},
   "outputs": [
    {
     "data": {
      "text/html": [
       "<div>\n",
       "<style scoped>\n",
       "    .dataframe tbody tr th:only-of-type {\n",
       "        vertical-align: middle;\n",
       "    }\n",
       "\n",
       "    .dataframe tbody tr th {\n",
       "        vertical-align: top;\n",
       "    }\n",
       "\n",
       "    .dataframe thead th {\n",
       "        text-align: right;\n",
       "    }\n",
       "</style>\n",
       "<table border=\"1\" class=\"dataframe\">\n",
       "  <thead>\n",
       "    <tr style=\"text-align: right;\">\n",
       "      <th></th>\n",
       "      <th>sex_male</th>\n",
       "      <th>smoker_yes</th>\n",
       "      <th>region_northwest</th>\n",
       "      <th>region_southeast</th>\n",
       "      <th>region_southwest</th>\n",
       "      <th>age</th>\n",
       "      <th>bmi</th>\n",
       "      <th>children</th>\n",
       "      <th>charges</th>\n",
       "    </tr>\n",
       "  </thead>\n",
       "  <tbody>\n",
       "    <tr>\n",
       "      <th>sex_male</th>\n",
       "      <td>1.000000</td>\n",
       "      <td>0.076185</td>\n",
       "      <td>-0.011156</td>\n",
       "      <td>0.017117</td>\n",
       "      <td>-0.004184</td>\n",
       "      <td>-0.020856</td>\n",
       "      <td>0.046371</td>\n",
       "      <td>0.017163</td>\n",
       "      <td>0.057292</td>\n",
       "    </tr>\n",
       "    <tr>\n",
       "      <th>smoker_yes</th>\n",
       "      <td>0.076185</td>\n",
       "      <td>1.000000</td>\n",
       "      <td>-0.036945</td>\n",
       "      <td>0.068498</td>\n",
       "      <td>-0.036945</td>\n",
       "      <td>-0.025019</td>\n",
       "      <td>0.003750</td>\n",
       "      <td>0.007673</td>\n",
       "      <td>0.787251</td>\n",
       "    </tr>\n",
       "    <tr>\n",
       "      <th>region_northwest</th>\n",
       "      <td>-0.011156</td>\n",
       "      <td>-0.036945</td>\n",
       "      <td>1.000000</td>\n",
       "      <td>-0.346265</td>\n",
       "      <td>-0.320829</td>\n",
       "      <td>-0.000407</td>\n",
       "      <td>-0.135996</td>\n",
       "      <td>0.024806</td>\n",
       "      <td>-0.039905</td>\n",
       "    </tr>\n",
       "    <tr>\n",
       "      <th>region_southeast</th>\n",
       "      <td>0.017117</td>\n",
       "      <td>0.068498</td>\n",
       "      <td>-0.346265</td>\n",
       "      <td>1.000000</td>\n",
       "      <td>-0.346265</td>\n",
       "      <td>-0.011642</td>\n",
       "      <td>0.270025</td>\n",
       "      <td>-0.023066</td>\n",
       "      <td>0.073982</td>\n",
       "    </tr>\n",
       "    <tr>\n",
       "      <th>region_southwest</th>\n",
       "      <td>-0.004184</td>\n",
       "      <td>-0.036945</td>\n",
       "      <td>-0.320829</td>\n",
       "      <td>-0.346265</td>\n",
       "      <td>1.000000</td>\n",
       "      <td>0.010016</td>\n",
       "      <td>-0.006205</td>\n",
       "      <td>0.021914</td>\n",
       "      <td>-0.043210</td>\n",
       "    </tr>\n",
       "    <tr>\n",
       "      <th>age</th>\n",
       "      <td>-0.020856</td>\n",
       "      <td>-0.025019</td>\n",
       "      <td>-0.000407</td>\n",
       "      <td>-0.011642</td>\n",
       "      <td>0.010016</td>\n",
       "      <td>1.000000</td>\n",
       "      <td>0.109272</td>\n",
       "      <td>0.042469</td>\n",
       "      <td>0.299008</td>\n",
       "    </tr>\n",
       "    <tr>\n",
       "      <th>bmi</th>\n",
       "      <td>0.046371</td>\n",
       "      <td>0.003750</td>\n",
       "      <td>-0.135996</td>\n",
       "      <td>0.270025</td>\n",
       "      <td>-0.006205</td>\n",
       "      <td>0.109272</td>\n",
       "      <td>1.000000</td>\n",
       "      <td>0.012759</td>\n",
       "      <td>0.198341</td>\n",
       "    </tr>\n",
       "    <tr>\n",
       "      <th>children</th>\n",
       "      <td>0.017163</td>\n",
       "      <td>0.007673</td>\n",
       "      <td>0.024806</td>\n",
       "      <td>-0.023066</td>\n",
       "      <td>0.021914</td>\n",
       "      <td>0.042469</td>\n",
       "      <td>0.012759</td>\n",
       "      <td>1.000000</td>\n",
       "      <td>0.067998</td>\n",
       "    </tr>\n",
       "    <tr>\n",
       "      <th>charges</th>\n",
       "      <td>0.057292</td>\n",
       "      <td>0.787251</td>\n",
       "      <td>-0.039905</td>\n",
       "      <td>0.073982</td>\n",
       "      <td>-0.043210</td>\n",
       "      <td>0.299008</td>\n",
       "      <td>0.198341</td>\n",
       "      <td>0.067998</td>\n",
       "      <td>1.000000</td>\n",
       "    </tr>\n",
       "  </tbody>\n",
       "</table>\n",
       "</div>"
      ],
      "text/plain": [
       "                  sex_male  smoker_yes  region_northwest  region_southeast  \\\n",
       "sex_male          1.000000    0.076185         -0.011156          0.017117   \n",
       "smoker_yes        0.076185    1.000000         -0.036945          0.068498   \n",
       "region_northwest -0.011156   -0.036945          1.000000         -0.346265   \n",
       "region_southeast  0.017117    0.068498         -0.346265          1.000000   \n",
       "region_southwest -0.004184   -0.036945         -0.320829         -0.346265   \n",
       "age              -0.020856   -0.025019         -0.000407         -0.011642   \n",
       "bmi               0.046371    0.003750         -0.135996          0.270025   \n",
       "children          0.017163    0.007673          0.024806         -0.023066   \n",
       "charges           0.057292    0.787251         -0.039905          0.073982   \n",
       "\n",
       "                  region_southwest       age       bmi  children   charges  \n",
       "sex_male                 -0.004184 -0.020856  0.046371  0.017163  0.057292  \n",
       "smoker_yes               -0.036945 -0.025019  0.003750  0.007673  0.787251  \n",
       "region_northwest         -0.320829 -0.000407 -0.135996  0.024806 -0.039905  \n",
       "region_southeast         -0.346265 -0.011642  0.270025 -0.023066  0.073982  \n",
       "region_southwest          1.000000  0.010016 -0.006205  0.021914 -0.043210  \n",
       "age                       0.010016  1.000000  0.109272  0.042469  0.299008  \n",
       "bmi                      -0.006205  0.109272  1.000000  0.012759  0.198341  \n",
       "children                  0.021914  0.042469  0.012759  1.000000  0.067998  \n",
       "charges                  -0.043210  0.299008  0.198341  0.067998  1.000000  "
      ]
     },
     "execution_count": 15,
     "metadata": {},
     "output_type": "execute_result"
    }
   ],
   "source": [
    "data1.corr()"
   ]
  },
  {
   "cell_type": "code",
   "execution_count": 16,
   "id": "91f9da6c",
   "metadata": {},
   "outputs": [
    {
     "data": {
      "text/html": [
       "<div>\n",
       "<style scoped>\n",
       "    .dataframe tbody tr th:only-of-type {\n",
       "        vertical-align: middle;\n",
       "    }\n",
       "\n",
       "    .dataframe tbody tr th {\n",
       "        vertical-align: top;\n",
       "    }\n",
       "\n",
       "    .dataframe thead th {\n",
       "        text-align: right;\n",
       "    }\n",
       "</style>\n",
       "<table border=\"1\" class=\"dataframe\">\n",
       "  <thead>\n",
       "    <tr style=\"text-align: right;\">\n",
       "      <th></th>\n",
       "      <th>features</th>\n",
       "      <th>VIF_Values</th>\n",
       "    </tr>\n",
       "  </thead>\n",
       "  <tbody>\n",
       "    <tr>\n",
       "      <th>0</th>\n",
       "      <td>sex_male</td>\n",
       "      <td>2.003185</td>\n",
       "    </tr>\n",
       "    <tr>\n",
       "      <th>1</th>\n",
       "      <td>smoker_yes</td>\n",
       "      <td>1.261233</td>\n",
       "    </tr>\n",
       "    <tr>\n",
       "      <th>2</th>\n",
       "      <td>region_northwest</td>\n",
       "      <td>1.890281</td>\n",
       "    </tr>\n",
       "    <tr>\n",
       "      <th>3</th>\n",
       "      <td>region_southeast</td>\n",
       "      <td>2.265564</td>\n",
       "    </tr>\n",
       "    <tr>\n",
       "      <th>4</th>\n",
       "      <td>region_southwest</td>\n",
       "      <td>1.960745</td>\n",
       "    </tr>\n",
       "    <tr>\n",
       "      <th>5</th>\n",
       "      <td>age</td>\n",
       "      <td>7.686965</td>\n",
       "    </tr>\n",
       "    <tr>\n",
       "      <th>6</th>\n",
       "      <td>bmi</td>\n",
       "      <td>11.358443</td>\n",
       "    </tr>\n",
       "    <tr>\n",
       "      <th>7</th>\n",
       "      <td>children</td>\n",
       "      <td>1.809930</td>\n",
       "    </tr>\n",
       "  </tbody>\n",
       "</table>\n",
       "</div>"
      ],
      "text/plain": [
       "           features  VIF_Values\n",
       "0          sex_male    2.003185\n",
       "1        smoker_yes    1.261233\n",
       "2  region_northwest    1.890281\n",
       "3  region_southeast    2.265564\n",
       "4  region_southwest    1.960745\n",
       "5               age    7.686965\n",
       "6               bmi   11.358443\n",
       "7          children    1.809930"
      ]
     },
     "execution_count": 16,
     "metadata": {},
     "output_type": "execute_result"
    }
   ],
   "source": [
    "features = data1.iloc[:,:-1]\n",
    "calculate_vif(features)"
   ]
  },
  {
   "cell_type": "markdown",
   "id": "f6cf5220",
   "metadata": {},
   "source": [
    "From the above VIF observation, only one variable(i.e., Bmi) is more than 10, hence we can drop that variable."
   ]
  },
  {
   "cell_type": "code",
   "execution_count": 17,
   "id": "dc1e9155",
   "metadata": {},
   "outputs": [],
   "source": [
    "x=data1.drop('charges',axis=1)\n",
    "y=data1['charges']"
   ]
  },
  {
   "cell_type": "code",
   "execution_count": 18,
   "id": "49d2a074",
   "metadata": {},
   "outputs": [],
   "source": [
    "from sklearn.model_selection import train_test_split\n",
    "x_train,x_test,y_train,y_test=train_test_split(x,y,test_size=0.30, random_state=25)"
   ]
  },
  {
   "cell_type": "code",
   "execution_count": 19,
   "id": "b25f843c",
   "metadata": {},
   "outputs": [
    {
     "name": "stdout",
     "output_type": "stream",
     "text": [
      "(936, 8)\n",
      "(402, 8)\n",
      "(936,)\n",
      "(402,)\n"
     ]
    }
   ],
   "source": [
    "print(x_train.shape)\n",
    "print(x_test.shape)\n",
    "print(y_train.shape)\n",
    "print(y_test.shape)"
   ]
  },
  {
   "cell_type": "code",
   "execution_count": 20,
   "id": "6fd16931",
   "metadata": {},
   "outputs": [],
   "source": [
    "from sklearn.metrics import mean_squared_error, mean_absolute_error, r2_score\n",
    "from sklearn.linear_model import LinearRegression\n",
    "from sklearn import metrics\n",
    "import statsmodels.api as sm\n"
   ]
  },
  {
   "cell_type": "code",
   "execution_count": 21,
   "id": "4ba4be8b",
   "metadata": {},
   "outputs": [
    {
     "name": "stdout",
     "output_type": "stream",
     "text": [
      "                                 OLS Regression Results                                \n",
      "=======================================================================================\n",
      "Dep. Variable:                charges   R-squared (uncentered):                   0.879\n",
      "Model:                            OLS   Adj. R-squared (uncentered):              0.878\n",
      "Method:                 Least Squares   F-statistic:                              840.2\n",
      "Date:                Wed, 22 Sep 2021   Prob (F-statistic):                        0.00\n",
      "Time:                        20:39:56   Log-Likelihood:                         -9505.3\n",
      "No. Observations:                 936   AIC:                                  1.903e+04\n",
      "Df Residuals:                     928   BIC:                                  1.907e+04\n",
      "Df Model:                           8                                                  \n",
      "Covariance Type:            nonrobust                                                  \n",
      "====================================================================================\n",
      "                       coef    std err          t      P>|t|      [0.025      0.975]\n",
      "------------------------------------------------------------------------------------\n",
      "sex_male          -599.9799    406.161     -1.477      0.140   -1397.080     197.120\n",
      "smoker_yes        2.413e+04    520.071     46.401      0.000    2.31e+04    2.52e+04\n",
      "region_northwest -1741.8442    568.449     -3.064      0.002   -2857.439    -626.249\n",
      "region_southeast -2083.9121    591.824     -3.521      0.000   -3245.380    -922.444\n",
      "region_southwest -2405.6001    571.623     -4.208      0.000   -3527.425   -1283.776\n",
      "age                210.8776     13.763     15.322      0.000     183.868     237.888\n",
      "bmi                 69.4479     22.533      3.082      0.002      25.226     113.670\n",
      "children           225.9416    166.063      1.361      0.174     -99.961     551.844\n",
      "==============================================================================\n",
      "Omnibus:                      185.858   Durbin-Watson:                   1.982\n",
      "Prob(Omnibus):                  0.000   Jarque-Bera (JB):              454.727\n",
      "Skew:                           1.052   Prob(JB):                     1.81e-99\n",
      "Kurtosis:                       5.690   Cond. No.                         205.\n",
      "==============================================================================\n",
      "\n",
      "Notes:\n",
      "[1] R² is computed without centering (uncentered) since the model does not contain a constant.\n",
      "[2] Standard Errors assume that the covariance matrix of the errors is correctly specified.\n"
     ]
    }
   ],
   "source": [
    "model=sm.OLS(y_train,x_train).fit()\n",
    "print(model.summary())"
   ]
  },
  {
   "cell_type": "code",
   "execution_count": 22,
   "id": "9f5bab59",
   "metadata": {},
   "outputs": [],
   "source": [
    "l_reg = LinearRegression()\n",
    "l_reg.fit(x_train,y_train)\n",
    "l_acc = r2_score(y_test,l_reg.predict(x_test))"
   ]
  },
  {
   "cell_type": "markdown",
   "id": "ddb7e85d",
   "metadata": {},
   "source": [
    "\n",
    "**i want to add predicted values in the data (train and test both), how to do**"
   ]
  },
  {
   "cell_type": "code",
   "execution_count": 23,
   "id": "58da196d",
   "metadata": {},
   "outputs": [],
   "source": [
    "y_pred = l_reg.predict(x_test)"
   ]
  },
  {
   "cell_type": "code",
   "execution_count": 24,
   "id": "ccf09189",
   "metadata": {},
   "outputs": [],
   "source": [
    "y_pred=pd.Series(y_pred)"
   ]
  },
  {
   "cell_type": "code",
   "execution_count": 25,
   "id": "d1abda7d",
   "metadata": {},
   "outputs": [
    {
     "data": {
      "text/html": [
       "<div>\n",
       "<style scoped>\n",
       "    .dataframe tbody tr th:only-of-type {\n",
       "        vertical-align: middle;\n",
       "    }\n",
       "\n",
       "    .dataframe tbody tr th {\n",
       "        vertical-align: top;\n",
       "    }\n",
       "\n",
       "    .dataframe thead th {\n",
       "        text-align: right;\n",
       "    }\n",
       "</style>\n",
       "<table border=\"1\" class=\"dataframe\">\n",
       "  <thead>\n",
       "    <tr style=\"text-align: right;\">\n",
       "      <th></th>\n",
       "      <th>charges</th>\n",
       "      <th>0</th>\n",
       "    </tr>\n",
       "  </thead>\n",
       "  <tbody>\n",
       "    <tr>\n",
       "      <th>0</th>\n",
       "      <td>NaN</td>\n",
       "      <td>11703.342652</td>\n",
       "    </tr>\n",
       "    <tr>\n",
       "      <th>1</th>\n",
       "      <td>NaN</td>\n",
       "      <td>7346.629674</td>\n",
       "    </tr>\n",
       "    <tr>\n",
       "      <th>2</th>\n",
       "      <td>NaN</td>\n",
       "      <td>13933.829293</td>\n",
       "    </tr>\n",
       "    <tr>\n",
       "      <th>3</th>\n",
       "      <td>NaN</td>\n",
       "      <td>31647.225510</td>\n",
       "    </tr>\n",
       "    <tr>\n",
       "      <th>4</th>\n",
       "      <td>NaN</td>\n",
       "      <td>32520.420053</td>\n",
       "    </tr>\n",
       "    <tr>\n",
       "      <th>...</th>\n",
       "      <td>...</td>\n",
       "      <td>...</td>\n",
       "    </tr>\n",
       "    <tr>\n",
       "      <th>1322</th>\n",
       "      <td>12981.3457</td>\n",
       "      <td>NaN</td>\n",
       "    </tr>\n",
       "    <tr>\n",
       "      <th>1326</th>\n",
       "      <td>7050.0213</td>\n",
       "      <td>NaN</td>\n",
       "    </tr>\n",
       "    <tr>\n",
       "      <th>1327</th>\n",
       "      <td>9377.9047</td>\n",
       "      <td>NaN</td>\n",
       "    </tr>\n",
       "    <tr>\n",
       "      <th>1329</th>\n",
       "      <td>10325.2060</td>\n",
       "      <td>NaN</td>\n",
       "    </tr>\n",
       "    <tr>\n",
       "      <th>1333</th>\n",
       "      <td>10600.5483</td>\n",
       "      <td>NaN</td>\n",
       "    </tr>\n",
       "  </tbody>\n",
       "</table>\n",
       "<p>688 rows × 2 columns</p>\n",
       "</div>"
      ],
      "text/plain": [
       "         charges             0\n",
       "0            NaN  11703.342652\n",
       "1            NaN   7346.629674\n",
       "2            NaN  13933.829293\n",
       "3            NaN  31647.225510\n",
       "4            NaN  32520.420053\n",
       "...          ...           ...\n",
       "1322  12981.3457           NaN\n",
       "1326   7050.0213           NaN\n",
       "1327   9377.9047           NaN\n",
       "1329  10325.2060           NaN\n",
       "1333  10600.5483           NaN\n",
       "\n",
       "[688 rows x 2 columns]"
      ]
     },
     "execution_count": 25,
     "metadata": {},
     "output_type": "execute_result"
    }
   ],
   "source": [
    "pd.concat([y_test,y_pred],axis=1)"
   ]
  },
  {
   "cell_type": "code",
   "execution_count": 26,
   "id": "40be472e",
   "metadata": {},
   "outputs": [
    {
     "data": {
      "text/plain": [
       "0.757956680840197"
      ]
     },
     "execution_count": 26,
     "metadata": {},
     "output_type": "execute_result"
    }
   ],
   "source": [
    "(l_reg.score(x_train,y_train))"
   ]
  },
  {
   "cell_type": "code",
   "execution_count": 27,
   "id": "76e420a3",
   "metadata": {},
   "outputs": [
    {
     "data": {
      "text/plain": [
       "0.7299796870282933"
      ]
     },
     "execution_count": 27,
     "metadata": {},
     "output_type": "execute_result"
    }
   ],
   "source": [
    "(l_reg.score(x_test,y_test))"
   ]
  },
  {
   "cell_type": "markdown",
   "id": "5a099565",
   "metadata": {},
   "source": [
    "# Durbin-Watson Test"
   ]
  },
  {
   "cell_type": "code",
   "execution_count": 28,
   "id": "982e6cc8",
   "metadata": {},
   "outputs": [
    {
     "name": "stdout",
     "output_type": "stream",
     "text": [
      "                            OLS Regression Results                            \n",
      "==============================================================================\n",
      "Dep. Variable:                charges   R-squared:                       0.751\n",
      "Model:                            OLS   Adj. R-squared:                  0.749\n",
      "Method:                 Least Squares   F-statistic:                     500.8\n",
      "Date:                Wed, 22 Sep 2021   Prob (F-statistic):               0.00\n",
      "Time:                        20:39:56   Log-Likelihood:                -13548.\n",
      "No. Observations:                1338   AIC:                         2.711e+04\n",
      "Df Residuals:                    1329   BIC:                         2.716e+04\n",
      "Df Model:                           8                                         \n",
      "Covariance Type:            nonrobust                                         \n",
      "=======================================================================================\n",
      "                          coef    std err          t      P>|t|      [0.025      0.975]\n",
      "---------------------------------------------------------------------------------------\n",
      "Intercept           -1.194e+04    987.819    -12.086      0.000   -1.39e+04      -1e+04\n",
      "sex[T.male]          -131.3144    332.945     -0.394      0.693    -784.470     521.842\n",
      "smoker[T.yes]        2.385e+04    413.153     57.723      0.000     2.3e+04    2.47e+04\n",
      "region[T.northwest]  -352.9639    476.276     -0.741      0.459   -1287.298     581.370\n",
      "region[T.southeast] -1035.0220    478.692     -2.162      0.031   -1974.097     -95.947\n",
      "region[T.southwest]  -960.0510    477.933     -2.009      0.045   -1897.636     -22.466\n",
      "age                   256.8564     11.899     21.587      0.000     233.514     280.199\n",
      "bmi                   339.1935     28.599     11.860      0.000     283.088     395.298\n",
      "children              475.5005    137.804      3.451      0.001     205.163     745.838\n",
      "==============================================================================\n",
      "Omnibus:                      300.366   Durbin-Watson:                   2.088\n",
      "Prob(Omnibus):                  0.000   Jarque-Bera (JB):              718.887\n",
      "Skew:                           1.211   Prob(JB):                    7.86e-157\n",
      "Kurtosis:                       5.651   Cond. No.                         311.\n",
      "==============================================================================\n",
      "\n",
      "Notes:\n",
      "[1] Standard Errors assume that the covariance matrix of the errors is correctly specified.\n"
     ]
    }
   ],
   "source": [
    "model1=smf.ols(formula='charges ~ age + sex + bmi + children + smoker + region',data=data).fit()\n",
    "print(model1.summary())"
   ]
  },
  {
   "cell_type": "code",
   "execution_count": 29,
   "id": "61d77b98",
   "metadata": {},
   "outputs": [],
   "source": [
    "from statsmodels.stats.stattools import durbin_watson"
   ]
  },
  {
   "cell_type": "code",
   "execution_count": 30,
   "id": "67b41395",
   "metadata": {},
   "outputs": [
    {
     "data": {
      "text/plain": [
       "2.088422998667309"
      ]
     },
     "execution_count": 30,
     "metadata": {},
     "output_type": "execute_result"
    }
   ],
   "source": [
    "#perform Durbin-Watson test\n",
    "durbin_watson(model1.resid)"
   ]
  },
  {
   "cell_type": "markdown",
   "id": "b6b7424b",
   "metadata": {},
   "source": [
    "# The test statistic is 2.088. Since this is within the range of 1.5 and 2.5, we would consider autocorrelation not to be problematic in this regression model."
   ]
  },
  {
   "cell_type": "markdown",
   "id": "b994006a",
   "metadata": {},
   "source": [
    "#shapiro wilk test for NORMALITY OF resisulas of train and test data"
   ]
  },
  {
   "cell_type": "code",
   "execution_count": 31,
   "id": "1850a0ab",
   "metadata": {},
   "outputs": [],
   "source": [
    "pred_1 = model.predict(x_train)"
   ]
  },
  {
   "cell_type": "code",
   "execution_count": 32,
   "id": "02c8db5d",
   "metadata": {},
   "outputs": [],
   "source": [
    "pred_2=model.predict(x_test)"
   ]
  },
  {
   "cell_type": "code",
   "execution_count": 33,
   "id": "bf648fba",
   "metadata": {},
   "outputs": [],
   "source": [
    "res_train=y_train - pred_1"
   ]
  },
  {
   "cell_type": "code",
   "execution_count": 34,
   "id": "945574da",
   "metadata": {},
   "outputs": [],
   "source": [
    "res_test=y_test - pred_2"
   ]
  },
  {
   "cell_type": "code",
   "execution_count": 35,
   "id": "24f9937d",
   "metadata": {},
   "outputs": [],
   "source": [
    "from scipy.stats import shapiro"
   ]
  },
  {
   "cell_type": "code",
   "execution_count": 44,
   "id": "0802cd77",
   "metadata": {},
   "outputs": [
    {
     "name": "stdout",
     "output_type": "stream",
     "text": [
      "Statistics=0.841, p=0.000\n",
      "She Null Hypothesis can not be rejectt H0)\n"
     ]
    }
   ],
   "source": [
    "\n",
    "stat, p = shapiro(res_train)\n",
    "print('Statistics=%.3f, p=%.3f' % (stat, p))\n",
    "# interpret\n",
    "alpha = 0.05\n",
    "if p > alpha:\n",
    "    print('The Null Hypothesis can be reject H0)')\n",
    "else:\n",
    "    print('She Null Hypothesis can not be rejectt H0)')"
   ]
  },
  {
   "cell_type": "code",
   "execution_count": 43,
   "id": "2243a134",
   "metadata": {},
   "outputs": [
    {
     "name": "stdout",
     "output_type": "stream",
     "text": [
      "Statistics=0.868, p=0.000\n",
      "She Null Hypothesis can not be rejectt H0)\n"
     ]
    }
   ],
   "source": [
    "stat, p = shapiro(res_test)\n",
    "print('Statistics=%.3f, p=%.3f' % (stat, p))\n",
    "# interpret\n",
    "if p > alpha:\n",
    "    print('The Null Hypothesis can be reject H0)')\n",
    "else:\n",
    "    print('She Null Hypothesis can not be rejectt H0)')"
   ]
  },
  {
   "cell_type": "markdown",
   "id": "21cac2a4",
   "metadata": {},
   "source": [
    "#kolmogorov-smirnov test for NORMALITY OF resisulas of train and test data"
   ]
  },
  {
   "cell_type": "markdown",
   "id": "df86881d",
   "metadata": {},
   "source": [
    "# The Kolmogorov–Smirnov statistic quantifies a distance between the empirical distribution function of the sample and the cumulative distribution function of the reference distribution, or between the empirical distribution functions of two samples."
   ]
  },
  {
   "cell_type": "code",
   "execution_count": 38,
   "id": "0fa35b04",
   "metadata": {},
   "outputs": [],
   "source": [
    "from scipy.stats import kstest"
   ]
  },
  {
   "cell_type": "code",
   "execution_count": 41,
   "id": "9c9df55a",
   "metadata": {},
   "outputs": [
    {
     "name": "stdout",
     "output_type": "stream",
     "text": [
      "Statistics=0.745, p=0.000\n",
      "two distributions are not identical  (reject H0)\n"
     ]
    }
   ],
   "source": [
    "test_stat = kstest(res_train, 'norm')\n",
    "print('Statistics=%.3f, p=%.3f' % (test_stat))\n",
    "# interpret\n",
    "alpha = 0.05\n",
    "if p > alpha:\n",
    "    print('two distributions are identical (fail to reject H0)')\n",
    "else:\n",
    "    print('two distributions are not identical  (reject H0)')"
   ]
  },
  {
   "cell_type": "code",
   "execution_count": 42,
   "id": "1ed9264f",
   "metadata": {},
   "outputs": [
    {
     "name": "stdout",
     "output_type": "stream",
     "text": [
      "Statistics=0.754, p=0.000\n",
      "two distributions are not identical  (reject H0)\n"
     ]
    }
   ],
   "source": [
    "test_stat = kstest(res_test, 'norm')\n",
    "print('Statistics=%.3f, p=%.3f' % (test_stat))\n",
    "# interpret\n",
    "alpha = 0.05\n",
    "if p > alpha:\n",
    "    print('two distributions are identical  (fail to reject H0)')\n",
    "else:\n",
    "    print('two distributions are not identical  (reject H0)')"
   ]
  },
  {
   "cell_type": "code",
   "execution_count": null,
   "id": "71197b29",
   "metadata": {},
   "outputs": [],
   "source": [
    "  "
   ]
  }
 ],
 "metadata": {
  "kernelspec": {
   "display_name": "Python 3",
   "language": "python",
   "name": "python3"
  },
  "language_info": {
   "codemirror_mode": {
    "name": "ipython",
    "version": 3
   },
   "file_extension": ".py",
   "mimetype": "text/x-python",
   "name": "python",
   "nbconvert_exporter": "python",
   "pygments_lexer": "ipython3",
   "version": "3.8.8"
  }
 },
 "nbformat": 4,
 "nbformat_minor": 5
}
