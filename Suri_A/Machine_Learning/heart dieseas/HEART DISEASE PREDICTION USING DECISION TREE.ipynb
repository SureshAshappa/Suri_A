{
 "cells": [
  {
   "cell_type": "code",
   "execution_count": 1,
   "id": "01f57e0f",
   "metadata": {},
   "outputs": [],
   "source": [
    "import numpy as np\n",
    "import pandas as pd"
   ]
  },
  {
   "cell_type": "code",
   "execution_count": 2,
   "id": "57701b1e",
   "metadata": {},
   "outputs": [],
   "source": [
    "import os\n",
    "os.chdir('C:\\\\Post Graduate Course in Data Analytics\\\\MACHINE LEARNING\\\\Decision Trees')"
   ]
  },
  {
   "cell_type": "code",
   "execution_count": 3,
   "id": "735cc995",
   "metadata": {},
   "outputs": [
    {
     "data": {
      "text/html": [
       "<div>\n",
       "<style scoped>\n",
       "    .dataframe tbody tr th:only-of-type {\n",
       "        vertical-align: middle;\n",
       "    }\n",
       "\n",
       "    .dataframe tbody tr th {\n",
       "        vertical-align: top;\n",
       "    }\n",
       "\n",
       "    .dataframe thead th {\n",
       "        text-align: right;\n",
       "    }\n",
       "</style>\n",
       "<table border=\"1\" class=\"dataframe\">\n",
       "  <thead>\n",
       "    <tr style=\"text-align: right;\">\n",
       "      <th></th>\n",
       "      <th>age</th>\n",
       "      <th>gender</th>\n",
       "      <th>chest_pain</th>\n",
       "      <th>rest_bps</th>\n",
       "      <th>cholestrol</th>\n",
       "      <th>fasting_blood_sugar</th>\n",
       "      <th>rest_ecg</th>\n",
       "      <th>thalach</th>\n",
       "      <th>exer_angina</th>\n",
       "      <th>old_peak</th>\n",
       "      <th>slope</th>\n",
       "      <th>ca</th>\n",
       "      <th>thalassemia</th>\n",
       "      <th>target</th>\n",
       "    </tr>\n",
       "  </thead>\n",
       "  <tbody>\n",
       "    <tr>\n",
       "      <th>0</th>\n",
       "      <td>63</td>\n",
       "      <td>1</td>\n",
       "      <td>3</td>\n",
       "      <td>145</td>\n",
       "      <td>233</td>\n",
       "      <td>1</td>\n",
       "      <td>0</td>\n",
       "      <td>150</td>\n",
       "      <td>0</td>\n",
       "      <td>2.3</td>\n",
       "      <td>0</td>\n",
       "      <td>0</td>\n",
       "      <td>1</td>\n",
       "      <td>1</td>\n",
       "    </tr>\n",
       "    <tr>\n",
       "      <th>1</th>\n",
       "      <td>37</td>\n",
       "      <td>1</td>\n",
       "      <td>2</td>\n",
       "      <td>130</td>\n",
       "      <td>250</td>\n",
       "      <td>0</td>\n",
       "      <td>1</td>\n",
       "      <td>187</td>\n",
       "      <td>0</td>\n",
       "      <td>3.5</td>\n",
       "      <td>0</td>\n",
       "      <td>0</td>\n",
       "      <td>2</td>\n",
       "      <td>1</td>\n",
       "    </tr>\n",
       "    <tr>\n",
       "      <th>2</th>\n",
       "      <td>41</td>\n",
       "      <td>0</td>\n",
       "      <td>1</td>\n",
       "      <td>130</td>\n",
       "      <td>204</td>\n",
       "      <td>0</td>\n",
       "      <td>0</td>\n",
       "      <td>172</td>\n",
       "      <td>0</td>\n",
       "      <td>1.4</td>\n",
       "      <td>2</td>\n",
       "      <td>0</td>\n",
       "      <td>2</td>\n",
       "      <td>1</td>\n",
       "    </tr>\n",
       "    <tr>\n",
       "      <th>3</th>\n",
       "      <td>56</td>\n",
       "      <td>1</td>\n",
       "      <td>1</td>\n",
       "      <td>120</td>\n",
       "      <td>236</td>\n",
       "      <td>0</td>\n",
       "      <td>1</td>\n",
       "      <td>178</td>\n",
       "      <td>0</td>\n",
       "      <td>0.8</td>\n",
       "      <td>2</td>\n",
       "      <td>0</td>\n",
       "      <td>2</td>\n",
       "      <td>1</td>\n",
       "    </tr>\n",
       "    <tr>\n",
       "      <th>4</th>\n",
       "      <td>57</td>\n",
       "      <td>0</td>\n",
       "      <td>0</td>\n",
       "      <td>120</td>\n",
       "      <td>354</td>\n",
       "      <td>0</td>\n",
       "      <td>1</td>\n",
       "      <td>163</td>\n",
       "      <td>1</td>\n",
       "      <td>0.6</td>\n",
       "      <td>2</td>\n",
       "      <td>0</td>\n",
       "      <td>2</td>\n",
       "      <td>1</td>\n",
       "    </tr>\n",
       "    <tr>\n",
       "      <th>...</th>\n",
       "      <td>...</td>\n",
       "      <td>...</td>\n",
       "      <td>...</td>\n",
       "      <td>...</td>\n",
       "      <td>...</td>\n",
       "      <td>...</td>\n",
       "      <td>...</td>\n",
       "      <td>...</td>\n",
       "      <td>...</td>\n",
       "      <td>...</td>\n",
       "      <td>...</td>\n",
       "      <td>...</td>\n",
       "      <td>...</td>\n",
       "      <td>...</td>\n",
       "    </tr>\n",
       "    <tr>\n",
       "      <th>298</th>\n",
       "      <td>57</td>\n",
       "      <td>0</td>\n",
       "      <td>0</td>\n",
       "      <td>140</td>\n",
       "      <td>241</td>\n",
       "      <td>0</td>\n",
       "      <td>1</td>\n",
       "      <td>123</td>\n",
       "      <td>1</td>\n",
       "      <td>0.2</td>\n",
       "      <td>1</td>\n",
       "      <td>0</td>\n",
       "      <td>3</td>\n",
       "      <td>0</td>\n",
       "    </tr>\n",
       "    <tr>\n",
       "      <th>299</th>\n",
       "      <td>45</td>\n",
       "      <td>1</td>\n",
       "      <td>3</td>\n",
       "      <td>110</td>\n",
       "      <td>264</td>\n",
       "      <td>0</td>\n",
       "      <td>1</td>\n",
       "      <td>132</td>\n",
       "      <td>0</td>\n",
       "      <td>1.2</td>\n",
       "      <td>1</td>\n",
       "      <td>0</td>\n",
       "      <td>3</td>\n",
       "      <td>0</td>\n",
       "    </tr>\n",
       "    <tr>\n",
       "      <th>300</th>\n",
       "      <td>68</td>\n",
       "      <td>1</td>\n",
       "      <td>0</td>\n",
       "      <td>144</td>\n",
       "      <td>193</td>\n",
       "      <td>1</td>\n",
       "      <td>1</td>\n",
       "      <td>141</td>\n",
       "      <td>0</td>\n",
       "      <td>3.4</td>\n",
       "      <td>1</td>\n",
       "      <td>2</td>\n",
       "      <td>3</td>\n",
       "      <td>0</td>\n",
       "    </tr>\n",
       "    <tr>\n",
       "      <th>301</th>\n",
       "      <td>57</td>\n",
       "      <td>1</td>\n",
       "      <td>0</td>\n",
       "      <td>130</td>\n",
       "      <td>131</td>\n",
       "      <td>0</td>\n",
       "      <td>1</td>\n",
       "      <td>115</td>\n",
       "      <td>1</td>\n",
       "      <td>1.2</td>\n",
       "      <td>1</td>\n",
       "      <td>1</td>\n",
       "      <td>3</td>\n",
       "      <td>0</td>\n",
       "    </tr>\n",
       "    <tr>\n",
       "      <th>302</th>\n",
       "      <td>57</td>\n",
       "      <td>0</td>\n",
       "      <td>1</td>\n",
       "      <td>130</td>\n",
       "      <td>236</td>\n",
       "      <td>0</td>\n",
       "      <td>0</td>\n",
       "      <td>174</td>\n",
       "      <td>0</td>\n",
       "      <td>0.0</td>\n",
       "      <td>1</td>\n",
       "      <td>1</td>\n",
       "      <td>2</td>\n",
       "      <td>0</td>\n",
       "    </tr>\n",
       "  </tbody>\n",
       "</table>\n",
       "<p>303 rows × 14 columns</p>\n",
       "</div>"
      ],
      "text/plain": [
       "     age  gender  chest_pain  rest_bps  cholestrol  fasting_blood_sugar  \\\n",
       "0     63       1           3       145         233                    1   \n",
       "1     37       1           2       130         250                    0   \n",
       "2     41       0           1       130         204                    0   \n",
       "3     56       1           1       120         236                    0   \n",
       "4     57       0           0       120         354                    0   \n",
       "..   ...     ...         ...       ...         ...                  ...   \n",
       "298   57       0           0       140         241                    0   \n",
       "299   45       1           3       110         264                    0   \n",
       "300   68       1           0       144         193                    1   \n",
       "301   57       1           0       130         131                    0   \n",
       "302   57       0           1       130         236                    0   \n",
       "\n",
       "     rest_ecg  thalach  exer_angina  old_peak  slope  ca  thalassemia  target  \n",
       "0           0      150            0       2.3      0   0            1       1  \n",
       "1           1      187            0       3.5      0   0            2       1  \n",
       "2           0      172            0       1.4      2   0            2       1  \n",
       "3           1      178            0       0.8      2   0            2       1  \n",
       "4           1      163            1       0.6      2   0            2       1  \n",
       "..        ...      ...          ...       ...    ...  ..          ...     ...  \n",
       "298         1      123            1       0.2      1   0            3       0  \n",
       "299         1      132            0       1.2      1   0            3       0  \n",
       "300         1      141            0       3.4      1   2            3       0  \n",
       "301         1      115            1       1.2      1   1            3       0  \n",
       "302         0      174            0       0.0      1   1            2       0  \n",
       "\n",
       "[303 rows x 14 columns]"
      ]
     },
     "execution_count": 3,
     "metadata": {},
     "output_type": "execute_result"
    }
   ],
   "source": [
    "df=pd.read_csv('HeartDisease.csv')\n",
    "df"
   ]
  },
  {
   "cell_type": "code",
   "execution_count": 29,
   "id": "3baf29e6",
   "metadata": {},
   "outputs": [],
   "source": [
    "import matplotlib.pyplot as plt\n",
    "import pylab as pl\n",
    "import sklearn\n",
    "from sklearn import tree\n",
    "from sklearn import metrics\n",
    "from sklearn.tree import DecisionTreeClassifier\n",
    "from sklearn.model_selection import train_test_split"
   ]
  },
  {
   "cell_type": "code",
   "execution_count": 30,
   "id": "39456e38",
   "metadata": {},
   "outputs": [],
   "source": [
    "from sklearn.metrics import confusion_matrix\n",
    "from sklearn.metrics import roc_curve,auc,roc_auc_score\n",
    "from sklearn.metrics import accuracy_score\n",
    "from sklearn.metrics import classification_report"
   ]
  },
  {
   "cell_type": "code",
   "execution_count": 31,
   "id": "81491e4d",
   "metadata": {},
   "outputs": [
    {
     "data": {
      "text/html": [
       "<div>\n",
       "<style scoped>\n",
       "    .dataframe tbody tr th:only-of-type {\n",
       "        vertical-align: middle;\n",
       "    }\n",
       "\n",
       "    .dataframe tbody tr th {\n",
       "        vertical-align: top;\n",
       "    }\n",
       "\n",
       "    .dataframe thead th {\n",
       "        text-align: right;\n",
       "    }\n",
       "</style>\n",
       "<table border=\"1\" class=\"dataframe\">\n",
       "  <thead>\n",
       "    <tr style=\"text-align: right;\">\n",
       "      <th></th>\n",
       "      <th>age</th>\n",
       "      <th>ed</th>\n",
       "      <th>employ</th>\n",
       "      <th>address</th>\n",
       "      <th>income</th>\n",
       "      <th>debtinc</th>\n",
       "      <th>creddebt</th>\n",
       "      <th>othdebt</th>\n",
       "      <th>default</th>\n",
       "    </tr>\n",
       "  </thead>\n",
       "  <tbody>\n",
       "    <tr>\n",
       "      <th>0</th>\n",
       "      <td>41</td>\n",
       "      <td>3</td>\n",
       "      <td>17</td>\n",
       "      <td>12</td>\n",
       "      <td>176</td>\n",
       "      <td>9.3</td>\n",
       "      <td>11.36</td>\n",
       "      <td>5.01</td>\n",
       "      <td>1</td>\n",
       "    </tr>\n",
       "    <tr>\n",
       "      <th>1</th>\n",
       "      <td>27</td>\n",
       "      <td>1</td>\n",
       "      <td>10</td>\n",
       "      <td>6</td>\n",
       "      <td>31</td>\n",
       "      <td>17.3</td>\n",
       "      <td>1.36</td>\n",
       "      <td>4.00</td>\n",
       "      <td>0</td>\n",
       "    </tr>\n",
       "    <tr>\n",
       "      <th>2</th>\n",
       "      <td>40</td>\n",
       "      <td>1</td>\n",
       "      <td>15</td>\n",
       "      <td>14</td>\n",
       "      <td>55</td>\n",
       "      <td>5.5</td>\n",
       "      <td>0.86</td>\n",
       "      <td>2.17</td>\n",
       "      <td>0</td>\n",
       "    </tr>\n",
       "    <tr>\n",
       "      <th>3</th>\n",
       "      <td>41</td>\n",
       "      <td>1</td>\n",
       "      <td>15</td>\n",
       "      <td>14</td>\n",
       "      <td>120</td>\n",
       "      <td>2.9</td>\n",
       "      <td>2.66</td>\n",
       "      <td>0.82</td>\n",
       "      <td>0</td>\n",
       "    </tr>\n",
       "    <tr>\n",
       "      <th>4</th>\n",
       "      <td>24</td>\n",
       "      <td>2</td>\n",
       "      <td>2</td>\n",
       "      <td>0</td>\n",
       "      <td>28</td>\n",
       "      <td>17.3</td>\n",
       "      <td>1.79</td>\n",
       "      <td>3.06</td>\n",
       "      <td>1</td>\n",
       "    </tr>\n",
       "    <tr>\n",
       "      <th>...</th>\n",
       "      <td>...</td>\n",
       "      <td>...</td>\n",
       "      <td>...</td>\n",
       "      <td>...</td>\n",
       "      <td>...</td>\n",
       "      <td>...</td>\n",
       "      <td>...</td>\n",
       "      <td>...</td>\n",
       "      <td>...</td>\n",
       "    </tr>\n",
       "    <tr>\n",
       "      <th>695</th>\n",
       "      <td>36</td>\n",
       "      <td>2</td>\n",
       "      <td>6</td>\n",
       "      <td>15</td>\n",
       "      <td>27</td>\n",
       "      <td>4.6</td>\n",
       "      <td>0.26</td>\n",
       "      <td>0.98</td>\n",
       "      <td>1</td>\n",
       "    </tr>\n",
       "    <tr>\n",
       "      <th>696</th>\n",
       "      <td>29</td>\n",
       "      <td>2</td>\n",
       "      <td>6</td>\n",
       "      <td>4</td>\n",
       "      <td>21</td>\n",
       "      <td>11.5</td>\n",
       "      <td>0.37</td>\n",
       "      <td>2.05</td>\n",
       "      <td>0</td>\n",
       "    </tr>\n",
       "    <tr>\n",
       "      <th>697</th>\n",
       "      <td>33</td>\n",
       "      <td>1</td>\n",
       "      <td>15</td>\n",
       "      <td>3</td>\n",
       "      <td>32</td>\n",
       "      <td>7.6</td>\n",
       "      <td>0.49</td>\n",
       "      <td>1.94</td>\n",
       "      <td>0</td>\n",
       "    </tr>\n",
       "    <tr>\n",
       "      <th>698</th>\n",
       "      <td>45</td>\n",
       "      <td>1</td>\n",
       "      <td>19</td>\n",
       "      <td>22</td>\n",
       "      <td>77</td>\n",
       "      <td>8.4</td>\n",
       "      <td>2.30</td>\n",
       "      <td>4.17</td>\n",
       "      <td>0</td>\n",
       "    </tr>\n",
       "    <tr>\n",
       "      <th>699</th>\n",
       "      <td>37</td>\n",
       "      <td>1</td>\n",
       "      <td>12</td>\n",
       "      <td>14</td>\n",
       "      <td>44</td>\n",
       "      <td>14.7</td>\n",
       "      <td>2.99</td>\n",
       "      <td>3.47</td>\n",
       "      <td>0</td>\n",
       "    </tr>\n",
       "  </tbody>\n",
       "</table>\n",
       "<p>700 rows × 9 columns</p>\n",
       "</div>"
      ],
      "text/plain": [
       "     age  ed  employ  address  income  debtinc  creddebt  othdebt  default\n",
       "0     41   3      17       12     176      9.3     11.36     5.01        1\n",
       "1     27   1      10        6      31     17.3      1.36     4.00        0\n",
       "2     40   1      15       14      55      5.5      0.86     2.17        0\n",
       "3     41   1      15       14     120      2.9      2.66     0.82        0\n",
       "4     24   2       2        0      28     17.3      1.79     3.06        1\n",
       "..   ...  ..     ...      ...     ...      ...       ...      ...      ...\n",
       "695   36   2       6       15      27      4.6      0.26     0.98        1\n",
       "696   29   2       6        4      21     11.5      0.37     2.05        0\n",
       "697   33   1      15        3      32      7.6      0.49     1.94        0\n",
       "698   45   1      19       22      77      8.4      2.30     4.17        0\n",
       "699   37   1      12       14      44     14.7      2.99     3.47        0\n",
       "\n",
       "[700 rows x 9 columns]"
      ]
     },
     "execution_count": 31,
     "metadata": {},
     "output_type": "execute_result"
    }
   ],
   "source": [
    "bankloan=pd.read_csv('C:\\\\Post Graduate Course in Data Analytics\\\\MACHINE LEARNING\\\\Decision Trees\\\\bankloan.csv')\n",
    "bankloan"
   ]
  },
  {
   "cell_type": "code",
   "execution_count": 32,
   "id": "fbc2ad0d",
   "metadata": {},
   "outputs": [
    {
     "data": {
      "text/plain": [
       "(700, 9)"
      ]
     },
     "execution_count": 32,
     "metadata": {},
     "output_type": "execute_result"
    }
   ],
   "source": [
    "bankloan.shape"
   ]
  },
  {
   "cell_type": "code",
   "execution_count": 33,
   "id": "05b76a62",
   "metadata": {},
   "outputs": [
    {
     "name": "stdout",
     "output_type": "stream",
     "text": [
      "<class 'pandas.core.frame.DataFrame'>\n",
      "RangeIndex: 700 entries, 0 to 699\n",
      "Data columns (total 9 columns):\n",
      " #   Column    Non-Null Count  Dtype  \n",
      "---  ------    --------------  -----  \n",
      " 0   age       700 non-null    int64  \n",
      " 1   ed        700 non-null    int64  \n",
      " 2   employ    700 non-null    int64  \n",
      " 3   address   700 non-null    int64  \n",
      " 4   income    700 non-null    int64  \n",
      " 5   debtinc   700 non-null    float64\n",
      " 6   creddebt  700 non-null    float64\n",
      " 7   othdebt   700 non-null    float64\n",
      " 8   default   700 non-null    int64  \n",
      "dtypes: float64(3), int64(6)\n",
      "memory usage: 49.3 KB\n"
     ]
    }
   ],
   "source": [
    "bankloan.info()"
   ]
  },
  {
   "cell_type": "code",
   "execution_count": 34,
   "id": "4d0d4ffa",
   "metadata": {},
   "outputs": [
    {
     "data": {
      "text/plain": [
       "(700, 5)"
      ]
     },
     "execution_count": 34,
     "metadata": {},
     "output_type": "execute_result"
    }
   ],
   "source": [
    "b1=bankloan.iloc[:,[0,4,6,7,8]]\n",
    "b1.shape"
   ]
  },
  {
   "cell_type": "code",
   "execution_count": 35,
   "id": "2bf460f2",
   "metadata": {},
   "outputs": [
    {
     "name": "stdout",
     "output_type": "stream",
     "text": [
      "<class 'pandas.core.frame.DataFrame'>\n",
      "RangeIndex: 700 entries, 0 to 699\n",
      "Data columns (total 5 columns):\n",
      " #   Column    Non-Null Count  Dtype  \n",
      "---  ------    --------------  -----  \n",
      " 0   age       700 non-null    int64  \n",
      " 1   income    700 non-null    int64  \n",
      " 2   creddebt  700 non-null    float64\n",
      " 3   othdebt   700 non-null    float64\n",
      " 4   default   700 non-null    int64  \n",
      "dtypes: float64(2), int64(3)\n",
      "memory usage: 27.5 KB\n"
     ]
    }
   ],
   "source": [
    "b1.info()"
   ]
  },
  {
   "cell_type": "code",
   "execution_count": 36,
   "id": "f3c958d1",
   "metadata": {},
   "outputs": [
    {
     "data": {
      "text/plain": [
       "(700, 4)"
      ]
     },
     "execution_count": 36,
     "metadata": {},
     "output_type": "execute_result"
    }
   ],
   "source": [
    "X=b1.iloc[:,[0,1,2,3]]\n",
    "X.shape"
   ]
  },
  {
   "cell_type": "code",
   "execution_count": 37,
   "id": "1998d374",
   "metadata": {},
   "outputs": [
    {
     "data": {
      "text/plain": [
       "(700,)"
      ]
     },
     "execution_count": 37,
     "metadata": {},
     "output_type": "execute_result"
    }
   ],
   "source": [
    "Y=b1.iloc[:,4]\n",
    "Y.shape"
   ]
  },
  {
   "cell_type": "code",
   "execution_count": 38,
   "id": "10f6dce1",
   "metadata": {},
   "outputs": [
    {
     "name": "stdout",
     "output_type": "stream",
     "text": [
      "(420, 4)\n",
      "(280, 4)\n",
      "(420,)\n",
      "(280,)\n"
     ]
    }
   ],
   "source": [
    "xtrain,xtest,ytrain,ytest=train_test_split(X,Y,test_size=0.4)\n",
    "print(xtrain.shape)\n",
    "print(xtest.shape)\n",
    "print(ytrain.shape)\n",
    "print(ytest.shape)"
   ]
  },
  {
   "cell_type": "code",
   "execution_count": 39,
   "id": "c4814db9",
   "metadata": {},
   "outputs": [
    {
     "data": {
      "text/plain": [
       "0    302\n",
       "1    118\n",
       "Name: default, dtype: int64"
      ]
     },
     "execution_count": 39,
     "metadata": {},
     "output_type": "execute_result"
    }
   ],
   "source": [
    "trn=ytrain.value_counts()\n",
    "trn"
   ]
  },
  {
   "cell_type": "code",
   "execution_count": 40,
   "id": "3c8e40a8",
   "metadata": {},
   "outputs": [
    {
     "data": {
      "image/png": "[encoded data removed]",
      "text/plain": [
       "<Figure size 432x288 with 1 Axes>"
      ]
     },
     "metadata": {
      "needs_background": "light"
     },
     "output_type": "display_data"
    }
   ],
   "source": [
    "trn.plot.bar(color=('g','r'),alpha=0.9)\n",
    "plt.show()"
   ]
  },
  {
   "cell_type": "code",
   "execution_count": 41,
   "id": "026d3db0",
   "metadata": {},
   "outputs": [
    {
     "data": {
      "image/png": "[encoded data removed]",
      "text/plain": [
       "<Figure size 432x288 with 1 Axes>"
      ]
     },
     "metadata": {
      "needs_background": "light"
     },
     "output_type": "display_data"
    }
   ],
   "source": [
    "tst=ytest.value_counts()\n",
    "tst.plot.bar(color=('b','r'),alpha=0.9)\n",
    "plt.show()"
   ]
  },
  {
   "cell_type": "code",
   "execution_count": 42,
   "id": "24f4d1eb",
   "metadata": {},
   "outputs": [
    {
     "name": "stdout",
     "output_type": "stream",
     "text": [
      "DecisionTreeClassifier()\n"
     ]
    }
   ],
   "source": [
    "clf=tree.DecisionTreeClassifier()\n",
    "clffit=clf.fit(xtrain,ytrain)\n",
    "print(clffit)"
   ]
  },
  {
   "cell_type": "code",
   "execution_count": 43,
   "id": "b9321883",
   "metadata": {},
   "outputs": [
    {
     "data": {
      "text/plain": [
       "[Text(231.19777644230768, 211.04470588235293, 'X[2] <= 5.56\\ngini = 0.404\\nsamples = 420\\nvalue = [302, 118]'),\n",
       " Text(140.47247596153846, 198.25411764705882, 'X[0] <= 25.5\\ngini = 0.386\\nsamples = 406\\nvalue = [300, 106]'),\n",
       " Text(46.14230769230769, 185.4635294117647, 'X[3] <= 1.185\\ngini = 0.49\\nsamples = 49\\nvalue = [21, 28]'),\n",
       " Text(32.19230769230769, 172.6729411764706, 'X[3] <= 0.88\\ngini = 0.426\\nsamples = 26\\nvalue = [18, 8]'),\n",
       " Text(17.16923076923077, 159.88235294117646, 'X[3] <= 0.58\\ngini = 0.5\\nsamples = 14\\nvalue = [7, 7]'),\n",
       " Text(8.584615384615384, 147.09176470588235, 'X[2] <= 0.55\\ngini = 0.245\\nsamples = 7\\nvalue = [6, 1]'),\n",
       " Text(4.292307692307692, 134.30117647058825, 'gini = 0.0\\nsamples = 6\\nvalue = [6, 0]'),\n",
       " Text(12.876923076923077, 134.30117647058825, 'gini = 0.0\\nsamples = 1\\nvalue = [0, 1]'),\n",
       " Text(25.753846153846155, 147.09176470588235, 'X[3] <= 0.695\\ngini = 0.245\\nsamples = 7\\nvalue = [1, 6]'),\n",
       " Text(21.46153846153846, 134.30117647058825, 'X[0] <= 23.5\\ngini = 0.444\\nsamples = 3\\nvalue = [1, 2]'),\n",
       " Text(17.16923076923077, 121.51058823529411, 'gini = 0.0\\nsamples = 2\\nvalue = [0, 2]'),\n",
       " Text(25.753846153846155, 121.51058823529411, 'gini = 0.0\\nsamples = 1\\nvalue = [1, 0]'),\n",
       " Text(30.046153846153846, 134.30117647058825, 'gini = 0.0\\nsamples = 4\\nvalue = [0, 4]'),\n",
       " Text(47.215384615384615, 159.88235294117646, 'X[2] <= 0.135\\ngini = 0.153\\nsamples = 12\\nvalue = [11, 1]'),\n",
       " Text(42.92307692307692, 147.09176470588235, 'X[0] <= 23.5\\ngini = 0.375\\nsamples = 4\\nvalue = [3, 1]'),\n",
       " Text(38.63076923076923, 134.30117647058825, 'gini = 0.0\\nsamples = 1\\nvalue = [0, 1]'),\n",
       " Text(47.215384615384615, 134.30117647058825, 'gini = 0.0\\nsamples = 3\\nvalue = [3, 0]'),\n",
       " Text(51.50769230769231, 147.09176470588235, 'gini = 0.0\\nsamples = 8\\nvalue = [8, 0]'),\n",
       " Text(60.09230769230769, 172.6729411764706, 'X[3] <= 2.16\\ngini = 0.227\\nsamples = 23\\nvalue = [3, 20]'),\n",
       " Text(55.8, 159.88235294117646, 'gini = 0.0\\nsamples = 12\\nvalue = [0, 12]'),\n",
       " Text(64.38461538461539, 159.88235294117646, 'X[3] <= 2.365\\ngini = 0.397\\nsamples = 11\\nvalue = [3, 8]'),\n",
       " Text(60.09230769230769, 147.09176470588235, 'gini = 0.0\\nsamples = 3\\nvalue = [3, 0]'),\n",
       " Text(68.67692307692307, 147.09176470588235, 'gini = 0.0\\nsamples = 8\\nvalue = [0, 8]'),\n",
       " Text(234.80264423076923, 185.4635294117647, 'X[1] <= 58.0\\ngini = 0.342\\nsamples = 357\\nvalue = [279, 78]'),\n",
       " Text(177.7283653846154, 172.6729411764706, 'X[2] <= 1.695\\ngini = 0.393\\nsamples = 268\\nvalue = [196, 72]'),\n",
       " Text(110.7951923076923, 159.88235294117646, 'X[1] <= 20.5\\ngini = 0.321\\nsamples = 214\\nvalue = [171, 43]'),\n",
       " Text(77.26153846153846, 147.09176470588235, 'X[1] <= 19.5\\ngini = 0.486\\nsamples = 36\\nvalue = [21, 15]'),\n",
       " Text(68.67692307692307, 134.30117647058825, 'X[2] <= 0.19\\ngini = 0.417\\nsamples = 27\\nvalue = [19, 8]'),\n",
       " Text(64.38461538461539, 121.51058823529411, 'gini = 0.0\\nsamples = 6\\nvalue = [6, 0]'),\n",
       " Text(72.96923076923076, 121.51058823529411, 'X[3] <= 0.485\\ngini = 0.472\\nsamples = 21\\nvalue = [13, 8]'),\n",
       " Text(68.67692307692307, 108.72, 'gini = 0.0\\nsamples = 3\\nvalue = [0, 3]'),\n",
       " Text(77.26153846153846, 108.72, 'X[2] <= 1.415\\ngini = 0.401\\nsamples = 18\\nvalue = [13, 5]'),\n",
       " Text(72.96923076923076, 95.92941176470588, 'X[3] <= 2.155\\ngini = 0.36\\nsamples = 17\\nvalue = [13, 4]'),\n",
       " Text(64.38461538461539, 83.13882352941175, 'X[2] <= 0.32\\ngini = 0.245\\nsamples = 14\\nvalue = [12, 2]'),\n",
       " Text(60.09230769230769, 70.34823529411764, 'X[2] <= 0.28\\ngini = 0.48\\nsamples = 5\\nvalue = [3, 2]'),\n",
       " Text(55.8, 57.557647058823534, 'gini = 0.0\\nsamples = 3\\nvalue = [3, 0]'),\n",
       " Text(64.38461538461539, 57.557647058823534, 'gini = 0.0\\nsamples = 2\\nvalue = [0, 2]'),\n",
       " Text(68.67692307692307, 70.34823529411764, 'gini = 0.0\\nsamples = 9\\nvalue = [9, 0]'),\n",
       " Text(81.55384615384615, 83.13882352941175, 'X[0] <= 29.0\\ngini = 0.444\\nsamples = 3\\nvalue = [1, 2]'),\n",
       " Text(77.26153846153846, 70.34823529411764, 'gini = 0.0\\nsamples = 1\\nvalue = [1, 0]'),\n",
       " Text(85.84615384615384, 70.34823529411764, 'gini = 0.0\\nsamples = 2\\nvalue = [0, 2]'),\n",
       " Text(81.55384615384615, 95.92941176470588, 'gini = 0.0\\nsamples = 1\\nvalue = [0, 1]'),\n",
       " Text(85.84615384615384, 134.30117647058825, 'X[2] <= 0.65\\ngini = 0.346\\nsamples = 9\\nvalue = [2, 7]'),\n",
       " Text(81.55384615384615, 121.51058823529411, 'gini = 0.0\\nsamples = 6\\nvalue = [0, 6]'),\n",
       " Text(90.13846153846154, 121.51058823529411, 'X[2] <= 0.91\\ngini = 0.444\\nsamples = 3\\nvalue = [2, 1]'),\n",
       " Text(85.84615384615384, 108.72, 'gini = 0.0\\nsamples = 2\\nvalue = [2, 0]'),\n",
       " Text(94.43076923076923, 108.72, 'gini = 0.0\\nsamples = 1\\nvalue = [0, 1]'),\n",
       " Text(144.32884615384614, 147.09176470588235, 'X[0] <= 51.0\\ngini = 0.265\\nsamples = 178\\nvalue = [150, 28]'),\n",
       " Text(127.69615384615385, 134.30117647058825, 'X[3] <= 0.93\\ngini = 0.246\\nsamples = 174\\nvalue = [149, 25]'),\n",
       " Text(107.3076923076923, 121.51058823529411, 'X[3] <= 0.38\\ngini = 0.124\\nsamples = 45\\nvalue = [42, 3]'),\n",
       " Text(103.01538461538462, 108.72, 'X[1] <= 22.5\\ngini = 0.397\\nsamples = 11\\nvalue = [8, 3]'),\n",
       " Text(98.72307692307692, 95.92941176470588, 'gini = 0.0\\nsamples = 1\\nvalue = [0, 1]'),\n",
       " Text(107.3076923076923, 95.92941176470588, 'X[3] <= 0.365\\ngini = 0.32\\nsamples = 10\\nvalue = [8, 2]'),\n",
       " Text(103.01538461538462, 83.13882352941175, 'X[3] <= 0.165\\ngini = 0.198\\nsamples = 9\\nvalue = [8, 1]'),\n",
       " Text(98.72307692307692, 70.34823529411764, 'X[0] <= 35.5\\ngini = 0.5\\nsamples = 2\\nvalue = [1, 1]'),\n",
       " Text(94.43076923076923, 57.557647058823534, 'gini = 0.0\\nsamples = 1\\nvalue = [1, 0]'),\n",
       " Text(103.01538461538462, 57.557647058823534, 'gini = 0.0\\nsamples = 1\\nvalue = [0, 1]'),\n",
       " Text(107.3076923076923, 70.34823529411764, 'gini = 0.0\\nsamples = 7\\nvalue = [7, 0]'),\n",
       " Text(111.6, 83.13882352941175, 'gini = 0.0\\nsamples = 1\\nvalue = [0, 1]'),\n",
       " Text(111.6, 108.72, 'gini = 0.0\\nsamples = 34\\nvalue = [34, 0]'),\n",
       " Text(148.08461538461538, 121.51058823529411, 'X[3] <= 1.005\\ngini = 0.283\\nsamples = 129\\nvalue = [107, 22]'),\n",
       " Text(120.18461538461538, 108.72, 'X[2] <= 0.235\\ngini = 0.49\\nsamples = 7\\nvalue = [3, 4]'),\n",
       " Text(115.89230769230768, 95.92941176470588, 'gini = 0.0\\nsamples = 1\\nvalue = [1, 0]'),\n",
       " Text(124.47692307692307, 95.92941176470588, 'X[2] <= 0.53\\ngini = 0.444\\nsamples = 6\\nvalue = [2, 4]'),\n",
       " Text(120.18461538461538, 83.13882352941175, 'gini = 0.0\\nsamples = 3\\nvalue = [0, 3]'),\n",
       " Text(128.76923076923077, 83.13882352941175, 'X[1] <= 24.0\\ngini = 0.444\\nsamples = 3\\nvalue = [2, 1]'),\n",
       " Text(124.47692307692307, 70.34823529411764, 'gini = 0.0\\nsamples = 1\\nvalue = [0, 1]'),\n",
       " Text(133.06153846153845, 70.34823529411764, 'gini = 0.0\\nsamples = 2\\nvalue = [2, 0]'),\n",
       " Text(175.98461538461538, 108.72, 'X[2] <= 1.08\\ngini = 0.252\\nsamples = 122\\nvalue = [104, 18]'),\n",
       " Text(150.23076923076923, 95.92941176470588, 'X[3] <= 7.52\\ngini = 0.198\\nsamples = 90\\nvalue = [80, 10]'),\n",
       " Text(145.93846153846152, 83.13882352941175, 'X[0] <= 36.5\\ngini = 0.182\\nsamples = 89\\nvalue = [80, 9]'),\n",
       " Text(141.64615384615385, 70.34823529411764, 'X[3] <= 1.52\\ngini = 0.245\\nsamples = 63\\nvalue = [54, 9]'),\n",
       " Text(122.33076923076922, 57.557647058823534, 'X[3] <= 1.285\\ngini = 0.401\\nsamples = 18\\nvalue = [13, 5]'),\n",
       " Text(113.74615384615385, 44.767058823529396, 'X[0] <= 30.0\\ngini = 0.153\\nsamples = 12\\nvalue = [11, 1]'),\n",
       " Text(109.45384615384614, 31.976470588235287, 'X[3] <= 1.06\\ngini = 0.444\\nsamples = 3\\nvalue = [2, 1]'),\n",
       " Text(105.16153846153846, 19.185882352941178, 'gini = 0.0\\nsamples = 1\\nvalue = [0, 1]'),\n",
       " Text(113.74615384615385, 19.185882352941178, 'gini = 0.0\\nsamples = 2\\nvalue = [2, 0]'),\n",
       " Text(118.03846153846153, 31.976470588235287, 'gini = 0.0\\nsamples = 9\\nvalue = [9, 0]'),\n",
       " Text(130.91538461538462, 44.767058823529396, 'X[1] <= 24.5\\ngini = 0.444\\nsamples = 6\\nvalue = [2, 4]'),\n",
       " Text(126.62307692307692, 31.976470588235287, 'X[0] <= 30.0\\ngini = 0.444\\nsamples = 3\\nvalue = [2, 1]'),\n",
       " Text(122.33076923076922, 19.185882352941178, 'gini = 0.0\\nsamples = 1\\nvalue = [0, 1]'),\n",
       " Text(130.91538461538462, 19.185882352941178, 'gini = 0.0\\nsamples = 2\\nvalue = [2, 0]'),\n",
       " Text(135.2076923076923, 31.976470588235287, 'gini = 0.0\\nsamples = 3\\nvalue = [0, 3]'),\n",
       " Text(160.96153846153845, 57.557647058823534, 'X[1] <= 44.5\\ngini = 0.162\\nsamples = 45\\nvalue = [41, 4]'),\n",
       " Text(148.08461538461538, 44.767058823529396, 'X[0] <= 33.5\\ngini = 0.097\\nsamples = 39\\nvalue = [37, 2]'),\n",
       " Text(143.79230769230767, 31.976470588235287, 'gini = 0.0\\nsamples = 27\\nvalue = [27, 0]'),\n",
       " Text(152.37692307692308, 31.976470588235287, 'X[1] <= 29.0\\ngini = 0.278\\nsamples = 12\\nvalue = [10, 2]'),\n",
       " Text(148.08461538461538, 19.185882352941178, 'gini = 0.0\\nsamples = 2\\nvalue = [0, 2]'),\n",
       " Text(156.66923076923075, 19.185882352941178, 'gini = 0.0\\nsamples = 10\\nvalue = [10, 0]'),\n",
       " Text(173.83846153846153, 44.767058823529396, 'X[1] <= 51.5\\ngini = 0.444\\nsamples = 6\\nvalue = [4, 2]'),\n",
       " Text(169.54615384615383, 31.976470588235287, 'X[0] <= 30.5\\ngini = 0.444\\nsamples = 3\\nvalue = [1, 2]'),\n",
       " Text(165.25384615384615, 19.185882352941178, 'gini = 0.0\\nsamples = 1\\nvalue = [0, 1]'),\n",
       " Text(173.83846153846153, 19.185882352941178, 'X[3] <= 3.72\\ngini = 0.5\\nsamples = 2\\nvalue = [1, 1]'),\n",
       " Text(169.54615384615383, 6.39529411764704, 'gini = 0.0\\nsamples = 1\\nvalue = [0, 1]'),\n",
       " Text(178.13076923076923, 6.39529411764704, 'gini = 0.0\\nsamples = 1\\nvalue = [1, 0]'),\n",
       " Text(178.13076923076923, 31.976470588235287, 'gini = 0.0\\nsamples = 3\\nvalue = [3, 0]'),\n",
       " Text(150.23076923076923, 70.34823529411764, 'gini = 0.0\\nsamples = 26\\nvalue = [26, 0]'),\n",
       " Text(154.52307692307693, 83.13882352941175, 'gini = 0.0\\nsamples = 1\\nvalue = [0, 1]'),\n",
       " Text(201.73846153846154, 95.92941176470588, 'X[2] <= 1.105\\ngini = 0.375\\nsamples = 32\\nvalue = [24, 8]'),\n",
       " Text(197.44615384615383, 83.13882352941175, 'gini = 0.0\\nsamples = 2\\nvalue = [0, 2]'),\n",
       " Text(206.03076923076924, 83.13882352941175, 'X[0] <= 40.0\\ngini = 0.32\\nsamples = 30\\nvalue = [24, 6]'),\n",
       " Text(195.29999999999998, 70.34823529411764, 'X[0] <= 29.0\\ngini = 0.219\\nsamples = 24\\nvalue = [21, 3]'),\n",
       " Text(186.7153846153846, 57.557647058823534, 'X[2] <= 1.47\\ngini = 0.5\\nsamples = 4\\nvalue = [2, 2]'),\n",
       " Text(182.4230769230769, 44.767058823529396, 'gini = 0.0\\nsamples = 2\\nvalue = [0, 2]'),\n",
       " Text(191.0076923076923, 44.767058823529396, 'gini = 0.0\\nsamples = 2\\nvalue = [2, 0]'),\n",
       " Text(203.8846153846154, 57.557647058823534, 'X[3] <= 2.425\\ngini = 0.095\\nsamples = 20\\nvalue = [19, 1]'),\n",
       " Text(199.59230769230768, 44.767058823529396, 'X[3] <= 2.375\\ngini = 0.198\\nsamples = 9\\nvalue = [8, 1]'),\n",
       " Text(195.29999999999998, 31.976470588235287, 'gini = 0.0\\nsamples = 8\\nvalue = [8, 0]'),\n",
       " Text(203.8846153846154, 31.976470588235287, 'gini = 0.0\\nsamples = 1\\nvalue = [0, 1]'),\n",
       " Text(208.17692307692306, 44.767058823529396, 'gini = 0.0\\nsamples = 11\\nvalue = [11, 0]'),\n",
       " Text(216.76153846153846, 70.34823529411764, 'X[2] <= 1.275\\ngini = 0.5\\nsamples = 6\\nvalue = [3, 3]'),\n",
       " Text(212.46923076923076, 57.557647058823534, 'gini = 0.0\\nsamples = 2\\nvalue = [0, 2]'),\n",
       " Text(221.05384615384614, 57.557647058823534, 'X[0] <= 43.5\\ngini = 0.375\\nsamples = 4\\nvalue = [3, 1]'),\n",
       " Text(216.76153846153846, 44.767058823529396, 'gini = 0.0\\nsamples = 1\\nvalue = [0, 1]'),\n",
       " Text(225.34615384615384, 44.767058823529396, 'gini = 0.0\\nsamples = 3\\nvalue = [3, 0]'),\n",
       " Text(160.96153846153845, 134.30117647058825, 'X[1] <= 36.0\\ngini = 0.375\\nsamples = 4\\nvalue = [1, 3]'),\n",
       " Text(156.66923076923075, 121.51058823529411, 'gini = 0.0\\nsamples = 3\\nvalue = [0, 3]'),\n",
       " Text(165.25384615384615, 121.51058823529411, 'gini = 0.0\\nsamples = 1\\nvalue = [1, 0]'),\n",
       " Text(244.66153846153844, 159.88235294117646, 'X[1] <= 43.5\\ngini = 0.497\\nsamples = 54\\nvalue = [25, 29]'),\n",
       " Text(231.78461538461536, 147.09176470588235, 'X[2] <= 2.675\\ngini = 0.444\\nsamples = 33\\nvalue = [11, 22]'),\n",
       " Text(227.4923076923077, 134.30117647058825, 'X[2] <= 1.985\\ngini = 0.497\\nsamples = 24\\nvalue = [11, 13]'),\n",
       " Text(218.9076923076923, 121.51058823529411, 'X[2] <= 1.76\\ngini = 0.18\\nsamples = 10\\nvalue = [1, 9]'),\n",
       " Text(214.6153846153846, 108.72, 'X[1] <= 30.0\\ngini = 0.444\\nsamples = 3\\nvalue = [1, 2]'),\n",
       " Text(210.3230769230769, 95.92941176470588, 'gini = 0.0\\nsamples = 1\\nvalue = [1, 0]'),\n",
       " Text(218.9076923076923, 95.92941176470588, 'gini = 0.0\\nsamples = 2\\nvalue = [0, 2]'),\n",
       " Text(223.2, 108.72, 'gini = 0.0\\nsamples = 7\\nvalue = [0, 7]'),\n",
       " Text(236.07692307692307, 121.51058823529411, 'X[0] <= 28.5\\ngini = 0.408\\nsamples = 14\\nvalue = [10, 4]'),\n",
       " Text(231.78461538461536, 108.72, 'gini = 0.0\\nsamples = 3\\nvalue = [0, 3]'),\n",
       " Text(240.36923076923077, 108.72, 'X[3] <= 5.555\\ngini = 0.165\\nsamples = 11\\nvalue = [10, 1]'),\n",
       " Text(236.07692307692307, 95.92941176470588, 'gini = 0.0\\nsamples = 10\\nvalue = [10, 0]'),\n",
       " Text(244.66153846153844, 95.92941176470588, 'gini = 0.0\\nsamples = 1\\nvalue = [0, 1]'),\n",
       " Text(236.07692307692307, 134.30117647058825, 'gini = 0.0\\nsamples = 9\\nvalue = [0, 9]'),\n",
       " Text(257.53846153846155, 147.09176470588235, 'X[0] <= 43.0\\ngini = 0.444\\nsamples = 21\\nvalue = [14, 7]'),\n",
       " Text(248.95384615384614, 134.30117647058825, 'X[3] <= 6.885\\ngini = 0.305\\nsamples = 16\\nvalue = [13, 3]'),\n",
       " Text(244.66153846153844, 121.51058823529411, 'gini = 0.0\\nsamples = 12\\nvalue = [12, 0]'),\n",
       " Text(253.24615384615385, 121.51058823529411, 'X[0] <= 41.0\\ngini = 0.375\\nsamples = 4\\nvalue = [1, 3]'),\n",
       " Text(248.95384615384614, 108.72, 'gini = 0.0\\nsamples = 3\\nvalue = [0, 3]'),\n",
       " Text(257.53846153846155, 108.72, 'gini = 0.0\\nsamples = 1\\nvalue = [1, 0]'),\n",
       " Text(266.1230769230769, 134.30117647058825, 'X[3] <= 8.155\\ngini = 0.32\\nsamples = 5\\nvalue = [1, 4]'),\n",
       " Text(261.83076923076925, 121.51058823529411, 'gini = 0.0\\nsamples = 4\\nvalue = [0, 4]'),\n",
       " Text(270.4153846153846, 121.51058823529411, 'gini = 0.0\\nsamples = 1\\nvalue = [1, 0]'),\n",
       " Text(291.87692307692305, 172.6729411764706, 'X[3] <= 14.93\\ngini = 0.126\\nsamples = 89\\nvalue = [83, 6]'),\n",
       " Text(274.7076923076923, 159.88235294117646, 'X[3] <= 5.24\\ngini = 0.07\\nsamples = 83\\nvalue = [80, 3]'),\n",
       " Text(270.4153846153846, 147.09176470588235, 'gini = 0.0\\nsamples = 55\\nvalue = [55, 0]'),\n",
       " Text(279.0, 147.09176470588235, 'X[3] <= 5.32\\ngini = 0.191\\nsamples = 28\\nvalue = [25, 3]'),\n",
       " Text(274.7076923076923, 134.30117647058825, 'gini = 0.0\\nsamples = 1\\nvalue = [0, 1]'),\n",
       " Text(283.2923076923077, 134.30117647058825, 'X[1] <= 70.5\\ngini = 0.137\\nsamples = 27\\nvalue = [25, 2]'),\n",
       " Text(279.0, 121.51058823529411, 'X[3] <= 7.695\\ngini = 0.346\\nsamples = 9\\nvalue = [7, 2]'),\n",
       " Text(274.7076923076923, 108.72, 'gini = 0.0\\nsamples = 6\\nvalue = [6, 0]'),\n",
       " Text(283.2923076923077, 108.72, 'X[3] <= 8.97\\ngini = 0.444\\nsamples = 3\\nvalue = [1, 2]'),\n",
       " Text(279.0, 95.92941176470588, 'gini = 0.0\\nsamples = 2\\nvalue = [0, 2]'),\n",
       " Text(287.58461538461535, 95.92941176470588, 'gini = 0.0\\nsamples = 1\\nvalue = [1, 0]'),\n",
       " Text(287.58461538461535, 121.51058823529411, 'gini = 0.0\\nsamples = 18\\nvalue = [18, 0]'),\n",
       " Text(309.04615384615386, 159.88235294117646, 'X[1] <= 107.0\\ngini = 0.5\\nsamples = 6\\nvalue = [3, 3]'),\n",
       " Text(304.75384615384615, 147.09176470588235, 'X[3] <= 17.235\\ngini = 0.375\\nsamples = 4\\nvalue = [1, 3]'),\n",
       " Text(300.46153846153845, 134.30117647058825, 'X[2] <= 3.865\\ngini = 0.5\\nsamples = 2\\nvalue = [1, 1]'),\n",
       " Text(296.16923076923075, 121.51058823529411, 'gini = 0.0\\nsamples = 1\\nvalue = [1, 0]'),\n",
       " Text(304.75384615384615, 121.51058823529411, 'gini = 0.0\\nsamples = 1\\nvalue = [0, 1]'),\n",
       " Text(309.04615384615386, 134.30117647058825, 'gini = 0.0\\nsamples = 2\\nvalue = [0, 2]'),\n",
       " Text(313.3384615384615, 147.09176470588235, 'gini = 0.0\\nsamples = 2\\nvalue = [2, 0]'),\n",
       " Text(321.9230769230769, 198.25411764705882, 'X[0] <= 40.5\\ngini = 0.245\\nsamples = 14\\nvalue = [2, 12]'),\n",
       " Text(317.6307692307692, 185.4635294117647, 'gini = 0.0\\nsamples = 9\\nvalue = [0, 9]'),\n",
       " Text(326.2153846153846, 185.4635294117647, 'X[3] <= 11.795\\ngini = 0.48\\nsamples = 5\\nvalue = [2, 3]'),\n",
       " Text(321.9230769230769, 172.6729411764706, 'X[0] <= 52.5\\ngini = 0.444\\nsamples = 3\\nvalue = [2, 1]'),\n",
       " Text(317.6307692307692, 159.88235294117646, 'gini = 0.0\\nsamples = 2\\nvalue = [2, 0]'),\n",
       " Text(326.2153846153846, 159.88235294117646, 'gini = 0.0\\nsamples = 1\\nvalue = [0, 1]'),\n",
       " Text(330.5076923076923, 172.6729411764706, 'gini = 0.0\\nsamples = 2\\nvalue = [0, 2]')]"
      ]
     },
     "execution_count": 43,
     "metadata": {},
     "output_type": "execute_result"
    },
    {
     "data": {
      "image/png": "[encoded data removed]",
      "text/plain": [
       "<Figure size 432x288 with 1 Axes>"
      ]
     },
     "metadata": {
      "needs_background": "light"
     },
     "output_type": "display_data"
    }
   ],
   "source": [
    "tree.plot_tree(clffit)"
   ]
  },
  {
   "cell_type": "code",
   "execution_count": 47,
   "id": "d1b7bff5",
   "metadata": {},
   "outputs": [
    {
     "data": {
      "text/html": [
       "<div>\n",
       "<style scoped>\n",
       "    .dataframe tbody tr th:only-of-type {\n",
       "        vertical-align: middle;\n",
       "    }\n",
       "\n",
       "    .dataframe tbody tr th {\n",
       "        vertical-align: top;\n",
       "    }\n",
       "\n",
       "    .dataframe thead th {\n",
       "        text-align: right;\n",
       "    }\n",
       "</style>\n",
       "<table border=\"1\" class=\"dataframe\">\n",
       "  <thead>\n",
       "    <tr style=\"text-align: right;\">\n",
       "      <th>Predicted</th>\n",
       "      <th>0</th>\n",
       "      <th>1</th>\n",
       "      <th>All</th>\n",
       "    </tr>\n",
       "    <tr>\n",
       "      <th>Actual</th>\n",
       "      <th></th>\n",
       "      <th></th>\n",
       "      <th></th>\n",
       "    </tr>\n",
       "  </thead>\n",
       "  <tbody>\n",
       "    <tr>\n",
       "      <th>0</th>\n",
       "      <td>162</td>\n",
       "      <td>53</td>\n",
       "      <td>215</td>\n",
       "    </tr>\n",
       "    <tr>\n",
       "      <th>1</th>\n",
       "      <td>33</td>\n",
       "      <td>32</td>\n",
       "      <td>65</td>\n",
       "    </tr>\n",
       "    <tr>\n",
       "      <th>All</th>\n",
       "      <td>195</td>\n",
       "      <td>85</td>\n",
       "      <td>280</td>\n",
       "    </tr>\n",
       "  </tbody>\n",
       "</table>\n",
       "</div>"
      ],
      "text/plain": [
       "Predicted    0   1  All\n",
       "Actual                 \n",
       "0          162  53  215\n",
       "1           33  32   65\n",
       "All        195  85  280"
      ]
     },
     "execution_count": 47,
     "metadata": {},
     "output_type": "execute_result"
    }
   ],
   "source": [
    "ypred=clffit.predict(xtest)\n",
    "cm_tree=pd.crosstab(ytest,ypred,rownames=['Actual'],colnames=['Predicted'],margins=True)\n",
    "cm_tree"
   ]
  },
  {
   "cell_type": "code",
   "execution_count": 48,
   "id": "8489406c",
   "metadata": {},
   "outputs": [
    {
     "data": {
      "text/plain": [
       "array([[162,  53],\n",
       "       [ 33,  32]], dtype=int64)"
      ]
     },
     "execution_count": 48,
     "metadata": {},
     "output_type": "execute_result"
    }
   ],
   "source": [
    "confusion_matrix(ytest,ypred)"
   ]
  },
  {
   "cell_type": "code",
   "execution_count": 49,
   "id": "990f80f2",
   "metadata": {},
   "outputs": [
    {
     "name": "stdout",
     "output_type": "stream",
     "text": [
      "              precision    recall  f1-score   support\n",
      "\n",
      "           0       0.83      0.75      0.79       215\n",
      "           1       0.38      0.49      0.43        65\n",
      "\n",
      "    accuracy                           0.69       280\n",
      "   macro avg       0.60      0.62      0.61       280\n",
      "weighted avg       0.73      0.69      0.71       280\n",
      "\n"
     ]
    }
   ],
   "source": [
    "print(classification_report(ytest,ypred))"
   ]
  },
  {
   "cell_type": "code",
   "execution_count": 50,
   "id": "faf5e4c3",
   "metadata": {},
   "outputs": [
    {
     "name": "stdout",
     "output_type": "stream",
     "text": [
      "[0.         0.24651163 1.        ]\n",
      "[0.         0.49230769 1.        ]\n",
      "[2. 1. 0.]\n"
     ]
    }
   ],
   "source": [
    "predictprob=clffit.predict_proba(xtest)[:,1]\n",
    "fpr,tpr,thresholds=metrics.roc_curve(ytest,predictprob)\n",
    "print(fpr)\n",
    "print(tpr)\n",
    "print(thresholds)"
   ]
  },
  {
   "cell_type": "code",
   "execution_count": null,
   "id": "f3a4985f",
   "metadata": {},
   "outputs": [],
   "source": []
  }
 ],
 "metadata": {
  "kernelspec": {
   "display_name": "Python 3",
   "language": "python",
   "name": "python3"
  },
  "language_info": {
   "codemirror_mode": {
    "name": "ipython",
    "version": 3
   },
   "file_extension": ".py",
   "mimetype": "text/x-python",
   "name": "python",
   "nbconvert_exporter": "python",
   "pygments_lexer": "ipython3",
   "version": "3.8.8"
  }
 },
 "nbformat": 4,
 "nbformat_minor": 5
}
