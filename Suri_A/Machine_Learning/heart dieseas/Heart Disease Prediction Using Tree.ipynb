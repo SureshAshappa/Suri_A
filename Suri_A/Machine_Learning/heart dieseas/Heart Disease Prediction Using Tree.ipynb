{
 "cells": [
  {
   "cell_type": "markdown",
   "id": "717dbf2c",
   "metadata": {},
   "source": [
    "# PROJECT ON HEART DISEASE PREDICTION USING DECISION TREE"
   ]
  },
  {
   "cell_type": "markdown",
   "id": "5adf2c7e",
   "metadata": {},
   "source": [
    "**First step is to import all libraries**"
   ]
  },
  {
   "cell_type": "markdown",
   "id": "5b3f0b6e",
   "metadata": {},
   "source": [
    "Step 1: Import all libraries that are used in the model"
   ]
  },
  {
   "cell_type": "code",
   "execution_count": 9,
   "id": "ea9da6cf",
   "metadata": {},
   "outputs": [],
   "source": [
    "import pandas as pd\n",
    "import numpy as np\n",
    "import matplotlib.pyplot as plt\n",
    "import seaborn as sns\n",
    "import sklearn\n",
    "from sklearn import metrics\n",
    "from sklearn.tree import DecisionTreeClassifier\n",
    "from sklearn.model_selection import train_test_split\n"
   ]
  },
  {
   "cell_type": "code",
   "execution_count": 10,
   "id": "084790cd",
   "metadata": {},
   "outputs": [],
   "source": [
    "from sklearn.metrics import confusion_matrix\n",
    "from sklearn.metrics import roc_curve, auc, roc_auc_score\n",
    "from sklearn.metrics import accuracy_score\n",
    "from sklearn.metrics import classification_report\n"
   ]
  },
  {
   "cell_type": "code",
   "execution_count": 11,
   "id": "61d88ce5",
   "metadata": {},
   "outputs": [],
   "source": [
    "from warnings import filterwarnings\n",
    "filterwarnings('ignore')"
   ]
  },
  {
   "cell_type": "markdown",
   "id": "add7df31",
   "metadata": {},
   "source": [
    "Step 2: Import the data that is used for the model prediction"
   ]
  },
  {
   "cell_type": "code",
   "execution_count": 12,
   "id": "10d1028e",
   "metadata": {},
   "outputs": [
    {
     "data": {
      "text/html": [
       "<div>\n",
       "<style scoped>\n",
       "    .dataframe tbody tr th:only-of-type {\n",
       "        vertical-align: middle;\n",
       "    }\n",
       "\n",
       "    .dataframe tbody tr th {\n",
       "        vertical-align: top;\n",
       "    }\n",
       "\n",
       "    .dataframe thead th {\n",
       "        text-align: right;\n",
       "    }\n",
       "</style>\n",
       "<table border=\"1\" class=\"dataframe\">\n",
       "  <thead>\n",
       "    <tr style=\"text-align: right;\">\n",
       "      <th></th>\n",
       "      <th>age</th>\n",
       "      <th>gender</th>\n",
       "      <th>chest_pain</th>\n",
       "      <th>rest_bps</th>\n",
       "      <th>cholestrol</th>\n",
       "      <th>fasting_blood_sugar</th>\n",
       "      <th>rest_ecg</th>\n",
       "      <th>thalach</th>\n",
       "      <th>exer_angina</th>\n",
       "      <th>old_peak</th>\n",
       "      <th>slope</th>\n",
       "      <th>ca</th>\n",
       "      <th>thalassemia</th>\n",
       "      <th>target</th>\n",
       "    </tr>\n",
       "  </thead>\n",
       "  <tbody>\n",
       "    <tr>\n",
       "      <th>0</th>\n",
       "      <td>63</td>\n",
       "      <td>1</td>\n",
       "      <td>3</td>\n",
       "      <td>145</td>\n",
       "      <td>233</td>\n",
       "      <td>1</td>\n",
       "      <td>0</td>\n",
       "      <td>150</td>\n",
       "      <td>0</td>\n",
       "      <td>2.3</td>\n",
       "      <td>0</td>\n",
       "      <td>0</td>\n",
       "      <td>1</td>\n",
       "      <td>1</td>\n",
       "    </tr>\n",
       "    <tr>\n",
       "      <th>1</th>\n",
       "      <td>37</td>\n",
       "      <td>1</td>\n",
       "      <td>2</td>\n",
       "      <td>130</td>\n",
       "      <td>250</td>\n",
       "      <td>0</td>\n",
       "      <td>1</td>\n",
       "      <td>187</td>\n",
       "      <td>0</td>\n",
       "      <td>3.5</td>\n",
       "      <td>0</td>\n",
       "      <td>0</td>\n",
       "      <td>2</td>\n",
       "      <td>1</td>\n",
       "    </tr>\n",
       "    <tr>\n",
       "      <th>2</th>\n",
       "      <td>41</td>\n",
       "      <td>0</td>\n",
       "      <td>1</td>\n",
       "      <td>130</td>\n",
       "      <td>204</td>\n",
       "      <td>0</td>\n",
       "      <td>0</td>\n",
       "      <td>172</td>\n",
       "      <td>0</td>\n",
       "      <td>1.4</td>\n",
       "      <td>2</td>\n",
       "      <td>0</td>\n",
       "      <td>2</td>\n",
       "      <td>1</td>\n",
       "    </tr>\n",
       "    <tr>\n",
       "      <th>3</th>\n",
       "      <td>56</td>\n",
       "      <td>1</td>\n",
       "      <td>1</td>\n",
       "      <td>120</td>\n",
       "      <td>236</td>\n",
       "      <td>0</td>\n",
       "      <td>1</td>\n",
       "      <td>178</td>\n",
       "      <td>0</td>\n",
       "      <td>0.8</td>\n",
       "      <td>2</td>\n",
       "      <td>0</td>\n",
       "      <td>2</td>\n",
       "      <td>1</td>\n",
       "    </tr>\n",
       "    <tr>\n",
       "      <th>4</th>\n",
       "      <td>57</td>\n",
       "      <td>0</td>\n",
       "      <td>0</td>\n",
       "      <td>120</td>\n",
       "      <td>354</td>\n",
       "      <td>0</td>\n",
       "      <td>1</td>\n",
       "      <td>163</td>\n",
       "      <td>1</td>\n",
       "      <td>0.6</td>\n",
       "      <td>2</td>\n",
       "      <td>0</td>\n",
       "      <td>2</td>\n",
       "      <td>1</td>\n",
       "    </tr>\n",
       "  </tbody>\n",
       "</table>\n",
       "</div>"
      ],
      "text/plain": [
       "   age  gender  chest_pain  rest_bps  cholestrol  fasting_blood_sugar  \\\n",
       "0   63       1           3       145         233                    1   \n",
       "1   37       1           2       130         250                    0   \n",
       "2   41       0           1       130         204                    0   \n",
       "3   56       1           1       120         236                    0   \n",
       "4   57       0           0       120         354                    0   \n",
       "\n",
       "   rest_ecg  thalach  exer_angina  old_peak  slope  ca  thalassemia  target  \n",
       "0         0      150            0       2.3      0   0            1       1  \n",
       "1         1      187            0       3.5      0   0            2       1  \n",
       "2         0      172            0       1.4      2   0            2       1  \n",
       "3         1      178            0       0.8      2   0            2       1  \n",
       "4         1      163            1       0.6      2   0            2       1  "
      ]
     },
     "execution_count": 12,
     "metadata": {},
     "output_type": "execute_result"
    }
   ],
   "source": [
    "df=pd.read_csv('Downloads/HeartDisease.csv')\n",
    "df.head()"
   ]
  },
  {
   "cell_type": "markdown",
   "id": "ccad5ec1",
   "metadata": {},
   "source": [
    "**Explore the data to check the no of variables and no of records in the table**"
   ]
  },
  {
   "cell_type": "code",
   "execution_count": 13,
   "id": "eccd8cec",
   "metadata": {},
   "outputs": [
    {
     "data": {
      "text/plain": [
       "(303, 14)"
      ]
     },
     "execution_count": 13,
     "metadata": {},
     "output_type": "execute_result"
    }
   ],
   "source": [
    "df.shape"
   ]
  },
  {
   "cell_type": "code",
   "execution_count": 14,
   "id": "91ada2e4",
   "metadata": {},
   "outputs": [
    {
     "data": {
      "text/plain": [
       "1    165\n",
       "0    138\n",
       "Name: target, dtype: int64"
      ]
     },
     "execution_count": 14,
     "metadata": {},
     "output_type": "execute_result"
    }
   ],
   "source": [
    "df.target.value_counts()"
   ]
  },
  {
   "cell_type": "code",
   "execution_count": 15,
   "id": "dec0d6ca",
   "metadata": {},
   "outputs": [
    {
     "name": "stdout",
     "output_type": "stream",
     "text": [
      "<class 'pandas.core.frame.DataFrame'>\n",
      "RangeIndex: 303 entries, 0 to 302\n",
      "Data columns (total 14 columns):\n",
      " #   Column               Non-Null Count  Dtype  \n",
      "---  ------               --------------  -----  \n",
      " 0   age                  303 non-null    int64  \n",
      " 1   gender               303 non-null    int64  \n",
      " 2   chest_pain           303 non-null    int64  \n",
      " 3   rest_bps             303 non-null    int64  \n",
      " 4   cholestrol           303 non-null    int64  \n",
      " 5   fasting_blood_sugar  303 non-null    int64  \n",
      " 6   rest_ecg             303 non-null    int64  \n",
      " 7   thalach              303 non-null    int64  \n",
      " 8   exer_angina          303 non-null    int64  \n",
      " 9   old_peak             303 non-null    float64\n",
      " 10  slope                303 non-null    int64  \n",
      " 11  ca                   303 non-null    int64  \n",
      " 12  thalassemia          303 non-null    int64  \n",
      " 13  target               303 non-null    int64  \n",
      "dtypes: float64(1), int64(13)\n",
      "memory usage: 33.2 KB\n"
     ]
    }
   ],
   "source": [
    "df.info()"
   ]
  },
  {
   "cell_type": "markdown",
   "id": "1a471100",
   "metadata": {},
   "source": [
    "**Check the Missing Values**"
   ]
  },
  {
   "cell_type": "code",
   "execution_count": 16,
   "id": "b80c102b",
   "metadata": {},
   "outputs": [
    {
     "data": {
      "text/plain": [
       "age                    0\n",
       "gender                 0\n",
       "chest_pain             0\n",
       "rest_bps               0\n",
       "cholestrol             0\n",
       "fasting_blood_sugar    0\n",
       "rest_ecg               0\n",
       "thalach                0\n",
       "exer_angina            0\n",
       "old_peak               0\n",
       "slope                  0\n",
       "ca                     0\n",
       "thalassemia            0\n",
       "target                 0\n",
       "dtype: int64"
      ]
     },
     "execution_count": 16,
     "metadata": {},
     "output_type": "execute_result"
    }
   ],
   "source": [
    "df.isnull().sum()"
   ]
  },
  {
   "cell_type": "markdown",
   "id": "a80d6450",
   "metadata": {},
   "source": [
    "Step 3:Consider each variable and check for the acceptance or rejection of the variable in the model"
   ]
  },
  {
   "cell_type": "markdown",
   "id": "0e769827",
   "metadata": {},
   "source": [
    "**Considering age**"
   ]
  },
  {
   "cell_type": "code",
   "execution_count": 17,
   "id": "bae98041",
   "metadata": {},
   "outputs": [
    {
     "data": {
      "text/plain": [
       "303"
      ]
     },
     "execution_count": 17,
     "metadata": {},
     "output_type": "execute_result"
    }
   ],
   "source": [
    "df.age.value_counts().sum()"
   ]
  },
  {
   "cell_type": "code",
   "execution_count": 18,
   "id": "8c7e81bf",
   "metadata": {},
   "outputs": [
    {
     "data": {
      "text/plain": [
       "Ttest_indResult(statistic=103.00041313916304, pvalue=2.4882745359625946e-238)"
      ]
     },
     "execution_count": 18,
     "metadata": {},
     "output_type": "execute_result"
    }
   ],
   "source": [
    "from scipy.stats import ttest_ind\n",
    "ttest_ind(a=df['age'],b=df['target'],equal_var=False)"
   ]
  },
  {
   "cell_type": "markdown",
   "id": "c07700df",
   "metadata": {},
   "source": [
    "After performing Independent t-test,we conclude the 'Age' variable is less than the level of significance, It is a good predictor in the model"
   ]
  },
  {
   "cell_type": "code",
   "execution_count": 19,
   "id": "943c4539",
   "metadata": {},
   "outputs": [
    {
     "data": {
      "image/png": "[encoded data removed]",
      "text/plain": [
       "<Figure size 432x288 with 1 Axes>"
      ]
     },
     "metadata": {
      "needs_background": "light"
     },
     "output_type": "display_data"
    }
   ],
   "source": [
    "sns.distplot(df.age,color='green')\n",
    "plt.xlabel('age')\n",
    "plt.show()"
   ]
  },
  {
   "cell_type": "markdown",
   "id": "9343e0f0",
   "metadata": {},
   "source": [
    "**Considering Chest pain**"
   ]
  },
  {
   "cell_type": "code",
   "execution_count": 20,
   "id": "d0791ba5",
   "metadata": {},
   "outputs": [
    {
     "data": {
      "text/plain": [
       "0    143\n",
       "2     87\n",
       "1     50\n",
       "3     23\n",
       "Name: chest_pain, dtype: int64"
      ]
     },
     "execution_count": 20,
     "metadata": {},
     "output_type": "execute_result"
    }
   ],
   "source": [
    "df.chest_pain.value_counts()"
   ]
  },
  {
   "cell_type": "code",
   "execution_count": 21,
   "id": "449d7527",
   "metadata": {},
   "outputs": [
    {
     "data": {
      "image/png": "[encoded data removed]",
      "text/plain": [
       "<Figure size 432x288 with 1 Axes>"
      ]
     },
     "metadata": {
      "needs_background": "light"
     },
     "output_type": "display_data"
    }
   ],
   "source": [
    "sns.countplot(df.chest_pain)\n",
    "plt.xlabel('chest pain')\n",
    "plt.show()"
   ]
  },
  {
   "cell_type": "code",
   "execution_count": 22,
   "id": "f83bde68",
   "metadata": {},
   "outputs": [
    {
     "data": {
      "text/plain": [
       "Ttest_indResult(statistic=6.414992917860379, pvalue=3.6743127652477344e-10)"
      ]
     },
     "execution_count": 22,
     "metadata": {},
     "output_type": "execute_result"
    }
   ],
   "source": [
    "from scipy.stats import ttest_ind\n",
    "ttest_ind(a=df['chest_pain'],b=df['target'],equal_var=False)"
   ]
  },
  {
   "cell_type": "markdown",
   "id": "90c48413",
   "metadata": {},
   "source": [
    "**Considering cholestrol**"
   ]
  },
  {
   "cell_type": "code",
   "execution_count": 23,
   "id": "1d47a4f0",
   "metadata": {},
   "outputs": [
    {
     "data": {
      "text/plain": [
       "204    6\n",
       "197    6\n",
       "234    6\n",
       "269    5\n",
       "212    5\n",
       "      ..\n",
       "215    1\n",
       "210    1\n",
       "200    1\n",
       "195    1\n",
       "417    1\n",
       "Name: cholestrol, Length: 152, dtype: int64"
      ]
     },
     "execution_count": 23,
     "metadata": {},
     "output_type": "execute_result"
    }
   ],
   "source": [
    "df.cholestrol.value_counts()"
   ]
  },
  {
   "cell_type": "code",
   "execution_count": 24,
   "id": "f71f2b0a",
   "metadata": {},
   "outputs": [
    {
     "data": {
      "text/plain": [
       "Ttest_indResult(statistic=-82.51887021442299, pvalue=3.0221356802963283e-209)"
      ]
     },
     "execution_count": 24,
     "metadata": {},
     "output_type": "execute_result"
    }
   ],
   "source": [
    "from scipy.stats import ttest_ind\n",
    "ttest_ind(a=df['target'],b=df['cholestrol'],equal_var=False)"
   ]
  },
  {
   "cell_type": "markdown",
   "id": "fc78457d",
   "metadata": {},
   "source": [
    "After performing Independent t-test,we conclude the 'cholestrol' variable is less than the level of significance, It is a good predictor in the model"
   ]
  },
  {
   "cell_type": "code",
   "execution_count": 25,
   "id": "797572fd",
   "metadata": {},
   "outputs": [
    {
     "data": {
      "image/png": "[encoded data removed]",
      "text/plain": [
       "<Figure size 432x288 with 1 Axes>"
      ]
     },
     "metadata": {
      "needs_background": "light"
     },
     "output_type": "display_data"
    }
   ],
   "source": [
    "sns.distplot(df.cholestrol,color='red')\n",
    "plt.title('Variation in Cholestrol')\n",
    "plt.xlabel('cholestrol')\n",
    "plt.show()"
   ]
  },
  {
   "cell_type": "markdown",
   "id": "0f6c8606",
   "metadata": {},
   "source": [
    "**Considering gender**"
   ]
  },
  {
   "cell_type": "code",
   "execution_count": 26,
   "id": "7584de71",
   "metadata": {},
   "outputs": [
    {
     "data": {
      "text/plain": [
       "1    207\n",
       "0     96\n",
       "Name: gender, dtype: int64"
      ]
     },
     "execution_count": 26,
     "metadata": {},
     "output_type": "execute_result"
    }
   ],
   "source": [
    "df.gender.value_counts()"
   ]
  },
  {
   "cell_type": "markdown",
   "id": "80778946",
   "metadata": {},
   "source": [
    "As the dependent variable 'gender' is categorical and response variable is also categorical, \n",
    "we need to perform Chisquare test"
   ]
  },
  {
   "cell_type": "code",
   "execution_count": 27,
   "id": "b2eb5775",
   "metadata": {},
   "outputs": [
    {
     "data": {
      "text/html": [
       "<div>\n",
       "<style scoped>\n",
       "    .dataframe tbody tr th:only-of-type {\n",
       "        vertical-align: middle;\n",
       "    }\n",
       "\n",
       "    .dataframe tbody tr th {\n",
       "        vertical-align: top;\n",
       "    }\n",
       "\n",
       "    .dataframe thead th {\n",
       "        text-align: right;\n",
       "    }\n",
       "</style>\n",
       "<table border=\"1\" class=\"dataframe\">\n",
       "  <thead>\n",
       "    <tr style=\"text-align: right;\">\n",
       "      <th>gender</th>\n",
       "      <th>0</th>\n",
       "      <th>1</th>\n",
       "    </tr>\n",
       "    <tr>\n",
       "      <th>target</th>\n",
       "      <th></th>\n",
       "      <th></th>\n",
       "    </tr>\n",
       "  </thead>\n",
       "  <tbody>\n",
       "    <tr>\n",
       "      <th>0</th>\n",
       "      <td>24</td>\n",
       "      <td>114</td>\n",
       "    </tr>\n",
       "    <tr>\n",
       "      <th>1</th>\n",
       "      <td>72</td>\n",
       "      <td>93</td>\n",
       "    </tr>\n",
       "  </tbody>\n",
       "</table>\n",
       "</div>"
      ],
      "text/plain": [
       "gender   0    1\n",
       "target         \n",
       "0       24  114\n",
       "1       72   93"
      ]
     },
     "execution_count": 27,
     "metadata": {},
     "output_type": "execute_result"
    }
   ],
   "source": [
    "cross1=pd.crosstab(index=df['target'],columns=df['gender'])\n",
    "cross1"
   ]
  },
  {
   "cell_type": "code",
   "execution_count": 28,
   "id": "b72ef118",
   "metadata": {},
   "outputs": [
    {
     "name": "stdout",
     "output_type": "stream",
     "text": [
      "1.8767776216941532e-06\n"
     ]
    }
   ],
   "source": [
    "from scipy.stats import chi2_contingency\n",
    "result=chi2_contingency(cross1)\n",
    "print(result[1])\n"
   ]
  },
  {
   "cell_type": "code",
   "execution_count": 29,
   "id": "24a9f438",
   "metadata": {},
   "outputs": [
    {
     "data": {
      "image/png": "[encoded data removed]",
      "text/plain": [
       "<Figure size 432x288 with 1 Axes>"
      ]
     },
     "metadata": {
      "needs_background": "light"
     },
     "output_type": "display_data"
    }
   ],
   "source": [
    "sns.barplot(x='gender',y='target',data=df)\n",
    "plt.title('gender vs target')\n",
    "plt.show()"
   ]
  },
  {
   "cell_type": "markdown",
   "id": "248b58fb",
   "metadata": {},
   "source": [
    "After the test, as the 'gender' variable pvalue is more than the level of significance i.e.,(> 0.05), it is not a good predictor"
   ]
  },
  {
   "cell_type": "markdown",
   "id": "ff8ba04a",
   "metadata": {},
   "source": [
    "**Considering rest_ecg**"
   ]
  },
  {
   "cell_type": "code",
   "execution_count": 30,
   "id": "73bbabda",
   "metadata": {},
   "outputs": [
    {
     "data": {
      "text/plain": [
       "1    152\n",
       "0    147\n",
       "2      4\n",
       "Name: rest_ecg, dtype: int64"
      ]
     },
     "execution_count": 30,
     "metadata": {},
     "output_type": "execute_result"
    }
   ],
   "source": [
    "df.rest_ecg.value_counts()"
   ]
  },
  {
   "cell_type": "code",
   "execution_count": 31,
   "id": "38a859c2",
   "metadata": {},
   "outputs": [
    {
     "data": {
      "image/png": "[encoded data removed]",
      "text/plain": [
       "<Figure size 432x288 with 1 Axes>"
      ]
     },
     "metadata": {
      "needs_background": "light"
     },
     "output_type": "display_data"
    }
   ],
   "source": [
    "sns.countplot(x='rest_ecg',data=df)\n",
    "plt.xlabel('Potassium level')\n",
    "plt.show()"
   ]
  },
  {
   "cell_type": "code",
   "execution_count": 32,
   "id": "8c7583e3",
   "metadata": {},
   "outputs": [
    {
     "data": {
      "text/plain": [
       "Ttest_indResult(statistic=-0.39629477489938897, pvalue=0.6920279315601168)"
      ]
     },
     "execution_count": 32,
     "metadata": {},
     "output_type": "execute_result"
    }
   ],
   "source": [
    "ttest_ind(a=df['rest_ecg'],b=df['target'],equal_var=False)"
   ]
  },
  {
   "cell_type": "markdown",
   "id": "7cf95fc4",
   "metadata": {},
   "source": [
    "After the result, the dependent variable 'rest_ecg' is more than the level of significance i.e.,(>0.05), it is not a good predictor"
   ]
  },
  {
   "cell_type": "markdown",
   "id": "38a551c1",
   "metadata": {},
   "source": [
    "**Considering old_peak**"
   ]
  },
  {
   "cell_type": "code",
   "execution_count": 33,
   "id": "18c7a913",
   "metadata": {},
   "outputs": [
    {
     "data": {
      "text/plain": [
       "303"
      ]
     },
     "execution_count": 33,
     "metadata": {},
     "output_type": "execute_result"
    }
   ],
   "source": [
    "df.old_peak.value_counts().sum()"
   ]
  },
  {
   "cell_type": "code",
   "execution_count": 34,
   "id": "b64eb989",
   "metadata": {},
   "outputs": [
    {
     "data": {
      "text/plain": [
       "Ttest_indResult(statistic=6.819096267644434, pvalue=3.295956560728633e-11)"
      ]
     },
     "execution_count": 34,
     "metadata": {},
     "output_type": "execute_result"
    }
   ],
   "source": [
    "ttest_ind(a=df['old_peak'],b=df['target'],equal_var=False)"
   ]
  },
  {
   "cell_type": "markdown",
   "id": "1de22844",
   "metadata": {},
   "source": [
    "After the result, the dependent variable 'old_peak' is less the level of significance i.e.,(<0.05), it is a good predictor"
   ]
  },
  {
   "cell_type": "code",
   "execution_count": 35,
   "id": "075cc394",
   "metadata": {},
   "outputs": [
    {
     "data": {
      "image/png": "[encoded data removed]",
      "text/plain": [
       "<Figure size 432x288 with 1 Axes>"
      ]
     },
     "metadata": {
      "needs_background": "light"
     },
     "output_type": "display_data"
    }
   ],
   "source": [
    "sns.stripplot(y=df.old_peak,color='green')\n",
    "plt.title('Distribution of old_peak')\n",
    "plt.show()\n"
   ]
  },
  {
   "cell_type": "markdown",
   "id": "a55568ae",
   "metadata": {},
   "source": [
    "**Considering slope**"
   ]
  },
  {
   "cell_type": "code",
   "execution_count": 36,
   "id": "d7ab5585",
   "metadata": {},
   "outputs": [
    {
     "data": {
      "text/plain": [
       "2    142\n",
       "1    140\n",
       "0     21\n",
       "Name: slope, dtype: int64"
      ]
     },
     "execution_count": 36,
     "metadata": {},
     "output_type": "execute_result"
    }
   ],
   "source": [
    "df.slope.value_counts()"
   ]
  },
  {
   "cell_type": "code",
   "execution_count": 37,
   "id": "9f8b3591",
   "metadata": {},
   "outputs": [
    {
     "data": {
      "text/plain": [
       "Ttest_indResult(statistic=18.767280595770796, pvalue=9.740613612317738e-62)"
      ]
     },
     "execution_count": 37,
     "metadata": {},
     "output_type": "execute_result"
    }
   ],
   "source": [
    "ttest_ind(a=df['slope'],b=df['target'],equal_var=False)"
   ]
  },
  {
   "cell_type": "markdown",
   "id": "a0225a71",
   "metadata": {},
   "source": [
    "After the result, the dependent variable 'slope' is less the level of significance i.e.,(<0.05), it is a good predictor"
   ]
  },
  {
   "cell_type": "code",
   "execution_count": 38,
   "id": "2bcbafac",
   "metadata": {},
   "outputs": [
    {
     "data": {
      "image/png": "[encoded data removed]",
      "text/plain": [
       "<Figure size 432x288 with 1 Axes>"
      ]
     },
     "metadata": {
      "needs_background": "light"
     },
     "output_type": "display_data"
    }
   ],
   "source": [
    "sns.barplot(x='slope',y='target',data=df)\n",
    "plt.title(' Slope vs Target')\n",
    "plt.show()"
   ]
  },
  {
   "cell_type": "markdown",
   "id": "199a0172",
   "metadata": {},
   "source": [
    "**Considering exer_angina**"
   ]
  },
  {
   "cell_type": "code",
   "execution_count": 39,
   "id": "0cd8bd11",
   "metadata": {},
   "outputs": [
    {
     "data": {
      "text/plain": [
       "0    204\n",
       "1     99\n",
       "Name: exer_angina, dtype: int64"
      ]
     },
     "execution_count": 39,
     "metadata": {},
     "output_type": "execute_result"
    }
   ],
   "source": [
    "df.exer_angina.value_counts()"
   ]
  },
  {
   "cell_type": "code",
   "execution_count": 40,
   "id": "5236a4f7",
   "metadata": {},
   "outputs": [
    {
     "data": {
      "text/html": [
       "<div>\n",
       "<style scoped>\n",
       "    .dataframe tbody tr th:only-of-type {\n",
       "        vertical-align: middle;\n",
       "    }\n",
       "\n",
       "    .dataframe tbody tr th {\n",
       "        vertical-align: top;\n",
       "    }\n",
       "\n",
       "    .dataframe thead th {\n",
       "        text-align: right;\n",
       "    }\n",
       "</style>\n",
       "<table border=\"1\" class=\"dataframe\">\n",
       "  <thead>\n",
       "    <tr style=\"text-align: right;\">\n",
       "      <th>exer_angina</th>\n",
       "      <th>0</th>\n",
       "      <th>1</th>\n",
       "    </tr>\n",
       "    <tr>\n",
       "      <th>target</th>\n",
       "      <th></th>\n",
       "      <th></th>\n",
       "    </tr>\n",
       "  </thead>\n",
       "  <tbody>\n",
       "    <tr>\n",
       "      <th>0</th>\n",
       "      <td>62</td>\n",
       "      <td>76</td>\n",
       "    </tr>\n",
       "    <tr>\n",
       "      <th>1</th>\n",
       "      <td>142</td>\n",
       "      <td>23</td>\n",
       "    </tr>\n",
       "  </tbody>\n",
       "</table>\n",
       "</div>"
      ],
      "text/plain": [
       "exer_angina    0   1\n",
       "target              \n",
       "0             62  76\n",
       "1            142  23"
      ]
     },
     "execution_count": 40,
     "metadata": {},
     "output_type": "execute_result"
    }
   ],
   "source": [
    "cross2=pd.crosstab(index=df['target'],columns=df['exer_angina'])\n",
    "cross2"
   ]
  },
  {
   "cell_type": "code",
   "execution_count": 41,
   "id": "729a92d8",
   "metadata": {},
   "outputs": [
    {
     "name": "stdout",
     "output_type": "stream",
     "text": [
      "7.454409331235655e-14\n"
     ]
    }
   ],
   "source": [
    "result1=chi2_contingency(cross2)\n",
    "print(result1[1])"
   ]
  },
  {
   "cell_type": "code",
   "execution_count": 42,
   "id": "719c407c",
   "metadata": {},
   "outputs": [
    {
     "data": {
      "text/html": [
       "<div>\n",
       "<style scoped>\n",
       "    .dataframe tbody tr th:only-of-type {\n",
       "        vertical-align: middle;\n",
       "    }\n",
       "\n",
       "    .dataframe tbody tr th {\n",
       "        vertical-align: top;\n",
       "    }\n",
       "\n",
       "    .dataframe thead th {\n",
       "        text-align: right;\n",
       "    }\n",
       "</style>\n",
       "<table border=\"1\" class=\"dataframe\">\n",
       "  <thead>\n",
       "    <tr style=\"text-align: right;\">\n",
       "      <th></th>\n",
       "      <th>age</th>\n",
       "      <th>gender</th>\n",
       "      <th>chest_pain</th>\n",
       "      <th>cholestrol</th>\n",
       "      <th>exer_angina</th>\n",
       "      <th>old_peak</th>\n",
       "      <th>slope</th>\n",
       "      <th>target</th>\n",
       "    </tr>\n",
       "  </thead>\n",
       "  <tbody>\n",
       "    <tr>\n",
       "      <th>0</th>\n",
       "      <td>63</td>\n",
       "      <td>1</td>\n",
       "      <td>3</td>\n",
       "      <td>233</td>\n",
       "      <td>0</td>\n",
       "      <td>2.3</td>\n",
       "      <td>0</td>\n",
       "      <td>1</td>\n",
       "    </tr>\n",
       "    <tr>\n",
       "      <th>1</th>\n",
       "      <td>37</td>\n",
       "      <td>1</td>\n",
       "      <td>2</td>\n",
       "      <td>250</td>\n",
       "      <td>0</td>\n",
       "      <td>3.5</td>\n",
       "      <td>0</td>\n",
       "      <td>1</td>\n",
       "    </tr>\n",
       "    <tr>\n",
       "      <th>2</th>\n",
       "      <td>41</td>\n",
       "      <td>0</td>\n",
       "      <td>1</td>\n",
       "      <td>204</td>\n",
       "      <td>0</td>\n",
       "      <td>1.4</td>\n",
       "      <td>2</td>\n",
       "      <td>1</td>\n",
       "    </tr>\n",
       "    <tr>\n",
       "      <th>3</th>\n",
       "      <td>56</td>\n",
       "      <td>1</td>\n",
       "      <td>1</td>\n",
       "      <td>236</td>\n",
       "      <td>0</td>\n",
       "      <td>0.8</td>\n",
       "      <td>2</td>\n",
       "      <td>1</td>\n",
       "    </tr>\n",
       "    <tr>\n",
       "      <th>4</th>\n",
       "      <td>57</td>\n",
       "      <td>0</td>\n",
       "      <td>0</td>\n",
       "      <td>354</td>\n",
       "      <td>1</td>\n",
       "      <td>0.6</td>\n",
       "      <td>2</td>\n",
       "      <td>1</td>\n",
       "    </tr>\n",
       "    <tr>\n",
       "      <th>...</th>\n",
       "      <td>...</td>\n",
       "      <td>...</td>\n",
       "      <td>...</td>\n",
       "      <td>...</td>\n",
       "      <td>...</td>\n",
       "      <td>...</td>\n",
       "      <td>...</td>\n",
       "      <td>...</td>\n",
       "    </tr>\n",
       "    <tr>\n",
       "      <th>298</th>\n",
       "      <td>57</td>\n",
       "      <td>0</td>\n",
       "      <td>0</td>\n",
       "      <td>241</td>\n",
       "      <td>1</td>\n",
       "      <td>0.2</td>\n",
       "      <td>1</td>\n",
       "      <td>0</td>\n",
       "    </tr>\n",
       "    <tr>\n",
       "      <th>299</th>\n",
       "      <td>45</td>\n",
       "      <td>1</td>\n",
       "      <td>3</td>\n",
       "      <td>264</td>\n",
       "      <td>0</td>\n",
       "      <td>1.2</td>\n",
       "      <td>1</td>\n",
       "      <td>0</td>\n",
       "    </tr>\n",
       "    <tr>\n",
       "      <th>300</th>\n",
       "      <td>68</td>\n",
       "      <td>1</td>\n",
       "      <td>0</td>\n",
       "      <td>193</td>\n",
       "      <td>0</td>\n",
       "      <td>3.4</td>\n",
       "      <td>1</td>\n",
       "      <td>0</td>\n",
       "    </tr>\n",
       "    <tr>\n",
       "      <th>301</th>\n",
       "      <td>57</td>\n",
       "      <td>1</td>\n",
       "      <td>0</td>\n",
       "      <td>131</td>\n",
       "      <td>1</td>\n",
       "      <td>1.2</td>\n",
       "      <td>1</td>\n",
       "      <td>0</td>\n",
       "    </tr>\n",
       "    <tr>\n",
       "      <th>302</th>\n",
       "      <td>57</td>\n",
       "      <td>0</td>\n",
       "      <td>1</td>\n",
       "      <td>236</td>\n",
       "      <td>0</td>\n",
       "      <td>0.0</td>\n",
       "      <td>1</td>\n",
       "      <td>0</td>\n",
       "    </tr>\n",
       "  </tbody>\n",
       "</table>\n",
       "<p>303 rows × 8 columns</p>\n",
       "</div>"
      ],
      "text/plain": [
       "     age  gender  chest_pain  cholestrol  exer_angina  old_peak  slope  target\n",
       "0     63       1           3         233            0       2.3      0       1\n",
       "1     37       1           2         250            0       3.5      0       1\n",
       "2     41       0           1         204            0       1.4      2       1\n",
       "3     56       1           1         236            0       0.8      2       1\n",
       "4     57       0           0         354            1       0.6      2       1\n",
       "..   ...     ...         ...         ...          ...       ...    ...     ...\n",
       "298   57       0           0         241            1       0.2      1       0\n",
       "299   45       1           3         264            0       1.2      1       0\n",
       "300   68       1           0         193            0       3.4      1       0\n",
       "301   57       1           0         131            1       1.2      1       0\n",
       "302   57       0           1         236            0       0.0      1       0\n",
       "\n",
       "[303 rows x 8 columns]"
      ]
     },
     "execution_count": 42,
     "metadata": {},
     "output_type": "execute_result"
    }
   ],
   "source": [
    "new_df=df[['age','gender','chest_pain','cholestrol','exer_angina','old_peak','slope','target']]\n",
    "new_df"
   ]
  },
  {
   "cell_type": "code",
   "execution_count": 43,
   "id": "2a28870b",
   "metadata": {},
   "outputs": [
    {
     "name": "stdout",
     "output_type": "stream",
     "text": [
      "                 Generalized Linear Model Regression Results                  \n",
      "==============================================================================\n",
      "Dep. Variable:                 target   No. Observations:                  303\n",
      "Model:                            GLM   Df Residuals:                      295\n",
      "Model Family:                Binomial   Df Model:                            7\n",
      "Link Function:                  logit   Scale:                          1.0000\n",
      "Method:                          IRLS   Log-Likelihood:                -125.91\n",
      "Date:                Sun, 08 Aug 2021   Deviance:                       251.82\n",
      "Time:                        11:52:13   Pearson chi2:                     278.\n",
      "No. Iterations:                     6                                         \n",
      "Covariance Type:            nonrobust                                         \n",
      "===============================================================================\n",
      "                  coef    std err          z      P>|z|      [0.025      0.975]\n",
      "-------------------------------------------------------------------------------\n",
      "Intercept       4.7848      1.474      3.245      0.001       1.895       7.674\n",
      "age            -0.0514      0.019     -2.716      0.007      -0.088      -0.014\n",
      "gender         -1.8980      0.400     -4.749      0.000      -2.681      -1.115\n",
      "chest_pain      0.9155      0.169      5.431      0.000       0.585       1.246\n",
      "cholestrol     -0.0041      0.003     -1.277      0.201      -0.010       0.002\n",
      "exer_angina    -1.1009      0.356     -3.089      0.002      -1.799      -0.402\n",
      "old_peak       -0.6876      0.187     -3.668      0.000      -1.055      -0.320\n",
      "slope           0.5354      0.309      1.735      0.083      -0.069       1.140\n",
      "===============================================================================\n"
     ]
    }
   ],
   "source": [
    "import statsmodels.formula.api as smf\n",
    "import statsmodels.api as sm\n",
    "mylogit = smf.glm(formula='target~age+gender+chest_pain+cholestrol+exer_angina+old_peak+slope', data=new_df, family=sm.families.Binomial())\n",
    "res = mylogit.fit()\n",
    "print(res.summary())"
   ]
  },
  {
   "cell_type": "code",
   "execution_count": 44,
   "id": "289c3ead",
   "metadata": {},
   "outputs": [
    {
     "data": {
      "text/html": [
       "<div>\n",
       "<style scoped>\n",
       "    .dataframe tbody tr th:only-of-type {\n",
       "        vertical-align: middle;\n",
       "    }\n",
       "\n",
       "    .dataframe tbody tr th {\n",
       "        vertical-align: top;\n",
       "    }\n",
       "\n",
       "    .dataframe thead th {\n",
       "        text-align: right;\n",
       "    }\n",
       "</style>\n",
       "<table border=\"1\" class=\"dataframe\">\n",
       "  <thead>\n",
       "    <tr style=\"text-align: right;\">\n",
       "      <th></th>\n",
       "      <th>age</th>\n",
       "      <th>gender</th>\n",
       "      <th>chest_pain</th>\n",
       "      <th>cholestrol</th>\n",
       "      <th>exer_angina</th>\n",
       "      <th>old_peak</th>\n",
       "      <th>slope</th>\n",
       "    </tr>\n",
       "  </thead>\n",
       "  <tbody>\n",
       "    <tr>\n",
       "      <th>0</th>\n",
       "      <td>63</td>\n",
       "      <td>1</td>\n",
       "      <td>3</td>\n",
       "      <td>233</td>\n",
       "      <td>0</td>\n",
       "      <td>2.3</td>\n",
       "      <td>0</td>\n",
       "    </tr>\n",
       "    <tr>\n",
       "      <th>1</th>\n",
       "      <td>37</td>\n",
       "      <td>1</td>\n",
       "      <td>2</td>\n",
       "      <td>250</td>\n",
       "      <td>0</td>\n",
       "      <td>3.5</td>\n",
       "      <td>0</td>\n",
       "    </tr>\n",
       "    <tr>\n",
       "      <th>2</th>\n",
       "      <td>41</td>\n",
       "      <td>0</td>\n",
       "      <td>1</td>\n",
       "      <td>204</td>\n",
       "      <td>0</td>\n",
       "      <td>1.4</td>\n",
       "      <td>2</td>\n",
       "    </tr>\n",
       "    <tr>\n",
       "      <th>3</th>\n",
       "      <td>56</td>\n",
       "      <td>1</td>\n",
       "      <td>1</td>\n",
       "      <td>236</td>\n",
       "      <td>0</td>\n",
       "      <td>0.8</td>\n",
       "      <td>2</td>\n",
       "    </tr>\n",
       "    <tr>\n",
       "      <th>4</th>\n",
       "      <td>57</td>\n",
       "      <td>0</td>\n",
       "      <td>0</td>\n",
       "      <td>354</td>\n",
       "      <td>1</td>\n",
       "      <td>0.6</td>\n",
       "      <td>2</td>\n",
       "    </tr>\n",
       "    <tr>\n",
       "      <th>...</th>\n",
       "      <td>...</td>\n",
       "      <td>...</td>\n",
       "      <td>...</td>\n",
       "      <td>...</td>\n",
       "      <td>...</td>\n",
       "      <td>...</td>\n",
       "      <td>...</td>\n",
       "    </tr>\n",
       "    <tr>\n",
       "      <th>298</th>\n",
       "      <td>57</td>\n",
       "      <td>0</td>\n",
       "      <td>0</td>\n",
       "      <td>241</td>\n",
       "      <td>1</td>\n",
       "      <td>0.2</td>\n",
       "      <td>1</td>\n",
       "    </tr>\n",
       "    <tr>\n",
       "      <th>299</th>\n",
       "      <td>45</td>\n",
       "      <td>1</td>\n",
       "      <td>3</td>\n",
       "      <td>264</td>\n",
       "      <td>0</td>\n",
       "      <td>1.2</td>\n",
       "      <td>1</td>\n",
       "    </tr>\n",
       "    <tr>\n",
       "      <th>300</th>\n",
       "      <td>68</td>\n",
       "      <td>1</td>\n",
       "      <td>0</td>\n",
       "      <td>193</td>\n",
       "      <td>0</td>\n",
       "      <td>3.4</td>\n",
       "      <td>1</td>\n",
       "    </tr>\n",
       "    <tr>\n",
       "      <th>301</th>\n",
       "      <td>57</td>\n",
       "      <td>1</td>\n",
       "      <td>0</td>\n",
       "      <td>131</td>\n",
       "      <td>1</td>\n",
       "      <td>1.2</td>\n",
       "      <td>1</td>\n",
       "    </tr>\n",
       "    <tr>\n",
       "      <th>302</th>\n",
       "      <td>57</td>\n",
       "      <td>0</td>\n",
       "      <td>1</td>\n",
       "      <td>236</td>\n",
       "      <td>0</td>\n",
       "      <td>0.0</td>\n",
       "      <td>1</td>\n",
       "    </tr>\n",
       "  </tbody>\n",
       "</table>\n",
       "<p>303 rows × 7 columns</p>\n",
       "</div>"
      ],
      "text/plain": [
       "     age  gender  chest_pain  cholestrol  exer_angina  old_peak  slope\n",
       "0     63       1           3         233            0       2.3      0\n",
       "1     37       1           2         250            0       3.5      0\n",
       "2     41       0           1         204            0       1.4      2\n",
       "3     56       1           1         236            0       0.8      2\n",
       "4     57       0           0         354            1       0.6      2\n",
       "..   ...     ...         ...         ...          ...       ...    ...\n",
       "298   57       0           0         241            1       0.2      1\n",
       "299   45       1           3         264            0       1.2      1\n",
       "300   68       1           0         193            0       3.4      1\n",
       "301   57       1           0         131            1       1.2      1\n",
       "302   57       0           1         236            0       0.0      1\n",
       "\n",
       "[303 rows x 7 columns]"
      ]
     },
     "execution_count": 44,
     "metadata": {},
     "output_type": "execute_result"
    }
   ],
   "source": [
    "X=new_df.drop(['target'],axis=1)\n",
    "X"
   ]
  },
  {
   "cell_type": "code",
   "execution_count": 45,
   "id": "d7c9eb75",
   "metadata": {},
   "outputs": [],
   "source": [
    "Y=new_df['target']\n"
   ]
  },
  {
   "cell_type": "markdown",
   "id": "9183558a",
   "metadata": {},
   "source": [
    "**Train and Test Data**"
   ]
  },
  {
   "cell_type": "code",
   "execution_count": 46,
   "id": "183f6781",
   "metadata": {},
   "outputs": [],
   "source": [
    "x_train,x_test,y_train,y_test=train_test_split(X,Y,test_size=0.4)"
   ]
  },
  {
   "cell_type": "markdown",
   "id": "bf17a99f",
   "metadata": {},
   "source": [
    "**Train set**"
   ]
  },
  {
   "cell_type": "code",
   "execution_count": 47,
   "id": "4779fc84",
   "metadata": {},
   "outputs": [
    {
     "data": {
      "text/plain": [
       "1    98\n",
       "0    83\n",
       "Name: target, dtype: int64"
      ]
     },
     "execution_count": 47,
     "metadata": {},
     "output_type": "execute_result"
    }
   ],
   "source": [
    "trn=y_train.value_counts()\n",
    "trn"
   ]
  },
  {
   "cell_type": "code",
   "execution_count": 48,
   "id": "899b0ed3",
   "metadata": {},
   "outputs": [
    {
     "data": {
      "image/png": "[encoded data removed]",
      "text/plain": [
       "<Figure size 432x288 with 1 Axes>"
      ]
     },
     "metadata": {
      "needs_background": "light"
     },
     "output_type": "display_data"
    }
   ],
   "source": [
    "trn.plot.bar(color=('g','r'),alpha=0.9)\n",
    "plt.title('Bar plot of y train')\n",
    "plt.ylabel('counts')\n",
    "plt.show()"
   ]
  },
  {
   "cell_type": "markdown",
   "id": "d0ee5cd3",
   "metadata": {},
   "source": [
    "**Test set**"
   ]
  },
  {
   "cell_type": "code",
   "execution_count": 49,
   "id": "6a0940e0",
   "metadata": {},
   "outputs": [
    {
     "data": {
      "text/plain": [
       "1    67\n",
       "0    55\n",
       "Name: target, dtype: int64"
      ]
     },
     "execution_count": 49,
     "metadata": {},
     "output_type": "execute_result"
    }
   ],
   "source": [
    "tst=y_test.value_counts()\n",
    "tst"
   ]
  },
  {
   "cell_type": "code",
   "execution_count": 50,
   "id": "e9d4ffbe",
   "metadata": {},
   "outputs": [
    {
     "data": {
      "image/png": "[encoded data removed]",
      "text/plain": [
       "<Figure size 432x288 with 1 Axes>"
      ]
     },
     "metadata": {
      "needs_background": "light"
     },
     "output_type": "display_data"
    }
   ],
   "source": [
    "tst.plot.bar(color=('g','r'),alpha=0.9)\n",
    "plt.title('Bar plot of y test')\n",
    "plt.ylabel('counts')\n",
    "plt.show()"
   ]
  },
  {
   "cell_type": "markdown",
   "id": "59d3f8ea",
   "metadata": {},
   "source": [
    "**MODEL BUILDING**"
   ]
  },
  {
   "cell_type": "code",
   "execution_count": 51,
   "id": "a41ecc17",
   "metadata": {},
   "outputs": [],
   "source": [
    "from sklearn import tree\n"
   ]
  },
  {
   "cell_type": "code",
   "execution_count": 52,
   "id": "a44948a8",
   "metadata": {},
   "outputs": [
    {
     "name": "stdout",
     "output_type": "stream",
     "text": [
      "DecisionTreeClassifier()\n"
     ]
    }
   ],
   "source": [
    "clf=tree.DecisionTreeClassifier()\n",
    "clfFit=clf.fit(x_train,y_train)\n",
    "print(clfFit)"
   ]
  },
  {
   "cell_type": "markdown",
   "id": "b2490dc5",
   "metadata": {},
   "source": [
    "**Plot Tree**"
   ]
  },
  {
   "cell_type": "code",
   "execution_count": 53,
   "id": "62dc3f4d",
   "metadata": {},
   "outputs": [
    {
     "data": {
      "text/plain": [
       "[Text(182.51250000000002, 209.07692307692307, 'X[2] <= 0.5\\ngini = 0.497\\nsamples = 181\\nvalue = [83, 98]'),\n",
       " Text(109.275, 192.35076923076923, 'X[5] <= 0.7\\ngini = 0.41\\nsamples = 87\\nvalue = [62, 25]'),\n",
       " Text(69.75, 175.62461538461537, 'X[4] <= 0.5\\ngini = 0.486\\nsamples = 36\\nvalue = [15, 21]'),\n",
       " Text(37.2, 158.89846153846153, 'X[0] <= 41.5\\ngini = 0.351\\nsamples = 22\\nvalue = [5, 17]'),\n",
       " Text(27.900000000000002, 142.1723076923077, 'gini = 0.0\\nsamples = 2\\nvalue = [2, 0]'),\n",
       " Text(46.5, 142.1723076923077, 'X[3] <= 316.5\\ngini = 0.255\\nsamples = 20\\nvalue = [3, 17]'),\n",
       " Text(37.2, 125.44615384615385, 'X[3] <= 200.5\\ngini = 0.188\\nsamples = 19\\nvalue = [2, 17]'),\n",
       " Text(18.6, 108.72, 'X[0] <= 50.5\\ngini = 0.5\\nsamples = 2\\nvalue = [1, 1]'),\n",
       " Text(9.3, 91.99384615384615, 'gini = 0.0\\nsamples = 1\\nvalue = [1, 0]'),\n",
       " Text(27.900000000000002, 91.99384615384615, 'gini = 0.0\\nsamples = 1\\nvalue = [0, 1]'),\n",
       " Text(55.800000000000004, 108.72, 'X[0] <= 66.5\\ngini = 0.111\\nsamples = 17\\nvalue = [1, 16]'),\n",
       " Text(46.5, 91.99384615384615, 'gini = 0.0\\nsamples = 15\\nvalue = [0, 15]'),\n",
       " Text(65.10000000000001, 91.99384615384615, 'X[5] <= 0.25\\ngini = 0.5\\nsamples = 2\\nvalue = [1, 1]'),\n",
       " Text(55.800000000000004, 75.2676923076923, 'gini = 0.0\\nsamples = 1\\nvalue = [1, 0]'),\n",
       " Text(74.4, 75.2676923076923, 'gini = 0.0\\nsamples = 1\\nvalue = [0, 1]'),\n",
       " Text(55.800000000000004, 125.44615384615385, 'gini = 0.0\\nsamples = 1\\nvalue = [1, 0]'),\n",
       " Text(102.30000000000001, 158.89846153846153, 'X[3] <= 317.0\\ngini = 0.408\\nsamples = 14\\nvalue = [10, 4]'),\n",
       " Text(93.0, 142.1723076923077, 'X[3] <= 238.5\\ngini = 0.278\\nsamples = 12\\nvalue = [10, 2]'),\n",
       " Text(83.7, 125.44615384615385, 'X[0] <= 53.5\\ngini = 0.444\\nsamples = 6\\nvalue = [4, 2]'),\n",
       " Text(74.4, 108.72, 'gini = 0.0\\nsamples = 2\\nvalue = [0, 2]'),\n",
       " Text(93.0, 108.72, 'gini = 0.0\\nsamples = 4\\nvalue = [4, 0]'),\n",
       " Text(102.30000000000001, 125.44615384615385, 'gini = 0.0\\nsamples = 6\\nvalue = [6, 0]'),\n",
       " Text(111.60000000000001, 142.1723076923077, 'gini = 0.0\\nsamples = 2\\nvalue = [0, 2]'),\n",
       " Text(148.8, 175.62461538461537, 'X[3] <= 248.5\\ngini = 0.145\\nsamples = 51\\nvalue = [47, 4]'),\n",
       " Text(139.5, 158.89846153846153, 'X[3] <= 245.5\\ngini = 0.287\\nsamples = 23\\nvalue = [19, 4]'),\n",
       " Text(130.20000000000002, 142.1723076923077, 'X[5] <= 1.45\\ngini = 0.172\\nsamples = 21\\nvalue = [19, 2]'),\n",
       " Text(120.9, 125.44615384615385, 'gini = 0.0\\nsamples = 10\\nvalue = [10, 0]'),\n",
       " Text(139.5, 125.44615384615385, 'X[3] <= 223.0\\ngini = 0.298\\nsamples = 11\\nvalue = [9, 2]'),\n",
       " Text(130.20000000000002, 108.72, 'X[5] <= 1.55\\ngini = 0.18\\nsamples = 10\\nvalue = [9, 1]'),\n",
       " Text(120.9, 91.99384615384615, 'gini = 0.0\\nsamples = 1\\nvalue = [0, 1]'),\n",
       " Text(139.5, 91.99384615384615, 'gini = 0.0\\nsamples = 9\\nvalue = [9, 0]'),\n",
       " Text(148.8, 108.72, 'gini = 0.0\\nsamples = 1\\nvalue = [0, 1]'),\n",
       " Text(148.8, 142.1723076923077, 'gini = 0.0\\nsamples = 2\\nvalue = [0, 2]'),\n",
       " Text(158.10000000000002, 158.89846153846153, 'gini = 0.0\\nsamples = 28\\nvalue = [28, 0]'),\n",
       " Text(255.75000000000003, 192.35076923076923, 'X[5] <= 1.95\\ngini = 0.347\\nsamples = 94\\nvalue = [21, 73]'),\n",
       " Text(213.9, 175.62461538461537, 'X[0] <= 56.5\\ngini = 0.291\\nsamples = 85\\nvalue = [15, 70]'),\n",
       " Text(176.70000000000002, 158.89846153846153, 'X[3] <= 232.5\\ngini = 0.14\\nsamples = 53\\nvalue = [4, 49]'),\n",
       " Text(167.4, 142.1723076923077, 'gini = 0.0\\nsamples = 27\\nvalue = [0, 27]'),\n",
       " Text(186.0, 142.1723076923077, 'X[3] <= 233.5\\ngini = 0.26\\nsamples = 26\\nvalue = [4, 22]'),\n",
       " Text(176.70000000000002, 125.44615384615385, 'gini = 0.0\\nsamples = 1\\nvalue = [1, 0]'),\n",
       " Text(195.3, 125.44615384615385, 'X[1] <= 0.5\\ngini = 0.211\\nsamples = 25\\nvalue = [3, 22]'),\n",
       " Text(186.0, 108.72, 'gini = 0.0\\nsamples = 9\\nvalue = [0, 9]'),\n",
       " Text(204.60000000000002, 108.72, 'X[4] <= 0.5\\ngini = 0.305\\nsamples = 16\\nvalue = [3, 13]'),\n",
       " Text(195.3, 91.99384615384615, 'X[5] <= 0.1\\ngini = 0.231\\nsamples = 15\\nvalue = [2, 13]'),\n",
       " Text(186.0, 75.2676923076923, 'X[3] <= 289.0\\ngini = 0.346\\nsamples = 9\\nvalue = [2, 7]'),\n",
       " Text(176.70000000000002, 58.541538461538465, 'X[3] <= 269.0\\ngini = 0.444\\nsamples = 6\\nvalue = [2, 4]'),\n",
       " Text(167.4, 41.81538461538463, 'X[3] <= 244.5\\ngini = 0.32\\nsamples = 5\\nvalue = [1, 4]'),\n",
       " Text(158.10000000000002, 25.089230769230767, 'X[3] <= 241.5\\ngini = 0.5\\nsamples = 2\\nvalue = [1, 1]'),\n",
       " Text(148.8, 8.363076923076932, 'gini = 0.0\\nsamples = 1\\nvalue = [0, 1]'),\n",
       " Text(167.4, 8.363076923076932, 'gini = 0.0\\nsamples = 1\\nvalue = [1, 0]'),\n",
       " Text(176.70000000000002, 25.089230769230767, 'gini = 0.0\\nsamples = 3\\nvalue = [0, 3]'),\n",
       " Text(186.0, 41.81538461538463, 'gini = 0.0\\nsamples = 1\\nvalue = [1, 0]'),\n",
       " Text(195.3, 58.541538461538465, 'gini = 0.0\\nsamples = 3\\nvalue = [0, 3]'),\n",
       " Text(204.60000000000002, 75.2676923076923, 'gini = 0.0\\nsamples = 6\\nvalue = [0, 6]'),\n",
       " Text(213.9, 91.99384615384615, 'gini = 0.0\\nsamples = 1\\nvalue = [1, 0]'),\n",
       " Text(251.10000000000002, 158.89846153846153, 'X[0] <= 57.5\\ngini = 0.451\\nsamples = 32\\nvalue = [11, 21]'),\n",
       " Text(241.8, 142.1723076923077, 'gini = 0.0\\nsamples = 3\\nvalue = [3, 0]'),\n",
       " Text(260.40000000000003, 142.1723076923077, 'X[3] <= 271.0\\ngini = 0.4\\nsamples = 29\\nvalue = [8, 21]'),\n",
       " Text(232.50000000000003, 125.44615384615385, 'X[0] <= 66.0\\ngini = 0.111\\nsamples = 17\\nvalue = [1, 16]'),\n",
       " Text(223.20000000000002, 108.72, 'gini = 0.0\\nsamples = 12\\nvalue = [0, 12]'),\n",
       " Text(241.8, 108.72, 'X[0] <= 68.0\\ngini = 0.32\\nsamples = 5\\nvalue = [1, 4]'),\n",
       " Text(232.50000000000003, 91.99384615384615, 'gini = 0.0\\nsamples = 1\\nvalue = [1, 0]'),\n",
       " Text(251.10000000000002, 91.99384615384615, 'gini = 0.0\\nsamples = 4\\nvalue = [0, 4]'),\n",
       " Text(288.3, 125.44615384615385, 'X[1] <= 0.5\\ngini = 0.486\\nsamples = 12\\nvalue = [7, 5]'),\n",
       " Text(279.0, 108.72, 'X[2] <= 1.5\\ngini = 0.278\\nsamples = 6\\nvalue = [1, 5]'),\n",
       " Text(269.70000000000005, 91.99384615384615, 'gini = 0.0\\nsamples = 1\\nvalue = [1, 0]'),\n",
       " Text(288.3, 91.99384615384615, 'gini = 0.0\\nsamples = 5\\nvalue = [0, 5]'),\n",
       " Text(297.6, 108.72, 'gini = 0.0\\nsamples = 6\\nvalue = [6, 0]'),\n",
       " Text(297.6, 175.62461538461537, 'X[6] <= 0.5\\ngini = 0.444\\nsamples = 9\\nvalue = [6, 3]'),\n",
       " Text(288.3, 158.89846153846153, 'gini = 0.0\\nsamples = 2\\nvalue = [0, 2]'),\n",
       " Text(306.90000000000003, 158.89846153846153, 'X[3] <= 238.0\\ngini = 0.245\\nsamples = 7\\nvalue = [6, 1]'),\n",
       " Text(297.6, 142.1723076923077, 'gini = 0.0\\nsamples = 5\\nvalue = [5, 0]'),\n",
       " Text(316.20000000000005, 142.1723076923077, 'X[3] <= 249.5\\ngini = 0.5\\nsamples = 2\\nvalue = [1, 1]'),\n",
       " Text(306.90000000000003, 125.44615384615385, 'gini = 0.0\\nsamples = 1\\nvalue = [0, 1]'),\n",
       " Text(325.5, 125.44615384615385, 'gini = 0.0\\nsamples = 1\\nvalue = [1, 0]')]"
      ]
     },
     "execution_count": 53,
     "metadata": {},
     "output_type": "execute_result"
    },
    {
     "data": {
      "image/png": "[encoded data removed]",
      "text/plain": [
       "<Figure size 432x288 with 1 Axes>"
      ]
     },
     "metadata": {
      "needs_background": "light"
     },
     "output_type": "display_data"
    }
   ],
   "source": [
    "tree.plot_tree(clfFit)"
   ]
  },
  {
   "cell_type": "code",
   "execution_count": 58,
   "id": "082cd812",
   "metadata": {},
   "outputs": [
    {
     "name": "stdout",
     "output_type": "stream",
     "text": [
      "Collecting package metadata (current_repodata.json): ...working... done\n",
      "Solving environment: ...working... done\n",
      "\n",
      "## Package Plan ##\n",
      "\n",
      "  environment location: D:\\anaconda\n",
      "\n",
      "  added / updated specs:\n",
      "    - graphviz\n",
      "\n",
      "\n",
      "The following packages will be downloaded:\n",
      "Note: you may need to restart the kernel to use updated packages.\n",
      "\n",
      "\n",
      "    package                    |            build\n",
      "    ---------------------------|-----------------\n",
      "    conda-4.10.3               |   py38h9f7ea03_0         2.9 MB\n",
      "    graphviz-2.38              |       hfa6e2cd_3        29.1 MB\n",
      "    ------------------------------------------------------------\n",
      "                                           Total:        32.0 MB\n",
      "\n",
      "The following NEW packages will be INSTALLED:\n",
      "\n",
      "  graphviz           pkgs/main/win-32::graphviz-2.38-hfa6e2cd_3\n",
      "\n",
      "The following packages will be UPDATED:\n",
      "\n",
      "  conda                               4.10.1-py38h9f7ea03_1 --> 4.10.3-py38h9f7ea03_0\n",
      "\n",
      "\n",
      "\n",
      "Downloading and Extracting Packages\n",
      "\n",
      "conda-4.10.3         | 2.9 MB    |            |   0% \n",
      "conda-4.10.3         | 2.9 MB    |            |   1% \n",
      "conda-4.10.3         | 2.9 MB    | 1          |   1% \n",
      "conda-4.10.3         | 2.9 MB    | 1          |   2% \n",
      "conda-4.10.3         | 2.9 MB    | 2          |   2% \n",
      "conda-4.10.3         | 2.9 MB    | 2          |   3% \n",
      "conda-4.10.3         | 2.9 MB    | 3          |   4% \n",
      "conda-4.10.3         | 2.9 MB    | 4          |   4% \n",
      "conda-4.10.3         | 2.9 MB    | 4          |   5% \n",
      "conda-4.10.3         | 2.9 MB    | 5          |   5% \n",
      "conda-4.10.3         | 2.9 MB    | 6          |   7% \n",
      "conda-4.10.3         | 2.9 MB    | 7          |   8% \n",
      "conda-4.10.3         | 2.9 MB    | 8          |   9% \n",
      "conda-4.10.3         | 2.9 MB    | 9          |  10% \n",
      "conda-4.10.3         | 2.9 MB    | #          |  11% \n",
      "conda-4.10.3         | 2.9 MB    | #1         |  12% \n",
      "conda-4.10.3         | 2.9 MB    | #3         |  13% \n",
      "conda-4.10.3         | 2.9 MB    | #3         |  14% \n",
      "conda-4.10.3         | 2.9 MB    | #4         |  14% \n",
      "conda-4.10.3         | 2.9 MB    | #4         |  15% \n",
      "conda-4.10.3         | 2.9 MB    | #5         |  16% \n",
      "conda-4.10.3         | 2.9 MB    | #6         |  16% \n",
      "conda-4.10.3         | 2.9 MB    | #6         |  17% \n",
      "conda-4.10.3         | 2.9 MB    | #7         |  18% \n",
      "conda-4.10.3         | 2.9 MB    | #8         |  18% \n",
      "conda-4.10.3         | 2.9 MB    | #9         |  20% \n",
      "conda-4.10.3         | 2.9 MB    | ##         |  21% \n",
      "conda-4.10.3         | 2.9 MB    | ##1        |  22% \n",
      "conda-4.10.3         | 2.9 MB    | ##2        |  23% \n",
      "conda-4.10.3         | 2.9 MB    | ##3        |  24% \n",
      "conda-4.10.3         | 2.9 MB    | ##4        |  25% \n",
      "conda-4.10.3         | 2.9 MB    | ##6        |  26% \n",
      "conda-4.10.3         | 2.9 MB    | ##7        |  27% \n",
      "conda-4.10.3         | 2.9 MB    | ##7        |  28% \n",
      "conda-4.10.3         | 2.9 MB    | ##8        |  29% \n",
      "conda-4.10.3         | 2.9 MB    | ##9        |  29% \n",
      "conda-4.10.3         | 2.9 MB    | ###        |  30% \n",
      "conda-4.10.3         | 2.9 MB    | ###        |  31% \n",
      "conda-4.10.3         | 2.9 MB    | ###2       |  32% \n",
      "conda-4.10.3         | 2.9 MB    | ###3       |  33% \n",
      "conda-4.10.3         | 2.9 MB    | ###3       |  34% \n",
      "conda-4.10.3         | 2.9 MB    | ###4       |  35% \n",
      "conda-4.10.3         | 2.9 MB    | ###5       |  36% \n",
      "conda-4.10.3         | 2.9 MB    | ###6       |  36% \n",
      "conda-4.10.3         | 2.9 MB    | ###7       |  37% \n",
      "conda-4.10.3         | 2.9 MB    | ###8       |  38% \n",
      "conda-4.10.3         | 2.9 MB    | ###9       |  39% \n",
      "conda-4.10.3         | 2.9 MB    | ####       |  40% \n",
      "conda-4.10.3         | 2.9 MB    | ####1      |  41% \n",
      "conda-4.10.3         | 2.9 MB    | ####1      |  42% \n",
      "conda-4.10.3         | 2.9 MB    | ####2      |  43% \n",
      "conda-4.10.3         | 2.9 MB    | ####4      |  44% \n",
      "conda-4.10.3         | 2.9 MB    | ####5      |  45% \n",
      "conda-4.10.3         | 2.9 MB    | ####6      |  46% \n",
      "conda-4.10.3         | 2.9 MB    | ####6      |  47% \n",
      "conda-4.10.3         | 2.9 MB    | ####7      |  47% \n",
      "conda-4.10.3         | 2.9 MB    | ####7      |  48% \n",
      "conda-4.10.3         | 2.9 MB    | ####8      |  48% \n",
      "conda-4.10.3         | 2.9 MB    | ####9      |  49% \n",
      "conda-4.10.3         | 2.9 MB    | #####      |  51% \n",
      "conda-4.10.3         | 2.9 MB    | #####1     |  52% \n",
      "conda-4.10.3         | 2.9 MB    | #####2     |  53% \n",
      "conda-4.10.3         | 2.9 MB    | #####3     |  54% \n",
      "conda-4.10.3         | 2.9 MB    | #####4     |  55% \n",
      "conda-4.10.3         | 2.9 MB    | #####5     |  56% \n",
      "conda-4.10.3         | 2.9 MB    | #####7     |  57% \n",
      "conda-4.10.3         | 2.9 MB    | #####8     |  58% \n",
      "conda-4.10.3         | 2.9 MB    | #####9     |  59% \n",
      "conda-4.10.3         | 2.9 MB    | ######     |  60% \n",
      "conda-4.10.3         | 2.9 MB    | ######     |  61% \n",
      "conda-4.10.3         | 2.9 MB    | ######1    |  61% \n",
      "conda-4.10.3         | 2.9 MB    | ######1    |  62% \n",
      "conda-4.10.3         | 2.9 MB    | ######2    |  62% \n",
      "conda-4.10.3         | 2.9 MB    | ######3    |  63% \n",
      "conda-4.10.3         | 2.9 MB    | ######3    |  64% \n",
      "conda-4.10.3         | 2.9 MB    | ######4    |  64% \n",
      "conda-4.10.3         | 2.9 MB    | ######5    |  65% \n",
      "conda-4.10.3         | 2.9 MB    | ######5    |  66% \n",
      "conda-4.10.3         | 2.9 MB    | ######6    |  66% \n",
      "conda-4.10.3         | 2.9 MB    | ######6    |  67% \n",
      "conda-4.10.3         | 2.9 MB    | ######7    |  67% \n",
      "conda-4.10.3         | 2.9 MB    | ######7    |  68% \n",
      "conda-4.10.3         | 2.9 MB    | ######8    |  68% \n",
      "conda-4.10.3         | 2.9 MB    | ######9    |  69% \n",
      "conda-4.10.3         | 2.9 MB    | ######9    |  70% \n",
      "conda-4.10.3         | 2.9 MB    | #######    |  70% \n",
      "conda-4.10.3         | 2.9 MB    | #######    |  71% \n",
      "conda-4.10.3         | 2.9 MB    | #######1   |  72% \n",
      "conda-4.10.3         | 2.9 MB    | #######2   |  73% \n",
      "conda-4.10.3         | 2.9 MB    | #######3   |  74% \n",
      "conda-4.10.3         | 2.9 MB    | #######4   |  74% \n",
      "conda-4.10.3         | 2.9 MB    | #######4   |  75% \n",
      "conda-4.10.3         | 2.9 MB    | #######5   |  76% \n",
      "conda-4.10.3         | 2.9 MB    | #######6   |  76% \n",
      "conda-4.10.3         | 2.9 MB    | #######6   |  77% \n",
      "conda-4.10.3         | 2.9 MB    | #######7   |  77% \n",
      "conda-4.10.3         | 2.9 MB    | #######7   |  78% \n",
      "conda-4.10.3         | 2.9 MB    | #######8   |  78% \n",
      "conda-4.10.3         | 2.9 MB    | #######8   |  79% \n",
      "conda-4.10.3         | 2.9 MB    | #######9   |  79% \n",
      "conda-4.10.3         | 2.9 MB    | ########   |  80% \n",
      "conda-4.10.3         | 2.9 MB    | ########   |  81% \n",
      "conda-4.10.3         | 2.9 MB    | ########1  |  82% \n",
      "conda-4.10.3         | 2.9 MB    | ########2  |  82% \n",
      "conda-4.10.3         | 2.9 MB    | ########2  |  83% \n",
      "conda-4.10.3         | 2.9 MB    | ########3  |  83% \n",
      "conda-4.10.3         | 2.9 MB    | ########4  |  84% \n",
      "conda-4.10.3         | 2.9 MB    | ########4  |  85% \n",
      "conda-4.10.3         | 2.9 MB    | ########5  |  85% \n",
      "conda-4.10.3         | 2.9 MB    | ########9  |  89% \n",
      "conda-4.10.3         | 2.9 MB    | ########9  |  90% \n",
      "conda-4.10.3         | 2.9 MB    | #########  |  91% \n",
      "conda-4.10.3         | 2.9 MB    | #########1 |  92% \n",
      "conda-4.10.3         | 2.9 MB    | #########2 |  92% \n",
      "conda-4.10.3         | 2.9 MB    | #########2 |  93% \n",
      "conda-4.10.3         | 2.9 MB    | #########3 |  93% \n",
      "conda-4.10.3         | 2.9 MB    | #########3 |  94% \n",
      "conda-4.10.3         | 2.9 MB    | #########4 |  95% \n",
      "conda-4.10.3         | 2.9 MB    | #########5 |  95% \n",
      "conda-4.10.3         | 2.9 MB    | #########5 |  96% \n",
      "conda-4.10.3         | 2.9 MB    | #########7 |  97% \n",
      "conda-4.10.3         | 2.9 MB    | #########9 | 100% \n",
      "conda-4.10.3         | 2.9 MB    | ########## | 100% \n",
      "\n",
      "graphviz-2.38        | 29.1 MB   |            |   0% \n",
      "graphviz-2.38        | 29.1 MB   |            |   0% \n",
      "graphviz-2.38        | 29.1 MB   |            |   0% \n",
      "graphviz-2.38        | 29.1 MB   |            |   0% \n",
      "graphviz-2.38        | 29.1 MB   |            |   0% \n",
      "graphviz-2.38        | 29.1 MB   |            |   0% \n",
      "graphviz-2.38        | 29.1 MB   |            |   0% \n",
      "graphviz-2.38        | 29.1 MB   |            |   0% \n",
      "graphviz-2.38        | 29.1 MB   |            |   0% \n",
      "graphviz-2.38        | 29.1 MB   |            |   0% \n",
      "graphviz-2.38        | 29.1 MB   |            |   1% \n",
      "graphviz-2.38        | 29.1 MB   |            |   1% \n",
      "graphviz-2.38        | 29.1 MB   | 1          |   1% \n",
      "graphviz-2.38        | 29.1 MB   | 1          |   1% \n",
      "graphviz-2.38        | 29.1 MB   | 1          |   1% \n",
      "graphviz-2.38        | 29.1 MB   | 1          |   1% \n",
      "graphviz-2.38        | 29.1 MB   | 1          |   1% \n",
      "graphviz-2.38        | 29.1 MB   | 1          |   1% \n",
      "graphviz-2.38        | 29.1 MB   | 1          |   2% \n",
      "graphviz-2.38        | 29.1 MB   | 1          |   2% \n",
      "graphviz-2.38        | 29.1 MB   | 1          |   2% \n",
      "graphviz-2.38        | 29.1 MB   | 1          |   2% \n",
      "graphviz-2.38        | 29.1 MB   | 1          |   2% \n",
      "graphviz-2.38        | 29.1 MB   | 1          |   2% \n",
      "graphviz-2.38        | 29.1 MB   | 1          |   2% \n",
      "graphviz-2.38        | 29.1 MB   | 2          |   2% \n",
      "graphviz-2.38        | 29.1 MB   | 2          |   2% \n",
      "graphviz-2.38        | 29.1 MB   | 2          |   2% \n",
      "graphviz-2.38        | 29.1 MB   | 2          |   2% \n",
      "graphviz-2.38        | 29.1 MB   | 2          |   2% \n",
      "graphviz-2.38        | 29.1 MB   | 2          |   2% \n",
      "graphviz-2.38        | 29.1 MB   | 2          |   3% \n",
      "graphviz-2.38        | 29.1 MB   | 2          |   3% \n",
      "graphviz-2.38        | 29.1 MB   | 2          |   3% \n",
      "graphviz-2.38        | 29.1 MB   | 2          |   3% \n",
      "graphviz-2.38        | 29.1 MB   | 2          |   3% \n",
      "graphviz-2.38        | 29.1 MB   | 2          |   3% \n",
      "graphviz-2.38        | 29.1 MB   | 2          |   3% \n",
      "graphviz-2.38        | 29.1 MB   | 2          |   3% \n",
      "graphviz-2.38        | 29.1 MB   | 3          |   3% \n",
      "graphviz-2.38        | 29.1 MB   | 3          |   3% \n",
      "graphviz-2.38        | 29.1 MB   | 3          |   3% \n",
      "graphviz-2.38        | 29.1 MB   | 3          |   3% \n",
      "graphviz-2.38        | 29.1 MB   | 3          |   3% "
     ]
    }
   ],
   "source": [
    "conda install graphviz"
   ]
  },
  {
   "cell_type": "code",
   "execution_count": 59,
   "id": "a605628c",
   "metadata": {},
   "outputs": [
    {
     "name": "stdout",
     "output_type": "stream",
     "text": [
      "\n",
      "graphviz-2.38        | 29.1 MB   | 3          |   3% \n",
      "graphviz-2.38        | 29.1 MB   | 3          |   3% \n",
      "graphviz-2.38        | 29.1 MB   | 3          |   4% \n",
      "graphviz-2.38        | 29.1 MB   | 3          |   4% \n",
      "graphviz-2.38        | 29.1 MB   | 3          |   4% \n",
      "graphviz-2.38        | 29.1 MB   | 3          |   4% \n",
      "graphviz-2.38        | 29.1 MB   | 3          |   4% \n",
      "graphviz-2.38        | 29.1 MB   | 3          |   4% \n",
      "graphviz-2.38        | 29.1 MB   | 3          |   4% \n",
      "graphviz-2.38        | 29.1 MB   | 3          |   4% \n",
      "graphviz-2.38        | 29.1 MB   | 3          |   4% \n",
      "graphviz-2.38        | 29.1 MB   | 4          |   4% \n",
      "graphviz-2.38        | 29.1 MB   | 4          |   4% \n",
      "graphviz-2.38        | 29.1 MB   | 4          |   4% \n",
      "graphviz-2.38        | 29.1 MB   | 4          |   4% \n",
      "graphviz-2.38        | 29.1 MB   | 4          |   4% \n",
      "graphviz-2.38        | 29.1 MB   | 4          |   4% \n",
      "graphviz-2.38        | 29.1 MB   | 4          |   4% \n",
      "graphviz-2.38        | 29.1 MB   | 4          |   5% \n",
      "graphviz-2.38        | 29.1 MB   | 4          |   5% \n",
      "graphviz-2.38        | 29.1 MB   | 4          |   5% \n",
      "graphviz-2.38        | 29.1 MB   | 4          |   5% \n",
      "graphviz-2.38        | 29.1 MB   | 4          |   5% \n",
      "graphviz-2.38        | 29.1 MB   | 4          |   5% \n",
      "graphviz-2.38        | 29.1 MB   | 4          |   5% \n",
      "graphviz-2.38        | 29.1 MB   | 4          |   5% \n",
      "graphviz-2.38        | 29.1 MB   | 4          |   5% \n",
      "graphviz-2.38        | 29.1 MB   | 4          |   5% \n",
      "graphviz-2.38        | 29.1 MB   | 5          |   5% \n",
      "graphviz-2.38        | 29.1 MB   | 5          |   5% \n",
      "graphviz-2.38        | 29.1 MB   | 5          |   5% \n",
      "graphviz-2.38        | 29.1 MB   | 5          |   5% \n",
      "graphviz-2.38        | 29.1 MB   | 5          |   5% \n",
      "graphviz-2.38        | 29.1 MB   | 5          |   5% \n",
      "graphviz-2.38        | 29.1 MB   | 5          |   5% \n",
      "graphviz-2.38        | 29.1 MB   | 5          |   5% \n",
      "graphviz-2.38        | 29.1 MB   | 5          |   5% \n",
      "graphviz-2.38        | 29.1 MB   | 5          |   6% \n",
      "graphviz-2.38        | 29.1 MB   | 5          |   6% \n",
      "graphviz-2.38        | 29.1 MB   | 5          |   6% \n",
      "graphviz-2.38        | 29.1 MB   | 5          |   6% \n",
      "graphviz-2.38        | 29.1 MB   | 5          |   6% \n",
      "graphviz-2.38        | 29.1 MB   | 5          |   6% \n",
      "graphviz-2.38        | 29.1 MB   | 5          |   6% \n",
      "graphviz-2.38        | 29.1 MB   | 5          |   6% \n",
      "graphviz-2.38        | 29.1 MB   | 5          |   6% \n",
      "graphviz-2.38        | 29.1 MB   | 6          |   6% \n",
      "graphviz-2.38        | 29.1 MB   | 6          |   6% \n",
      "graphviz-2.38        | 29.1 MB   | 6          |   6% \n",
      "graphviz-2.38        | 29.1 MB   | 6          |   6% \n",
      "graphviz-2.38        | 29.1 MB   | 6          |   6% \n",
      "graphviz-2.38        | 29.1 MB   | 6          |   6% \n",
      "graphviz-2.38        | 29.1 MB   | 6          |   6% \n",
      "graphviz-2.38        | 29.1 MB   | 6          |   6% \n",
      "graphviz-2.38        | 29.1 MB   | 6          |   6% \n",
      "graphviz-2.38        | 29.1 MB   | 6          |   7% \n",
      "graphviz-2.38        | 29.1 MB   | 6          |   7% \n",
      "graphviz-2.38        | 29.1 MB   | 6          |   7% \n",
      "graphviz-2.38        | 29.1 MB   | 6          |   7% \n",
      "graphviz-2.38        | 29.1 MB   | 6          |   7% \n",
      "graphviz-2.38        | 29.1 MB   | 6          |   7% \n",
      "graphviz-2.38        | 29.1 MB   | 6          |   7% \n",
      "graphviz-2.38        | 29.1 MB   | 6          |   7% \n",
      "graphviz-2.38        | 29.1 MB   | 6          |   7% \n",
      "graphviz-2.38        | 29.1 MB   | 7          |   7% \n",
      "graphviz-2.38        | 29.1 MB   | 7          |   7% \n",
      "graphviz-2.38        | 29.1 MB   | 7          |   7% \n",
      "graphviz-2.38        | 29.1 MB   | 7          |   7% \n",
      "graphviz-2.38        | 29.1 MB   | 7          |   7% \n",
      "graphviz-2.38        | 29.1 MB   | 7          |   7% \n",
      "graphviz-2.38        | 29.1 MB   | 7          |   7% \n",
      "graphviz-2.38        | 29.1 MB   | 7          |   7% \n",
      "graphviz-2.38        | 29.1 MB   | 7          |   7% \n",
      "graphviz-2.38        | 29.1 MB   | 7          |   8% \n",
      "graphviz-2.38        | 29.1 MB   | 7          |   8% \n",
      "graphviz-2.38        | 29.1 MB   | 7          |   8% \n",
      "graphviz-2.38        | 29.1 MB   | 7          |   8% \n",
      "graphviz-2.38        | 29.1 MB   | 7          |   8% \n",
      "graphviz-2.38        | 29.1 MB   | 7          |   8% \n",
      "graphviz-2.38        | 29.1 MB   | 7          |   8% \n",
      "graphviz-2.38        | 29.1 MB   | 7          |   8% \n",
      "graphviz-2.38        | 29.1 MB   | 7          |   8% \n",
      "graphviz-2.38        | 29.1 MB   | 8          |   8% \n",
      "graphviz-2.38        | 29.1 MB   | 8          |   8% \n",
      "graphviz-2.38        | 29.1 MB   | 8          |   8% \n",
      "graphviz-2.38        | 29.1 MB   | 8          |   8% \n",
      "graphviz-2.38        | 29.1 MB   | 8          |   8% \n",
      "graphviz-2.38        | 29.1 MB   | 8          |   8% \n",
      "graphviz-2.38        | 29.1 MB   | 8          |   8% \n",
      "graphviz-2.38        | 29.1 MB   | 8          |   9% \n",
      "graphviz-2.38        | 29.1 MB   | 8          |   9% \n",
      "graphviz-2.38        | 29.1 MB   | 8          |   9% \n",
      "graphviz-2.38        | 29.1 MB   | 8          |   9% \n",
      "graphviz-2.38        | 29.1 MB   | 9          |   9% \n",
      "graphviz-2.38        | 29.1 MB   | 9          |   9% \n",
      "graphviz-2.38        | 29.1 MB   | 9          |   9% \n",
      "graphviz-2.38        | 29.1 MB   | 9          |   9% \n",
      "graphviz-2.38        | 29.1 MB   | 9          |  10% \n",
      "graphviz-2.38        | 29.1 MB   | 9          |  10% \n",
      "graphviz-2.38        | 29.1 MB   | 9          |  10% \n",
      "graphviz-2.38        | 29.1 MB   | 9          |  10% \n",
      "graphviz-2.38        | 29.1 MB   | #          |  10% \n",
      "graphviz-2.38        | 29.1 MB   | #          |  10% \n",
      "graphviz-2.38        | 29.1 MB   | #          |  10% \n",
      "graphviz-2.38        | 29.1 MB   | #          |  10% \n",
      "graphviz-2.38        | 29.1 MB   | #          |  11% \n",
      "graphviz-2.38        | 29.1 MB   | #          |  11% \n",
      "graphviz-2.38        | 29.1 MB   | #          |  11% \n",
      "graphviz-2.38        | 29.1 MB   | #          |  11% \n",
      "graphviz-2.38        | 29.1 MB   | #1         |  11% \n",
      "graphviz-2.38        | 29.1 MB   | #1         |  11% \n",
      "graphviz-2.38        | 29.1 MB   | #1         |  11% \n",
      "graphviz-2.38        | 29.1 MB   | #1         |  12% \n",
      "graphviz-2.38        | 29.1 MB   | #1         |  12% \n",
      "graphviz-2.38        | 29.1 MB   | #1         |  12% \n",
      "graphviz-2.38        | 29.1 MB   | #1         |  12% \n",
      "graphviz-2.38        | 29.1 MB   | #2         |  12% \n",
      "graphviz-2.38        | 29.1 MB   | #2         |  12% \n",
      "graphviz-2.38        | 29.1 MB   | #2         |  12% \n",
      "graphviz-2.38        | 29.1 MB   | #2         |  12% \n",
      "graphviz-2.38        | 29.1 MB   | #2         |  13% \n",
      "graphviz-2.38        | 29.1 MB   | #2         |  13% \n",
      "graphviz-2.38        | 29.1 MB   | #2         |  13% \n",
      "graphviz-2.38        | 29.1 MB   | #3         |  13% \n",
      "graphviz-2.38        | 29.1 MB   | #3         |  13% \n",
      "graphviz-2.38        | 29.1 MB   | #3         |  13% \n",
      "graphviz-2.38        | 29.1 MB   | #3         |  13% \n",
      "graphviz-2.38        | 29.1 MB   | #3         |  13% \n",
      "graphviz-2.38        | 29.1 MB   | #3         |  14% \n",
      "graphviz-2.38        | 29.1 MB   | #3         |  14% \n",
      "graphviz-2.38        | 29.1 MB   | #3         |  14% \n",
      "graphviz-2.38        | 29.1 MB   | #3         |  14% \n",
      "graphviz-2.38        | 29.1 MB   | #4         |  14% \n",
      "graphviz-2.38        | 29.1 MB   | #4         |  14% \n",
      "graphviz-2.38        | 29.1 MB   | #4         |  14% \n",
      "graphviz-2.38        | 29.1 MB   | #4         |  14% \n",
      "graphviz-2.38        | 29.1 MB   | #4         |  15% \n",
      "graphviz-2.38        | 29.1 MB   | #4         |  15% \n",
      "graphviz-2.38        | 29.1 MB   | #4         |  15% \n",
      "graphviz-2.38        | 29.1 MB   | #4         |  15% \n",
      "graphviz-2.38        | 29.1 MB   | #4         |  15% \n",
      "graphviz-2.38        | 29.1 MB   | #4         |  15% \n",
      "graphviz-2.38        | 29.1 MB   | #4         |  15% \n",
      "graphviz-2.38        | 29.1 MB   | #5         |  15% \n",
      "graphviz-2.38        | 29.1 MB   | #5         |  15% \n",
      "graphviz-2.38        | 29.1 MB   | #5         |  15% \n",
      "graphviz-2.38        | 29.1 MB   | #5         |  15% \n",
      "graphviz-2.38        | 29.1 MB   | #5         |  15% \n",
      "graphviz-2.38        | 29.1 MB   | #5         |  15% \n",
      "graphviz-2.38        | 29.1 MB   | #5         |  15% \n",
      "graphviz-2.38        | 29.1 MB   | #5         |  15% \n",
      "graphviz-2.38        | 29.1 MB   | #5         |  15% \n",
      "graphviz-2.38        | 29.1 MB   | #5         |  16% \n",
      "graphviz-2.38        | 29.1 MB   | #5         |  16% \n",
      "graphviz-2.38        | 29.1 MB   | #5         |  16% \n",
      "graphviz-2.38        | 29.1 MB   | #5         |  16% \n",
      "graphviz-2.38        | 29.1 MB   | #5         |  16% \n",
      "graphviz-2.38        | 29.1 MB   | #5         |  16% \n",
      "graphviz-2.38        | 29.1 MB   | #6         |  16% \n",
      "graphviz-2.38        | 29.1 MB   | #6         |  16% \n",
      "graphviz-2.38        | 29.1 MB   | #6         |  16% \n",
      "graphviz-2.38        | 29.1 MB   | #6         |  16% \n",
      "graphviz-2.38        | 29.1 MB   | #6         |  16% \n",
      "graphviz-2.38        | 29.1 MB   | #6         |  16% \n",
      "graphviz-2.38        | 29.1 MB   | #6         |  16% \n",
      "graphviz-2.38        | 29.1 MB   | #6         |  17% \n",
      "graphviz-2.38        | 29.1 MB   | #6         |  17% \n",
      "graphviz-2.38        | 29.1 MB   | #6         |  17% \n",
      "graphviz-2.38        | 29.1 MB   | #6         |  17% \n",
      "graphviz-2.38        | 29.1 MB   | #6         |  17% \n",
      "graphviz-2.38        | 29.1 MB   | #6         |  17% \n",
      "graphviz-2.38        | 29.1 MB   | #6         |  17% \n",
      "graphviz-2.38        | 29.1 MB   | #6         |  17% \n",
      "graphviz-2.38        | 29.1 MB   | #6         |  17% \n",
      "graphviz-2.38        | 29.1 MB   | #7         |  17% \n",
      "graphviz-2.38        | 29.1 MB   | #7         |  17% \n",
      "graphviz-2.38        | 29.1 MB   | #7         |  17% \n",
      "graphviz-2.38        | 29.1 MB   | #7         |  18% \n",
      "graphviz-2.38        | 29.1 MB   | #7         |  18% \n",
      "graphviz-2.38        | 29.1 MB   | #7         |  18% \n",
      "graphviz-2.38        | 29.1 MB   | #7         |  18% \n",
      "graphviz-2.38        | 29.1 MB   | #8         |  18% \n",
      "graphviz-2.38        | 29.1 MB   | #8         |  18% \n",
      "graphviz-2.38        | 29.1 MB   | #8         |  18% \n",
      "graphviz-2.38        | 29.1 MB   | #8         |  18% \n",
      "graphviz-2.38        | 29.1 MB   | #8         |  18% \n",
      "graphviz-2.38        | 29.1 MB   | #8         |  19% \n",
      "graphviz-2.38        | 29.1 MB   | #8         |  19% \n",
      "graphviz-2.38        | 29.1 MB   | #8         |  19% \n",
      "graphviz-2.38        | 29.1 MB   | #8         |  19% \n",
      "graphviz-2.38        | 29.1 MB   | #8         |  19% \n",
      "graphviz-2.38        | 29.1 MB   | #9         |  19% \n",
      "graphviz-2.38        | 29.1 MB   | #9         |  19% \n",
      "graphviz-2.38        | 29.1 MB   | #9         |  19% \n",
      "graphviz-2.38        | 29.1 MB   | #9         |  19% \n",
      "graphviz-2.38        | 29.1 MB   | #9         |  20% \n",
      "graphviz-2.38        | 29.1 MB   | #9         |  20% \n",
      "graphviz-2.38        | 29.1 MB   | #9         |  20% \n",
      "graphviz-2.38        | 29.1 MB   | #9         |  20% \n",
      "graphviz-2.38        | 29.1 MB   | #9         |  20% \n",
      "graphviz-2.38        | 29.1 MB   | ##         |  20% \n",
      "graphviz-2.38        | 29.1 MB   | ##         |  20% \n",
      "graphviz-2.38        | 29.1 MB   | ##         |  20% \n",
      "graphviz-2.38        | 29.1 MB   | ##         |  20% \n",
      "graphviz-2.38        | 29.1 MB   | ##         |  20% \n",
      "graphviz-2.38        | 29.1 MB   | ##         |  21% \n",
      "graphviz-2.38        | 29.1 MB   | ##         |  21% \n",
      "graphviz-2.38        | 29.1 MB   | ##         |  21% \n",
      "graphviz-2.38        | 29.1 MB   | ##         |  21% \n",
      "graphviz-2.38        | 29.1 MB   | ##1        |  21% \n",
      "graphviz-2.38        | 29.1 MB   | ##1        |  21% \n",
      "graphviz-2.38        | 29.1 MB   | ##1        |  21% \n",
      "graphviz-2.38        | 29.1 MB   | ##1        |  21% \n",
      "graphviz-2.38        | 29.1 MB   | ##1        |  21% \n",
      "graphviz-2.38        | 29.1 MB   | ##1        |  22% \n",
      "graphviz-2.38        | 29.1 MB   | ##1        |  22% \n",
      "graphviz-2.38        | 29.1 MB   | ##1        |  22% \n",
      "graphviz-2.38        | 29.1 MB   | ##1        |  22% \n",
      "graphviz-2.38        | 29.1 MB   | ##2        |  22% \n",
      "graphviz-2.38        | 29.1 MB   | ##2        |  22% \n",
      "graphviz-2.38        | 29.1 MB   | ##2        |  22% \n",
      "graphviz-2.38        | 29.1 MB   | ##2        |  22% \n",
      "graphviz-2.38        | 29.1 MB   | ##2        |  22% \n",
      "graphviz-2.38        | 29.1 MB   | ##2        |  23% \n",
      "graphviz-2.38        | 29.1 MB   | ##2        |  23% \n",
      "graphviz-2.38        | 29.1 MB   | ##2        |  23% \n",
      "graphviz-2.38        | 29.1 MB   | ##2        |  23% \n",
      "graphviz-2.38        | 29.1 MB   | ##3        |  23% \n",
      "graphviz-2.38        | 29.1 MB   | ##3        |  23% \n",
      "graphviz-2.38        | 29.1 MB   | ##3        |  23% \n",
      "graphviz-2.38        | 29.1 MB   | ##3        |  23% \n",
      "graphviz-2.38        | 29.1 MB   | ##3        |  23% \n",
      "graphviz-2.38        | 29.1 MB   | ##3        |  24% \n",
      "graphviz-2.38        | 29.1 MB   | ##3        |  24% \n",
      "graphviz-2.38        | 29.1 MB   | ##3        |  24% \n",
      "graphviz-2.38        | 29.1 MB   | ##3        |  24% \n",
      "graphviz-2.38        | 29.1 MB   | ##3        |  24% \n",
      "graphviz-2.38        | 29.1 MB   | ##4        |  24% \n",
      "graphviz-2.38        | 29.1 MB   | ##4        |  24% \n",
      "graphviz-2.38        | 29.1 MB   | ##4        |  24% \n",
      "graphviz-2.38        | 29.1 MB   | ##4        |  24% \n",
      "graphviz-2.38        | 29.1 MB   | ##4        |  25% \n",
      "graphviz-2.38        | 29.1 MB   | ##4        |  25% \n",
      "graphviz-2.38        | 29.1 MB   | ##4        |  25% \n",
      "graphviz-2.38        | 29.1 MB   | ##4        |  25% \n",
      "graphviz-2.38        | 29.1 MB   | ##5        |  25% \n",
      "graphviz-2.38        | 29.1 MB   | ##5        |  25% \n",
      "graphviz-2.38        | 29.1 MB   | ##5        |  25% \n",
      "graphviz-2.38        | 29.1 MB   | ##5        |  26% \n",
      "graphviz-2.38        | 29.1 MB   | ##5        |  26% \n",
      "graphviz-2.38        | 29.1 MB   | ##5        |  26% \n",
      "graphviz-2.38        | 29.1 MB   | ##6        |  26% \n",
      "graphviz-2.38        | 29.1 MB   | ##6        |  26% \n",
      "graphviz-2.38        | 29.1 MB   | ##6        |  26% \n",
      "graphviz-2.38        | 29.1 MB   | ##6        |  26% \n",
      "graphviz-2.38        | 29.1 MB   | ##6        |  27% \n",
      "graphviz-2.38        | 29.1 MB   | ##6        |  27% \n",
      "graphviz-2.38        | 29.1 MB   | ##7        |  27% \n",
      "graphviz-2.38        | 29.1 MB   | ##7        |  27% \n",
      "graphviz-2.38        | 29.1 MB   | ##7        |  27% \n",
      "graphviz-2.38        | 29.1 MB   | ##7        |  28% \n",
      "graphviz-2.38        | 29.1 MB   | ##7        |  28% \n",
      "graphviz-2.38        | 29.1 MB   | ##7        |  28% \n",
      "graphviz-2.38        | 29.1 MB   | ##8        |  28% \n",
      "graphviz-2.38        | 29.1 MB   | ##8        |  28% \n",
      "graphviz-2.38        | 29.1 MB   | ##8        |  28% \n",
      "graphviz-2.38        | 29.1 MB   | ##8        |  29% \n",
      "graphviz-2.38        | 29.1 MB   | ##8        |  29% \n",
      "graphviz-2.38        | 29.1 MB   | ##8        |  29% \n",
      "graphviz-2.38        | 29.1 MB   | ##8        |  29% \n",
      "graphviz-2.38        | 29.1 MB   | ##9        |  29% \n",
      "graphviz-2.38        | 29.1 MB   | ##9        |  29% \n",
      "graphviz-2.38        | 29.1 MB   | ##9        |  29% \n",
      "graphviz-2.38        | 29.1 MB   | ##9        |  29% \n",
      "graphviz-2.38        | 29.1 MB   | ##9        |  29% \n",
      "graphviz-2.38        | 29.1 MB   | ##9        |  30% \n",
      "graphviz-2.38        | 29.1 MB   | ##9        |  30% \n",
      "graphviz-2.38        | 29.1 MB   | ##9        |  30% \n",
      "graphviz-2.38        | 29.1 MB   | ##9        |  30% \n",
      "graphviz-2.38        | 29.1 MB   | ##9        |  30% \n",
      "graphviz-2.38        | 29.1 MB   | ###        |  30% \n",
      "graphviz-2.38        | 29.1 MB   | ###        |  30% \n",
      "graphviz-2.38        | 29.1 MB   | ###        |  30% \n",
      "graphviz-2.38        | 29.1 MB   | ###        |  30% \n",
      "graphviz-2.38        | 29.1 MB   | ###        |  31% \n",
      "graphviz-2.38        | 29.1 MB   | ###        |  31% \n",
      "graphviz-2.38        | 29.1 MB   | ###        |  31% \n",
      "graphviz-2.38        | 29.1 MB   | ###        |  31% \n",
      "graphviz-2.38        | 29.1 MB   | ###        |  31% \n",
      "graphviz-2.38        | 29.1 MB   | ###1       |  31% \n"
     ]
    },
    {
     "name": "stdout",
     "output_type": "stream",
     "text": [
      "graphviz-2.38        | 29.1 MB   | ###1       |  31% \n",
      "graphviz-2.38        | 29.1 MB   | ###1       |  31% \n",
      "graphviz-2.38        | 29.1 MB   | ###1       |  31% \n",
      "graphviz-2.38        | 29.1 MB   | ###1       |  32% \n",
      "graphviz-2.38        | 29.1 MB   | ###1       |  32% \n",
      "graphviz-2.38        | 29.1 MB   | ###1       |  32% \n",
      "graphviz-2.38        | 29.1 MB   | ###1       |  32% \n",
      "graphviz-2.38        | 29.1 MB   | ###1       |  32% \n",
      "graphviz-2.38        | 29.1 MB   | ###2       |  32% \n",
      "graphviz-2.38        | 29.1 MB   | ###2       |  32% \n",
      "graphviz-2.38        | 29.1 MB   | ###2       |  32% \n",
      "graphviz-2.38        | 29.1 MB   | ###2       |  32% \n",
      "graphviz-2.38        | 29.1 MB   | ###2       |  32% \n",
      "graphviz-2.38        | 29.1 MB   | ###2       |  33% \n",
      "graphviz-2.38        | 29.1 MB   | ###2       |  33% \n",
      "graphviz-2.38        | 29.1 MB   | ###2       |  33% \n",
      "graphviz-2.38        | 29.1 MB   | ###2       |  33% \n",
      "graphviz-2.38        | 29.1 MB   | ###3       |  33% \n",
      "graphviz-2.38        | 29.1 MB   | ###3       |  33% \n",
      "graphviz-2.38        | 29.1 MB   | ###3       |  33% \n",
      "graphviz-2.38        | 29.1 MB   | ###3       |  33% \n",
      "graphviz-2.38        | 29.1 MB   | ###3       |  34% \n",
      "graphviz-2.38        | 29.1 MB   | ###3       |  34% \n",
      "graphviz-2.38        | 29.1 MB   | ###3       |  34% \n",
      "graphviz-2.38        | 29.1 MB   | ###3       |  34% \n",
      "graphviz-2.38        | 29.1 MB   | ###3       |  34% \n",
      "graphviz-2.38        | 29.1 MB   | ###4       |  34% \n",
      "graphviz-2.38        | 29.1 MB   | ###4       |  34% \n",
      "graphviz-2.38        | 29.1 MB   | ###4       |  34% \n",
      "graphviz-2.38        | 29.1 MB   | ###4       |  34% \n",
      "graphviz-2.38        | 29.1 MB   | ###4       |  35% \n",
      "graphviz-2.38        | 29.1 MB   | ###4       |  35% \n",
      "graphviz-2.38        | 29.1 MB   | ###4       |  35% \n",
      "graphviz-2.38        | 29.1 MB   | ###4       |  35% \n",
      "graphviz-2.38        | 29.1 MB   | ###4       |  35% \n",
      "graphviz-2.38        | 29.1 MB   | ###5       |  35% \n",
      "graphviz-2.38        | 29.1 MB   | ###5       |  35% \n",
      "graphviz-2.38        | 29.1 MB   | ###5       |  35% \n",
      "graphviz-2.38        | 29.1 MB   | ###5       |  35% \n",
      "graphviz-2.38        | 29.1 MB   | ###5       |  35% \n",
      "graphviz-2.38        | 29.1 MB   | ###5       |  36% \n",
      "graphviz-2.38        | 29.1 MB   | ###5       |  36% \n",
      "graphviz-2.38        | 29.1 MB   | ###5       |  36% \n",
      "graphviz-2.38        | 29.1 MB   | ###5       |  36% \n",
      "graphviz-2.38        | 29.1 MB   | ###6       |  36% \n",
      "graphviz-2.38        | 29.1 MB   | ###6       |  36% \n",
      "graphviz-2.38        | 29.1 MB   | ###6       |  36% \n",
      "graphviz-2.38        | 29.1 MB   | ###6       |  36% \n",
      "graphviz-2.38        | 29.1 MB   | ###6       |  36% \n",
      "graphviz-2.38        | 29.1 MB   | ###6       |  37% \n",
      "graphviz-2.38        | 29.1 MB   | ###6       |  37% \n",
      "graphviz-2.38        | 29.1 MB   | ###6       |  37% \n",
      "graphviz-2.38        | 29.1 MB   | ###6       |  37% \n",
      "graphviz-2.38        | 29.1 MB   | ###7       |  37% \n",
      "graphviz-2.38        | 29.1 MB   | ###7       |  37% \n",
      "graphviz-2.38        | 29.1 MB   | ###7       |  37% \n",
      "graphviz-2.38        | 29.1 MB   | ###7       |  37% \n",
      "graphviz-2.38        | 29.1 MB   | ###7       |  37% \n",
      "graphviz-2.38        | 29.1 MB   | ###7       |  38% \n",
      "graphviz-2.38        | 29.1 MB   | ###7       |  38% \n",
      "graphviz-2.38        | 29.1 MB   | ###7       |  38% \n",
      "graphviz-2.38        | 29.1 MB   | ###7       |  38% \n",
      "graphviz-2.38        | 29.1 MB   | ###8       |  38% \n",
      "graphviz-2.38        | 29.1 MB   | ###8       |  38% \n",
      "graphviz-2.38        | 29.1 MB   | ###8       |  38% \n",
      "graphviz-2.38        | 29.1 MB   | ###8       |  38% \n",
      "graphviz-2.38        | 29.1 MB   | ###8       |  39% \n",
      "graphviz-2.38        | 29.1 MB   | ###8       |  39% \n",
      "graphviz-2.38        | 29.1 MB   | ###8       |  39% \n",
      "graphviz-2.38        | 29.1 MB   | ###8       |  39% \n",
      "graphviz-2.38        | 29.1 MB   | ###8       |  39% \n",
      "graphviz-2.38        | 29.1 MB   | ###9       |  39% \n",
      "graphviz-2.38        | 29.1 MB   | ###9       |  39% \n",
      "graphviz-2.38        | 29.1 MB   | ###9       |  39% \n",
      "graphviz-2.38        | 29.1 MB   | ###9       |  39% \n",
      "graphviz-2.38        | 29.1 MB   | ###9       |  40% \n",
      "graphviz-2.38        | 29.1 MB   | ###9       |  40% \n",
      "graphviz-2.38        | 29.1 MB   | ###9       |  40% \n",
      "graphviz-2.38        | 29.1 MB   | ###9       |  40% \n",
      "graphviz-2.38        | 29.1 MB   | ###9       |  40% \n",
      "graphviz-2.38        | 29.1 MB   | ####       |  40% \n",
      "graphviz-2.38        | 29.1 MB   | ####       |  40% \n",
      "graphviz-2.38        | 29.1 MB   | ####       |  40% \n",
      "graphviz-2.38        | 29.1 MB   | ####       |  40% \n",
      "graphviz-2.38        | 29.1 MB   | ####       |  41% \n",
      "graphviz-2.38        | 29.1 MB   | ####       |  41% \n",
      "graphviz-2.38        | 29.1 MB   | ####       |  41% \n",
      "graphviz-2.38        | 29.1 MB   | ####       |  41% \n",
      "graphviz-2.38        | 29.1 MB   | ####1      |  41% \n",
      "graphviz-2.38        | 29.1 MB   | ####1      |  41% \n",
      "graphviz-2.38        | 29.1 MB   | ####1      |  41% \n",
      "graphviz-2.38        | 29.1 MB   | ####1      |  42% \n",
      "graphviz-2.38        | 29.1 MB   | ####1      |  42% \n",
      "graphviz-2.38        | 29.1 MB   | ####1      |  42% \n",
      "graphviz-2.38        | 29.1 MB   | ####2      |  42% \n",
      "graphviz-2.38        | 29.1 MB   | ####2      |  42% \n",
      "graphviz-2.38        | 29.1 MB   | ####2      |  42% \n",
      "graphviz-2.38        | 29.1 MB   | ####2      |  43% \n",
      "graphviz-2.38        | 29.1 MB   | ####2      |  43% \n",
      "graphviz-2.38        | 29.1 MB   | ####2      |  43% \n",
      "graphviz-2.38        | 29.1 MB   | ####3      |  43% \n",
      "graphviz-2.38        | 29.1 MB   | ####3      |  43% \n",
      "graphviz-2.38        | 29.1 MB   | ####3      |  43% \n",
      "graphviz-2.38        | 29.1 MB   | ####3      |  44% \n",
      "graphviz-2.38        | 29.1 MB   | ####3      |  44% \n",
      "graphviz-2.38        | 29.1 MB   | ####3      |  44% \n",
      "graphviz-2.38        | 29.1 MB   | ####3      |  44% \n",
      "graphviz-2.38        | 29.1 MB   | ####3      |  44% \n",
      "graphviz-2.38        | 29.1 MB   | ####4      |  44% \n",
      "graphviz-2.38        | 29.1 MB   | ####4      |  44% \n",
      "graphviz-2.38        | 29.1 MB   | ####4      |  44% \n",
      "graphviz-2.38        | 29.1 MB   | ####4      |  44% \n",
      "graphviz-2.38        | 29.1 MB   | ####4      |  44% \n",
      "graphviz-2.38        | 29.1 MB   | ####4      |  45% \n",
      "graphviz-2.38        | 29.1 MB   | ####4      |  45% \n",
      "graphviz-2.38        | 29.1 MB   | ####4      |  45% \n",
      "graphviz-2.38        | 29.1 MB   | ####4      |  45% \n",
      "graphviz-2.38        | 29.1 MB   | ####5      |  45% \n",
      "graphviz-2.38        | 29.1 MB   | ####5      |  45% \n",
      "graphviz-2.38        | 29.1 MB   | ####5      |  45% \n",
      "graphviz-2.38        | 29.1 MB   | ####5      |  45% \n",
      "graphviz-2.38        | 29.1 MB   | ####5      |  45% \n",
      "graphviz-2.38        | 29.1 MB   | ####5      |  46% \n",
      "graphviz-2.38        | 29.1 MB   | ####5      |  46% \n",
      "graphviz-2.38        | 29.1 MB   | ####5      |  46% \n",
      "graphviz-2.38        | 29.1 MB   | ####5      |  46% \n",
      "graphviz-2.38        | 29.1 MB   | ####6      |  46% \n",
      "graphviz-2.38        | 29.1 MB   | ####6      |  46% \n",
      "graphviz-2.38        | 29.1 MB   | ####6      |  46% \n",
      "graphviz-2.38        | 29.1 MB   | ####6      |  46% \n",
      "graphviz-2.38        | 29.1 MB   | ####6      |  46% \n",
      "graphviz-2.38        | 29.1 MB   | ####6      |  47% \n",
      "graphviz-2.38        | 29.1 MB   | ####6      |  47% \n",
      "graphviz-2.38        | 29.1 MB   | ####6      |  47% \n",
      "graphviz-2.38        | 29.1 MB   | ####6      |  47% \n",
      "graphviz-2.38        | 29.1 MB   | ####6      |  47% \n",
      "graphviz-2.38        | 29.1 MB   | ####7      |  47% \n",
      "graphviz-2.38        | 29.1 MB   | ####7      |  47% \n",
      "graphviz-2.38        | 29.1 MB   | ####7      |  47% \n",
      "graphviz-2.38        | 29.1 MB   | ####7      |  47% \n",
      "graphviz-2.38        | 29.1 MB   | ####7      |  48% \n",
      "graphviz-2.38        | 29.1 MB   | ####7      |  48% \n",
      "graphviz-2.38        | 29.1 MB   | ####7      |  48% \n",
      "graphviz-2.38        | 29.1 MB   | ####7      |  48% \n",
      "graphviz-2.38        | 29.1 MB   | ####7      |  48% \n",
      "graphviz-2.38        | 29.1 MB   | ####8      |  48% \n",
      "graphviz-2.38        | 29.1 MB   | ####8      |  48% \n",
      "graphviz-2.38        | 29.1 MB   | ####8      |  48% \n",
      "graphviz-2.38        | 29.1 MB   | ####8      |  48% \n",
      "graphviz-2.38        | 29.1 MB   | ####8      |  49% \n",
      "graphviz-2.38        | 29.1 MB   | ####8      |  49% \n",
      "graphviz-2.38        | 29.1 MB   | ####8      |  49% \n",
      "graphviz-2.38        | 29.1 MB   | ####8      |  49% \n",
      "graphviz-2.38        | 29.1 MB   | ####8      |  49% \n",
      "graphviz-2.38        | 29.1 MB   | ####9      |  49% \n",
      "graphviz-2.38        | 29.1 MB   | ####9      |  49% \n",
      "graphviz-2.38        | 29.1 MB   | ####9      |  49% \n",
      "graphviz-2.38        | 29.1 MB   | ####9      |  49% \n",
      "graphviz-2.38        | 29.1 MB   | ####9      |  50% \n",
      "graphviz-2.38        | 29.1 MB   | ####9      |  50% \n",
      "graphviz-2.38        | 29.1 MB   | ####9      |  50% \n",
      "graphviz-2.38        | 29.1 MB   | ####9      |  50% \n",
      "graphviz-2.38        | 29.1 MB   | ####9      |  50% \n",
      "graphviz-2.38        | 29.1 MB   | #####      |  50% \n"
     ]
    }
   ],
   "source": [
    "import graphviz"
   ]
  },
  {
   "cell_type": "code",
   "execution_count": 73,
   "id": "f88f618a",
   "metadata": {},
   "outputs": [
    {
     "ename": "ExecutableNotFound",
     "evalue": "failed to execute 'dot', make sure the Graphviz executables are on your systems' PATH",
     "output_type": "error",
     "traceback": [
      "\u001b[1;31m---------------------------------------------------------------------------\u001b[0m",
      "\u001b[1;31mFileNotFoundError\u001b[0m                         Traceback (most recent call last)",
      "\u001b[1;32mD:\\anaconda\\lib\\site-packages\\graphviz\\backend.py\u001b[0m in \u001b[0;36mrun\u001b[1;34m(cmd, input, capture_output, check, encoding, quiet, **kwargs)\u001b[0m\n\u001b[0;32m    169\u001b[0m     \u001b[1;32mtry\u001b[0m\u001b[1;33m:\u001b[0m\u001b[1;33m\u001b[0m\u001b[1;33m\u001b[0m\u001b[0m\n\u001b[1;32m--> 170\u001b[1;33m         \u001b[0mproc\u001b[0m \u001b[1;33m=\u001b[0m \u001b[0msubprocess\u001b[0m\u001b[1;33m.\u001b[0m\u001b[0mPopen\u001b[0m\u001b[1;33m(\u001b[0m\u001b[0mcmd\u001b[0m\u001b[1;33m,\u001b[0m \u001b[0mstartupinfo\u001b[0m\u001b[1;33m=\u001b[0m\u001b[0mget_startupinfo\u001b[0m\u001b[1;33m(\u001b[0m\u001b[1;33m)\u001b[0m\u001b[1;33m,\u001b[0m \u001b[1;33m**\u001b[0m\u001b[0mkwargs\u001b[0m\u001b[1;33m)\u001b[0m\u001b[1;33m\u001b[0m\u001b[1;33m\u001b[0m\u001b[0m\n\u001b[0m\u001b[0;32m    171\u001b[0m     \u001b[1;32mexcept\u001b[0m \u001b[0mOSError\u001b[0m \u001b[1;32mas\u001b[0m \u001b[0me\u001b[0m\u001b[1;33m:\u001b[0m\u001b[1;33m\u001b[0m\u001b[1;33m\u001b[0m\u001b[0m\n",
      "\u001b[1;32mD:\\anaconda\\lib\\subprocess.py\u001b[0m in \u001b[0;36m__init__\u001b[1;34m(self, args, bufsize, executable, stdin, stdout, stderr, preexec_fn, close_fds, shell, cwd, env, universal_newlines, startupinfo, creationflags, restore_signals, start_new_session, pass_fds, encoding, errors, text)\u001b[0m\n\u001b[0;32m    857\u001b[0m \u001b[1;33m\u001b[0m\u001b[0m\n\u001b[1;32m--> 858\u001b[1;33m             self._execute_child(args, executable, preexec_fn, close_fds,\n\u001b[0m\u001b[0;32m    859\u001b[0m                                 \u001b[0mpass_fds\u001b[0m\u001b[1;33m,\u001b[0m \u001b[0mcwd\u001b[0m\u001b[1;33m,\u001b[0m \u001b[0menv\u001b[0m\u001b[1;33m,\u001b[0m\u001b[1;33m\u001b[0m\u001b[1;33m\u001b[0m\u001b[0m\n",
      "\u001b[1;32mD:\\anaconda\\lib\\subprocess.py\u001b[0m in \u001b[0;36m_execute_child\u001b[1;34m(self, args, executable, preexec_fn, close_fds, pass_fds, cwd, env, startupinfo, creationflags, shell, p2cread, p2cwrite, c2pread, c2pwrite, errread, errwrite, unused_restore_signals, unused_start_new_session)\u001b[0m\n\u001b[0;32m   1310\u001b[0m             \u001b[1;32mtry\u001b[0m\u001b[1;33m:\u001b[0m\u001b[1;33m\u001b[0m\u001b[1;33m\u001b[0m\u001b[0m\n\u001b[1;32m-> 1311\u001b[1;33m                 hp, ht, pid, tid = _winapi.CreateProcess(executable, args,\n\u001b[0m\u001b[0;32m   1312\u001b[0m                                          \u001b[1;31m# no special security\u001b[0m\u001b[1;33m\u001b[0m\u001b[1;33m\u001b[0m\u001b[1;33m\u001b[0m\u001b[0m\n",
      "\u001b[1;31mFileNotFoundError\u001b[0m: [WinError 2] The system cannot find the file specified",
      "\nThe above exception was the direct cause of the following exception:\n",
      "\u001b[1;31mExecutableNotFound\u001b[0m                        Traceback (most recent call last)",
      "\u001b[1;32m<ipython-input-73-dd49c41b1ad6>\u001b[0m in \u001b[0;36m<module>\u001b[1;34m\u001b[0m\n\u001b[0;32m      1\u001b[0m \u001b[0mdot_data\u001b[0m\u001b[1;33m=\u001b[0m\u001b[0mtree\u001b[0m\u001b[1;33m.\u001b[0m\u001b[0mexport_graphviz\u001b[0m\u001b[1;33m(\u001b[0m\u001b[0mclf\u001b[0m\u001b[1;33m,\u001b[0m\u001b[0mout_file\u001b[0m\u001b[1;33m=\u001b[0m\u001b[1;32mNone\u001b[0m\u001b[1;33m,\u001b[0m\u001b[0mfilled\u001b[0m\u001b[1;33m=\u001b[0m\u001b[1;32mTrue\u001b[0m\u001b[1;33m,\u001b[0m \u001b[0mrounded\u001b[0m\u001b[1;33m=\u001b[0m\u001b[1;32mTrue\u001b[0m\u001b[1;33m)\u001b[0m\u001b[1;33m\u001b[0m\u001b[1;33m\u001b[0m\u001b[0m\n\u001b[0;32m      2\u001b[0m \u001b[0mgraph\u001b[0m\u001b[1;33m=\u001b[0m\u001b[0mgraphviz\u001b[0m\u001b[1;33m.\u001b[0m\u001b[0mSource\u001b[0m\u001b[1;33m(\u001b[0m\u001b[0mdot_data\u001b[0m\u001b[1;33m)\u001b[0m\u001b[1;33m\u001b[0m\u001b[1;33m\u001b[0m\u001b[0m\n\u001b[1;32m----> 3\u001b[1;33m \u001b[0mgraph\u001b[0m\u001b[1;33m.\u001b[0m\u001b[0mrender\u001b[0m\u001b[1;33m(\u001b[0m\u001b[1;34m'b1'\u001b[0m\u001b[1;33m)\u001b[0m\u001b[1;33m\u001b[0m\u001b[1;33m\u001b[0m\u001b[0m\n\u001b[0m",
      "\u001b[1;32mD:\\anaconda\\lib\\site-packages\\graphviz\\files.py\u001b[0m in \u001b[0;36mrender\u001b[1;34m(self, filename, directory, view, cleanup, format, renderer, formatter, quiet, quiet_view)\u001b[0m\n\u001b[0;32m    236\u001b[0m             \u001b[0mformat\u001b[0m \u001b[1;33m=\u001b[0m \u001b[0mself\u001b[0m\u001b[1;33m.\u001b[0m\u001b[0m_format\u001b[0m\u001b[1;33m\u001b[0m\u001b[1;33m\u001b[0m\u001b[0m\n\u001b[0;32m    237\u001b[0m \u001b[1;33m\u001b[0m\u001b[0m\n\u001b[1;32m--> 238\u001b[1;33m         rendered = backend.render(self._engine, format, filepath,\n\u001b[0m\u001b[0;32m    239\u001b[0m                                   \u001b[0mrenderer\u001b[0m\u001b[1;33m=\u001b[0m\u001b[0mrenderer\u001b[0m\u001b[1;33m,\u001b[0m \u001b[0mformatter\u001b[0m\u001b[1;33m=\u001b[0m\u001b[0mformatter\u001b[0m\u001b[1;33m,\u001b[0m\u001b[1;33m\u001b[0m\u001b[1;33m\u001b[0m\u001b[0m\n\u001b[0;32m    240\u001b[0m                                   quiet=quiet)\n",
      "\u001b[1;32mD:\\anaconda\\lib\\site-packages\\graphviz\\backend.py\u001b[0m in \u001b[0;36mrender\u001b[1;34m(***failed resolving arguments***)\u001b[0m\n\u001b[0;32m    233\u001b[0m         \u001b[0mcwd\u001b[0m \u001b[1;33m=\u001b[0m \u001b[1;32mNone\u001b[0m\u001b[1;33m\u001b[0m\u001b[1;33m\u001b[0m\u001b[0m\n\u001b[0;32m    234\u001b[0m \u001b[1;33m\u001b[0m\u001b[0m\n\u001b[1;32m--> 235\u001b[1;33m     \u001b[0mrun\u001b[0m\u001b[1;33m(\u001b[0m\u001b[0mcmd\u001b[0m\u001b[1;33m,\u001b[0m \u001b[0mcapture_output\u001b[0m\u001b[1;33m=\u001b[0m\u001b[1;32mTrue\u001b[0m\u001b[1;33m,\u001b[0m \u001b[0mcwd\u001b[0m\u001b[1;33m=\u001b[0m\u001b[0mcwd\u001b[0m\u001b[1;33m,\u001b[0m \u001b[0mcheck\u001b[0m\u001b[1;33m=\u001b[0m\u001b[1;32mTrue\u001b[0m\u001b[1;33m,\u001b[0m \u001b[0mquiet\u001b[0m\u001b[1;33m=\u001b[0m\u001b[0mquiet\u001b[0m\u001b[1;33m)\u001b[0m\u001b[1;33m\u001b[0m\u001b[1;33m\u001b[0m\u001b[0m\n\u001b[0m\u001b[0;32m    236\u001b[0m     \u001b[1;32mreturn\u001b[0m \u001b[0mrendered\u001b[0m\u001b[1;33m\u001b[0m\u001b[1;33m\u001b[0m\u001b[0m\n\u001b[0;32m    237\u001b[0m \u001b[1;33m\u001b[0m\u001b[0m\n",
      "\u001b[1;32mD:\\anaconda\\lib\\site-packages\\graphviz\\backend.py\u001b[0m in \u001b[0;36mrun\u001b[1;34m(cmd, input, capture_output, check, encoding, quiet, **kwargs)\u001b[0m\n\u001b[0;32m    171\u001b[0m     \u001b[1;32mexcept\u001b[0m \u001b[0mOSError\u001b[0m \u001b[1;32mas\u001b[0m \u001b[0me\u001b[0m\u001b[1;33m:\u001b[0m\u001b[1;33m\u001b[0m\u001b[1;33m\u001b[0m\u001b[0m\n\u001b[0;32m    172\u001b[0m         \u001b[1;32mif\u001b[0m \u001b[0me\u001b[0m\u001b[1;33m.\u001b[0m\u001b[0merrno\u001b[0m \u001b[1;33m==\u001b[0m \u001b[0merrno\u001b[0m\u001b[1;33m.\u001b[0m\u001b[0mENOENT\u001b[0m\u001b[1;33m:\u001b[0m\u001b[1;33m\u001b[0m\u001b[1;33m\u001b[0m\u001b[0m\n\u001b[1;32m--> 173\u001b[1;33m             \u001b[1;32mraise\u001b[0m \u001b[0mExecutableNotFound\u001b[0m\u001b[1;33m(\u001b[0m\u001b[0mcmd\u001b[0m\u001b[1;33m)\u001b[0m \u001b[1;32mfrom\u001b[0m \u001b[0me\u001b[0m\u001b[1;33m\u001b[0m\u001b[1;33m\u001b[0m\u001b[0m\n\u001b[0m\u001b[0;32m    174\u001b[0m         \u001b[1;32melse\u001b[0m\u001b[1;33m:\u001b[0m\u001b[1;33m\u001b[0m\u001b[1;33m\u001b[0m\u001b[0m\n\u001b[0;32m    175\u001b[0m             \u001b[1;32mraise\u001b[0m\u001b[1;33m\u001b[0m\u001b[1;33m\u001b[0m\u001b[0m\n",
      "\u001b[1;31mExecutableNotFound\u001b[0m: failed to execute 'dot', make sure the Graphviz executables are on your systems' PATH"
     ]
    }
   ],
   "source": [
    "dot_data=tree.export_graphviz(clf,out_file=None,filled=True, rounded=True)\n",
    "graph=graphviz.Source(dot_data)\n",
    "graph.render('b1')"
   ]
  },
  {
   "cell_type": "markdown",
   "id": "adb02080",
   "metadata": {},
   "source": [
    "**PREDICTION**"
   ]
  },
  {
   "cell_type": "code",
   "execution_count": 62,
   "id": "9ae3d1d2",
   "metadata": {},
   "outputs": [
    {
     "data": {
      "text/plain": [
       "array([0, 1, 1, 1, 0, 1, 1, 1, 1, 1, 1, 0, 0, 0, 0, 0, 0, 1, 1, 1, 1, 1,\n",
       "       1, 0, 1, 1, 0, 1, 0, 0, 0, 1, 0, 1, 0, 1, 1, 0, 0, 1, 1, 1, 1, 0,\n",
       "       1, 1, 0, 1, 1, 1, 0, 1, 1, 0, 0, 0, 1, 1, 0, 1, 0, 1, 0, 1, 1, 1,\n",
       "       1, 1, 0, 1, 0, 1, 0, 0, 0, 1, 1, 1, 1, 0, 0, 1, 1, 1, 0, 0, 0, 1,\n",
       "       1, 0, 0, 1, 0, 0, 1, 0, 1, 1, 0, 0, 1, 1, 0, 0, 0, 0, 1, 0, 1, 0,\n",
       "       0, 0, 0, 1, 0, 0, 1, 1, 1, 1, 1, 0], dtype=int64)"
      ]
     },
     "execution_count": 62,
     "metadata": {},
     "output_type": "execute_result"
    }
   ],
   "source": [
    "y_predict=clfFit.predict(x_test)\n",
    "y_predict"
   ]
  },
  {
   "cell_type": "code",
   "execution_count": 63,
   "id": "9bee0c02",
   "metadata": {},
   "outputs": [
    {
     "data": {
      "text/html": [
       "<div>\n",
       "<style scoped>\n",
       "    .dataframe tbody tr th:only-of-type {\n",
       "        vertical-align: middle;\n",
       "    }\n",
       "\n",
       "    .dataframe tbody tr th {\n",
       "        vertical-align: top;\n",
       "    }\n",
       "\n",
       "    .dataframe thead th {\n",
       "        text-align: right;\n",
       "    }\n",
       "</style>\n",
       "<table border=\"1\" class=\"dataframe\">\n",
       "  <thead>\n",
       "    <tr style=\"text-align: right;\">\n",
       "      <th>Predicted</th>\n",
       "      <th>0</th>\n",
       "      <th>1</th>\n",
       "      <th>All</th>\n",
       "    </tr>\n",
       "    <tr>\n",
       "      <th>Actual</th>\n",
       "      <th></th>\n",
       "      <th></th>\n",
       "      <th></th>\n",
       "    </tr>\n",
       "  </thead>\n",
       "  <tbody>\n",
       "    <tr>\n",
       "      <th>0</th>\n",
       "      <td>37</td>\n",
       "      <td>18</td>\n",
       "      <td>55</td>\n",
       "    </tr>\n",
       "    <tr>\n",
       "      <th>1</th>\n",
       "      <td>18</td>\n",
       "      <td>49</td>\n",
       "      <td>67</td>\n",
       "    </tr>\n",
       "    <tr>\n",
       "      <th>All</th>\n",
       "      <td>55</td>\n",
       "      <td>67</td>\n",
       "      <td>122</td>\n",
       "    </tr>\n",
       "  </tbody>\n",
       "</table>\n",
       "</div>"
      ],
      "text/plain": [
       "Predicted   0   1  All\n",
       "Actual                \n",
       "0          37  18   55\n",
       "1          18  49   67\n",
       "All        55  67  122"
      ]
     },
     "execution_count": 63,
     "metadata": {},
     "output_type": "execute_result"
    }
   ],
   "source": [
    "cm_tree=pd.crosstab(y_test,y_predict,rownames=[\"Actual\"],colnames=[\"Predicted\"],margins=True)\n",
    "cm_tree"
   ]
  },
  {
   "cell_type": "markdown",
   "id": "65cedd2a",
   "metadata": {},
   "source": [
    "**RESULT**"
   ]
  },
  {
   "cell_type": "code",
   "execution_count": 64,
   "id": "546e260c",
   "metadata": {},
   "outputs": [
    {
     "data": {
      "text/plain": [
       "array([[37, 18],\n",
       "       [18, 49]], dtype=int64)"
      ]
     },
     "execution_count": 64,
     "metadata": {},
     "output_type": "execute_result"
    }
   ],
   "source": [
    "confusion_matrix(y_test,y_predict)"
   ]
  },
  {
   "cell_type": "code",
   "execution_count": 65,
   "id": "46e131a3",
   "metadata": {},
   "outputs": [
    {
     "name": "stdout",
     "output_type": "stream",
     "text": [
      "              precision    recall  f1-score   support\n",
      "\n",
      "           0       0.67      0.67      0.67        55\n",
      "           1       0.73      0.73      0.73        67\n",
      "\n",
      "    accuracy                           0.70       122\n",
      "   macro avg       0.70      0.70      0.70       122\n",
      "weighted avg       0.70      0.70      0.70       122\n",
      "\n"
     ]
    }
   ],
   "source": [
    "print(classification_report(y_test,y_predict))"
   ]
  },
  {
   "cell_type": "code",
   "execution_count": 66,
   "id": "ea304648",
   "metadata": {},
   "outputs": [
    {
     "data": {
      "text/plain": [
       "0.7049180327868853"
      ]
     },
     "execution_count": 66,
     "metadata": {},
     "output_type": "execute_result"
    }
   ],
   "source": [
    "accuracy_score(y_test,y_predict)"
   ]
  },
  {
   "cell_type": "markdown",
   "id": "602d4b08",
   "metadata": {},
   "source": [
    "**ROC CURVE**"
   ]
  },
  {
   "cell_type": "code",
   "execution_count": 67,
   "id": "04bec409",
   "metadata": {},
   "outputs": [
    {
     "name": "stdout",
     "output_type": "stream",
     "text": [
      "0.7020352781546813\n"
     ]
    }
   ],
   "source": [
    "fpr, tpr, thresholds =roc_curve(y_test, y_predict)\n",
    "roc_auc = auc(fpr, tpr) \n",
    "print(roc_auc)"
   ]
  },
  {
   "cell_type": "code",
   "execution_count": 71,
   "id": "d0e353e1",
   "metadata": {},
   "outputs": [
    {
     "data": {
      "image/png": "[encoded data removed]",
      "text/plain": [
       "<Figure size 432x288 with 1 Axes>"
      ]
     },
     "metadata": {
      "needs_background": "light"
     },
     "output_type": "display_data"
    }
   ],
   "source": [
    "plt.title('ROC Curve ')\n",
    "plt.xlabel('False Positive Rate (1-Specificity)')\n",
    "plt.ylabel('True Positive Rate (Sensitivity)')\n",
    "plt.plot([0, 1], [0, 1],'r--',color='navy',lw=2)\n",
    "plt.xlim([0, 1])\n",
    "plt.ylim([0, 1])\n",
    "plt.plot(fpr, tpr, label = 'AUC =' + str(roc_auc), lw=2,color='darkorange')\n",
    "plt.legend(loc=4) #Location of label\n",
    "plt.show()"
   ]
  },
  {
   "cell_type": "code",
   "execution_count": null,
   "id": "dd655818",
   "metadata": {},
   "outputs": [],
   "source": []
  }
 ],
 "metadata": {
  "kernelspec": {
   "display_name": "Python 3",
   "language": "python",
   "name": "python3"
  },
  "language_info": {
   "codemirror_mode": {
    "name": "ipython",
    "version": 3
   },
   "file_extension": ".py",
   "mimetype": "text/x-python",
   "name": "python",
   "nbconvert_exporter": "python",
   "pygments_lexer": "ipython3",
   "version": "3.8.8"
  }
 },
 "nbformat": 4,
 "nbformat_minor": 5
}
