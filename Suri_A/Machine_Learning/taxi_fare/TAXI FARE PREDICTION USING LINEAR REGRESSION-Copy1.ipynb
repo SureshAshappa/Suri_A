{
 "cells": [
  {
   "cell_type": "code",
   "execution_count": 1,
   "id": "94ef549c",
   "metadata": {},
   "outputs": [],
   "source": [
    "import numpy as np\n",
    "import pandas as pd\n",
    "import matplotlib.pyplot as plt\n",
    "import seaborn as sns"
   ]
  },
  {
   "cell_type": "code",
   "execution_count": 3,
   "id": "5261637e",
   "metadata": {},
   "outputs": [
    {
     "data": {
      "text/html": [
       "<div>\n",
       "<style scoped>\n",
       "    .dataframe tbody tr th:only-of-type {\n",
       "        vertical-align: middle;\n",
       "    }\n",
       "\n",
       "    .dataframe tbody tr th {\n",
       "        vertical-align: top;\n",
       "    }\n",
       "\n",
       "    .dataframe thead th {\n",
       "        text-align: right;\n",
       "    }\n",
       "</style>\n",
       "<table border=\"1\" class=\"dataframe\">\n",
       "  <thead>\n",
       "    <tr style=\"text-align: right;\">\n",
       "      <th></th>\n",
       "      <th>amount</th>\n",
       "      <th>date_time_of_pickup</th>\n",
       "      <th>longitude_of_pickup</th>\n",
       "      <th>latitude_of_pickup</th>\n",
       "      <th>longitude_of_dropoff</th>\n",
       "      <th>latitude_of_dropoff</th>\n",
       "      <th>no_of_passenger</th>\n",
       "      <th>Year_of_Pickup</th>\n",
       "      <th>Month_of_Pickup</th>\n",
       "      <th>Date_of_Pickup</th>\n",
       "      <th>Hour_of_Pickup</th>\n",
       "      <th>Minute_of_Pickup</th>\n",
       "      <th>Second_of_Pickup</th>\n",
       "      <th>Distance_Travelled</th>\n",
       "    </tr>\n",
       "  </thead>\n",
       "  <tbody>\n",
       "    <tr>\n",
       "      <th>0</th>\n",
       "      <td>4.5</td>\n",
       "      <td>2009-06-15 17:26:21</td>\n",
       "      <td>-73.844311</td>\n",
       "      <td>40.721319</td>\n",
       "      <td>-73.841610</td>\n",
       "      <td>40.712278</td>\n",
       "      <td>1</td>\n",
       "      <td>2009</td>\n",
       "      <td>6</td>\n",
       "      <td>15</td>\n",
       "      <td>17</td>\n",
       "      <td>26</td>\n",
       "      <td>21</td>\n",
       "      <td>0.640487</td>\n",
       "    </tr>\n",
       "    <tr>\n",
       "      <th>1</th>\n",
       "      <td>16.9</td>\n",
       "      <td>2010-01-05 16:52:16</td>\n",
       "      <td>-74.016048</td>\n",
       "      <td>40.711303</td>\n",
       "      <td>-73.979268</td>\n",
       "      <td>40.782004</td>\n",
       "      <td>1</td>\n",
       "      <td>2010</td>\n",
       "      <td>1</td>\n",
       "      <td>5</td>\n",
       "      <td>16</td>\n",
       "      <td>52</td>\n",
       "      <td>16</td>\n",
       "      <td>5.250670</td>\n",
       "    </tr>\n",
       "    <tr>\n",
       "      <th>2</th>\n",
       "      <td>5.7</td>\n",
       "      <td>2011-08-18 00:35:00</td>\n",
       "      <td>-73.982738</td>\n",
       "      <td>40.761270</td>\n",
       "      <td>-73.991242</td>\n",
       "      <td>40.750562</td>\n",
       "      <td>2</td>\n",
       "      <td>2011</td>\n",
       "      <td>8</td>\n",
       "      <td>18</td>\n",
       "      <td>0</td>\n",
       "      <td>35</td>\n",
       "      <td>0</td>\n",
       "      <td>0.863411</td>\n",
       "    </tr>\n",
       "    <tr>\n",
       "      <th>3</th>\n",
       "      <td>7.7</td>\n",
       "      <td>2012-04-21 04:30:42</td>\n",
       "      <td>-73.987130</td>\n",
       "      <td>40.733143</td>\n",
       "      <td>-73.991567</td>\n",
       "      <td>40.758092</td>\n",
       "      <td>1</td>\n",
       "      <td>2012</td>\n",
       "      <td>4</td>\n",
       "      <td>21</td>\n",
       "      <td>4</td>\n",
       "      <td>30</td>\n",
       "      <td>42</td>\n",
       "      <td>1.739386</td>\n",
       "    </tr>\n",
       "    <tr>\n",
       "      <th>4</th>\n",
       "      <td>5.3</td>\n",
       "      <td>2010-03-09 07:51:00</td>\n",
       "      <td>-73.968095</td>\n",
       "      <td>40.768008</td>\n",
       "      <td>-73.956655</td>\n",
       "      <td>40.783762</td>\n",
       "      <td>1</td>\n",
       "      <td>2010</td>\n",
       "      <td>3</td>\n",
       "      <td>9</td>\n",
       "      <td>7</td>\n",
       "      <td>51</td>\n",
       "      <td>0</td>\n",
       "      <td>1.242218</td>\n",
       "    </tr>\n",
       "  </tbody>\n",
       "</table>\n",
       "</div>"
      ],
      "text/plain": [
       "   amount  date_time_of_pickup  longitude_of_pickup  latitude_of_pickup  \\\n",
       "0     4.5  2009-06-15 17:26:21           -73.844311           40.721319   \n",
       "1    16.9  2010-01-05 16:52:16           -74.016048           40.711303   \n",
       "2     5.7  2011-08-18 00:35:00           -73.982738           40.761270   \n",
       "3     7.7  2012-04-21 04:30:42           -73.987130           40.733143   \n",
       "4     5.3  2010-03-09 07:51:00           -73.968095           40.768008   \n",
       "\n",
       "   longitude_of_dropoff  latitude_of_dropoff  no_of_passenger  Year_of_Pickup  \\\n",
       "0            -73.841610            40.712278                1            2009   \n",
       "1            -73.979268            40.782004                1            2010   \n",
       "2            -73.991242            40.750562                2            2011   \n",
       "3            -73.991567            40.758092                1            2012   \n",
       "4            -73.956655            40.783762                1            2010   \n",
       "\n",
       "   Month_of_Pickup  Date_of_Pickup  Hour_of_Pickup  Minute_of_Pickup  \\\n",
       "0                6              15              17                26   \n",
       "1                1               5              16                52   \n",
       "2                8              18               0                35   \n",
       "3                4              21               4                30   \n",
       "4                3               9               7                51   \n",
       "\n",
       "   Second_of_Pickup  Distance_Travelled  \n",
       "0                21            0.640487  \n",
       "1                16            5.250670  \n",
       "2                 0            0.863411  \n",
       "3                42            1.739386  \n",
       "4                 0            1.242218  "
      ]
     },
     "execution_count": 3,
     "metadata": {},
     "output_type": "execute_result"
    }
   ],
   "source": [
    "df=pd.read_csv('C:\\\\Post Graduate Course in Data Analytics\\\\MACHINE LEARNING\\\\RANDOM FORESTS\\\\TaxiFarePrediction\\\\Dataset\\\\TaxiFare.csv')\n",
    "df.head()"
   ]
  },
  {
   "cell_type": "code",
   "execution_count": 4,
   "id": "700634b6",
   "metadata": {},
   "outputs": [
    {
     "data": {
      "text/plain": [
       "amount                  0\n",
       "date_time_of_pickup     0\n",
       "longitude_of_pickup     0\n",
       "latitude_of_pickup      0\n",
       "longitude_of_dropoff    0\n",
       "latitude_of_dropoff     0\n",
       "no_of_passenger         0\n",
       "Year_of_Pickup          0\n",
       "Month_of_Pickup         0\n",
       "Date_of_Pickup          0\n",
       "Hour_of_Pickup          0\n",
       "Minute_of_Pickup        0\n",
       "Second_of_Pickup        0\n",
       "Distance_Travelled      0\n",
       "dtype: int64"
      ]
     },
     "execution_count": 4,
     "metadata": {},
     "output_type": "execute_result"
    }
   ],
   "source": [
    "df.isnull().sum()"
   ]
  },
  {
   "cell_type": "code",
   "execution_count": 5,
   "id": "c6463532",
   "metadata": {},
   "outputs": [
    {
     "name": "stdout",
     "output_type": "stream",
     "text": [
      "<class 'pandas.core.frame.DataFrame'>\n",
      "RangeIndex: 50000 entries, 0 to 49999\n",
      "Data columns (total 14 columns):\n",
      " #   Column                Non-Null Count  Dtype  \n",
      "---  ------                --------------  -----  \n",
      " 0   amount                50000 non-null  float64\n",
      " 1   date_time_of_pickup   50000 non-null  object \n",
      " 2   longitude_of_pickup   50000 non-null  float64\n",
      " 3   latitude_of_pickup    50000 non-null  float64\n",
      " 4   longitude_of_dropoff  50000 non-null  float64\n",
      " 5   latitude_of_dropoff   50000 non-null  float64\n",
      " 6   no_of_passenger       50000 non-null  int64  \n",
      " 7   Year_of_Pickup        50000 non-null  int64  \n",
      " 8   Month_of_Pickup       50000 non-null  int64  \n",
      " 9   Date_of_Pickup        50000 non-null  int64  \n",
      " 10  Hour_of_Pickup        50000 non-null  int64  \n",
      " 11  Minute_of_Pickup      50000 non-null  int64  \n",
      " 12  Second_of_Pickup      50000 non-null  int64  \n",
      " 13  Distance_Travelled    50000 non-null  float64\n",
      "dtypes: float64(6), int64(7), object(1)\n",
      "memory usage: 5.3+ MB\n"
     ]
    }
   ],
   "source": [
    "df.info()"
   ]
  },
  {
   "cell_type": "code",
   "execution_count": 6,
   "id": "30fe390d",
   "metadata": {},
   "outputs": [
    {
     "data": {
      "text/plain": [
       "(50000, 14)"
      ]
     },
     "execution_count": 6,
     "metadata": {},
     "output_type": "execute_result"
    }
   ],
   "source": [
    "df.shape"
   ]
  },
  {
   "cell_type": "code",
   "execution_count": 7,
   "id": "b48da542",
   "metadata": {},
   "outputs": [
    {
     "data": {
      "text/plain": [
       "6.50     2468\n",
       "4.50     2104\n",
       "8.50     1929\n",
       "6.10     1441\n",
       "5.30     1440\n",
       "         ... \n",
       "55.30       1\n",
       "34.44       1\n",
       "52.40       1\n",
       "25.40       1\n",
       "28.54       1\n",
       "Name: amount, Length: 703, dtype: int64"
      ]
     },
     "execution_count": 7,
     "metadata": {},
     "output_type": "execute_result"
    }
   ],
   "source": [
    "df.amount.value_counts()"
   ]
  },
  {
   "cell_type": "code",
   "execution_count": 10,
   "id": "c4af6f58",
   "metadata": {},
   "outputs": [
    {
     "data": {
      "image/png": "[encoded data removed]",
      "text/plain": [
       "<Figure size 432x288 with 1 Axes>"
      ]
     },
     "metadata": {
      "needs_background": "light"
     },
     "output_type": "display_data"
    }
   ],
   "source": [
    "plt.hist(df.amount,bins='auto')\n",
    "plt.show()"
   ]
  },
  {
   "cell_type": "code",
   "execution_count": 11,
   "id": "57ad50c5",
   "metadata": {},
   "outputs": [],
   "source": [
    "from scipy import stats"
   ]
  },
  {
   "cell_type": "code",
   "execution_count": 12,
   "id": "b6155961",
   "metadata": {},
   "outputs": [
    {
     "name": "stdout",
     "output_type": "stream",
     "text": [
      "4364\n",
      "1\n"
     ]
    }
   ],
   "source": [
    "iqr_amt=stats.iqr(df.amount)\n",
    "uplim1=df.amount.quantile(0.75)+(1.5*iqr_amt)\n",
    "lowlim1=df.amount.quantile(0.25)-(1.5*iqr_amt)\n",
    "print(len(df[df.amount>uplim1]))\n",
    "print(len(df[df.amount<lowlim1]))"
   ]
  },
  {
   "cell_type": "code",
   "execution_count": 13,
   "id": "688a22fa",
   "metadata": {},
   "outputs": [
    {
     "name": "stdout",
     "output_type": "stream",
     "text": [
      "6\n",
      "5\n",
      "16\n",
      "636\n"
     ]
    }
   ],
   "source": [
    "print(len(df.amount[df.amount<0]))\n",
    "print(len(df.amount[df.amount>150]))\n",
    "print(len(df.amount[df.amount>100]))\n",
    "print(len(df.amount[df.amount>50]))"
   ]
  },
  {
   "cell_type": "code",
   "execution_count": 14,
   "id": "0e497738",
   "metadata": {},
   "outputs": [
    {
     "name": "stdout",
     "output_type": "stream",
     "text": [
      "Taxi Fare paid more than:  22 No of passengers:  49990\n",
      "Taxi Fare paid more than:  23 No of passengers:  49990\n",
      "Taxi Fare paid more than:  24 No of passengers:  49990\n",
      "Taxi Fare paid more than:  25 No of passengers:  49990\n",
      "Taxi Fare paid more than:  26 No of passengers:  49990\n",
      "Taxi Fare paid more than:  27 No of passengers:  49990\n",
      "Taxi Fare paid more than:  28 No of passengers:  49990\n",
      "Taxi Fare paid more than:  29 No of passengers:  49990\n",
      "Taxi Fare paid more than:  30 No of passengers:  49990\n",
      "Taxi Fare paid more than:  31 No of passengers:  49990\n"
     ]
    }
   ],
   "source": [
    "for i in range(22,32,1):\n",
    "    df_len=len(df.amount[df.amount>1])\n",
    "    print('Taxi Fare paid more than: ', i ,'No of passengers: ',df_len)"
   ]
  },
  {
   "cell_type": "code",
   "execution_count": 15,
   "id": "b2a34fc0",
   "metadata": {},
   "outputs": [
    {
     "data": {
      "text/plain": [
       "count                   50000\n",
       "unique                  49555\n",
       "top       2011-09-03 01:30:00\n",
       "freq                        3\n",
       "Name: date_time_of_pickup, dtype: object"
      ]
     },
     "execution_count": 15,
     "metadata": {},
     "output_type": "execute_result"
    }
   ],
   "source": [
    "df.date_time_of_pickup.describe()"
   ]
  },
  {
   "cell_type": "code",
   "execution_count": 17,
   "id": "6a82511e",
   "metadata": {},
   "outputs": [
    {
     "name": "stdout",
     "output_type": "stream",
     "text": [
      "<class 'pandas.core.frame.DataFrame'>\n",
      "RangeIndex: 50000 entries, 0 to 49999\n",
      "Data columns (total 14 columns):\n",
      " #   Column                Non-Null Count  Dtype         \n",
      "---  ------                --------------  -----         \n",
      " 0   amount                50000 non-null  float64       \n",
      " 1   date_time_of_pickup   50000 non-null  datetime64[ns]\n",
      " 2   longitude_of_pickup   50000 non-null  float64       \n",
      " 3   latitude_of_pickup    50000 non-null  float64       \n",
      " 4   longitude_of_dropoff  50000 non-null  float64       \n",
      " 5   latitude_of_dropoff   50000 non-null  float64       \n",
      " 6   no_of_passenger       50000 non-null  int64         \n",
      " 7   Year_of_Pickup        50000 non-null  int64         \n",
      " 8   Month_of_Pickup       50000 non-null  int64         \n",
      " 9   Date_of_Pickup        50000 non-null  int64         \n",
      " 10  Hour_of_Pickup        50000 non-null  int64         \n",
      " 11  Minute_of_Pickup      50000 non-null  int64         \n",
      " 12  Second_of_Pickup      50000 non-null  int64         \n",
      " 13  Distance_Travelled    50000 non-null  float64       \n",
      "dtypes: datetime64[ns](1), float64(6), int64(7)\n",
      "memory usage: 5.3 MB\n"
     ]
    }
   ],
   "source": [
    "df.date_time_of_pickup=pd.to_datetime(df.date_time_of_pickup)\n",
    "df.info()"
   ]
  },
  {
   "cell_type": "code",
   "execution_count": 18,
   "id": "31404dcc",
   "metadata": {},
   "outputs": [],
   "source": [
    "df['year']=df['date_time_of_pickup'].dt.year\n",
    "df['month']=df['date_time_of_pickup'].dt.month_name()\n",
    "df['day']=df['date_time_of_pickup'].dt.day_name()\n",
    "df['hour']=df['date_time_of_pickup'].dt.hour\n",
    "\n",
    "df.drop('date_time_of_pickup',axis=1,inplace=True)"
   ]
  },
  {
   "cell_type": "code",
   "execution_count": 19,
   "id": "6c8852a2",
   "metadata": {},
   "outputs": [
    {
     "name": "stdout",
     "output_type": "stream",
     "text": [
      "<class 'pandas.core.frame.DataFrame'>\n",
      "RangeIndex: 50000 entries, 0 to 49999\n",
      "Data columns (total 17 columns):\n",
      " #   Column                Non-Null Count  Dtype  \n",
      "---  ------                --------------  -----  \n",
      " 0   amount                50000 non-null  float64\n",
      " 1   longitude_of_pickup   50000 non-null  float64\n",
      " 2   latitude_of_pickup    50000 non-null  float64\n",
      " 3   longitude_of_dropoff  50000 non-null  float64\n",
      " 4   latitude_of_dropoff   50000 non-null  float64\n",
      " 5   no_of_passenger       50000 non-null  int64  \n",
      " 6   Year_of_Pickup        50000 non-null  int64  \n",
      " 7   Month_of_Pickup       50000 non-null  int64  \n",
      " 8   Date_of_Pickup        50000 non-null  int64  \n",
      " 9   Hour_of_Pickup        50000 non-null  int64  \n",
      " 10  Minute_of_Pickup      50000 non-null  int64  \n",
      " 11  Second_of_Pickup      50000 non-null  int64  \n",
      " 12  Distance_Travelled    50000 non-null  float64\n",
      " 13  year                  50000 non-null  int64  \n",
      " 14  month                 50000 non-null  object \n",
      " 15  day                   50000 non-null  object \n",
      " 16  hour                  50000 non-null  int64  \n",
      "dtypes: float64(6), int64(9), object(2)\n",
      "memory usage: 6.5+ MB\n"
     ]
    }
   ],
   "source": [
    "df.info()"
   ]
  },
  {
   "cell_type": "code",
   "execution_count": 20,
   "id": "e2f3ef24",
   "metadata": {},
   "outputs": [
    {
     "data": {
      "image/png": "[encoded data removed]",
      "text/plain": [
       "<Figure size 432x288 with 1 Axes>"
      ]
     },
     "metadata": {
      "needs_background": "light"
     },
     "output_type": "display_data"
    }
   ],
   "source": [
    "plt.plot(df.groupby('month')['amount'].count())\n",
    "plt.xticks(rotation=90)\n",
    "plt.show()"
   ]
  },
  {
   "cell_type": "code",
   "execution_count": 22,
   "id": "04bcce0c",
   "metadata": {},
   "outputs": [
    {
     "data": {
      "text/plain": [
       "0    0.640487\n",
       "1    5.250670\n",
       "2    0.863411\n",
       "3    1.739386\n",
       "4    1.242218\n",
       "Name: distance_travelled, dtype: float64"
      ]
     },
     "execution_count": 22,
     "metadata": {},
     "output_type": "execute_result"
    }
   ],
   "source": [
    "def distance(lat1, lon1, lat2, lon2):\n",
    "  p = 0.017453292519943295 # Pi/180\n",
    "  a = 0.5 - np.cos((lat2 - lat1) * p)/2 + np.cos(lat1 * p) * np.cos(lat2 * p) * (1 - np.cos((lon2 - lon1) * p))/2\n",
    "  return 0.6213712 * 12742 * np.arcsin(np.sqrt(a))\n",
    "\n",
    "df['distance_travelled'] = distance(df.latitude_of_pickup, df.longitude_of_pickup,\n",
    "                                    df.latitude_of_dropoff, df.longitude_of_dropoff)\n",
    "df.distance_travelled.head()"
   ]
  },
  {
   "cell_type": "code",
   "execution_count": 23,
   "id": "57f7da88",
   "metadata": {},
   "outputs": [
    {
     "name": "stderr",
     "output_type": "stream",
     "text": [
      "C:\\Users\\soume\\anaconda3\\lib\\site-packages\\seaborn\\_decorators.py:36: FutureWarning: Pass the following variables as keyword args: x, y. From version 0.12, the only valid positional argument will be `data`, and passing other arguments without an explicit keyword will result in an error or misinterpretation.\n",
      "  warnings.warn(\n"
     ]
    },
    {
     "data": {
      "text/plain": [
       "<AxesSubplot:xlabel='distance_travelled', ylabel='amount'>"
      ]
     },
     "execution_count": 23,
     "metadata": {},
     "output_type": "execute_result"
    },
    {
     "data": {
      "image/png": "[encoded data removed]",
      "text/plain": [
       "<Figure size 432x288 with 1 Axes>"
      ]
     },
     "metadata": {
      "needs_background": "light"
     },
     "output_type": "display_data"
    }
   ],
   "source": [
    "sns.scatterplot(df.distance_travelled,df.amount)"
   ]
  },
  {
   "cell_type": "code",
   "execution_count": 25,
   "id": "1a5deb12",
   "metadata": {},
   "outputs": [],
   "source": [
    "df.drop(['year','month','day','hour'],axis=1,inplace=True)"
   ]
  },
  {
   "cell_type": "code",
   "execution_count": 28,
   "id": "0f6a2818",
   "metadata": {},
   "outputs": [],
   "source": [
    "df.drop('distance_travelled',axis=1,inplace=True)"
   ]
  },
  {
   "cell_type": "code",
   "execution_count": 29,
   "id": "b38d88c1",
   "metadata": {},
   "outputs": [
    {
     "data": {
      "text/html": [
       "<div>\n",
       "<style scoped>\n",
       "    .dataframe tbody tr th:only-of-type {\n",
       "        vertical-align: middle;\n",
       "    }\n",
       "\n",
       "    .dataframe tbody tr th {\n",
       "        vertical-align: top;\n",
       "    }\n",
       "\n",
       "    .dataframe thead th {\n",
       "        text-align: right;\n",
       "    }\n",
       "</style>\n",
       "<table border=\"1\" class=\"dataframe\">\n",
       "  <thead>\n",
       "    <tr style=\"text-align: right;\">\n",
       "      <th></th>\n",
       "      <th>amount</th>\n",
       "      <th>longitude_of_pickup</th>\n",
       "      <th>latitude_of_pickup</th>\n",
       "      <th>longitude_of_dropoff</th>\n",
       "      <th>latitude_of_dropoff</th>\n",
       "      <th>no_of_passenger</th>\n",
       "      <th>Year_of_Pickup</th>\n",
       "      <th>Month_of_Pickup</th>\n",
       "      <th>Date_of_Pickup</th>\n",
       "      <th>Hour_of_Pickup</th>\n",
       "      <th>Minute_of_Pickup</th>\n",
       "      <th>Second_of_Pickup</th>\n",
       "      <th>Distance_Travelled</th>\n",
       "    </tr>\n",
       "  </thead>\n",
       "  <tbody>\n",
       "    <tr>\n",
       "      <th>0</th>\n",
       "      <td>4.5</td>\n",
       "      <td>-73.844311</td>\n",
       "      <td>40.721319</td>\n",
       "      <td>-73.841610</td>\n",
       "      <td>40.712278</td>\n",
       "      <td>1</td>\n",
       "      <td>2009</td>\n",
       "      <td>6</td>\n",
       "      <td>15</td>\n",
       "      <td>17</td>\n",
       "      <td>26</td>\n",
       "      <td>21</td>\n",
       "      <td>0.640487</td>\n",
       "    </tr>\n",
       "    <tr>\n",
       "      <th>1</th>\n",
       "      <td>16.9</td>\n",
       "      <td>-74.016048</td>\n",
       "      <td>40.711303</td>\n",
       "      <td>-73.979268</td>\n",
       "      <td>40.782004</td>\n",
       "      <td>1</td>\n",
       "      <td>2010</td>\n",
       "      <td>1</td>\n",
       "      <td>5</td>\n",
       "      <td>16</td>\n",
       "      <td>52</td>\n",
       "      <td>16</td>\n",
       "      <td>5.250670</td>\n",
       "    </tr>\n",
       "    <tr>\n",
       "      <th>2</th>\n",
       "      <td>5.7</td>\n",
       "      <td>-73.982738</td>\n",
       "      <td>40.761270</td>\n",
       "      <td>-73.991242</td>\n",
       "      <td>40.750562</td>\n",
       "      <td>2</td>\n",
       "      <td>2011</td>\n",
       "      <td>8</td>\n",
       "      <td>18</td>\n",
       "      <td>0</td>\n",
       "      <td>35</td>\n",
       "      <td>0</td>\n",
       "      <td>0.863411</td>\n",
       "    </tr>\n",
       "    <tr>\n",
       "      <th>3</th>\n",
       "      <td>7.7</td>\n",
       "      <td>-73.987130</td>\n",
       "      <td>40.733143</td>\n",
       "      <td>-73.991567</td>\n",
       "      <td>40.758092</td>\n",
       "      <td>1</td>\n",
       "      <td>2012</td>\n",
       "      <td>4</td>\n",
       "      <td>21</td>\n",
       "      <td>4</td>\n",
       "      <td>30</td>\n",
       "      <td>42</td>\n",
       "      <td>1.739386</td>\n",
       "    </tr>\n",
       "    <tr>\n",
       "      <th>4</th>\n",
       "      <td>5.3</td>\n",
       "      <td>-73.968095</td>\n",
       "      <td>40.768008</td>\n",
       "      <td>-73.956655</td>\n",
       "      <td>40.783762</td>\n",
       "      <td>1</td>\n",
       "      <td>2010</td>\n",
       "      <td>3</td>\n",
       "      <td>9</td>\n",
       "      <td>7</td>\n",
       "      <td>51</td>\n",
       "      <td>0</td>\n",
       "      <td>1.242218</td>\n",
       "    </tr>\n",
       "    <tr>\n",
       "      <th>...</th>\n",
       "      <td>...</td>\n",
       "      <td>...</td>\n",
       "      <td>...</td>\n",
       "      <td>...</td>\n",
       "      <td>...</td>\n",
       "      <td>...</td>\n",
       "      <td>...</td>\n",
       "      <td>...</td>\n",
       "      <td>...</td>\n",
       "      <td>...</td>\n",
       "      <td>...</td>\n",
       "      <td>...</td>\n",
       "      <td>...</td>\n",
       "    </tr>\n",
       "    <tr>\n",
       "      <th>49995</th>\n",
       "      <td>15.0</td>\n",
       "      <td>-73.999973</td>\n",
       "      <td>40.748531</td>\n",
       "      <td>-74.016899</td>\n",
       "      <td>40.705993</td>\n",
       "      <td>1</td>\n",
       "      <td>2013</td>\n",
       "      <td>6</td>\n",
       "      <td>12</td>\n",
       "      <td>23</td>\n",
       "      <td>25</td>\n",
       "      <td>15</td>\n",
       "      <td>3.069806</td>\n",
       "    </tr>\n",
       "    <tr>\n",
       "      <th>49996</th>\n",
       "      <td>7.5</td>\n",
       "      <td>-73.984756</td>\n",
       "      <td>40.768211</td>\n",
       "      <td>-73.987366</td>\n",
       "      <td>40.760597</td>\n",
       "      <td>1</td>\n",
       "      <td>2015</td>\n",
       "      <td>6</td>\n",
       "      <td>22</td>\n",
       "      <td>17</td>\n",
       "      <td>19</td>\n",
       "      <td>18</td>\n",
       "      <td>0.543517</td>\n",
       "    </tr>\n",
       "    <tr>\n",
       "      <th>49997</th>\n",
       "      <td>6.9</td>\n",
       "      <td>-74.002698</td>\n",
       "      <td>40.739428</td>\n",
       "      <td>-73.998108</td>\n",
       "      <td>40.759483</td>\n",
       "      <td>1</td>\n",
       "      <td>2011</td>\n",
       "      <td>1</td>\n",
       "      <td>30</td>\n",
       "      <td>4</td>\n",
       "      <td>53</td>\n",
       "      <td>0</td>\n",
       "      <td>1.406341</td>\n",
       "    </tr>\n",
       "    <tr>\n",
       "      <th>49998</th>\n",
       "      <td>4.5</td>\n",
       "      <td>-73.946062</td>\n",
       "      <td>40.777567</td>\n",
       "      <td>-73.953450</td>\n",
       "      <td>40.779687</td>\n",
       "      <td>2</td>\n",
       "      <td>2012</td>\n",
       "      <td>11</td>\n",
       "      <td>6</td>\n",
       "      <td>7</td>\n",
       "      <td>9</td>\n",
       "      <td>0</td>\n",
       "      <td>0.413364</td>\n",
       "    </tr>\n",
       "    <tr>\n",
       "      <th>49999</th>\n",
       "      <td>10.9</td>\n",
       "      <td>-73.932603</td>\n",
       "      <td>40.763805</td>\n",
       "      <td>-73.932603</td>\n",
       "      <td>40.763805</td>\n",
       "      <td>1</td>\n",
       "      <td>2010</td>\n",
       "      <td>1</td>\n",
       "      <td>13</td>\n",
       "      <td>8</td>\n",
       "      <td>13</td>\n",
       "      <td>14</td>\n",
       "      <td>0.000000</td>\n",
       "    </tr>\n",
       "  </tbody>\n",
       "</table>\n",
       "<p>50000 rows × 13 columns</p>\n",
       "</div>"
      ],
      "text/plain": [
       "       amount  longitude_of_pickup  latitude_of_pickup  longitude_of_dropoff  \\\n",
       "0         4.5           -73.844311           40.721319            -73.841610   \n",
       "1        16.9           -74.016048           40.711303            -73.979268   \n",
       "2         5.7           -73.982738           40.761270            -73.991242   \n",
       "3         7.7           -73.987130           40.733143            -73.991567   \n",
       "4         5.3           -73.968095           40.768008            -73.956655   \n",
       "...       ...                  ...                 ...                   ...   \n",
       "49995    15.0           -73.999973           40.748531            -74.016899   \n",
       "49996     7.5           -73.984756           40.768211            -73.987366   \n",
       "49997     6.9           -74.002698           40.739428            -73.998108   \n",
       "49998     4.5           -73.946062           40.777567            -73.953450   \n",
       "49999    10.9           -73.932603           40.763805            -73.932603   \n",
       "\n",
       "       latitude_of_dropoff  no_of_passenger  Year_of_Pickup  Month_of_Pickup  \\\n",
       "0                40.712278                1            2009                6   \n",
       "1                40.782004                1            2010                1   \n",
       "2                40.750562                2            2011                8   \n",
       "3                40.758092                1            2012                4   \n",
       "4                40.783762                1            2010                3   \n",
       "...                    ...              ...             ...              ...   \n",
       "49995            40.705993                1            2013                6   \n",
       "49996            40.760597                1            2015                6   \n",
       "49997            40.759483                1            2011                1   \n",
       "49998            40.779687                2            2012               11   \n",
       "49999            40.763805                1            2010                1   \n",
       "\n",
       "       Date_of_Pickup  Hour_of_Pickup  Minute_of_Pickup  Second_of_Pickup  \\\n",
       "0                  15              17                26                21   \n",
       "1                   5              16                52                16   \n",
       "2                  18               0                35                 0   \n",
       "3                  21               4                30                42   \n",
       "4                   9               7                51                 0   \n",
       "...               ...             ...               ...               ...   \n",
       "49995              12              23                25                15   \n",
       "49996              22              17                19                18   \n",
       "49997              30               4                53                 0   \n",
       "49998               6               7                 9                 0   \n",
       "49999              13               8                13                14   \n",
       "\n",
       "       Distance_Travelled  \n",
       "0                0.640487  \n",
       "1                5.250670  \n",
       "2                0.863411  \n",
       "3                1.739386  \n",
       "4                1.242218  \n",
       "...                   ...  \n",
       "49995            3.069806  \n",
       "49996            0.543517  \n",
       "49997            1.406341  \n",
       "49998            0.413364  \n",
       "49999            0.000000  \n",
       "\n",
       "[50000 rows x 13 columns]"
      ]
     },
     "execution_count": 29,
     "metadata": {},
     "output_type": "execute_result"
    }
   ],
   "source": [
    "df"
   ]
  },
  {
   "cell_type": "code",
   "execution_count": 30,
   "id": "5e058438",
   "metadata": {},
   "outputs": [],
   "source": [
    "import statsmodels.api as sm\n",
    "from sklearn.model_selection import train_test_split\n",
    "from sklearn.metrics import mean_squared_error,mean_absolute_error,r2_score\n",
    "from sklearn.linear_model import LinearRegression"
   ]
  },
  {
   "cell_type": "code",
   "execution_count": 31,
   "id": "93a8e1de",
   "metadata": {},
   "outputs": [
    {
     "name": "stdout",
     "output_type": "stream",
     "text": [
      "<class 'pandas.core.frame.DataFrame'>\n",
      "RangeIndex: 50000 entries, 0 to 49999\n",
      "Data columns (total 13 columns):\n",
      " #   Column                Non-Null Count  Dtype  \n",
      "---  ------                --------------  -----  \n",
      " 0   amount                50000 non-null  float64\n",
      " 1   longitude_of_pickup   50000 non-null  float64\n",
      " 2   latitude_of_pickup    50000 non-null  float64\n",
      " 3   longitude_of_dropoff  50000 non-null  float64\n",
      " 4   latitude_of_dropoff   50000 non-null  float64\n",
      " 5   no_of_passenger       50000 non-null  int64  \n",
      " 6   Year_of_Pickup        50000 non-null  int64  \n",
      " 7   Month_of_Pickup       50000 non-null  int64  \n",
      " 8   Date_of_Pickup        50000 non-null  int64  \n",
      " 9   Hour_of_Pickup        50000 non-null  int64  \n",
      " 10  Minute_of_Pickup      50000 non-null  int64  \n",
      " 11  Second_of_Pickup      50000 non-null  int64  \n",
      " 12  Distance_Travelled    50000 non-null  float64\n",
      "dtypes: float64(6), int64(7)\n",
      "memory usage: 5.0 MB\n"
     ]
    }
   ],
   "source": [
    "df.info()"
   ]
  },
  {
   "cell_type": "code",
   "execution_count": 32,
   "id": "fdcf6e5d",
   "metadata": {},
   "outputs": [
    {
     "name": "stdout",
     "output_type": "stream",
     "text": [
      "(50000, 8)\n",
      "(50000,)\n"
     ]
    }
   ],
   "source": [
    "x=df.iloc[:,5:13]\n",
    "print(x.shape)\n",
    "y=df.iloc[:,0]\n",
    "print(y.shape)"
   ]
  },
  {
   "cell_type": "code",
   "execution_count": 33,
   "id": "0497571f",
   "metadata": {},
   "outputs": [
    {
     "name": "stdout",
     "output_type": "stream",
     "text": [
      "(37500, 8)\n",
      "(12500, 8)\n",
      "(37500,)\n",
      "(12500,)\n"
     ]
    }
   ],
   "source": [
    "xtrain,xtest,ytrain,ytest=train_test_split(x,y,test_size=0.25,random_state=123)\n",
    "print(xtrain.shape)\n",
    "print(xtest.shape)\n",
    "print(ytrain.shape)\n",
    "print(ytest.shape)"
   ]
  },
  {
   "cell_type": "code",
   "execution_count": 34,
   "id": "16927ba2",
   "metadata": {},
   "outputs": [
    {
     "name": "stdout",
     "output_type": "stream",
     "text": [
      "                                 OLS Regression Results                                \n",
      "=======================================================================================\n",
      "Dep. Variable:                 amount   R-squared (uncentered):                   0.575\n",
      "Model:                            OLS   Adj. R-squared (uncentered):              0.575\n",
      "Method:                 Least Squares   F-statistic:                              6351.\n",
      "Date:                Fri, 13 Aug 2021   Prob (F-statistic):                        0.00\n",
      "Time:                        23:40:43   Log-Likelihood:                     -1.3879e+05\n",
      "No. Observations:               37500   AIC:                                  2.776e+05\n",
      "Df Residuals:                   37492   BIC:                                  2.777e+05\n",
      "Df Model:                           8                                                  \n",
      "Covariance Type:            nonrobust                                                  \n",
      "======================================================================================\n",
      "                         coef    std err          t      P>|t|      [0.025      0.975]\n",
      "--------------------------------------------------------------------------------------\n",
      "no_of_passenger        0.1261      0.040      3.146      0.002       0.048       0.205\n",
      "Year_of_Pickup         0.0056      0.000     52.104      0.000       0.005       0.006\n",
      "Month_of_Pickup        0.0865      0.015      5.909      0.000       0.058       0.115\n",
      "Date_of_Pickup        -0.0015      0.006     -0.253      0.801      -0.013       0.010\n",
      "Hour_of_Pickup        -0.0336      0.008     -4.322      0.000      -0.049      -0.018\n",
      "Minute_of_Pickup      -0.0071      0.003     -2.437      0.015      -0.013      -0.001\n",
      "Second_of_Pickup       0.0073      0.003      2.749      0.006       0.002       0.013\n",
      "Distance_Travelled     0.0006      0.000      2.859      0.004       0.000       0.001\n",
      "==============================================================================\n",
      "Omnibus:                    30213.061   Durbin-Watson:                   2.004\n",
      "Prob(Omnibus):                  0.000   Jarque-Bera (JB):          1025523.809\n",
      "Skew:                           3.671   Prob(JB):                         0.00\n",
      "Kurtosis:                      27.545   Cond. No.                     1.59e+03\n",
      "==============================================================================\n",
      "\n",
      "Notes:\n",
      "[1] R² is computed without centering (uncentered) since the model does not contain a constant.\n",
      "[2] Standard Errors assume that the covariance matrix of the errors is correctly specified.\n",
      "[3] The condition number is large, 1.59e+03. This might indicate that there are\n",
      "strong multicollinearity or other numerical problems.\n"
     ]
    }
   ],
   "source": [
    "linreg=sm.OLS(ytrain,xtrain).fit()\n",
    "print(linreg.summary())"
   ]
  },
  {
   "cell_type": "code",
   "execution_count": 35,
   "id": "6ab97466",
   "metadata": {},
   "outputs": [
    {
     "data": {
      "text/plain": [
       "11872    11.448008\n",
       "40828    11.703164\n",
       "36400    11.119841\n",
       "5166     11.299830\n",
       "30273    11.611148\n",
       "           ...    \n",
       "49059    11.514055\n",
       "35361    11.563770\n",
       "10810    12.035594\n",
       "20916    10.504266\n",
       "34989    11.513382\n",
       "Length: 12500, dtype: float64"
      ]
     },
     "execution_count": 35,
     "metadata": {},
     "output_type": "execute_result"
    }
   ],
   "source": [
    "ypred=linreg.predict(xtest)\n",
    "ypred"
   ]
  },
  {
   "cell_type": "code",
   "execution_count": 36,
   "id": "8ae11f50",
   "metadata": {},
   "outputs": [
    {
     "data": {
      "text/plain": [
       "9.297493857101417"
      ]
     },
     "execution_count": 36,
     "metadata": {},
     "output_type": "execute_result"
    }
   ],
   "source": [
    "mse=mean_squared_error(ytest,ypred)\n",
    "rmse=np.sqrt(mse)\n",
    "rmse"
   ]
  },
  {
   "cell_type": "code",
   "execution_count": 37,
   "id": "a3a4b487",
   "metadata": {},
   "outputs": [],
   "source": [
    "from sklearn.preprocessing import StandardScaler"
   ]
  },
  {
   "cell_type": "code",
   "execution_count": 38,
   "id": "920d069c",
   "metadata": {},
   "outputs": [],
   "source": [
    "sc=StandardScaler()\n",
    "xtrain_sc=sc.fit_transform(xtrain)\n",
    "xtest_sc=sc.fit_transform(xtest)"
   ]
  },
  {
   "cell_type": "code",
   "execution_count": 41,
   "id": "6c7c9dd1",
   "metadata": {},
   "outputs": [
    {
     "name": "stdout",
     "output_type": "stream",
     "text": [
      "                                 OLS Regression Results                                \n",
      "=======================================================================================\n",
      "Dep. Variable:                 amount   R-squared (uncentered):                   0.007\n",
      "Model:                            OLS   Adj. R-squared (uncentered):              0.007\n",
      "Method:                 Least Squares   F-statistic:                              32.86\n",
      "Date:                Fri, 13 Aug 2021   Prob (F-statistic):                    4.94e-52\n",
      "Time:                        23:46:18   Log-Likelihood:                     -1.5472e+05\n",
      "No. Observations:               37500   AIC:                                  3.095e+05\n",
      "Df Residuals:                   37492   BIC:                                  3.095e+05\n",
      "Df Model:                           8                                                  \n",
      "Covariance Type:            nonrobust                                                  \n",
      "==============================================================================\n",
      "                 coef    std err          t      P>|t|      [0.025      0.975]\n",
      "------------------------------------------------------------------------------\n",
      "x1             0.1328      0.079      1.677      0.094      -0.022       0.288\n",
      "x2             1.1825      0.078     15.118      0.000       1.029       1.336\n",
      "x3             0.4320      0.078      5.539      0.000       0.279       0.585\n",
      "x4             0.0056      0.077      0.073      0.942      -0.146       0.157\n",
      "x5            -0.2220      0.077     -2.869      0.004      -0.374      -0.070\n",
      "x6            -0.1214      0.077     -1.569      0.117      -0.273       0.030\n",
      "x7             0.0417      0.080      0.524      0.600      -0.114       0.198\n",
      "x8             0.1177      0.077      1.521      0.128      -0.034       0.269\n",
      "==============================================================================\n",
      "Omnibus:                    30277.512   Durbin-Watson:                   0.846\n",
      "Prob(Omnibus):                  0.000   Jarque-Bera (JB):          1051614.855\n",
      "Skew:                           3.674   Prob(JB):                         0.00\n",
      "Kurtosis:                      27.881   Cond. No.                         1.28\n",
      "==============================================================================\n",
      "\n",
      "Notes:\n",
      "[1] R² is computed without centering (uncentered) since the model does not contain a constant.\n",
      "[2] Standard Errors assume that the covariance matrix of the errors is correctly specified.\n"
     ]
    }
   ],
   "source": [
    "linreg1=sm.OLS(ytrain,xtrain_sc).fit()\n",
    "print(linreg1.summary())"
   ]
  },
  {
   "cell_type": "code",
   "execution_count": 42,
   "id": "83ec2a44",
   "metadata": {},
   "outputs": [
    {
     "data": {
      "text/plain": [
       "array([-0.08659468, -1.10428582,  0.83463988, ...,  2.0491283 ,\n",
       "        0.48462704,  0.39846243])"
      ]
     },
     "execution_count": 42,
     "metadata": {},
     "output_type": "execute_result"
    }
   ],
   "source": [
    "ypred1=linreg1.predict(xtest_sc)\n",
    "ypred1"
   ]
  },
  {
   "cell_type": "code",
   "execution_count": 43,
   "id": "a1c7d0bc",
   "metadata": {},
   "outputs": [
    {
     "data": {
      "text/plain": [
       "14.557039216289837"
      ]
     },
     "execution_count": 43,
     "metadata": {},
     "output_type": "execute_result"
    }
   ],
   "source": [
    "mse1=mean_squared_error(ytest,ypred1)\n",
    "rmse1=np.sqrt(mse1)\n",
    "rmse1"
   ]
  },
  {
   "cell_type": "code",
   "execution_count": null,
   "id": "cfc051b3",
   "metadata": {},
   "outputs": [],
   "source": []
  }
 ],
 "metadata": {
  "kernelspec": {
   "display_name": "Python 3",
   "language": "python",
   "name": "python3"
  },
  "language_info": {
   "codemirror_mode": {
    "name": "ipython",
    "version": 3
   },
   "file_extension": ".py",
   "mimetype": "text/x-python",
   "name": "python",
   "nbconvert_exporter": "python",
   "pygments_lexer": "ipython3",
   "version": "3.8.8"
  }
 },
 "nbformat": 4,
 "nbformat_minor": 5
}
