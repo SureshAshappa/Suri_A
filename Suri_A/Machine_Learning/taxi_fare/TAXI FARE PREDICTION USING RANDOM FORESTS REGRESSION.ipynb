{
 "cells": [
  {
   "cell_type": "code",
   "execution_count": 1,
   "id": "89270c35",
   "metadata": {},
   "outputs": [],
   "source": [
    "import numpy as np\n",
    "import pandas as pd"
   ]
  },
  {
   "cell_type": "code",
   "execution_count": 2,
   "id": "9fc80be8",
   "metadata": {},
   "outputs": [],
   "source": [
    "import os\n",
    "os.chdir('C:\\\\Post Graduate Course in Data Analytics\\\\MACHINE LEARNING\\\\RANDOM FORESTS\\\\TaxiFarePrediction\\\\Dataset')"
   ]
  },
  {
   "cell_type": "code",
   "execution_count": 3,
   "id": "3d4bccfc",
   "metadata": {},
   "outputs": [
    {
     "data": {
      "text/html": [
       "<div>\n",
       "<style scoped>\n",
       "    .dataframe tbody tr th:only-of-type {\n",
       "        vertical-align: middle;\n",
       "    }\n",
       "\n",
       "    .dataframe tbody tr th {\n",
       "        vertical-align: top;\n",
       "    }\n",
       "\n",
       "    .dataframe thead th {\n",
       "        text-align: right;\n",
       "    }\n",
       "</style>\n",
       "<table border=\"1\" class=\"dataframe\">\n",
       "  <thead>\n",
       "    <tr style=\"text-align: right;\">\n",
       "      <th></th>\n",
       "      <th>unique_id</th>\n",
       "      <th>amount</th>\n",
       "      <th>date_time_of_pickup</th>\n",
       "      <th>longitude_of_pickup</th>\n",
       "      <th>latitude_of_pickup</th>\n",
       "      <th>longitude_of_dropoff</th>\n",
       "      <th>latitude_of_dropoff</th>\n",
       "      <th>no_of_passenger</th>\n",
       "    </tr>\n",
       "  </thead>\n",
       "  <tbody>\n",
       "    <tr>\n",
       "      <th>0</th>\n",
       "      <td>26:21.0</td>\n",
       "      <td>4.5</td>\n",
       "      <td>2009-06-15 17:26:21 UTC</td>\n",
       "      <td>-73.844311</td>\n",
       "      <td>40.721319</td>\n",
       "      <td>-73.841610</td>\n",
       "      <td>40.712278</td>\n",
       "      <td>1</td>\n",
       "    </tr>\n",
       "    <tr>\n",
       "      <th>1</th>\n",
       "      <td>52:16.0</td>\n",
       "      <td>16.9</td>\n",
       "      <td>2010-01-05 16:52:16 UTC</td>\n",
       "      <td>-74.016048</td>\n",
       "      <td>40.711303</td>\n",
       "      <td>-73.979268</td>\n",
       "      <td>40.782004</td>\n",
       "      <td>1</td>\n",
       "    </tr>\n",
       "    <tr>\n",
       "      <th>2</th>\n",
       "      <td>35:00.0</td>\n",
       "      <td>5.7</td>\n",
       "      <td>2011-08-18 00:35:00 UTC</td>\n",
       "      <td>-73.982738</td>\n",
       "      <td>40.761270</td>\n",
       "      <td>-73.991242</td>\n",
       "      <td>40.750562</td>\n",
       "      <td>2</td>\n",
       "    </tr>\n",
       "    <tr>\n",
       "      <th>3</th>\n",
       "      <td>30:42.0</td>\n",
       "      <td>7.7</td>\n",
       "      <td>2012-04-21 04:30:42 UTC</td>\n",
       "      <td>-73.987130</td>\n",
       "      <td>40.733143</td>\n",
       "      <td>-73.991567</td>\n",
       "      <td>40.758092</td>\n",
       "      <td>1</td>\n",
       "    </tr>\n",
       "    <tr>\n",
       "      <th>4</th>\n",
       "      <td>51:00.0</td>\n",
       "      <td>5.3</td>\n",
       "      <td>2010-03-09 07:51:00 UTC</td>\n",
       "      <td>-73.968095</td>\n",
       "      <td>40.768008</td>\n",
       "      <td>-73.956655</td>\n",
       "      <td>40.783762</td>\n",
       "      <td>1</td>\n",
       "    </tr>\n",
       "    <tr>\n",
       "      <th>...</th>\n",
       "      <td>...</td>\n",
       "      <td>...</td>\n",
       "      <td>...</td>\n",
       "      <td>...</td>\n",
       "      <td>...</td>\n",
       "      <td>...</td>\n",
       "      <td>...</td>\n",
       "      <td>...</td>\n",
       "    </tr>\n",
       "    <tr>\n",
       "      <th>49995</th>\n",
       "      <td>25:15.0</td>\n",
       "      <td>15.0</td>\n",
       "      <td>2013-06-12 23:25:15 UTC</td>\n",
       "      <td>-73.999973</td>\n",
       "      <td>40.748531</td>\n",
       "      <td>-74.016899</td>\n",
       "      <td>40.705993</td>\n",
       "      <td>1</td>\n",
       "    </tr>\n",
       "    <tr>\n",
       "      <th>49996</th>\n",
       "      <td>19:18.0</td>\n",
       "      <td>7.5</td>\n",
       "      <td>2015-06-22 17:19:18 UTC</td>\n",
       "      <td>-73.984756</td>\n",
       "      <td>40.768211</td>\n",
       "      <td>-73.987366</td>\n",
       "      <td>40.760597</td>\n",
       "      <td>1</td>\n",
       "    </tr>\n",
       "    <tr>\n",
       "      <th>49997</th>\n",
       "      <td>53:00.0</td>\n",
       "      <td>6.9</td>\n",
       "      <td>2011-01-30 04:53:00 UTC</td>\n",
       "      <td>-74.002698</td>\n",
       "      <td>40.739428</td>\n",
       "      <td>-73.998108</td>\n",
       "      <td>40.759483</td>\n",
       "      <td>1</td>\n",
       "    </tr>\n",
       "    <tr>\n",
       "      <th>49998</th>\n",
       "      <td>09:00.0</td>\n",
       "      <td>4.5</td>\n",
       "      <td>2012-11-06 07:09:00 UTC</td>\n",
       "      <td>-73.946062</td>\n",
       "      <td>40.777567</td>\n",
       "      <td>-73.953450</td>\n",
       "      <td>40.779687</td>\n",
       "      <td>2</td>\n",
       "    </tr>\n",
       "    <tr>\n",
       "      <th>49999</th>\n",
       "      <td>13:14.0</td>\n",
       "      <td>10.9</td>\n",
       "      <td>2010-01-13 08:13:14 UTC</td>\n",
       "      <td>-73.932603</td>\n",
       "      <td>40.763805</td>\n",
       "      <td>-73.932603</td>\n",
       "      <td>40.763805</td>\n",
       "      <td>1</td>\n",
       "    </tr>\n",
       "  </tbody>\n",
       "</table>\n",
       "<p>50000 rows × 8 columns</p>\n",
       "</div>"
      ],
      "text/plain": [
       "      unique_id  amount      date_time_of_pickup  longitude_of_pickup  \\\n",
       "0       26:21.0     4.5  2009-06-15 17:26:21 UTC           -73.844311   \n",
       "1       52:16.0    16.9  2010-01-05 16:52:16 UTC           -74.016048   \n",
       "2       35:00.0     5.7  2011-08-18 00:35:00 UTC           -73.982738   \n",
       "3       30:42.0     7.7  2012-04-21 04:30:42 UTC           -73.987130   \n",
       "4       51:00.0     5.3  2010-03-09 07:51:00 UTC           -73.968095   \n",
       "...         ...     ...                      ...                  ...   \n",
       "49995   25:15.0    15.0  2013-06-12 23:25:15 UTC           -73.999973   \n",
       "49996   19:18.0     7.5  2015-06-22 17:19:18 UTC           -73.984756   \n",
       "49997   53:00.0     6.9  2011-01-30 04:53:00 UTC           -74.002698   \n",
       "49998   09:00.0     4.5  2012-11-06 07:09:00 UTC           -73.946062   \n",
       "49999   13:14.0    10.9  2010-01-13 08:13:14 UTC           -73.932603   \n",
       "\n",
       "       latitude_of_pickup  longitude_of_dropoff  latitude_of_dropoff  \\\n",
       "0               40.721319            -73.841610            40.712278   \n",
       "1               40.711303            -73.979268            40.782004   \n",
       "2               40.761270            -73.991242            40.750562   \n",
       "3               40.733143            -73.991567            40.758092   \n",
       "4               40.768008            -73.956655            40.783762   \n",
       "...                   ...                   ...                  ...   \n",
       "49995           40.748531            -74.016899            40.705993   \n",
       "49996           40.768211            -73.987366            40.760597   \n",
       "49997           40.739428            -73.998108            40.759483   \n",
       "49998           40.777567            -73.953450            40.779687   \n",
       "49999           40.763805            -73.932603            40.763805   \n",
       "\n",
       "       no_of_passenger  \n",
       "0                    1  \n",
       "1                    1  \n",
       "2                    2  \n",
       "3                    1  \n",
       "4                    1  \n",
       "...                ...  \n",
       "49995                1  \n",
       "49996                1  \n",
       "49997                1  \n",
       "49998                2  \n",
       "49999                1  \n",
       "\n",
       "[50000 rows x 8 columns]"
      ]
     },
     "execution_count": 3,
     "metadata": {},
     "output_type": "execute_result"
    }
   ],
   "source": [
    "df_taxi=pd.read_csv('TaxiFare.csv')\n",
    "df_taxi"
   ]
  },
  {
   "cell_type": "code",
   "execution_count": 4,
   "id": "e2be988b",
   "metadata": {},
   "outputs": [
    {
     "name": "stdout",
     "output_type": "stream",
     "text": [
      "<class 'pandas.core.frame.DataFrame'>\n",
      "RangeIndex: 50000 entries, 0 to 49999\n",
      "Data columns (total 8 columns):\n",
      " #   Column                Non-Null Count  Dtype  \n",
      "---  ------                --------------  -----  \n",
      " 0   unique_id             50000 non-null  object \n",
      " 1   amount                50000 non-null  float64\n",
      " 2   date_time_of_pickup   50000 non-null  object \n",
      " 3   longitude_of_pickup   50000 non-null  float64\n",
      " 4   latitude_of_pickup    50000 non-null  float64\n",
      " 5   longitude_of_dropoff  50000 non-null  float64\n",
      " 6   latitude_of_dropoff   50000 non-null  float64\n",
      " 7   no_of_passenger       50000 non-null  int64  \n",
      "dtypes: float64(5), int64(1), object(2)\n",
      "memory usage: 3.1+ MB\n"
     ]
    }
   ],
   "source": [
    "df_taxi.info()"
   ]
  },
  {
   "cell_type": "code",
   "execution_count": 5,
   "id": "4034bf17",
   "metadata": {},
   "outputs": [],
   "source": [
    "import matplotlib.pyplot as plt\n",
    "import seaborn as sns"
   ]
  },
  {
   "cell_type": "code",
   "execution_count": 6,
   "id": "b7e52755",
   "metadata": {},
   "outputs": [],
   "source": [
    "df_taxi.drop('unique_id',axis=1,inplace=True)"
   ]
  },
  {
   "cell_type": "code",
   "execution_count": 7,
   "id": "0f156a19",
   "metadata": {},
   "outputs": [
    {
     "data": {
      "text/html": [
       "<div>\n",
       "<style scoped>\n",
       "    .dataframe tbody tr th:only-of-type {\n",
       "        vertical-align: middle;\n",
       "    }\n",
       "\n",
       "    .dataframe tbody tr th {\n",
       "        vertical-align: top;\n",
       "    }\n",
       "\n",
       "    .dataframe thead th {\n",
       "        text-align: right;\n",
       "    }\n",
       "</style>\n",
       "<table border=\"1\" class=\"dataframe\">\n",
       "  <thead>\n",
       "    <tr style=\"text-align: right;\">\n",
       "      <th></th>\n",
       "      <th>amount</th>\n",
       "      <th>date_time_of_pickup</th>\n",
       "      <th>longitude_of_pickup</th>\n",
       "      <th>latitude_of_pickup</th>\n",
       "      <th>longitude_of_dropoff</th>\n",
       "      <th>latitude_of_dropoff</th>\n",
       "      <th>no_of_passenger</th>\n",
       "    </tr>\n",
       "  </thead>\n",
       "  <tbody>\n",
       "    <tr>\n",
       "      <th>0</th>\n",
       "      <td>4.5</td>\n",
       "      <td>2009-06-15 17:26:21 UTC</td>\n",
       "      <td>-73.844311</td>\n",
       "      <td>40.721319</td>\n",
       "      <td>-73.841610</td>\n",
       "      <td>40.712278</td>\n",
       "      <td>1</td>\n",
       "    </tr>\n",
       "    <tr>\n",
       "      <th>1</th>\n",
       "      <td>16.9</td>\n",
       "      <td>2010-01-05 16:52:16 UTC</td>\n",
       "      <td>-74.016048</td>\n",
       "      <td>40.711303</td>\n",
       "      <td>-73.979268</td>\n",
       "      <td>40.782004</td>\n",
       "      <td>1</td>\n",
       "    </tr>\n",
       "    <tr>\n",
       "      <th>2</th>\n",
       "      <td>5.7</td>\n",
       "      <td>2011-08-18 00:35:00 UTC</td>\n",
       "      <td>-73.982738</td>\n",
       "      <td>40.761270</td>\n",
       "      <td>-73.991242</td>\n",
       "      <td>40.750562</td>\n",
       "      <td>2</td>\n",
       "    </tr>\n",
       "    <tr>\n",
       "      <th>3</th>\n",
       "      <td>7.7</td>\n",
       "      <td>2012-04-21 04:30:42 UTC</td>\n",
       "      <td>-73.987130</td>\n",
       "      <td>40.733143</td>\n",
       "      <td>-73.991567</td>\n",
       "      <td>40.758092</td>\n",
       "      <td>1</td>\n",
       "    </tr>\n",
       "    <tr>\n",
       "      <th>4</th>\n",
       "      <td>5.3</td>\n",
       "      <td>2010-03-09 07:51:00 UTC</td>\n",
       "      <td>-73.968095</td>\n",
       "      <td>40.768008</td>\n",
       "      <td>-73.956655</td>\n",
       "      <td>40.783762</td>\n",
       "      <td>1</td>\n",
       "    </tr>\n",
       "  </tbody>\n",
       "</table>\n",
       "</div>"
      ],
      "text/plain": [
       "   amount      date_time_of_pickup  longitude_of_pickup  latitude_of_pickup  \\\n",
       "0     4.5  2009-06-15 17:26:21 UTC           -73.844311           40.721319   \n",
       "1    16.9  2010-01-05 16:52:16 UTC           -74.016048           40.711303   \n",
       "2     5.7  2011-08-18 00:35:00 UTC           -73.982738           40.761270   \n",
       "3     7.7  2012-04-21 04:30:42 UTC           -73.987130           40.733143   \n",
       "4     5.3  2010-03-09 07:51:00 UTC           -73.968095           40.768008   \n",
       "\n",
       "   longitude_of_dropoff  latitude_of_dropoff  no_of_passenger  \n",
       "0            -73.841610            40.712278                1  \n",
       "1            -73.979268            40.782004                1  \n",
       "2            -73.991242            40.750562                2  \n",
       "3            -73.991567            40.758092                1  \n",
       "4            -73.956655            40.783762                1  "
      ]
     },
     "execution_count": 7,
     "metadata": {},
     "output_type": "execute_result"
    }
   ],
   "source": [
    "df_taxi.head()"
   ]
  },
  {
   "cell_type": "code",
   "execution_count": 8,
   "id": "91a33509",
   "metadata": {},
   "outputs": [
    {
     "name": "stdout",
     "output_type": "stream",
     "text": [
      "Index(['date_time_of_pickup'], dtype='object')\n",
      "Index(['amount', 'longitude_of_pickup', 'latitude_of_pickup',\n",
      "       'longitude_of_dropoff', 'latitude_of_dropoff', 'no_of_passenger'],\n",
      "      dtype='object')\n"
     ]
    }
   ],
   "source": [
    "categorical=df_taxi.select_dtypes('object')\n",
    "numerical=df_taxi.select_dtypes(np.number)\n",
    "print(categorical.columns)\n",
    "print(numerical.columns)"
   ]
  },
  {
   "cell_type": "code",
   "execution_count": 9,
   "id": "aa8c0122",
   "metadata": {},
   "outputs": [
    {
     "data": {
      "image/png": "[encoded data removed]",
      "text/plain": [
       "<Figure size 432x288 with 1 Axes>"
      ]
     },
     "metadata": {
      "needs_background": "light"
     },
     "output_type": "display_data"
    },
    {
     "data": {
      "image/png": "[encoded data removed]",
      "text/plain": [
       "<Figure size 432x288 with 1 Axes>"
      ]
     },
     "metadata": {
      "needs_background": "light"
     },
     "output_type": "display_data"
    },
    {
     "data": {
      "image/png": "[encoded data removed]",
      "text/plain": [
       "<Figure size 432x288 with 1 Axes>"
      ]
     },
     "metadata": {
      "needs_background": "light"
     },
     "output_type": "display_data"
    },
    {
     "data": {
      "image/png": "[encoded data removed]",
      "text/plain": [
       "<Figure size 432x288 with 1 Axes>"
      ]
     },
     "metadata": {
      "needs_background": "light"
     },
     "output_type": "display_data"
    },
    {
     "data": {
      "image/png": "[encoded data removed]",
      "text/plain": [
       "<Figure size 432x288 with 1 Axes>"
      ]
     },
     "metadata": {
      "needs_background": "light"
     },
     "output_type": "display_data"
    },
    {
     "data": {
      "image/png": "[encoded data removed]",
      "text/plain": [
       "<Figure size 432x288 with 1 Axes>"
      ]
     },
     "metadata": {
      "needs_background": "light"
     },
     "output_type": "display_data"
    }
   ],
   "source": [
    "for x in numerical.columns:\n",
    "    plt.hist(x=x,data=df_taxi)\n",
    "    plt.xlabel(x)\n",
    "    plt.show()"
   ]
  },
  {
   "cell_type": "code",
   "execution_count": 10,
   "id": "75fc4d84",
   "metadata": {},
   "outputs": [
    {
     "data": {
      "text/plain": [
       "2011-09-03 01:30:00 UTC    3\n",
       "2014-05-30 23:38:00 UTC    3\n",
       "2011-02-11 13:19:00 UTC    3\n",
       "2012-06-28 20:54:00 UTC    3\n",
       "2010-11-05 23:54:00 UTC    2\n",
       "                          ..\n",
       "2011-03-23 19:54:22 UTC    1\n",
       "2012-09-23 12:25:34 UTC    1\n",
       "2011-12-06 09:33:35 UTC    1\n",
       "2011-02-07 16:04:00 UTC    1\n",
       "2014-05-15 12:33:00 UTC    1\n",
       "Name: date_time_of_pickup, Length: 49555, dtype: int64"
      ]
     },
     "execution_count": 10,
     "metadata": {},
     "output_type": "execute_result"
    }
   ],
   "source": [
    "df_taxi.date_time_of_pickup.value_counts()"
   ]
  },
  {
   "cell_type": "code",
   "execution_count": 11,
   "id": "489c3258",
   "metadata": {},
   "outputs": [
    {
     "data": {
      "image/png": "[encoded data removed]",
      "text/plain": [
       "<Figure size 432x288 with 1 Axes>"
      ]
     },
     "metadata": {
      "needs_background": "light"
     },
     "output_type": "display_data"
    },
    {
     "data": {
      "image/png": "[encoded data removed]",
      "text/plain": [
       "<Figure size 432x288 with 1 Axes>"
      ]
     },
     "metadata": {
      "needs_background": "light"
     },
     "output_type": "display_data"
    },
    {
     "data": {
      "image/png": "[encoded data removed]",
      "text/plain": [
       "<Figure size 432x288 with 1 Axes>"
      ]
     },
     "metadata": {
      "needs_background": "light"
     },
     "output_type": "display_data"
    },
    {
     "data": {
      "image/png": "[encoded data removed]",
      "text/plain": [
       "<Figure size 432x288 with 1 Axes>"
      ]
     },
     "metadata": {
      "needs_background": "light"
     },
     "output_type": "display_data"
    },
    {
     "data": {
      "image/png": "[encoded data removed]",
      "text/plain": [
       "<Figure size 432x288 with 1 Axes>"
      ]
     },
     "metadata": {
      "needs_background": "light"
     },
     "output_type": "display_data"
    },
    {
     "data": {
      "image/png": "[encoded data removed]",
      "text/plain": [
       "<Figure size 432x288 with 1 Axes>"
      ]
     },
     "metadata": {
      "needs_background": "light"
     },
     "output_type": "display_data"
    }
   ],
   "source": [
    "for x in numerical.columns:\n",
    "    df_taxi[x].plot.box(patch_artist=False,vert=False)\n",
    "    plt.show()"
   ]
  },
  {
   "cell_type": "code",
   "execution_count": 12,
   "id": "e050069c",
   "metadata": {},
   "outputs": [],
   "source": [
    "from scipy import stats"
   ]
  },
  {
   "cell_type": "code",
   "execution_count": 13,
   "id": "36881fd7",
   "metadata": {},
   "outputs": [
    {
     "name": "stdout",
     "output_type": "stream",
     "text": [
      "6.5\n"
     ]
    }
   ],
   "source": [
    "IQR_amt=stats.iqr(df_taxi.amount)\n",
    "print(IQR_amt)"
   ]
  },
  {
   "cell_type": "code",
   "execution_count": 14,
   "id": "33cfc975",
   "metadata": {},
   "outputs": [
    {
     "name": "stdout",
     "output_type": "stream",
     "text": [
      "22.25\n"
     ]
    }
   ],
   "source": [
    "uplim=df_taxi.amount.quantile(0.75)+(IQR_amt*1.5)\n",
    "print(uplim)"
   ]
  },
  {
   "cell_type": "code",
   "execution_count": 15,
   "id": "ced3a676",
   "metadata": {},
   "outputs": [
    {
     "name": "stdout",
     "output_type": "stream",
     "text": [
      "4364\n"
     ]
    }
   ],
   "source": [
    "print(len(df_taxi[df_taxi.amount>uplim]))"
   ]
  },
  {
   "cell_type": "code",
   "execution_count": 16,
   "id": "1677365b",
   "metadata": {},
   "outputs": [
    {
     "name": "stdout",
     "output_type": "stream",
     "text": [
      "1.0\n"
     ]
    }
   ],
   "source": [
    "IQR_pass=stats.iqr(df_taxi.no_of_passenger)\n",
    "print(IQR_pass)"
   ]
  },
  {
   "cell_type": "code",
   "execution_count": 17,
   "id": "7f063ebd",
   "metadata": {},
   "outputs": [
    {
     "name": "stdout",
     "output_type": "stream",
     "text": [
      "3.5\n"
     ]
    }
   ],
   "source": [
    "uplim1=df_taxi.no_of_passenger.quantile(0.75)+(IQR_pass*1.5)\n",
    "print(uplim1)"
   ]
  },
  {
   "cell_type": "code",
   "execution_count": 18,
   "id": "f5ad0653",
   "metadata": {},
   "outputs": [
    {
     "name": "stdout",
     "output_type": "stream",
     "text": [
      "5458\n"
     ]
    }
   ],
   "source": [
    "print(len(df_taxi[df_taxi.no_of_passenger>uplim1]))"
   ]
  },
  {
   "cell_type": "code",
   "execution_count": 19,
   "id": "d07ff2b5",
   "metadata": {},
   "outputs": [],
   "source": [
    "df_taxi['date_time_of_pickup']=df_taxi['date_time_of_pickup'].astype('datetime64[ns]')"
   ]
  },
  {
   "cell_type": "code",
   "execution_count": 20,
   "id": "bcf9aa0f",
   "metadata": {},
   "outputs": [],
   "source": [
    "df_taxi['Year_of_Pickup']=df_taxi.date_time_of_pickup.dt.year"
   ]
  },
  {
   "cell_type": "code",
   "execution_count": 21,
   "id": "172e1b35",
   "metadata": {},
   "outputs": [],
   "source": [
    "df_taxi['Month_of_Pickup']=df_taxi.date_time_of_pickup.dt.month"
   ]
  },
  {
   "cell_type": "code",
   "execution_count": 22,
   "id": "629f11cb",
   "metadata": {},
   "outputs": [],
   "source": [
    "df_taxi['Date_of_Pickup']=df_taxi.date_time_of_pickup.dt.day"
   ]
  },
  {
   "cell_type": "code",
   "execution_count": 23,
   "id": "32f68eb9",
   "metadata": {},
   "outputs": [],
   "source": [
    "df_taxi['Hour_of_Pickup']=df_taxi.date_time_of_pickup.dt.hour"
   ]
  },
  {
   "cell_type": "code",
   "execution_count": 24,
   "id": "b270baaa",
   "metadata": {},
   "outputs": [],
   "source": [
    "df_taxi['Minute_of_Pickup']=df_taxi.date_time_of_pickup.dt.minute"
   ]
  },
  {
   "cell_type": "code",
   "execution_count": 25,
   "id": "7862e605",
   "metadata": {},
   "outputs": [],
   "source": [
    "df_taxi['Second_of_Pickup']=df_taxi.date_time_of_pickup.dt.second"
   ]
  },
  {
   "cell_type": "code",
   "execution_count": 26,
   "id": "926bb336",
   "metadata": {},
   "outputs": [],
   "source": [
    "df_taxi['Longitudinal_Distance']=df_taxi['longitude_of_pickup']-df_taxi['longitude_of_dropoff']\n",
    "df_taxi['Latitudinal_Distance']=df_taxi['latitude_of_pickup']-df_taxi['latitude_of_dropoff']"
   ]
  },
  {
   "cell_type": "code",
   "execution_count": 61,
   "id": "9ba96a82",
   "metadata": {},
   "outputs": [
    {
     "data": {
      "text/html": [
       "<div>\n",
       "<style scoped>\n",
       "    .dataframe tbody tr th:only-of-type {\n",
       "        vertical-align: middle;\n",
       "    }\n",
       "\n",
       "    .dataframe tbody tr th {\n",
       "        vertical-align: top;\n",
       "    }\n",
       "\n",
       "    .dataframe thead th {\n",
       "        text-align: right;\n",
       "    }\n",
       "</style>\n",
       "<table border=\"1\" class=\"dataframe\">\n",
       "  <thead>\n",
       "    <tr style=\"text-align: right;\">\n",
       "      <th></th>\n",
       "      <th>amount</th>\n",
       "      <th>date_time_of_pickup</th>\n",
       "      <th>longitude_of_pickup</th>\n",
       "      <th>latitude_of_pickup</th>\n",
       "      <th>longitude_of_dropoff</th>\n",
       "      <th>latitude_of_dropoff</th>\n",
       "      <th>no_of_passenger</th>\n",
       "      <th>Year_of_Pickup</th>\n",
       "      <th>Month_of_Pickup</th>\n",
       "      <th>Date_of_Pickup</th>\n",
       "      <th>Hour_of_Pickup</th>\n",
       "      <th>Minute_of_Pickup</th>\n",
       "      <th>Second_of_Pickup</th>\n",
       "      <th>Distance_Travelled</th>\n",
       "    </tr>\n",
       "  </thead>\n",
       "  <tbody>\n",
       "    <tr>\n",
       "      <th>0</th>\n",
       "      <td>4.5</td>\n",
       "      <td>2009-06-15 17:26:21</td>\n",
       "      <td>-73.844311</td>\n",
       "      <td>40.721319</td>\n",
       "      <td>-73.841610</td>\n",
       "      <td>40.712278</td>\n",
       "      <td>1</td>\n",
       "      <td>2009</td>\n",
       "      <td>6</td>\n",
       "      <td>15</td>\n",
       "      <td>17</td>\n",
       "      <td>26</td>\n",
       "      <td>21</td>\n",
       "      <td>0.640487</td>\n",
       "    </tr>\n",
       "    <tr>\n",
       "      <th>1</th>\n",
       "      <td>16.9</td>\n",
       "      <td>2010-01-05 16:52:16</td>\n",
       "      <td>-74.016048</td>\n",
       "      <td>40.711303</td>\n",
       "      <td>-73.979268</td>\n",
       "      <td>40.782004</td>\n",
       "      <td>1</td>\n",
       "      <td>2010</td>\n",
       "      <td>1</td>\n",
       "      <td>5</td>\n",
       "      <td>16</td>\n",
       "      <td>52</td>\n",
       "      <td>16</td>\n",
       "      <td>5.250670</td>\n",
       "    </tr>\n",
       "    <tr>\n",
       "      <th>2</th>\n",
       "      <td>5.7</td>\n",
       "      <td>2011-08-18 00:35:00</td>\n",
       "      <td>-73.982738</td>\n",
       "      <td>40.761270</td>\n",
       "      <td>-73.991242</td>\n",
       "      <td>40.750562</td>\n",
       "      <td>2</td>\n",
       "      <td>2011</td>\n",
       "      <td>8</td>\n",
       "      <td>18</td>\n",
       "      <td>0</td>\n",
       "      <td>35</td>\n",
       "      <td>0</td>\n",
       "      <td>0.863411</td>\n",
       "    </tr>\n",
       "    <tr>\n",
       "      <th>3</th>\n",
       "      <td>7.7</td>\n",
       "      <td>2012-04-21 04:30:42</td>\n",
       "      <td>-73.987130</td>\n",
       "      <td>40.733143</td>\n",
       "      <td>-73.991567</td>\n",
       "      <td>40.758092</td>\n",
       "      <td>1</td>\n",
       "      <td>2012</td>\n",
       "      <td>4</td>\n",
       "      <td>21</td>\n",
       "      <td>4</td>\n",
       "      <td>30</td>\n",
       "      <td>42</td>\n",
       "      <td>1.739386</td>\n",
       "    </tr>\n",
       "    <tr>\n",
       "      <th>4</th>\n",
       "      <td>5.3</td>\n",
       "      <td>2010-03-09 07:51:00</td>\n",
       "      <td>-73.968095</td>\n",
       "      <td>40.768008</td>\n",
       "      <td>-73.956655</td>\n",
       "      <td>40.783762</td>\n",
       "      <td>1</td>\n",
       "      <td>2010</td>\n",
       "      <td>3</td>\n",
       "      <td>9</td>\n",
       "      <td>7</td>\n",
       "      <td>51</td>\n",
       "      <td>0</td>\n",
       "      <td>1.242218</td>\n",
       "    </tr>\n",
       "  </tbody>\n",
       "</table>\n",
       "</div>"
      ],
      "text/plain": [
       "   amount date_time_of_pickup  longitude_of_pickup  latitude_of_pickup  \\\n",
       "0     4.5 2009-06-15 17:26:21           -73.844311           40.721319   \n",
       "1    16.9 2010-01-05 16:52:16           -74.016048           40.711303   \n",
       "2     5.7 2011-08-18 00:35:00           -73.982738           40.761270   \n",
       "3     7.7 2012-04-21 04:30:42           -73.987130           40.733143   \n",
       "4     5.3 2010-03-09 07:51:00           -73.968095           40.768008   \n",
       "\n",
       "   longitude_of_dropoff  latitude_of_dropoff  no_of_passenger  Year_of_Pickup  \\\n",
       "0            -73.841610            40.712278                1            2009   \n",
       "1            -73.979268            40.782004                1            2010   \n",
       "2            -73.991242            40.750562                2            2011   \n",
       "3            -73.991567            40.758092                1            2012   \n",
       "4            -73.956655            40.783762                1            2010   \n",
       "\n",
       "   Month_of_Pickup  Date_of_Pickup  Hour_of_Pickup  Minute_of_Pickup  \\\n",
       "0                6              15              17                26   \n",
       "1                1               5              16                52   \n",
       "2                8              18               0                35   \n",
       "3                4              21               4                30   \n",
       "4                3               9               7                51   \n",
       "\n",
       "   Second_of_Pickup  Distance_Travelled  \n",
       "0                21            0.640487  \n",
       "1                16            5.250670  \n",
       "2                 0            0.863411  \n",
       "3                42            1.739386  \n",
       "4                 0            1.242218  "
      ]
     },
     "execution_count": 61,
     "metadata": {},
     "output_type": "execute_result"
    }
   ],
   "source": [
    "df_taxi.head()"
   ]
  },
  {
   "cell_type": "code",
   "execution_count": 28,
   "id": "042bca86",
   "metadata": {},
   "outputs": [
    {
     "data": {
      "image/png": "[encoded data removed]",
      "text/plain": [
       "<Figure size 432x288 with 1 Axes>"
      ]
     },
     "metadata": {
      "needs_background": "light"
     },
     "output_type": "display_data"
    }
   ],
   "source": [
    "plt.hist(df_taxi.amount,bins='auto')\n",
    "plt.show()"
   ]
  },
  {
   "cell_type": "code",
   "execution_count": 29,
   "id": "d2f47ce7",
   "metadata": {},
   "outputs": [
    {
     "data": {
      "text/plain": [
       "<AxesSubplot:>"
      ]
     },
     "execution_count": 29,
     "metadata": {},
     "output_type": "execute_result"
    },
    {
     "data": {
      "image/png": "[encoded data removed]",
      "text/plain": [
       "<Figure size 432x288 with 1 Axes>"
      ]
     },
     "metadata": {
      "needs_background": "light"
     },
     "output_type": "display_data"
    }
   ],
   "source": [
    "props2 = dict(boxes = 'red', whiskers = 'green', medians = 'black', caps = 'red')\n",
    "df_taxi.amount.plot.box(color=props2, patch_artist = True, vert = False)"
   ]
  },
  {
   "cell_type": "code",
   "execution_count": 30,
   "id": "19619322",
   "metadata": {},
   "outputs": [
    {
     "name": "stdout",
     "output_type": "stream",
     "text": [
      "6\n",
      "5\n",
      "16\n",
      "636\n"
     ]
    }
   ],
   "source": [
    "print(len(df_taxi.amount[df_taxi.amount <0])) #6\n",
    "print(len(df_taxi.amount[df_taxi.amount >150])) #5\n",
    "print(len(df_taxi.amount[df_taxi.amount >100])) #16\n",
    "print(len(df_taxi.amount[df_taxi.amount >50]))"
   ]
  },
  {
   "cell_type": "code",
   "execution_count": 31,
   "id": "397b9586",
   "metadata": {},
   "outputs": [
    {
     "name": "stdout",
     "output_type": "stream",
     "text": [
      "Taxi Fare paid more than 22 No of passengers : 4413\n",
      "Taxi Fare paid more than 23 No of passengers : 4092\n",
      "Taxi Fare paid more than 24 No of passengers : 3828\n",
      "Taxi Fare paid more than 25 No of passengers : 3576\n",
      "Taxi Fare paid more than 26 No of passengers : 3336\n",
      "Taxi Fare paid more than 27 No of passengers : 3096\n",
      "Taxi Fare paid more than 28 No of passengers : 2931\n",
      "Taxi Fare paid more than 29 No of passengers : 2724\n",
      "Taxi Fare paid more than 30 No of passengers : 2581\n",
      "Taxi Fare paid more than 31 No of passengers : 2380\n"
     ]
    }
   ],
   "source": [
    "for i in range(22,32,1):\n",
    "    df_len=len(df_taxi.amount[df_taxi.amount>i])\n",
    "    print('Taxi Fare paid more than', i , 'No of passengers :', df_len)"
   ]
  },
  {
   "cell_type": "code",
   "execution_count": 32,
   "id": "96968119",
   "metadata": {},
   "outputs": [
    {
     "name": "stdout",
     "output_type": "stream",
     "text": [
      "<class 'pandas.core.frame.DataFrame'>\n",
      "RangeIndex: 50000 entries, 0 to 49999\n",
      "Data columns (total 15 columns):\n",
      " #   Column                 Non-Null Count  Dtype         \n",
      "---  ------                 --------------  -----         \n",
      " 0   amount                 50000 non-null  float64       \n",
      " 1   date_time_of_pickup    50000 non-null  datetime64[ns]\n",
      " 2   longitude_of_pickup    50000 non-null  float64       \n",
      " 3   latitude_of_pickup     50000 non-null  float64       \n",
      " 4   longitude_of_dropoff   50000 non-null  float64       \n",
      " 5   latitude_of_dropoff    50000 non-null  float64       \n",
      " 6   no_of_passenger        50000 non-null  int64         \n",
      " 7   Year_of_Pickup         50000 non-null  int64         \n",
      " 8   Month_of_Pickup        50000 non-null  int64         \n",
      " 9   Date_of_Pickup         50000 non-null  int64         \n",
      " 10  Hour_of_Pickup         50000 non-null  int64         \n",
      " 11  Minute_of_Pickup       50000 non-null  int64         \n",
      " 12  Second_of_Pickup       50000 non-null  int64         \n",
      " 13  Longitudinal_Distance  50000 non-null  float64       \n",
      " 14  Latitudinal_Distance   50000 non-null  float64       \n",
      "dtypes: datetime64[ns](1), float64(7), int64(7)\n",
      "memory usage: 5.7 MB\n"
     ]
    }
   ],
   "source": [
    "df_taxi.info()"
   ]
  },
  {
   "cell_type": "code",
   "execution_count": 33,
   "id": "13129e0c",
   "metadata": {},
   "outputs": [],
   "source": [
    "df_taxi.drop(['Longitudinal_Distance','Latitudinal_Distance'],axis=1,inplace=True)"
   ]
  },
  {
   "cell_type": "code",
   "execution_count": 34,
   "id": "58330402",
   "metadata": {},
   "outputs": [
    {
     "name": "stdout",
     "output_type": "stream",
     "text": [
      "<class 'pandas.core.frame.DataFrame'>\n",
      "RangeIndex: 50000 entries, 0 to 49999\n",
      "Data columns (total 13 columns):\n",
      " #   Column                Non-Null Count  Dtype         \n",
      "---  ------                --------------  -----         \n",
      " 0   amount                50000 non-null  float64       \n",
      " 1   date_time_of_pickup   50000 non-null  datetime64[ns]\n",
      " 2   longitude_of_pickup   50000 non-null  float64       \n",
      " 3   latitude_of_pickup    50000 non-null  float64       \n",
      " 4   longitude_of_dropoff  50000 non-null  float64       \n",
      " 5   latitude_of_dropoff   50000 non-null  float64       \n",
      " 6   no_of_passenger       50000 non-null  int64         \n",
      " 7   Year_of_Pickup        50000 non-null  int64         \n",
      " 8   Month_of_Pickup       50000 non-null  int64         \n",
      " 9   Date_of_Pickup        50000 non-null  int64         \n",
      " 10  Hour_of_Pickup        50000 non-null  int64         \n",
      " 11  Minute_of_Pickup      50000 non-null  int64         \n",
      " 12  Second_of_Pickup      50000 non-null  int64         \n",
      "dtypes: datetime64[ns](1), float64(5), int64(7)\n",
      "memory usage: 5.0 MB\n"
     ]
    }
   ],
   "source": [
    "df_taxi.info()"
   ]
  },
  {
   "cell_type": "code",
   "execution_count": 35,
   "id": "38a4d66e",
   "metadata": {},
   "outputs": [
    {
     "data": {
      "text/plain": [
       "<AxesSubplot:xlabel='Year_of_Pickup', ylabel='count'>"
      ]
     },
     "execution_count": 35,
     "metadata": {},
     "output_type": "execute_result"
    },
    {
     "data": {
      "image/png": "[encoded data removed]",
      "text/plain": [
       "<Figure size 432x288 with 1 Axes>"
      ]
     },
     "metadata": {
      "needs_background": "light"
     },
     "output_type": "display_data"
    }
   ],
   "source": [
    "sns.countplot(x='Year_of_Pickup',data=df_taxi)"
   ]
  },
  {
   "cell_type": "code",
   "execution_count": 36,
   "id": "657aae41",
   "metadata": {},
   "outputs": [
    {
     "data": {
      "text/plain": [
       "2012    8005\n",
       "2011    7832\n",
       "2013    7819\n",
       "2009    7716\n",
       "2010    7646\n",
       "2014    7530\n",
       "2015    3452\n",
       "Name: Year_of_Pickup, dtype: int64"
      ]
     },
     "execution_count": 36,
     "metadata": {},
     "output_type": "execute_result"
    }
   ],
   "source": [
    "df_taxi.Year_of_Pickup.value_counts()"
   ]
  },
  {
   "cell_type": "code",
   "execution_count": 37,
   "id": "438e933e",
   "metadata": {},
   "outputs": [
    {
     "data": {
      "text/plain": [
       "<AxesSubplot:>"
      ]
     },
     "execution_count": 37,
     "metadata": {},
     "output_type": "execute_result"
    },
    {
     "data": {
      "image/png": "[encoded data removed]",
      "text/plain": [
       "<Figure size 432x288 with 1 Axes>"
      ]
     },
     "metadata": {
      "needs_background": "light"
     },
     "output_type": "display_data"
    }
   ],
   "source": [
    "props2=dict(boxes='red',whiskers='green',medians='black',caps='red')\n",
    "df_taxi.Year_of_Pickup.plot.box(color=props2,patch_artist=True,vert=False)"
   ]
  },
  {
   "cell_type": "code",
   "execution_count": 38,
   "id": "23eeae9e",
   "metadata": {},
   "outputs": [
    {
     "data": {
      "text/html": [
       "<div>\n",
       "<style scoped>\n",
       "    .dataframe tbody tr th:only-of-type {\n",
       "        vertical-align: middle;\n",
       "    }\n",
       "\n",
       "    .dataframe tbody tr th {\n",
       "        vertical-align: top;\n",
       "    }\n",
       "\n",
       "    .dataframe thead th {\n",
       "        text-align: right;\n",
       "    }\n",
       "</style>\n",
       "<table border=\"1\" class=\"dataframe\">\n",
       "  <thead>\n",
       "    <tr style=\"text-align: right;\">\n",
       "      <th></th>\n",
       "      <th>count</th>\n",
       "      <th>mean</th>\n",
       "      <th>std</th>\n",
       "      <th>min</th>\n",
       "      <th>25%</th>\n",
       "      <th>50%</th>\n",
       "      <th>75%</th>\n",
       "      <th>max</th>\n",
       "    </tr>\n",
       "    <tr>\n",
       "      <th>Year_of_Pickup</th>\n",
       "      <th></th>\n",
       "      <th></th>\n",
       "      <th></th>\n",
       "      <th></th>\n",
       "      <th></th>\n",
       "      <th></th>\n",
       "      <th></th>\n",
       "      <th></th>\n",
       "    </tr>\n",
       "  </thead>\n",
       "  <tbody>\n",
       "    <tr>\n",
       "      <th>2009</th>\n",
       "      <td>7716.0</td>\n",
       "      <td>10.049168</td>\n",
       "      <td>8.447096</td>\n",
       "      <td>2.5</td>\n",
       "      <td>5.7</td>\n",
       "      <td>7.7</td>\n",
       "      <td>11.3</td>\n",
       "      <td>165.00</td>\n",
       "    </tr>\n",
       "    <tr>\n",
       "      <th>2010</th>\n",
       "      <td>7646.0</td>\n",
       "      <td>10.137180</td>\n",
       "      <td>8.406004</td>\n",
       "      <td>-2.9</td>\n",
       "      <td>5.7</td>\n",
       "      <td>7.7</td>\n",
       "      <td>11.3</td>\n",
       "      <td>143.00</td>\n",
       "    </tr>\n",
       "    <tr>\n",
       "      <th>2011</th>\n",
       "      <td>7832.0</td>\n",
       "      <td>10.465931</td>\n",
       "      <td>8.467032</td>\n",
       "      <td>2.5</td>\n",
       "      <td>5.7</td>\n",
       "      <td>7.7</td>\n",
       "      <td>11.7</td>\n",
       "      <td>96.00</td>\n",
       "    </tr>\n",
       "    <tr>\n",
       "      <th>2012</th>\n",
       "      <td>8005.0</td>\n",
       "      <td>11.228863</td>\n",
       "      <td>9.667937</td>\n",
       "      <td>2.5</td>\n",
       "      <td>6.0</td>\n",
       "      <td>8.5</td>\n",
       "      <td>12.5</td>\n",
       "      <td>200.00</td>\n",
       "    </tr>\n",
       "    <tr>\n",
       "      <th>2013</th>\n",
       "      <td>7819.0</td>\n",
       "      <td>12.439474</td>\n",
       "      <td>10.428842</td>\n",
       "      <td>-3.0</td>\n",
       "      <td>6.5</td>\n",
       "      <td>9.5</td>\n",
       "      <td>14.0</td>\n",
       "      <td>180.00</td>\n",
       "    </tr>\n",
       "    <tr>\n",
       "      <th>2014</th>\n",
       "      <td>7530.0</td>\n",
       "      <td>13.139649</td>\n",
       "      <td>11.311478</td>\n",
       "      <td>2.5</td>\n",
       "      <td>6.5</td>\n",
       "      <td>9.5</td>\n",
       "      <td>15.0</td>\n",
       "      <td>165.00</td>\n",
       "    </tr>\n",
       "    <tr>\n",
       "      <th>2015</th>\n",
       "      <td>3452.0</td>\n",
       "      <td>13.064392</td>\n",
       "      <td>10.799374</td>\n",
       "      <td>-5.0</td>\n",
       "      <td>6.5</td>\n",
       "      <td>9.5</td>\n",
       "      <td>15.0</td>\n",
       "      <td>96.25</td>\n",
       "    </tr>\n",
       "  </tbody>\n",
       "</table>\n",
       "</div>"
      ],
      "text/plain": [
       "                 count       mean        std  min  25%  50%   75%     max\n",
       "Year_of_Pickup                                                           \n",
       "2009            7716.0  10.049168   8.447096  2.5  5.7  7.7  11.3  165.00\n",
       "2010            7646.0  10.137180   8.406004 -2.9  5.7  7.7  11.3  143.00\n",
       "2011            7832.0  10.465931   8.467032  2.5  5.7  7.7  11.7   96.00\n",
       "2012            8005.0  11.228863   9.667937  2.5  6.0  8.5  12.5  200.00\n",
       "2013            7819.0  12.439474  10.428842 -3.0  6.5  9.5  14.0  180.00\n",
       "2014            7530.0  13.139649  11.311478  2.5  6.5  9.5  15.0  165.00\n",
       "2015            3452.0  13.064392  10.799374 -5.0  6.5  9.5  15.0   96.25"
      ]
     },
     "execution_count": 38,
     "metadata": {},
     "output_type": "execute_result"
    }
   ],
   "source": [
    "df_taxi.groupby('Year_of_Pickup')['amount'].describe()"
   ]
  },
  {
   "cell_type": "code",
   "execution_count": 39,
   "id": "28e58199",
   "metadata": {},
   "outputs": [
    {
     "data": {
      "image/png": "[encoded data removed]",
      "text/plain": [
       "<Figure size 432x288 with 1 Axes>"
      ]
     },
     "metadata": {
      "needs_background": "light"
     },
     "output_type": "display_data"
    }
   ],
   "source": [
    "plt.plot(df_taxi.groupby('Month_of_Pickup')['amount'].count())\n",
    "plt.show()"
   ]
  },
  {
   "cell_type": "code",
   "execution_count": 41,
   "id": "595fdfb9",
   "metadata": {},
   "outputs": [
    {
     "data": {
      "text/html": [
       "<div>\n",
       "<style scoped>\n",
       "    .dataframe tbody tr th:only-of-type {\n",
       "        vertical-align: middle;\n",
       "    }\n",
       "\n",
       "    .dataframe tbody tr th {\n",
       "        vertical-align: top;\n",
       "    }\n",
       "\n",
       "    .dataframe thead th {\n",
       "        text-align: right;\n",
       "    }\n",
       "</style>\n",
       "<table border=\"1\" class=\"dataframe\">\n",
       "  <thead>\n",
       "    <tr style=\"text-align: right;\">\n",
       "      <th></th>\n",
       "      <th>amount</th>\n",
       "      <th>date_time_of_pickup</th>\n",
       "      <th>longitude_of_pickup</th>\n",
       "      <th>latitude_of_pickup</th>\n",
       "      <th>longitude_of_dropoff</th>\n",
       "      <th>latitude_of_dropoff</th>\n",
       "      <th>no_of_passenger</th>\n",
       "      <th>Year_of_Pickup</th>\n",
       "      <th>Month_of_Pickup</th>\n",
       "      <th>Date_of_Pickup</th>\n",
       "      <th>Hour_of_Pickup</th>\n",
       "      <th>Minute_of_Pickup</th>\n",
       "      <th>Second_of_Pickup</th>\n",
       "    </tr>\n",
       "  </thead>\n",
       "  <tbody>\n",
       "    <tr>\n",
       "      <th>0</th>\n",
       "      <td>4.5</td>\n",
       "      <td>2009-06-15 17:26:21</td>\n",
       "      <td>-73.844311</td>\n",
       "      <td>40.721319</td>\n",
       "      <td>-73.841610</td>\n",
       "      <td>40.712278</td>\n",
       "      <td>1</td>\n",
       "      <td>2009</td>\n",
       "      <td>6</td>\n",
       "      <td>15</td>\n",
       "      <td>17</td>\n",
       "      <td>26</td>\n",
       "      <td>21</td>\n",
       "    </tr>\n",
       "    <tr>\n",
       "      <th>1</th>\n",
       "      <td>16.9</td>\n",
       "      <td>2010-01-05 16:52:16</td>\n",
       "      <td>-74.016048</td>\n",
       "      <td>40.711303</td>\n",
       "      <td>-73.979268</td>\n",
       "      <td>40.782004</td>\n",
       "      <td>1</td>\n",
       "      <td>2010</td>\n",
       "      <td>1</td>\n",
       "      <td>5</td>\n",
       "      <td>16</td>\n",
       "      <td>52</td>\n",
       "      <td>16</td>\n",
       "    </tr>\n",
       "    <tr>\n",
       "      <th>2</th>\n",
       "      <td>5.7</td>\n",
       "      <td>2011-08-18 00:35:00</td>\n",
       "      <td>-73.982738</td>\n",
       "      <td>40.761270</td>\n",
       "      <td>-73.991242</td>\n",
       "      <td>40.750562</td>\n",
       "      <td>2</td>\n",
       "      <td>2011</td>\n",
       "      <td>8</td>\n",
       "      <td>18</td>\n",
       "      <td>0</td>\n",
       "      <td>35</td>\n",
       "      <td>0</td>\n",
       "    </tr>\n",
       "    <tr>\n",
       "      <th>3</th>\n",
       "      <td>7.7</td>\n",
       "      <td>2012-04-21 04:30:42</td>\n",
       "      <td>-73.987130</td>\n",
       "      <td>40.733143</td>\n",
       "      <td>-73.991567</td>\n",
       "      <td>40.758092</td>\n",
       "      <td>1</td>\n",
       "      <td>2012</td>\n",
       "      <td>4</td>\n",
       "      <td>21</td>\n",
       "      <td>4</td>\n",
       "      <td>30</td>\n",
       "      <td>42</td>\n",
       "    </tr>\n",
       "    <tr>\n",
       "      <th>4</th>\n",
       "      <td>5.3</td>\n",
       "      <td>2010-03-09 07:51:00</td>\n",
       "      <td>-73.968095</td>\n",
       "      <td>40.768008</td>\n",
       "      <td>-73.956655</td>\n",
       "      <td>40.783762</td>\n",
       "      <td>1</td>\n",
       "      <td>2010</td>\n",
       "      <td>3</td>\n",
       "      <td>9</td>\n",
       "      <td>7</td>\n",
       "      <td>51</td>\n",
       "      <td>0</td>\n",
       "    </tr>\n",
       "  </tbody>\n",
       "</table>\n",
       "</div>"
      ],
      "text/plain": [
       "   amount date_time_of_pickup  longitude_of_pickup  latitude_of_pickup  \\\n",
       "0     4.5 2009-06-15 17:26:21           -73.844311           40.721319   \n",
       "1    16.9 2010-01-05 16:52:16           -74.016048           40.711303   \n",
       "2     5.7 2011-08-18 00:35:00           -73.982738           40.761270   \n",
       "3     7.7 2012-04-21 04:30:42           -73.987130           40.733143   \n",
       "4     5.3 2010-03-09 07:51:00           -73.968095           40.768008   \n",
       "\n",
       "   longitude_of_dropoff  latitude_of_dropoff  no_of_passenger  Year_of_Pickup  \\\n",
       "0            -73.841610            40.712278                1            2009   \n",
       "1            -73.979268            40.782004                1            2010   \n",
       "2            -73.991242            40.750562                2            2011   \n",
       "3            -73.991567            40.758092                1            2012   \n",
       "4            -73.956655            40.783762                1            2010   \n",
       "\n",
       "   Month_of_Pickup  Date_of_Pickup  Hour_of_Pickup  Minute_of_Pickup  \\\n",
       "0                6              15              17                26   \n",
       "1                1               5              16                52   \n",
       "2                8              18               0                35   \n",
       "3                4              21               4                30   \n",
       "4                3               9               7                51   \n",
       "\n",
       "   Second_of_Pickup  \n",
       "0                21  \n",
       "1                16  \n",
       "2                 0  \n",
       "3                42  \n",
       "4                 0  "
      ]
     },
     "execution_count": 41,
     "metadata": {},
     "output_type": "execute_result"
    }
   ],
   "source": [
    "df_taxi.head()"
   ]
  },
  {
   "cell_type": "code",
   "execution_count": 42,
   "id": "633abf67",
   "metadata": {},
   "outputs": [
    {
     "data": {
      "image/png": "[encoded data removed]",
      "text/plain": [
       "<Figure size 432x288 with 1 Axes>"
      ]
     },
     "metadata": {
      "needs_background": "light"
     },
     "output_type": "display_data"
    }
   ],
   "source": [
    "plt.plot(df_taxi.groupby('Month_of_Pickup')['amount'].count())\n",
    "plt.xticks(rotation=90)\n",
    "plt.show()"
   ]
  },
  {
   "cell_type": "code",
   "execution_count": 43,
   "id": "74f2a8e9",
   "metadata": {},
   "outputs": [
    {
     "data": {
      "text/plain": [
       "<AxesSubplot:xlabel='Date_of_Pickup', ylabel='count'>"
      ]
     },
     "execution_count": 43,
     "metadata": {},
     "output_type": "execute_result"
    },
    {
     "data": {
      "image/png": "[encoded data removed]",
      "text/plain": [
       "<Figure size 432x288 with 1 Axes>"
      ]
     },
     "metadata": {
      "needs_background": "light"
     },
     "output_type": "display_data"
    }
   ],
   "source": [
    "sns.countplot(x='Date_of_Pickup',data=df_taxi)"
   ]
  },
  {
   "cell_type": "code",
   "execution_count": 44,
   "id": "7e2fb496",
   "metadata": {},
   "outputs": [
    {
     "data": {
      "text/plain": [
       "<AxesSubplot:xlabel='Hour_of_Pickup', ylabel='count'>"
      ]
     },
     "execution_count": 44,
     "metadata": {},
     "output_type": "execute_result"
    },
    {
     "data": {
      "image/png": "[encoded data removed]",
      "text/plain": [
       "<Figure size 432x288 with 1 Axes>"
      ]
     },
     "metadata": {
      "needs_background": "light"
     },
     "output_type": "display_data"
    }
   ],
   "source": [
    "sns.countplot(x='Hour_of_Pickup',data=df_taxi)"
   ]
  },
  {
   "cell_type": "code",
   "execution_count": 45,
   "id": "73645df0",
   "metadata": {},
   "outputs": [
    {
     "data": {
      "text/plain": [
       "<AxesSubplot:>"
      ]
     },
     "execution_count": 45,
     "metadata": {},
     "output_type": "execute_result"
    },
    {
     "data": {
      "image/png": "[encoded data removed]",
      "text/plain": [
       "<Figure size 432x288 with 1 Axes>"
      ]
     },
     "metadata": {
      "needs_background": "light"
     },
     "output_type": "display_data"
    }
   ],
   "source": [
    "df_taxi.longitude_of_pickup.plot.box(color=props2,patch_artist=True,vert=False)"
   ]
  },
  {
   "cell_type": "code",
   "execution_count": 46,
   "id": "d7144b0b",
   "metadata": {},
   "outputs": [
    {
     "data": {
      "text/plain": [
       "0.02491399999999544"
      ]
     },
     "execution_count": 46,
     "metadata": {},
     "output_type": "execute_result"
    }
   ],
   "source": [
    "IQR_long=stats.iqr(df_taxi.longitude_of_pickup)\n",
    "IQR_long"
   ]
  },
  {
   "cell_type": "code",
   "execution_count": 47,
   "id": "4638dac2",
   "metadata": {},
   "outputs": [
    {
     "data": {
      "text/plain": [
       "-74.029433"
      ]
     },
     "execution_count": 47,
     "metadata": {},
     "output_type": "execute_result"
    }
   ],
   "source": [
    "lowlim = df_taxi.longitude_of_pickup.quantile(0.25)-(1.5*IQR_long)\n",
    "lowlim"
   ]
  },
  {
   "cell_type": "code",
   "execution_count": 48,
   "id": "dd0334d5",
   "metadata": {},
   "outputs": [
    {
     "data": {
      "text/plain": [
       "-73.92977700000002"
      ]
     },
     "execution_count": 48,
     "metadata": {},
     "output_type": "execute_result"
    }
   ],
   "source": [
    "uplim = df_taxi.longitude_of_pickup.quantile(0.75)+(1.5*IQR_long)\n",
    "uplim"
   ]
  },
  {
   "cell_type": "code",
   "execution_count": 49,
   "id": "5af7075c",
   "metadata": {},
   "outputs": [
    {
     "name": "stdout",
     "output_type": "stream",
     "text": [
      "3367\n"
     ]
    }
   ],
   "source": [
    "print(len(df_taxi[df_taxi.longitude_of_pickup>uplim]))"
   ]
  },
  {
   "cell_type": "code",
   "execution_count": 50,
   "id": "d3219d73",
   "metadata": {},
   "outputs": [
    {
     "name": "stdout",
     "output_type": "stream",
     "text": [
      "62\n"
     ]
    }
   ],
   "source": [
    "print(len(df_taxi[df_taxi.longitude_of_pickup<lowlim]))"
   ]
  },
  {
   "cell_type": "code",
   "execution_count": 51,
   "id": "9fabdbf5",
   "metadata": {},
   "outputs": [
    {
     "name": "stdout",
     "output_type": "stream",
     "text": [
      "<class 'pandas.core.frame.DataFrame'>\n",
      "RangeIndex: 50000 entries, 0 to 49999\n",
      "Data columns (total 13 columns):\n",
      " #   Column                Non-Null Count  Dtype         \n",
      "---  ------                --------------  -----         \n",
      " 0   amount                50000 non-null  float64       \n",
      " 1   date_time_of_pickup   50000 non-null  datetime64[ns]\n",
      " 2   longitude_of_pickup   50000 non-null  float64       \n",
      " 3   latitude_of_pickup    50000 non-null  float64       \n",
      " 4   longitude_of_dropoff  50000 non-null  float64       \n",
      " 5   latitude_of_dropoff   50000 non-null  float64       \n",
      " 6   no_of_passenger       50000 non-null  int64         \n",
      " 7   Year_of_Pickup        50000 non-null  int64         \n",
      " 8   Month_of_Pickup       50000 non-null  int64         \n",
      " 9   Date_of_Pickup        50000 non-null  int64         \n",
      " 10  Hour_of_Pickup        50000 non-null  int64         \n",
      " 11  Minute_of_Pickup      50000 non-null  int64         \n",
      " 12  Second_of_Pickup      50000 non-null  int64         \n",
      "dtypes: datetime64[ns](1), float64(5), int64(7)\n",
      "memory usage: 5.0 MB\n"
     ]
    }
   ],
   "source": [
    "df_taxi.info()"
   ]
  },
  {
   "cell_type": "code",
   "execution_count": 52,
   "id": "6e3169de",
   "metadata": {},
   "outputs": [
    {
     "data": {
      "text/plain": [
       "0    0.640487\n",
       "1    5.250670\n",
       "2    0.863411\n",
       "3    1.739386\n",
       "4    1.242218\n",
       "Name: Distance_Travelled, dtype: float64"
      ]
     },
     "execution_count": 52,
     "metadata": {},
     "output_type": "execute_result"
    }
   ],
   "source": [
    "def distance(lat1,lon1,lat2,lon2):\n",
    "    p=0.017453292519943295\n",
    "    a=0.5-np.cos((lat2-lat1)*p)/2 + np.cos(lat1*p)*np.cos(lat2*p)*(1-np.cos((lon2-lon1)*p))/2\n",
    "    return 0.6213712 * 12742 * np.arcsin(np.sqrt(a))\n",
    "df_taxi['Distance_Travelled']=distance(df_taxi.latitude_of_pickup,df_taxi.longitude_of_pickup,\n",
    "                                      df_taxi.latitude_of_dropoff,df_taxi.longitude_of_dropoff)\n",
    "df_taxi['Distance_Travelled'].head()"
   ]
  },
  {
   "cell_type": "code",
   "execution_count": 53,
   "id": "5d6c6963",
   "metadata": {},
   "outputs": [
    {
     "name": "stderr",
     "output_type": "stream",
     "text": [
      "C:\\Users\\soume\\anaconda3\\lib\\site-packages\\seaborn\\_decorators.py:36: FutureWarning: Pass the following variables as keyword args: x, y. From version 0.12, the only valid positional argument will be `data`, and passing other arguments without an explicit keyword will result in an error or misinterpretation.\n",
      "  warnings.warn(\n"
     ]
    },
    {
     "data": {
      "text/plain": [
       "<AxesSubplot:xlabel='Distance_Travelled', ylabel='amount'>"
      ]
     },
     "execution_count": 53,
     "metadata": {},
     "output_type": "execute_result"
    },
    {
     "data": {
      "image/png": "[encoded data removed]",
      "text/plain": [
       "<Figure size 432x288 with 1 Axes>"
      ]
     },
     "metadata": {
      "needs_background": "light"
     },
     "output_type": "display_data"
    }
   ],
   "source": [
    "sns.scatterplot(df_taxi.Distance_Travelled,df_taxi.amount)"
   ]
  },
  {
   "cell_type": "code",
   "execution_count": 54,
   "id": "e3803d82",
   "metadata": {},
   "outputs": [],
   "source": [
    "from sklearn import tree\n",
    "from sklearn import metrics\n",
    "from sklearn.tree import DecisionTreeRegressor\n",
    "from sklearn.model_selection import train_test_split\n",
    "from sklearn.ensemble import RandomForestRegressor"
   ]
  },
  {
   "cell_type": "code",
   "execution_count": 55,
   "id": "e45eec26",
   "metadata": {},
   "outputs": [
    {
     "name": "stdout",
     "output_type": "stream",
     "text": [
      "<class 'pandas.core.frame.DataFrame'>\n",
      "RangeIndex: 50000 entries, 0 to 49999\n",
      "Data columns (total 14 columns):\n",
      " #   Column                Non-Null Count  Dtype         \n",
      "---  ------                --------------  -----         \n",
      " 0   amount                50000 non-null  float64       \n",
      " 1   date_time_of_pickup   50000 non-null  datetime64[ns]\n",
      " 2   longitude_of_pickup   50000 non-null  float64       \n",
      " 3   latitude_of_pickup    50000 non-null  float64       \n",
      " 4   longitude_of_dropoff  50000 non-null  float64       \n",
      " 5   latitude_of_dropoff   50000 non-null  float64       \n",
      " 6   no_of_passenger       50000 non-null  int64         \n",
      " 7   Year_of_Pickup        50000 non-null  int64         \n",
      " 8   Month_of_Pickup       50000 non-null  int64         \n",
      " 9   Date_of_Pickup        50000 non-null  int64         \n",
      " 10  Hour_of_Pickup        50000 non-null  int64         \n",
      " 11  Minute_of_Pickup      50000 non-null  int64         \n",
      " 12  Second_of_Pickup      50000 non-null  int64         \n",
      " 13  Distance_Travelled    50000 non-null  float64       \n",
      "dtypes: datetime64[ns](1), float64(6), int64(7)\n",
      "memory usage: 5.3 MB\n"
     ]
    }
   ],
   "source": [
    "df_taxi.info()"
   ]
  },
  {
   "cell_type": "code",
   "execution_count": 82,
   "id": "a54e6ea8",
   "metadata": {},
   "outputs": [
    {
     "name": "stdout",
     "output_type": "stream",
     "text": [
      "<class 'pandas.core.frame.DataFrame'>\n",
      "RangeIndex: 50000 entries, 0 to 49999\n",
      "Data columns (total 11 columns):\n",
      " #   Column                Non-Null Count  Dtype  \n",
      "---  ------                --------------  -----  \n",
      " 0   latitude_of_pickup    50000 non-null  float64\n",
      " 1   longitude_of_dropoff  50000 non-null  float64\n",
      " 2   latitude_of_dropoff   50000 non-null  float64\n",
      " 3   no_of_passenger       50000 non-null  int64  \n",
      " 4   Year_of_Pickup        50000 non-null  int64  \n",
      " 5   Month_of_Pickup       50000 non-null  int64  \n",
      " 6   Date_of_Pickup        50000 non-null  int64  \n",
      " 7   Hour_of_Pickup        50000 non-null  int64  \n",
      " 8   Minute_of_Pickup      50000 non-null  int64  \n",
      " 9   Second_of_Pickup      50000 non-null  int64  \n",
      " 10  Distance_Travelled    50000 non-null  float64\n",
      "dtypes: float64(4), int64(7)\n",
      "memory usage: 4.2 MB\n",
      "None\n",
      "0         4.5\n",
      "1        16.9\n",
      "2         5.7\n",
      "3         7.7\n",
      "4         5.3\n",
      "         ... \n",
      "49995    15.0\n",
      "49996     7.5\n",
      "49997     6.9\n",
      "49998     4.5\n",
      "49999    10.9\n",
      "Name: amount, Length: 50000, dtype: float64\n"
     ]
    }
   ],
   "source": [
    "x=df_taxi.iloc[:,3:14]\n",
    "print(x.info())\n",
    "y=df_taxi.iloc[:,0]\n",
    "print(y)"
   ]
  },
  {
   "cell_type": "code",
   "execution_count": 83,
   "id": "a568b39d",
   "metadata": {},
   "outputs": [],
   "source": [
    "xtrain,xtest,ytrain,ytest=train_test_split(x,y,test_size=0.3,random_state=101)"
   ]
  },
  {
   "cell_type": "code",
   "execution_count": 84,
   "id": "09a9bc7c",
   "metadata": {},
   "outputs": [],
   "source": [
    "clf=tree.DecisionTreeRegressor()\n",
    "clffit=clf.fit(xtrain,ytrain)"
   ]
  },
  {
   "cell_type": "code",
   "execution_count": 85,
   "id": "4e1ec09a",
   "metadata": {},
   "outputs": [],
   "source": [
    "ypred=clffit.predict(xtest)"
   ]
  },
  {
   "cell_type": "code",
   "execution_count": 86,
   "id": "e883db87",
   "metadata": {},
   "outputs": [
    {
     "name": "stdout",
     "output_type": "stream",
     "text": [
      "6.853756365186418\n"
     ]
    }
   ],
   "source": [
    "from sklearn.metrics import mean_squared_error\n",
    "mse=mean_squared_error(ytest,ypred)\n",
    "rmse=np.sqrt(mse)\n",
    "print(rmse)"
   ]
  },
  {
   "cell_type": "code",
   "execution_count": 87,
   "id": "306c6d38",
   "metadata": {},
   "outputs": [],
   "source": [
    "rfr=RandomForestRegressor(n_estimators=300)\n",
    "rfrfit=rfr.fit(xtrain,ytrain)"
   ]
  },
  {
   "cell_type": "code",
   "execution_count": 88,
   "id": "21ee7170",
   "metadata": {},
   "outputs": [],
   "source": [
    "ypred1=rfrfit.predict(xtest)"
   ]
  },
  {
   "cell_type": "code",
   "execution_count": 89,
   "id": "88469010",
   "metadata": {},
   "outputs": [
    {
     "data": {
      "text/plain": [
       "4.8049406395617345"
      ]
     },
     "execution_count": 89,
     "metadata": {},
     "output_type": "execute_result"
    }
   ],
   "source": [
    "mse1=mean_squared_error(ytest,ypred1)\n",
    "rmse1=np.sqrt(mse1)\n",
    "rmse1"
   ]
  },
  {
   "cell_type": "code",
   "execution_count": 90,
   "id": "47cfe9df",
   "metadata": {},
   "outputs": [],
   "source": [
    "df_taxi.to_csv('taxifare.csv',index=False)"
   ]
  },
  {
   "cell_type": "code",
   "execution_count": 91,
   "id": "62ede3e4",
   "metadata": {},
   "outputs": [
    {
     "name": "stdout",
     "output_type": "stream",
     "text": [
      "<class 'pandas.core.frame.DataFrame'>\n",
      "Int64Index: 100 entries, 26733 to 46916\n",
      "Data columns (total 14 columns):\n",
      " #   Column                Non-Null Count  Dtype  \n",
      "---  ------                --------------  -----  \n",
      " 0   amount                100 non-null    float64\n",
      " 1   date_time_of_pickup   100 non-null    object \n",
      " 2   longitude_of_pickup   100 non-null    float64\n",
      " 3   latitude_of_pickup    100 non-null    float64\n",
      " 4   longitude_of_dropoff  100 non-null    float64\n",
      " 5   latitude_of_dropoff   100 non-null    float64\n",
      " 6   no_of_passenger       100 non-null    int64  \n",
      " 7   Year_of_Pickup        100 non-null    int64  \n",
      " 8   Month_of_Pickup       100 non-null    int64  \n",
      " 9   Date_of_Pickup        100 non-null    int64  \n",
      " 10  Hour_of_Pickup        100 non-null    int64  \n",
      " 11  Minute_of_Pickup      100 non-null    int64  \n",
      " 12  Second_of_Pickup      100 non-null    int64  \n",
      " 13  Distance_Travelled    100 non-null    float64\n",
      "dtypes: float64(6), int64(7), object(1)\n",
      "memory usage: 11.7+ KB\n"
     ]
    }
   ],
   "source": [
    "df1=pd.read_csv('taxifare.csv')\n",
    "df1=df1.sample(100,random_state=21)\n",
    "df1.info()"
   ]
  },
  {
   "cell_type": "code",
   "execution_count": 92,
   "id": "17290c93",
   "metadata": {},
   "outputs": [
    {
     "name": "stdout",
     "output_type": "stream",
     "text": [
      "(100,)\n",
      "(100, 12)\n"
     ]
    }
   ],
   "source": [
    "x1=df1.iloc[:,2:14]\n",
    "y1=df1.iloc[:,0]\n",
    "print(y1.shape)\n",
    "print(x1.shape)"
   ]
  },
  {
   "cell_type": "code",
   "execution_count": 93,
   "id": "139f7a02",
   "metadata": {},
   "outputs": [],
   "source": [
    "rfr1=RandomForestRegressor()\n",
    "df_rfr1=rfr1.fit(x1,y1)"
   ]
  },
  {
   "cell_type": "code",
   "execution_count": 94,
   "id": "cdb90569",
   "metadata": {},
   "outputs": [
    {
     "data": {
      "text/plain": [
       "array([41.7772, 30.1279, 10.367 ,  4.963 ,  7.486 ,  8.727 , 15.741 ,\n",
       "        9.833 , 16.1681,  3.997 ,  7.0174,  5.244 , 10.357 ,  7.102 ,\n",
       "        9.675 ,  8.644 ,  7.068 , 13.676 , 13.745 ,  6.4744,  3.931 ,\n",
       "        9.254 , 12.894 ,  6.984 ,  8.252 ,  3.479 ,  7.411 ,  6.164 ,\n",
       "        6.326 , 33.3526,  9.137 ,  5.127 , 14.307 ,  4.856 , 17.356 ,\n",
       "       10.616 , 18.5799, 16.8677,  7.607 , 24.105 , 16.0344, 14.357 ,\n",
       "        6.825 ,  7.533 ,  6.895 , 11.184 , 17.3   , 15.439 ,  9.713 ,\n",
       "        7.67  ,  8.368 , 16.957 ,  9.194 ,  7.887 ,  8.191 ,  8.865 ,\n",
       "       15.6272, 28.0661, 15.8001,  6.485 , 13.415 , 12.8467, 11.79  ,\n",
       "        9.182 ,  6.98  , 15.6304,  9.815 ,  6.9088, 10.892 ,  6.848 ,\n",
       "        7.726 , 15.841 , 17.141 , 16.298 , 11.927 , 10.568 ,  5.733 ,\n",
       "       15.2732,  7.75  ,  7.138 , 49.6364, 18.3247,  7.923 , 18.2574,\n",
       "        8.378 ,  7.717 ,  7.857 , 17.8768, 11.166 , 12.5588, 26.3403,\n",
       "        4.468 ,  6.488 ,  6.421 , 32.241 ,  8.976 ,  4.133 ,  4.18  ,\n",
       "       12.545 , 32.1073])"
      ]
     },
     "execution_count": 94,
     "metadata": {},
     "output_type": "execute_result"
    }
   ],
   "source": [
    "ypred1=df_rfr1.predict(x1)\n",
    "ypred1"
   ]
  },
  {
   "cell_type": "code",
   "execution_count": 95,
   "id": "0180e401",
   "metadata": {},
   "outputs": [
    {
     "data": {
      "text/plain": [
       "2.298028831542373"
      ]
     },
     "execution_count": 95,
     "metadata": {},
     "output_type": "execute_result"
    }
   ],
   "source": [
    "mse1=mean_squared_error(y1,ypred1)\n",
    "rmse1=np.sqrt(mse1)\n",
    "rmse1"
   ]
  },
  {
   "cell_type": "code",
   "execution_count": 96,
   "id": "2ca4e9df",
   "metadata": {},
   "outputs": [
    {
     "data": {
      "image/png": "[encoded data removed]",
      "text/plain": [
       "<Figure size 432x288 with 1 Axes>"
      ]
     },
     "metadata": {
      "needs_background": "light"
     },
     "output_type": "display_data"
    }
   ],
   "source": [
    "plt.plot(x1, ypred1, 'r')\n",
    "plt.plot(x1, y1, 'black')\n",
    "plt.xlabel('No of Observations')\n",
    "plt.ylabel('Test & Predict')\n",
    "plt.title('Random Forest')\n",
    "plt.legend(labels= ('Test', 'Predict'), loc= 'upper left')\n",
    "plt.show()"
   ]
  },
  {
   "cell_type": "code",
   "execution_count": 97,
   "id": "13a5742c",
   "metadata": {},
   "outputs": [],
   "source": [
    "n_estimators=[int(x) for x in np.linspace(start=100,stop=300,num=3)]\n",
    "max_features=['auto','sqrt']\n",
    "max_depth=[2,5]\n",
    "min_samples_split=[10,20]\n",
    "min_samples_leaf=[5,10]\n",
    "bootstrap=[True,False]"
   ]
  },
  {
   "cell_type": "code",
   "execution_count": 98,
   "id": "de5fd6df",
   "metadata": {},
   "outputs": [
    {
     "name": "stdout",
     "output_type": "stream",
     "text": [
      "{'n_estimators': [100, 200, 300], 'max_features': ['auto', 'sqrt'], 'max_depth': [2, 5], 'min_samples_split': [10, 20], 'min_samples_leaf': [5, 10], 'bootstrap': [True, False]}\n"
     ]
    }
   ],
   "source": [
    "param_grid={'n_estimators':n_estimators,\n",
    "           'max_features':max_features,\n",
    "            'max_depth':max_depth,\n",
    "           'min_samples_split':min_samples_split,\n",
    "           'min_samples_leaf':min_samples_leaf,\n",
    "           'bootstrap':bootstrap}\n",
    "print(param_grid)"
   ]
  },
  {
   "cell_type": "code",
   "execution_count": 99,
   "id": "ae9c84b3",
   "metadata": {},
   "outputs": [],
   "source": [
    "from sklearn.model_selection import GridSearchCV\n",
    "rfr_grid=GridSearchCV(estimator=rfr1,param_grid=param_grid,cv=3,n_jobs=4)\n",
    "rfr_grid_gs=rfr_grid.fit(x1,y1)"
   ]
  },
  {
   "cell_type": "code",
   "execution_count": 100,
   "id": "ef6b093c",
   "metadata": {},
   "outputs": [
    {
     "data": {
      "text/plain": [
       "{'bootstrap': True,\n",
       " 'max_depth': 5,\n",
       " 'max_features': 'auto',\n",
       " 'min_samples_leaf': 5,\n",
       " 'min_samples_split': 20,\n",
       " 'n_estimators': 200}"
      ]
     },
     "execution_count": 100,
     "metadata": {},
     "output_type": "execute_result"
    }
   ],
   "source": [
    "rfr_grid_gs.best_params_"
   ]
  },
  {
   "cell_type": "code",
   "execution_count": 102,
   "id": "880ca918",
   "metadata": {},
   "outputs": [
    {
     "data": {
      "text/plain": [
       "array([28.74373508, 30.00501069, 13.03069647,  4.94518467,  8.58468276,\n",
       "        8.57417065, 16.32785456,  8.83358262, 21.15125087,  4.75009606,\n",
       "        7.66956901,  4.78431096,  9.30915831,  6.7443503 , 10.84102403,\n",
       "        8.78920058,  6.86134246, 14.75689408, 15.65739148,  8.20887583,\n",
       "        4.72681068,  9.42345992, 13.56066548,  6.85073784,  9.61034851,\n",
       "        5.33735213,  8.40095465,  7.28965878,  6.67478165, 30.00501069,\n",
       "        9.18122823,  5.07678627, 14.63207417,  4.7458883 , 15.91800378,\n",
       "        9.5465    , 19.73061831, 20.10074092,  9.10408306, 13.08612053,\n",
       "       15.92640691, 12.70335006,  7.81104491,  8.49633604,  6.94049816,\n",
       "       15.935     , 16.59062264, 16.33486269,  8.85232077,  8.58761029,\n",
       "        6.81461537, 15.7357863 ,  9.3234349 ,  7.165243  ,  8.92577138,\n",
       "        7.92933991, 16.79847189, 27.6125954 , 24.00481346,  6.58423087,\n",
       "       11.57440654, 12.65896533, 10.34702799,  9.991452  ,  8.95434229,\n",
       "       15.90044487,  8.51890052,  8.4805641 , 12.21529937,  6.8331209 ,\n",
       "        7.61832142, 16.51949232, 17.90130673, 13.19909224, 12.81035052,\n",
       "       12.82373703,  6.65448141, 14.58506015,  9.87271286,  6.98178351,\n",
       "       30.05909122, 22.09422289,  8.49837572, 18.18121575,  8.95436167,\n",
       "        8.42073678,  7.28069798, 20.21722711, 11.38599163, 13.03813431,\n",
       "       21.867102  ,  5.02274954,  8.17455122,  8.95952949, 13.84991215,\n",
       "       10.78186207,  4.72293956,  4.73138956, 12.78639512, 30.00946277])"
      ]
     },
     "execution_count": 102,
     "metadata": {},
     "output_type": "execute_result"
    }
   ],
   "source": [
    "ypred2=rfr_grid_gs.predict(x1)\n",
    "ypred2"
   ]
  },
  {
   "cell_type": "code",
   "execution_count": 103,
   "id": "98926e47",
   "metadata": {},
   "outputs": [
    {
     "name": "stdout",
     "output_type": "stream",
     "text": [
      "5.576772977335376\n"
     ]
    }
   ],
   "source": [
    "mse2=mean_squared_error(y1,ypred2)\n",
    "rmse2=np.sqrt(mse2)\n",
    "print(rmse2)"
   ]
  },
  {
   "cell_type": "code",
   "execution_count": 104,
   "id": "a21f3825",
   "metadata": {},
   "outputs": [],
   "source": [
    "x2=df1.iloc[:,6:14]\n",
    "y2=df1.iloc[:,0]"
   ]
  },
  {
   "cell_type": "code",
   "execution_count": 105,
   "id": "cd099e42",
   "metadata": {},
   "outputs": [],
   "source": [
    "rfr2=RandomForestRegressor()\n",
    "df_rfr2=rfr2.fit(x2,y2)"
   ]
  },
  {
   "cell_type": "code",
   "execution_count": 106,
   "id": "cb31f0ce",
   "metadata": {},
   "outputs": [
    {
     "data": {
      "text/plain": [
       "array([43.3524, 29.4414, 10.497 ,  5.069 ,  7.09  ,  8.848 , 15.6188,\n",
       "       11.0767, 15.7194,  4.142 ,  5.289 ,  5.279 ,  9.839 ,  7.058 ,\n",
       "        9.768 ,  8.815 ,  6.973 , 13.516 , 14.363 ,  5.272 ,  3.654 ,\n",
       "        9.906 , 12.2718,  6.814 ,  8.992 ,  6.076 ,  7.431 ,  6.544 ,\n",
       "        6.451 , 32.5293,  9.587 ,  5.286 , 14.2434,  5.124 , 19.047 ,\n",
       "       11.8588, 18.354 , 16.7657,  7.211 , 25.084 , 15.8674, 13.653 ,\n",
       "        6.753 ,  7.906 ,  6.811 , 10.354 , 17.386 , 15.327 ,  9.966 ,\n",
       "        7.999 ,  8.865 , 18.0582,  9.842 ,  8.008 ,  8.71  ,  8.91  ,\n",
       "       15.888 , 28.7439, 15.5614,  7.617 , 12.99  , 11.647 , 11.365 ,\n",
       "        8.982 ,  5.99  , 16.2961,  9.78  ,  4.74  , 10.647 ,  6.871 ,\n",
       "        8.35  , 15.8457, 17.7058, 16.6147, 12.208 , 10.398 ,  5.704 ,\n",
       "       14.201 ,  7.373 ,  7.138 , 48.5118, 18.076 ,  8.069 , 18.469 ,\n",
       "        8.685 ,  7.654 ,  7.592 , 17.7358, 10.013 , 11.539 , 25.0018,\n",
       "        5.144 ,  5.278 ,  5.78  , 34.933 ,  7.15  ,  4.292 ,  4.21  ,\n",
       "       12.7314, 32.5824])"
      ]
     },
     "execution_count": 106,
     "metadata": {},
     "output_type": "execute_result"
    }
   ],
   "source": [
    "ypredict=df_rfr2.predict(x2)\n",
    "ypredict"
   ]
  },
  {
   "cell_type": "code",
   "execution_count": 107,
   "id": "655e6de4",
   "metadata": {},
   "outputs": [
    {
     "data": {
      "text/plain": [
       "2.1907246245706027"
      ]
     },
     "execution_count": 107,
     "metadata": {},
     "output_type": "execute_result"
    }
   ],
   "source": [
    "mse3=mean_squared_error(y2,ypredict)\n",
    "rmse3=np.sqrt(mse3)\n",
    "rmse3"
   ]
  },
  {
   "cell_type": "code",
   "execution_count": 108,
   "id": "8e88fbdf",
   "metadata": {},
   "outputs": [],
   "source": [
    "rfr_grid=GridSearchCV(estimator=rfr2,param_grid=param_grid,cv=3,n_jobs=4)\n",
    "rfr_grid_gs=rfr_grid.fit(x2,y2)"
   ]
  },
  {
   "cell_type": "code",
   "execution_count": 109,
   "id": "704e4588",
   "metadata": {},
   "outputs": [
    {
     "data": {
      "text/plain": [
       "array([40.034     , 40.034     ,  8.85135135,  8.85135135,  8.85135135,\n",
       "        8.85135135, 17.08761905,  8.85135135, 17.08761905,  8.85135135,\n",
       "        8.85135135,  8.85135135,  8.85135135,  8.85135135,  8.85135135,\n",
       "        8.85135135,  8.85135135, 17.08761905, 17.08761905,  8.85135135,\n",
       "        8.85135135,  8.85135135,  8.85135135,  8.85135135,  8.85135135,\n",
       "        8.85135135,  8.85135135,  8.85135135,  8.85135135, 40.034     ,\n",
       "        8.85135135,  8.85135135, 17.08761905,  8.85135135,  8.85135135,\n",
       "        8.85135135, 17.08761905, 17.08761905,  8.85135135,  8.85135135,\n",
       "       17.08761905,  8.85135135,  8.85135135,  8.85135135,  8.85135135,\n",
       "        8.85135135, 17.08761905, 17.08761905,  8.85135135,  8.85135135,\n",
       "        8.85135135, 17.08761905,  8.85135135,  8.85135135,  8.85135135,\n",
       "        8.85135135,  8.85135135, 17.08761905, 17.08761905,  8.85135135,\n",
       "        8.85135135,  8.85135135,  8.85135135,  8.85135135,  8.85135135,\n",
       "       17.08761905,  8.85135135,  8.85135135,  8.85135135,  8.85135135,\n",
       "        8.85135135, 17.08761905, 17.08761905,  8.85135135,  8.85135135,\n",
       "        8.85135135,  8.85135135, 17.08761905,  8.85135135,  8.85135135,\n",
       "       40.034     , 17.08761905,  8.85135135, 17.08761905,  8.85135135,\n",
       "        8.85135135,  8.85135135, 17.08761905,  8.85135135,  8.85135135,\n",
       "       17.08761905,  8.85135135,  8.85135135,  8.85135135,  8.85135135,\n",
       "        8.85135135,  8.85135135,  8.85135135,  8.85135135, 40.034     ])"
      ]
     },
     "execution_count": 109,
     "metadata": {},
     "output_type": "execute_result"
    }
   ],
   "source": [
    "ypredict1=rfr_grid_gs.predict(x2)\n",
    "ypredict1"
   ]
  },
  {
   "cell_type": "code",
   "execution_count": 110,
   "id": "59fa215f",
   "metadata": {},
   "outputs": [
    {
     "name": "stdout",
     "output_type": "stream",
     "text": [
      "5.939159676096649\n"
     ]
    }
   ],
   "source": [
    "mse4=mean_squared_error(y2,ypredict1)\n",
    "rmse4=np.sqrt(mse4)\n",
    "print(rmse4)"
   ]
  },
  {
   "cell_type": "code",
   "execution_count": null,
   "id": "1714ec75",
   "metadata": {},
   "outputs": [],
   "source": []
  }
 ],
 "metadata": {
  "kernelspec": {
   "display_name": "Python 3",
   "language": "python",
   "name": "python3"
  },
  "language_info": {
   "codemirror_mode": {
    "name": "ipython",
    "version": 3
   },
   "file_extension": ".py",
   "mimetype": "text/x-python",
   "name": "python",
   "nbconvert_exporter": "python",
   "pygments_lexer": "ipython3",
   "version": "3.8.8"
  }
 },
 "nbformat": 4,
 "nbformat_minor": 5
}
