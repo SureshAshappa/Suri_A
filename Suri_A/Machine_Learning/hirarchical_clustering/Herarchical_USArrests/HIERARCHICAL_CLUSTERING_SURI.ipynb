{
 "cells": [
  {
   "cell_type": "code",
   "execution_count": 3,
   "id": "36187c3b",
   "metadata": {},
   "outputs": [
    {
     "name": "stdout",
     "output_type": "stream",
     "text": [
      "Defaulting to user installation because normal site-packages is not writeable\n",
      "Requirement already satisfied: fastcluster in c:\\users\\suresh a\\appdata\\roaming\\python\\python38\\site-packages (1.2.4)\n",
      "Requirement already satisfied: numpy>=1.9 in c:\\program files\\ancondapython\\lib\\site-packages (from fastcluster) (1.20.1)\n"
     ]
    }
   ],
   "source": [
    "!pip install fastcluster"
   ]
  },
  {
   "cell_type": "code",
   "execution_count": 4,
   "id": "3e980e45",
   "metadata": {},
   "outputs": [],
   "source": [
    "import pandas as pd\n",
    "import numpy as np\n",
    "from matplotlib import pyplot as plt\n",
    "import seaborn as sns\n",
    "from sklearn.preprocessing import normalize\n",
    "from sklearn.cluster import AgglomerativeClustering\n",
    "import scipy.cluster.hierarchy as shc\n",
    "from scipy.cluster.hierarchy import single, ward, complete, average, cophenet\n",
    "from scipy.spatial.distance import pdist, squareform\n",
    "import fastcluster as fc\n"
   ]
  },
  {
   "cell_type": "code",
   "execution_count": null,
   "id": "d622cc4f",
   "metadata": {},
   "outputs": [],
   "source": [
    "## Importing the USArrests dataset"
   ]
  },
  {
   "cell_type": "code",
   "execution_count": 6,
   "id": "f6f2a46a",
   "metadata": {},
   "outputs": [],
   "source": [
    "data=pd.read_csv('Downloads/USArrests.csv')"
   ]
  },
  {
   "cell_type": "code",
   "execution_count": 7,
   "id": "c407f242",
   "metadata": {},
   "outputs": [],
   "source": [
    "data=pd.DataFrame(data)"
   ]
  },
  {
   "cell_type": "code",
   "execution_count": 8,
   "id": "56d7d2e4",
   "metadata": {},
   "outputs": [
    {
     "data": {
      "text/html": [
       "<div>\n",
       "<style scoped>\n",
       "    .dataframe tbody tr th:only-of-type {\n",
       "        vertical-align: middle;\n",
       "    }\n",
       "\n",
       "    .dataframe tbody tr th {\n",
       "        vertical-align: top;\n",
       "    }\n",
       "\n",
       "    .dataframe thead th {\n",
       "        text-align: right;\n",
       "    }\n",
       "</style>\n",
       "<table border=\"1\" class=\"dataframe\">\n",
       "  <thead>\n",
       "    <tr style=\"text-align: right;\">\n",
       "      <th></th>\n",
       "      <th>State</th>\n",
       "      <th>Murder</th>\n",
       "      <th>Assault</th>\n",
       "      <th>UrbanPop</th>\n",
       "      <th>Rape</th>\n",
       "      <th>sil_score</th>\n",
       "    </tr>\n",
       "  </thead>\n",
       "  <tbody>\n",
       "    <tr>\n",
       "      <th>0</th>\n",
       "      <td>Alabama</td>\n",
       "      <td>13.2</td>\n",
       "      <td>236</td>\n",
       "      <td>58</td>\n",
       "      <td>21.2</td>\n",
       "      <td>0.485775</td>\n",
       "    </tr>\n",
       "    <tr>\n",
       "      <th>1</th>\n",
       "      <td>Alaska</td>\n",
       "      <td>10.0</td>\n",
       "      <td>263</td>\n",
       "      <td>48</td>\n",
       "      <td>44.5</td>\n",
       "      <td>0.058252</td>\n",
       "    </tr>\n",
       "    <tr>\n",
       "      <th>2</th>\n",
       "      <td>Arizona</td>\n",
       "      <td>8.1</td>\n",
       "      <td>294</td>\n",
       "      <td>80</td>\n",
       "      <td>31.0</td>\n",
       "      <td>0.415483</td>\n",
       "    </tr>\n",
       "    <tr>\n",
       "      <th>3</th>\n",
       "      <td>Arkansas</td>\n",
       "      <td>8.8</td>\n",
       "      <td>190</td>\n",
       "      <td>50</td>\n",
       "      <td>19.5</td>\n",
       "      <td>0.118709</td>\n",
       "    </tr>\n",
       "    <tr>\n",
       "      <th>4</th>\n",
       "      <td>California</td>\n",
       "      <td>9.0</td>\n",
       "      <td>276</td>\n",
       "      <td>91</td>\n",
       "      <td>40.6</td>\n",
       "      <td>0.435559</td>\n",
       "    </tr>\n",
       "  </tbody>\n",
       "</table>\n",
       "</div>"
      ],
      "text/plain": [
       "        State  Murder  Assault  UrbanPop  Rape  sil_score\n",
       "0     Alabama    13.2      236        58  21.2   0.485775\n",
       "1      Alaska    10.0      263        48  44.5   0.058252\n",
       "2     Arizona     8.1      294        80  31.0   0.415483\n",
       "3    Arkansas     8.8      190        50  19.5   0.118709\n",
       "4  California     9.0      276        91  40.6   0.435559"
      ]
     },
     "execution_count": 8,
     "metadata": {},
     "output_type": "execute_result"
    }
   ],
   "source": [
    "data.head()"
   ]
  },
  {
   "cell_type": "code",
   "execution_count": 8,
   "id": "0442d446",
   "metadata": {},
   "outputs": [
    {
     "name": "stdout",
     "output_type": "stream",
     "text": [
      "<class 'pandas.core.frame.DataFrame'>\n",
      "RangeIndex: 50 entries, 0 to 49\n",
      "Data columns (total 6 columns):\n",
      " #   Column     Non-Null Count  Dtype  \n",
      "---  ------     --------------  -----  \n",
      " 0   State      50 non-null     object \n",
      " 1   Murder     50 non-null     float64\n",
      " 2   Assault    50 non-null     int64  \n",
      " 3   UrbanPop   50 non-null     int64  \n",
      " 4   Rape       50 non-null     float64\n",
      " 5   sil_score  50 non-null     float64\n",
      "dtypes: float64(3), int64(2), object(1)\n",
      "memory usage: 2.5+ KB\n"
     ]
    }
   ],
   "source": [
    "data.info()"
   ]
  },
  {
   "cell_type": "code",
   "execution_count": 9,
   "id": "303ba27c",
   "metadata": {},
   "outputs": [],
   "source": [
    "## Making the column \"State\" as the index"
   ]
  },
  {
   "cell_type": "code",
   "execution_count": 10,
   "id": "53b82cf4",
   "metadata": {},
   "outputs": [],
   "source": [
    "data=data.set_index('State')"
   ]
  },
  {
   "cell_type": "code",
   "execution_count": 11,
   "id": "879c6ee4",
   "metadata": {},
   "outputs": [
    {
     "data": {
      "text/html": [
       "<div>\n",
       "<style scoped>\n",
       "    .dataframe tbody tr th:only-of-type {\n",
       "        vertical-align: middle;\n",
       "    }\n",
       "\n",
       "    .dataframe tbody tr th {\n",
       "        vertical-align: top;\n",
       "    }\n",
       "\n",
       "    .dataframe thead th {\n",
       "        text-align: right;\n",
       "    }\n",
       "</style>\n",
       "<table border=\"1\" class=\"dataframe\">\n",
       "  <thead>\n",
       "    <tr style=\"text-align: right;\">\n",
       "      <th></th>\n",
       "      <th>Murder</th>\n",
       "      <th>Assault</th>\n",
       "      <th>UrbanPop</th>\n",
       "      <th>Rape</th>\n",
       "      <th>sil_score</th>\n",
       "    </tr>\n",
       "    <tr>\n",
       "      <th>State</th>\n",
       "      <th></th>\n",
       "      <th></th>\n",
       "      <th></th>\n",
       "      <th></th>\n",
       "      <th></th>\n",
       "    </tr>\n",
       "  </thead>\n",
       "  <tbody>\n",
       "    <tr>\n",
       "      <th>Alabama</th>\n",
       "      <td>13.2</td>\n",
       "      <td>236</td>\n",
       "      <td>58</td>\n",
       "      <td>21.2</td>\n",
       "      <td>0.485775</td>\n",
       "    </tr>\n",
       "    <tr>\n",
       "      <th>Alaska</th>\n",
       "      <td>10.0</td>\n",
       "      <td>263</td>\n",
       "      <td>48</td>\n",
       "      <td>44.5</td>\n",
       "      <td>0.058252</td>\n",
       "    </tr>\n",
       "    <tr>\n",
       "      <th>Arizona</th>\n",
       "      <td>8.1</td>\n",
       "      <td>294</td>\n",
       "      <td>80</td>\n",
       "      <td>31.0</td>\n",
       "      <td>0.415483</td>\n",
       "    </tr>\n",
       "    <tr>\n",
       "      <th>Arkansas</th>\n",
       "      <td>8.8</td>\n",
       "      <td>190</td>\n",
       "      <td>50</td>\n",
       "      <td>19.5</td>\n",
       "      <td>0.118709</td>\n",
       "    </tr>\n",
       "    <tr>\n",
       "      <th>California</th>\n",
       "      <td>9.0</td>\n",
       "      <td>276</td>\n",
       "      <td>91</td>\n",
       "      <td>40.6</td>\n",
       "      <td>0.435559</td>\n",
       "    </tr>\n",
       "  </tbody>\n",
       "</table>\n",
       "</div>"
      ],
      "text/plain": [
       "            Murder  Assault  UrbanPop  Rape  sil_score\n",
       "State                                                 \n",
       "Alabama       13.2      236        58  21.2   0.485775\n",
       "Alaska        10.0      263        48  44.5   0.058252\n",
       "Arizona        8.1      294        80  31.0   0.415483\n",
       "Arkansas       8.8      190        50  19.5   0.118709\n",
       "California     9.0      276        91  40.6   0.435559"
      ]
     },
     "execution_count": 11,
     "metadata": {},
     "output_type": "execute_result"
    }
   ],
   "source": [
    "data.head()"
   ]
  },
  {
   "cell_type": "code",
   "execution_count": 12,
   "id": "64b65b55",
   "metadata": {},
   "outputs": [],
   "source": [
    "from sklearn.preprocessing import normalize\n",
    "data_scaled = normalize(data)\n",
    "data_scaled = pd.DataFrame(data_scaled, columns=data.columns)"
   ]
  },
  {
   "cell_type": "code",
   "execution_count": null,
   "id": "80208c27",
   "metadata": {},
   "outputs": [],
   "source": [
    "###______Dendrogram"
   ]
  },
  {
   "cell_type": "code",
   "execution_count": 13,
   "id": "e3956d27",
   "metadata": {},
   "outputs": [],
   "source": [
    "import scipy.cluster.hierarchy as shc"
   ]
  },
  {
   "cell_type": "code",
   "execution_count": 14,
   "id": "d8a796d2",
   "metadata": {},
   "outputs": [
    {
     "data": {
      "text/plain": [
       "<matplotlib.lines.Line2D at 0x1ec6237e640>"
      ]
     },
     "execution_count": 14,
     "metadata": {},
     "output_type": "execute_result"
    },
    {
     "data": {
      "image/png": "[encoded data removed]",
      "text/plain": [
       "<Figure size 720x504 with 1 Axes>"
      ]
     },
     "metadata": {
      "needs_background": "light"
     },
     "output_type": "display_data"
    }
   ],
   "source": [
    "plt.figure(figsize=(10, 7))  \n",
    "plt.title(\"Dendrogram_w\")  \n",
    "dend = shc.dendrogram(shc.linkage(data_scaled, method='ward'))\n",
    "plt.axhline(y=0.4, color='r', linestyle='--') #4 clstrs\n"
   ]
  },
  {
   "cell_type": "code",
   "execution_count": 15,
   "id": "6752d18b",
   "metadata": {},
   "outputs": [
    {
     "data": {
      "text/plain": [
       "array([2, 2, 2, 2, 2, 3, 1, 2, 2, 2, 0, 3, 2, 1, 0, 1, 3, 2, 1, 2, 1, 2,\n",
       "       0, 2, 3, 3, 1, 2, 0, 1, 2, 2, 2, 0, 1, 3, 3, 1, 1, 2, 3, 2, 3, 1,\n",
       "       1, 3, 3, 3, 0, 2], dtype=int64)"
      ]
     },
     "execution_count": 15,
     "metadata": {},
     "output_type": "execute_result"
    }
   ],
   "source": [
    "from sklearn.cluster import AgglomerativeClustering\n",
    "cluster = AgglomerativeClustering(n_clusters=4, affinity='euclidean', linkage='ward')  \n",
    "cluster.fit_predict(data_scaled)\n"
   ]
  },
  {
   "cell_type": "code",
   "execution_count": 16,
   "id": "fc1bd23e",
   "metadata": {},
   "outputs": [],
   "source": [
    "data_scaled['cluster'] = cluster.labels_"
   ]
  },
  {
   "cell_type": "code",
   "execution_count": null,
   "id": "47b3b208",
   "metadata": {},
   "outputs": [],
   "source": [
    "#RAW_PLOT_WARD"
   ]
  },
  {
   "cell_type": "code",
   "execution_count": 17,
   "id": "44f8892f",
   "metadata": {},
   "outputs": [
    {
     "data": {
      "text/plain": [
       "<matplotlib.collections.PathCollection at 0x1ec62405940>"
      ]
     },
     "execution_count": 17,
     "metadata": {},
     "output_type": "execute_result"
    },
    {
     "data": {
      "image/png": "[encoded data removed]",
      "text/plain": [
       "<Figure size 720x504 with 1 Axes>"
      ]
     },
     "metadata": {
      "needs_background": "light"
     },
     "output_type": "display_data"
    }
   ],
   "source": [
    "plt.figure(figsize=(10, 7))  \n",
    "plt.scatter(data_scaled['Murder'], data_scaled['Rape'], c=cluster.labels_)\n"
   ]
  },
  {
   "cell_type": "code",
   "execution_count": null,
   "id": "fef41b6b",
   "metadata": {},
   "outputs": [],
   "source": []
  },
  {
   "cell_type": "code",
   "execution_count": null,
   "id": "3f902946",
   "metadata": {},
   "outputs": [],
   "source": [
    "#_____below, run in one block"
   ]
  },
  {
   "cell_type": "code",
   "execution_count": 18,
   "id": "e74abd00",
   "metadata": {},
   "outputs": [
    {
     "name": "stderr",
     "output_type": "stream",
     "text": [
      "No handles with labels found to put in legend.\n"
     ]
    },
    {
     "data": {
      "text/plain": [
       "<matplotlib.legend.Legend at 0x1ec6242c250>"
      ]
     },
     "execution_count": 18,
     "metadata": {},
     "output_type": "execute_result"
    },
    {
     "data": {
      "image/png": "[encoded data removed]",
      "text/plain": [
       "<Figure size 432x288 with 1 Axes>"
      ]
     },
     "metadata": {
      "needs_background": "light"
     },
     "output_type": "display_data"
    }
   ],
   "source": [
    "colors = {0:'red', 1:'green', 2:'purple', 3:'black'}\n",
    "plt.scatter(data_scaled['Murder'], data_scaled['Rape'], \n",
    "            c= data_scaled['cluster'].map(colors))\n",
    "plt.title('Cluster Plot_w')\n",
    "plt.xlabel('Murder')\n",
    "plt.ylabel('Rape')\n",
    "plt.legend(title='0-red, 1-green, 2-purple, 3-black', bbox_to_anchor=(1,1))\n"
   ]
  },
  {
   "cell_type": "code",
   "execution_count": null,
   "id": "3c616811",
   "metadata": {},
   "outputs": [],
   "source": [
    "#________above, run in one block\n"
   ]
  },
  {
   "cell_type": "code",
   "execution_count": 19,
   "id": "a036b199",
   "metadata": {},
   "outputs": [
    {
     "name": "stdout",
     "output_type": "stream",
     "text": [
      "<class 'pandas.core.frame.DataFrame'>\n",
      "RangeIndex: 50 entries, 0 to 49\n",
      "Data columns (total 6 columns):\n",
      " #   Column     Non-Null Count  Dtype  \n",
      "---  ------     --------------  -----  \n",
      " 0   Murder     50 non-null     float64\n",
      " 1   Assault    50 non-null     float64\n",
      " 2   UrbanPop   50 non-null     float64\n",
      " 3   Rape       50 non-null     float64\n",
      " 4   sil_score  50 non-null     float64\n",
      " 5   cluster    50 non-null     int64  \n",
      "dtypes: float64(5), int64(1)\n",
      "memory usage: 2.5 KB\n"
     ]
    }
   ],
   "source": [
    "data_scaled.info()"
   ]
  },
  {
   "cell_type": "code",
   "execution_count": null,
   "id": "40a05176",
   "metadata": {},
   "outputs": [],
   "source": [
    "#____________________seaborn"
   ]
  },
  {
   "cell_type": "code",
   "execution_count": 20,
   "id": "98fb258d",
   "metadata": {},
   "outputs": [
    {
     "data": {
      "text/plain": [
       "Text(-5.950000000000003, 0.5, 'Rape')"
      ]
     },
     "execution_count": 20,
     "metadata": {},
     "output_type": "execute_result"
    },
    {
     "data": {
      "image/png": "[encoded data removed]",
      "text/plain": [
       "<Figure size 360x360 with 1 Axes>"
      ]
     },
     "metadata": {
      "needs_background": "light"
     },
     "output_type": "display_data"
    }
   ],
   "source": [
    "sns.lmplot(data=data_scaled, x='Murder', y='Rape', hue='cluster', \n",
    "                   fit_reg=False, legend=True, legend_out=False)\n",
    "plt.title('Cluster Plot_w')\n",
    "plt.xlabel('Murder')\n",
    "plt.ylabel('Rape')"
   ]
  },
  {
   "cell_type": "code",
   "execution_count": null,
   "id": "c3156fc7",
   "metadata": {},
   "outputs": [],
   "source": [
    "#_____________cophenetic corr_ward"
   ]
  },
  {
   "cell_type": "code",
   "execution_count": 21,
   "id": "98feeb36",
   "metadata": {},
   "outputs": [],
   "source": [
    "from scipy.cluster.hierarchy import single, ward, complete, average, cophenet\n",
    "from scipy.spatial.distance import pdist, squareform\n",
    "import fastcluster as fc\n",
    "import numpy as np"
   ]
  },
  {
   "cell_type": "code",
   "execution_count": 22,
   "id": "2def2be9",
   "metadata": {},
   "outputs": [
    {
     "data": {
      "text/plain": [
       "array([[1.20000000e+01, 3.10000000e+01, 7.69154488e-03, 2.00000000e+00],\n",
       "       [4.20000000e+01, 4.50000000e+01, 1.08332299e-02, 2.00000000e+00],\n",
       "       [0.00000000e+00, 8.00000000e+00, 1.28147934e-02, 2.00000000e+00],\n",
       "       [2.80000000e+01, 3.30000000e+01, 1.40927805e-02, 2.00000000e+00],\n",
       "       [2.30000000e+01, 3.90000000e+01, 1.78068377e-02, 2.00000000e+00],\n",
       "       [2.00000000e+01, 2.90000000e+01, 1.87451736e-02, 2.00000000e+00],\n",
       "       [3.00000000e+00, 1.70000000e+01, 1.98621308e-02, 2.00000000e+00],\n",
       "       [2.60000000e+01, 3.40000000e+01, 2.35626079e-02, 2.00000000e+00],\n",
       "       [1.10000000e+01, 3.50000000e+01, 2.36072158e-02, 2.00000000e+00],\n",
       "       [1.90000000e+01, 5.20000000e+01, 2.53503117e-02, 3.00000000e+00],\n",
       "       [1.30000000e+01, 1.50000000e+01, 2.65983911e-02, 2.00000000e+00],\n",
       "       [3.00000000e+01, 5.90000000e+01, 2.70530555e-02, 4.00000000e+00],\n",
       "       [2.10000000e+01, 4.10000000e+01, 3.03933337e-02, 2.00000000e+00],\n",
       "       [2.50000000e+01, 4.00000000e+01, 3.13078957e-02, 2.00000000e+00],\n",
       "       [5.00000000e+00, 2.40000000e+01, 3.23893496e-02, 2.00000000e+00],\n",
       "       [2.00000000e+00, 5.60000000e+01, 3.24387676e-02, 3.00000000e+00],\n",
       "       [1.60000000e+01, 4.70000000e+01, 3.55769985e-02, 2.00000000e+00],\n",
       "       [1.40000000e+01, 5.30000000e+01, 3.59657186e-02, 3.00000000e+00],\n",
       "       [4.00000000e+00, 2.70000000e+01, 3.70895545e-02, 2.00000000e+00],\n",
       "       [3.60000000e+01, 6.40000000e+01, 3.71433604e-02, 3.00000000e+00],\n",
       "       [9.00000000e+00, 6.20000000e+01, 3.74571338e-02, 3.00000000e+00],\n",
       "       [4.90000000e+01, 5.00000000e+01, 3.77170198e-02, 3.00000000e+00],\n",
       "       [4.30000000e+01, 4.40000000e+01, 3.79728962e-02, 2.00000000e+00],\n",
       "       [4.60000000e+01, 6.30000000e+01, 3.87194831e-02, 3.00000000e+00],\n",
       "       [6.00000000e+00, 3.70000000e+01, 4.35072010e-02, 2.00000000e+00],\n",
       "       [5.70000000e+01, 6.00000000e+01, 4.43500581e-02, 4.00000000e+00],\n",
       "       [6.10000000e+01, 6.50000000e+01, 4.92055865e-02, 7.00000000e+00],\n",
       "       [1.80000000e+01, 5.50000000e+01, 4.93470996e-02, 3.00000000e+00],\n",
       "       [3.20000000e+01, 5.40000000e+01, 5.48815693e-02, 3.00000000e+00],\n",
       "       [2.20000000e+01, 6.70000000e+01, 5.88835770e-02, 4.00000000e+00],\n",
       "       [7.00000000e+00, 7.10000000e+01, 6.50387674e-02, 4.00000000e+00],\n",
       "       [5.80000000e+01, 6.60000000e+01, 6.80885124e-02, 4.00000000e+00],\n",
       "       [6.80000000e+01, 7.00000000e+01, 7.08923531e-02, 5.00000000e+00],\n",
       "       [5.10000000e+01, 6.90000000e+01, 7.25360851e-02, 5.00000000e+00],\n",
       "       [7.30000000e+01, 8.10000000e+01, 7.93314320e-02, 7.00000000e+00],\n",
       "       [7.20000000e+01, 7.50000000e+01, 9.89720025e-02, 6.00000000e+00],\n",
       "       [3.80000000e+01, 7.70000000e+01, 9.91864736e-02, 4.00000000e+00],\n",
       "       [1.00000000e+00, 7.60000000e+01, 1.25888089e-01, 8.00000000e+00],\n",
       "       [7.40000000e+01, 8.50000000e+01, 1.29573780e-01, 8.00000000e+00],\n",
       "       [8.00000000e+01, 8.20000000e+01, 1.30253653e-01, 9.00000000e+00],\n",
       "       [4.80000000e+01, 7.90000000e+01, 1.53844818e-01, 5.00000000e+00],\n",
       "       [8.30000000e+01, 8.40000000e+01, 1.69628598e-01, 1.20000000e+01],\n",
       "       [7.80000000e+01, 8.70000000e+01, 1.86975267e-01, 1.10000000e+01],\n",
       "       [8.60000000e+01, 8.80000000e+01, 1.92714256e-01, 1.20000000e+01],\n",
       "       [8.90000000e+01, 9.20000000e+01, 3.04040110e-01, 2.00000000e+01],\n",
       "       [1.00000000e+01, 9.00000000e+01, 3.56796314e-01, 6.00000000e+00],\n",
       "       [9.30000000e+01, 9.50000000e+01, 2.94375502e+00, 1.80000000e+01],\n",
       "       [9.10000000e+01, 9.40000000e+01, 3.92443329e+00, 3.20000000e+01],\n",
       "       [9.60000000e+01, 9.70000000e+01, 8.34205155e+00, 5.00000000e+01]])"
      ]
     },
     "execution_count": 22,
     "metadata": {},
     "output_type": "execute_result"
    }
   ],
   "source": [
    "w = ward(pdist(data_scaled))\n",
    "w "
   ]
  },
  {
   "cell_type": "code",
   "execution_count": 23,
   "id": "4ef932a5",
   "metadata": {},
   "outputs": [],
   "source": [
    "w_df =pd.DataFrame(w)\n",
    "cophe_dists_w = cophenet(w)\n",
    "cophe_dists_w\n",
    "cophe_dists_w_df = pd.DataFrame(cophe_dists_w)\n",
    "orign_dists_w = fc.pdist(data_scaled) "
   ]
  },
  {
   "cell_type": "code",
   "execution_count": null,
   "id": "ef7e0ec7",
   "metadata": {},
   "outputs": [],
   "source": [
    "# Calculating cophenetic correlation"
   ]
  },
  {
   "cell_type": "code",
   "execution_count": 24,
   "id": "1b19e2c6",
   "metadata": {},
   "outputs": [
    {
     "data": {
      "text/plain": [
       "0.8234340596109901"
      ]
     },
     "execution_count": 24,
     "metadata": {},
     "output_type": "execute_result"
    }
   ],
   "source": [
    "corr_coef_w = np.corrcoef(orign_dists_w, cophe_dists_w)[0,1] \n",
    "corr_coef_w #0.82"
   ]
  },
  {
   "cell_type": "code",
   "execution_count": null,
   "id": "cb3a5bf9",
   "metadata": {},
   "outputs": [],
   "source": [
    "#_____________________________below in one run"
   ]
  },
  {
   "cell_type": "code",
   "execution_count": 25,
   "id": "3ede241a",
   "metadata": {},
   "outputs": [
    {
     "data": {
      "text/plain": [
       "<matplotlib.lines.Line2D at 0x1ec62b77430>"
      ]
     },
     "execution_count": 25,
     "metadata": {},
     "output_type": "execute_result"
    },
    {
     "data": {
      "image/png": "[encoded data removed]",
      "text/plain": [
       "<Figure size 648x432 with 1 Axes>"
      ]
     },
     "metadata": {
      "needs_background": "light"
     },
     "output_type": "display_data"
    }
   ],
   "source": [
    "plt.figure(figsize=(9,6))\n",
    "plt.title('Dendogram_average')\n",
    "dend=shc.dendrogram(shc.linkage(data_scaled,method='average'))\n",
    "plt.axhline(y=0.5,color='m',linestyle='--')"
   ]
  },
  {
   "cell_type": "code",
   "execution_count": null,
   "id": "d56b3be7",
   "metadata": {},
   "outputs": [],
   "source": [
    "#____cophenetic correlation_______________AVERAGE"
   ]
  },
  {
   "cell_type": "code",
   "execution_count": 26,
   "id": "d3c73a13",
   "metadata": {},
   "outputs": [],
   "source": [
    "from scipy.cluster.hierarchy import single, ward, complete, average, cophenet\n",
    "from scipy.spatial.distance import pdist, squareform\n",
    "import fastcluster as fc\n",
    "import numpy as np"
   ]
  },
  {
   "cell_type": "code",
   "execution_count": 28,
   "id": "116da2a8",
   "metadata": {},
   "outputs": [
    {
     "data": {
      "text/plain": [
       "array([[1.20000000e+01, 3.10000000e+01, 7.69154488e-03, 2.00000000e+00],\n",
       "       [4.20000000e+01, 4.50000000e+01, 1.08332299e-02, 2.00000000e+00],\n",
       "       [0.00000000e+00, 8.00000000e+00, 1.28147934e-02, 2.00000000e+00],\n",
       "       [2.80000000e+01, 3.30000000e+01, 1.40927805e-02, 2.00000000e+00],\n",
       "       [2.30000000e+01, 3.90000000e+01, 1.78068377e-02, 2.00000000e+00],\n",
       "       [2.00000000e+01, 2.90000000e+01, 1.87451736e-02, 2.00000000e+00],\n",
       "       [3.00000000e+00, 1.70000000e+01, 1.98621308e-02, 2.00000000e+00],\n",
       "       [1.90000000e+01, 5.20000000e+01, 2.22103759e-02, 3.00000000e+00],\n",
       "       [2.60000000e+01, 3.40000000e+01, 2.35626079e-02, 2.00000000e+00],\n",
       "       [1.10000000e+01, 3.50000000e+01, 2.36072158e-02, 2.00000000e+00],\n",
       "       [3.00000000e+01, 5.70000000e+01, 2.45933726e-02, 4.00000000e+00],\n",
       "       [1.30000000e+01, 1.50000000e+01, 2.65983911e-02, 2.00000000e+00],\n",
       "       [2.00000000e+00, 5.60000000e+01, 2.85635332e-02, 3.00000000e+00],\n",
       "       [2.40000000e+01, 5.10000000e+01, 2.87469044e-02, 3.00000000e+00],\n",
       "       [2.10000000e+01, 4.10000000e+01, 3.03933337e-02, 2.00000000e+00],\n",
       "       [2.50000000e+01, 4.00000000e+01, 3.13078957e-02, 2.00000000e+00],\n",
       "       [1.40000000e+01, 5.30000000e+01, 3.17451016e-02, 3.00000000e+00],\n",
       "       [6.00000000e+01, 6.20000000e+01, 3.23845110e-02, 7.00000000e+00],\n",
       "       [4.90000000e+01, 5.00000000e+01, 3.28297684e-02, 3.00000000e+00],\n",
       "       [5.00000000e+00, 3.60000000e+01, 3.46999670e-02, 2.00000000e+00],\n",
       "       [1.60000000e+01, 4.70000000e+01, 3.55769985e-02, 2.00000000e+00],\n",
       "       [5.80000000e+01, 6.10000000e+01, 3.56481124e-02, 4.00000000e+00],\n",
       "       [9.00000000e+00, 6.40000000e+01, 3.58084724e-02, 3.00000000e+00],\n",
       "       [4.60000000e+01, 6.50000000e+01, 3.69912064e-02, 3.00000000e+00],\n",
       "       [4.00000000e+00, 2.70000000e+01, 3.70895545e-02, 2.00000000e+00],\n",
       "       [4.30000000e+01, 4.40000000e+01, 3.79728962e-02, 2.00000000e+00],\n",
       "       [1.80000000e+01, 5.50000000e+01, 4.31602786e-02, 3.00000000e+00],\n",
       "       [6.00000000e+00, 3.70000000e+01, 4.35072010e-02, 2.00000000e+00],\n",
       "       [3.20000000e+01, 5.40000000e+01, 4.82882757e-02, 3.00000000e+00],\n",
       "       [2.20000000e+01, 6.60000000e+01, 5.05540086e-02, 4.00000000e+00],\n",
       "       [7.00000000e+01, 7.30000000e+01, 5.09982927e-02, 5.00000000e+00],\n",
       "       [6.30000000e+01, 6.90000000e+01, 5.10783611e-02, 5.00000000e+00],\n",
       "       [7.20000000e+01, 7.40000000e+01, 5.14464476e-02, 5.00000000e+00],\n",
       "       [7.00000000e+00, 6.80000000e+01, 5.41275459e-02, 4.00000000e+00],\n",
       "       [5.90000000e+01, 8.00000000e+01, 5.43642305e-02, 7.00000000e+00],\n",
       "       [7.10000000e+01, 7.60000000e+01, 6.21540789e-02, 7.00000000e+00],\n",
       "       [8.20000000e+01, 8.30000000e+01, 7.15207702e-02, 9.00000000e+00],\n",
       "       [6.70000000e+01, 8.60000000e+01, 7.85631255e-02, 1.60000000e+01],\n",
       "       [7.50000000e+01, 7.70000000e+01, 7.96218940e-02, 4.00000000e+00],\n",
       "       [8.10000000e+01, 8.40000000e+01, 8.01069510e-02, 1.20000000e+01],\n",
       "       [8.50000000e+01, 8.80000000e+01, 8.25836205e-02, 1.10000000e+01],\n",
       "       [1.00000000e+00, 7.80000000e+01, 1.05764848e-01, 4.00000000e+00],\n",
       "       [4.80000000e+01, 7.90000000e+01, 1.22686808e-01, 5.00000000e+00],\n",
       "       [3.80000000e+01, 9.00000000e+01, 1.30931313e-01, 1.20000000e+01],\n",
       "       [8.70000000e+01, 9.10000000e+01, 1.31339372e-01, 2.00000000e+01],\n",
       "       [1.00000000e+01, 9.20000000e+01, 2.77555319e-01, 6.00000000e+00],\n",
       "       [8.90000000e+01, 9.40000000e+01, 1.01653241e+00, 3.20000000e+01],\n",
       "       [9.30000000e+01, 9.50000000e+01, 1.04794556e+00, 1.80000000e+01],\n",
       "       [9.60000000e+01, 9.70000000e+01, 1.74914393e+00, 5.00000000e+01]])"
      ]
     },
     "execution_count": 28,
     "metadata": {},
     "output_type": "execute_result"
    }
   ],
   "source": [
    "a = average(pdist(data_scaled)) # dists at which clubbing happened\n",
    "a"
   ]
  },
  {
   "cell_type": "code",
   "execution_count": 29,
   "id": "c3d7e63a",
   "metadata": {},
   "outputs": [],
   "source": [
    "a_df = pd.DataFrame(a)"
   ]
  },
  {
   "cell_type": "code",
   "execution_count": 30,
   "id": "481db2ef",
   "metadata": {},
   "outputs": [
    {
     "data": {
      "text/plain": [
       "array([0.13133937, 0.03238451, 0.03238451, ..., 1.74914393, 1.01653241,\n",
       "       1.74914393])"
      ]
     },
     "execution_count": 30,
     "metadata": {},
     "output_type": "execute_result"
    }
   ],
   "source": [
    "cophe_dists_a = cophenet(a) \n",
    "cophe_dists_a"
   ]
  },
  {
   "cell_type": "code",
   "execution_count": 31,
   "id": "e5a6a3e0",
   "metadata": {},
   "outputs": [],
   "source": [
    "cophe_dists_a_df = pd.DataFrame(cophe_dists_a)\n",
    "orign_dists_a = fc.pdist(data_scaled) "
   ]
  },
  {
   "cell_type": "code",
   "execution_count": null,
   "id": "c2083b8d",
   "metadata": {},
   "outputs": [],
   "source": [
    "# Calculating cophenetic correlation"
   ]
  },
  {
   "cell_type": "code",
   "execution_count": 32,
   "id": "d324ca91",
   "metadata": {},
   "outputs": [
    {
     "data": {
      "text/plain": [
       "0.8333986446703016"
      ]
     },
     "execution_count": 32,
     "metadata": {},
     "output_type": "execute_result"
    }
   ],
   "source": [
    "corr_coef_a = np.corrcoef(orign_dists_a, cophe_dists_a)[0,1] \n",
    "corr_coef_a #0.83"
   ]
  },
  {
   "cell_type": "code",
   "execution_count": null,
   "id": "118a2787",
   "metadata": {},
   "outputs": [],
   "source": [
    "#++++++++++++++++++++++++++++++++++++++++++++++++single"
   ]
  },
  {
   "cell_type": "code",
   "execution_count": 33,
   "id": "ac267192",
   "metadata": {},
   "outputs": [
    {
     "data": {
      "text/plain": [
       "<matplotlib.lines.Line2D at 0x1ec62c67a00>"
      ]
     },
     "execution_count": 33,
     "metadata": {},
     "output_type": "execute_result"
    },
    {
     "data": {
      "image/png": "[encoded data removed]",
      "text/plain": [
       "<Figure size 648x432 with 1 Axes>"
      ]
     },
     "metadata": {
      "needs_background": "light"
     },
     "output_type": "display_data"
    }
   ],
   "source": [
    "plt.figure(figsize=(9,6))\n",
    "plt.title('Dendogram_single')\n",
    "dend=shc.dendrogram(shc.linkage(data_scaled,method='single'))\n",
    "plt.axhline(y=0.3,color='red',linestyle='--')"
   ]
  },
  {
   "cell_type": "code",
   "execution_count": 37,
   "id": "2f35619d",
   "metadata": {},
   "outputs": [
    {
     "data": {
      "text/plain": [
       "array([[1.20000000e+01, 3.10000000e+01, 7.69154488e-03, 2.00000000e+00],\n",
       "       [4.20000000e+01, 4.50000000e+01, 1.08332299e-02, 2.00000000e+00],\n",
       "       [0.00000000e+00, 8.00000000e+00, 1.28147934e-02, 2.00000000e+00],\n",
       "       [2.80000000e+01, 3.30000000e+01, 1.40927805e-02, 2.00000000e+00],\n",
       "       [1.90000000e+01, 5.20000000e+01, 1.67576098e-02, 3.00000000e+00],\n",
       "       [2.30000000e+01, 3.90000000e+01, 1.78068377e-02, 2.00000000e+00],\n",
       "       [3.00000000e+01, 5.40000000e+01, 1.87233352e-02, 4.00000000e+00],\n",
       "       [2.00000000e+01, 2.90000000e+01, 1.87451736e-02, 2.00000000e+00],\n",
       "       [1.70000000e+01, 5.60000000e+01, 1.88641572e-02, 5.00000000e+00],\n",
       "       [3.00000000e+00, 5.80000000e+01, 1.98621308e-02, 6.00000000e+00],\n",
       "       [2.00000000e+00, 5.90000000e+01, 2.00808533e-02, 7.00000000e+00],\n",
       "       [2.60000000e+01, 3.40000000e+01, 2.35626079e-02, 2.00000000e+00],\n",
       "       [1.10000000e+01, 3.50000000e+01, 2.36072158e-02, 2.00000000e+00],\n",
       "       [2.40000000e+01, 5.10000000e+01, 2.59152368e-02, 3.00000000e+00],\n",
       "       [1.30000000e+01, 1.50000000e+01, 2.65983911e-02, 2.00000000e+00],\n",
       "       [6.10000000e+01, 6.40000000e+01, 2.66696625e-02, 4.00000000e+00],\n",
       "       [1.40000000e+01, 5.30000000e+01, 2.82738156e-02, 3.00000000e+00],\n",
       "       [2.10000000e+01, 4.10000000e+01, 3.03933337e-02, 2.00000000e+00],\n",
       "       [4.90000000e+01, 5.00000000e+01, 3.08482379e-02, 3.00000000e+00],\n",
       "       [2.50000000e+01, 4.00000000e+01, 3.13078957e-02, 2.00000000e+00],\n",
       "       [1.60000000e+01, 6.90000000e+01, 3.13276893e-02, 3.00000000e+00],\n",
       "       [5.00000000e+00, 6.30000000e+01, 3.23893496e-02, 4.00000000e+00],\n",
       "       [6.20000000e+01, 7.00000000e+01, 3.38465035e-02, 5.00000000e+00],\n",
       "       [5.70000000e+01, 6.50000000e+01, 3.40922494e-02, 6.00000000e+00],\n",
       "       [4.70000000e+01, 7.20000000e+01, 3.46875945e-02, 6.00000000e+00],\n",
       "       [3.60000000e+01, 7.10000000e+01, 3.46999670e-02, 5.00000000e+00],\n",
       "       [9.00000000e+00, 6.70000000e+01, 3.48237704e-02, 3.00000000e+00],\n",
       "       [4.60000000e+01, 7.40000000e+01, 3.59445423e-02, 7.00000000e+00],\n",
       "       [1.80000000e+01, 7.30000000e+01, 3.59917418e-02, 7.00000000e+00],\n",
       "       [4.00000000e+00, 2.70000000e+01, 3.70895545e-02, 2.00000000e+00],\n",
       "       [4.30000000e+01, 4.40000000e+01, 3.79728962e-02, 2.00000000e+00],\n",
       "       [7.60000000e+01, 7.90000000e+01, 3.84815030e-02, 5.00000000e+00],\n",
       "       [6.00000000e+01, 8.10000000e+01, 3.90843847e-02, 1.20000000e+01],\n",
       "       [7.50000000e+01, 7.70000000e+01, 4.04571346e-02, 1.20000000e+01],\n",
       "       [7.80000000e+01, 8.00000000e+01, 4.17300265e-02, 9.00000000e+00],\n",
       "       [7.00000000e+00, 6.80000000e+01, 4.23546125e-02, 4.00000000e+00],\n",
       "       [6.00000000e+00, 3.70000000e+01, 4.35072010e-02, 2.00000000e+00],\n",
       "       [8.20000000e+01, 8.50000000e+01, 4.37776762e-02, 1.60000000e+01],\n",
       "       [3.20000000e+01, 5.50000000e+01, 4.57381233e-02, 3.00000000e+00],\n",
       "       [2.20000000e+01, 6.60000000e+01, 4.78828192e-02, 4.00000000e+00],\n",
       "       [8.40000000e+01, 8.60000000e+01, 5.03337183e-02, 1.10000000e+01],\n",
       "       [8.70000000e+01, 8.80000000e+01, 5.22633340e-02, 1.90000000e+01],\n",
       "       [3.80000000e+01, 9.00000000e+01, 7.58986071e-02, 1.20000000e+01],\n",
       "       [1.00000000e+00, 9.10000000e+01, 8.18274042e-02, 2.00000000e+01],\n",
       "       [4.80000000e+01, 8.90000000e+01, 1.00011680e-01, 5.00000000e+00],\n",
       "       [1.00000000e+01, 9.40000000e+01, 1.88441375e-01, 6.00000000e+00],\n",
       "       [8.30000000e+01, 9.30000000e+01, 1.00077517e+00, 3.20000000e+01],\n",
       "       [9.20000000e+01, 9.60000000e+01, 1.00703930e+00, 4.40000000e+01],\n",
       "       [9.50000000e+01, 9.70000000e+01, 1.01078139e+00, 5.00000000e+01]])"
      ]
     },
     "execution_count": 37,
     "metadata": {},
     "output_type": "execute_result"
    }
   ],
   "source": [
    "s = single(pdist(data_scaled))\n",
    "s "
   ]
  },
  {
   "cell_type": "code",
   "execution_count": 38,
   "id": "dcea0e9e",
   "metadata": {},
   "outputs": [
    {
     "data": {
      "text/plain": [
       "array([0.0818274 , 0.02008085, 0.01986213, ..., 1.01078139, 1.00077517,\n",
       "       1.01078139])"
      ]
     },
     "execution_count": 38,
     "metadata": {},
     "output_type": "execute_result"
    }
   ],
   "source": [
    "s_df =pd.DataFrame(s)\n",
    "cophe_dists_s = cophenet(s) \n",
    "cophe_dists_s"
   ]
  },
  {
   "cell_type": "code",
   "execution_count": 40,
   "id": "e031848f",
   "metadata": {},
   "outputs": [],
   "source": [
    "cophe_dists_s_df = pd.DataFrame(cophe_dists_s)\n",
    "orign_dists_s = fc.pdist(data_scaled) "
   ]
  },
  {
   "cell_type": "code",
   "execution_count": null,
   "id": "f31e92ff",
   "metadata": {},
   "outputs": [],
   "source": [
    "# Calculating cophenetic correlation"
   ]
  },
  {
   "cell_type": "code",
   "execution_count": 41,
   "id": "92e7b4cf",
   "metadata": {},
   "outputs": [
    {
     "data": {
      "text/plain": [
       "0.7576864409279042"
      ]
     },
     "execution_count": 41,
     "metadata": {},
     "output_type": "execute_result"
    }
   ],
   "source": [
    "corr_coef_s = np.corrcoef(orign_dists_s, cophe_dists_s)[0,1] \n",
    "corr_coef_s #0.7577"
   ]
  },
  {
   "cell_type": "code",
   "execution_count": null,
   "id": "00cf652b",
   "metadata": {},
   "outputs": [],
   "source": [
    "#++++++++++++++++++++++++++++++++++++++++++++++++complete"
   ]
  },
  {
   "cell_type": "code",
   "execution_count": 42,
   "id": "f7e94188",
   "metadata": {},
   "outputs": [
    {
     "data": {
      "text/plain": [
       "<matplotlib.lines.Line2D at 0x1ec62d3c4f0>"
      ]
     },
     "execution_count": 42,
     "metadata": {},
     "output_type": "execute_result"
    },
    {
     "data": {
      "image/png": "[encoded data removed]",
      "text/plain": [
       "<Figure size 648x432 with 1 Axes>"
      ]
     },
     "metadata": {
      "needs_background": "light"
     },
     "output_type": "display_data"
    }
   ],
   "source": [
    "plt.figure(figsize=(9,6))\n",
    "plt.title('Dendogram_complete')\n",
    "dend=shc.dendrogram(shc.linkage(data_scaled,method='complete'))\n",
    "plt.axhline(y=0.5,color='k',linestyle='--')"
   ]
  },
  {
   "cell_type": "code",
   "execution_count": 44,
   "id": "55baddda",
   "metadata": {},
   "outputs": [
    {
     "data": {
      "text/plain": [
       "array([[1.20000000e+01, 3.10000000e+01, 7.69154488e-03, 2.00000000e+00],\n",
       "       [4.20000000e+01, 4.50000000e+01, 1.08332299e-02, 2.00000000e+00],\n",
       "       [0.00000000e+00, 8.00000000e+00, 1.28147934e-02, 2.00000000e+00],\n",
       "       [2.80000000e+01, 3.30000000e+01, 1.40927805e-02, 2.00000000e+00],\n",
       "       [2.30000000e+01, 3.90000000e+01, 1.78068377e-02, 2.00000000e+00],\n",
       "       [2.00000000e+01, 2.90000000e+01, 1.87451736e-02, 2.00000000e+00],\n",
       "       [3.00000000e+00, 1.70000000e+01, 1.98621308e-02, 2.00000000e+00],\n",
       "       [2.60000000e+01, 3.40000000e+01, 2.35626079e-02, 2.00000000e+00],\n",
       "       [1.10000000e+01, 3.50000000e+01, 2.36072158e-02, 2.00000000e+00],\n",
       "       [1.30000000e+01, 1.50000000e+01, 2.65983911e-02, 2.00000000e+00],\n",
       "       [3.00000000e+01, 5.20000000e+01, 2.68297137e-02, 3.00000000e+00],\n",
       "       [1.90000000e+01, 6.00000000e+01, 2.82270689e-02, 4.00000000e+00],\n",
       "       [2.10000000e+01, 4.10000000e+01, 3.03933337e-02, 2.00000000e+00],\n",
       "       [2.50000000e+01, 4.00000000e+01, 3.13078957e-02, 2.00000000e+00],\n",
       "       [2.40000000e+01, 5.10000000e+01, 3.15785720e-02, 3.00000000e+00],\n",
       "       [5.00000000e+00, 3.60000000e+01, 3.46999670e-02, 2.00000000e+00],\n",
       "       [4.90000000e+01, 5.00000000e+01, 3.48112989e-02, 3.00000000e+00],\n",
       "       [1.40000000e+01, 5.30000000e+01, 3.52163876e-02, 3.00000000e+00],\n",
       "       [1.60000000e+01, 4.70000000e+01, 3.55769985e-02, 2.00000000e+00],\n",
       "       [9.00000000e+00, 6.20000000e+01, 3.67931745e-02, 3.00000000e+00],\n",
       "       [2.00000000e+00, 5.60000000e+01, 3.70462132e-02, 3.00000000e+00],\n",
       "       [4.00000000e+00, 2.70000000e+01, 3.70895545e-02, 2.00000000e+00],\n",
       "       [4.30000000e+01, 4.40000000e+01, 3.79728962e-02, 2.00000000e+00],\n",
       "       [4.60000000e+01, 6.30000000e+01, 3.80378706e-02, 3.00000000e+00],\n",
       "       [5.70000000e+01, 5.90000000e+01, 4.06190837e-02, 4.00000000e+00],\n",
       "       [6.00000000e+00, 3.70000000e+01, 4.35072010e-02, 2.00000000e+00],\n",
       "       [6.10000000e+01, 7.00000000e+01, 4.81550852e-02, 7.00000000e+00],\n",
       "       [1.80000000e+01, 5.50000000e+01, 5.03288154e-02, 3.00000000e+00],\n",
       "       [3.20000000e+01, 5.40000000e+01, 5.08384282e-02, 3.00000000e+00],\n",
       "       [2.20000000e+01, 6.70000000e+01, 5.30717012e-02, 4.00000000e+00],\n",
       "       [6.40000000e+01, 6.50000000e+01, 6.36625513e-02, 5.00000000e+00],\n",
       "       [5.80000000e+01, 7.30000000e+01, 6.81039997e-02, 5.00000000e+00],\n",
       "       [7.00000000e+00, 6.60000000e+01, 7.01054107e-02, 4.00000000e+00],\n",
       "       [6.80000000e+01, 8.10000000e+01, 7.10004437e-02, 7.00000000e+00],\n",
       "       [6.90000000e+01, 7.10000000e+01, 7.23766124e-02, 5.00000000e+00],\n",
       "       [7.20000000e+01, 7.40000000e+01, 8.75948791e-02, 6.00000000e+00],\n",
       "       [3.80000000e+01, 7.70000000e+01, 9.49055395e-02, 4.00000000e+00],\n",
       "       [8.20000000e+01, 8.40000000e+01, 1.11942324e-01, 9.00000000e+00],\n",
       "       [1.00000000e+00, 7.60000000e+01, 1.13051917e-01, 8.00000000e+00],\n",
       "       [7.50000000e+01, 8.50000000e+01, 1.20740752e-01, 8.00000000e+00],\n",
       "       [8.00000000e+01, 8.30000000e+01, 1.23628171e-01, 1.20000000e+01],\n",
       "       [7.80000000e+01, 8.80000000e+01, 1.43433642e-01, 1.10000000e+01],\n",
       "       [4.80000000e+01, 7.90000000e+01, 1.52587500e-01, 5.00000000e+00],\n",
       "       [8.60000000e+01, 8.90000000e+01, 1.94296854e-01, 1.20000000e+01],\n",
       "       [8.70000000e+01, 9.10000000e+01, 2.26915155e-01, 2.00000000e+01],\n",
       "       [1.00000000e+01, 9.20000000e+01, 3.22212884e-01, 6.00000000e+00],\n",
       "       [9.00000000e+01, 9.40000000e+01, 1.06135467e+00, 3.20000000e+01],\n",
       "       [9.30000000e+01, 9.50000000e+01, 1.17097197e+00, 1.80000000e+01],\n",
       "       [9.60000000e+01, 9.70000000e+01, 3.07456283e+00, 5.00000000e+01]])"
      ]
     },
     "execution_count": 44,
     "metadata": {},
     "output_type": "execute_result"
    }
   ],
   "source": [
    "c = complete(pdist(data_scaled))\n",
    "c \n"
   ]
  },
  {
   "cell_type": "code",
   "execution_count": 47,
   "id": "7fb669f6",
   "metadata": {},
   "outputs": [],
   "source": [
    "c_df =pd.DataFrame(c)\n",
    "cophe_dists_c = cophenet(c) \n",
    "orign_dists_c = fc.pdist(data_scaled) "
   ]
  },
  {
   "cell_type": "code",
   "execution_count": 48,
   "id": "dc332169",
   "metadata": {},
   "outputs": [
    {
     "data": {
      "text/plain": [
       "0.8086533374724852"
      ]
     },
     "execution_count": 48,
     "metadata": {},
     "output_type": "execute_result"
    }
   ],
   "source": [
    "# Calculating cophenetic correlation\n",
    "corr_coef_c = np.corrcoef(orign_dists_c, cophe_dists_c)[0,1] \n",
    "corr_coef_c #0.81"
   ]
  },
  {
   "cell_type": "code",
   "execution_count": null,
   "id": "9f47924c",
   "metadata": {},
   "outputs": [],
   "source": []
  }
 ],
 "metadata": {
  "kernelspec": {
   "display_name": "Python 3",
   "language": "python",
   "name": "python3"
  },
  "language_info": {
   "codemirror_mode": {
    "name": "ipython",
    "version": 3
   },
   "file_extension": ".py",
   "mimetype": "text/x-python",
   "name": "python",
   "nbconvert_exporter": "python",
   "pygments_lexer": "ipython3",
   "version": "3.8.8"
  }
 },
 "nbformat": 4,
 "nbformat_minor": 5
}
