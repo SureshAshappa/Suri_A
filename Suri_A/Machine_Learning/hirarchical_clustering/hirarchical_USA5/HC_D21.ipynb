{
 "cells": [
  {
   "cell_type": "code",
   "execution_count": 15,
   "id": "c2f1ee08",
   "metadata": {},
   "outputs": [
    {
     "name": "stdout",
     "output_type": "stream",
     "text": [
      "Defaulting to user installation because normal site-packages is not writeable\n",
      "Requirement already satisfied: fastcluster in c:\\users\\suresh a\\appdata\\roaming\\python\\python38\\site-packages (1.2.4)\n",
      "Requirement already satisfied: numpy>=1.9 in c:\\program files\\ancondapython\\lib\\site-packages (from fastcluster) (1.20.1)\n"
     ]
    }
   ],
   "source": [
    "!pip install fastcluster"
   ]
  },
  {
   "cell_type": "code",
   "execution_count": 16,
   "id": "90d425eb",
   "metadata": {},
   "outputs": [],
   "source": [
    "import pandas as pd\n",
    "import numpy as np\n",
    "from matplotlib import pyplot as plt\n",
    "import seaborn as sns\n",
    "from sklearn.preprocessing import normalize\n",
    "from sklearn.cluster import AgglomerativeClustering\n",
    "import scipy.cluster.hierarchy as shc\n",
    "from scipy.cluster.hierarchy import single, ward, complete, average, cophenet\n",
    "from scipy.spatial.distance import pdist, squareform\n",
    "import fastcluster as fc\n",
    "from scipy.spatial import distance_matrix\n",
    "from scipy.spatial import distance"
   ]
  },
  {
   "cell_type": "code",
   "execution_count": 17,
   "id": "76a889f7",
   "metadata": {},
   "outputs": [],
   "source": [
    "# Importing the USArrests5 dataset\n",
    "df=pd.read_csv(\"Downloads/USA5.csv\")\n"
   ]
  },
  {
   "cell_type": "code",
   "execution_count": 18,
   "id": "c699af08",
   "metadata": {},
   "outputs": [],
   "source": [
    "df=pd.DataFrame(df)\n"
   ]
  },
  {
   "cell_type": "code",
   "execution_count": 19,
   "id": "1303d161",
   "metadata": {},
   "outputs": [
    {
     "data": {
      "text/html": [
       "<div>\n",
       "<style scoped>\n",
       "    .dataframe tbody tr th:only-of-type {\n",
       "        vertical-align: middle;\n",
       "    }\n",
       "\n",
       "    .dataframe tbody tr th {\n",
       "        vertical-align: top;\n",
       "    }\n",
       "\n",
       "    .dataframe thead th {\n",
       "        text-align: right;\n",
       "    }\n",
       "</style>\n",
       "<table border=\"1\" class=\"dataframe\">\n",
       "  <thead>\n",
       "    <tr style=\"text-align: right;\">\n",
       "      <th></th>\n",
       "      <th>State</th>\n",
       "      <th>Murder</th>\n",
       "      <th>Assault</th>\n",
       "      <th>UrbanPop</th>\n",
       "      <th>Rape</th>\n",
       "    </tr>\n",
       "  </thead>\n",
       "  <tbody>\n",
       "    <tr>\n",
       "      <th>0</th>\n",
       "      <td>Alabama</td>\n",
       "      <td>13.2</td>\n",
       "      <td>236</td>\n",
       "      <td>58</td>\n",
       "      <td>21.2</td>\n",
       "    </tr>\n",
       "    <tr>\n",
       "      <th>1</th>\n",
       "      <td>Idaho</td>\n",
       "      <td>2.6</td>\n",
       "      <td>120</td>\n",
       "      <td>54</td>\n",
       "      <td>14.2</td>\n",
       "    </tr>\n",
       "    <tr>\n",
       "      <th>2</th>\n",
       "      <td>NewYork</td>\n",
       "      <td>11.1</td>\n",
       "      <td>254</td>\n",
       "      <td>86</td>\n",
       "      <td>26.1</td>\n",
       "    </tr>\n",
       "    <tr>\n",
       "      <th>3</th>\n",
       "      <td>Virginia</td>\n",
       "      <td>8.5</td>\n",
       "      <td>156</td>\n",
       "      <td>63</td>\n",
       "      <td>20.7</td>\n",
       "    </tr>\n",
       "    <tr>\n",
       "      <th>4</th>\n",
       "      <td>Rhode</td>\n",
       "      <td>3.4</td>\n",
       "      <td>174</td>\n",
       "      <td>87</td>\n",
       "      <td>8.3</td>\n",
       "    </tr>\n",
       "  </tbody>\n",
       "</table>\n",
       "</div>"
      ],
      "text/plain": [
       "      State  Murder  Assault  UrbanPop  Rape\n",
       "0   Alabama    13.2      236        58  21.2\n",
       "1     Idaho     2.6      120        54  14.2\n",
       "2   NewYork    11.1      254        86  26.1\n",
       "3  Virginia     8.5      156        63  20.7\n",
       "4     Rhode     3.4      174        87   8.3"
      ]
     },
     "execution_count": 19,
     "metadata": {},
     "output_type": "execute_result"
    }
   ],
   "source": [
    "df.head()\n"
   ]
  },
  {
   "cell_type": "code",
   "execution_count": 20,
   "id": "e8b4e745",
   "metadata": {},
   "outputs": [
    {
     "name": "stdout",
     "output_type": "stream",
     "text": [
      "<class 'pandas.core.frame.DataFrame'>\n",
      "RangeIndex: 5 entries, 0 to 4\n",
      "Data columns (total 5 columns):\n",
      " #   Column    Non-Null Count  Dtype  \n",
      "---  ------    --------------  -----  \n",
      " 0   State     5 non-null      object \n",
      " 1   Murder    5 non-null      float64\n",
      " 2   Assault   5 non-null      int64  \n",
      " 3   UrbanPop  5 non-null      int64  \n",
      " 4   Rape      5 non-null      float64\n",
      "dtypes: float64(2), int64(2), object(1)\n",
      "memory usage: 328.0+ bytes\n"
     ]
    }
   ],
   "source": [
    "df.info()"
   ]
  },
  {
   "cell_type": "code",
   "execution_count": null,
   "id": "c08ddbaa",
   "metadata": {},
   "outputs": [],
   "source": [
    "# Making the column \"State\" as the index"
   ]
  },
  {
   "cell_type": "code",
   "execution_count": 21,
   "id": "53806d7c",
   "metadata": {},
   "outputs": [
    {
     "data": {
      "text/html": [
       "<div>\n",
       "<style scoped>\n",
       "    .dataframe tbody tr th:only-of-type {\n",
       "        vertical-align: middle;\n",
       "    }\n",
       "\n",
       "    .dataframe tbody tr th {\n",
       "        vertical-align: top;\n",
       "    }\n",
       "\n",
       "    .dataframe thead th {\n",
       "        text-align: right;\n",
       "    }\n",
       "</style>\n",
       "<table border=\"1\" class=\"dataframe\">\n",
       "  <thead>\n",
       "    <tr style=\"text-align: right;\">\n",
       "      <th></th>\n",
       "      <th>Murder</th>\n",
       "      <th>Assault</th>\n",
       "      <th>UrbanPop</th>\n",
       "      <th>Rape</th>\n",
       "    </tr>\n",
       "    <tr>\n",
       "      <th>State</th>\n",
       "      <th></th>\n",
       "      <th></th>\n",
       "      <th></th>\n",
       "      <th></th>\n",
       "    </tr>\n",
       "  </thead>\n",
       "  <tbody>\n",
       "    <tr>\n",
       "      <th>Alabama</th>\n",
       "      <td>13.2</td>\n",
       "      <td>236</td>\n",
       "      <td>58</td>\n",
       "      <td>21.2</td>\n",
       "    </tr>\n",
       "    <tr>\n",
       "      <th>Idaho</th>\n",
       "      <td>2.6</td>\n",
       "      <td>120</td>\n",
       "      <td>54</td>\n",
       "      <td>14.2</td>\n",
       "    </tr>\n",
       "    <tr>\n",
       "      <th>NewYork</th>\n",
       "      <td>11.1</td>\n",
       "      <td>254</td>\n",
       "      <td>86</td>\n",
       "      <td>26.1</td>\n",
       "    </tr>\n",
       "    <tr>\n",
       "      <th>Virginia</th>\n",
       "      <td>8.5</td>\n",
       "      <td>156</td>\n",
       "      <td>63</td>\n",
       "      <td>20.7</td>\n",
       "    </tr>\n",
       "    <tr>\n",
       "      <th>Rhode</th>\n",
       "      <td>3.4</td>\n",
       "      <td>174</td>\n",
       "      <td>87</td>\n",
       "      <td>8.3</td>\n",
       "    </tr>\n",
       "  </tbody>\n",
       "</table>\n",
       "</div>"
      ],
      "text/plain": [
       "          Murder  Assault  UrbanPop  Rape\n",
       "State                                    \n",
       "Alabama     13.2      236        58  21.2\n",
       "Idaho        2.6      120        54  14.2\n",
       "NewYork     11.1      254        86  26.1\n",
       "Virginia     8.5      156        63  20.7\n",
       "Rhode        3.4      174        87   8.3"
      ]
     },
     "execution_count": 21,
     "metadata": {},
     "output_type": "execute_result"
    }
   ],
   "source": [
    "df=df.set_index('State')\n",
    "df.head()"
   ]
  },
  {
   "cell_type": "code",
   "execution_count": 25,
   "id": "2bd3ee28",
   "metadata": {},
   "outputs": [
    {
     "ename": "NameError",
     "evalue": "name 'data' is not defined",
     "output_type": "error",
     "traceback": [
      "\u001b[1;31m---------------------------------------------------------------------------\u001b[0m",
      "\u001b[1;31mNameError\u001b[0m                                 Traceback (most recent call last)",
      "\u001b[1;32m<ipython-input-25-68863edcc856>\u001b[0m in \u001b[0;36m<module>\u001b[1;34m\u001b[0m\n\u001b[0;32m      1\u001b[0m \u001b[1;32mfrom\u001b[0m \u001b[0msklearn\u001b[0m\u001b[1;33m.\u001b[0m\u001b[0mpreprocessing\u001b[0m \u001b[1;32mimport\u001b[0m \u001b[0mnormalize\u001b[0m\u001b[1;33m\u001b[0m\u001b[1;33m\u001b[0m\u001b[0m\n\u001b[1;32m----> 2\u001b[1;33m \u001b[0mdata_scaled\u001b[0m \u001b[1;33m=\u001b[0m \u001b[0mnormalize\u001b[0m\u001b[1;33m(\u001b[0m\u001b[0mdata\u001b[0m\u001b[1;33m)\u001b[0m\u001b[1;33m\u001b[0m\u001b[1;33m\u001b[0m\u001b[0m\n\u001b[0m\u001b[0;32m      3\u001b[0m \u001b[0mdata_scaled\u001b[0m \u001b[1;33m=\u001b[0m \u001b[0mpd\u001b[0m\u001b[1;33m.\u001b[0m\u001b[0mDataFrame\u001b[0m\u001b[1;33m(\u001b[0m\u001b[0mdata_scaled\u001b[0m\u001b[1;33m,\u001b[0m \u001b[0mcolumns\u001b[0m\u001b[1;33m=\u001b[0m\u001b[0mdata\u001b[0m\u001b[1;33m.\u001b[0m\u001b[0mcolumns\u001b[0m\u001b[1;33m)\u001b[0m\u001b[1;33m\u001b[0m\u001b[1;33m\u001b[0m\u001b[0m\n",
      "\u001b[1;31mNameError\u001b[0m: name 'data' is not defined"
     ]
    }
   ],
   "source": [
    "from sklearn.preprocessing import normalize\n",
    "data_scaled = normalize(data)\n",
    "data_scaled = pd.DataFrame(data_scaled, columns=data.columns)"
   ]
  },
  {
   "cell_type": "code",
   "execution_count": null,
   "id": "476b4956",
   "metadata": {},
   "outputs": [],
   "source": [
    "import scipy.cluster.hierarchy as shc"
   ]
  },
  {
   "cell_type": "code",
   "execution_count": null,
   "id": "c89e2350",
   "metadata": {},
   "outputs": [],
   "source": [
    "plt.figure(figsize=(10, 7))  \n",
    "plt.title(\"Dendrogram_w\")  \n",
    "dend = shc.dendrogram(shc.linkage(df_scaled, method='ward'))\n",
    "plt.axhline(y=0.4, color='r', linestyle='--') #4 clstrs\n"
   ]
  },
  {
   "cell_type": "code",
   "execution_count": 22,
   "id": "aee7ddc5",
   "metadata": {},
   "outputs": [
    {
     "ename": "NameError",
     "evalue": "name 'df_scaled' is not defined",
     "output_type": "error",
     "traceback": [
      "\u001b[1;31m---------------------------------------------------------------------------\u001b[0m",
      "\u001b[1;31mNameError\u001b[0m                                 Traceback (most recent call last)",
      "\u001b[1;32m<ipython-input-22-33bfb148e72d>\u001b[0m in \u001b[0;36m<module>\u001b[1;34m\u001b[0m\n\u001b[0;32m      1\u001b[0m \u001b[0mplt\u001b[0m\u001b[1;33m.\u001b[0m\u001b[0mfigure\u001b[0m\u001b[1;33m(\u001b[0m\u001b[0mfigsize\u001b[0m\u001b[1;33m=\u001b[0m\u001b[1;33m(\u001b[0m\u001b[1;36m10\u001b[0m\u001b[1;33m,\u001b[0m \u001b[1;36m7\u001b[0m\u001b[1;33m)\u001b[0m\u001b[1;33m)\u001b[0m\u001b[1;33m\u001b[0m\u001b[1;33m\u001b[0m\u001b[0m\n\u001b[0;32m      2\u001b[0m \u001b[0mplt\u001b[0m\u001b[1;33m.\u001b[0m\u001b[0mtitle\u001b[0m\u001b[1;33m(\u001b[0m\u001b[1;34m\"Dendrogram_w\"\u001b[0m\u001b[1;33m)\u001b[0m\u001b[1;33m\u001b[0m\u001b[1;33m\u001b[0m\u001b[0m\n\u001b[1;32m----> 3\u001b[1;33m \u001b[0mdend\u001b[0m \u001b[1;33m=\u001b[0m \u001b[0mshc\u001b[0m\u001b[1;33m.\u001b[0m\u001b[0mdendrogram\u001b[0m\u001b[1;33m(\u001b[0m\u001b[0mshc\u001b[0m\u001b[1;33m.\u001b[0m\u001b[0mlinkage\u001b[0m\u001b[1;33m(\u001b[0m\u001b[0mdf_scaled\u001b[0m\u001b[1;33m,\u001b[0m \u001b[0mmethod\u001b[0m\u001b[1;33m=\u001b[0m\u001b[1;34m'ward'\u001b[0m\u001b[1;33m)\u001b[0m\u001b[1;33m)\u001b[0m\u001b[1;33m\u001b[0m\u001b[1;33m\u001b[0m\u001b[0m\n\u001b[0m\u001b[0;32m      4\u001b[0m \u001b[0mplt\u001b[0m\u001b[1;33m.\u001b[0m\u001b[0maxhline\u001b[0m\u001b[1;33m(\u001b[0m\u001b[0my\u001b[0m\u001b[1;33m=\u001b[0m\u001b[1;36m0.4\u001b[0m\u001b[1;33m,\u001b[0m \u001b[0mcolor\u001b[0m\u001b[1;33m=\u001b[0m\u001b[1;34m'r'\u001b[0m\u001b[1;33m,\u001b[0m \u001b[0mlinestyle\u001b[0m\u001b[1;33m=\u001b[0m\u001b[1;34m'--'\u001b[0m\u001b[1;33m)\u001b[0m \u001b[1;31m#4 clstrs\u001b[0m\u001b[1;33m\u001b[0m\u001b[1;33m\u001b[0m\u001b[0m\n",
      "\u001b[1;31mNameError\u001b[0m: name 'df_scaled' is not defined"
     ]
    },
    {
     "data": {
      "image/png": "[encoded data removed]",
      "text/plain": [
       "<Figure size 720x504 with 1 Axes>"
      ]
     },
     "metadata": {
      "needs_background": "light"
     },
     "output_type": "display_data"
    }
   ],
   "source": [
    "plt.figure(figsize=(10, 7))  \n",
    "plt.title(\"Dendrogram_w\")  \n",
    "dend = shc.dendrogram(shc.linkage(df_scaled, method='ward'))\n",
    "plt.axhline(y=0.4, color='r', linestyle='--') #4 clstrs\n"
   ]
  },
  {
   "cell_type": "code",
   "execution_count": null,
   "id": "36bd0512",
   "metadata": {},
   "outputs": [],
   "source": [
    "#__________________________________dist matrix"
   ]
  },
  {
   "cell_type": "code",
   "execution_count": 9,
   "id": "44c9fa51",
   "metadata": {},
   "outputs": [
    {
     "data": {
      "text/html": [
       "<div>\n",
       "<style scoped>\n",
       "    .dataframe tbody tr th:only-of-type {\n",
       "        vertical-align: middle;\n",
       "    }\n",
       "\n",
       "    .dataframe tbody tr th {\n",
       "        vertical-align: top;\n",
       "    }\n",
       "\n",
       "    .dataframe thead th {\n",
       "        text-align: right;\n",
       "    }\n",
       "</style>\n",
       "<table border=\"1\" class=\"dataframe\">\n",
       "  <thead>\n",
       "    <tr style=\"text-align: right;\">\n",
       "      <th>State</th>\n",
       "      <th>Alabama</th>\n",
       "      <th>Idaho</th>\n",
       "      <th>NewYork</th>\n",
       "      <th>Virginia</th>\n",
       "      <th>Rhode</th>\n",
       "    </tr>\n",
       "    <tr>\n",
       "      <th>State</th>\n",
       "      <th></th>\n",
       "      <th></th>\n",
       "      <th></th>\n",
       "      <th></th>\n",
       "      <th></th>\n",
       "    </tr>\n",
       "  </thead>\n",
       "  <tbody>\n",
       "    <tr>\n",
       "      <th>Alabama</th>\n",
       "      <td>0.00</td>\n",
       "      <td>116.76</td>\n",
       "      <td>33.71</td>\n",
       "      <td>80.30</td>\n",
       "      <td>70.34</td>\n",
       "    </tr>\n",
       "    <tr>\n",
       "      <th>Idaho</th>\n",
       "      <td>116.76</td>\n",
       "      <td>0.00</td>\n",
       "      <td>138.54</td>\n",
       "      <td>38.13</td>\n",
       "      <td>63.56</td>\n",
       "    </tr>\n",
       "    <tr>\n",
       "      <th>NewYork</th>\n",
       "      <td>33.71</td>\n",
       "      <td>138.54</td>\n",
       "      <td>0.00</td>\n",
       "      <td>100.84</td>\n",
       "      <td>82.32</td>\n",
       "    </tr>\n",
       "    <tr>\n",
       "      <th>Virginia</th>\n",
       "      <td>80.30</td>\n",
       "      <td>38.13</td>\n",
       "      <td>100.84</td>\n",
       "      <td>0.00</td>\n",
       "      <td>32.86</td>\n",
       "    </tr>\n",
       "    <tr>\n",
       "      <th>Rhode</th>\n",
       "      <td>70.34</td>\n",
       "      <td>63.56</td>\n",
       "      <td>82.32</td>\n",
       "      <td>32.86</td>\n",
       "      <td>0.00</td>\n",
       "    </tr>\n",
       "  </tbody>\n",
       "</table>\n",
       "</div>"
      ],
      "text/plain": [
       "State     Alabama   Idaho  NewYork  Virginia  Rhode\n",
       "State                                              \n",
       "Alabama      0.00  116.76    33.71     80.30  70.34\n",
       "Idaho      116.76    0.00   138.54     38.13  63.56\n",
       "NewYork     33.71  138.54     0.00    100.84  82.32\n",
       "Virginia    80.30   38.13   100.84      0.00  32.86\n",
       "Rhode       70.34   63.56    82.32     32.86   0.00"
      ]
     },
     "execution_count": 9,
     "metadata": {},
     "output_type": "execute_result"
    }
   ],
   "source": [
    "from scipy.spatial import distance_matrix\n",
    "from scipy.spatial import distance\n",
    "DM=pd.DataFrame(distance_matrix(df.values, df.values), index=df.index, \n",
    "             columns=df.index)\n",
    "round(DM, 2)\n"
   ]
  },
  {
   "cell_type": "code",
   "execution_count": null,
   "id": "ebdd8cae",
   "metadata": {},
   "outputs": [],
   "source": [
    "#______Dendrogram"
   ]
  },
  {
   "cell_type": "code",
   "execution_count": 10,
   "id": "cfbeea37",
   "metadata": {},
   "outputs": [],
   "source": [
    "import scipy.cluster.hierarchy as shc"
   ]
  },
  {
   "cell_type": "code",
   "execution_count": 11,
   "id": "cfeed339",
   "metadata": {},
   "outputs": [
    {
     "data": {
      "text/plain": [
       "<matplotlib.lines.Line2D at 0x27c5d5bf340>"
      ]
     },
     "execution_count": 11,
     "metadata": {},
     "output_type": "execute_result"
    },
    {
     "data": {
      "image/png": "[encoded data removed]",
      "text/plain": [
       "<Figure size 720x504 with 1 Axes>"
      ]
     },
     "metadata": {
      "needs_background": "light"
     },
     "output_type": "display_data"
    }
   ],
   "source": [
    "plt.figure(figsize=(10, 7))  \n",
    "plt.title(\"Dendrogram_single\")  \n",
    "dend = shc.dendrogram(shc.linkage(df, method='single'))\n",
    "plt.axhline(y=42, color='m', linestyle=':') \n"
   ]
  },
  {
   "cell_type": "code",
   "execution_count": null,
   "id": "60b8a72d",
   "metadata": {},
   "outputs": [],
   "source": [
    "#+++++++++++++++++++++++++cophenetic single"
   ]
  },
  {
   "cell_type": "code",
   "execution_count": 12,
   "id": "d16d80da",
   "metadata": {},
   "outputs": [
    {
     "data": {
      "text/plain": [
       "<matplotlib.lines.Line2D at 0x27c5dca3cd0>"
      ]
     },
     "execution_count": 12,
     "metadata": {},
     "output_type": "execute_result"
    },
    {
     "data": {
      "image/png": "[encoded data removed]",
      "text/plain": [
       "<Figure size 648x432 with 1 Axes>"
      ]
     },
     "metadata": {
      "needs_background": "light"
     },
     "output_type": "display_data"
    }
   ],
   "source": [
    "plt.figure(figsize=(9,6))\n",
    "plt.title('Dendogram_single')\n",
    "dend=shc.dendrogram(shc.linkage(df,method='single'))\n",
    "plt.axhline(y=0.3,color='red',linestyle='--')\n"
   ]
  },
  {
   "cell_type": "code",
   "execution_count": 13,
   "id": "97e9c620",
   "metadata": {},
   "outputs": [
    {
     "data": {
      "text/plain": [
       "array([[ 3.        ,  4.        , 32.85985393,  2.        ],\n",
       "       [ 0.        ,  2.        , 33.71082912,  2.        ],\n",
       "       [ 1.        ,  5.        , 38.13213868,  3.        ],\n",
       "       [ 6.        ,  7.        , 70.338112  ,  5.        ]])"
      ]
     },
     "execution_count": 13,
     "metadata": {},
     "output_type": "execute_result"
    }
   ],
   "source": [
    "s = single(pdist(df))\n",
    "s "
   ]
  },
  {
   "cell_type": "code",
   "execution_count": null,
   "id": "015b91a6",
   "metadata": {},
   "outputs": [],
   "source": [
    "s_df =pd.DataFrame(s)"
   ]
  },
  {
   "cell_type": "code",
   "execution_count": 15,
   "id": "e2c93520",
   "metadata": {},
   "outputs": [
    {
     "data": {
      "text/plain": [
       "array([70.338112  , 33.71082912, 70.338112  , 70.338112  , 70.338112  ,\n",
       "       38.13213868, 38.13213868, 70.338112  , 70.338112  , 32.85985393])"
      ]
     },
     "execution_count": 15,
     "metadata": {},
     "output_type": "execute_result"
    }
   ],
   "source": [
    "cophe_dists_s = cophenet(s) \n",
    "cophe_dists_s"
   ]
  },
  {
   "cell_type": "code",
   "execution_count": 16,
   "id": "6adb7db3",
   "metadata": {},
   "outputs": [],
   "source": [
    "cophe_dists_s_df = pd.DataFrame(cophe_dists_s)\n",
    "orign_dists_s = fc.pdist(df) "
   ]
  },
  {
   "cell_type": "code",
   "execution_count": null,
   "id": "35601568",
   "metadata": {},
   "outputs": [],
   "source": [
    "# Calculating cophenetic correlation"
   ]
  },
  {
   "cell_type": "code",
   "execution_count": 18,
   "id": "c99782f6",
   "metadata": {},
   "outputs": [
    {
     "data": {
      "text/plain": [
       "0.8214977855537708"
      ]
     },
     "execution_count": 18,
     "metadata": {},
     "output_type": "execute_result"
    }
   ],
   "source": [
    "corr_coef_s = np.corrcoef(orign_dists_s, cophe_dists_s)[0,1] \n",
    "corr_coef_s #0.82\n"
   ]
  },
  {
   "cell_type": "code",
   "execution_count": 19,
   "id": "236b140f",
   "metadata": {},
   "outputs": [
    {
     "data": {
      "text/plain": [
       "array([3, 2, 1, 0, 0], dtype=int64)"
      ]
     },
     "execution_count": 19,
     "metadata": {},
     "output_type": "execute_result"
    }
   ],
   "source": [
    "from sklearn.cluster import AgglomerativeClustering\n",
    "cluster = AgglomerativeClustering(n_clusters=4, affinity='euclidean', linkage='ward')  \n",
    "cluster.fit_predict(df)"
   ]
  },
  {
   "cell_type": "code",
   "execution_count": 20,
   "id": "074b25bb",
   "metadata": {},
   "outputs": [],
   "source": [
    "df['cluster'] = cluster.labels_"
   ]
  },
  {
   "cell_type": "code",
   "execution_count": 21,
   "id": "2e07ac19",
   "metadata": {},
   "outputs": [
    {
     "data": {
      "text/plain": [
       "<matplotlib.collections.PathCollection at 0x27c5dd065e0>"
      ]
     },
     "execution_count": 21,
     "metadata": {},
     "output_type": "execute_result"
    },
    {
     "data": {
      "image/png": "[encoded data removed]",
      "text/plain": [
       "<Figure size 720x504 with 1 Axes>"
      ]
     },
     "metadata": {
      "needs_background": "light"
     },
     "output_type": "display_data"
    }
   ],
   "source": [
    "plt.figure(figsize=(10, 7))  \n",
    "plt.scatter(df['Murder'], df['Rape'], c=cluster.labels_)"
   ]
  },
  {
   "cell_type": "code",
   "execution_count": null,
   "id": "c6729469",
   "metadata": {},
   "outputs": [],
   "source": [
    "#____________________seaborn"
   ]
  },
  {
   "cell_type": "code",
   "execution_count": 22,
   "id": "5df748fd",
   "metadata": {},
   "outputs": [
    {
     "data": {
      "text/plain": [
       "Text(0.42499999999999716, 0.5, 'Rape')"
      ]
     },
     "execution_count": 22,
     "metadata": {},
     "output_type": "execute_result"
    },
    {
     "data": {
      "image/png": "[encoded data removed]",
      "text/plain": [
       "<Figure size 360x360 with 1 Axes>"
      ]
     },
     "metadata": {
      "needs_background": "light"
     },
     "output_type": "display_data"
    }
   ],
   "source": [
    "sns.lmplot(data=df, x='Murder', y='Rape', hue='cluster', \n",
    "                   fit_reg=False, legend=True, legend_out=False)\n",
    "plt.title('Cluster Plot_w')\n",
    "plt.xlabel('Murder')\n",
    "plt.ylabel('Rape')"
   ]
  },
  {
   "cell_type": "code",
   "execution_count": null,
   "id": "19995dd5",
   "metadata": {},
   "outputs": [],
   "source": [
    "#_____________cophenetic corr_ward"
   ]
  },
  {
   "cell_type": "code",
   "execution_count": 23,
   "id": "1f65ae05",
   "metadata": {},
   "outputs": [],
   "source": [
    "from scipy.cluster.hierarchy import single, ward, complete, average, cophenet\n",
    "from scipy.spatial.distance import pdist, squareform\n",
    "import fastcluster as fc\n",
    "import numpy as np"
   ]
  },
  {
   "cell_type": "code",
   "execution_count": 24,
   "id": "64ca5717",
   "metadata": {},
   "outputs": [
    {
     "data": {
      "text/plain": [
       "array([[  3.        ,   4.        ,  32.85985393,   2.        ],\n",
       "       [  0.        ,   2.        ,  33.77010512,   2.        ],\n",
       "       [  1.        ,   5.        ,  57.51883749,   3.        ],\n",
       "       [  6.        ,   7.        , 148.44695124,   5.        ]])"
      ]
     },
     "execution_count": 24,
     "metadata": {},
     "output_type": "execute_result"
    }
   ],
   "source": [
    "w = ward(pdist(df))\n",
    "w "
   ]
  },
  {
   "cell_type": "code",
   "execution_count": 25,
   "id": "3c343e98",
   "metadata": {},
   "outputs": [],
   "source": [
    "w_df =pd.DataFrame(w)\n",
    "cophe_dists_w = cophenet(w)\n",
    "cophe_dists_w\n",
    "cophe_dists_w_df = pd.DataFrame(cophe_dists_w)"
   ]
  },
  {
   "cell_type": "code",
   "execution_count": 26,
   "id": "e9b8558a",
   "metadata": {},
   "outputs": [],
   "source": [
    "orign_dists_w = fc.pdist(df) "
   ]
  },
  {
   "cell_type": "code",
   "execution_count": null,
   "id": "e70c3284",
   "metadata": {},
   "outputs": [],
   "source": [
    "# Calculating cophenetic correlation"
   ]
  },
  {
   "cell_type": "code",
   "execution_count": 27,
   "id": "fb46b771",
   "metadata": {},
   "outputs": [
    {
     "data": {
      "text/plain": [
       "0.825593795846236"
      ]
     },
     "execution_count": 27,
     "metadata": {},
     "output_type": "execute_result"
    }
   ],
   "source": [
    "corr_coef_w = np.corrcoef(orign_dists_w, cophe_dists_w)[0,1] \n",
    "corr_coef_w #0.82"
   ]
  },
  {
   "cell_type": "code",
   "execution_count": null,
   "id": "1a9ff65d",
   "metadata": {},
   "outputs": [],
   "source": [
    "#_____________________________below in one run"
   ]
  },
  {
   "cell_type": "code",
   "execution_count": 28,
   "id": "1481d8bb",
   "metadata": {},
   "outputs": [
    {
     "data": {
      "text/plain": [
       "<matplotlib.lines.Line2D at 0x27c5bbcb520>"
      ]
     },
     "execution_count": 28,
     "metadata": {},
     "output_type": "execute_result"
    },
    {
     "data": {
      "image/png": "[encoded data removed]",
      "text/plain": [
       "<Figure size 648x432 with 1 Axes>"
      ]
     },
     "metadata": {
      "needs_background": "light"
     },
     "output_type": "display_data"
    }
   ],
   "source": [
    "plt.figure(figsize=(9,6))\n",
    "plt.title('Dendogram_average')\n",
    "dend=shc.dendrogram(shc.linkage(df,method='average'))\n",
    "plt.axhline(y=0.5,color='m',linestyle='--')"
   ]
  },
  {
   "cell_type": "code",
   "execution_count": null,
   "id": "502dc820",
   "metadata": {},
   "outputs": [],
   "source": [
    "#____cophenetic correlation_______________AVERAGE"
   ]
  },
  {
   "cell_type": "code",
   "execution_count": 29,
   "id": "3f62b40d",
   "metadata": {},
   "outputs": [],
   "source": [
    "from scipy.cluster.hierarchy import single, ward, complete, average, cophenet\n",
    "from scipy.spatial.distance import pdist, squareform\n",
    "import fastcluster as fc\n",
    "import numpy as np"
   ]
  },
  {
   "cell_type": "code",
   "execution_count": 30,
   "id": "868ea6e1",
   "metadata": {},
   "outputs": [],
   "source": [
    "a = average(pdist(df)) # dists at which clubbing happened"
   ]
  },
  {
   "cell_type": "code",
   "execution_count": 31,
   "id": "80116173",
   "metadata": {},
   "outputs": [
    {
     "data": {
      "text/plain": [
       "array([[ 3.        ,  4.        , 32.85985393,  2.        ],\n",
       "       [ 0.        ,  2.        , 33.77010512,  2.        ],\n",
       "       [ 1.        ,  5.        , 50.89027114,  3.        ],\n",
       "       [ 6.        ,  7.        , 98.20676865,  5.        ]])"
      ]
     },
     "execution_count": 31,
     "metadata": {},
     "output_type": "execute_result"
    }
   ],
   "source": [
    "a"
   ]
  },
  {
   "cell_type": "code",
   "execution_count": 32,
   "id": "b493de95",
   "metadata": {},
   "outputs": [],
   "source": [
    "a_df = pd.DataFrame(a)"
   ]
  },
  {
   "cell_type": "code",
   "execution_count": 33,
   "id": "3b50cd92",
   "metadata": {},
   "outputs": [
    {
     "data": {
      "text/plain": [
       "array([98.20676865, 33.77010512, 98.20676865, 98.20676865, 98.20676865,\n",
       "       50.89027114, 50.89027114, 98.20676865, 98.20676865, 32.85985393])"
      ]
     },
     "execution_count": 33,
     "metadata": {},
     "output_type": "execute_result"
    }
   ],
   "source": [
    "cophe_dists_a = cophenet(a) \n",
    "cophe_dists_a"
   ]
  },
  {
   "cell_type": "code",
   "execution_count": 35,
   "id": "393eb4dd",
   "metadata": {},
   "outputs": [],
   "source": [
    "cophe_dists_a_df = pd.DataFrame(cophe_dists_a)"
   ]
  },
  {
   "cell_type": "code",
   "execution_count": 36,
   "id": "fbfb45bf",
   "metadata": {},
   "outputs": [],
   "source": [
    "orign_dists_a = fc.pdist(df) "
   ]
  },
  {
   "cell_type": "code",
   "execution_count": null,
   "id": "9a91985f",
   "metadata": {},
   "outputs": [],
   "source": [
    "# Calculating cophenetic correlation"
   ]
  },
  {
   "cell_type": "code",
   "execution_count": 37,
   "id": "5f2e07cd",
   "metadata": {},
   "outputs": [
    {
     "data": {
      "text/plain": [
       "0.8265913396107949"
      ]
     },
     "execution_count": 37,
     "metadata": {},
     "output_type": "execute_result"
    }
   ],
   "source": [
    "corr_coef_a = np.corrcoef(orign_dists_a, cophe_dists_a)[0,1] \n",
    "corr_coef_a #0.83"
   ]
  },
  {
   "cell_type": "code",
   "execution_count": null,
   "id": "c382943b",
   "metadata": {},
   "outputs": [],
   "source": [
    "#++++++++++++++++++++++++++++++++++++++++++++++++single"
   ]
  },
  {
   "cell_type": "code",
   "execution_count": 38,
   "id": "f78299d4",
   "metadata": {},
   "outputs": [
    {
     "data": {
      "text/plain": [
       "<matplotlib.lines.Line2D at 0x27c5e3482b0>"
      ]
     },
     "execution_count": 38,
     "metadata": {},
     "output_type": "execute_result"
    },
    {
     "data": {
      "image/png": "[encoded data removed]",
      "text/plain": [
       "<Figure size 648x432 with 1 Axes>"
      ]
     },
     "metadata": {
      "needs_background": "light"
     },
     "output_type": "display_data"
    }
   ],
   "source": [
    "plt.figure(figsize=(9,6))\n",
    "plt.title('Dendogram_single')\n",
    "dend=shc.dendrogram(shc.linkage(df,method='single'))\n",
    "plt.axhline(y=0.3,color='red',linestyle='--')"
   ]
  },
  {
   "cell_type": "code",
   "execution_count": 39,
   "id": "ef98a17c",
   "metadata": {},
   "outputs": [
    {
     "data": {
      "text/plain": [
       "array([[ 3.        ,  4.        , 32.85985393,  2.        ],\n",
       "       [ 0.        ,  2.        , 33.77010512,  2.        ],\n",
       "       [ 1.        ,  5.        , 38.18455185,  3.        ],\n",
       "       [ 6.        ,  7.        , 70.40205963,  5.        ]])"
      ]
     },
     "execution_count": 39,
     "metadata": {},
     "output_type": "execute_result"
    }
   ],
   "source": [
    "s = single(pdist(df))\n",
    "s "
   ]
  },
  {
   "cell_type": "code",
   "execution_count": 50,
   "id": "edb2dca7",
   "metadata": {},
   "outputs": [
    {
     "data": {
      "text/plain": [
       "array([70.40205963, 33.77010512, 70.40205963, 70.40205963, 70.40205963,\n",
       "       38.18455185, 38.18455185, 70.40205963, 70.40205963, 32.85985393])"
      ]
     },
     "execution_count": 50,
     "metadata": {},
     "output_type": "execute_result"
    }
   ],
   "source": [
    "s_df =pd.DataFrame(s)\n",
    "cophe_dists_s = cophenet(s) \n",
    "cophe_dists_s"
   ]
  },
  {
   "cell_type": "code",
   "execution_count": 42,
   "id": "dc102052",
   "metadata": {},
   "outputs": [],
   "source": [
    "cophe_dists_s_df = pd.DataFrame(cophe_dists_s)\n",
    "orign_dists_s = fc.pdist(df) "
   ]
  },
  {
   "cell_type": "code",
   "execution_count": null,
   "id": "011bf110",
   "metadata": {},
   "outputs": [],
   "source": [
    "# Calculating cophenetic correlation"
   ]
  },
  {
   "cell_type": "code",
   "execution_count": 51,
   "id": "d3dda679",
   "metadata": {},
   "outputs": [
    {
     "data": {
      "text/plain": [
       "0.821672095871609"
      ]
     },
     "execution_count": 51,
     "metadata": {},
     "output_type": "execute_result"
    }
   ],
   "source": [
    "corr_coef_s = np.corrcoef(orign_dists_s, cophe_dists_s)[0,1] \n",
    "corr_coef_s #0.7577"
   ]
  },
  {
   "cell_type": "code",
   "execution_count": null,
   "id": "ca001512",
   "metadata": {},
   "outputs": [],
   "source": [
    "#++++++++++++++++++++++++++++++++++++++++++++++++complete"
   ]
  },
  {
   "cell_type": "code",
   "execution_count": 45,
   "id": "409405b7",
   "metadata": {},
   "outputs": [
    {
     "data": {
      "text/plain": [
       "<matplotlib.lines.Line2D at 0x27c5e362880>"
      ]
     },
     "execution_count": 45,
     "metadata": {},
     "output_type": "execute_result"
    },
    {
     "data": {
      "image/png": "[encoded data removed]",
      "text/plain": [
       "<Figure size 648x432 with 1 Axes>"
      ]
     },
     "metadata": {
      "needs_background": "light"
     },
     "output_type": "display_data"
    }
   ],
   "source": [
    "plt.figure(figsize=(9,6))\n",
    "plt.title('Dendogram_complete')\n",
    "dend=shc.dendrogram(shc.linkage(df,method='complete'))\n",
    "plt.axhline(y=0.5,color='k',linestyle='--')"
   ]
  },
  {
   "cell_type": "code",
   "execution_count": 46,
   "id": "a1750489",
   "metadata": {},
   "outputs": [
    {
     "data": {
      "text/plain": [
       "array([[  3.        ,   4.        ,  32.85985393,   2.        ],\n",
       "       [  0.        ,   2.        ,  33.77010512,   2.        ],\n",
       "       [  1.        ,   5.        ,  63.59599044,   3.        ],\n",
       "       [  6.        ,   7.        , 138.54551599,   5.        ]])"
      ]
     },
     "execution_count": 46,
     "metadata": {},
     "output_type": "execute_result"
    }
   ],
   "source": [
    "c = complete(pdist(df))\n",
    "c "
   ]
  },
  {
   "cell_type": "code",
   "execution_count": 47,
   "id": "a834dace",
   "metadata": {},
   "outputs": [],
   "source": [
    "c_df =pd.DataFrame(c)\n",
    "cophe_dists_c = cophenet(c) "
   ]
  },
  {
   "cell_type": "code",
   "execution_count": 48,
   "id": "5825b44b",
   "metadata": {},
   "outputs": [],
   "source": [
    "orign_dists_c = fc.pdist(df) "
   ]
  },
  {
   "cell_type": "code",
   "execution_count": null,
   "id": "ec462d52",
   "metadata": {},
   "outputs": [],
   "source": [
    "# Calculating cophenetic correlation"
   ]
  },
  {
   "cell_type": "code",
   "execution_count": 49,
   "id": "7318b3d7",
   "metadata": {},
   "outputs": [
    {
     "data": {
      "text/plain": [
       "0.8265056578217064"
      ]
     },
     "execution_count": 49,
     "metadata": {},
     "output_type": "execute_result"
    }
   ],
   "source": [
    "corr_coef_c = np.corrcoef(orign_dists_c, cophe_dists_c)[0,1] \n",
    "corr_coef_c #0.81"
   ]
  },
  {
   "cell_type": "code",
   "execution_count": null,
   "id": "9403a2c5",
   "metadata": {},
   "outputs": [],
   "source": []
  }
 ],
 "metadata": {
  "kernelspec": {
   "display_name": "Python 3",
   "language": "python",
   "name": "python3"
  },
  "language_info": {
   "codemirror_mode": {
    "name": "ipython",
    "version": 3
   },
   "file_extension": ".py",
   "mimetype": "text/x-python",
   "name": "python",
   "nbconvert_exporter": "python",
   "pygments_lexer": "ipython3",
   "version": "3.8.8"
  }
 },
 "nbformat": 4,
 "nbformat_minor": 5
}
