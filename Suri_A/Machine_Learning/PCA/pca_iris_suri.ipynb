{
 "cells": [
  {
   "cell_type": "code",
   "execution_count": 1,
   "id": "f9ab3dbc",
   "metadata": {},
   "outputs": [],
   "source": [
    "import pandas as pd\n",
    "import matplotlib.pyplot as plt\n",
    "from sklearn import preprocessing\n",
    "from sklearn.preprocessing import scale\n",
    "from sklearn.preprocessing import StandardScaler\n",
    "import numpy as np\n",
    "from sklearn.decomposition import PCA\n",
    "import os"
   ]
  },
  {
   "cell_type": "code",
   "execution_count": 2,
   "id": "cc8d178e",
   "metadata": {},
   "outputs": [
    {
     "data": {
      "text/html": [
       "<div>\n",
       "<style scoped>\n",
       "    .dataframe tbody tr th:only-of-type {\n",
       "        vertical-align: middle;\n",
       "    }\n",
       "\n",
       "    .dataframe tbody tr th {\n",
       "        vertical-align: top;\n",
       "    }\n",
       "\n",
       "    .dataframe thead th {\n",
       "        text-align: right;\n",
       "    }\n",
       "</style>\n",
       "<table border=\"1\" class=\"dataframe\">\n",
       "  <thead>\n",
       "    <tr style=\"text-align: right;\">\n",
       "      <th></th>\n",
       "      <th>Sepal.Length</th>\n",
       "      <th>Sepal.Width</th>\n",
       "      <th>Petal.Length</th>\n",
       "      <th>Petal.Width</th>\n",
       "      <th>Species</th>\n",
       "    </tr>\n",
       "  </thead>\n",
       "  <tbody>\n",
       "    <tr>\n",
       "      <th>0</th>\n",
       "      <td>5.1</td>\n",
       "      <td>3.5</td>\n",
       "      <td>1.4</td>\n",
       "      <td>0.2</td>\n",
       "      <td>setosa</td>\n",
       "    </tr>\n",
       "    <tr>\n",
       "      <th>1</th>\n",
       "      <td>4.9</td>\n",
       "      <td>3.0</td>\n",
       "      <td>1.4</td>\n",
       "      <td>0.2</td>\n",
       "      <td>setosa</td>\n",
       "    </tr>\n",
       "    <tr>\n",
       "      <th>2</th>\n",
       "      <td>4.7</td>\n",
       "      <td>3.2</td>\n",
       "      <td>1.3</td>\n",
       "      <td>0.2</td>\n",
       "      <td>setosa</td>\n",
       "    </tr>\n",
       "    <tr>\n",
       "      <th>3</th>\n",
       "      <td>4.6</td>\n",
       "      <td>3.1</td>\n",
       "      <td>1.5</td>\n",
       "      <td>0.2</td>\n",
       "      <td>setosa</td>\n",
       "    </tr>\n",
       "    <tr>\n",
       "      <th>4</th>\n",
       "      <td>5.0</td>\n",
       "      <td>3.6</td>\n",
       "      <td>1.4</td>\n",
       "      <td>0.2</td>\n",
       "      <td>setosa</td>\n",
       "    </tr>\n",
       "  </tbody>\n",
       "</table>\n",
       "</div>"
      ],
      "text/plain": [
       "   Sepal.Length  Sepal.Width  Petal.Length  Petal.Width Species\n",
       "0           5.1          3.5           1.4          0.2  setosa\n",
       "1           4.9          3.0           1.4          0.2  setosa\n",
       "2           4.7          3.2           1.3          0.2  setosa\n",
       "3           4.6          3.1           1.5          0.2  setosa\n",
       "4           5.0          3.6           1.4          0.2  setosa"
      ]
     },
     "execution_count": 2,
     "metadata": {},
     "output_type": "execute_result"
    }
   ],
   "source": [
    "pca2 = pd.read_csv(\"iris.csv\")\n",
    "pca2.head()"
   ]
  },
  {
   "cell_type": "code",
   "execution_count": 3,
   "id": "e501e850",
   "metadata": {},
   "outputs": [],
   "source": [
    "from sklearn.preprocessing import LabelEncoder\n",
    "le=LabelEncoder()"
   ]
  },
  {
   "cell_type": "code",
   "execution_count": 4,
   "id": "1b20b7ca",
   "metadata": {},
   "outputs": [],
   "source": [
    "pca2['Species']=le.fit_transform(pca2['Species'])"
   ]
  },
  {
   "cell_type": "code",
   "execution_count": 5,
   "id": "c47b7ee3",
   "metadata": {},
   "outputs": [],
   "source": [
    "pca2 = pd.DataFrame(pca2)"
   ]
  },
  {
   "cell_type": "code",
   "execution_count": 6,
   "id": "2bfa396c",
   "metadata": {},
   "outputs": [
    {
     "data": {
      "text/plain": [
       "(150, 5)"
      ]
     },
     "execution_count": 6,
     "metadata": {},
     "output_type": "execute_result"
    }
   ],
   "source": [
    "pca2.shape"
   ]
  },
  {
   "cell_type": "code",
   "execution_count": 7,
   "id": "50d888c7",
   "metadata": {},
   "outputs": [
    {
     "name": "stdout",
     "output_type": "stream",
     "text": [
      "<class 'pandas.core.frame.DataFrame'>\n",
      "RangeIndex: 150 entries, 0 to 149\n",
      "Data columns (total 5 columns):\n",
      " #   Column        Non-Null Count  Dtype  \n",
      "---  ------        --------------  -----  \n",
      " 0   Sepal.Length  150 non-null    float64\n",
      " 1   Sepal.Width   150 non-null    float64\n",
      " 2   Petal.Length  150 non-null    float64\n",
      " 3   Petal.Width   150 non-null    float64\n",
      " 4   Species       150 non-null    int32  \n",
      "dtypes: float64(4), int32(1)\n",
      "memory usage: 5.4 KB\n"
     ]
    }
   ],
   "source": [
    "pca2.info()"
   ]
  },
  {
   "cell_type": "code",
   "execution_count": 8,
   "id": "a6df141c",
   "metadata": {},
   "outputs": [
    {
     "name": "stdout",
     "output_type": "stream",
     "text": [
      "<class 'pandas.core.frame.DataFrame'>\n",
      "RangeIndex: 150 entries, 0 to 149\n",
      "Data columns (total 5 columns):\n",
      " #   Column        Non-Null Count  Dtype  \n",
      "---  ------        --------------  -----  \n",
      " 0   Sepal.Length  150 non-null    float64\n",
      " 1   Sepal.Width   150 non-null    float64\n",
      " 2   Petal.Length  150 non-null    float64\n",
      " 3   Petal.Width   150 non-null    float64\n",
      " 4   Species       150 non-null    int32  \n",
      "dtypes: float64(4), int32(1)\n",
      "memory usage: 5.4 KB\n"
     ]
    }
   ],
   "source": [
    "#pca2 = pca3.drop(['Unnamed: 0'],1)\n",
    "pca2.info()"
   ]
  },
  {
   "cell_type": "code",
   "execution_count": 9,
   "id": "041625d5",
   "metadata": {},
   "outputs": [
    {
     "data": {
      "text/plain": [
       "<bound method IndexOpsMixin.value_counts of 0      0\n",
       "1      0\n",
       "2      0\n",
       "3      0\n",
       "4      0\n",
       "      ..\n",
       "145    2\n",
       "146    2\n",
       "147    2\n",
       "148    2\n",
       "149    2\n",
       "Name: Species, Length: 150, dtype: int32>"
      ]
     },
     "execution_count": 9,
     "metadata": {},
     "output_type": "execute_result"
    }
   ],
   "source": [
    "pca2.Species.value_counts"
   ]
  },
  {
   "cell_type": "code",
   "execution_count": 10,
   "id": "55b4b9da",
   "metadata": {},
   "outputs": [
    {
     "data": {
      "text/html": [
       "<div>\n",
       "<style scoped>\n",
       "    .dataframe tbody tr th:only-of-type {\n",
       "        vertical-align: middle;\n",
       "    }\n",
       "\n",
       "    .dataframe tbody tr th {\n",
       "        vertical-align: top;\n",
       "    }\n",
       "\n",
       "    .dataframe thead th {\n",
       "        text-align: right;\n",
       "    }\n",
       "</style>\n",
       "<table border=\"1\" class=\"dataframe\">\n",
       "  <thead>\n",
       "    <tr style=\"text-align: right;\">\n",
       "      <th></th>\n",
       "      <th>Sepal.Length</th>\n",
       "      <th>Sepal.Width</th>\n",
       "      <th>Petal.Length</th>\n",
       "      <th>Petal.Width</th>\n",
       "      <th>Species</th>\n",
       "    </tr>\n",
       "  </thead>\n",
       "  <tbody>\n",
       "    <tr>\n",
       "      <th>count</th>\n",
       "      <td>150.000000</td>\n",
       "      <td>150.000000</td>\n",
       "      <td>150.000000</td>\n",
       "      <td>150.000000</td>\n",
       "      <td>150.000000</td>\n",
       "    </tr>\n",
       "    <tr>\n",
       "      <th>mean</th>\n",
       "      <td>5.843333</td>\n",
       "      <td>3.057333</td>\n",
       "      <td>3.758000</td>\n",
       "      <td>1.199333</td>\n",
       "      <td>1.000000</td>\n",
       "    </tr>\n",
       "    <tr>\n",
       "      <th>std</th>\n",
       "      <td>0.828066</td>\n",
       "      <td>0.435866</td>\n",
       "      <td>1.765298</td>\n",
       "      <td>0.762238</td>\n",
       "      <td>0.819232</td>\n",
       "    </tr>\n",
       "    <tr>\n",
       "      <th>min</th>\n",
       "      <td>4.300000</td>\n",
       "      <td>2.000000</td>\n",
       "      <td>1.000000</td>\n",
       "      <td>0.100000</td>\n",
       "      <td>0.000000</td>\n",
       "    </tr>\n",
       "    <tr>\n",
       "      <th>25%</th>\n",
       "      <td>5.100000</td>\n",
       "      <td>2.800000</td>\n",
       "      <td>1.600000</td>\n",
       "      <td>0.300000</td>\n",
       "      <td>0.000000</td>\n",
       "    </tr>\n",
       "    <tr>\n",
       "      <th>50%</th>\n",
       "      <td>5.800000</td>\n",
       "      <td>3.000000</td>\n",
       "      <td>4.350000</td>\n",
       "      <td>1.300000</td>\n",
       "      <td>1.000000</td>\n",
       "    </tr>\n",
       "    <tr>\n",
       "      <th>75%</th>\n",
       "      <td>6.400000</td>\n",
       "      <td>3.300000</td>\n",
       "      <td>5.100000</td>\n",
       "      <td>1.800000</td>\n",
       "      <td>2.000000</td>\n",
       "    </tr>\n",
       "    <tr>\n",
       "      <th>max</th>\n",
       "      <td>7.900000</td>\n",
       "      <td>4.400000</td>\n",
       "      <td>6.900000</td>\n",
       "      <td>2.500000</td>\n",
       "      <td>2.000000</td>\n",
       "    </tr>\n",
       "  </tbody>\n",
       "</table>\n",
       "</div>"
      ],
      "text/plain": [
       "       Sepal.Length  Sepal.Width  Petal.Length  Petal.Width     Species\n",
       "count    150.000000   150.000000    150.000000   150.000000  150.000000\n",
       "mean       5.843333     3.057333      3.758000     1.199333    1.000000\n",
       "std        0.828066     0.435866      1.765298     0.762238    0.819232\n",
       "min        4.300000     2.000000      1.000000     0.100000    0.000000\n",
       "25%        5.100000     2.800000      1.600000     0.300000    0.000000\n",
       "50%        5.800000     3.000000      4.350000     1.300000    1.000000\n",
       "75%        6.400000     3.300000      5.100000     1.800000    2.000000\n",
       "max        7.900000     4.400000      6.900000     2.500000    2.000000"
      ]
     },
     "execution_count": 10,
     "metadata": {},
     "output_type": "execute_result"
    }
   ],
   "source": [
    "# sd \n",
    "pca2.describe()"
   ]
  },
  {
   "cell_type": "code",
   "execution_count": 11,
   "id": "633af03a",
   "metadata": {},
   "outputs": [],
   "source": [
    "#convert it to numpy arrays\n",
    "X=pca2.values"
   ]
  },
  {
   "cell_type": "code",
   "execution_count": 12,
   "id": "72e80276",
   "metadata": {},
   "outputs": [
    {
     "data": {
      "text/plain": [
       "array([[5.1, 3.5, 1.4, 0.2, 0. ],\n",
       "       [4.9, 3. , 1.4, 0.2, 0. ],\n",
       "       [4.7, 3.2, 1.3, 0.2, 0. ],\n",
       "       [4.6, 3.1, 1.5, 0.2, 0. ],\n",
       "       [5. , 3.6, 1.4, 0.2, 0. ],\n",
       "       [5.4, 3.9, 1.7, 0.4, 0. ],\n",
       "       [4.6, 3.4, 1.4, 0.3, 0. ],\n",
       "       [5. , 3.4, 1.5, 0.2, 0. ],\n",
       "       [4.4, 2.9, 1.4, 0.2, 0. ],\n",
       "       [4.9, 3.1, 1.5, 0.1, 0. ],\n",
       "       [5.4, 3.7, 1.5, 0.2, 0. ],\n",
       "       [4.8, 3.4, 1.6, 0.2, 0. ],\n",
       "       [4.8, 3. , 1.4, 0.1, 0. ],\n",
       "       [4.3, 3. , 1.1, 0.1, 0. ],\n",
       "       [5.8, 4. , 1.2, 0.2, 0. ],\n",
       "       [5.7, 4.4, 1.5, 0.4, 0. ],\n",
       "       [5.4, 3.9, 1.3, 0.4, 0. ],\n",
       "       [5.1, 3.5, 1.4, 0.3, 0. ],\n",
       "       [5.7, 3.8, 1.7, 0.3, 0. ],\n",
       "       [5.1, 3.8, 1.5, 0.3, 0. ],\n",
       "       [5.4, 3.4, 1.7, 0.2, 0. ],\n",
       "       [5.1, 3.7, 1.5, 0.4, 0. ],\n",
       "       [4.6, 3.6, 1. , 0.2, 0. ],\n",
       "       [5.1, 3.3, 1.7, 0.5, 0. ],\n",
       "       [4.8, 3.4, 1.9, 0.2, 0. ],\n",
       "       [5. , 3. , 1.6, 0.2, 0. ],\n",
       "       [5. , 3.4, 1.6, 0.4, 0. ],\n",
       "       [5.2, 3.5, 1.5, 0.2, 0. ],\n",
       "       [5.2, 3.4, 1.4, 0.2, 0. ],\n",
       "       [4.7, 3.2, 1.6, 0.2, 0. ],\n",
       "       [4.8, 3.1, 1.6, 0.2, 0. ],\n",
       "       [5.4, 3.4, 1.5, 0.4, 0. ],\n",
       "       [5.2, 4.1, 1.5, 0.1, 0. ],\n",
       "       [5.5, 4.2, 1.4, 0.2, 0. ],\n",
       "       [4.9, 3.1, 1.5, 0.2, 0. ],\n",
       "       [5. , 3.2, 1.2, 0.2, 0. ],\n",
       "       [5.5, 3.5, 1.3, 0.2, 0. ],\n",
       "       [4.9, 3.6, 1.4, 0.1, 0. ],\n",
       "       [4.4, 3. , 1.3, 0.2, 0. ],\n",
       "       [5.1, 3.4, 1.5, 0.2, 0. ],\n",
       "       [5. , 3.5, 1.3, 0.3, 0. ],\n",
       "       [4.5, 2.3, 1.3, 0.3, 0. ],\n",
       "       [4.4, 3.2, 1.3, 0.2, 0. ],\n",
       "       [5. , 3.5, 1.6, 0.6, 0. ],\n",
       "       [5.1, 3.8, 1.9, 0.4, 0. ],\n",
       "       [4.8, 3. , 1.4, 0.3, 0. ],\n",
       "       [5.1, 3.8, 1.6, 0.2, 0. ],\n",
       "       [4.6, 3.2, 1.4, 0.2, 0. ],\n",
       "       [5.3, 3.7, 1.5, 0.2, 0. ],\n",
       "       [5. , 3.3, 1.4, 0.2, 0. ],\n",
       "       [7. , 3.2, 4.7, 1.4, 1. ],\n",
       "       [6.4, 3.2, 4.5, 1.5, 1. ],\n",
       "       [6.9, 3.1, 4.9, 1.5, 1. ],\n",
       "       [5.5, 2.3, 4. , 1.3, 1. ],\n",
       "       [6.5, 2.8, 4.6, 1.5, 1. ],\n",
       "       [5.7, 2.8, 4.5, 1.3, 1. ],\n",
       "       [6.3, 3.3, 4.7, 1.6, 1. ],\n",
       "       [4.9, 2.4, 3.3, 1. , 1. ],\n",
       "       [6.6, 2.9, 4.6, 1.3, 1. ],\n",
       "       [5.2, 2.7, 3.9, 1.4, 1. ],\n",
       "       [5. , 2. , 3.5, 1. , 1. ],\n",
       "       [5.9, 3. , 4.2, 1.5, 1. ],\n",
       "       [6. , 2.2, 4. , 1. , 1. ],\n",
       "       [6.1, 2.9, 4.7, 1.4, 1. ],\n",
       "       [5.6, 2.9, 3.6, 1.3, 1. ],\n",
       "       [6.7, 3.1, 4.4, 1.4, 1. ],\n",
       "       [5.6, 3. , 4.5, 1.5, 1. ],\n",
       "       [5.8, 2.7, 4.1, 1. , 1. ],\n",
       "       [6.2, 2.2, 4.5, 1.5, 1. ],\n",
       "       [5.6, 2.5, 3.9, 1.1, 1. ],\n",
       "       [5.9, 3.2, 4.8, 1.8, 1. ],\n",
       "       [6.1, 2.8, 4. , 1.3, 1. ],\n",
       "       [6.3, 2.5, 4.9, 1.5, 1. ],\n",
       "       [6.1, 2.8, 4.7, 1.2, 1. ],\n",
       "       [6.4, 2.9, 4.3, 1.3, 1. ],\n",
       "       [6.6, 3. , 4.4, 1.4, 1. ],\n",
       "       [6.8, 2.8, 4.8, 1.4, 1. ],\n",
       "       [6.7, 3. , 5. , 1.7, 1. ],\n",
       "       [6. , 2.9, 4.5, 1.5, 1. ],\n",
       "       [5.7, 2.6, 3.5, 1. , 1. ],\n",
       "       [5.5, 2.4, 3.8, 1.1, 1. ],\n",
       "       [5.5, 2.4, 3.7, 1. , 1. ],\n",
       "       [5.8, 2.7, 3.9, 1.2, 1. ],\n",
       "       [6. , 2.7, 5.1, 1.6, 1. ],\n",
       "       [5.4, 3. , 4.5, 1.5, 1. ],\n",
       "       [6. , 3.4, 4.5, 1.6, 1. ],\n",
       "       [6.7, 3.1, 4.7, 1.5, 1. ],\n",
       "       [6.3, 2.3, 4.4, 1.3, 1. ],\n",
       "       [5.6, 3. , 4.1, 1.3, 1. ],\n",
       "       [5.5, 2.5, 4. , 1.3, 1. ],\n",
       "       [5.5, 2.6, 4.4, 1.2, 1. ],\n",
       "       [6.1, 3. , 4.6, 1.4, 1. ],\n",
       "       [5.8, 2.6, 4. , 1.2, 1. ],\n",
       "       [5. , 2.3, 3.3, 1. , 1. ],\n",
       "       [5.6, 2.7, 4.2, 1.3, 1. ],\n",
       "       [5.7, 3. , 4.2, 1.2, 1. ],\n",
       "       [5.7, 2.9, 4.2, 1.3, 1. ],\n",
       "       [6.2, 2.9, 4.3, 1.3, 1. ],\n",
       "       [5.1, 2.5, 3. , 1.1, 1. ],\n",
       "       [5.7, 2.8, 4.1, 1.3, 1. ],\n",
       "       [6.3, 3.3, 6. , 2.5, 2. ],\n",
       "       [5.8, 2.7, 5.1, 1.9, 2. ],\n",
       "       [7.1, 3. , 5.9, 2.1, 2. ],\n",
       "       [6.3, 2.9, 5.6, 1.8, 2. ],\n",
       "       [6.5, 3. , 5.8, 2.2, 2. ],\n",
       "       [7.6, 3. , 6.6, 2.1, 2. ],\n",
       "       [4.9, 2.5, 4.5, 1.7, 2. ],\n",
       "       [7.3, 2.9, 6.3, 1.8, 2. ],\n",
       "       [6.7, 2.5, 5.8, 1.8, 2. ],\n",
       "       [7.2, 3.6, 6.1, 2.5, 2. ],\n",
       "       [6.5, 3.2, 5.1, 2. , 2. ],\n",
       "       [6.4, 2.7, 5.3, 1.9, 2. ],\n",
       "       [6.8, 3. , 5.5, 2.1, 2. ],\n",
       "       [5.7, 2.5, 5. , 2. , 2. ],\n",
       "       [5.8, 2.8, 5.1, 2.4, 2. ],\n",
       "       [6.4, 3.2, 5.3, 2.3, 2. ],\n",
       "       [6.5, 3. , 5.5, 1.8, 2. ],\n",
       "       [7.7, 3.8, 6.7, 2.2, 2. ],\n",
       "       [7.7, 2.6, 6.9, 2.3, 2. ],\n",
       "       [6. , 2.2, 5. , 1.5, 2. ],\n",
       "       [6.9, 3.2, 5.7, 2.3, 2. ],\n",
       "       [5.6, 2.8, 4.9, 2. , 2. ],\n",
       "       [7.7, 2.8, 6.7, 2. , 2. ],\n",
       "       [6.3, 2.7, 4.9, 1.8, 2. ],\n",
       "       [6.7, 3.3, 5.7, 2.1, 2. ],\n",
       "       [7.2, 3.2, 6. , 1.8, 2. ],\n",
       "       [6.2, 2.8, 4.8, 1.8, 2. ],\n",
       "       [6.1, 3. , 4.9, 1.8, 2. ],\n",
       "       [6.4, 2.8, 5.6, 2.1, 2. ],\n",
       "       [7.2, 3. , 5.8, 1.6, 2. ],\n",
       "       [7.4, 2.8, 6.1, 1.9, 2. ],\n",
       "       [7.9, 3.8, 6.4, 2. , 2. ],\n",
       "       [6.4, 2.8, 5.6, 2.2, 2. ],\n",
       "       [6.3, 2.8, 5.1, 1.5, 2. ],\n",
       "       [6.1, 2.6, 5.6, 1.4, 2. ],\n",
       "       [7.7, 3. , 6.1, 2.3, 2. ],\n",
       "       [6.3, 3.4, 5.6, 2.4, 2. ],\n",
       "       [6.4, 3.1, 5.5, 1.8, 2. ],\n",
       "       [6. , 3. , 4.8, 1.8, 2. ],\n",
       "       [6.9, 3.1, 5.4, 2.1, 2. ],\n",
       "       [6.7, 3.1, 5.6, 2.4, 2. ],\n",
       "       [6.9, 3.1, 5.1, 2.3, 2. ],\n",
       "       [5.8, 2.7, 5.1, 1.9, 2. ],\n",
       "       [6.8, 3.2, 5.9, 2.3, 2. ],\n",
       "       [6.7, 3.3, 5.7, 2.5, 2. ],\n",
       "       [6.7, 3. , 5.2, 2.3, 2. ],\n",
       "       [6.3, 2.5, 5. , 1.9, 2. ],\n",
       "       [6.5, 3. , 5.2, 2. , 2. ],\n",
       "       [6.2, 3.4, 5.4, 2.3, 2. ],\n",
       "       [5.9, 3. , 5.1, 1.8, 2. ]])"
      ]
     },
     "execution_count": 12,
     "metadata": {},
     "output_type": "execute_result"
    }
   ],
   "source": [
    "#Scaling the values\n",
    "X\n"
   ]
  },
  {
   "cell_type": "code",
   "execution_count": 13,
   "id": "822bcb54",
   "metadata": {},
   "outputs": [
    {
     "data": {
      "text/plain": [
       "PCA(n_components=5)"
      ]
     },
     "execution_count": 13,
     "metadata": {},
     "output_type": "execute_result"
    }
   ],
   "source": [
    "X = scale(X)\n",
    "pca2 = PCA(n_components=5)\n",
    "pca2.fit(X)"
   ]
  },
  {
   "cell_type": "code",
   "execution_count": 14,
   "id": "9d6ee821",
   "metadata": {},
   "outputs": [
    {
     "data": {
      "text/plain": [
       "array([0.76740358, 0.18282727, 0.03724523, 0.00841722, 0.0041067 ])"
      ]
     },
     "execution_count": 14,
     "metadata": {},
     "output_type": "execute_result"
    }
   ],
   "source": [
    "#The amount of variance that each PC explains\n",
    "var= pca2.explained_variance_ratio_\n",
    "var"
   ]
  },
  {
   "cell_type": "code",
   "execution_count": 20,
   "id": "95ea45ee",
   "metadata": {},
   "outputs": [
    {
     "data": {
      "text/plain": [
       "[<matplotlib.lines.Line2D at 0x1f4a72248e0>]"
      ]
     },
     "execution_count": 20,
     "metadata": {},
     "output_type": "execute_result"
    },
    {
     "data": {
      "image/png": "[encoded data removed]",
      "text/plain": [
       "<Figure size 432x288 with 1 Axes>"
      ]
     },
     "metadata": {
      "needs_background": "light"
     },
     "output_type": "display_data"
    }
   ],
   "source": [
    "#Cumulative Variance explains\n",
    "var1=np.cumsum(np.round(pca2.explained_variance_ratio_, decimals=4)*100)\n",
    "var1\n",
    "plt.plot(var) # cumulative\n",
    "###   plt.plot(var) ******"
   ]
  },
  {
   "cell_type": "code",
   "execution_count": 22,
   "id": "13be896b",
   "metadata": {},
   "outputs": [
    {
     "data": {
      "text/plain": [
       "[<matplotlib.lines.Line2D at 0x1f4a7382070>]"
      ]
     },
     "execution_count": 22,
     "metadata": {},
     "output_type": "execute_result"
    },
    {
     "data": {
      "image/png": "[encoded data removed]",
      "text/plain": [
       "<Figure size 432x288 with 1 Axes>"
      ]
     },
     "metadata": {
      "needs_background": "light"
     },
     "output_type": "display_data"
    }
   ],
   "source": [
    "var1=np.cumsum(np.round(pca2.explained_variance_ratio_, decimals=3)*100)\n",
    "var1\n",
    "plt.plot(var1) # cumulative\n",
    "#### plt.plot(var1) correct method 1/ 1/ 1/"
   ]
  },
  {
   "cell_type": "code",
   "execution_count": 16,
   "id": "f7459cef",
   "metadata": {},
   "outputs": [
    {
     "data": {
      "text/plain": [
       "[<matplotlib.lines.Line2D at 0x1f4a71ac100>]"
      ]
     },
     "execution_count": 16,
     "metadata": {},
     "output_type": "execute_result"
    },
    {
     "data": {
      "image/png": "[encoded data removed]",
      "text/plain": [
       "<Figure size 432x288 with 1 Axes>"
      ]
     },
     "metadata": {
      "needs_background": "light"
     },
     "output_type": "display_data"
    }
   ],
   "source": [
    "plt.plot(var) # cumulative"
   ]
  },
  {
   "cell_type": "code",
   "execution_count": 23,
   "id": "1d5e9757",
   "metadata": {},
   "outputs": [
    {
     "data": {
      "text/plain": [
       "[<matplotlib.lines.Line2D at 0x1f4a73d1f40>]"
      ]
     },
     "execution_count": 23,
     "metadata": {},
     "output_type": "execute_result"
    },
    {
     "data": {
      "image/png": "[encoded data removed]",
      "text/plain": [
       "<Figure size 432x288 with 1 Axes>"
      ]
     },
     "metadata": {
      "needs_background": "light"
     },
     "output_type": "display_data"
    }
   ],
   "source": [
    "plt.plot(var1) # cumulative correct method"
   ]
  },
  {
   "cell_type": "code",
   "execution_count": 17,
   "id": "c6edbfb4",
   "metadata": {},
   "outputs": [],
   "source": [
    "#_________Eigen vector\n",
    "pca2_egvct = pca2.components_ #Eigen vectors\n"
   ]
  },
  {
   "cell_type": "code",
   "execution_count": 18,
   "id": "884ddeb8",
   "metadata": {},
   "outputs": [],
   "source": [
    "pca2_egvl = pca2.explained_variance_ #Eigen Values"
   ]
  },
  {
   "cell_type": "code",
   "execution_count": 19,
   "id": "7ca81fff",
   "metadata": {},
   "outputs": [
    {
     "name": "stdout",
     "output_type": "stream",
     "text": [
      "[[-2.57612023e+00  4.74499270e-01 -5.43641514e-02 -1.03224070e-01\n",
      "   3.22738312e-02]\n",
      " [-2.41532249e+00 -6.78091967e-01 -2.03080307e-01 -6.49621180e-02\n",
      "   1.07023054e-01]\n",
      " [-2.65933256e+00 -3.48281935e-01  1.12681278e-01 -4.61763490e-02\n",
      "   3.25552498e-02]\n",
      " [-2.60199054e+00 -6.03305942e-01  1.34287750e-01 -6.28947987e-04\n",
      "  -6.60724320e-02]\n",
      " [-2.68374418e+00  6.40220395e-01  1.02711326e-01 -8.69237899e-02\n",
      "  -2.84500872e-02]\n",
      " [-2.41219305e+00  1.48486231e+00  3.39188384e-02  4.49292771e-02\n",
      "   1.98590342e-03]\n",
      " [-2.72650791e+00  4.03743320e-02  3.85007100e-01  6.37655541e-02\n",
      "  -4.08381153e-02]\n",
      " [-2.54754039e+00  2.17843045e-01 -3.11470499e-02 -7.14914589e-02\n",
      "  -1.93738176e-02]\n",
      " [-2.63111739e+00 -1.12151504e+00  1.85553843e-01  2.13919023e-02\n",
      "  -2.84276305e-02]\n",
      " [-2.50568834e+00 -4.73753105e-01 -1.89304165e-01 -1.32591701e-01\n",
      "  -3.03238684e-02]\n",
      " [-2.49309024e+00  1.03899203e+00 -1.96581850e-01 -1.42353970e-01\n",
      "   2.73247968e-02]\n",
      " [-2.62658449e+00  1.26907945e-01  1.49145529e-01 -2.34585685e-02\n",
      "  -1.31745385e-01]\n",
      " [-2.53463285e+00 -7.33673766e-01 -1.62865804e-01 -1.28488671e-01\n",
      "   1.19885489e-02]\n",
      " [-2.89043509e+00 -9.69988712e-01  2.96724110e-01 -8.43877926e-02\n",
      "  -1.05501876e-02]\n",
      " [-2.52492662e+00  1.85524436e+00 -3.57184759e-01 -2.54660852e-01\n",
      "   2.14963510e-01]\n",
      " [-2.57661201e+00  2.68047277e+00  9.49046498e-02 -3.80713052e-02\n",
      "   5.38925141e-02]\n",
      " [-2.52724177e+00  1.47833344e+00  4.03613591e-02 -1.03298844e-02\n",
      "   1.89906035e-01]\n",
      " [-2.51071301e+00  4.83797409e-01 -3.62705030e-03 -2.25884662e-02\n",
      "   9.46125688e-02]\n",
      " [-2.26217005e+00  1.40241037e+00 -3.55796950e-01 -8.62247060e-02\n",
      "   6.57626184e-02]\n",
      " [-2.64311325e+00  1.12144398e+00  1.93133939e-01 -1.11999868e-02\n",
      "  -3.64519181e-02]\n",
      " [-2.27440347e+00  4.06242115e-01 -3.98174729e-01 -1.12298078e-01\n",
      "   1.74491848e-02]\n",
      " [-2.52398522e+00  9.18737335e-01  1.77747167e-01  7.02443869e-02\n",
      "   5.39149708e-02]\n",
      " [-3.01440545e+00  4.48556889e-01  4.72960266e-01 -7.37467514e-02\n",
      "   2.86869764e-02]\n",
      " [-2.18617043e+00  8.32807738e-02 -3.92324845e-02  1.81744652e-01\n",
      "   1.34406248e-01]\n",
      " [-2.54029796e+00  1.31804599e-01  1.44313639e-01  1.79858026e-02\n",
      "  -2.72685484e-01]\n",
      " [-2.30389499e+00 -6.28543873e-01 -2.97253172e-01 -5.44415873e-02\n",
      "   4.57587547e-02]\n",
      " [-2.38796377e+00  2.38071542e-01  6.87165222e-02  1.03594538e-01\n",
      "   5.83236246e-02]\n",
      " [-2.49345491e+00  5.22415146e-01 -1.46926386e-01 -1.06518329e-01\n",
      "   1.79895653e-02]\n",
      " [-2.46849629e+00  3.08778145e-01 -2.11439629e-01 -1.19524349e-01\n",
      "   9.29977496e-02]\n",
      " [-2.57304603e+00 -3.43385281e-01  1.07849388e-01 -4.73197792e-03\n",
      "  -1.08384849e-01]\n",
      " [-2.46542208e+00 -5.09106407e-01 -4.92260898e-02 -2.10322576e-02\n",
      "  -4.76609308e-02]\n",
      " [-2.20111339e+00  4.21573959e-01 -2.93479266e-01  2.13435479e-02\n",
      "   2.36086726e-01]\n",
      " [-2.88118696e+00  1.78514571e+00  1.99079751e-01 -1.92006554e-01\n",
      "  -2.12518080e-01]\n",
      " [-2.73655330e+00  2.14366739e+00  4.46965410e-02 -1.77321662e-01\n",
      "  -3.31401597e-02]\n",
      " [-2.44028112e+00 -4.64454966e-01 -1.38567064e-01 -5.19560980e-02\n",
      "   3.20148693e-02]\n",
      " [-2.52638532e+00 -2.11063176e-01 -1.58562906e-01 -1.11318289e-01\n",
      "   1.77622584e-01]\n",
      " [-2.38926985e+00  6.58001687e-01 -4.16559940e-01 -1.85475060e-01\n",
      "   2.10036933e-01]\n",
      " [-2.80305454e+00  5.84638597e-01  1.42925830e-01 -1.50450343e-01\n",
      "  -1.23484592e-01]\n",
      " [-2.71360037e+00 -9.11142478e-01  2.53288346e-01  6.76834157e-03\n",
      "  -9.47574886e-03]\n",
      " [-2.49363725e+00  2.64126704e-01 -1.22098655e-01 -8.86005089e-02\n",
      "   1.33219495e-02]\n",
      " [-2.59337833e+00  4.35881533e-01  8.89351845e-02 -1.92942066e-02\n",
      "   1.08896835e-01]\n",
      " [-2.21824438e+00 -2.33959417e+00 -2.49793268e-01  7.59562871e-02\n",
      "   2.81755815e-01]\n",
      " [-2.82104198e+00 -4.87132911e-01  3.85536092e-01  5.15080094e-03\n",
      "  -6.55320515e-02]\n",
      " [-2.31087014e+00  4.68672605e-01  2.36314597e-01  2.64056975e-01\n",
      "   1.54972949e-01]\n",
      " [-2.46265731e+00  1.13727099e+00  2.37428519e-01  1.24694778e-01\n",
      "  -1.62033313e-01]\n",
      " [-2.40381841e+00 -7.15077486e-01 -6.13916014e-02  3.27825353e-02\n",
      "   1.36666024e-01]\n",
      " [-2.67975829e+00  1.11377806e+00  1.40786207e-01 -7.80207998e-02\n",
      "  -1.45770689e-01]\n",
      " [-2.68447352e+00 -3.92933375e-01  2.02022253e-01 -1.52525087e-02\n",
      "  -4.71205503e-02]\n",
      " [-2.54699338e+00  9.92708373e-01 -1.05630245e-01 -1.25244920e-01\n",
      "  -5.37097027e-03]\n",
      " [-2.52258176e+00  4.20604323e-03 -9.56602928e-02 -8.44974790e-02\n",
      "   5.56343667e-02]\n",
      " [ 9.49028189e-01  8.71841569e-01 -8.71029855e-01  9.28955788e-02\n",
      "   2.07353660e-02]\n",
      " [ 6.33492207e-01  6.00173320e-01 -2.71361865e-01  2.48555901e-01\n",
      "  -1.91404329e-02]\n",
      " [ 1.07177743e+00  6.26115701e-01 -7.98686282e-01  2.19078583e-01\n",
      "  -1.55535781e-02]\n",
      " [ 3.57225847e-01 -1.75118003e+00 -1.41333332e-01  1.79471126e-01\n",
      "   4.90737150e-02]\n",
      " [ 9.31040743e-01 -1.99929939e-01 -6.28419592e-01  2.48496723e-01\n",
      "   7.86879065e-02]\n",
      " [ 3.40238998e-01 -5.90427705e-01 -6.70327137e-04  2.10283126e-01\n",
      "  -2.60575672e-01]\n",
      " [ 6.48799837e-01  7.78457021e-01 -6.67705469e-02  3.73121365e-01\n",
      "  -1.11485680e-01]\n",
      " [-4.17470709e-01 -1.85619714e+00  3.29563277e-01 -5.72936875e-02\n",
      "  -3.32850207e-02]\n",
      " [ 8.00408641e-01  3.97622246e-02 -7.54721526e-01  6.93076960e-02\n",
      "  -4.13219530e-02]\n",
      " [ 1.72782481e-02 -1.03434595e+00  4.48364705e-01  2.94384007e-01\n",
      "  -5.18074209e-02]\n",
      " [-9.11599946e-02 -2.65466818e+00 -2.91050805e-02 -4.35380755e-02\n",
      "   1.75632856e-02]\n",
      " [ 3.85131576e-01 -6.01511941e-02  5.59803023e-02  2.94274321e-01\n",
      "   1.43771333e-02]\n",
      " [ 4.84240697e-01 -1.75966094e+00 -8.14426532e-01 -1.47172164e-01\n",
      "   5.35644888e-02]\n",
      " [ 6.25062334e-01 -1.80725711e-01 -2.50837032e-01  2.49303340e-01\n",
      "  -1.89442084e-01]\n",
      " [-2.62445514e-02 -4.39396540e-01  1.70900822e-01  1.02250292e-01\n",
      "   1.01520706e-01]\n",
      " [ 7.54753036e-01  5.16089155e-01 -6.59467023e-01  1.03587128e-01\n",
      "   9.16163151e-02]\n",
      " [ 3.09708688e-01 -1.94105517e-01  3.24003226e-01  3.87045842e-01\n",
      "  -2.24650267e-01]\n",
      " [ 1.36592572e-01 -7.90572120e-01 -3.03514588e-01 -1.03183125e-01\n",
      "  -1.98947835e-01]\n",
      " [ 1.06289397e+00 -1.61244184e+00 -7.50697386e-01  2.90861705e-01\n",
      "   1.95749546e-01]\n",
      " [ 1.44110762e-01 -1.30111530e+00 -1.99900763e-01 -1.43414622e-02\n",
      "  -5.19842628e-02]\n",
      " [ 6.46484695e-01  4.01546099e-01  3.30775571e-01  6.17452333e-01\n",
      "  -1.36543154e-01]\n",
      " [ 4.12040671e-01 -4.13454159e-01 -3.56423595e-01  7.27729741e-02\n",
      "   1.05107561e-01]\n",
      " [ 1.07068341e+00 -9.23614955e-01 -6.49719892e-01  3.26585505e-01\n",
      "  -4.35592728e-02]\n",
      " [ 5.47968699e-01 -4.11326774e-01 -4.18435107e-01  8.88409033e-02\n",
      "  -2.86091408e-01]\n",
      " [ 6.06315824e-01 -5.77017460e-02 -5.67986426e-01  6.20814249e-02\n",
      "   3.42266119e-02]\n",
      " [ 7.54570699e-01  2.57800713e-01 -6.34639292e-01  1.21504948e-01\n",
      "   8.69486993e-02]\n",
      " [ 1.08486730e+00 -6.71126669e-02 -9.55232768e-01  1.44163550e-01\n",
      "   2.04764041e-02]\n",
      " [ 1.17726857e+00  3.41772096e-01 -5.83043374e-01  4.29191451e-01\n",
      "   2.47804813e-02]\n",
      " [ 5.79042056e-01 -2.20975666e-01 -1.05927066e-01  3.19418412e-01\n",
      "  -6.58390473e-02]\n",
      " [-3.61628344e-02 -1.05865387e+00 -2.69023075e-01 -1.68154047e-01\n",
      "   7.82647473e-02]\n",
      " [ 1.15166247e-01 -1.56103596e+00 -1.73462401e-01 -1.02384322e-02\n",
      "  -9.67184560e-03]\n",
      " [ 2.09968491e-02 -1.57196632e+00 -2.22588872e-01 -1.04688826e-01\n",
      "  -2.50305502e-02]\n",
      " [ 2.09882654e-01 -7.75240277e-01 -1.98819125e-01  3.04585006e-02\n",
      "   1.96897063e-02]\n",
      " [ 9.24463954e-01 -6.25893788e-01 -1.97101492e-01  4.84560299e-01\n",
      "  -2.29324205e-01]\n",
      " [ 2.01902406e-01 -2.86672834e-01  5.05906435e-01  4.21263942e-01\n",
      "  -2.90041801e-01]\n",
      " [ 3.75845254e-01  8.48346393e-01  2.75429400e-01  3.96010164e-01\n",
      "  -1.43641066e-01]\n",
      " [ 9.06446790e-01  5.30283948e-01 -6.13561813e-01  2.25667103e-01\n",
      "   1.30149537e-02]\n",
      " [ 9.03499687e-01 -1.37438189e+00 -8.75388690e-01  9.78578871e-02\n",
      "   1.22719720e-01]\n",
      " [ 6.38455357e-02 -2.19230667e-01  2.28971544e-01  1.70515474e-01\n",
      "  -1.61407610e-01]\n",
      " [ 2.49784238e-01 -1.32717046e+00 -9.08558607e-03  1.77853585e-01\n",
      "  -6.98258767e-03]\n",
      " [ 2.45704928e-01 -1.11793495e+00 -1.41334821e-04  1.51668373e-01\n",
      "  -2.85269609e-01]\n",
      " [ 5.42579351e-01  2.96468547e-02 -1.83102529e-01  2.34679779e-01\n",
      "  -1.70490202e-01]\n",
      " [ 2.92365637e-01 -9.85612843e-01 -2.66553628e-01  4.50820613e-02\n",
      "   7.37824655e-04]\n",
      " [-3.09846764e-01 -2.02191827e+00  1.72487799e-01 -7.35939672e-02\n",
      "   2.74388977e-02]\n",
      " [ 2.53770127e-01 -8.53612801e-01  2.89892950e-02  1.86756575e-01\n",
      "  -1.24303189e-01]\n",
      " [ 8.11036354e-02 -1.80612930e-01  8.56722082e-02  8.65856108e-02\n",
      "  -2.38030614e-01]\n",
      " [ 2.00231659e-01 -3.83319575e-01  7.02854363e-02  1.68029984e-01\n",
      "  -1.47663725e-01]\n",
      " [ 4.98509542e-01 -1.50269063e-01 -3.86083217e-01  9.62995249e-02\n",
      "  -3.11649223e-02]\n",
      " [-3.84264547e-01 -1.54722355e+00  2.69352932e-01 -5.31293256e-02\n",
      "   2.07357199e-01]\n",
      " [ 2.25190285e-01 -5.96956576e-01  5.77219348e-03  1.55023964e-01\n",
      "  -7.26555404e-02]\n",
      " [ 2.21716094e+00  8.71885383e-01  9.23017157e-01  3.73684035e-01\n",
      "  -7.57437262e-02]\n",
      " [ 1.61866714e+00 -7.02040412e-01  6.91105007e-01 -1.44064827e-01\n",
      "  -2.22657824e-02]\n",
      " [ 2.51915743e+00  5.67315524e-01 -2.04305074e-01 -9.71192579e-02\n",
      "   6.75319470e-02]\n",
      " [ 1.85914491e+00 -4.77496011e-02  3.09804478e-01 -2.42789269e-01\n",
      "  -2.12082152e-01]\n",
      " [ 2.23238362e+00  2.97279494e-01  3.93752285e-01  7.23558551e-02\n",
      "  -1.93238849e-02]\n",
      " [ 2.99000838e+00  8.10159342e-01 -6.70337508e-01 -8.59609752e-02\n",
      "  -9.78494486e-02]\n",
      " [ 9.37592975e-01 -1.57099249e+00  1.28561128e+00 -2.32625785e-01\n",
      "  -1.03268661e-01]\n",
      " [ 2.59951157e+00  4.26512510e-01 -6.10985980e-01 -3.17176236e-01\n",
      "  -2.13984712e-01]\n",
      " [ 2.34716505e+00 -7.07369667e-01 -3.21718693e-01 -2.80360807e-01\n",
      "  -6.31465447e-02]\n",
      " [ 2.56988898e+00  1.92608488e+00  3.01213704e-01  2.31091065e-01\n",
      "   8.74536907e-02]\n",
      " [ 1.79279233e+00  6.91267258e-01  4.35800240e-01 -1.87236425e-01\n",
      "   1.28802568e-01]\n",
      " [ 1.99961035e+00 -4.21074024e-01  1.42174118e-01 -2.19089546e-01\n",
      "   7.99487541e-02]\n",
      " [ 2.24239929e+00  4.21935677e-01  7.49922608e-02 -1.01051269e-01\n",
      "   1.57364778e-01]\n",
      " [ 1.70885065e+00 -1.16466772e+00  7.02156597e-01 -5.85174231e-02\n",
      "   1.10413524e-01]\n",
      " [ 1.89198244e+00 -4.43544930e-01  1.01091439e+00  2.58304420e-01\n",
      "   2.61399754e-01]\n",
      " [ 1.99263520e+00  6.76142454e-01  6.75741888e-01  9.94090160e-02\n",
      "   1.89162948e-01]\n",
      " [ 1.88446821e+00  2.55190282e-01  1.95635771e-01 -2.91630930e-01\n",
      "  -1.27738736e-01]\n",
      " [ 2.70831448e+00  2.56341163e+00 -1.83171658e-01 -1.50897940e-02\n",
      "  -2.74020187e-01]\n",
      " [ 3.47589571e+00  3.19167972e-02 -9.29142293e-01  1.02880634e-01\n",
      "   3.06963000e-02]\n",
      " [ 1.70468639e+00 -1.70832179e+00 -2.27553421e-02 -5.10596279e-01\n",
      "  -1.91084092e-02]\n",
      " [ 2.37719962e+00  9.14089618e-01  2.14541344e-01  6.91229275e-02\n",
      "   1.64721651e-01]\n",
      " [ 1.46502292e+00 -5.76569241e-01  9.93090451e-01 -5.76494744e-02\n",
      "   4.06133357e-02]\n",
      " [ 3.11470809e+00  4.24767511e-01 -9.45884590e-01 -1.68273298e-01\n",
      "  -1.18416150e-01]\n",
      " [ 1.76525127e+00 -4.83184693e-01  1.88831143e-01 -3.37875261e-01\n",
      "   1.72834381e-01]\n",
      " [ 2.08485809e+00  1.01493081e+00  3.61094224e-01 -5.87389496e-02\n",
      "  -5.33755093e-02]\n",
      " [ 2.29815948e+00  1.01134655e+00 -3.16830866e-01 -3.43937868e-01\n",
      "  -1.89824834e-01]\n",
      " [ 1.62886515e+00 -3.19095786e-01  3.47517250e-01 -3.35389772e-01\n",
      "   1.59090496e-01]\n",
      " [ 1.49628258e+00  6.02623411e-02  5.69105971e-01 -3.06083472e-01\n",
      "   2.33583933e-02]\n",
      " [ 2.16299051e+00 -1.85576308e-01  3.04940303e-01 -1.71827384e-02\n",
      "   3.56579790e-02]\n",
      " [ 2.21726229e+00  5.65476267e-01 -5.47331554e-01 -5.31221115e-01\n",
      "  -1.64485941e-01]\n",
      " [ 2.71501838e+00  2.66825089e-01 -7.14103096e-01 -2.80470493e-01\n",
      "   3.03800962e-03]\n",
      " [ 2.59901979e+00  2.63248601e+00 -4.61717179e-01 -2.52023472e-01\n",
      "  -1.92366029e-01]\n",
      " [ 2.22839773e+00 -1.76278168e-01  3.55677404e-01  6.34528650e-02\n",
      "   9.79967166e-02]\n",
      " [ 1.57283317e+00 -2.95809893e-01  9.95224519e-02 -5.52961261e-01\n",
      "  -1.36170049e-01]\n",
      " [ 1.65087216e+00 -8.13523828e-01  9.03876632e-02 -5.28687271e-01\n",
      "  -4.42744183e-01]\n",
      " [ 3.03091507e+00  8.66878191e-01 -6.51761760e-01 -1.08727703e-02\n",
      "   2.94423959e-01]\n",
      " [ 1.98298421e+00  1.06806316e+00  9.44846449e-01  2.36980500e-01\n",
      "   2.18095169e-02]\n",
      " [ 1.77684426e+00  4.20911408e-01  3.52711249e-01 -2.75330650e-01\n",
      "  -1.88462655e-01]\n",
      " [ 1.41361726e+00  1.23464647e-02  6.61668206e-01 -3.02789212e-01\n",
      "   3.76426592e-02]\n",
      " [ 2.21381945e+00  6.78591902e-01  5.17751593e-02 -1.32783880e-01\n",
      "   2.09012426e-01]\n",
      " [ 2.35975918e+00  6.17183439e-01  3.82668412e-01  1.70970611e-01\n",
      "   2.36677039e-01]\n",
      " [ 2.25834735e+00  6.92291528e-01  1.58081252e-01 -1.29570444e-02\n",
      "   4.74630001e-01]\n",
      " [ 1.61866714e+00 -7.02040412e-01  6.91105007e-01 -1.44064827e-01\n",
      "  -2.22657824e-02]\n",
      " [ 2.38082084e+00  8.71070395e-01  3.02271688e-01  1.13861558e-01\n",
      "   3.80658183e-02]\n",
      " [ 2.34648697e+00  1.05212336e+00  5.64042629e-01  2.63803464e-01\n",
      "   1.95979441e-01]\n",
      " [ 2.23302405e+00  3.89351644e-01  2.72249958e-01  3.58846163e-02\n",
      "   3.90286585e-01]\n",
      " [ 1.96686228e+00 -8.96263904e-01  1.05709868e-01 -2.41807326e-01\n",
      "   2.44249389e-01]\n",
      " [ 1.92899611e+00  2.68889908e-01  3.01941864e-01 -1.71804094e-01\n",
      "   1.37878838e-01]\n",
      " [ 1.80614949e+00  1.00921692e+00  9.88282213e-01  1.45824366e-01\n",
      "   2.07350782e-02]\n",
      " [ 1.44600065e+00 -2.90405407e-02  7.47787920e-01 -2.44235791e-01\n",
      "  -1.35993207e-01]]\n"
     ]
    }
   ],
   "source": [
    "#Looking at above plot I'm taking 2 variables\n",
    "pca = PCA(n_components=5)\n",
    "pca.fit(X)\n",
    "X1=pca.fit_transform(X)\n",
    "print(X1) # 10by2 data"
   ]
  },
  {
   "cell_type": "code",
   "execution_count": null,
   "id": "1e48ded1",
   "metadata": {},
   "outputs": [],
   "source": []
  }
 ],
 "metadata": {
  "kernelspec": {
   "display_name": "Python 3",
   "language": "python",
   "name": "python3"
  },
  "language_info": {
   "codemirror_mode": {
    "name": "ipython",
    "version": 3
   },
   "file_extension": ".py",
   "mimetype": "text/x-python",
   "name": "python",
   "nbconvert_exporter": "python",
   "pygments_lexer": "ipython3",
   "version": "3.8.8"
  }
 },
 "nbformat": 4,
 "nbformat_minor": 5
}
