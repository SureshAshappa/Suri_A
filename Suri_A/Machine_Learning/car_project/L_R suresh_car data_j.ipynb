{
 "cells": [
  {
   "cell_type": "code",
   "execution_count": 1,
   "id": "899052fe",
   "metadata": {},
   "outputs": [],
   "source": [
    "import numpy as np\n",
    "import pandas as pd\n",
    "import matplotlib.pyplot as plt\n",
    "import seaborn as sns\n",
    "from sklearn.model_selection import train_test_split\n",
    "from sklearn.linear_model import SGDRegressor\n",
    "from sklearn.metrics import mean_squared_error\n",
    "from sklearn.preprocessing import StandardScaler"
   ]
  },
  {
   "cell_type": "code",
   "execution_count": 2,
   "id": "b5bba83c",
   "metadata": {},
   "outputs": [],
   "source": [
    "data = pd.read_csv('data.csv')"
   ]
  },
  {
   "cell_type": "code",
   "execution_count": 3,
   "id": "7139d43a",
   "metadata": {},
   "outputs": [
    {
     "data": {
      "text/html": [
       "<div>\n",
       "<style scoped>\n",
       "    .dataframe tbody tr th:only-of-type {\n",
       "        vertical-align: middle;\n",
       "    }\n",
       "\n",
       "    .dataframe tbody tr th {\n",
       "        vertical-align: top;\n",
       "    }\n",
       "\n",
       "    .dataframe thead th {\n",
       "        text-align: right;\n",
       "    }\n",
       "</style>\n",
       "<table border=\"1\" class=\"dataframe\">\n",
       "  <thead>\n",
       "    <tr style=\"text-align: right;\">\n",
       "      <th></th>\n",
       "      <th>origin</th>\n",
       "      <th>cylinders</th>\n",
       "      <th>displacement</th>\n",
       "      <th>horsepower</th>\n",
       "      <th>weight</th>\n",
       "      <th>acceleration</th>\n",
       "      <th>year</th>\n",
       "      <th>name</th>\n",
       "      <th>Kilometer_per_liter</th>\n",
       "    </tr>\n",
       "  </thead>\n",
       "  <tbody>\n",
       "    <tr>\n",
       "      <th>0</th>\n",
       "      <td>1</td>\n",
       "      <td>8</td>\n",
       "      <td>307.0</td>\n",
       "      <td>130</td>\n",
       "      <td>3504</td>\n",
       "      <td>12.0</td>\n",
       "      <td>1970</td>\n",
       "      <td>chevrolet chevelle malibu</td>\n",
       "      <td>7.652587</td>\n",
       "    </tr>\n",
       "    <tr>\n",
       "      <th>1</th>\n",
       "      <td>1</td>\n",
       "      <td>8</td>\n",
       "      <td>350.0</td>\n",
       "      <td>165</td>\n",
       "      <td>3693</td>\n",
       "      <td>11.5</td>\n",
       "      <td>1970</td>\n",
       "      <td>buick skylark 320</td>\n",
       "      <td>6.377156</td>\n",
       "    </tr>\n",
       "    <tr>\n",
       "      <th>2</th>\n",
       "      <td>1</td>\n",
       "      <td>8</td>\n",
       "      <td>318.0</td>\n",
       "      <td>150</td>\n",
       "      <td>3436</td>\n",
       "      <td>11.0</td>\n",
       "      <td>1970</td>\n",
       "      <td>plymouth satellite</td>\n",
       "      <td>7.652587</td>\n",
       "    </tr>\n",
       "    <tr>\n",
       "      <th>3</th>\n",
       "      <td>1</td>\n",
       "      <td>8</td>\n",
       "      <td>304.0</td>\n",
       "      <td>150</td>\n",
       "      <td>3433</td>\n",
       "      <td>12.0</td>\n",
       "      <td>1970</td>\n",
       "      <td>amc rebel sst</td>\n",
       "      <td>6.802299</td>\n",
       "    </tr>\n",
       "    <tr>\n",
       "      <th>4</th>\n",
       "      <td>1</td>\n",
       "      <td>8</td>\n",
       "      <td>302.0</td>\n",
       "      <td>140</td>\n",
       "      <td>3449</td>\n",
       "      <td>10.5</td>\n",
       "      <td>1970</td>\n",
       "      <td>ford torino</td>\n",
       "      <td>7.227443</td>\n",
       "    </tr>\n",
       "    <tr>\n",
       "      <th>...</th>\n",
       "      <td>...</td>\n",
       "      <td>...</td>\n",
       "      <td>...</td>\n",
       "      <td>...</td>\n",
       "      <td>...</td>\n",
       "      <td>...</td>\n",
       "      <td>...</td>\n",
       "      <td>...</td>\n",
       "      <td>...</td>\n",
       "    </tr>\n",
       "    <tr>\n",
       "      <th>393</th>\n",
       "      <td>1</td>\n",
       "      <td>4</td>\n",
       "      <td>140.0</td>\n",
       "      <td>86</td>\n",
       "      <td>2790</td>\n",
       "      <td>15.6</td>\n",
       "      <td>1982</td>\n",
       "      <td>ford mustang gl</td>\n",
       "      <td>11.478880</td>\n",
       "    </tr>\n",
       "    <tr>\n",
       "      <th>394</th>\n",
       "      <td>2</td>\n",
       "      <td>4</td>\n",
       "      <td>97.0</td>\n",
       "      <td>52</td>\n",
       "      <td>2130</td>\n",
       "      <td>24.6</td>\n",
       "      <td>1982</td>\n",
       "      <td>vw pickup</td>\n",
       "      <td>18.706323</td>\n",
       "    </tr>\n",
       "    <tr>\n",
       "      <th>395</th>\n",
       "      <td>1</td>\n",
       "      <td>4</td>\n",
       "      <td>135.0</td>\n",
       "      <td>84</td>\n",
       "      <td>2295</td>\n",
       "      <td>11.6</td>\n",
       "      <td>1982</td>\n",
       "      <td>dodge rampage</td>\n",
       "      <td>13.604599</td>\n",
       "    </tr>\n",
       "    <tr>\n",
       "      <th>396</th>\n",
       "      <td>1</td>\n",
       "      <td>4</td>\n",
       "      <td>120.0</td>\n",
       "      <td>79</td>\n",
       "      <td>2625</td>\n",
       "      <td>18.6</td>\n",
       "      <td>1982</td>\n",
       "      <td>ford ranger</td>\n",
       "      <td>11.904024</td>\n",
       "    </tr>\n",
       "    <tr>\n",
       "      <th>397</th>\n",
       "      <td>1</td>\n",
       "      <td>4</td>\n",
       "      <td>119.0</td>\n",
       "      <td>82</td>\n",
       "      <td>2720</td>\n",
       "      <td>19.4</td>\n",
       "      <td>1982</td>\n",
       "      <td>chevy s-10</td>\n",
       "      <td>13.179455</td>\n",
       "    </tr>\n",
       "  </tbody>\n",
       "</table>\n",
       "<p>398 rows × 9 columns</p>\n",
       "</div>"
      ],
      "text/plain": [
       "     origin  cylinders  displacement horsepower  weight  acceleration  year  \\\n",
       "0         1          8         307.0        130    3504          12.0  1970   \n",
       "1         1          8         350.0        165    3693          11.5  1970   \n",
       "2         1          8         318.0        150    3436          11.0  1970   \n",
       "3         1          8         304.0        150    3433          12.0  1970   \n",
       "4         1          8         302.0        140    3449          10.5  1970   \n",
       "..      ...        ...           ...        ...     ...           ...   ...   \n",
       "393       1          4         140.0         86    2790          15.6  1982   \n",
       "394       2          4          97.0         52    2130          24.6  1982   \n",
       "395       1          4         135.0         84    2295          11.6  1982   \n",
       "396       1          4         120.0         79    2625          18.6  1982   \n",
       "397       1          4         119.0         82    2720          19.4  1982   \n",
       "\n",
       "                          name  Kilometer_per_liter  \n",
       "0    chevrolet chevelle malibu             7.652587  \n",
       "1            buick skylark 320             6.377156  \n",
       "2           plymouth satellite             7.652587  \n",
       "3                amc rebel sst             6.802299  \n",
       "4                  ford torino             7.227443  \n",
       "..                         ...                  ...  \n",
       "393            ford mustang gl            11.478880  \n",
       "394                  vw pickup            18.706323  \n",
       "395              dodge rampage            13.604599  \n",
       "396                ford ranger            11.904024  \n",
       "397                 chevy s-10            13.179455  \n",
       "\n",
       "[398 rows x 9 columns]"
      ]
     },
     "execution_count": 3,
     "metadata": {},
     "output_type": "execute_result"
    }
   ],
   "source": [
    "data"
   ]
  },
  {
   "cell_type": "code",
   "execution_count": 4,
   "id": "6b295fbc",
   "metadata": {},
   "outputs": [
    {
     "name": "stdout",
     "output_type": "stream",
     "text": [
      "<class 'pandas.core.frame.DataFrame'>\n",
      "RangeIndex: 398 entries, 0 to 397\n",
      "Data columns (total 9 columns):\n",
      " #   Column               Non-Null Count  Dtype  \n",
      "---  ------               --------------  -----  \n",
      " 0   origin               398 non-null    int64  \n",
      " 1   cylinders            398 non-null    int64  \n",
      " 2   displacement         398 non-null    float64\n",
      " 3   horsepower           398 non-null    object \n",
      " 4   weight               398 non-null    int64  \n",
      " 5   acceleration         398 non-null    float64\n",
      " 6   year                 398 non-null    int64  \n",
      " 7   name                 398 non-null    object \n",
      " 8   Kilometer_per_liter  398 non-null    float64\n",
      "dtypes: float64(3), int64(4), object(2)\n",
      "memory usage: 28.1+ KB\n"
     ]
    }
   ],
   "source": [
    "data.info()"
   ]
  },
  {
   "cell_type": "code",
   "execution_count": 5,
   "id": "885b54b5",
   "metadata": {},
   "outputs": [
    {
     "data": {
      "text/plain": [
       "(398, 9)"
      ]
     },
     "execution_count": 5,
     "metadata": {},
     "output_type": "execute_result"
    }
   ],
   "source": [
    "data.shape"
   ]
  },
  {
   "cell_type": "code",
   "execution_count": 6,
   "id": "512b8463",
   "metadata": {},
   "outputs": [
    {
     "data": {
      "text/plain": [
       "count    398.000000\n",
       "mean       9.997073\n",
       "std        3.322917\n",
       "min        3.826293\n",
       "25%        7.440015\n",
       "50%        9.778305\n",
       "75%       12.329168\n",
       "max       19.811697\n",
       "Name: Kilometer_per_liter, dtype: float64"
      ]
     },
     "execution_count": 6,
     "metadata": {},
     "output_type": "execute_result"
    }
   ],
   "source": [
    "data.Kilometer_per_liter.describe()"
   ]
  },
  {
   "cell_type": "code",
   "execution_count": 7,
   "id": "7a9699f1",
   "metadata": {},
   "outputs": [
    {
     "data": {
      "text/plain": [
       "origin                 0\n",
       "cylinders              0\n",
       "displacement           0\n",
       "horsepower             0\n",
       "weight                 0\n",
       "acceleration           0\n",
       "year                   0\n",
       "name                   0\n",
       "Kilometer_per_liter    0\n",
       "dtype: int64"
      ]
     },
     "execution_count": 7,
     "metadata": {},
     "output_type": "execute_result"
    }
   ],
   "source": [
    "data.isnull().sum() #no misssing values"
   ]
  },
  {
   "cell_type": "code",
   "execution_count": 8,
   "id": "069ff3be",
   "metadata": {},
   "outputs": [
    {
     "data": {
      "image/png": "[encoded data removed]",
      "text/plain": [
       "<Figure size 432x288 with 1 Axes>"
      ]
     },
     "metadata": {
      "needs_background": "light"
     },
     "output_type": "display_data"
    }
   ],
   "source": [
    "plt.hist(data.Kilometer_per_liter,color='red')\n",
    "plt.xlabel('Mileage-Kilometer_per_liter')\n",
    "plt.ylabel('No of cars')\n",
    "plt.title('Histogram-Kilometer_per_liter')\n",
    "plt.show()"
   ]
  },
  {
   "cell_type": "code",
   "execution_count": 9,
   "id": "066193af",
   "metadata": {},
   "outputs": [
    {
     "data": {
      "image/png": "[encoded data removed]",
      "text/plain": [
       "<Figure size 432x288 with 1 Axes>"
      ]
     },
     "metadata": {
      "needs_background": "light"
     },
     "output_type": "display_data"
    }
   ],
   "source": [
    "props2=dict(boxes='red',whiskers='green',medians='black',caps='blue')\n",
    "data['Kilometer_per_liter'].plot.box(color=props2,patch_artist=True,vert=False)\n",
    "plt.xlabel('Mileage-Kilometer_per_liter')\n",
    "plt.title('Boxplot-Kilometer_per_liter')\n",
    "plt.show()"
   ]
  },
  {
   "cell_type": "code",
   "execution_count": 10,
   "id": "1c1a633c",
   "metadata": {},
   "outputs": [
    {
     "data": {
      "text/plain": [
       "1"
      ]
     },
     "execution_count": 10,
     "metadata": {},
     "output_type": "execute_result"
    }
   ],
   "source": [
    "kpl_IQR=data.Kilometer_per_liter.describe()['75%']-data.Kilometer_per_liter.describe()['25%']\n",
    "kpl_uplim=data.Kilometer_per_liter.describe()['75%']+1.5*kpl_IQR\n",
    "len(data.Kilometer_per_liter[data.Kilometer_per_liter>kpl_uplim])#only 1 outlier ignore"
   ]
  },
  {
   "cell_type": "code",
   "execution_count": 11,
   "id": "0f0713ca",
   "metadata": {},
   "outputs": [
    {
     "data": {
      "text/plain": [
       "1    249\n",
       "3     79\n",
       "2     70\n",
       "Name: origin, dtype: int64"
      ]
     },
     "execution_count": 11,
     "metadata": {},
     "output_type": "execute_result"
    }
   ],
   "source": [
    "#2-----origin\n",
    "#country origin(given numbers only)\n",
    "data.origin.value_counts()"
   ]
  },
  {
   "cell_type": "code",
   "execution_count": 12,
   "id": "2802cee0",
   "metadata": {},
   "outputs": [
    {
     "data": {
      "text/plain": [
       "398"
      ]
     },
     "execution_count": 12,
     "metadata": {},
     "output_type": "execute_result"
    }
   ],
   "source": [
    "data.origin.value_counts().sum()"
   ]
  },
  {
   "cell_type": "code",
   "execution_count": 13,
   "id": "a051f0a5",
   "metadata": {},
   "outputs": [
    {
     "name": "stderr",
     "output_type": "stream",
     "text": [
      "C:\\Users\\SURESH A\\anaconda3\\lib\\site-packages\\seaborn\\_decorators.py:36: FutureWarning: Pass the following variable as a keyword arg: x. From version 0.12, the only valid positional argument will be `data`, and passing other arguments without an explicit keyword will result in an error or misinterpretation.\n",
      "  warnings.warn(\n"
     ]
    },
    {
     "data": {
      "image/png": "[encoded data removed]",
      "text/plain": [
       "<Figure size 432x288 with 1 Axes>"
      ]
     },
     "metadata": {
      "needs_background": "light"
     },
     "output_type": "display_data"
    }
   ],
   "source": [
    "#barplot\n",
    "sns.countplot(data.origin)\n",
    "plt.ylabel('No of cars')\n",
    "plt.show()"
   ]
  },
  {
   "cell_type": "code",
   "execution_count": 14,
   "id": "8834758c",
   "metadata": {},
   "outputs": [
    {
     "data": {
      "image/png": "[encoded data removed]",
      "text/plain": [
       "<Figure size 432x288 with 1 Axes>"
      ]
     },
     "metadata": {
      "needs_background": "light"
     },
     "output_type": "display_data"
    }
   ],
   "source": [
    "#Kilometer_per_liter (mileage) vs origin\n",
    "data.groupby('origin')['Kilometer_per_liter'].mean().plot(kind='bar',color=['#8f1402','#014d4e','#4b006e'])\n",
    "plt.ylabel('Average milage of cars')\n",
    "plt.xticks(rotation=0)\n",
    "plt.title('Average mileage of cars origin wise')\n",
    "plt.show()"
   ]
  },
  {
   "cell_type": "code",
   "execution_count": 15,
   "id": "c56f0ebc",
   "metadata": {},
   "outputs": [
    {
     "name": "stdout",
     "output_type": "stream",
     "text": [
      "<class 'pandas.core.frame.DataFrame'>\n",
      "RangeIndex: 398 entries, 0 to 397\n",
      "Data columns (total 9 columns):\n",
      " #   Column               Non-Null Count  Dtype  \n",
      "---  ------               --------------  -----  \n",
      " 0   origin               398 non-null    int64  \n",
      " 1   cylinders            398 non-null    int64  \n",
      " 2   displacement         398 non-null    float64\n",
      " 3   horsepower           398 non-null    object \n",
      " 4   weight               398 non-null    int64  \n",
      " 5   acceleration         398 non-null    float64\n",
      " 6   year                 398 non-null    int64  \n",
      " 7   name                 398 non-null    object \n",
      " 8   Kilometer_per_liter  398 non-null    float64\n",
      "dtypes: float64(3), int64(4), object(2)\n",
      "memory usage: 28.1+ KB\n"
     ]
    }
   ],
   "source": [
    "#cylinder\n",
    "data.info()"
   ]
  },
  {
   "cell_type": "code",
   "execution_count": 16,
   "id": "6d2a2a22",
   "metadata": {},
   "outputs": [
    {
     "data": {
      "text/plain": [
       "4    204\n",
       "8    103\n",
       "6     84\n",
       "3      4\n",
       "5      3\n",
       "Name: cylinders, dtype: int64"
      ]
     },
     "execution_count": 16,
     "metadata": {},
     "output_type": "execute_result"
    }
   ],
   "source": [
    "#3cylinder\n",
    "#No of cylinder\n",
    "data.cylinders.value_counts()"
   ]
  },
  {
   "cell_type": "code",
   "execution_count": 17,
   "id": "a3bb1786",
   "metadata": {},
   "outputs": [
    {
     "data": {
      "text/plain": [
       "398"
      ]
     },
     "execution_count": 17,
     "metadata": {},
     "output_type": "execute_result"
    }
   ],
   "source": [
    "data.cylinders.value_counts().sum()"
   ]
  },
  {
   "cell_type": "code",
   "execution_count": 18,
   "id": "cc6e5835",
   "metadata": {},
   "outputs": [
    {
     "name": "stderr",
     "output_type": "stream",
     "text": [
      "C:\\Users\\SURESH A\\anaconda3\\lib\\site-packages\\seaborn\\_decorators.py:36: FutureWarning: Pass the following variable as a keyword arg: x. From version 0.12, the only valid positional argument will be `data`, and passing other arguments without an explicit keyword will result in an error or misinterpretation.\n",
      "  warnings.warn(\n"
     ]
    },
    {
     "data": {
      "image/png": "[encoded data removed]",
      "text/plain": [
       "<Figure size 432x288 with 1 Axes>"
      ]
     },
     "metadata": {
      "needs_background": "light"
     },
     "output_type": "display_data"
    }
   ],
   "source": [
    "#barplot\n",
    "sns.countplot(data.cylinders)\n",
    "plt.ylabel('no of cars')\n",
    "plt.title('cylinder')\n",
    "plt.show()"
   ]
  },
  {
   "cell_type": "code",
   "execution_count": 19,
   "id": "f49b5047",
   "metadata": {},
   "outputs": [
    {
     "data": {
      "image/png": "[encoded data removed]",
      "text/plain": [
       "<Figure size 432x288 with 1 Axes>"
      ]
     },
     "metadata": {
      "needs_background": "light"
     },
     "output_type": "display_data"
    }
   ],
   "source": [
    "#kilometer _per_liter (milage)vs cylinder\n",
    "data.groupby('cylinders')['Kilometer_per_liter'].mean().plot(kind='bar',color=['#8f1402','#014d4e','#4b006e','#677a04','#874c62'])\n",
    "plt.ylabel('Average mileage of cars')\n",
    "plt.xticks(rotation=0)\n",
    "plt.title('Average mileage of cars vs no of cylinders')\n",
    "plt.show()"
   ]
  },
  {
   "cell_type": "code",
   "execution_count": 20,
   "id": "d6a9b84f",
   "metadata": {},
   "outputs": [
    {
     "data": {
      "text/plain": [
       "count    398.000000\n",
       "mean     193.425879\n",
       "std      104.269838\n",
       "min       68.000000\n",
       "25%      104.250000\n",
       "50%      148.500000\n",
       "75%      262.000000\n",
       "max      455.000000\n",
       "Name: displacement, dtype: float64"
      ]
     },
     "execution_count": 20,
     "metadata": {},
     "output_type": "execute_result"
    }
   ],
   "source": [
    "#displacement\n",
    "data.displacement.describe()"
   ]
  },
  {
   "cell_type": "code",
   "execution_count": 21,
   "id": "89252acc",
   "metadata": {},
   "outputs": [
    {
     "data": {
      "image/png": "[encoded data removed]",
      "text/plain": [
       "<Figure size 432x288 with 1 Axes>"
      ]
     },
     "metadata": {
      "needs_background": "light"
     },
     "output_type": "display_data"
    }
   ],
   "source": [
    "#Histogram\n",
    "plt.hist(data.displacement,color='#650021')\n",
    "plt.xlabel('displaement')\n",
    "plt.ylabel('no of cars')\n",
    "plt.title('Histogram-displacement')\n",
    "plt.show()"
   ]
  },
  {
   "cell_type": "code",
   "execution_count": 22,
   "id": "3c4ee0d2",
   "metadata": {},
   "outputs": [
    {
     "data": {
      "image/png": "[encoded data removed]",
      "text/plain": [
       "<Figure size 432x288 with 1 Axes>"
      ]
     },
     "metadata": {
      "needs_background": "light"
     },
     "output_type": "display_data"
    }
   ],
   "source": [
    "#Boxplot\n",
    "data['displacement'].plot.box(color=props2,patch_artist=True,vert=False)\n",
    "plt.xlabel('displacement')\n",
    "plt.title('boxplot-displacement')\n",
    "plt.show()\n"
   ]
  },
  {
   "cell_type": "code",
   "execution_count": 23,
   "id": "9b9f2938",
   "metadata": {},
   "outputs": [
    {
     "data": {
      "image/png": "[encoded data removed]",
      "text/plain": [
       "<Figure size 432x288 with 1 Axes>"
      ]
     },
     "metadata": {
      "needs_background": "light"
     },
     "output_type": "display_data"
    }
   ],
   "source": [
    "#scatter kilometer_per_liter vs displacement\n",
    "sns.scatterplot(x='displacement',y='Kilometer_per_liter',data=data,hue='Kilometer_per_liter')\n",
    "plt.title('Kilometer_per_liter vs displacement')\n",
    "plt.show()"
   ]
  },
  {
   "cell_type": "code",
   "execution_count": 24,
   "id": "707a3552",
   "metadata": {},
   "outputs": [
    {
     "name": "stdout",
     "output_type": "stream",
     "text": [
      "<class 'pandas.core.frame.DataFrame'>\n",
      "RangeIndex: 398 entries, 0 to 397\n",
      "Data columns (total 9 columns):\n",
      " #   Column               Non-Null Count  Dtype  \n",
      "---  ------               --------------  -----  \n",
      " 0   origin               398 non-null    int64  \n",
      " 1   cylinders            398 non-null    int64  \n",
      " 2   displacement         398 non-null    float64\n",
      " 3   horsepower           398 non-null    object \n",
      " 4   weight               398 non-null    int64  \n",
      " 5   acceleration         398 non-null    float64\n",
      " 6   year                 398 non-null    int64  \n",
      " 7   name                 398 non-null    object \n",
      " 8   Kilometer_per_liter  398 non-null    float64\n",
      "dtypes: float64(3), int64(4), object(2)\n",
      "memory usage: 28.1+ KB\n"
     ]
    }
   ],
   "source": [
    "#hp\n",
    "data.info()"
   ]
  },
  {
   "cell_type": "code",
   "execution_count": 25,
   "id": "fdc35863",
   "metadata": {},
   "outputs": [
    {
     "name": "stdout",
     "output_type": "stream",
     "text": [
      "<class 'pandas.core.frame.DataFrame'>\n",
      "RangeIndex: 398 entries, 0 to 397\n",
      "Data columns (total 9 columns):\n",
      " #   Column               Non-Null Count  Dtype  \n",
      "---  ------               --------------  -----  \n",
      " 0   origin               398 non-null    int64  \n",
      " 1   cylinders            398 non-null    int64  \n",
      " 2   displacement         398 non-null    float64\n",
      " 3   horsepower           392 non-null    float64\n",
      " 4   weight               398 non-null    int64  \n",
      " 5   acceleration         398 non-null    float64\n",
      " 6   year                 398 non-null    int64  \n",
      " 7   name                 398 non-null    object \n",
      " 8   Kilometer_per_liter  398 non-null    float64\n",
      "dtypes: float64(4), int64(4), object(1)\n",
      "memory usage: 28.1+ KB\n"
     ]
    }
   ],
   "source": [
    "#convert the data type object to int64\n",
    "data.horsepower=pd.to_numeric(data.horsepower,errors='coerce')\n",
    "data.info()"
   ]
  },
  {
   "cell_type": "code",
   "execution_count": 26,
   "id": "77713119",
   "metadata": {},
   "outputs": [
    {
     "data": {
      "text/plain": [
       "6"
      ]
     },
     "execution_count": 26,
     "metadata": {},
     "output_type": "execute_result"
    }
   ],
   "source": [
    "#some data points in hp variable are? they converted in to nan when\n",
    "#datatype changed\n",
    "data.horsepower.isnull().sum()#6 nan values"
   ]
  },
  {
   "cell_type": "code",
   "execution_count": 27,
   "id": "cc80e753",
   "metadata": {},
   "outputs": [],
   "source": [
    "#removing nan values\n",
    "data1=data.dropna()"
   ]
  },
  {
   "cell_type": "code",
   "execution_count": 28,
   "id": "5d06161c",
   "metadata": {},
   "outputs": [
    {
     "data": {
      "text/plain": [
       "(392, 9)"
      ]
     },
     "execution_count": 28,
     "metadata": {},
     "output_type": "execute_result"
    }
   ],
   "source": [
    "data1.horsepower.isnull().sum()#no missing values\n",
    "data1.shape# ie 6 nan values are removed"
   ]
  },
  {
   "cell_type": "code",
   "execution_count": 30,
   "id": "dbaec992",
   "metadata": {},
   "outputs": [
    {
     "data": {
      "text/plain": [
       "0"
      ]
     },
     "execution_count": 30,
     "metadata": {},
     "output_type": "execute_result"
    }
   ],
   "source": [
    "data1.horsepower.isnull().sum()#no missing values"
   ]
  },
  {
   "cell_type": "code",
   "execution_count": 31,
   "id": "a678107f",
   "metadata": {},
   "outputs": [
    {
     "data": {
      "text/plain": [
       "count    392.000000\n",
       "mean     104.469388\n",
       "std       38.491160\n",
       "min       46.000000\n",
       "25%       75.000000\n",
       "50%       93.500000\n",
       "75%      126.000000\n",
       "max      230.000000\n",
       "Name: horsepower, dtype: float64"
      ]
     },
     "execution_count": 31,
     "metadata": {},
     "output_type": "execute_result"
    }
   ],
   "source": [
    "#distribution in horse power\n",
    "data1.horsepower.describe()"
   ]
  },
  {
   "cell_type": "code",
   "execution_count": 32,
   "id": "24044d3f",
   "metadata": {},
   "outputs": [
    {
     "data": {
      "image/png": "[encoded data removed]",
      "text/plain": [
       "<Figure size 432x288 with 1 Axes>"
      ]
     },
     "metadata": {
      "needs_background": "light"
     },
     "output_type": "display_data"
    }
   ],
   "source": [
    "#histogram\n",
    "plt.hist(data1.horsepower,color='BLACK')\n",
    "plt.xlabel('horsepower')\n",
    "plt.xticks(rotation=90)\n",
    "plt.ylabel('no of cars')\n",
    "plt.title('Histogram-horsepower')\n",
    "plt.show()"
   ]
  },
  {
   "cell_type": "code",
   "execution_count": 33,
   "id": "a43be368",
   "metadata": {},
   "outputs": [
    {
     "data": {
      "image/png": "[encoded data removed]",
      "text/plain": [
       "<Figure size 432x288 with 1 Axes>"
      ]
     },
     "metadata": {
      "needs_background": "light"
     },
     "output_type": "display_data"
    }
   ],
   "source": [
    "#boxplot\n",
    "data1['horsepower'].plot.box(color=props2,patch_artist=True,vert=False)\n",
    "plt.xlabel('horsepower')\n",
    "plt.title('boxplot-horsepower')\n",
    "plt.show()"
   ]
  },
  {
   "cell_type": "code",
   "execution_count": 34,
   "id": "e82dc921",
   "metadata": {},
   "outputs": [
    {
     "data": {
      "text/plain": [
       "10"
      ]
     },
     "execution_count": 34,
     "metadata": {},
     "output_type": "execute_result"
    }
   ],
   "source": [
    "#checking the outliers\n",
    "hp_IQR=data1.horsepower.describe()['75%']-data1.horsepower.describe()['25%']\n",
    "hp_uplim=data1.horsepower.describe()['75%']+1.5*hp_IQR\n",
    "len(data1.horsepower[data1.horsepower>hp_uplim])#10 outliers IGNORE"
   ]
  },
  {
   "cell_type": "code",
   "execution_count": 36,
   "id": "ed48bcc2",
   "metadata": {},
   "outputs": [
    {
     "data": {
      "image/png": "[encoded data removed]",
      "text/plain": [
       "<Figure size 432x288 with 1 Axes>"
      ]
     },
     "metadata": {
      "needs_background": "light"
     },
     "output_type": "display_data"
    }
   ],
   "source": [
    "#scatterplot kilometer_per_liter vs horsepower\n",
    "sns.scatterplot(x='horsepower',y='Kilometer_per_liter',data=data1,hue='Kilometer_per_liter')\n",
    "plt.title('Kilometer_per_liter vs horsepower')\n",
    "plt.show()"
   ]
  },
  {
   "cell_type": "code",
   "execution_count": 37,
   "id": "d83faf7e",
   "metadata": {},
   "outputs": [
    {
     "name": "stdout",
     "output_type": "stream",
     "text": [
      "<class 'pandas.core.frame.DataFrame'>\n",
      "Int64Index: 392 entries, 0 to 397\n",
      "Data columns (total 9 columns):\n",
      " #   Column               Non-Null Count  Dtype  \n",
      "---  ------               --------------  -----  \n",
      " 0   origin               392 non-null    int64  \n",
      " 1   cylinders            392 non-null    int64  \n",
      " 2   displacement         392 non-null    float64\n",
      " 3   horsepower           392 non-null    float64\n",
      " 4   weight               392 non-null    int64  \n",
      " 5   acceleration         392 non-null    float64\n",
      " 6   year                 392 non-null    int64  \n",
      " 7   name                 392 non-null    object \n",
      " 8   Kilometer_per_liter  392 non-null    float64\n",
      "dtypes: float64(4), int64(4), object(1)\n",
      "memory usage: 30.6+ KB\n"
     ]
    }
   ],
   "source": [
    "#weight\n",
    "data1.info()"
   ]
  },
  {
   "cell_type": "code",
   "execution_count": 38,
   "id": "db4a3006",
   "metadata": {},
   "outputs": [
    {
     "data": {
      "image/png": "[encoded data removed]",
      "text/plain": [
       "<Figure size 432x288 with 1 Axes>"
      ]
     },
     "metadata": {
      "needs_background": "light"
     },
     "output_type": "display_data"
    }
   ],
   "source": [
    "#histogram\n",
    "plt.hist(data1.weight,color='#a03623')\n",
    "plt.xlabel('weight')\n",
    "plt.ylabel('no of cars')\n",
    "plt.title('Histogram-weight')\n",
    "plt.show()"
   ]
  },
  {
   "cell_type": "code",
   "execution_count": 39,
   "id": "685c1d8c",
   "metadata": {},
   "outputs": [
    {
     "data": {
      "image/png": "[encoded data removed]",
      "text/plain": [
       "<Figure size 432x288 with 1 Axes>"
      ]
     },
     "metadata": {
      "needs_background": "light"
     },
     "output_type": "display_data"
    }
   ],
   "source": [
    "#boxplot\n",
    "data1['weight'].plot.box(color=props2,patch_artist=True,vert=False)\n",
    "plt.xlabel('weight')\n",
    "plt.title('boxplot-weight')\n",
    "plt.show()#no outliers"
   ]
  },
  {
   "cell_type": "code",
   "execution_count": 40,
   "id": "e57befdd",
   "metadata": {},
   "outputs": [
    {
     "data": {
      "image/png": "[encoded data removed]",
      "text/plain": [
       "<Figure size 432x288 with 1 Axes>"
      ]
     },
     "metadata": {
      "needs_background": "light"
     },
     "output_type": "display_data"
    }
   ],
   "source": [
    "#scatterplot kilometer_per_liter vs weight\n",
    "sns.scatterplot(x='weight',y='Kilometer_per_liter',data=data1,hue='Kilometer_per_liter')\n",
    "plt.title('Kilometer_per_liter vs weight')\n",
    "plt.show()"
   ]
  },
  {
   "cell_type": "code",
   "execution_count": 42,
   "id": "4f419c77",
   "metadata": {},
   "outputs": [
    {
     "data": {
      "text/plain": [
       "count    392.000000\n",
       "mean      15.541327\n",
       "std        2.758864\n",
       "min        8.000000\n",
       "25%       13.775000\n",
       "50%       15.500000\n",
       "75%       17.025000\n",
       "max       24.800000\n",
       "Name: acceleration, dtype: float64"
      ]
     },
     "execution_count": 42,
     "metadata": {},
     "output_type": "execute_result"
    }
   ],
   "source": [
    "#acceleration\n",
    "data1.acceleration.describe()"
   ]
  },
  {
   "cell_type": "code",
   "execution_count": 43,
   "id": "e2a4c29d",
   "metadata": {},
   "outputs": [
    {
     "data": {
      "image/png": "[encoded data removed]",
      "text/plain": [
       "<Figure size 432x288 with 1 Axes>"
      ]
     },
     "metadata": {
      "needs_background": "light"
     },
     "output_type": "display_data"
    }
   ],
   "source": [
    "#histogram\n",
    "plt.hist(data1.acceleration,color='#74a662')\n",
    "plt.xlabel('acceleration')\n",
    "plt.ylabel('no of cars')\n",
    "plt.title('Histogram-acceleration')\n",
    "plt.show()"
   ]
  },
  {
   "cell_type": "code",
   "execution_count": 44,
   "id": "4be99591",
   "metadata": {},
   "outputs": [
    {
     "data": {
      "image/png": "[encoded data removed]",
      "text/plain": [
       "<Figure size 432x288 with 1 Axes>"
      ]
     },
     "metadata": {
      "needs_background": "light"
     },
     "output_type": "display_data"
    }
   ],
   "source": [
    "#boxplot\n",
    "data1['acceleration'].plot.box(color=props2,patch_artist=True,vert=False)\n",
    "plt.xlabel('acceleration')\n",
    "plt.title('boxplot-acceleration')\n",
    "plt.show()# outliers"
   ]
  },
  {
   "cell_type": "code",
   "execution_count": 45,
   "id": "e98ca510",
   "metadata": {},
   "outputs": [
    {
     "data": {
      "text/plain": [
       "8"
      ]
     },
     "execution_count": 45,
     "metadata": {},
     "output_type": "execute_result"
    }
   ],
   "source": [
    "#checking the outliers\n",
    "acc_IQR=data1.acceleration.describe()['75%']-data1.acceleration.describe()['25%']\n",
    "acc_uplim=data1.acceleration.describe()['75%']+1.5*acc_IQR\n",
    "len(data1.acceleration[data1.acceleration>acc_uplim])#8 outliers IGNORE"
   ]
  },
  {
   "cell_type": "code",
   "execution_count": 46,
   "id": "666c7275",
   "metadata": {},
   "outputs": [
    {
     "data": {
      "text/plain": [
       "3"
      ]
     },
     "execution_count": 46,
     "metadata": {},
     "output_type": "execute_result"
    }
   ],
   "source": [
    "acc_lowlim=data1.acceleration.describe()['25%']-1.5*acc_IQR\n",
    "len(data1.acceleration[data1.acceleration<acc_lowlim])#3 outliers IGNORE"
   ]
  },
  {
   "cell_type": "code",
   "execution_count": 47,
   "id": "80dd1ca6",
   "metadata": {},
   "outputs": [
    {
     "data": {
      "image/png": "[encoded data removed]",
      "text/plain": [
       "<Figure size 432x288 with 1 Axes>"
      ]
     },
     "metadata": {
      "needs_background": "light"
     },
     "output_type": "display_data"
    }
   ],
   "source": [
    "#scatterplot kilometer_per_liter vs acceleration\n",
    "sns.scatterplot(x='acceleration',y='Kilometer_per_liter',data=data1,hue='Kilometer_per_liter')\n",
    "plt.title('Kilometer_per_liter vs acceleration')\n",
    "plt.show()"
   ]
  },
  {
   "cell_type": "code",
   "execution_count": 48,
   "id": "9076a3b4",
   "metadata": {},
   "outputs": [
    {
     "name": "stdout",
     "output_type": "stream",
     "text": [
      "<class 'pandas.core.frame.DataFrame'>\n",
      "Int64Index: 392 entries, 0 to 397\n",
      "Data columns (total 9 columns):\n",
      " #   Column               Non-Null Count  Dtype  \n",
      "---  ------               --------------  -----  \n",
      " 0   origin               392 non-null    int64  \n",
      " 1   cylinders            392 non-null    int64  \n",
      " 2   displacement         392 non-null    float64\n",
      " 3   horsepower           392 non-null    float64\n",
      " 4   weight               392 non-null    int64  \n",
      " 5   acceleration         392 non-null    float64\n",
      " 6   year                 392 non-null    int64  \n",
      " 7   name                 392 non-null    object \n",
      " 8   Kilometer_per_liter  392 non-null    float64\n",
      "dtypes: float64(4), int64(4), object(1)\n",
      "memory usage: 30.6+ KB\n"
     ]
    }
   ],
   "source": [
    "#year\n",
    "data1.info()"
   ]
  },
  {
   "cell_type": "code",
   "execution_count": 49,
   "id": "7ce0ae9a",
   "metadata": {},
   "outputs": [
    {
     "data": {
      "text/plain": [
       "count     392.000000\n",
       "mean     1975.979592\n",
       "std         3.683737\n",
       "min      1970.000000\n",
       "25%      1973.000000\n",
       "50%      1976.000000\n",
       "75%      1979.000000\n",
       "max      1982.000000\n",
       "Name: year, dtype: float64"
      ]
     },
     "execution_count": 49,
     "metadata": {},
     "output_type": "execute_result"
    }
   ],
   "source": [
    "data1.year.describe()"
   ]
  },
  {
   "cell_type": "code",
   "execution_count": 50,
   "id": "7100d1e5",
   "metadata": {},
   "outputs": [
    {
     "name": "stderr",
     "output_type": "stream",
     "text": [
      "C:\\Users\\SURESH A\\anaconda3\\lib\\site-packages\\seaborn\\_decorators.py:36: FutureWarning: Pass the following variable as a keyword arg: x. From version 0.12, the only valid positional argument will be `data`, and passing other arguments without an explicit keyword will result in an error or misinterpretation.\n",
      "  warnings.warn(\n"
     ]
    },
    {
     "data": {
      "image/png": "[encoded data removed]",
      "text/plain": [
       "<Figure size 432x288 with 1 Axes>"
      ]
     },
     "metadata": {
      "needs_background": "light"
     },
     "output_type": "display_data"
    }
   ],
   "source": [
    "#Barplot\n",
    "sns.countplot(data1.year)\n",
    "plt.xlabel('model year of the car')\n",
    "plt.xticks(rotation=45)\n",
    "plt.ylabel('no of cars')\n",
    "plt.title('barplot-model year of the car')\n",
    "plt.show()"
   ]
  },
  {
   "cell_type": "code",
   "execution_count": 51,
   "id": "39cdbbcf",
   "metadata": {},
   "outputs": [
    {
     "data": {
      "image/png": "[encoded data removed]",
      "text/plain": [
       "<Figure size 432x288 with 1 Axes>"
      ]
     },
     "metadata": {
      "needs_background": "light"
     },
     "output_type": "display_data"
    }
   ],
   "source": [
    "#scatterplot kilometer_per_liter vs year\n",
    "sns.scatterplot(x='year',y='Kilometer_per_liter',data=data1,hue='Kilometer_per_liter')\n",
    "plt.ylabel('Kilometer_per_liter')\n",
    "plt.legend(bbox_to_anchor=(1,1),loc=2)\n",
    "plt.title('Kilometer_per_liter vs model year of the car')\n",
    "plt.show()"
   ]
  },
  {
   "cell_type": "code",
   "execution_count": 52,
   "id": "00d335f2",
   "metadata": {},
   "outputs": [
    {
     "name": "stdout",
     "output_type": "stream",
     "text": [
      "<class 'pandas.core.frame.DataFrame'>\n",
      "Int64Index: 392 entries, 0 to 397\n",
      "Data columns (total 9 columns):\n",
      " #   Column               Non-Null Count  Dtype  \n",
      "---  ------               --------------  -----  \n",
      " 0   origin               392 non-null    int64  \n",
      " 1   cylinders            392 non-null    int64  \n",
      " 2   displacement         392 non-null    float64\n",
      " 3   horsepower           392 non-null    float64\n",
      " 4   weight               392 non-null    int64  \n",
      " 5   acceleration         392 non-null    float64\n",
      " 6   year                 392 non-null    int64  \n",
      " 7   name                 392 non-null    object \n",
      " 8   Kilometer_per_liter  392 non-null    float64\n",
      "dtypes: float64(4), int64(4), object(1)\n",
      "memory usage: 38.7+ KB\n"
     ]
    }
   ],
   "source": [
    "data1.info()"
   ]
  },
  {
   "cell_type": "code",
   "execution_count": 53,
   "id": "f5823626",
   "metadata": {},
   "outputs": [
    {
     "data": {
      "text/plain": [
       "count            392\n",
       "unique           301\n",
       "top       ford pinto\n",
       "freq               5\n",
       "Name: name, dtype: object"
      ]
     },
     "execution_count": 53,
     "metadata": {},
     "output_type": "execute_result"
    }
   ],
   "source": [
    "#8 name\n",
    "# car brand and model name(unique for each instance)\n",
    "data1.name.describe()"
   ]
  },
  {
   "cell_type": "code",
   "execution_count": 54,
   "id": "577de493",
   "metadata": {},
   "outputs": [],
   "source": [
    "#Almost all are unique names\n",
    "#Bad predictors"
   ]
  },
  {
   "cell_type": "code",
   "execution_count": 55,
   "id": "5c8add78",
   "metadata": {},
   "outputs": [],
   "source": [
    "#heatmap\n",
    "#to get the correlation values on heat map"
   ]
  },
  {
   "cell_type": "code",
   "execution_count": 56,
   "id": "a73108d7",
   "metadata": {},
   "outputs": [
    {
     "data": {
      "text/plain": [
       "origin                 0.565209\n",
       "cylinders             -0.777618\n",
       "displacement          -0.805127\n",
       "horsepower            -0.778427\n",
       "weight                -0.832244\n",
       "acceleration           0.423329\n",
       "year                   0.580541\n",
       "Kilometer_per_liter    1.000000\n",
       "Name: Kilometer_per_liter, dtype: float64"
      ]
     },
     "execution_count": 56,
     "metadata": {},
     "output_type": "execute_result"
    },
    {
     "data": {
      "image/png": "[encoded data removed]",
      "text/plain": [
       "<Figure size 432x288 with 2 Axes>"
      ]
     },
     "metadata": {
      "needs_background": "light"
     },
     "output_type": "display_data"
    }
   ],
   "source": [
    "sns.heatmap(data1.corr(), annot=True, cmap='RdYlBu')\n",
    "#correlation of target variable with predictors variables\n",
    "data1.corr()['Kilometer_per_liter']"
   ]
  },
  {
   "cell_type": "code",
   "execution_count": 57,
   "id": "bfff3e2c",
   "metadata": {},
   "outputs": [
    {
     "name": "stdout",
     "output_type": "stream",
     "text": [
      "<class 'pandas.core.frame.DataFrame'>\n",
      "Int64Index: 392 entries, 0 to 397\n",
      "Data columns (total 9 columns):\n",
      " #   Column               Non-Null Count  Dtype  \n",
      "---  ------               --------------  -----  \n",
      " 0   origin               392 non-null    int64  \n",
      " 1   cylinders            392 non-null    int64  \n",
      " 2   displacement         392 non-null    float64\n",
      " 3   horsepower           392 non-null    float64\n",
      " 4   weight               392 non-null    int64  \n",
      " 5   acceleration         392 non-null    float64\n",
      " 6   year                 392 non-null    int64  \n",
      " 7   name                 392 non-null    object \n",
      " 8   Kilometer_per_liter  392 non-null    float64\n",
      "dtypes: float64(4), int64(4), object(1)\n",
      "memory usage: 38.7+ KB\n"
     ]
    }
   ],
   "source": [
    "data1.info()\n",
    "x=data1.iloc[:,:7]#name avoided as predictor\n",
    "y=data1.Kilometer_per_liter"
   ]
  },
  {
   "cell_type": "code",
   "execution_count": 59,
   "id": "31fc663a",
   "metadata": {},
   "outputs": [
    {
     "data": {
      "text/html": [
       "<div>\n",
       "<style scoped>\n",
       "    .dataframe tbody tr th:only-of-type {\n",
       "        vertical-align: middle;\n",
       "    }\n",
       "\n",
       "    .dataframe tbody tr th {\n",
       "        vertical-align: top;\n",
       "    }\n",
       "\n",
       "    .dataframe thead th {\n",
       "        text-align: right;\n",
       "    }\n",
       "</style>\n",
       "<table border=\"1\" class=\"dataframe\">\n",
       "  <thead>\n",
       "    <tr style=\"text-align: right;\">\n",
       "      <th></th>\n",
       "      <th>origin</th>\n",
       "      <th>cylinders</th>\n",
       "      <th>displacement</th>\n",
       "      <th>horsepower</th>\n",
       "      <th>weight</th>\n",
       "      <th>acceleration</th>\n",
       "      <th>year</th>\n",
       "    </tr>\n",
       "  </thead>\n",
       "  <tbody>\n",
       "    <tr>\n",
       "      <th>0</th>\n",
       "      <td>1</td>\n",
       "      <td>8</td>\n",
       "      <td>307.0</td>\n",
       "      <td>130.0</td>\n",
       "      <td>3504</td>\n",
       "      <td>12.0</td>\n",
       "      <td>1970</td>\n",
       "    </tr>\n",
       "    <tr>\n",
       "      <th>1</th>\n",
       "      <td>1</td>\n",
       "      <td>8</td>\n",
       "      <td>350.0</td>\n",
       "      <td>165.0</td>\n",
       "      <td>3693</td>\n",
       "      <td>11.5</td>\n",
       "      <td>1970</td>\n",
       "    </tr>\n",
       "    <tr>\n",
       "      <th>2</th>\n",
       "      <td>1</td>\n",
       "      <td>8</td>\n",
       "      <td>318.0</td>\n",
       "      <td>150.0</td>\n",
       "      <td>3436</td>\n",
       "      <td>11.0</td>\n",
       "      <td>1970</td>\n",
       "    </tr>\n",
       "    <tr>\n",
       "      <th>3</th>\n",
       "      <td>1</td>\n",
       "      <td>8</td>\n",
       "      <td>304.0</td>\n",
       "      <td>150.0</td>\n",
       "      <td>3433</td>\n",
       "      <td>12.0</td>\n",
       "      <td>1970</td>\n",
       "    </tr>\n",
       "    <tr>\n",
       "      <th>4</th>\n",
       "      <td>1</td>\n",
       "      <td>8</td>\n",
       "      <td>302.0</td>\n",
       "      <td>140.0</td>\n",
       "      <td>3449</td>\n",
       "      <td>10.5</td>\n",
       "      <td>1970</td>\n",
       "    </tr>\n",
       "    <tr>\n",
       "      <th>...</th>\n",
       "      <td>...</td>\n",
       "      <td>...</td>\n",
       "      <td>...</td>\n",
       "      <td>...</td>\n",
       "      <td>...</td>\n",
       "      <td>...</td>\n",
       "      <td>...</td>\n",
       "    </tr>\n",
       "    <tr>\n",
       "      <th>393</th>\n",
       "      <td>1</td>\n",
       "      <td>4</td>\n",
       "      <td>140.0</td>\n",
       "      <td>86.0</td>\n",
       "      <td>2790</td>\n",
       "      <td>15.6</td>\n",
       "      <td>1982</td>\n",
       "    </tr>\n",
       "    <tr>\n",
       "      <th>394</th>\n",
       "      <td>2</td>\n",
       "      <td>4</td>\n",
       "      <td>97.0</td>\n",
       "      <td>52.0</td>\n",
       "      <td>2130</td>\n",
       "      <td>24.6</td>\n",
       "      <td>1982</td>\n",
       "    </tr>\n",
       "    <tr>\n",
       "      <th>395</th>\n",
       "      <td>1</td>\n",
       "      <td>4</td>\n",
       "      <td>135.0</td>\n",
       "      <td>84.0</td>\n",
       "      <td>2295</td>\n",
       "      <td>11.6</td>\n",
       "      <td>1982</td>\n",
       "    </tr>\n",
       "    <tr>\n",
       "      <th>396</th>\n",
       "      <td>1</td>\n",
       "      <td>4</td>\n",
       "      <td>120.0</td>\n",
       "      <td>79.0</td>\n",
       "      <td>2625</td>\n",
       "      <td>18.6</td>\n",
       "      <td>1982</td>\n",
       "    </tr>\n",
       "    <tr>\n",
       "      <th>397</th>\n",
       "      <td>1</td>\n",
       "      <td>4</td>\n",
       "      <td>119.0</td>\n",
       "      <td>82.0</td>\n",
       "      <td>2720</td>\n",
       "      <td>19.4</td>\n",
       "      <td>1982</td>\n",
       "    </tr>\n",
       "  </tbody>\n",
       "</table>\n",
       "<p>392 rows × 7 columns</p>\n",
       "</div>"
      ],
      "text/plain": [
       "     origin  cylinders  displacement  horsepower  weight  acceleration  year\n",
       "0         1          8         307.0       130.0    3504          12.0  1970\n",
       "1         1          8         350.0       165.0    3693          11.5  1970\n",
       "2         1          8         318.0       150.0    3436          11.0  1970\n",
       "3         1          8         304.0       150.0    3433          12.0  1970\n",
       "4         1          8         302.0       140.0    3449          10.5  1970\n",
       "..      ...        ...           ...         ...     ...           ...   ...\n",
       "393       1          4         140.0        86.0    2790          15.6  1982\n",
       "394       2          4          97.0        52.0    2130          24.6  1982\n",
       "395       1          4         135.0        84.0    2295          11.6  1982\n",
       "396       1          4         120.0        79.0    2625          18.6  1982\n",
       "397       1          4         119.0        82.0    2720          19.4  1982\n",
       "\n",
       "[392 rows x 7 columns]"
      ]
     },
     "execution_count": 59,
     "metadata": {},
     "output_type": "execute_result"
    }
   ],
   "source": [
    "x"
   ]
  },
  {
   "cell_type": "code",
   "execution_count": 60,
   "id": "fe567548",
   "metadata": {},
   "outputs": [
    {
     "data": {
      "text/plain": [
       "0       7.652587\n",
       "1       6.377156\n",
       "2       7.652587\n",
       "3       6.802299\n",
       "4       7.227443\n",
       "         ...    \n",
       "393    11.478880\n",
       "394    18.706323\n",
       "395    13.604599\n",
       "396    11.904024\n",
       "397    13.179455\n",
       "Name: Kilometer_per_liter, Length: 392, dtype: float64"
      ]
     },
     "execution_count": 60,
     "metadata": {},
     "output_type": "execute_result"
    }
   ],
   "source": [
    "y"
   ]
  },
  {
   "cell_type": "code",
   "execution_count": 61,
   "id": "15474a0e",
   "metadata": {},
   "outputs": [],
   "source": [
    "xtrain,xtest,ytrain,ytest=train_test_split(x,y,test_size=0.20,random_state=0)"
   ]
  },
  {
   "cell_type": "code",
   "execution_count": 62,
   "id": "771152d7",
   "metadata": {},
   "outputs": [
    {
     "data": {
      "text/html": [
       "<div>\n",
       "<style scoped>\n",
       "    .dataframe tbody tr th:only-of-type {\n",
       "        vertical-align: middle;\n",
       "    }\n",
       "\n",
       "    .dataframe tbody tr th {\n",
       "        vertical-align: top;\n",
       "    }\n",
       "\n",
       "    .dataframe thead th {\n",
       "        text-align: right;\n",
       "    }\n",
       "</style>\n",
       "<table border=\"1\" class=\"dataframe\">\n",
       "  <thead>\n",
       "    <tr style=\"text-align: right;\">\n",
       "      <th></th>\n",
       "      <th>origin</th>\n",
       "      <th>cylinders</th>\n",
       "      <th>displacement</th>\n",
       "      <th>horsepower</th>\n",
       "      <th>weight</th>\n",
       "      <th>acceleration</th>\n",
       "      <th>year</th>\n",
       "    </tr>\n",
       "  </thead>\n",
       "  <tbody>\n",
       "    <tr>\n",
       "      <th>220</th>\n",
       "      <td>3</td>\n",
       "      <td>4</td>\n",
       "      <td>85.0</td>\n",
       "      <td>70.0</td>\n",
       "      <td>1945</td>\n",
       "      <td>16.8</td>\n",
       "      <td>1977</td>\n",
       "    </tr>\n",
       "    <tr>\n",
       "      <th>256</th>\n",
       "      <td>1</td>\n",
       "      <td>6</td>\n",
       "      <td>225.0</td>\n",
       "      <td>100.0</td>\n",
       "      <td>3430</td>\n",
       "      <td>17.2</td>\n",
       "      <td>1978</td>\n",
       "    </tr>\n",
       "    <tr>\n",
       "      <th>301</th>\n",
       "      <td>1</td>\n",
       "      <td>4</td>\n",
       "      <td>105.0</td>\n",
       "      <td>70.0</td>\n",
       "      <td>2200</td>\n",
       "      <td>13.2</td>\n",
       "      <td>1979</td>\n",
       "    </tr>\n",
       "    <tr>\n",
       "      <th>193</th>\n",
       "      <td>1</td>\n",
       "      <td>6</td>\n",
       "      <td>200.0</td>\n",
       "      <td>81.0</td>\n",
       "      <td>3012</td>\n",
       "      <td>17.6</td>\n",
       "      <td>1976</td>\n",
       "    </tr>\n",
       "    <tr>\n",
       "      <th>57</th>\n",
       "      <td>3</td>\n",
       "      <td>4</td>\n",
       "      <td>113.0</td>\n",
       "      <td>95.0</td>\n",
       "      <td>2278</td>\n",
       "      <td>15.5</td>\n",
       "      <td>1972</td>\n",
       "    </tr>\n",
       "    <tr>\n",
       "      <th>...</th>\n",
       "      <td>...</td>\n",
       "      <td>...</td>\n",
       "      <td>...</td>\n",
       "      <td>...</td>\n",
       "      <td>...</td>\n",
       "      <td>...</td>\n",
       "      <td>...</td>\n",
       "    </tr>\n",
       "    <tr>\n",
       "      <th>325</th>\n",
       "      <td>2</td>\n",
       "      <td>4</td>\n",
       "      <td>90.0</td>\n",
       "      <td>48.0</td>\n",
       "      <td>2085</td>\n",
       "      <td>21.7</td>\n",
       "      <td>1980</td>\n",
       "    </tr>\n",
       "    <tr>\n",
       "      <th>194</th>\n",
       "      <td>1</td>\n",
       "      <td>6</td>\n",
       "      <td>232.0</td>\n",
       "      <td>90.0</td>\n",
       "      <td>3085</td>\n",
       "      <td>17.6</td>\n",
       "      <td>1976</td>\n",
       "    </tr>\n",
       "    <tr>\n",
       "      <th>118</th>\n",
       "      <td>2</td>\n",
       "      <td>4</td>\n",
       "      <td>116.0</td>\n",
       "      <td>75.0</td>\n",
       "      <td>2158</td>\n",
       "      <td>15.5</td>\n",
       "      <td>1973</td>\n",
       "    </tr>\n",
       "    <tr>\n",
       "      <th>48</th>\n",
       "      <td>1</td>\n",
       "      <td>6</td>\n",
       "      <td>250.0</td>\n",
       "      <td>88.0</td>\n",
       "      <td>3139</td>\n",
       "      <td>14.5</td>\n",
       "      <td>1971</td>\n",
       "    </tr>\n",
       "    <tr>\n",
       "      <th>174</th>\n",
       "      <td>1</td>\n",
       "      <td>6</td>\n",
       "      <td>171.0</td>\n",
       "      <td>97.0</td>\n",
       "      <td>2984</td>\n",
       "      <td>14.5</td>\n",
       "      <td>1975</td>\n",
       "    </tr>\n",
       "  </tbody>\n",
       "</table>\n",
       "<p>313 rows × 7 columns</p>\n",
       "</div>"
      ],
      "text/plain": [
       "     origin  cylinders  displacement  horsepower  weight  acceleration  year\n",
       "220       3          4          85.0        70.0    1945          16.8  1977\n",
       "256       1          6         225.0       100.0    3430          17.2  1978\n",
       "301       1          4         105.0        70.0    2200          13.2  1979\n",
       "193       1          6         200.0        81.0    3012          17.6  1976\n",
       "57        3          4         113.0        95.0    2278          15.5  1972\n",
       "..      ...        ...           ...         ...     ...           ...   ...\n",
       "325       2          4          90.0        48.0    2085          21.7  1980\n",
       "194       1          6         232.0        90.0    3085          17.6  1976\n",
       "118       2          4         116.0        75.0    2158          15.5  1973\n",
       "48        1          6         250.0        88.0    3139          14.5  1971\n",
       "174       1          6         171.0        97.0    2984          14.5  1975\n",
       "\n",
       "[313 rows x 7 columns]"
      ]
     },
     "execution_count": 62,
     "metadata": {},
     "output_type": "execute_result"
    }
   ],
   "source": [
    "xtrain"
   ]
  },
  {
   "cell_type": "code",
   "execution_count": 63,
   "id": "1c4dcc5f",
   "metadata": {},
   "outputs": [
    {
     "data": {
      "text/html": [
       "<div>\n",
       "<style scoped>\n",
       "    .dataframe tbody tr th:only-of-type {\n",
       "        vertical-align: middle;\n",
       "    }\n",
       "\n",
       "    .dataframe tbody tr th {\n",
       "        vertical-align: top;\n",
       "    }\n",
       "\n",
       "    .dataframe thead th {\n",
       "        text-align: right;\n",
       "    }\n",
       "</style>\n",
       "<table border=\"1\" class=\"dataframe\">\n",
       "  <thead>\n",
       "    <tr style=\"text-align: right;\">\n",
       "      <th></th>\n",
       "      <th>origin</th>\n",
       "      <th>cylinders</th>\n",
       "      <th>displacement</th>\n",
       "      <th>horsepower</th>\n",
       "      <th>weight</th>\n",
       "      <th>acceleration</th>\n",
       "      <th>year</th>\n",
       "    </tr>\n",
       "  </thead>\n",
       "  <tbody>\n",
       "    <tr>\n",
       "      <th>146</th>\n",
       "      <td>1</td>\n",
       "      <td>4</td>\n",
       "      <td>90.0</td>\n",
       "      <td>75.0</td>\n",
       "      <td>2125</td>\n",
       "      <td>14.5</td>\n",
       "      <td>1974</td>\n",
       "    </tr>\n",
       "    <tr>\n",
       "      <th>282</th>\n",
       "      <td>1</td>\n",
       "      <td>4</td>\n",
       "      <td>140.0</td>\n",
       "      <td>88.0</td>\n",
       "      <td>2890</td>\n",
       "      <td>17.3</td>\n",
       "      <td>1979</td>\n",
       "    </tr>\n",
       "    <tr>\n",
       "      <th>69</th>\n",
       "      <td>1</td>\n",
       "      <td>8</td>\n",
       "      <td>350.0</td>\n",
       "      <td>160.0</td>\n",
       "      <td>4456</td>\n",
       "      <td>13.5</td>\n",
       "      <td>1972</td>\n",
       "    </tr>\n",
       "    <tr>\n",
       "      <th>378</th>\n",
       "      <td>1</td>\n",
       "      <td>4</td>\n",
       "      <td>105.0</td>\n",
       "      <td>63.0</td>\n",
       "      <td>2125</td>\n",
       "      <td>14.7</td>\n",
       "      <td>1982</td>\n",
       "    </tr>\n",
       "    <tr>\n",
       "      <th>331</th>\n",
       "      <td>3</td>\n",
       "      <td>4</td>\n",
       "      <td>97.0</td>\n",
       "      <td>67.0</td>\n",
       "      <td>2145</td>\n",
       "      <td>18.0</td>\n",
       "      <td>1980</td>\n",
       "    </tr>\n",
       "    <tr>\n",
       "      <th>...</th>\n",
       "      <td>...</td>\n",
       "      <td>...</td>\n",
       "      <td>...</td>\n",
       "      <td>...</td>\n",
       "      <td>...</td>\n",
       "      <td>...</td>\n",
       "      <td>...</td>\n",
       "    </tr>\n",
       "    <tr>\n",
       "      <th>101</th>\n",
       "      <td>1</td>\n",
       "      <td>6</td>\n",
       "      <td>198.0</td>\n",
       "      <td>95.0</td>\n",
       "      <td>2904</td>\n",
       "      <td>16.0</td>\n",
       "      <td>1973</td>\n",
       "    </tr>\n",
       "    <tr>\n",
       "      <th>65</th>\n",
       "      <td>1</td>\n",
       "      <td>8</td>\n",
       "      <td>351.0</td>\n",
       "      <td>153.0</td>\n",
       "      <td>4129</td>\n",
       "      <td>13.0</td>\n",
       "      <td>1972</td>\n",
       "    </tr>\n",
       "    <tr>\n",
       "      <th>56</th>\n",
       "      <td>1</td>\n",
       "      <td>4</td>\n",
       "      <td>91.0</td>\n",
       "      <td>70.0</td>\n",
       "      <td>1955</td>\n",
       "      <td>20.5</td>\n",
       "      <td>1971</td>\n",
       "    </tr>\n",
       "    <tr>\n",
       "      <th>262</th>\n",
       "      <td>1</td>\n",
       "      <td>8</td>\n",
       "      <td>305.0</td>\n",
       "      <td>145.0</td>\n",
       "      <td>3425</td>\n",
       "      <td>13.2</td>\n",
       "      <td>1978</td>\n",
       "    </tr>\n",
       "    <tr>\n",
       "      <th>216</th>\n",
       "      <td>3</td>\n",
       "      <td>4</td>\n",
       "      <td>98.0</td>\n",
       "      <td>68.0</td>\n",
       "      <td>2045</td>\n",
       "      <td>18.5</td>\n",
       "      <td>1977</td>\n",
       "    </tr>\n",
       "  </tbody>\n",
       "</table>\n",
       "<p>79 rows × 7 columns</p>\n",
       "</div>"
      ],
      "text/plain": [
       "     origin  cylinders  displacement  horsepower  weight  acceleration  year\n",
       "146       1          4          90.0        75.0    2125          14.5  1974\n",
       "282       1          4         140.0        88.0    2890          17.3  1979\n",
       "69        1          8         350.0       160.0    4456          13.5  1972\n",
       "378       1          4         105.0        63.0    2125          14.7  1982\n",
       "331       3          4          97.0        67.0    2145          18.0  1980\n",
       "..      ...        ...           ...         ...     ...           ...   ...\n",
       "101       1          6         198.0        95.0    2904          16.0  1973\n",
       "65        1          8         351.0       153.0    4129          13.0  1972\n",
       "56        1          4          91.0        70.0    1955          20.5  1971\n",
       "262       1          8         305.0       145.0    3425          13.2  1978\n",
       "216       3          4          98.0        68.0    2045          18.5  1977\n",
       "\n",
       "[79 rows x 7 columns]"
      ]
     },
     "execution_count": 63,
     "metadata": {},
     "output_type": "execute_result"
    }
   ],
   "source": [
    "xtest"
   ]
  },
  {
   "cell_type": "code",
   "execution_count": 64,
   "id": "56311af8",
   "metadata": {},
   "outputs": [
    {
     "data": {
      "text/plain": [
       "(     origin  cylinders  displacement  horsepower  weight  acceleration  year\n",
       " 220       3          4          85.0        70.0    1945          16.8  1977\n",
       " 256       1          6         225.0       100.0    3430          17.2  1978\n",
       " 301       1          4         105.0        70.0    2200          13.2  1979\n",
       " 193       1          6         200.0        81.0    3012          17.6  1976\n",
       " 57        3          4         113.0        95.0    2278          15.5  1972\n",
       " ..      ...        ...           ...         ...     ...           ...   ...\n",
       " 325       2          4          90.0        48.0    2085          21.7  1980\n",
       " 194       1          6         232.0        90.0    3085          17.6  1976\n",
       " 118       2          4         116.0        75.0    2158          15.5  1973\n",
       " 48        1          6         250.0        88.0    3139          14.5  1971\n",
       " 174       1          6         171.0        97.0    2984          14.5  1975\n",
       " \n",
       " [313 rows x 7 columns],\n",
       "      origin  cylinders  displacement  horsepower  weight  acceleration  year\n",
       " 146       1          4          90.0        75.0    2125          14.5  1974\n",
       " 282       1          4         140.0        88.0    2890          17.3  1979\n",
       " 69        1          8         350.0       160.0    4456          13.5  1972\n",
       " 378       1          4         105.0        63.0    2125          14.7  1982\n",
       " 331       3          4          97.0        67.0    2145          18.0  1980\n",
       " ..      ...        ...           ...         ...     ...           ...   ...\n",
       " 101       1          6         198.0        95.0    2904          16.0  1973\n",
       " 65        1          8         351.0       153.0    4129          13.0  1972\n",
       " 56        1          4          91.0        70.0    1955          20.5  1971\n",
       " 262       1          8         305.0       145.0    3425          13.2  1978\n",
       " 216       3          4          98.0        68.0    2045          18.5  1977\n",
       " \n",
       " [79 rows x 7 columns],\n",
       " 220    14.242314\n",
       " 256     8.715446\n",
       " 301    14.539915\n",
       " 193    10.203449\n",
       " 57     10.203449\n",
       "          ...    \n",
       " 325    18.833866\n",
       " 194     9.565733\n",
       " 118    10.203449\n",
       " 48      7.652587\n",
       " 174     7.652587\n",
       " Name: Kilometer_per_liter, Length: 313, dtype: float64,\n",
       " 146    11.904024\n",
       " 282     9.480705\n",
       " 69      5.101724\n",
       " 378    16.155461\n",
       " 331    14.369857\n",
       "          ...    \n",
       " 101     9.778305\n",
       " 65      5.952012\n",
       " 56     11.053736\n",
       " 262     8.162759\n",
       " 216    13.392027\n",
       " Name: Kilometer_per_liter, Length: 79, dtype: float64)"
      ]
     },
     "execution_count": 64,
     "metadata": {},
     "output_type": "execute_result"
    }
   ],
   "source": [
    "xtrain,xtest,ytrain,ytest"
   ]
  },
  {
   "cell_type": "code",
   "execution_count": 66,
   "id": "ed299a02",
   "metadata": {},
   "outputs": [
    {
     "name": "stdout",
     "output_type": "stream",
     "text": [
      "<class 'pandas.core.frame.DataFrame'>\n",
      "Int64Index: 392 entries, 0 to 397\n",
      "Data columns (total 9 columns):\n",
      " #   Column               Non-Null Count  Dtype  \n",
      "---  ------               --------------  -----  \n",
      " 0   origin               392 non-null    int64  \n",
      " 1   cylinders            392 non-null    int64  \n",
      " 2   displacement         392 non-null    float64\n",
      " 3   horsepower           392 non-null    float64\n",
      " 4   weight               392 non-null    int64  \n",
      " 5   acceleration         392 non-null    float64\n",
      " 6   year                 392 non-null    int64  \n",
      " 7   name                 392 non-null    object \n",
      " 8   Kilometer_per_liter  392 non-null    float64\n",
      "dtypes: float64(4), int64(4), object(1)\n",
      "memory usage: 38.7+ KB\n"
     ]
    }
   ],
   "source": [
    "data1.info()"
   ]
  },
  {
   "cell_type": "code",
   "execution_count": 67,
   "id": "dbc7e68a",
   "metadata": {},
   "outputs": [],
   "source": [
    "#train test\n",
    "#splitting the data in to train & test\n",
    "from sklearn.model_selection import train_test_split\n"
   ]
  },
  {
   "cell_type": "code",
   "execution_count": 68,
   "id": "349c86d8",
   "metadata": {},
   "outputs": [],
   "source": [
    "xtrain,xtest,ytrain,ytest=train_test_split(x,y,test_size=0.20,random_state=0)"
   ]
  },
  {
   "cell_type": "code",
   "execution_count": 69,
   "id": "9e43569a",
   "metadata": {},
   "outputs": [],
   "source": [
    "#standardize the predictors\n",
    "#standardized data (standardizing the data)-scaling(x-mean)/std\n",
    "from sklearn.preprocessing import StandardScaler"
   ]
  },
  {
   "cell_type": "code",
   "execution_count": 70,
   "id": "cc5b1d2d",
   "metadata": {},
   "outputs": [],
   "source": [
    "SC_x=StandardScaler()"
   ]
  },
  {
   "cell_type": "code",
   "execution_count": 71,
   "id": "419484db",
   "metadata": {},
   "outputs": [
    {
     "data": {
      "text/html": [
       "<div>\n",
       "<style scoped>\n",
       "    .dataframe tbody tr th:only-of-type {\n",
       "        vertical-align: middle;\n",
       "    }\n",
       "\n",
       "    .dataframe tbody tr th {\n",
       "        vertical-align: top;\n",
       "    }\n",
       "\n",
       "    .dataframe thead th {\n",
       "        text-align: right;\n",
       "    }\n",
       "</style>\n",
       "<table border=\"1\" class=\"dataframe\">\n",
       "  <thead>\n",
       "    <tr style=\"text-align: right;\">\n",
       "      <th></th>\n",
       "      <th>origin</th>\n",
       "      <th>cylinders</th>\n",
       "      <th>displacement</th>\n",
       "      <th>horsepower</th>\n",
       "      <th>weight</th>\n",
       "      <th>acceleration</th>\n",
       "      <th>year</th>\n",
       "    </tr>\n",
       "  </thead>\n",
       "  <tbody>\n",
       "    <tr>\n",
       "      <th>220</th>\n",
       "      <td>3</td>\n",
       "      <td>4</td>\n",
       "      <td>85.0</td>\n",
       "      <td>70.0</td>\n",
       "      <td>1945</td>\n",
       "      <td>16.8</td>\n",
       "      <td>1977</td>\n",
       "    </tr>\n",
       "    <tr>\n",
       "      <th>256</th>\n",
       "      <td>1</td>\n",
       "      <td>6</td>\n",
       "      <td>225.0</td>\n",
       "      <td>100.0</td>\n",
       "      <td>3430</td>\n",
       "      <td>17.2</td>\n",
       "      <td>1978</td>\n",
       "    </tr>\n",
       "    <tr>\n",
       "      <th>301</th>\n",
       "      <td>1</td>\n",
       "      <td>4</td>\n",
       "      <td>105.0</td>\n",
       "      <td>70.0</td>\n",
       "      <td>2200</td>\n",
       "      <td>13.2</td>\n",
       "      <td>1979</td>\n",
       "    </tr>\n",
       "    <tr>\n",
       "      <th>193</th>\n",
       "      <td>1</td>\n",
       "      <td>6</td>\n",
       "      <td>200.0</td>\n",
       "      <td>81.0</td>\n",
       "      <td>3012</td>\n",
       "      <td>17.6</td>\n",
       "      <td>1976</td>\n",
       "    </tr>\n",
       "    <tr>\n",
       "      <th>57</th>\n",
       "      <td>3</td>\n",
       "      <td>4</td>\n",
       "      <td>113.0</td>\n",
       "      <td>95.0</td>\n",
       "      <td>2278</td>\n",
       "      <td>15.5</td>\n",
       "      <td>1972</td>\n",
       "    </tr>\n",
       "    <tr>\n",
       "      <th>...</th>\n",
       "      <td>...</td>\n",
       "      <td>...</td>\n",
       "      <td>...</td>\n",
       "      <td>...</td>\n",
       "      <td>...</td>\n",
       "      <td>...</td>\n",
       "      <td>...</td>\n",
       "    </tr>\n",
       "    <tr>\n",
       "      <th>325</th>\n",
       "      <td>2</td>\n",
       "      <td>4</td>\n",
       "      <td>90.0</td>\n",
       "      <td>48.0</td>\n",
       "      <td>2085</td>\n",
       "      <td>21.7</td>\n",
       "      <td>1980</td>\n",
       "    </tr>\n",
       "    <tr>\n",
       "      <th>194</th>\n",
       "      <td>1</td>\n",
       "      <td>6</td>\n",
       "      <td>232.0</td>\n",
       "      <td>90.0</td>\n",
       "      <td>3085</td>\n",
       "      <td>17.6</td>\n",
       "      <td>1976</td>\n",
       "    </tr>\n",
       "    <tr>\n",
       "      <th>118</th>\n",
       "      <td>2</td>\n",
       "      <td>4</td>\n",
       "      <td>116.0</td>\n",
       "      <td>75.0</td>\n",
       "      <td>2158</td>\n",
       "      <td>15.5</td>\n",
       "      <td>1973</td>\n",
       "    </tr>\n",
       "    <tr>\n",
       "      <th>48</th>\n",
       "      <td>1</td>\n",
       "      <td>6</td>\n",
       "      <td>250.0</td>\n",
       "      <td>88.0</td>\n",
       "      <td>3139</td>\n",
       "      <td>14.5</td>\n",
       "      <td>1971</td>\n",
       "    </tr>\n",
       "    <tr>\n",
       "      <th>174</th>\n",
       "      <td>1</td>\n",
       "      <td>6</td>\n",
       "      <td>171.0</td>\n",
       "      <td>97.0</td>\n",
       "      <td>2984</td>\n",
       "      <td>14.5</td>\n",
       "      <td>1975</td>\n",
       "    </tr>\n",
       "  </tbody>\n",
       "</table>\n",
       "<p>313 rows × 7 columns</p>\n",
       "</div>"
      ],
      "text/plain": [
       "     origin  cylinders  displacement  horsepower  weight  acceleration  year\n",
       "220       3          4          85.0        70.0    1945          16.8  1977\n",
       "256       1          6         225.0       100.0    3430          17.2  1978\n",
       "301       1          4         105.0        70.0    2200          13.2  1979\n",
       "193       1          6         200.0        81.0    3012          17.6  1976\n",
       "57        3          4         113.0        95.0    2278          15.5  1972\n",
       "..      ...        ...           ...         ...     ...           ...   ...\n",
       "325       2          4          90.0        48.0    2085          21.7  1980\n",
       "194       1          6         232.0        90.0    3085          17.6  1976\n",
       "118       2          4         116.0        75.0    2158          15.5  1973\n",
       "48        1          6         250.0        88.0    3139          14.5  1971\n",
       "174       1          6         171.0        97.0    2984          14.5  1975\n",
       "\n",
       "[313 rows x 7 columns]"
      ]
     },
     "execution_count": 71,
     "metadata": {},
     "output_type": "execute_result"
    }
   ],
   "source": [
    "xtrain"
   ]
  },
  {
   "cell_type": "code",
   "execution_count": 72,
   "id": "244504bf",
   "metadata": {},
   "outputs": [
    {
     "data": {
      "text/html": [
       "<div>\n",
       "<style scoped>\n",
       "    .dataframe tbody tr th:only-of-type {\n",
       "        vertical-align: middle;\n",
       "    }\n",
       "\n",
       "    .dataframe tbody tr th {\n",
       "        vertical-align: top;\n",
       "    }\n",
       "\n",
       "    .dataframe thead th {\n",
       "        text-align: right;\n",
       "    }\n",
       "</style>\n",
       "<table border=\"1\" class=\"dataframe\">\n",
       "  <thead>\n",
       "    <tr style=\"text-align: right;\">\n",
       "      <th></th>\n",
       "      <th>origin</th>\n",
       "      <th>cylinders</th>\n",
       "      <th>displacement</th>\n",
       "      <th>horsepower</th>\n",
       "      <th>weight</th>\n",
       "      <th>acceleration</th>\n",
       "      <th>year</th>\n",
       "    </tr>\n",
       "  </thead>\n",
       "  <tbody>\n",
       "    <tr>\n",
       "      <th>146</th>\n",
       "      <td>1</td>\n",
       "      <td>4</td>\n",
       "      <td>90.0</td>\n",
       "      <td>75.0</td>\n",
       "      <td>2125</td>\n",
       "      <td>14.5</td>\n",
       "      <td>1974</td>\n",
       "    </tr>\n",
       "    <tr>\n",
       "      <th>282</th>\n",
       "      <td>1</td>\n",
       "      <td>4</td>\n",
       "      <td>140.0</td>\n",
       "      <td>88.0</td>\n",
       "      <td>2890</td>\n",
       "      <td>17.3</td>\n",
       "      <td>1979</td>\n",
       "    </tr>\n",
       "    <tr>\n",
       "      <th>69</th>\n",
       "      <td>1</td>\n",
       "      <td>8</td>\n",
       "      <td>350.0</td>\n",
       "      <td>160.0</td>\n",
       "      <td>4456</td>\n",
       "      <td>13.5</td>\n",
       "      <td>1972</td>\n",
       "    </tr>\n",
       "    <tr>\n",
       "      <th>378</th>\n",
       "      <td>1</td>\n",
       "      <td>4</td>\n",
       "      <td>105.0</td>\n",
       "      <td>63.0</td>\n",
       "      <td>2125</td>\n",
       "      <td>14.7</td>\n",
       "      <td>1982</td>\n",
       "    </tr>\n",
       "    <tr>\n",
       "      <th>331</th>\n",
       "      <td>3</td>\n",
       "      <td>4</td>\n",
       "      <td>97.0</td>\n",
       "      <td>67.0</td>\n",
       "      <td>2145</td>\n",
       "      <td>18.0</td>\n",
       "      <td>1980</td>\n",
       "    </tr>\n",
       "    <tr>\n",
       "      <th>...</th>\n",
       "      <td>...</td>\n",
       "      <td>...</td>\n",
       "      <td>...</td>\n",
       "      <td>...</td>\n",
       "      <td>...</td>\n",
       "      <td>...</td>\n",
       "      <td>...</td>\n",
       "    </tr>\n",
       "    <tr>\n",
       "      <th>101</th>\n",
       "      <td>1</td>\n",
       "      <td>6</td>\n",
       "      <td>198.0</td>\n",
       "      <td>95.0</td>\n",
       "      <td>2904</td>\n",
       "      <td>16.0</td>\n",
       "      <td>1973</td>\n",
       "    </tr>\n",
       "    <tr>\n",
       "      <th>65</th>\n",
       "      <td>1</td>\n",
       "      <td>8</td>\n",
       "      <td>351.0</td>\n",
       "      <td>153.0</td>\n",
       "      <td>4129</td>\n",
       "      <td>13.0</td>\n",
       "      <td>1972</td>\n",
       "    </tr>\n",
       "    <tr>\n",
       "      <th>56</th>\n",
       "      <td>1</td>\n",
       "      <td>4</td>\n",
       "      <td>91.0</td>\n",
       "      <td>70.0</td>\n",
       "      <td>1955</td>\n",
       "      <td>20.5</td>\n",
       "      <td>1971</td>\n",
       "    </tr>\n",
       "    <tr>\n",
       "      <th>262</th>\n",
       "      <td>1</td>\n",
       "      <td>8</td>\n",
       "      <td>305.0</td>\n",
       "      <td>145.0</td>\n",
       "      <td>3425</td>\n",
       "      <td>13.2</td>\n",
       "      <td>1978</td>\n",
       "    </tr>\n",
       "    <tr>\n",
       "      <th>216</th>\n",
       "      <td>3</td>\n",
       "      <td>4</td>\n",
       "      <td>98.0</td>\n",
       "      <td>68.0</td>\n",
       "      <td>2045</td>\n",
       "      <td>18.5</td>\n",
       "      <td>1977</td>\n",
       "    </tr>\n",
       "  </tbody>\n",
       "</table>\n",
       "<p>79 rows × 7 columns</p>\n",
       "</div>"
      ],
      "text/plain": [
       "     origin  cylinders  displacement  horsepower  weight  acceleration  year\n",
       "146       1          4          90.0        75.0    2125          14.5  1974\n",
       "282       1          4         140.0        88.0    2890          17.3  1979\n",
       "69        1          8         350.0       160.0    4456          13.5  1972\n",
       "378       1          4         105.0        63.0    2125          14.7  1982\n",
       "331       3          4          97.0        67.0    2145          18.0  1980\n",
       "..      ...        ...           ...         ...     ...           ...   ...\n",
       "101       1          6         198.0        95.0    2904          16.0  1973\n",
       "65        1          8         351.0       153.0    4129          13.0  1972\n",
       "56        1          4          91.0        70.0    1955          20.5  1971\n",
       "262       1          8         305.0       145.0    3425          13.2  1978\n",
       "216       3          4          98.0        68.0    2045          18.5  1977\n",
       "\n",
       "[79 rows x 7 columns]"
      ]
     },
     "execution_count": 72,
     "metadata": {},
     "output_type": "execute_result"
    }
   ],
   "source": [
    "xtest"
   ]
  },
  {
   "cell_type": "code",
   "execution_count": 73,
   "id": "a866be91",
   "metadata": {},
   "outputs": [],
   "source": [
    "xtrain = StandardScaler().fit_transform(xtrain)\n",
    "xtest = StandardScaler().fit_transform(xtest)"
   ]
  },
  {
   "cell_type": "code",
   "execution_count": 77,
   "id": "e9d13c60",
   "metadata": {},
   "outputs": [
    {
     "data": {
      "text/plain": [
       "origin                 0\n",
       "cylinders              0\n",
       "displacement           0\n",
       "horsepower             0\n",
       "weight                 0\n",
       "acceleration           0\n",
       "year                   0\n",
       "name                   0\n",
       "Kilometer_per_liter    0\n",
       "dtype: int64"
      ]
     },
     "execution_count": 77,
     "metadata": {},
     "output_type": "execute_result"
    }
   ],
   "source": [
    "data1.isnull().sum()"
   ]
  },
  {
   "cell_type": "code",
   "execution_count": 75,
   "id": "b3cdb625",
   "metadata": {},
   "outputs": [
    {
     "data": {
      "text/plain": [
       "(313, 7)"
      ]
     },
     "execution_count": 75,
     "metadata": {},
     "output_type": "execute_result"
    }
   ],
   "source": [
    "#dimensions of the datasets\n",
    "xtrain.shape"
   ]
  },
  {
   "cell_type": "code",
   "execution_count": 79,
   "id": "1b2ea81b",
   "metadata": {},
   "outputs": [
    {
     "data": {
      "text/plain": [
       "(79, 7)"
      ]
     },
     "execution_count": 79,
     "metadata": {},
     "output_type": "execute_result"
    }
   ],
   "source": [
    "xtest.shape"
   ]
  },
  {
   "cell_type": "code",
   "execution_count": 80,
   "id": "da1efc15",
   "metadata": {},
   "outputs": [
    {
     "data": {
      "text/plain": [
       "(313,)"
      ]
     },
     "execution_count": 80,
     "metadata": {},
     "output_type": "execute_result"
    }
   ],
   "source": [
    "ytrain.shape"
   ]
  },
  {
   "cell_type": "code",
   "execution_count": 81,
   "id": "fa7b2ba4",
   "metadata": {},
   "outputs": [
    {
     "data": {
      "text/plain": [
       "(79,)"
      ]
     },
     "execution_count": 81,
     "metadata": {},
     "output_type": "execute_result"
    }
   ],
   "source": [
    "ytest.shape"
   ]
  },
  {
   "cell_type": "code",
   "execution_count": 82,
   "id": "d64d3754",
   "metadata": {},
   "outputs": [],
   "source": [
    "#trainingb set predictors-standardized"
   ]
  },
  {
   "cell_type": "code",
   "execution_count": 83,
   "id": "d31cadc5",
   "metadata": {},
   "outputs": [
    {
     "name": "stdout",
     "output_type": "stream",
     "text": [
      "R-squared: 0.8129478617578589\n"
     ]
    }
   ],
   "source": [
    "#model\n",
    "sgdr=SGDRegressor()\n",
    "sgdr.fit(xtrain,ytrain)\n",
    "score=sgdr.score(xtrain,ytrain)\n",
    "print(\"R-squared:\",score)#0.81432-this value keeps changing\n"
   ]
  },
  {
   "cell_type": "code",
   "execution_count": 84,
   "id": "83602116",
   "metadata": {},
   "outputs": [
    {
     "name": "stdout",
     "output_type": "stream",
     "text": [
      "MSE : 1.8123291453277728\n",
      "RMSE : 1.3462277464559156\n"
     ]
    }
   ],
   "source": [
    "#prediction\n",
    "y_pred=sgdr.predict(xtest)\n",
    "mse=mean_squared_error(ytest, y_pred)\n",
    "print(\"MSE :\",mse)\n",
    "print(\"RMSE :\",np.sqrt(mse))\n",
    "#y_pred# dont try output very large"
   ]
  },
  {
   "cell_type": "code",
   "execution_count": 85,
   "id": "864daa16",
   "metadata": {},
   "outputs": [
    {
     "name": "stdout",
     "output_type": "stream",
     "text": [
      "MSE: 1.8123291453277728\n",
      "RMSE: 1.3462277464559156\n"
     ]
    }
   ],
   "source": [
    "#Evaluating the prediction\n",
    "mse=mean_squared_error(ytest,y_pred)\n",
    "print('MSE:',mse)\n",
    "print('RMSE:',np.sqrt(mse))  #MSE= 1.840  #RMSE=1.3566"
   ]
  },
  {
   "cell_type": "code",
   "execution_count": null,
   "id": "50d455cd",
   "metadata": {},
   "outputs": [],
   "source": [
    "#######"
   ]
  },
  {
   "cell_type": "code",
   "execution_count": 86,
   "id": "6e653cc9",
   "metadata": {},
   "outputs": [],
   "source": [
    "import statsmodels.api as sm"
   ]
  },
  {
   "cell_type": "code",
   "execution_count": 87,
   "id": "b6cd07c8",
   "metadata": {},
   "outputs": [
    {
     "name": "stdout",
     "output_type": "stream",
     "text": [
      "                                 OLS Regression Results                                 \n",
      "========================================================================================\n",
      "Dep. Variable:     Kilometer_per_liter   R-squared (uncentered):                   0.973\n",
      "Model:                             OLS   Adj. R-squared (uncentered):              0.972\n",
      "Method:                  Least Squares   F-statistic:                              1965.\n",
      "Date:                 Thu, 05 Aug 2021   Prob (F-statistic):                   8.07e-297\n",
      "Time:                         09:19:51   Log-Likelihood:                         -771.83\n",
      "No. Observations:                  392   AIC:                                      1558.\n",
      "Df Residuals:                      385   BIC:                                      1585.\n",
      "Df Model:                            7                                                  \n",
      "Covariance Type:             nonrobust                                                  \n",
      "================================================================================\n",
      "                   coef    std err          t      P>|t|      [0.025      0.975]\n",
      "--------------------------------------------------------------------------------\n",
      "origin           0.6136      0.146      4.198      0.000       0.326       0.901\n",
      "cylinders       -0.2544      0.170     -1.498      0.135      -0.588       0.080\n",
      "displacement     0.0057      0.004      1.442      0.150      -0.002       0.013\n",
      "horsepower      -0.0268      0.007     -3.803      0.000      -0.041      -0.013\n",
      "weight          -0.0021      0.000     -6.162      0.000      -0.003      -0.001\n",
      "acceleration    -0.0230      0.052     -0.444      0.657      -0.125       0.079\n",
      "year             0.0094      0.001     16.416      0.000       0.008       0.011\n",
      "==============================================================================\n",
      "Omnibus:                       33.709   Durbin-Watson:                   0.926\n",
      "Prob(Omnibus):                  0.000   Jarque-Bera (JB):               46.365\n",
      "Skew:                           0.630   Prob(JB):                     8.55e-11\n",
      "Kurtosis:                       4.119   Cond. No.                     7.11e+03\n",
      "==============================================================================\n",
      "\n",
      "Notes:\n",
      "[1] R² is computed without centering (uncentered) since the model does not contain a constant.\n",
      "[2] Standard Errors assume that the covariance matrix of the errors is correctly specified.\n",
      "[3] The condition number is large, 7.11e+03. This might indicate that there are\n",
      "strong multicollinearity or other numerical problems.\n"
     ]
    }
   ],
   "source": [
    "result = sm.OLS(y,x).fit()\n",
    "prediction=result.predict(x)\n",
    "\n",
    "result_details= result.summary()\n",
    "print(result_details)"
   ]
  },
  {
   "cell_type": "code",
   "execution_count": 88,
   "id": "b8e6e9ab",
   "metadata": {},
   "outputs": [],
   "source": [
    "from sklearn.preprocessing import MinMaxScaler"
   ]
  },
  {
   "cell_type": "markdown",
   "id": "fd726973",
   "metadata": {},
   "source": [
    "###fit scaler on training data"
   ]
  },
  {
   "cell_type": "code",
   "execution_count": 90,
   "id": "584f06f5",
   "metadata": {},
   "outputs": [],
   "source": [
    "Norm = MinMaxScaler().fit(xtrain)"
   ]
  },
  {
   "cell_type": "code",
   "execution_count": 91,
   "id": "9558af38",
   "metadata": {},
   "outputs": [],
   "source": [
    "# transform training data\n",
    "xtrain_norm = Norm.transform(xtrain)\n",
    "xtest_norm = Norm.transform(xtest)"
   ]
  },
  {
   "cell_type": "code",
   "execution_count": 92,
   "id": "3d4dc319",
   "metadata": {},
   "outputs": [
    {
     "name": "stdout",
     "output_type": "stream",
     "text": [
      "[[1.         0.2        0.04392765 ... 0.09413099 0.52380952 0.58333333]\n",
      " [0.         0.6        0.40568475 ... 0.5151687  0.54761905 0.66666667]\n",
      " [0.         0.2        0.09560724 ... 0.16643039 0.30952381 0.75      ]\n",
      " ...\n",
      " [0.5        0.2        0.12403101 ... 0.15452226 0.44642857 0.25      ]\n",
      " [0.         0.6        0.47028424 ... 0.43266232 0.38690476 0.08333333]\n",
      " [0.         0.6        0.26614987 ... 0.38871562 0.38690476 0.41666667]]\n"
     ]
    }
   ],
   "source": [
    "print(xtrain_norm)"
   ]
  },
  {
   "cell_type": "code",
   "execution_count": 93,
   "id": "934031c4",
   "metadata": {},
   "outputs": [
    {
     "name": "stdout",
     "output_type": "stream",
     "text": [
      "[[0.00787783 0.18885664 0.05396218 0.1568429  0.14925108 0.38968661\n",
      "  0.37437003]\n",
      " [0.00787783 0.18885664 0.17506765 0.22266171 0.35600834 0.56460626\n",
      "  0.78013152]\n",
      " [0.00787783 0.95490238 0.68371067 0.58719666 0.77925261 0.32721531\n",
      "  0.21206543]\n",
      " [0.00787783 0.18885664 0.09029382 0.09608708 0.14925108 0.40218087\n",
      "  1.02358842]\n",
      " [1.05308251 0.18885664 0.07091694 0.11633902 0.1546565  0.60833617\n",
      "  0.86128382]\n",
      " [0.00787783 0.57187951 0.39790174 0.23278768 0.44249504 0.55835913\n",
      "  0.69897922]\n",
      " [1.05308251 0.18885664 0.05154007 0.08089812 0.10681855 0.65831321\n",
      "  0.86128382]\n",
      " [0.53048017 0.18885664 0.18960031 0.11633902 0.45330587 0.84572712\n",
      "  0.86128382]\n",
      " [0.00787783 0.57187951 0.31555001 0.25810261 0.41330578 0.51462922\n",
      "  0.37437003]\n",
      " [1.05308251 0.18885664 0.07091694 0.22266171 0.19087281 0.67080747\n",
      "  0.29321773]\n",
      " [0.53048017 0.18885664 0.07091694 0.08089812 0.07060225 0.67080747\n",
      "  0.13091313]\n",
      " [0.00787783 0.95490238 0.68371067 0.68845636 0.75871202 0.23975549\n",
      "  0.53667462]\n",
      " [0.00787783 0.18885664 0.20171086 0.22266171 0.3154677  0.48339357\n",
      "  0.61782692]\n",
      " [0.00787783 0.95490238 0.80481614 0.5365668  0.92546918 0.35845096\n",
      "  0.29321773]\n",
      " [0.00787783 0.95490238 0.68371067 0.56188173 0.7533066  0.41467513\n",
      "  0.78013152]\n",
      " [1.05308251 0.18885664 0.09513804 0.1568429  0.17222411 0.38343948\n",
      "  0.94243612]\n",
      " [0.53048017 0.18885664 0.12904757 0.35936232 0.3303326  0.46465218\n",
      "  0.69897922]\n",
      " [0.00787783 0.95490238 0.60620316 0.5365668  0.67681993 0.35845096\n",
      "  0.21206543]\n",
      " [0.53048017 0.18885664 0.07333905 0.23278768 0.18708901 0.45215792\n",
      "  0.29321773]\n",
      " [0.00787783 0.18885664 0.20171086 0.23278768 0.29654874 0.48339357\n",
      "  0.78013152]\n",
      " [0.00787783 0.95490238 0.56744941 0.43024411 0.43141393 0.23350836\n",
      "  0.45552232]\n",
      " [0.00787783 0.57187951 0.46087658 0.33404739 0.55654937 0.60833617\n",
      "  0.37437003]\n",
      " [0.00787783 0.18885664 0.17506765 0.23278768 0.22573776 0.70204312\n",
      "  0.21206543]\n",
      " [0.00787783 0.57187951 0.27437415 0.33404739 0.37087324 0.50838209\n",
      "  1.02358842]\n",
      " [0.53048017 0.18885664 0.07333905 0.16190589 0.15438623 0.40218087\n",
      "  0.86128382]\n",
      " [0.00787783 0.95490238 0.68371067 0.61251158 0.71249569 0.23350836\n",
      "  0.13091313]\n",
      " [0.00787783 0.18885664 0.21382141 0.24291365 0.28303519 0.38343948\n",
      "  0.94243612]\n",
      " [0.00787783 0.18885664 0.17506765 0.22266171 0.31006228 0.44591079\n",
      "  0.69897922]\n",
      " [0.00787783 0.57187951 0.39790174 0.28341754 0.36249484 0.48339357\n",
      "  0.45552232]\n",
      " [0.00787783 0.95490238 0.57229363 0.5365668  0.5673602  0.20227271\n",
      "  0.21206543]\n",
      " [1.05308251 0.57187951 0.21382141 0.39480321 0.33357585 0.32721531\n",
      "  0.29321773]\n",
      " [1.05308251 0.18885664 0.12662546 0.15177992 0.28708926 0.62707756\n",
      "  0.94243612]\n",
      " [0.53048017 0.18885664 0.12904757 0.16190589 0.25357566 0.60833617\n",
      "  0.21206543]\n",
      " [0.53048017 0.18885664 0.02731897 0.11633902 0.1054672  0.45215792\n",
      "  0.37437003]\n",
      " [0.00787783 0.57187951 0.39547963 0.33404739 0.39627871 0.42092226\n",
      "  0.45552232]\n",
      " [1.05308251 0.18885664 0.160535   0.23278768 0.30762985 0.45215792\n",
      "  0.86128382]\n",
      " [1.05308251 0.18885664 0.00794209 0.10621305 0.05411572 0.67080747\n",
      "  0.13091313]\n",
      " [0.00787783 0.95490238 0.80481614 0.5365668  0.78141478 0.23350836\n",
      "  0.29321773]\n",
      " [0.00787783 0.95490238 0.60620316 0.5365668  0.70736054 0.29597966\n",
      "  0.53667462]\n",
      " [0.00787783 0.95490238 0.93561006 0.89097578 0.75168497 0.04609445\n",
      "  0.04976083]\n",
      " [0.00787783 0.95490238 0.68371067 0.61251158 0.57303589 0.20227271\n",
      "  0.04976083]\n",
      " [1.05308251 0.18885664 0.05638429 0.11633902 0.07492658 0.3459567\n",
      "  0.86128382]\n",
      " [1.05308251 0.18885664 0.12662546 0.1568429  0.26195406 0.57710052\n",
      "  0.86128382]\n",
      " [0.00787783 0.95490238 0.56744941 0.48593695 0.69411727 0.35845096\n",
      "  0.37437003]\n",
      " [0.53048017 0.18885664 0.07091694 0.17203186 0.09925096 0.38968661\n",
      "  0.61782692]\n",
      " [0.00787783 0.95490238 0.68613278 0.53150382 0.74654983 0.38968661\n",
      "  0.61782692]\n",
      " [0.00787783 0.18885664 0.16295711 0.20240977 0.25735945 0.48339357\n",
      "  1.02358842]\n",
      " [0.00787783 0.95490238 0.68371067 0.5365668  0.84492844 0.38968661\n",
      "  0.37437003]\n",
      " [0.00787783 0.95490238 0.57471573 0.51125188 0.62357656 0.26474401\n",
      "  0.61782692]\n",
      " [0.00787783 0.57187951 0.39790174 0.28341754 0.32871098 0.42092226\n",
      "  0.29321773]\n",
      " [0.53048017 0.18885664 0.11693703 0.1568429  0.18195387 0.35845096\n",
      "  0.37437003]\n",
      " [0.00787783 0.95490238 0.76364028 0.63782651 0.53790067 0.10856576\n",
      "  0.04976083]\n",
      " [0.00787783 0.95490238 0.57955995 0.78971607 0.75763093 0.42092226\n",
      "  0.04976083]\n",
      " [0.00787783 0.18885664 0.17506765 0.14165395 0.22573776 0.67080747\n",
      "  0.13091313]\n",
      " [0.53048017 0.18885664 0.07091694 0.17203186 0.16627815 0.47089931\n",
      "  0.86128382]\n",
      " [0.53048017 0.57187951 0.1871782  0.16190589 0.42898149 0.70829025\n",
      "  0.94243612]\n",
      " [0.00787783 0.57187951 0.32039423 0.22266171 0.4019544  0.552112\n",
      "  0.94243612]\n",
      " [0.00787783 0.57187951 0.44149971 0.30873246 0.48114378 0.38968661\n",
      "  0.53667462]\n",
      " [1.05308251 0.18885664 0.05638429 0.04545723 0.06006168 0.57710052\n",
      "  0.45552232]\n",
      " [0.00787783 0.18885664 0.13146968 0.21253574 0.17654845 0.51462922\n",
      "  0.21206543]\n",
      " [0.00787783 0.57187951 0.31555001 0.25810261 0.3406029  0.45215792\n",
      "  0.04976083]\n",
      " [0.53048017 0.18885664 0.05396218 0.1568429  0.14465648 0.45215792\n",
      "  0.37437003]\n",
      " [0.53048017 0.18885664 0.05154007 0.13659096 0.11276451 0.41467513\n",
      "  0.69897922]\n",
      " [0.00787783 0.95490238 0.87505732 0.7795901  0.74817145 0.10856576\n",
      "  0.04976083]\n",
      " [0.53048017 0.18885664 0.06849483 0.12646499 0.16654842 0.60833617\n",
      "  0.21206543]\n",
      " [0.00787783 0.57187951 0.44149971 0.30873246 0.62817116 0.63957182\n",
      "  0.45552232]\n",
      " [0.00787783 0.95490238 0.90170053 0.86566085 0.74033359 0.0148588\n",
      "  0.04976083]\n",
      " [0.00787783 0.18885664 0.10724859 0.22266171 0.28844061 0.64581895\n",
      "  1.02358842]\n",
      " [0.53048017 0.18885664 0.10240437 0.21759873 0.29708928 0.57710052\n",
      "  0.04976083]\n",
      " [1.05308251 0.18885664 0.04185163 0.10621305 0.14519702 0.68330173\n",
      "  0.86128382]\n",
      " [1.05308251 0.18885664 0.05638429 0.08089812 0.06141303 0.50838209\n",
      "  0.69897922]\n",
      " [0.00787783 0.18885664 0.07333905 0.12140201 0.15735921 0.51462922\n",
      "  0.69897922]\n",
      " [0.00787783 0.95490238 0.56744941 0.43024411 0.58168456 0.32096818\n",
      "  0.78013152]\n",
      " [0.00787783 0.95490238 0.60620316 0.51125188 0.693847   0.33970957\n",
      "  0.61782692]\n",
      " [0.00787783 0.57187951 0.31555001 0.25810261 0.35979213 0.48339357\n",
      "  0.29321773]\n",
      " [0.00787783 0.95490238 0.68613278 0.55175576 0.69087402 0.29597966\n",
      "  0.21206543]\n",
      " [0.00787783 0.18885664 0.05638429 0.13152798 0.10330503 0.76451443\n",
      "  0.13091313]\n",
      " [0.00787783 0.95490238 0.57471573 0.51125188 0.50060329 0.30847392\n",
      "  0.69897922]\n",
      " [1.05308251 0.18885664 0.07333905 0.12140201 0.12762941 0.63957182\n",
      "  0.61782692]]\n"
     ]
    }
   ],
   "source": [
    "print(xtest_norm )"
   ]
  },
  {
   "cell_type": "code",
   "execution_count": 94,
   "id": "697fbb4e",
   "metadata": {},
   "outputs": [],
   "source": [
    "xtrain_stand = xtrain.copy()\n",
    "xtest_stand = xtest.copy()\n"
   ]
  },
  {
   "cell_type": "code",
   "execution_count": null,
   "id": "ab00e684",
   "metadata": {},
   "outputs": [],
   "source": []
  },
  {
   "cell_type": "code",
   "execution_count": null,
   "id": "106a71c3",
   "metadata": {},
   "outputs": [],
   "source": []
  }
 ],
 "metadata": {
  "kernelspec": {
   "display_name": "Python 3",
   "language": "python",
   "name": "python3"
  },
  "language_info": {
   "codemirror_mode": {
    "name": "ipython",
    "version": 3
   },
   "file_extension": ".py",
   "mimetype": "text/x-python",
   "name": "python",
   "nbconvert_exporter": "python",
   "pygments_lexer": "ipython3",
   "version": "3.8.8"
  }
 },
 "nbformat": 4,
 "nbformat_minor": 5
}
