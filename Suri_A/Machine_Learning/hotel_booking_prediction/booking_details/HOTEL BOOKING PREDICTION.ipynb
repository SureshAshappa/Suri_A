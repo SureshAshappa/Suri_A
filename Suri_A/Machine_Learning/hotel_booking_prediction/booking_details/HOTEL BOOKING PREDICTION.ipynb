{
 "cells": [
  {
   "cell_type": "markdown",
   "id": "e8c7aa05",
   "metadata": {},
   "source": [
    "# PROJECT ON HOTEL BOOKING PREDICTION"
   ]
  },
  {
   "cell_type": "markdown",
   "id": "842e241c",
   "metadata": {},
   "source": [
    "**IMPORT ALL LIBRARIES**"
   ]
  },
  {
   "cell_type": "code",
   "execution_count": 28,
   "id": "92dc04de",
   "metadata": {},
   "outputs": [],
   "source": [
    "import pandas as pd\n",
    "import numpy as np\n",
    "import matplotlib.pyplot as plt\n",
    "import seaborn as sns\n",
    "import sklearn\n",
    "from sklearn import metrics\n",
    "from sklearn.tree import DecisionTreeClassifier\n",
    "from sklearn.model_selection import train_test_split"
   ]
  },
  {
   "cell_type": "code",
   "execution_count": 29,
   "id": "6e4700f1",
   "metadata": {},
   "outputs": [],
   "source": [
    "from sklearn.metrics import confusion_matrix\n",
    "from sklearn.metrics import roc_curve, auc, roc_auc_score\n",
    "from sklearn.metrics import accuracy_score\n",
    "from sklearn.metrics import classification_report"
   ]
  },
  {
   "cell_type": "code",
   "execution_count": 30,
   "id": "15c48ebf",
   "metadata": {},
   "outputs": [],
   "source": [
    "from warnings import filterwarnings\n",
    "filterwarnings('ignore')"
   ]
  },
  {
   "cell_type": "markdown",
   "id": "072bdc37",
   "metadata": {},
   "source": [
    "**IMPORT DATA**"
   ]
  },
  {
   "cell_type": "code",
   "execution_count": 31,
   "id": "f1c0580a",
   "metadata": {},
   "outputs": [
    {
     "data": {
      "text/html": [
       "<div>\n",
       "<style scoped>\n",
       "    .dataframe tbody tr th:only-of-type {\n",
       "        vertical-align: middle;\n",
       "    }\n",
       "\n",
       "    .dataframe tbody tr th {\n",
       "        vertical-align: top;\n",
       "    }\n",
       "\n",
       "    .dataframe thead th {\n",
       "        text-align: right;\n",
       "    }\n",
       "</style>\n",
       "<table border=\"1\" class=\"dataframe\">\n",
       "  <thead>\n",
       "    <tr style=\"text-align: right;\">\n",
       "      <th></th>\n",
       "      <th>hotel</th>\n",
       "      <th>is_canceled</th>\n",
       "      <th>arrival_date_year</th>\n",
       "      <th>arrival_date_month</th>\n",
       "      <th>arrival_date_day_of_month</th>\n",
       "      <th>stays_in_weekend_nights</th>\n",
       "      <th>stays_in_week_nights</th>\n",
       "      <th>adults</th>\n",
       "      <th>children</th>\n",
       "      <th>babies</th>\n",
       "      <th>...</th>\n",
       "      <th>is_repeated_guest</th>\n",
       "      <th>previous_cancellations</th>\n",
       "      <th>previous_bookings_not_canceled</th>\n",
       "      <th>reserved_room_type</th>\n",
       "      <th>assigned_room_type</th>\n",
       "      <th>deposit_type</th>\n",
       "      <th>days_in_waiting_list</th>\n",
       "      <th>customer_type</th>\n",
       "      <th>required_car_parking_spaces</th>\n",
       "      <th>reservation_status</th>\n",
       "    </tr>\n",
       "  </thead>\n",
       "  <tbody>\n",
       "    <tr>\n",
       "      <th>0</th>\n",
       "      <td>City Hotel</td>\n",
       "      <td>0</td>\n",
       "      <td>2017</td>\n",
       "      <td>May</td>\n",
       "      <td>5</td>\n",
       "      <td>0</td>\n",
       "      <td>1</td>\n",
       "      <td>2</td>\n",
       "      <td>0</td>\n",
       "      <td>0</td>\n",
       "      <td>...</td>\n",
       "      <td>0</td>\n",
       "      <td>0</td>\n",
       "      <td>0</td>\n",
       "      <td>A</td>\n",
       "      <td>A</td>\n",
       "      <td>No Deposit</td>\n",
       "      <td>0</td>\n",
       "      <td>Transient-Party</td>\n",
       "      <td>0</td>\n",
       "      <td>Check-Out</td>\n",
       "    </tr>\n",
       "    <tr>\n",
       "      <th>1</th>\n",
       "      <td>City Hotel</td>\n",
       "      <td>0</td>\n",
       "      <td>2017</td>\n",
       "      <td>April</td>\n",
       "      <td>7</td>\n",
       "      <td>0</td>\n",
       "      <td>1</td>\n",
       "      <td>1</td>\n",
       "      <td>0</td>\n",
       "      <td>0</td>\n",
       "      <td>...</td>\n",
       "      <td>0</td>\n",
       "      <td>0</td>\n",
       "      <td>0</td>\n",
       "      <td>A</td>\n",
       "      <td>A</td>\n",
       "      <td>No Deposit</td>\n",
       "      <td>0</td>\n",
       "      <td>Transient</td>\n",
       "      <td>0</td>\n",
       "      <td>Check-Out</td>\n",
       "    </tr>\n",
       "    <tr>\n",
       "      <th>2</th>\n",
       "      <td>City Hotel</td>\n",
       "      <td>1</td>\n",
       "      <td>2016</td>\n",
       "      <td>June</td>\n",
       "      <td>17</td>\n",
       "      <td>0</td>\n",
       "      <td>2</td>\n",
       "      <td>2</td>\n",
       "      <td>0</td>\n",
       "      <td>0</td>\n",
       "      <td>...</td>\n",
       "      <td>0</td>\n",
       "      <td>0</td>\n",
       "      <td>0</td>\n",
       "      <td>A</td>\n",
       "      <td>A</td>\n",
       "      <td>Non Refund</td>\n",
       "      <td>0</td>\n",
       "      <td>Transient</td>\n",
       "      <td>0</td>\n",
       "      <td>Canceled</td>\n",
       "    </tr>\n",
       "    <tr>\n",
       "      <th>3</th>\n",
       "      <td>City Hotel</td>\n",
       "      <td>0</td>\n",
       "      <td>2016</td>\n",
       "      <td>August</td>\n",
       "      <td>16</td>\n",
       "      <td>0</td>\n",
       "      <td>3</td>\n",
       "      <td>2</td>\n",
       "      <td>0</td>\n",
       "      <td>0</td>\n",
       "      <td>...</td>\n",
       "      <td>0</td>\n",
       "      <td>0</td>\n",
       "      <td>0</td>\n",
       "      <td>A</td>\n",
       "      <td>A</td>\n",
       "      <td>No Deposit</td>\n",
       "      <td>0</td>\n",
       "      <td>Transient</td>\n",
       "      <td>0</td>\n",
       "      <td>Check-Out</td>\n",
       "    </tr>\n",
       "    <tr>\n",
       "      <th>4</th>\n",
       "      <td>City Hotel</td>\n",
       "      <td>0</td>\n",
       "      <td>2017</td>\n",
       "      <td>August</td>\n",
       "      <td>21</td>\n",
       "      <td>1</td>\n",
       "      <td>2</td>\n",
       "      <td>2</td>\n",
       "      <td>1</td>\n",
       "      <td>0</td>\n",
       "      <td>...</td>\n",
       "      <td>0</td>\n",
       "      <td>0</td>\n",
       "      <td>0</td>\n",
       "      <td>G</td>\n",
       "      <td>G</td>\n",
       "      <td>No Deposit</td>\n",
       "      <td>0</td>\n",
       "      <td>Transient</td>\n",
       "      <td>0</td>\n",
       "      <td>Check-Out</td>\n",
       "    </tr>\n",
       "  </tbody>\n",
       "</table>\n",
       "<p>5 rows × 23 columns</p>\n",
       "</div>"
      ],
      "text/plain": [
       "        hotel  is_canceled  arrival_date_year arrival_date_month  \\\n",
       "0  City Hotel            0               2017                May   \n",
       "1  City Hotel            0               2017              April   \n",
       "2  City Hotel            1               2016               June   \n",
       "3  City Hotel            0               2016             August   \n",
       "4  City Hotel            0               2017             August   \n",
       "\n",
       "   arrival_date_day_of_month  stays_in_weekend_nights  stays_in_week_nights  \\\n",
       "0                          5                        0                     1   \n",
       "1                          7                        0                     1   \n",
       "2                         17                        0                     2   \n",
       "3                         16                        0                     3   \n",
       "4                         21                        1                     2   \n",
       "\n",
       "   adults  children  babies  ... is_repeated_guest previous_cancellations  \\\n",
       "0       2         0       0  ...                 0                      0   \n",
       "1       1         0       0  ...                 0                      0   \n",
       "2       2         0       0  ...                 0                      0   \n",
       "3       2         0       0  ...                 0                      0   \n",
       "4       2         1       0  ...                 0                      0   \n",
       "\n",
       "  previous_bookings_not_canceled  reserved_room_type  assigned_room_type  \\\n",
       "0                              0                   A                   A   \n",
       "1                              0                   A                   A   \n",
       "2                              0                   A                   A   \n",
       "3                              0                   A                   A   \n",
       "4                              0                   G                   G   \n",
       "\n",
       "   deposit_type days_in_waiting_list    customer_type  \\\n",
       "0    No Deposit                    0  Transient-Party   \n",
       "1    No Deposit                    0        Transient   \n",
       "2    Non Refund                    0        Transient   \n",
       "3    No Deposit                    0        Transient   \n",
       "4    No Deposit                    0        Transient   \n",
       "\n",
       "  required_car_parking_spaces  reservation_status  \n",
       "0                           0           Check-Out  \n",
       "1                           0           Check-Out  \n",
       "2                           0            Canceled  \n",
       "3                           0           Check-Out  \n",
       "4                           0           Check-Out  \n",
       "\n",
       "[5 rows x 23 columns]"
      ]
     },
     "execution_count": 31,
     "metadata": {},
     "output_type": "execute_result"
    }
   ],
   "source": [
    "df=pd.read_csv('Downloads/BookingDetails.csv')\n",
    "df.head()"
   ]
  },
  {
   "cell_type": "markdown",
   "id": "061a56bd",
   "metadata": {},
   "source": [
    "**Explore the Data**\n"
   ]
  },
  {
   "cell_type": "code",
   "execution_count": 5,
   "id": "b91aafd6",
   "metadata": {},
   "outputs": [
    {
     "data": {
      "text/plain": [
       "0    3139\n",
       "1    1861\n",
       "Name: is_canceled, dtype: int64"
      ]
     },
     "execution_count": 5,
     "metadata": {},
     "output_type": "execute_result"
    }
   ],
   "source": [
    "df.is_canceled.value_counts()"
   ]
  },
  {
   "cell_type": "code",
   "execution_count": 40,
   "id": "6230cb71",
   "metadata": {},
   "outputs": [
    {
     "data": {
      "text/html": [
       "<div>\n",
       "<style scoped>\n",
       "    .dataframe tbody tr th:only-of-type {\n",
       "        vertical-align: middle;\n",
       "    }\n",
       "\n",
       "    .dataframe tbody tr th {\n",
       "        vertical-align: top;\n",
       "    }\n",
       "\n",
       "    .dataframe thead th {\n",
       "        text-align: right;\n",
       "    }\n",
       "</style>\n",
       "<table border=\"1\" class=\"dataframe\">\n",
       "  <thead>\n",
       "    <tr style=\"text-align: right;\">\n",
       "      <th>is_canceled</th>\n",
       "      <th>0</th>\n",
       "      <th>1</th>\n",
       "      <th>All</th>\n",
       "    </tr>\n",
       "    <tr>\n",
       "      <th>children</th>\n",
       "      <th></th>\n",
       "      <th></th>\n",
       "      <th></th>\n",
       "    </tr>\n",
       "  </thead>\n",
       "  <tbody>\n",
       "    <tr>\n",
       "      <th>0</th>\n",
       "      <td>2892</td>\n",
       "      <td>1718</td>\n",
       "      <td>4610</td>\n",
       "    </tr>\n",
       "    <tr>\n",
       "      <th>1</th>\n",
       "      <td>148</td>\n",
       "      <td>79</td>\n",
       "      <td>227</td>\n",
       "    </tr>\n",
       "    <tr>\n",
       "      <th>2</th>\n",
       "      <td>96</td>\n",
       "      <td>64</td>\n",
       "      <td>160</td>\n",
       "    </tr>\n",
       "    <tr>\n",
       "      <th>3</th>\n",
       "      <td>3</td>\n",
       "      <td>0</td>\n",
       "      <td>3</td>\n",
       "    </tr>\n",
       "    <tr>\n",
       "      <th>All</th>\n",
       "      <td>3139</td>\n",
       "      <td>1861</td>\n",
       "      <td>5000</td>\n",
       "    </tr>\n",
       "  </tbody>\n",
       "</table>\n",
       "</div>"
      ],
      "text/plain": [
       "is_canceled     0     1   All\n",
       "children                     \n",
       "0            2892  1718  4610\n",
       "1             148    79   227\n",
       "2              96    64   160\n",
       "3               3     0     3\n",
       "All          3139  1861  5000"
      ]
     },
     "execution_count": 40,
     "metadata": {},
     "output_type": "execute_result"
    }
   ],
   "source": [
    "crosstab=pd.crosstab(index=df['children'],columns=df['is_canceled'],margins=True)\n",
    "crosstab"
   ]
  },
  {
   "cell_type": "code",
   "execution_count": 43,
   "id": "0a4f68f8",
   "metadata": {},
   "outputs": [
    {
     "data": {
      "text/plain": [
       "0.9416486259116559"
      ]
     },
     "execution_count": 43,
     "metadata": {},
     "output_type": "execute_result"
    }
   ],
   "source": [
    "from scipy.stats import chi2_contingency\n",
    "res=chi2_contingency(crosstab)\n",
    "res[1]"
   ]
  },
  {
   "cell_type": "code",
   "execution_count": 37,
   "id": "ccec52b4",
   "metadata": {},
   "outputs": [],
   "source": [
    "df['is_canceled']=df['is_canceled'].astype('O')"
   ]
  },
  {
   "cell_type": "code",
   "execution_count": 6,
   "id": "47b0572b",
   "metadata": {},
   "outputs": [
    {
     "data": {
      "text/plain": [
       "(5000, 23)"
      ]
     },
     "execution_count": 6,
     "metadata": {},
     "output_type": "execute_result"
    }
   ],
   "source": [
    "df.shape"
   ]
  },
  {
   "cell_type": "code",
   "execution_count": 7,
   "id": "5ea7afc1",
   "metadata": {},
   "outputs": [
    {
     "name": "stdout",
     "output_type": "stream",
     "text": [
      "<class 'pandas.core.frame.DataFrame'>\n",
      "RangeIndex: 5000 entries, 0 to 4999\n",
      "Data columns (total 23 columns):\n",
      " #   Column                          Non-Null Count  Dtype \n",
      "---  ------                          --------------  ----- \n",
      " 0   hotel                           5000 non-null   object\n",
      " 1   is_canceled                     5000 non-null   int64 \n",
      " 2   arrival_date_year               5000 non-null   int64 \n",
      " 3   arrival_date_month              5000 non-null   object\n",
      " 4   arrival_date_day_of_month       5000 non-null   int64 \n",
      " 5   stays_in_weekend_nights         5000 non-null   int64 \n",
      " 6   stays_in_week_nights            5000 non-null   int64 \n",
      " 7   adults                          5000 non-null   int64 \n",
      " 8   children                        5000 non-null   int64 \n",
      " 9   babies                          5000 non-null   int64 \n",
      " 10  meal                            5000 non-null   object\n",
      " 11  country                         5000 non-null   object\n",
      " 12  distribution_channel            5000 non-null   object\n",
      " 13  is_repeated_guest               5000 non-null   int64 \n",
      " 14  previous_cancellations          5000 non-null   int64 \n",
      " 15  previous_bookings_not_canceled  5000 non-null   int64 \n",
      " 16  reserved_room_type              5000 non-null   object\n",
      " 17  assigned_room_type              5000 non-null   object\n",
      " 18  deposit_type                    5000 non-null   object\n",
      " 19  days_in_waiting_list            5000 non-null   int64 \n",
      " 20  customer_type                   5000 non-null   object\n",
      " 21  required_car_parking_spaces     5000 non-null   int64 \n",
      " 22  reservation_status              5000 non-null   object\n",
      "dtypes: int64(13), object(10)\n",
      "memory usage: 703.2+ KB\n"
     ]
    }
   ],
   "source": [
    "df.info()"
   ]
  },
  {
   "cell_type": "markdown",
   "id": "9f7487f2",
   "metadata": {},
   "source": [
    "**CHECK THE MISSING VALUES**"
   ]
  },
  {
   "cell_type": "code",
   "execution_count": 8,
   "id": "fda54808",
   "metadata": {},
   "outputs": [
    {
     "data": {
      "text/plain": [
       "hotel                             0\n",
       "is_canceled                       0\n",
       "arrival_date_year                 0\n",
       "arrival_date_month                0\n",
       "arrival_date_day_of_month         0\n",
       "stays_in_weekend_nights           0\n",
       "stays_in_week_nights              0\n",
       "adults                            0\n",
       "children                          0\n",
       "babies                            0\n",
       "meal                              0\n",
       "country                           0\n",
       "distribution_channel              0\n",
       "is_repeated_guest                 0\n",
       "previous_cancellations            0\n",
       "previous_bookings_not_canceled    0\n",
       "reserved_room_type                0\n",
       "assigned_room_type                0\n",
       "deposit_type                      0\n",
       "days_in_waiting_list              0\n",
       "customer_type                     0\n",
       "required_car_parking_spaces       0\n",
       "reservation_status                0\n",
       "dtype: int64"
      ]
     },
     "execution_count": 8,
     "metadata": {},
     "output_type": "execute_result"
    }
   ],
   "source": [
    "df.isnull().sum()"
   ]
  },
  {
   "cell_type": "code",
   "execution_count": 9,
   "id": "eb061798",
   "metadata": {},
   "outputs": [],
   "source": [
    "df['is_canceled']=df['is_canceled'].astype('object')\n",
    "df['is_repeated_guest']=df['is_repeated_guest'].astype('object')\n",
    "df['required_car_parking_spaces']=df['required_car_parking_spaces'].astype('object')\n"
   ]
  },
  {
   "cell_type": "markdown",
   "id": "56fccd01",
   "metadata": {},
   "source": [
    "**Considering hotel**"
   ]
  },
  {
   "cell_type": "code",
   "execution_count": 10,
   "id": "54e93203",
   "metadata": {},
   "outputs": [
    {
     "data": {
      "text/plain": [
       "City Hotel      3315\n",
       "Resort Hotel    1685\n",
       "Name: hotel, dtype: int64"
      ]
     },
     "execution_count": 10,
     "metadata": {},
     "output_type": "execute_result"
    }
   ],
   "source": [
    "df.hotel.value_counts()"
   ]
  },
  {
   "cell_type": "code",
   "execution_count": 11,
   "id": "b9ceabb9",
   "metadata": {},
   "outputs": [],
   "source": [
    "from scipy.stats import chi2_contingency"
   ]
  },
  {
   "cell_type": "code",
   "execution_count": 12,
   "id": "a1752f11",
   "metadata": {},
   "outputs": [
    {
     "data": {
      "text/html": [
       "<div>\n",
       "<style scoped>\n",
       "    .dataframe tbody tr th:only-of-type {\n",
       "        vertical-align: middle;\n",
       "    }\n",
       "\n",
       "    .dataframe tbody tr th {\n",
       "        vertical-align: top;\n",
       "    }\n",
       "\n",
       "    .dataframe thead th {\n",
       "        text-align: right;\n",
       "    }\n",
       "</style>\n",
       "<table border=\"1\" class=\"dataframe\">\n",
       "  <thead>\n",
       "    <tr style=\"text-align: right;\">\n",
       "      <th>is_canceled</th>\n",
       "      <th>0</th>\n",
       "      <th>1</th>\n",
       "      <th>All</th>\n",
       "    </tr>\n",
       "    <tr>\n",
       "      <th>hotel</th>\n",
       "      <th></th>\n",
       "      <th></th>\n",
       "      <th></th>\n",
       "    </tr>\n",
       "  </thead>\n",
       "  <tbody>\n",
       "    <tr>\n",
       "      <th>City Hotel</th>\n",
       "      <td>1909</td>\n",
       "      <td>1406</td>\n",
       "      <td>3315</td>\n",
       "    </tr>\n",
       "    <tr>\n",
       "      <th>Resort Hotel</th>\n",
       "      <td>1230</td>\n",
       "      <td>455</td>\n",
       "      <td>1685</td>\n",
       "    </tr>\n",
       "    <tr>\n",
       "      <th>All</th>\n",
       "      <td>3139</td>\n",
       "      <td>1861</td>\n",
       "      <td>5000</td>\n",
       "    </tr>\n",
       "  </tbody>\n",
       "</table>\n",
       "</div>"
      ],
      "text/plain": [
       "is_canceled      0     1   All\n",
       "hotel                         \n",
       "City Hotel    1909  1406  3315\n",
       "Resort Hotel  1230   455  1685\n",
       "All           3139  1861  5000"
      ]
     },
     "execution_count": 12,
     "metadata": {},
     "output_type": "execute_result"
    }
   ],
   "source": [
    "cross1=pd.crosstab(index=df['hotel'],columns=df['is_canceled'],margins=True)\n",
    "cross1"
   ]
  },
  {
   "cell_type": "code",
   "execution_count": 13,
   "id": "151947e8",
   "metadata": {},
   "outputs": [
    {
     "name": "stdout",
     "output_type": "stream",
     "text": [
      "1.2805535013169055e-23\n"
     ]
    }
   ],
   "source": [
    "res1=chi2_contingency(cross1)\n",
    "print(res1[1])"
   ]
  },
  {
   "cell_type": "markdown",
   "id": "a61d5e43",
   "metadata": {},
   "source": [
    "As the target and independent variables are categorical,we have performed chi square test to check the acceptance of the variable.\n",
    "**Hence the variable 'hotel' is less than the level of significance i.e.,(< 0.05), it is a good predictor**"
   ]
  },
  {
   "cell_type": "code",
   "execution_count": 14,
   "id": "c023544d",
   "metadata": {},
   "outputs": [
    {
     "data": {
      "image/png": "[encoded data removed]",
      "text/plain": [
       "<Figure size 432x288 with 1 Axes>"
      ]
     },
     "metadata": {
      "needs_background": "light"
     },
     "output_type": "display_data"
    }
   ],
   "source": [
    "sns.barplot(x='hotel',y='is_canceled',data=df)\n",
    "plt.show()"
   ]
  },
  {
   "cell_type": "markdown",
   "id": "e5ab9e18",
   "metadata": {},
   "source": [
    "**Considering arrival_date_year**"
   ]
  },
  {
   "cell_type": "code",
   "execution_count": 15,
   "id": "92222500",
   "metadata": {},
   "outputs": [
    {
     "data": {
      "text/plain": [
       "2016    2377\n",
       "2017    1700\n",
       "2015     923\n",
       "Name: arrival_date_year, dtype: int64"
      ]
     },
     "execution_count": 15,
     "metadata": {},
     "output_type": "execute_result"
    }
   ],
   "source": [
    "df.arrival_date_year.value_counts()"
   ]
  },
  {
   "cell_type": "code",
   "execution_count": 16,
   "id": "587fde03",
   "metadata": {},
   "outputs": [
    {
     "data": {
      "text/html": [
       "<div>\n",
       "<style scoped>\n",
       "    .dataframe tbody tr th:only-of-type {\n",
       "        vertical-align: middle;\n",
       "    }\n",
       "\n",
       "    .dataframe tbody tr th {\n",
       "        vertical-align: top;\n",
       "    }\n",
       "\n",
       "    .dataframe thead th {\n",
       "        text-align: right;\n",
       "    }\n",
       "</style>\n",
       "<table border=\"1\" class=\"dataframe\">\n",
       "  <thead>\n",
       "    <tr style=\"text-align: right;\">\n",
       "      <th>arrival_date_year</th>\n",
       "      <th>2015</th>\n",
       "      <th>2016</th>\n",
       "      <th>2017</th>\n",
       "      <th>All</th>\n",
       "    </tr>\n",
       "    <tr>\n",
       "      <th>is_canceled</th>\n",
       "      <th></th>\n",
       "      <th></th>\n",
       "      <th></th>\n",
       "      <th></th>\n",
       "    </tr>\n",
       "  </thead>\n",
       "  <tbody>\n",
       "    <tr>\n",
       "      <th>0</th>\n",
       "      <td>585</td>\n",
       "      <td>1502</td>\n",
       "      <td>1052</td>\n",
       "      <td>3139</td>\n",
       "    </tr>\n",
       "    <tr>\n",
       "      <th>1</th>\n",
       "      <td>338</td>\n",
       "      <td>875</td>\n",
       "      <td>648</td>\n",
       "      <td>1861</td>\n",
       "    </tr>\n",
       "    <tr>\n",
       "      <th>All</th>\n",
       "      <td>923</td>\n",
       "      <td>2377</td>\n",
       "      <td>1700</td>\n",
       "      <td>5000</td>\n",
       "    </tr>\n",
       "  </tbody>\n",
       "</table>\n",
       "</div>"
      ],
      "text/plain": [
       "arrival_date_year  2015  2016  2017   All\n",
       "is_canceled                              \n",
       "0                   585  1502  1052  3139\n",
       "1                   338   875   648  1861\n",
       "All                 923  2377  1700  5000"
      ]
     },
     "execution_count": 16,
     "metadata": {},
     "output_type": "execute_result"
    }
   ],
   "source": [
    "cross2=pd.crosstab(index=df['is_canceled'],columns=df['arrival_date_year'],margins=True)\n",
    "cross2"
   ]
  },
  {
   "cell_type": "code",
   "execution_count": 17,
   "id": "430592f7",
   "metadata": {},
   "outputs": [
    {
     "name": "stdout",
     "output_type": "stream",
     "text": [
      "0.98916458939428\n"
     ]
    }
   ],
   "source": [
    "res2=chi2_contingency(cross2)\n",
    "print(res2[1])"
   ]
  },
  {
   "cell_type": "markdown",
   "id": "5f397a7a",
   "metadata": {},
   "source": [
    "As the target and independent variables are categorical,we have performed chi square test to check the acceptance of the variable.\n",
    "**Hence the variable 'arrival_date_year' is more than the level of significance i.e.,(> 0.05), it is not a predictor**"
   ]
  },
  {
   "cell_type": "code",
   "execution_count": 18,
   "id": "9b13157e",
   "metadata": {},
   "outputs": [
    {
     "data": {
      "image/png": "[encoded data removed]",
      "text/plain": [
       "<Figure size 432x288 with 1 Axes>"
      ]
     },
     "metadata": {
      "needs_background": "light"
     },
     "output_type": "display_data"
    }
   ],
   "source": [
    "sns.countplot(df.arrival_date_year)\n",
    "plt.xlabel('arrival_date_year')\n",
    "plt.show()"
   ]
  },
  {
   "cell_type": "markdown",
   "id": "eebfa281",
   "metadata": {},
   "source": [
    "**Instead of performing test for each variable, split the categorical variables and numerical variables and then apply test to check the acceptance of the variables**"
   ]
  },
  {
   "cell_type": "code",
   "execution_count": 19,
   "id": "e430d320",
   "metadata": {},
   "outputs": [
    {
     "data": {
      "text/plain": [
       "Index(['hotel', 'is_canceled', 'arrival_date_month', 'meal', 'country',\n",
       "       'distribution_channel', 'is_repeated_guest', 'reserved_room_type',\n",
       "       'assigned_room_type', 'deposit_type', 'customer_type',\n",
       "       'required_car_parking_spaces', 'reservation_status'],\n",
       "      dtype='object')"
      ]
     },
     "execution_count": 19,
     "metadata": {},
     "output_type": "execute_result"
    }
   ],
   "source": [
    "categorical=df.select_dtypes(include='O')\n",
    "categorical.columns"
   ]
  },
  {
   "cell_type": "code",
   "execution_count": 20,
   "id": "097a99e1",
   "metadata": {},
   "outputs": [
    {
     "name": "stdout",
     "output_type": "stream",
     "text": [
      "is_canceled      0     1\n",
      "hotel                   \n",
      "City Hotel    1909  1406\n",
      "Resort Hotel  1230   455\n",
      "P-value for  hotel  is  2.29389961530605e-26\n",
      "hotel  Variable will be a good predictor\n",
      "\n",
      "is_canceled           0    1\n",
      "arrival_date_month          \n",
      "April               270  188\n",
      "August              364  232\n",
      "December            176   84\n",
      "February            215  119\n",
      "January             164   64\n",
      "July                342  202\n",
      "June                263  190\n",
      "March               291  123\n",
      "May                 302  208\n",
      "November            188   82\n",
      "October             286  187\n",
      "September           278  182\n",
      "P-value for  arrival_date_month  is  4.337615246421777e-05\n",
      "arrival_date_month  Variable will be a good predictor\n",
      "\n",
      "is_canceled     0     1\n",
      "meal                   \n",
      "BB           2395  1477\n",
      "FB             14    16\n",
      "HB            423   207\n",
      "SC            277   159\n",
      "Undefined      30     2\n",
      "P-value for  meal  is  0.00011949579934375752\n",
      "meal  Variable will be a good predictor\n",
      "\n",
      "is_canceled   0   1\n",
      "country            \n",
      "AGO           4  15\n",
      "ALB           1   0\n",
      "AND           1   0\n",
      "ARG           3   2\n",
      "ARM           1   0\n",
      "...          ..  ..\n",
      "TUR           5   3\n",
      "TWN           0   2\n",
      "UKR           1   0\n",
      "USA          67  19\n",
      "ZAF           2   2\n",
      "\n",
      "[87 rows x 2 columns]\n",
      "P-value for  country  is  5.53761988259723e-91\n",
      "country  Variable will be a good predictor\n",
      "\n",
      "is_canceled              0     1\n",
      "distribution_channel            \n",
      "Corporate              196    62\n",
      "Direct                 511   118\n",
      "GDS                      2     2\n",
      "TA/TO                 2430  1679\n",
      "P-value for  distribution_channel  is  5.693160499426755e-29\n",
      "distribution_channel  Variable will be a good predictor\n",
      "\n",
      "is_canceled           0     1\n",
      "is_repeated_guest            \n",
      "0                  3019  1833\n",
      "1                   120    28\n",
      "P-value for  is_repeated_guest  is  4.448491117719664e-06\n",
      "is_repeated_guest  Variable will be a good predictor\n",
      "\n",
      "is_canceled            0     1\n",
      "reserved_room_type            \n",
      "A                   2227  1403\n",
      "B                     31    14\n",
      "C                     25    16\n",
      "D                    518   273\n",
      "E                    193    79\n",
      "F                     74    37\n",
      "G                     60    26\n",
      "H                     11    13\n",
      "P-value for  reserved_room_type  is  0.00630733351452388\n",
      "reserved_room_type  Variable will be a good predictor\n",
      "\n",
      "is_canceled            0     1\n",
      "assigned_room_type            \n",
      "A                   1721  1371\n",
      "B                     74    23\n",
      "C                     95    19\n",
      "D                    788   288\n",
      "E                    232    79\n",
      "F                    112    39\n",
      "G                     74    28\n",
      "H                     18    13\n",
      "I                     13     1\n",
      "K                     12     0\n",
      "P-value for  assigned_room_type  is  5.068571785210147e-36\n",
      "assigned_room_type  Variable will be a good predictor\n",
      "\n",
      "is_canceled      0     1\n",
      "deposit_type            \n",
      "No Deposit    3128  1231\n",
      "Non Refund       4   629\n",
      "Refundable       7     1\n",
      "P-value for  deposit_type  is  4.7730257275657735e-261\n",
      "deposit_type  Variable will be a good predictor\n",
      "\n",
      "is_canceled         0     1\n",
      "customer_type              \n",
      "Contract           91    44\n",
      "Group              25     3\n",
      "Transient        2189  1568\n",
      "Transient-Party   834   246\n",
      "P-value for  customer_type  is  6.716633365805058e-30\n",
      "customer_type  Variable will be a good predictor\n",
      "\n",
      "is_canceled                     0     1\n",
      "required_car_parking_spaces            \n",
      "0                            2839  1861\n",
      "1                             298     0\n",
      "3                               2     0\n",
      "P-value for  required_car_parking_spaces  is  8.187604295037815e-42\n",
      "required_car_parking_spaces  Variable will be a good predictor\n",
      "\n",
      "is_canceled            0     1\n",
      "reservation_status            \n",
      "Canceled               0  1806\n",
      "Check-Out           3139     0\n",
      "No-Show                0    55\n",
      "P-value for  reservation_status  is  0.0\n",
      "reservation_status  Variable will be a good predictor\n",
      "\n"
     ]
    }
   ],
   "source": [
    "from scipy.stats import chi2_contingency\n",
    "for i in categorical.columns:\n",
    "    if i != 'is_canceled':\n",
    "        mat=pd.crosstab(index=df[i],columns=df['is_canceled'])\n",
    "        print(mat)\n",
    "        chisquare=chi2_contingency(mat)\n",
    "        print('P-value for ',i,' is ',chisquare[1])\n",
    "        if chisquare[1]<0.05:\n",
    "            print(i,' Variable will be a good predictor\\n')\n",
    "        else:\n",
    "            print(i,' Variable will be a bad predictor\\n')"
   ]
  },
  {
   "cell_type": "markdown",
   "id": "d657f969",
   "metadata": {},
   "source": [
    "**From the chi square test, we will check whether the categorical variable is good predictor or not**"
   ]
  },
  {
   "cell_type": "markdown",
   "id": "2de0183d",
   "metadata": {},
   "source": [
    "**Visualizing the categorical variables**"
   ]
  },
  {
   "cell_type": "code",
   "execution_count": 21,
   "id": "1a70b845",
   "metadata": {},
   "outputs": [
    {
     "data": {
      "image/png": "[encoded data removed]",
      "text/plain": [
       "<Figure size 432x288 with 1 Axes>"
      ]
     },
     "metadata": {
      "needs_background": "light"
     },
     "output_type": "display_data"
    },
    {
     "data": {
      "image/png": "[encoded data removed]",
      "text/plain": [
       "<Figure size 720x360 with 1 Axes>"
      ]
     },
     "metadata": {
      "needs_background": "light"
     },
     "output_type": "display_data"
    },
    {
     "data": {
      "image/png": "[encoded data removed]",
      "text/plain": [
       "<Figure size 720x360 with 1 Axes>"
      ]
     },
     "metadata": {
      "needs_background": "light"
     },
     "output_type": "display_data"
    },
    {
     "data": {
      "image/png": "[encoded data removed]",
      "text/plain": [
       "<Figure size 720x360 with 1 Axes>"
      ]
     },
     "metadata": {
      "needs_background": "light"
     },
     "output_type": "display_data"
    },
    {
     "data": {
      "image/png": "[encoded data removed]",
      "text/plain": [
       "<Figure size 720x360 with 1 Axes>"
      ]
     },
     "metadata": {
      "needs_background": "light"
     },
     "output_type": "display_data"
    },
    {
     "data": {
      "image/png": "[encoded data removed]",
      "text/plain": [
       "<Figure size 720x360 with 1 Axes>"
      ]
     },
     "metadata": {
      "needs_background": "light"
     },
     "output_type": "display_data"
    },
    {
     "data": {
      "image/png": "[encoded data removed]",
      "text/plain": [
       "<Figure size 720x360 with 1 Axes>"
      ]
     },
     "metadata": {
      "needs_background": "light"
     },
     "output_type": "display_data"
    },
    {
     "data": {
      "image/png": "[encoded data removed]",
      "text/plain": [
       "<Figure size 720x360 with 1 Axes>"
      ]
     },
     "metadata": {
      "needs_background": "light"
     },
     "output_type": "display_data"
    },
    {
     "data": {
      "image/png": "[encoded data removed]",
      "text/plain": [
       "<Figure size 720x360 with 1 Axes>"
      ]
     },
     "metadata": {
      "needs_background": "light"
     },
     "output_type": "display_data"
    },
    {
     "data": {
      "image/png": "[encoded data removed]",
      "text/plain": [
       "<Figure size 720x360 with 1 Axes>"
      ]
     },
     "metadata": {
      "needs_background": "light"
     },
     "output_type": "display_data"
    },
    {
     "data": {
      "image/png": "[encoded data removed]",
      "text/plain": [
       "<Figure size 720x360 with 1 Axes>"
      ]
     },
     "metadata": {
      "needs_background": "light"
     },
     "output_type": "display_data"
    },
    {
     "data": {
      "image/png": "[encoded data removed]",
      "text/plain": [
       "<Figure size 720x360 with 1 Axes>"
      ]
     },
     "metadata": {
      "needs_background": "light"
     },
     "output_type": "display_data"
    },
    {
     "data": {
      "image/png": "[encoded data removed]",
      "text/plain": [
       "<Figure size 720x360 with 1 Axes>"
      ]
     },
     "metadata": {
      "needs_background": "light"
     },
     "output_type": "display_data"
    }
   ],
   "source": [
    "import matplotlib.pyplot as plt\n",
    "import seaborn as sns\n",
    "for i in categorical.columns:\n",
    "    sns.countplot(x=df[i],hue='hotel',data=df)\n",
    "    plt.rcParams['figure.figsize'] = [10, 5]\n",
    "    plt.show()"
   ]
  },
  {
   "cell_type": "code",
   "execution_count": 22,
   "id": "d7e7e192",
   "metadata": {},
   "outputs": [
    {
     "data": {
      "text/plain": [
       "Index(['arrival_date_year', 'arrival_date_day_of_month',\n",
       "       'stays_in_weekend_nights', 'stays_in_week_nights', 'adults', 'children',\n",
       "       'babies', 'previous_cancellations', 'previous_bookings_not_canceled',\n",
       "       'days_in_waiting_list'],\n",
       "      dtype='object')"
      ]
     },
     "execution_count": 22,
     "metadata": {},
     "output_type": "execute_result"
    }
   ],
   "source": [
    "numerical=df.select_dtypes(include=np.number)\n",
    "numerical.columns"
   ]
  },
  {
   "cell_type": "code",
   "execution_count": 23,
   "id": "e4bf53e7",
   "metadata": {},
   "outputs": [
    {
     "name": "stdout",
     "output_type": "stream",
     "text": [
      "0.0\n",
      "0.0\n",
      "5.27579277331093e-261\n",
      "0.0\n",
      "0.0\n",
      "1.2066788193553278e-179\n",
      "0.0\n",
      "9.068736910619017e-101\n",
      "1.3274291817147522e-26\n",
      "1.8870976204942785e-17\n"
     ]
    }
   ],
   "source": [
    "from scipy.stats import ttest_ind\n",
    "for i in numerical:\n",
    "    stats,p=ttest_ind(df[i],df['is_canceled'])\n",
    "    print(p)"
   ]
  },
  {
   "cell_type": "markdown",
   "id": "69865709",
   "metadata": {},
   "source": [
    "**Check for the Outliers**"
   ]
  },
  {
   "cell_type": "code",
   "execution_count": 24,
   "id": "51996154",
   "metadata": {},
   "outputs": [
    {
     "data": {
      "image/png": "[encoded data removed]",
      "text/plain": [
       "<Figure size 720x360 with 1 Axes>"
      ]
     },
     "metadata": {
      "needs_background": "light"
     },
     "output_type": "display_data"
    },
    {
     "data": {
      "image/png": "[encoded data removed]",
      "text/plain": [
       "<Figure size 720x360 with 1 Axes>"
      ]
     },
     "metadata": {
      "needs_background": "light"
     },
     "output_type": "display_data"
    },
    {
     "data": {
      "image/png": "[encoded data removed]",
      "text/plain": [
       "<Figure size 720x360 with 1 Axes>"
      ]
     },
     "metadata": {
      "needs_background": "light"
     },
     "output_type": "display_data"
    },
    {
     "data": {
      "image/png": "[encoded data removed]",
      "text/plain": [
       "<Figure size 720x360 with 1 Axes>"
      ]
     },
     "metadata": {
      "needs_background": "light"
     },
     "output_type": "display_data"
    },
    {
     "data": {
      "image/png": "[encoded data removed]",
      "text/plain": [
       "<Figure size 720x360 with 1 Axes>"
      ]
     },
     "metadata": {
      "needs_background": "light"
     },
     "output_type": "display_data"
    },
    {
     "data": {
      "image/png": "[encoded data removed]",
      "text/plain": [
       "<Figure size 720x360 with 1 Axes>"
      ]
     },
     "metadata": {
      "needs_background": "light"
     },
     "output_type": "display_data"
    },
    {
     "data": {
      "image/png": "[encoded data removed]",
      "text/plain": [
       "<Figure size 720x360 with 1 Axes>"
      ]
     },
     "metadata": {
      "needs_background": "light"
     },
     "output_type": "display_data"
    },
    {
     "data": {
      "image/png": "[encoded data removed]",
      "text/plain": [
       "<Figure size 720x360 with 1 Axes>"
      ]
     },
     "metadata": {
      "needs_background": "light"
     },
     "output_type": "display_data"
    },
    {
     "data": {
      "image/png": "[encoded data removed]",
      "text/plain": [
       "<Figure size 720x360 with 1 Axes>"
      ]
     },
     "metadata": {
      "needs_background": "light"
     },
     "output_type": "display_data"
    },
    {
     "data": {
      "image/png": "[encoded data removed]",
      "text/plain": [
       "<Figure size 720x360 with 1 Axes>"
      ]
     },
     "metadata": {
      "needs_background": "light"
     },
     "output_type": "display_data"
    }
   ],
   "source": [
    "for a in numerical.columns:\n",
    "    df[a].plot.box(patch_artist=True,vert=False)\n",
    "    plt.show()"
   ]
  },
  {
   "cell_type": "markdown",
   "id": "b22f1f72",
   "metadata": {},
   "source": [
    "**Finding the Outliers**"
   ]
  },
  {
   "cell_type": "code",
   "execution_count": 25,
   "id": "013648bb",
   "metadata": {},
   "outputs": [
    {
     "name": "stdout",
     "output_type": "stream",
     "text": [
      "IQR 1.0\n",
      "IQR 15.0\n",
      "IQR 2.0\n",
      "IQR 2.0\n",
      "IQR 0.0\n",
      "IQR 0.0\n",
      "IQR 0.0\n",
      "IQR 0.0\n",
      "IQR 0.0\n",
      "IQR 0.0\n"
     ]
    }
   ],
   "source": [
    "for x in numerical:\n",
    "    IQR=df[x].quantile(0.75)-df[x].quantile(0.25)\n",
    "    print('IQR',IQR)"
   ]
  },
  {
   "cell_type": "code",
   "execution_count": 26,
   "id": "3ce0d932",
   "metadata": {},
   "outputs": [
    {
     "name": "stdout",
     "output_type": "stream",
     "text": [
      "0.0\n",
      "0.0\n"
     ]
    }
   ],
   "source": [
    "lowerend=df.days_in_waiting_list.quantile(0.25)\n",
    "upperend=df.days_in_waiting_list.quantile(0.75)\n",
    "print(lowerend)\n",
    "print(upperend)"
   ]
  },
  {
   "cell_type": "markdown",
   "id": "3e7c4222",
   "metadata": {},
   "source": [
    "Drop the variable which are not useful in prediction"
   ]
  },
  {
   "cell_type": "code",
   "execution_count": 27,
   "id": "1a999ec0",
   "metadata": {},
   "outputs": [],
   "source": [
    "df=df.drop(['previous_cancellations'],axis=1)\n",
    "df=df.drop(['days_in_waiting_list','previous_bookings_not_canceled'],axis=1)"
   ]
  },
  {
   "cell_type": "code",
   "execution_count": 48,
   "id": "160f6e2b",
   "metadata": {},
   "outputs": [
    {
     "name": "stdout",
     "output_type": "stream",
     "text": [
      "<class 'pandas.core.frame.DataFrame'>\n",
      "RangeIndex: 5000 entries, 0 to 4999\n",
      "Data columns (total 20 columns):\n",
      " #   Column                       Non-Null Count  Dtype \n",
      "---  ------                       --------------  ----- \n",
      " 0   hotel                        5000 non-null   object\n",
      " 1   is_canceled                  5000 non-null   object\n",
      " 2   arrival_date_year            5000 non-null   int64 \n",
      " 3   arrival_date_month           5000 non-null   object\n",
      " 4   arrival_date_day_of_month    5000 non-null   int64 \n",
      " 5   stays_in_weekend_nights      5000 non-null   int64 \n",
      " 6   stays_in_week_nights         5000 non-null   int64 \n",
      " 7   adults                       5000 non-null   int64 \n",
      " 8   children                     5000 non-null   int64 \n",
      " 9   babies                       5000 non-null   int64 \n",
      " 10  meal                         5000 non-null   object\n",
      " 11  country                      5000 non-null   object\n",
      " 12  distribution_channel         5000 non-null   object\n",
      " 13  is_repeated_guest            5000 non-null   object\n",
      " 14  reserved_room_type           5000 non-null   object\n",
      " 15  assigned_room_type           5000 non-null   object\n",
      " 16  deposit_type                 5000 non-null   object\n",
      " 17  customer_type                5000 non-null   object\n",
      " 18  required_car_parking_spaces  5000 non-null   object\n",
      " 19  reservation_status           5000 non-null   object\n",
      "dtypes: int64(7), object(13)\n",
      "memory usage: 527.4+ KB\n"
     ]
    }
   ],
   "source": [
    "df.info()"
   ]
  },
  {
   "cell_type": "markdown",
   "id": "f9548980",
   "metadata": {},
   "source": [
    "Separating the categorical variables"
   ]
  },
  {
   "cell_type": "code",
   "execution_count": 50,
   "id": "026e3f1f",
   "metadata": {},
   "outputs": [
    {
     "data": {
      "text/html": [
       "<div>\n",
       "<style scoped>\n",
       "    .dataframe tbody tr th:only-of-type {\n",
       "        vertical-align: middle;\n",
       "    }\n",
       "\n",
       "    .dataframe tbody tr th {\n",
       "        vertical-align: top;\n",
       "    }\n",
       "\n",
       "    .dataframe thead th {\n",
       "        text-align: right;\n",
       "    }\n",
       "</style>\n",
       "<table border=\"1\" class=\"dataframe\">\n",
       "  <thead>\n",
       "    <tr style=\"text-align: right;\">\n",
       "      <th></th>\n",
       "      <th>hotel</th>\n",
       "      <th>arrival_date_month</th>\n",
       "      <th>meal</th>\n",
       "      <th>country</th>\n",
       "      <th>distribution_channel</th>\n",
       "      <th>is_repeated_guest</th>\n",
       "      <th>reserved_room_type</th>\n",
       "      <th>assigned_room_type</th>\n",
       "      <th>deposit_type</th>\n",
       "      <th>customer_type</th>\n",
       "      <th>required_car_parking_spaces</th>\n",
       "      <th>reservation_status</th>\n",
       "    </tr>\n",
       "  </thead>\n",
       "  <tbody>\n",
       "    <tr>\n",
       "      <th>0</th>\n",
       "      <td>City Hotel</td>\n",
       "      <td>May</td>\n",
       "      <td>BB</td>\n",
       "      <td>PRT</td>\n",
       "      <td>TA/TO</td>\n",
       "      <td>0</td>\n",
       "      <td>A</td>\n",
       "      <td>A</td>\n",
       "      <td>No Deposit</td>\n",
       "      <td>Transient-Party</td>\n",
       "      <td>0</td>\n",
       "      <td>Check-Out</td>\n",
       "    </tr>\n",
       "    <tr>\n",
       "      <th>1</th>\n",
       "      <td>City Hotel</td>\n",
       "      <td>April</td>\n",
       "      <td>BB</td>\n",
       "      <td>GBR</td>\n",
       "      <td>Direct</td>\n",
       "      <td>0</td>\n",
       "      <td>A</td>\n",
       "      <td>A</td>\n",
       "      <td>No Deposit</td>\n",
       "      <td>Transient</td>\n",
       "      <td>0</td>\n",
       "      <td>Check-Out</td>\n",
       "    </tr>\n",
       "    <tr>\n",
       "      <th>2</th>\n",
       "      <td>City Hotel</td>\n",
       "      <td>June</td>\n",
       "      <td>BB</td>\n",
       "      <td>PRT</td>\n",
       "      <td>TA/TO</td>\n",
       "      <td>0</td>\n",
       "      <td>A</td>\n",
       "      <td>A</td>\n",
       "      <td>Non Refund</td>\n",
       "      <td>Transient</td>\n",
       "      <td>0</td>\n",
       "      <td>Canceled</td>\n",
       "    </tr>\n",
       "    <tr>\n",
       "      <th>3</th>\n",
       "      <td>City Hotel</td>\n",
       "      <td>August</td>\n",
       "      <td>SC</td>\n",
       "      <td>ESP</td>\n",
       "      <td>TA/TO</td>\n",
       "      <td>0</td>\n",
       "      <td>A</td>\n",
       "      <td>A</td>\n",
       "      <td>No Deposit</td>\n",
       "      <td>Transient</td>\n",
       "      <td>0</td>\n",
       "      <td>Check-Out</td>\n",
       "    </tr>\n",
       "    <tr>\n",
       "      <th>4</th>\n",
       "      <td>City Hotel</td>\n",
       "      <td>August</td>\n",
       "      <td>BB</td>\n",
       "      <td>FRA</td>\n",
       "      <td>TA/TO</td>\n",
       "      <td>0</td>\n",
       "      <td>G</td>\n",
       "      <td>G</td>\n",
       "      <td>No Deposit</td>\n",
       "      <td>Transient</td>\n",
       "      <td>0</td>\n",
       "      <td>Check-Out</td>\n",
       "    </tr>\n",
       "  </tbody>\n",
       "</table>\n",
       "</div>"
      ],
      "text/plain": [
       "        hotel arrival_date_month meal country distribution_channel  \\\n",
       "0  City Hotel                May   BB     PRT                TA/TO   \n",
       "1  City Hotel              April   BB     GBR               Direct   \n",
       "2  City Hotel               June   BB     PRT                TA/TO   \n",
       "3  City Hotel             August   SC     ESP                TA/TO   \n",
       "4  City Hotel             August   BB     FRA                TA/TO   \n",
       "\n",
       "  is_repeated_guest reserved_room_type assigned_room_type deposit_type  \\\n",
       "0                 0                  A                  A   No Deposit   \n",
       "1                 0                  A                  A   No Deposit   \n",
       "2                 0                  A                  A   Non Refund   \n",
       "3                 0                  A                  A   No Deposit   \n",
       "4                 0                  G                  G   No Deposit   \n",
       "\n",
       "     customer_type required_car_parking_spaces reservation_status  \n",
       "0  Transient-Party                           0          Check-Out  \n",
       "1        Transient                           0          Check-Out  \n",
       "2        Transient                           0           Canceled  \n",
       "3        Transient                           0          Check-Out  \n",
       "4        Transient                           0          Check-Out  "
      ]
     },
     "execution_count": 50,
     "metadata": {},
     "output_type": "execute_result"
    }
   ],
   "source": [
    "cat_var=df.select_dtypes(include='O')\n",
    "cat_var=cat_var.drop(['is_canceled'],axis=1)\n",
    "cat_var.head()"
   ]
  },
  {
   "cell_type": "code",
   "execution_count": 51,
   "id": "6081ecdf",
   "metadata": {},
   "outputs": [
    {
     "data": {
      "text/html": [
       "<div>\n",
       "<style scoped>\n",
       "    .dataframe tbody tr th:only-of-type {\n",
       "        vertical-align: middle;\n",
       "    }\n",
       "\n",
       "    .dataframe tbody tr th {\n",
       "        vertical-align: top;\n",
       "    }\n",
       "\n",
       "    .dataframe thead th {\n",
       "        text-align: right;\n",
       "    }\n",
       "</style>\n",
       "<table border=\"1\" class=\"dataframe\">\n",
       "  <thead>\n",
       "    <tr style=\"text-align: right;\">\n",
       "      <th></th>\n",
       "      <th>hotel_Resort Hotel</th>\n",
       "      <th>arrival_date_month_August</th>\n",
       "      <th>arrival_date_month_December</th>\n",
       "      <th>arrival_date_month_February</th>\n",
       "      <th>arrival_date_month_January</th>\n",
       "      <th>arrival_date_month_July</th>\n",
       "      <th>arrival_date_month_June</th>\n",
       "      <th>arrival_date_month_March</th>\n",
       "      <th>arrival_date_month_May</th>\n",
       "      <th>arrival_date_month_November</th>\n",
       "      <th>...</th>\n",
       "      <th>assigned_room_type_K</th>\n",
       "      <th>deposit_type_Non Refund</th>\n",
       "      <th>deposit_type_Refundable</th>\n",
       "      <th>customer_type_Group</th>\n",
       "      <th>customer_type_Transient</th>\n",
       "      <th>customer_type_Transient-Party</th>\n",
       "      <th>required_car_parking_spaces_1</th>\n",
       "      <th>required_car_parking_spaces_3</th>\n",
       "      <th>reservation_status_Check-Out</th>\n",
       "      <th>reservation_status_No-Show</th>\n",
       "    </tr>\n",
       "  </thead>\n",
       "  <tbody>\n",
       "    <tr>\n",
       "      <th>0</th>\n",
       "      <td>0</td>\n",
       "      <td>0</td>\n",
       "      <td>0</td>\n",
       "      <td>0</td>\n",
       "      <td>0</td>\n",
       "      <td>0</td>\n",
       "      <td>0</td>\n",
       "      <td>0</td>\n",
       "      <td>1</td>\n",
       "      <td>0</td>\n",
       "      <td>...</td>\n",
       "      <td>0</td>\n",
       "      <td>0</td>\n",
       "      <td>0</td>\n",
       "      <td>0</td>\n",
       "      <td>0</td>\n",
       "      <td>1</td>\n",
       "      <td>0</td>\n",
       "      <td>0</td>\n",
       "      <td>1</td>\n",
       "      <td>0</td>\n",
       "    </tr>\n",
       "    <tr>\n",
       "      <th>1</th>\n",
       "      <td>0</td>\n",
       "      <td>0</td>\n",
       "      <td>0</td>\n",
       "      <td>0</td>\n",
       "      <td>0</td>\n",
       "      <td>0</td>\n",
       "      <td>0</td>\n",
       "      <td>0</td>\n",
       "      <td>0</td>\n",
       "      <td>0</td>\n",
       "      <td>...</td>\n",
       "      <td>0</td>\n",
       "      <td>0</td>\n",
       "      <td>0</td>\n",
       "      <td>0</td>\n",
       "      <td>1</td>\n",
       "      <td>0</td>\n",
       "      <td>0</td>\n",
       "      <td>0</td>\n",
       "      <td>1</td>\n",
       "      <td>0</td>\n",
       "    </tr>\n",
       "    <tr>\n",
       "      <th>2</th>\n",
       "      <td>0</td>\n",
       "      <td>0</td>\n",
       "      <td>0</td>\n",
       "      <td>0</td>\n",
       "      <td>0</td>\n",
       "      <td>0</td>\n",
       "      <td>1</td>\n",
       "      <td>0</td>\n",
       "      <td>0</td>\n",
       "      <td>0</td>\n",
       "      <td>...</td>\n",
       "      <td>0</td>\n",
       "      <td>1</td>\n",
       "      <td>0</td>\n",
       "      <td>0</td>\n",
       "      <td>1</td>\n",
       "      <td>0</td>\n",
       "      <td>0</td>\n",
       "      <td>0</td>\n",
       "      <td>0</td>\n",
       "      <td>0</td>\n",
       "    </tr>\n",
       "    <tr>\n",
       "      <th>3</th>\n",
       "      <td>0</td>\n",
       "      <td>1</td>\n",
       "      <td>0</td>\n",
       "      <td>0</td>\n",
       "      <td>0</td>\n",
       "      <td>0</td>\n",
       "      <td>0</td>\n",
       "      <td>0</td>\n",
       "      <td>0</td>\n",
       "      <td>0</td>\n",
       "      <td>...</td>\n",
       "      <td>0</td>\n",
       "      <td>0</td>\n",
       "      <td>0</td>\n",
       "      <td>0</td>\n",
       "      <td>1</td>\n",
       "      <td>0</td>\n",
       "      <td>0</td>\n",
       "      <td>0</td>\n",
       "      <td>1</td>\n",
       "      <td>0</td>\n",
       "    </tr>\n",
       "    <tr>\n",
       "      <th>4</th>\n",
       "      <td>0</td>\n",
       "      <td>1</td>\n",
       "      <td>0</td>\n",
       "      <td>0</td>\n",
       "      <td>0</td>\n",
       "      <td>0</td>\n",
       "      <td>0</td>\n",
       "      <td>0</td>\n",
       "      <td>0</td>\n",
       "      <td>0</td>\n",
       "      <td>...</td>\n",
       "      <td>0</td>\n",
       "      <td>0</td>\n",
       "      <td>0</td>\n",
       "      <td>0</td>\n",
       "      <td>1</td>\n",
       "      <td>0</td>\n",
       "      <td>0</td>\n",
       "      <td>0</td>\n",
       "      <td>1</td>\n",
       "      <td>0</td>\n",
       "    </tr>\n",
       "    <tr>\n",
       "      <th>...</th>\n",
       "      <td>...</td>\n",
       "      <td>...</td>\n",
       "      <td>...</td>\n",
       "      <td>...</td>\n",
       "      <td>...</td>\n",
       "      <td>...</td>\n",
       "      <td>...</td>\n",
       "      <td>...</td>\n",
       "      <td>...</td>\n",
       "      <td>...</td>\n",
       "      <td>...</td>\n",
       "      <td>...</td>\n",
       "      <td>...</td>\n",
       "      <td>...</td>\n",
       "      <td>...</td>\n",
       "      <td>...</td>\n",
       "      <td>...</td>\n",
       "      <td>...</td>\n",
       "      <td>...</td>\n",
       "      <td>...</td>\n",
       "      <td>...</td>\n",
       "    </tr>\n",
       "    <tr>\n",
       "      <th>4995</th>\n",
       "      <td>0</td>\n",
       "      <td>0</td>\n",
       "      <td>0</td>\n",
       "      <td>0</td>\n",
       "      <td>0</td>\n",
       "      <td>0</td>\n",
       "      <td>0</td>\n",
       "      <td>0</td>\n",
       "      <td>0</td>\n",
       "      <td>0</td>\n",
       "      <td>...</td>\n",
       "      <td>0</td>\n",
       "      <td>0</td>\n",
       "      <td>0</td>\n",
       "      <td>0</td>\n",
       "      <td>1</td>\n",
       "      <td>0</td>\n",
       "      <td>0</td>\n",
       "      <td>0</td>\n",
       "      <td>1</td>\n",
       "      <td>0</td>\n",
       "    </tr>\n",
       "    <tr>\n",
       "      <th>4996</th>\n",
       "      <td>1</td>\n",
       "      <td>0</td>\n",
       "      <td>0</td>\n",
       "      <td>0</td>\n",
       "      <td>0</td>\n",
       "      <td>1</td>\n",
       "      <td>0</td>\n",
       "      <td>0</td>\n",
       "      <td>0</td>\n",
       "      <td>0</td>\n",
       "      <td>...</td>\n",
       "      <td>0</td>\n",
       "      <td>0</td>\n",
       "      <td>0</td>\n",
       "      <td>0</td>\n",
       "      <td>1</td>\n",
       "      <td>0</td>\n",
       "      <td>0</td>\n",
       "      <td>0</td>\n",
       "      <td>0</td>\n",
       "      <td>0</td>\n",
       "    </tr>\n",
       "    <tr>\n",
       "      <th>4997</th>\n",
       "      <td>1</td>\n",
       "      <td>1</td>\n",
       "      <td>0</td>\n",
       "      <td>0</td>\n",
       "      <td>0</td>\n",
       "      <td>0</td>\n",
       "      <td>0</td>\n",
       "      <td>0</td>\n",
       "      <td>0</td>\n",
       "      <td>0</td>\n",
       "      <td>...</td>\n",
       "      <td>0</td>\n",
       "      <td>0</td>\n",
       "      <td>0</td>\n",
       "      <td>0</td>\n",
       "      <td>1</td>\n",
       "      <td>0</td>\n",
       "      <td>0</td>\n",
       "      <td>0</td>\n",
       "      <td>1</td>\n",
       "      <td>0</td>\n",
       "    </tr>\n",
       "    <tr>\n",
       "      <th>4998</th>\n",
       "      <td>0</td>\n",
       "      <td>0</td>\n",
       "      <td>0</td>\n",
       "      <td>0</td>\n",
       "      <td>0</td>\n",
       "      <td>0</td>\n",
       "      <td>0</td>\n",
       "      <td>0</td>\n",
       "      <td>0</td>\n",
       "      <td>1</td>\n",
       "      <td>...</td>\n",
       "      <td>0</td>\n",
       "      <td>0</td>\n",
       "      <td>0</td>\n",
       "      <td>0</td>\n",
       "      <td>1</td>\n",
       "      <td>0</td>\n",
       "      <td>0</td>\n",
       "      <td>0</td>\n",
       "      <td>0</td>\n",
       "      <td>0</td>\n",
       "    </tr>\n",
       "    <tr>\n",
       "      <th>4999</th>\n",
       "      <td>0</td>\n",
       "      <td>0</td>\n",
       "      <td>0</td>\n",
       "      <td>0</td>\n",
       "      <td>0</td>\n",
       "      <td>0</td>\n",
       "      <td>0</td>\n",
       "      <td>0</td>\n",
       "      <td>0</td>\n",
       "      <td>0</td>\n",
       "      <td>...</td>\n",
       "      <td>0</td>\n",
       "      <td>0</td>\n",
       "      <td>0</td>\n",
       "      <td>0</td>\n",
       "      <td>0</td>\n",
       "      <td>1</td>\n",
       "      <td>0</td>\n",
       "      <td>0</td>\n",
       "      <td>1</td>\n",
       "      <td>0</td>\n",
       "    </tr>\n",
       "  </tbody>\n",
       "</table>\n",
       "<p>5000 rows × 131 columns</p>\n",
       "</div>"
      ],
      "text/plain": [
       "      hotel_Resort Hotel  arrival_date_month_August  \\\n",
       "0                      0                          0   \n",
       "1                      0                          0   \n",
       "2                      0                          0   \n",
       "3                      0                          1   \n",
       "4                      0                          1   \n",
       "...                  ...                        ...   \n",
       "4995                   0                          0   \n",
       "4996                   1                          0   \n",
       "4997                   1                          1   \n",
       "4998                   0                          0   \n",
       "4999                   0                          0   \n",
       "\n",
       "      arrival_date_month_December  arrival_date_month_February  \\\n",
       "0                               0                            0   \n",
       "1                               0                            0   \n",
       "2                               0                            0   \n",
       "3                               0                            0   \n",
       "4                               0                            0   \n",
       "...                           ...                          ...   \n",
       "4995                            0                            0   \n",
       "4996                            0                            0   \n",
       "4997                            0                            0   \n",
       "4998                            0                            0   \n",
       "4999                            0                            0   \n",
       "\n",
       "      arrival_date_month_January  arrival_date_month_July  \\\n",
       "0                              0                        0   \n",
       "1                              0                        0   \n",
       "2                              0                        0   \n",
       "3                              0                        0   \n",
       "4                              0                        0   \n",
       "...                          ...                      ...   \n",
       "4995                           0                        0   \n",
       "4996                           0                        1   \n",
       "4997                           0                        0   \n",
       "4998                           0                        0   \n",
       "4999                           0                        0   \n",
       "\n",
       "      arrival_date_month_June  arrival_date_month_March  \\\n",
       "0                           0                         0   \n",
       "1                           0                         0   \n",
       "2                           1                         0   \n",
       "3                           0                         0   \n",
       "4                           0                         0   \n",
       "...                       ...                       ...   \n",
       "4995                        0                         0   \n",
       "4996                        0                         0   \n",
       "4997                        0                         0   \n",
       "4998                        0                         0   \n",
       "4999                        0                         0   \n",
       "\n",
       "      arrival_date_month_May  arrival_date_month_November  ...  \\\n",
       "0                          1                            0  ...   \n",
       "1                          0                            0  ...   \n",
       "2                          0                            0  ...   \n",
       "3                          0                            0  ...   \n",
       "4                          0                            0  ...   \n",
       "...                      ...                          ...  ...   \n",
       "4995                       0                            0  ...   \n",
       "4996                       0                            0  ...   \n",
       "4997                       0                            0  ...   \n",
       "4998                       0                            1  ...   \n",
       "4999                       0                            0  ...   \n",
       "\n",
       "      assigned_room_type_K  deposit_type_Non Refund  deposit_type_Refundable  \\\n",
       "0                        0                        0                        0   \n",
       "1                        0                        0                        0   \n",
       "2                        0                        1                        0   \n",
       "3                        0                        0                        0   \n",
       "4                        0                        0                        0   \n",
       "...                    ...                      ...                      ...   \n",
       "4995                     0                        0                        0   \n",
       "4996                     0                        0                        0   \n",
       "4997                     0                        0                        0   \n",
       "4998                     0                        0                        0   \n",
       "4999                     0                        0                        0   \n",
       "\n",
       "      customer_type_Group  customer_type_Transient  \\\n",
       "0                       0                        0   \n",
       "1                       0                        1   \n",
       "2                       0                        1   \n",
       "3                       0                        1   \n",
       "4                       0                        1   \n",
       "...                   ...                      ...   \n",
       "4995                    0                        1   \n",
       "4996                    0                        1   \n",
       "4997                    0                        1   \n",
       "4998                    0                        1   \n",
       "4999                    0                        0   \n",
       "\n",
       "      customer_type_Transient-Party  required_car_parking_spaces_1  \\\n",
       "0                                 1                              0   \n",
       "1                                 0                              0   \n",
       "2                                 0                              0   \n",
       "3                                 0                              0   \n",
       "4                                 0                              0   \n",
       "...                             ...                            ...   \n",
       "4995                              0                              0   \n",
       "4996                              0                              0   \n",
       "4997                              0                              0   \n",
       "4998                              0                              0   \n",
       "4999                              1                              0   \n",
       "\n",
       "      required_car_parking_spaces_3  reservation_status_Check-Out  \\\n",
       "0                                 0                             1   \n",
       "1                                 0                             1   \n",
       "2                                 0                             0   \n",
       "3                                 0                             1   \n",
       "4                                 0                             1   \n",
       "...                             ...                           ...   \n",
       "4995                              0                             1   \n",
       "4996                              0                             0   \n",
       "4997                              0                             1   \n",
       "4998                              0                             0   \n",
       "4999                              0                             1   \n",
       "\n",
       "      reservation_status_No-Show  \n",
       "0                              0  \n",
       "1                              0  \n",
       "2                              0  \n",
       "3                              0  \n",
       "4                              0  \n",
       "...                          ...  \n",
       "4995                           0  \n",
       "4996                           0  \n",
       "4997                           0  \n",
       "4998                           0  \n",
       "4999                           0  \n",
       "\n",
       "[5000 rows x 131 columns]"
      ]
     },
     "execution_count": 51,
     "metadata": {},
     "output_type": "execute_result"
    }
   ],
   "source": [
    "cat_dum=pd.get_dummies(cat_var,drop_first=True)\n",
    "cat_dum"
   ]
  },
  {
   "cell_type": "code",
   "execution_count": 54,
   "id": "55a4e2ef",
   "metadata": {},
   "outputs": [],
   "source": [
    "num=df.select_dtypes(include=np.number)"
   ]
  },
  {
   "cell_type": "code",
   "execution_count": 55,
   "id": "4f3f1cc0",
   "metadata": {},
   "outputs": [
    {
     "data": {
      "text/html": [
       "<div>\n",
       "<style scoped>\n",
       "    .dataframe tbody tr th:only-of-type {\n",
       "        vertical-align: middle;\n",
       "    }\n",
       "\n",
       "    .dataframe tbody tr th {\n",
       "        vertical-align: top;\n",
       "    }\n",
       "\n",
       "    .dataframe thead th {\n",
       "        text-align: right;\n",
       "    }\n",
       "</style>\n",
       "<table border=\"1\" class=\"dataframe\">\n",
       "  <thead>\n",
       "    <tr style=\"text-align: right;\">\n",
       "      <th></th>\n",
       "      <th>hotel_Resort Hotel</th>\n",
       "      <th>arrival_date_month_August</th>\n",
       "      <th>arrival_date_month_December</th>\n",
       "      <th>arrival_date_month_February</th>\n",
       "      <th>arrival_date_month_January</th>\n",
       "      <th>arrival_date_month_July</th>\n",
       "      <th>arrival_date_month_June</th>\n",
       "      <th>arrival_date_month_March</th>\n",
       "      <th>arrival_date_month_May</th>\n",
       "      <th>arrival_date_month_November</th>\n",
       "      <th>...</th>\n",
       "      <th>required_car_parking_spaces_3</th>\n",
       "      <th>reservation_status_Check-Out</th>\n",
       "      <th>reservation_status_No-Show</th>\n",
       "      <th>arrival_date_year</th>\n",
       "      <th>arrival_date_day_of_month</th>\n",
       "      <th>stays_in_weekend_nights</th>\n",
       "      <th>stays_in_week_nights</th>\n",
       "      <th>adults</th>\n",
       "      <th>children</th>\n",
       "      <th>babies</th>\n",
       "    </tr>\n",
       "  </thead>\n",
       "  <tbody>\n",
       "    <tr>\n",
       "      <th>0</th>\n",
       "      <td>0</td>\n",
       "      <td>0</td>\n",
       "      <td>0</td>\n",
       "      <td>0</td>\n",
       "      <td>0</td>\n",
       "      <td>0</td>\n",
       "      <td>0</td>\n",
       "      <td>0</td>\n",
       "      <td>1</td>\n",
       "      <td>0</td>\n",
       "      <td>...</td>\n",
       "      <td>0</td>\n",
       "      <td>1</td>\n",
       "      <td>0</td>\n",
       "      <td>2017</td>\n",
       "      <td>5</td>\n",
       "      <td>0</td>\n",
       "      <td>1</td>\n",
       "      <td>2</td>\n",
       "      <td>0</td>\n",
       "      <td>0</td>\n",
       "    </tr>\n",
       "    <tr>\n",
       "      <th>1</th>\n",
       "      <td>0</td>\n",
       "      <td>0</td>\n",
       "      <td>0</td>\n",
       "      <td>0</td>\n",
       "      <td>0</td>\n",
       "      <td>0</td>\n",
       "      <td>0</td>\n",
       "      <td>0</td>\n",
       "      <td>0</td>\n",
       "      <td>0</td>\n",
       "      <td>...</td>\n",
       "      <td>0</td>\n",
       "      <td>1</td>\n",
       "      <td>0</td>\n",
       "      <td>2017</td>\n",
       "      <td>7</td>\n",
       "      <td>0</td>\n",
       "      <td>1</td>\n",
       "      <td>1</td>\n",
       "      <td>0</td>\n",
       "      <td>0</td>\n",
       "    </tr>\n",
       "    <tr>\n",
       "      <th>2</th>\n",
       "      <td>0</td>\n",
       "      <td>0</td>\n",
       "      <td>0</td>\n",
       "      <td>0</td>\n",
       "      <td>0</td>\n",
       "      <td>0</td>\n",
       "      <td>1</td>\n",
       "      <td>0</td>\n",
       "      <td>0</td>\n",
       "      <td>0</td>\n",
       "      <td>...</td>\n",
       "      <td>0</td>\n",
       "      <td>0</td>\n",
       "      <td>0</td>\n",
       "      <td>2016</td>\n",
       "      <td>17</td>\n",
       "      <td>0</td>\n",
       "      <td>2</td>\n",
       "      <td>2</td>\n",
       "      <td>0</td>\n",
       "      <td>0</td>\n",
       "    </tr>\n",
       "    <tr>\n",
       "      <th>3</th>\n",
       "      <td>0</td>\n",
       "      <td>1</td>\n",
       "      <td>0</td>\n",
       "      <td>0</td>\n",
       "      <td>0</td>\n",
       "      <td>0</td>\n",
       "      <td>0</td>\n",
       "      <td>0</td>\n",
       "      <td>0</td>\n",
       "      <td>0</td>\n",
       "      <td>...</td>\n",
       "      <td>0</td>\n",
       "      <td>1</td>\n",
       "      <td>0</td>\n",
       "      <td>2016</td>\n",
       "      <td>16</td>\n",
       "      <td>0</td>\n",
       "      <td>3</td>\n",
       "      <td>2</td>\n",
       "      <td>0</td>\n",
       "      <td>0</td>\n",
       "    </tr>\n",
       "    <tr>\n",
       "      <th>4</th>\n",
       "      <td>0</td>\n",
       "      <td>1</td>\n",
       "      <td>0</td>\n",
       "      <td>0</td>\n",
       "      <td>0</td>\n",
       "      <td>0</td>\n",
       "      <td>0</td>\n",
       "      <td>0</td>\n",
       "      <td>0</td>\n",
       "      <td>0</td>\n",
       "      <td>...</td>\n",
       "      <td>0</td>\n",
       "      <td>1</td>\n",
       "      <td>0</td>\n",
       "      <td>2017</td>\n",
       "      <td>21</td>\n",
       "      <td>1</td>\n",
       "      <td>2</td>\n",
       "      <td>2</td>\n",
       "      <td>1</td>\n",
       "      <td>0</td>\n",
       "    </tr>\n",
       "    <tr>\n",
       "      <th>...</th>\n",
       "      <td>...</td>\n",
       "      <td>...</td>\n",
       "      <td>...</td>\n",
       "      <td>...</td>\n",
       "      <td>...</td>\n",
       "      <td>...</td>\n",
       "      <td>...</td>\n",
       "      <td>...</td>\n",
       "      <td>...</td>\n",
       "      <td>...</td>\n",
       "      <td>...</td>\n",
       "      <td>...</td>\n",
       "      <td>...</td>\n",
       "      <td>...</td>\n",
       "      <td>...</td>\n",
       "      <td>...</td>\n",
       "      <td>...</td>\n",
       "      <td>...</td>\n",
       "      <td>...</td>\n",
       "      <td>...</td>\n",
       "      <td>...</td>\n",
       "    </tr>\n",
       "    <tr>\n",
       "      <th>4995</th>\n",
       "      <td>0</td>\n",
       "      <td>0</td>\n",
       "      <td>0</td>\n",
       "      <td>0</td>\n",
       "      <td>0</td>\n",
       "      <td>0</td>\n",
       "      <td>0</td>\n",
       "      <td>0</td>\n",
       "      <td>0</td>\n",
       "      <td>0</td>\n",
       "      <td>...</td>\n",
       "      <td>0</td>\n",
       "      <td>1</td>\n",
       "      <td>0</td>\n",
       "      <td>2016</td>\n",
       "      <td>30</td>\n",
       "      <td>2</td>\n",
       "      <td>3</td>\n",
       "      <td>2</td>\n",
       "      <td>0</td>\n",
       "      <td>0</td>\n",
       "    </tr>\n",
       "    <tr>\n",
       "      <th>4996</th>\n",
       "      <td>1</td>\n",
       "      <td>0</td>\n",
       "      <td>0</td>\n",
       "      <td>0</td>\n",
       "      <td>0</td>\n",
       "      <td>1</td>\n",
       "      <td>0</td>\n",
       "      <td>0</td>\n",
       "      <td>0</td>\n",
       "      <td>0</td>\n",
       "      <td>...</td>\n",
       "      <td>0</td>\n",
       "      <td>0</td>\n",
       "      <td>0</td>\n",
       "      <td>2015</td>\n",
       "      <td>29</td>\n",
       "      <td>0</td>\n",
       "      <td>4</td>\n",
       "      <td>2</td>\n",
       "      <td>0</td>\n",
       "      <td>0</td>\n",
       "    </tr>\n",
       "    <tr>\n",
       "      <th>4997</th>\n",
       "      <td>1</td>\n",
       "      <td>1</td>\n",
       "      <td>0</td>\n",
       "      <td>0</td>\n",
       "      <td>0</td>\n",
       "      <td>0</td>\n",
       "      <td>0</td>\n",
       "      <td>0</td>\n",
       "      <td>0</td>\n",
       "      <td>0</td>\n",
       "      <td>...</td>\n",
       "      <td>0</td>\n",
       "      <td>1</td>\n",
       "      <td>0</td>\n",
       "      <td>2015</td>\n",
       "      <td>3</td>\n",
       "      <td>1</td>\n",
       "      <td>4</td>\n",
       "      <td>2</td>\n",
       "      <td>0</td>\n",
       "      <td>0</td>\n",
       "    </tr>\n",
       "    <tr>\n",
       "      <th>4998</th>\n",
       "      <td>0</td>\n",
       "      <td>0</td>\n",
       "      <td>0</td>\n",
       "      <td>0</td>\n",
       "      <td>0</td>\n",
       "      <td>0</td>\n",
       "      <td>0</td>\n",
       "      <td>0</td>\n",
       "      <td>0</td>\n",
       "      <td>1</td>\n",
       "      <td>...</td>\n",
       "      <td>0</td>\n",
       "      <td>0</td>\n",
       "      <td>0</td>\n",
       "      <td>2016</td>\n",
       "      <td>25</td>\n",
       "      <td>2</td>\n",
       "      <td>4</td>\n",
       "      <td>2</td>\n",
       "      <td>0</td>\n",
       "      <td>0</td>\n",
       "    </tr>\n",
       "    <tr>\n",
       "      <th>4999</th>\n",
       "      <td>0</td>\n",
       "      <td>0</td>\n",
       "      <td>0</td>\n",
       "      <td>0</td>\n",
       "      <td>0</td>\n",
       "      <td>0</td>\n",
       "      <td>0</td>\n",
       "      <td>0</td>\n",
       "      <td>0</td>\n",
       "      <td>0</td>\n",
       "      <td>...</td>\n",
       "      <td>0</td>\n",
       "      <td>1</td>\n",
       "      <td>0</td>\n",
       "      <td>2016</td>\n",
       "      <td>23</td>\n",
       "      <td>0</td>\n",
       "      <td>2</td>\n",
       "      <td>2</td>\n",
       "      <td>0</td>\n",
       "      <td>0</td>\n",
       "    </tr>\n",
       "  </tbody>\n",
       "</table>\n",
       "<p>5000 rows × 138 columns</p>\n",
       "</div>"
      ],
      "text/plain": [
       "      hotel_Resort Hotel  arrival_date_month_August  \\\n",
       "0                      0                          0   \n",
       "1                      0                          0   \n",
       "2                      0                          0   \n",
       "3                      0                          1   \n",
       "4                      0                          1   \n",
       "...                  ...                        ...   \n",
       "4995                   0                          0   \n",
       "4996                   1                          0   \n",
       "4997                   1                          1   \n",
       "4998                   0                          0   \n",
       "4999                   0                          0   \n",
       "\n",
       "      arrival_date_month_December  arrival_date_month_February  \\\n",
       "0                               0                            0   \n",
       "1                               0                            0   \n",
       "2                               0                            0   \n",
       "3                               0                            0   \n",
       "4                               0                            0   \n",
       "...                           ...                          ...   \n",
       "4995                            0                            0   \n",
       "4996                            0                            0   \n",
       "4997                            0                            0   \n",
       "4998                            0                            0   \n",
       "4999                            0                            0   \n",
       "\n",
       "      arrival_date_month_January  arrival_date_month_July  \\\n",
       "0                              0                        0   \n",
       "1                              0                        0   \n",
       "2                              0                        0   \n",
       "3                              0                        0   \n",
       "4                              0                        0   \n",
       "...                          ...                      ...   \n",
       "4995                           0                        0   \n",
       "4996                           0                        1   \n",
       "4997                           0                        0   \n",
       "4998                           0                        0   \n",
       "4999                           0                        0   \n",
       "\n",
       "      arrival_date_month_June  arrival_date_month_March  \\\n",
       "0                           0                         0   \n",
       "1                           0                         0   \n",
       "2                           1                         0   \n",
       "3                           0                         0   \n",
       "4                           0                         0   \n",
       "...                       ...                       ...   \n",
       "4995                        0                         0   \n",
       "4996                        0                         0   \n",
       "4997                        0                         0   \n",
       "4998                        0                         0   \n",
       "4999                        0                         0   \n",
       "\n",
       "      arrival_date_month_May  arrival_date_month_November  ...  \\\n",
       "0                          1                            0  ...   \n",
       "1                          0                            0  ...   \n",
       "2                          0                            0  ...   \n",
       "3                          0                            0  ...   \n",
       "4                          0                            0  ...   \n",
       "...                      ...                          ...  ...   \n",
       "4995                       0                            0  ...   \n",
       "4996                       0                            0  ...   \n",
       "4997                       0                            0  ...   \n",
       "4998                       0                            1  ...   \n",
       "4999                       0                            0  ...   \n",
       "\n",
       "      required_car_parking_spaces_3  reservation_status_Check-Out  \\\n",
       "0                                 0                             1   \n",
       "1                                 0                             1   \n",
       "2                                 0                             0   \n",
       "3                                 0                             1   \n",
       "4                                 0                             1   \n",
       "...                             ...                           ...   \n",
       "4995                              0                             1   \n",
       "4996                              0                             0   \n",
       "4997                              0                             1   \n",
       "4998                              0                             0   \n",
       "4999                              0                             1   \n",
       "\n",
       "      reservation_status_No-Show  arrival_date_year  \\\n",
       "0                              0               2017   \n",
       "1                              0               2017   \n",
       "2                              0               2016   \n",
       "3                              0               2016   \n",
       "4                              0               2017   \n",
       "...                          ...                ...   \n",
       "4995                           0               2016   \n",
       "4996                           0               2015   \n",
       "4997                           0               2015   \n",
       "4998                           0               2016   \n",
       "4999                           0               2016   \n",
       "\n",
       "      arrival_date_day_of_month  stays_in_weekend_nights  \\\n",
       "0                             5                        0   \n",
       "1                             7                        0   \n",
       "2                            17                        0   \n",
       "3                            16                        0   \n",
       "4                            21                        1   \n",
       "...                         ...                      ...   \n",
       "4995                         30                        2   \n",
       "4996                         29                        0   \n",
       "4997                          3                        1   \n",
       "4998                         25                        2   \n",
       "4999                         23                        0   \n",
       "\n",
       "      stays_in_week_nights  adults  children  babies  \n",
       "0                        1       2         0       0  \n",
       "1                        1       1         0       0  \n",
       "2                        2       2         0       0  \n",
       "3                        3       2         0       0  \n",
       "4                        2       2         1       0  \n",
       "...                    ...     ...       ...     ...  \n",
       "4995                     3       2         0       0  \n",
       "4996                     4       2         0       0  \n",
       "4997                     4       2         0       0  \n",
       "4998                     4       2         0       0  \n",
       "4999                     2       2         0       0  \n",
       "\n",
       "[5000 rows x 138 columns]"
      ]
     },
     "execution_count": 55,
     "metadata": {},
     "output_type": "execute_result"
    }
   ],
   "source": [
    "new_df=pd.concat([cat_dum,num],axis=1)\n",
    "new_df"
   ]
  },
  {
   "cell_type": "markdown",
   "id": "7df26a4b",
   "metadata": {},
   "source": [
    "**Training the model**"
   ]
  },
  {
   "cell_type": "code",
   "execution_count": 56,
   "id": "945c1983",
   "metadata": {},
   "outputs": [],
   "source": [
    "X=new_df\n",
    "Y=df['is_canceled']"
   ]
  },
  {
   "cell_type": "code",
   "execution_count": 57,
   "id": "1149a323",
   "metadata": {},
   "outputs": [],
   "source": [
    "x_train,x_test,y_train,y_test=train_test_split(X,Y,test_size=0.3)"
   ]
  },
  {
   "cell_type": "code",
   "execution_count": null,
   "id": "3dd12dba",
   "metadata": {},
   "outputs": [],
   "source": []
  },
  {
   "cell_type": "code",
   "execution_count": 60,
   "id": "88f68302",
   "metadata": {},
   "outputs": [],
   "source": [
    "from sklearn.linear_model import LogisticRegression"
   ]
  },
  {
   "cell_type": "code",
   "execution_count": 66,
   "id": "6804c2f5",
   "metadata": {},
   "outputs": [
    {
     "data": {
      "text/plain": [
       "LogisticRegression(solver='liblinear')"
      ]
     },
     "execution_count": 66,
     "metadata": {},
     "output_type": "execute_result"
    }
   ],
   "source": [
    "model= LogisticRegression(solver='liblinear')\n",
    "model.fit(x_train,y_train.astype(int))\n"
   ]
  },
  {
   "cell_type": "code",
   "execution_count": 67,
   "id": "77043a6e",
   "metadata": {},
   "outputs": [
    {
     "name": "stdout",
     "output_type": "stream",
     "text": [
      "Coefficient of model : [[-3.78120048e-01  8.84468431e-02 -7.17853903e-02 -8.07194926e-03\n",
      "  -1.04179753e-01  4.23170835e-03  3.94278020e-02 -1.15421396e-01\n",
      "   3.80254301e-02 -9.24392608e-02  3.02164885e-02  1.87987760e-02\n",
      "   6.87849797e-03 -3.96709015e-02 -4.27738468e-04 -6.33745013e-02\n",
      "  -2.66346396e-03  0.00000000e+00  1.28167832e-02 -4.46227313e-03\n",
      "  -3.13799623e-02 -3.34642392e-02  0.00000000e+00 -1.02665230e-01\n",
      "  -5.16370256e-03  3.74593522e-03  0.00000000e+00  5.05456932e-02\n",
      "  -8.01379370e-03 -7.28111627e-03  7.10112683e-02 -4.63109517e-03\n",
      "  -1.55097348e-03  2.69559473e-03 -3.14898385e-03 -2.53212411e-02\n",
      "  -2.26294935e-01 -3.59804890e-02 -2.88942642e-03 -5.09943937e-03\n",
      "  -8.28926472e-03 -8.50220869e-03  1.07149440e-02 -1.43803707e-04\n",
      "  -3.32514362e-02 -2.11175035e-01 -1.28298235e-01  0.00000000e+00\n",
      "   4.09069106e-03 -7.96987392e-03 -1.33269276e-02  7.75864787e-03\n",
      "  -1.10763396e-02 -2.94311176e-02 -2.06949464e-03  0.00000000e+00\n",
      "  -2.09775258e-03  8.55875262e-02  5.62438719e-03  2.31279321e-02\n",
      "   0.00000000e+00 -3.45838274e-03 -2.47571249e-03 -1.16627704e-02\n",
      "  -5.13909846e-03 -9.20574329e-03  0.00000000e+00  4.35670065e-02\n",
      "   0.00000000e+00  0.00000000e+00 -6.64920192e-03  0.00000000e+00\n",
      "  -2.59504915e-03 -6.08736818e-05  0.00000000e+00 -2.30774026e-03\n",
      "  -9.63385740e-03  8.51276149e-03 -6.64508441e-02  2.70552771e-02\n",
      "  -3.00638881e-03  0.00000000e+00 -4.72938156e-03 -4.66109288e-03\n",
      "   1.02414901e-02  7.46528090e-01  8.01152560e-03 -4.94680647e-03\n",
      "  -3.17340176e-02 -1.02041371e-02  0.00000000e+00 -2.37222683e-03\n",
      "  -1.72267793e-03 -2.92904938e-02  4.67360727e-03  7.29588715e-03\n",
      "   9.83638667e-03 -9.19367519e-03  1.64577787e-02 -1.59138330e-03\n",
      "  -3.60158958e-02  1.24253034e-02 -2.25291950e-01  8.66880221e-03\n",
      "   3.19523236e-01 -1.15038367e-01 -2.04480814e-02  4.18090686e-02\n",
      "   1.89514573e-01  2.04813051e-03 -1.37130792e-03 -1.22544814e-02\n",
      "   5.48415707e-03 -8.17022522e-02 -1.09381019e-01 -2.80633681e-01\n",
      "  -1.21434852e-01 -8.20533610e-02 -2.32183432e-02  5.32395355e-04\n",
      "  -2.85780411e-02 -2.82262144e-02  1.17637891e+00  2.21093857e-03\n",
      "  -2.32157867e-02  3.73280421e-01 -2.65380332e-01 -5.81772523e-01\n",
      "  -9.41412115e-03 -8.12137648e+00  2.64230950e-01  1.38048370e-03\n",
      "  -5.10205135e-03  9.86303627e-03  4.69480446e-02  1.49020573e-01\n",
      "   7.77617701e-02 -7.83498991e-02]]\n",
      "Intercept of model [-0.00031791]\n"
     ]
    }
   ],
   "source": [
    "print('Coefficient of model :', model.coef_)\n",
    "print('Intercept of model',model.intercept_)"
   ]
  },
  {
   "cell_type": "code",
   "execution_count": 68,
   "id": "11e3498b",
   "metadata": {},
   "outputs": [
    {
     "data": {
      "text/plain": [
       "array([0, 0, 1, ..., 0, 1, 0])"
      ]
     },
     "execution_count": 68,
     "metadata": {},
     "output_type": "execute_result"
    }
   ],
   "source": [
    "ypredict = model.predict(x_test)\n",
    "ypredict\n"
   ]
  },
  {
   "cell_type": "code",
   "execution_count": 70,
   "id": "0e1ab264",
   "metadata": {},
   "outputs": [
    {
     "name": "stdout",
     "output_type": "stream",
     "text": [
      "              precision    recall  f1-score   support\n",
      "\n",
      "           0       1.00      1.00      1.00       948\n",
      "           1       1.00      1.00      1.00       552\n",
      "\n",
      "    accuracy                           1.00      1500\n",
      "   macro avg       1.00      1.00      1.00      1500\n",
      "weighted avg       1.00      1.00      1.00      1500\n",
      "\n"
     ]
    }
   ],
   "source": [
    "print(classification_report(y_test.astype(int),ypredict))"
   ]
  },
  {
   "cell_type": "markdown",
   "id": "7b12d2e5",
   "metadata": {},
   "source": [
    "**Above result we got is without standard scalar**"
   ]
  },
  {
   "cell_type": "code",
   "execution_count": null,
   "id": "b1a5ec23",
   "metadata": {},
   "outputs": [],
   "source": []
  },
  {
   "cell_type": "code",
   "execution_count": null,
   "id": "1fd6689d",
   "metadata": {},
   "outputs": [],
   "source": []
  },
  {
   "cell_type": "code",
   "execution_count": null,
   "id": "bef227b0",
   "metadata": {},
   "outputs": [],
   "source": []
  },
  {
   "cell_type": "code",
   "execution_count": 71,
   "id": "9c08be50",
   "metadata": {},
   "outputs": [],
   "source": [
    "from sklearn.preprocessing import StandardScaler,MinMaxScaler"
   ]
  },
  {
   "cell_type": "code",
   "execution_count": 73,
   "id": "66a14cd4",
   "metadata": {},
   "outputs": [],
   "source": [
    "std_scaler=StandardScaler()\n",
    "std_scaler.fit(x_train)\n",
    "x_train_std=std_scaler.transform(x_train)\n",
    "x_test_std=std_scaler.transform(x_test)"
   ]
  },
  {
   "cell_type": "code",
   "execution_count": 75,
   "id": "c0729f42",
   "metadata": {},
   "outputs": [],
   "source": [
    "model=LogisticRegression(solver='liblinear')\n",
    "model.fit(x_train_std,y_train.astype(int))\n",
    "\n",
    "ypred=model.predict(x_test)\n",
    "\n"
   ]
  },
  {
   "cell_type": "code",
   "execution_count": 79,
   "id": "9616025d",
   "metadata": {},
   "outputs": [
    {
     "name": "stdout",
     "output_type": "stream",
     "text": [
      "              precision    recall  f1-score   support\n",
      "\n",
      "           0       0.00      0.00      0.00       948\n",
      "           1       0.37      1.00      0.54       552\n",
      "\n",
      "    accuracy                           0.37      1500\n",
      "   macro avg       0.18      0.50      0.27      1500\n",
      "weighted avg       0.14      0.37      0.20      1500\n",
      "\n"
     ]
    }
   ],
   "source": [
    "print(classification_report(y_test.astype(int),ypred))"
   ]
  },
  {
   "cell_type": "code",
   "execution_count": null,
   "id": "9c0f740d",
   "metadata": {},
   "outputs": [],
   "source": []
  }
 ],
 "metadata": {
  "kernelspec": {
   "display_name": "Python 3",
   "language": "python",
   "name": "python3"
  },
  "language_info": {
   "codemirror_mode": {
    "name": "ipython",
    "version": 3
   },
   "file_extension": ".py",
   "mimetype": "text/x-python",
   "name": "python",
   "nbconvert_exporter": "python",
   "pygments_lexer": "ipython3",
   "version": "3.8.8"
  }
 },
 "nbformat": 4,
 "nbformat_minor": 5
}
