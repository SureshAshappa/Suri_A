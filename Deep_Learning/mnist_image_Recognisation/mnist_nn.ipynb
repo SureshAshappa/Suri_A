{
 "cells": [
  {
   "cell_type": "code",
   "execution_count": 1,
   "id": "1e5dcb8b",
   "metadata": {},
   "outputs": [
    {
     "name": "stdout",
     "output_type": "stream",
     "text": [
      "Requirement already satisfied: tensorflow in c:\\users\\suresh a\\appdata\\roaming\\python\\python38\\site-packages (2.6.0)\n",
      "Requirement already satisfied: tensorflow-estimator~=2.6 in c:\\users\\suresh a\\appdata\\roaming\\python\\python38\\site-packages (from tensorflow) (2.6.0)\n",
      "Requirement already satisfied: wheel~=0.35 in c:\\programdata\\anaconda3\\new folder (2)\\lib\\site-packages (from tensorflow) (0.36.2)\n",
      "Requirement already satisfied: keras~=2.6 in c:\\users\\suresh a\\appdata\\roaming\\python\\python38\\site-packages (from tensorflow) (2.6.0)\n",
      "Requirement already satisfied: tensorboard~=2.6 in c:\\users\\suresh a\\appdata\\roaming\\python\\python38\\site-packages (from tensorflow) (2.6.0)\n",
      "Requirement already satisfied: grpcio<2.0,>=1.37.0 in c:\\users\\suresh a\\appdata\\roaming\\python\\python38\\site-packages (from tensorflow) (1.40.0)\n",
      "Requirement already satisfied: termcolor~=1.1.0 in c:\\users\\suresh a\\appdata\\roaming\\python\\python38\\site-packages (from tensorflow) (1.1.0)\n",
      "Requirement already satisfied: opt-einsum~=3.3.0 in c:\\users\\suresh a\\appdata\\roaming\\python\\python38\\site-packages (from tensorflow) (3.3.0)\n",
      "Requirement already satisfied: keras-preprocessing~=1.1.2 in c:\\users\\suresh a\\appdata\\roaming\\python\\python38\\site-packages (from tensorflow) (1.1.2)\n",
      "Requirement already satisfied: six~=1.15.0 in c:\\programdata\\anaconda3\\new folder (2)\\lib\\site-packages (from tensorflow) (1.15.0)\n",
      "Requirement already satisfied: numpy~=1.19.2 in c:\\users\\suresh a\\appdata\\roaming\\python\\python38\\site-packages (from tensorflow) (1.19.5)\n",
      "Requirement already satisfied: protobuf>=3.9.2 in c:\\users\\suresh a\\appdata\\roaming\\python\\python38\\site-packages (from tensorflow) (3.17.3)\n",
      "Requirement already satisfied: clang~=5.0 in c:\\users\\suresh a\\appdata\\roaming\\python\\python38\\site-packages (from tensorflow) (5.0)\n",
      "Requirement already satisfied: h5py~=3.1.0 in c:\\users\\suresh a\\appdata\\roaming\\python\\python38\\site-packages (from tensorflow) (3.1.0)\n",
      "Requirement already satisfied: wrapt~=1.12.1 in c:\\programdata\\anaconda3\\new folder (2)\\lib\\site-packages (from tensorflow) (1.12.1)\n",
      "Requirement already satisfied: astunparse~=1.6.3 in c:\\users\\suresh a\\appdata\\roaming\\python\\python38\\site-packages (from tensorflow) (1.6.3)\n",
      "Requirement already satisfied: flatbuffers~=1.12.0 in c:\\users\\suresh a\\appdata\\roaming\\python\\python38\\site-packages (from tensorflow) (1.12)\n",
      "Requirement already satisfied: google-pasta~=0.2 in c:\\users\\suresh a\\appdata\\roaming\\python\\python38\\site-packages (from tensorflow) (0.2.0)\n",
      "Requirement already satisfied: absl-py~=0.10 in c:\\users\\suresh a\\appdata\\roaming\\python\\python38\\site-packages (from tensorflow) (0.13.0)\n",
      "Requirement already satisfied: typing-extensions~=3.7.4 in c:\\programdata\\anaconda3\\new folder (2)\\lib\\site-packages (from tensorflow) (3.7.4.3)\n",
      "Requirement already satisfied: gast==0.4.0 in c:\\users\\suresh a\\appdata\\roaming\\python\\python38\\site-packages (from tensorflow) (0.4.0)\n",
      "Requirement already satisfied: werkzeug>=0.11.15 in c:\\programdata\\anaconda3\\new folder (2)\\lib\\site-packages (from tensorboard~=2.6->tensorflow) (1.0.1)\n",
      "Requirement already satisfied: google-auth-oauthlib<0.5,>=0.4.1 in c:\\users\\suresh a\\appdata\\roaming\\python\\python38\\site-packages (from tensorboard~=2.6->tensorflow) (0.4.6)\n",
      "Requirement already satisfied: setuptools>=41.0.0 in c:\\programdata\\anaconda3\\new folder (2)\\lib\\site-packages (from tensorboard~=2.6->tensorflow) (52.0.0.post20210125)\n",
      "Requirement already satisfied: tensorboard-data-server<0.7.0,>=0.6.0 in c:\\users\\suresh a\\appdata\\roaming\\python\\python38\\site-packages (from tensorboard~=2.6->tensorflow) (0.6.1)\n",
      "Requirement already satisfied: markdown>=2.6.8 in c:\\users\\suresh a\\appdata\\roaming\\python\\python38\\site-packages (from tensorboard~=2.6->tensorflow) (3.3.4)\n",
      "Requirement already satisfied: google-auth<2,>=1.6.3 in c:\\users\\suresh a\\appdata\\roaming\\python\\python38\\site-packages (from tensorboard~=2.6->tensorflow) (1.35.0)\n",
      "Requirement already satisfied: requests<3,>=2.21.0 in c:\\programdata\\anaconda3\\new folder (2)\\lib\\site-packages (from tensorboard~=2.6->tensorflow) (2.25.1)\n",
      "Requirement already satisfied: tensorboard-plugin-wit>=1.6.0 in c:\\users\\suresh a\\appdata\\roaming\\python\\python38\\site-packages (from tensorboard~=2.6->tensorflow) (1.8.0)\n",
      "Requirement already satisfied: pyasn1-modules>=0.2.1 in c:\\users\\suresh a\\appdata\\roaming\\python\\python38\\site-packages (from google-auth<2,>=1.6.3->tensorboard~=2.6->tensorflow) (0.2.8)\n",
      "Requirement already satisfied: rsa<5,>=3.1.4 in c:\\users\\suresh a\\appdata\\roaming\\python\\python38\\site-packages (from google-auth<2,>=1.6.3->tensorboard~=2.6->tensorflow) (4.7.2)\n",
      "Requirement already satisfied: cachetools<5.0,>=2.0.0 in c:\\users\\suresh a\\appdata\\roaming\\python\\python38\\site-packages (from google-auth<2,>=1.6.3->tensorboard~=2.6->tensorflow) (4.2.2)\n",
      "Requirement already satisfied: requests-oauthlib>=0.7.0 in c:\\users\\suresh a\\appdata\\roaming\\python\\python38\\site-packages (from google-auth-oauthlib<0.5,>=0.4.1->tensorboard~=2.6->tensorflow) (1.3.0)\n",
      "Requirement already satisfied: pyasn1<0.5.0,>=0.4.6 in c:\\users\\suresh a\\appdata\\roaming\\python\\python38\\site-packages (from pyasn1-modules>=0.2.1->google-auth<2,>=1.6.3->tensorboard~=2.6->tensorflow) (0.4.8)\n",
      "Requirement already satisfied: idna<3,>=2.5 in c:\\programdata\\anaconda3\\new folder (2)\\lib\\site-packages (from requests<3,>=2.21.0->tensorboard~=2.6->tensorflow) (2.10)\n",
      "Requirement already satisfied: urllib3<1.27,>=1.21.1 in c:\\programdata\\anaconda3\\new folder (2)\\lib\\site-packages (from requests<3,>=2.21.0->tensorboard~=2.6->tensorflow) (1.26.4)\n",
      "Requirement already satisfied: certifi>=2017.4.17 in c:\\programdata\\anaconda3\\new folder (2)\\lib\\site-packages (from requests<3,>=2.21.0->tensorboard~=2.6->tensorflow) (2020.12.5)\n",
      "Requirement already satisfied: chardet<5,>=3.0.2 in c:\\programdata\\anaconda3\\new folder (2)\\lib\\site-packages (from requests<3,>=2.21.0->tensorboard~=2.6->tensorflow) (4.0.0)\n",
      "Requirement already satisfied: oauthlib>=3.0.0 in c:\\users\\suresh a\\appdata\\roaming\\python\\python38\\site-packages (from requests-oauthlib>=0.7.0->google-auth-oauthlib<0.5,>=0.4.1->tensorboard~=2.6->tensorflow) (3.1.1)\n"
     ]
    }
   ],
   "source": [
    "!pip install tensorflow"
   ]
  },
  {
   "cell_type": "code",
   "execution_count": 3,
   "id": "8a880ccf",
   "metadata": {},
   "outputs": [],
   "source": [
    "from tensorflow import keras\n",
    "from keras.datasets import mnist\n",
    "from keras import models\n",
    "from keras import layers\n",
    "from tensorflow.keras.utils import to_categorical"
   ]
  },
  {
   "cell_type": "code",
   "execution_count": 4,
   "id": "74f98a3b",
   "metadata": {},
   "outputs": [],
   "source": [
    "#mnist as set of 60000 training images,\n",
    "#each 28*28 pixel assembled by the National \n",
    "#Institute of Standards and technology the(NIST in MNIST)in 1980s."
   ]
  },
  {
   "cell_type": "code",
   "execution_count": 15,
   "id": "4cf9fabc",
   "metadata": {},
   "outputs": [],
   "source": [
    "(train_images,train_labels),(test_images,test_labels)=mnist.load_data()"
   ]
  },
  {
   "cell_type": "code",
   "execution_count": 7,
   "id": "422cf80b",
   "metadata": {},
   "outputs": [],
   "source": [
    "#''''''the above images are encoded as numpy arrays, and the\n",
    "# labels are an array of digits, rangingfrom 0 to 9 .The images \n",
    "# and labels have a one-to-one correspondance''''''"
   ]
  },
  {
   "cell_type": "code",
   "execution_count": 8,
   "id": "a7cd6e44",
   "metadata": {},
   "outputs": [],
   "source": [
    "#train_images"
   ]
  },
  {
   "cell_type": "code",
   "execution_count": 16,
   "id": "9ea37e4f",
   "metadata": {},
   "outputs": [
    {
     "data": {
      "text/plain": [
       "(60000, 28, 28)"
      ]
     },
     "execution_count": 16,
     "metadata": {},
     "output_type": "execute_result"
    }
   ],
   "source": [
    "train_images.shape"
   ]
  },
  {
   "cell_type": "code",
   "execution_count": 17,
   "id": "fb168d34",
   "metadata": {},
   "outputs": [
    {
     "data": {
      "text/plain": [
       "array([[[0, 0, 0, ..., 0, 0, 0],\n",
       "        [0, 0, 0, ..., 0, 0, 0],\n",
       "        [0, 0, 0, ..., 0, 0, 0],\n",
       "        ...,\n",
       "        [0, 0, 0, ..., 0, 0, 0],\n",
       "        [0, 0, 0, ..., 0, 0, 0],\n",
       "        [0, 0, 0, ..., 0, 0, 0]],\n",
       "\n",
       "       [[0, 0, 0, ..., 0, 0, 0],\n",
       "        [0, 0, 0, ..., 0, 0, 0],\n",
       "        [0, 0, 0, ..., 0, 0, 0],\n",
       "        ...,\n",
       "        [0, 0, 0, ..., 0, 0, 0],\n",
       "        [0, 0, 0, ..., 0, 0, 0],\n",
       "        [0, 0, 0, ..., 0, 0, 0]],\n",
       "\n",
       "       [[0, 0, 0, ..., 0, 0, 0],\n",
       "        [0, 0, 0, ..., 0, 0, 0],\n",
       "        [0, 0, 0, ..., 0, 0, 0],\n",
       "        ...,\n",
       "        [0, 0, 0, ..., 0, 0, 0],\n",
       "        [0, 0, 0, ..., 0, 0, 0],\n",
       "        [0, 0, 0, ..., 0, 0, 0]],\n",
       "\n",
       "       ...,\n",
       "\n",
       "       [[0, 0, 0, ..., 0, 0, 0],\n",
       "        [0, 0, 0, ..., 0, 0, 0],\n",
       "        [0, 0, 0, ..., 0, 0, 0],\n",
       "        ...,\n",
       "        [0, 0, 0, ..., 0, 0, 0],\n",
       "        [0, 0, 0, ..., 0, 0, 0],\n",
       "        [0, 0, 0, ..., 0, 0, 0]],\n",
       "\n",
       "       [[0, 0, 0, ..., 0, 0, 0],\n",
       "        [0, 0, 0, ..., 0, 0, 0],\n",
       "        [0, 0, 0, ..., 0, 0, 0],\n",
       "        ...,\n",
       "        [0, 0, 0, ..., 0, 0, 0],\n",
       "        [0, 0, 0, ..., 0, 0, 0],\n",
       "        [0, 0, 0, ..., 0, 0, 0]],\n",
       "\n",
       "       [[0, 0, 0, ..., 0, 0, 0],\n",
       "        [0, 0, 0, ..., 0, 0, 0],\n",
       "        [0, 0, 0, ..., 0, 0, 0],\n",
       "        ...,\n",
       "        [0, 0, 0, ..., 0, 0, 0],\n",
       "        [0, 0, 0, ..., 0, 0, 0],\n",
       "        [0, 0, 0, ..., 0, 0, 0]]], dtype=uint8)"
      ]
     },
     "execution_count": 17,
     "metadata": {},
     "output_type": "execute_result"
    }
   ],
   "source": [
    "train_images #array of uint8(60000,28,28)"
   ]
  },
  {
   "cell_type": "code",
   "execution_count": 18,
   "id": "bb21f9a1",
   "metadata": {},
   "outputs": [
    {
     "data": {
      "text/plain": [
       "60000"
      ]
     },
     "execution_count": 18,
     "metadata": {},
     "output_type": "execute_result"
    }
   ],
   "source": [
    "#train_labels\n",
    "len(train_labels)"
   ]
  },
  {
   "cell_type": "code",
   "execution_count": 19,
   "id": "2162bf2c",
   "metadata": {},
   "outputs": [
    {
     "data": {
      "text/plain": [
       "array([5, 0, 4, ..., 5, 6, 8], dtype=uint8)"
      ]
     },
     "execution_count": 19,
     "metadata": {},
     "output_type": "execute_result"
    }
   ],
   "source": [
    "train_labels"
   ]
  },
  {
   "cell_type": "code",
   "execution_count": 13,
   "id": "14276695",
   "metadata": {},
   "outputs": [],
   "source": [
    "#Test data,10000"
   ]
  },
  {
   "cell_type": "code",
   "execution_count": 20,
   "id": "04d4300f",
   "metadata": {},
   "outputs": [
    {
     "data": {
      "text/plain": [
       "(10000, 28, 28)"
      ]
     },
     "execution_count": 20,
     "metadata": {},
     "output_type": "execute_result"
    }
   ],
   "source": [
    "test_images.shape"
   ]
  },
  {
   "cell_type": "code",
   "execution_count": 21,
   "id": "247674de",
   "metadata": {},
   "outputs": [
    {
     "data": {
      "text/plain": [
       "10000"
      ]
     },
     "execution_count": 21,
     "metadata": {},
     "output_type": "execute_result"
    }
   ],
   "source": [
    "len(test_labels)"
   ]
  },
  {
   "cell_type": "code",
   "execution_count": 22,
   "id": "a8226af7",
   "metadata": {},
   "outputs": [
    {
     "data": {
      "text/plain": [
       "array([7, 2, 1, ..., 4, 5, 6], dtype=uint8)"
      ]
     },
     "execution_count": 22,
     "metadata": {},
     "output_type": "execute_result"
    }
   ],
   "source": [
    "test_labels"
   ]
  },
  {
   "cell_type": "code",
   "execution_count": 23,
   "id": "92383528",
   "metadata": {},
   "outputs": [],
   "source": [
    "#THE NEURAL NETWORK"
   ]
  },
  {
   "cell_type": "code",
   "execution_count": 25,
   "id": "4fa90edc",
   "metadata": {},
   "outputs": [],
   "source": [
    "#the network architecture\n",
    "from keras import models\n",
    "from keras import layers"
   ]
  },
  {
   "cell_type": "code",
   "execution_count": 26,
   "id": "513fa90b",
   "metadata": {},
   "outputs": [],
   "source": [
    "network=models.Sequential()"
   ]
  },
  {
   "cell_type": "code",
   "execution_count": 27,
   "id": "fc72ad24",
   "metadata": {},
   "outputs": [],
   "source": [
    "network.add(layers.Dense(512,activation='relu',input_shape=(28*28,)))"
   ]
  },
  {
   "cell_type": "code",
   "execution_count": 28,
   "id": "4ec6ff47",
   "metadata": {},
   "outputs": [],
   "source": [
    "# \"relu-rectified linear unit f(x)=max(0,x)\n",
    "# the function returns 0 if it receives any negative input,\n",
    "# but for any positive value x,it returns that value back.\n",
    "# Thus it gives an output that has a range from 0 to infinity.\""
   ]
  },
  {
   "cell_type": "code",
   "execution_count": 29,
   "id": "d8ff2c45",
   "metadata": {},
   "outputs": [],
   "source": [
    "network.add(layers.Dense(10,activation=\"softmax\"))"
   ]
  },
  {
   "cell_type": "code",
   "execution_count": 30,
   "id": "d000363d",
   "metadata": {},
   "outputs": [],
   "source": [
    "# \"softmax layer,which means \n",
    "#it will return an array of 10 probability scores\""
   ]
  },
  {
   "cell_type": "code",
   "execution_count": 31,
   "id": "90bc2ce9",
   "metadata": {},
   "outputs": [],
   "source": [
    "#THE COMPILATION STEP"
   ]
  },
  {
   "cell_type": "code",
   "execution_count": 33,
   "id": "ea8291b7",
   "metadata": {},
   "outputs": [],
   "source": [
    "network.compile(optimizer='rmsprop',loss='categorical_crossentropy',\n",
    "               metrics=['accuracy'])"
   ]
  },
  {
   "cell_type": "code",
   "execution_count": 34,
   "id": "5b61342e",
   "metadata": {},
   "outputs": [],
   "source": [
    "#' loss function-To measure its performance on training dataset \n",
    "# optimizer-the mechanism through which the network will update\n",
    "# itself based on the data it sees and its loss function\n",
    "# metrics-Accuracy ie (the fraction of the images that were \n",
    "  #   correctly classified)'"
   ]
  },
  {
   "cell_type": "code",
   "execution_count": 35,
   "id": "9841b694",
   "metadata": {},
   "outputs": [],
   "source": [
    "#Re-shaping and scaling,train_data"
   ]
  },
  {
   "cell_type": "code",
   "execution_count": 36,
   "id": "99b090a7",
   "metadata": {},
   "outputs": [],
   "source": [
    "#Preparing the image data\n",
    "# \"Before traiining ,we'll preprocess the data by reshaping it into \n",
    "# the shape the networkexpects and scaling it so that all values are \n",
    "# in the [0,1] interval.\"  "
   ]
  },
  {
   "cell_type": "code",
   "execution_count": 37,
   "id": "cd67fb6b",
   "metadata": {},
   "outputs": [
    {
     "data": {
      "text/plain": [
       "(60000, 28, 28)"
      ]
     },
     "execution_count": 37,
     "metadata": {},
     "output_type": "execute_result"
    }
   ],
   "source": [
    "train_images.shape"
   ]
  },
  {
   "cell_type": "code",
   "execution_count": 38,
   "id": "17045e69",
   "metadata": {},
   "outputs": [],
   "source": [
    "train_images=train_images.reshape((60000,28*28))"
   ]
  },
  {
   "cell_type": "code",
   "execution_count": 39,
   "id": "0a100c09",
   "metadata": {},
   "outputs": [
    {
     "data": {
      "text/plain": [
       "(60000, 784)"
      ]
     },
     "execution_count": 39,
     "metadata": {},
     "output_type": "execute_result"
    }
   ],
   "source": [
    "train_images.shape #28*28=784"
   ]
  },
  {
   "cell_type": "code",
   "execution_count": 40,
   "id": "ffb886ed",
   "metadata": {},
   "outputs": [],
   "source": [
    "#scaling the data"
   ]
  },
  {
   "cell_type": "code",
   "execution_count": 41,
   "id": "968b1f37",
   "metadata": {},
   "outputs": [],
   "source": [
    "train_images=train_images.astype('float32')/255"
   ]
  },
  {
   "cell_type": "code",
   "execution_count": 42,
   "id": "05556e2f",
   "metadata": {},
   "outputs": [
    {
     "data": {
      "text/plain": [
       "array([[0., 0., 0., ..., 0., 0., 0.],\n",
       "       [0., 0., 0., ..., 0., 0., 0.],\n",
       "       [0., 0., 0., ..., 0., 0., 0.],\n",
       "       ...,\n",
       "       [0., 0., 0., ..., 0., 0., 0.],\n",
       "       [0., 0., 0., ..., 0., 0., 0.],\n",
       "       [0., 0., 0., ..., 0., 0., 0.]], dtype=float32)"
      ]
     },
     "execution_count": 42,
     "metadata": {},
     "output_type": "execute_result"
    }
   ],
   "source": [
    "train_images"
   ]
  },
  {
   "cell_type": "code",
   "execution_count": null,
   "id": "2cc41e13",
   "metadata": {},
   "outputs": [],
   "source": [
    "#RE-SHAPING & SCALING ,TEST_DATA"
   ]
  },
  {
   "cell_type": "code",
   "execution_count": 43,
   "id": "fe2589f6",
   "metadata": {},
   "outputs": [],
   "source": [
    "test_images=test_images.reshape((10000,28*28))#reshaping"
   ]
  },
  {
   "cell_type": "code",
   "execution_count": 44,
   "id": "7007aa62",
   "metadata": {},
   "outputs": [],
   "source": [
    "test_images=test_images.astype('float32')/255 #scaling"
   ]
  },
  {
   "cell_type": "code",
   "execution_count": 45,
   "id": "aaf1ae56",
   "metadata": {},
   "outputs": [
    {
     "data": {
      "text/plain": [
       "array([[0., 0., 0., ..., 0., 0., 0.],\n",
       "       [0., 0., 0., ..., 0., 0., 0.],\n",
       "       [0., 0., 0., ..., 0., 0., 0.],\n",
       "       ...,\n",
       "       [0., 0., 0., ..., 0., 0., 0.],\n",
       "       [0., 0., 0., ..., 0., 0., 0.],\n",
       "       [0., 0., 0., ..., 0., 0., 0.]], dtype=float32)"
      ]
     },
     "execution_count": 45,
     "metadata": {},
     "output_type": "execute_result"
    }
   ],
   "source": [
    "test_images"
   ]
  },
  {
   "cell_type": "code",
   "execution_count": null,
   "id": "cbbb9861",
   "metadata": {},
   "outputs": [],
   "source": [
    "#train _labels as categories\n",
    "#preparing the labels"
   ]
  },
  {
   "cell_type": "code",
   "execution_count": null,
   "id": "04b0b415",
   "metadata": {},
   "outputs": [],
   "source": [
    "from keras.utils import to_categorical"
   ]
  },
  {
   "cell_type": "code",
   "execution_count": 46,
   "id": "6ccafdc0",
   "metadata": {},
   "outputs": [],
   "source": [
    "train_labels=to_categorical(train_labels)"
   ]
  },
  {
   "cell_type": "code",
   "execution_count": 47,
   "id": "435bce4a",
   "metadata": {},
   "outputs": [
    {
     "data": {
      "text/plain": [
       "array([[0., 0., 0., ..., 0., 0., 0.],\n",
       "       [1., 0., 0., ..., 0., 0., 0.],\n",
       "       [0., 0., 0., ..., 0., 0., 0.],\n",
       "       ...,\n",
       "       [0., 0., 0., ..., 0., 0., 0.],\n",
       "       [0., 0., 0., ..., 0., 0., 0.],\n",
       "       [0., 0., 0., ..., 0., 1., 0.]], dtype=float32)"
      ]
     },
     "execution_count": 47,
     "metadata": {},
     "output_type": "execute_result"
    }
   ],
   "source": [
    "train_labels"
   ]
  },
  {
   "cell_type": "code",
   "execution_count": null,
   "id": "878afbf3",
   "metadata": {},
   "outputs": [],
   "source": [
    "# test_labels as categories"
   ]
  },
  {
   "cell_type": "code",
   "execution_count": 48,
   "id": "ccc0a20e",
   "metadata": {},
   "outputs": [],
   "source": [
    "test_labels=to_categorical(test_labels)"
   ]
  },
  {
   "cell_type": "code",
   "execution_count": 49,
   "id": "1184a676",
   "metadata": {},
   "outputs": [
    {
     "data": {
      "text/plain": [
       "array([[0., 0., 0., ..., 1., 0., 0.],\n",
       "       [0., 0., 1., ..., 0., 0., 0.],\n",
       "       [0., 1., 0., ..., 0., 0., 0.],\n",
       "       ...,\n",
       "       [0., 0., 0., ..., 0., 0., 0.],\n",
       "       [0., 0., 0., ..., 0., 0., 0.],\n",
       "       [0., 0., 0., ..., 0., 0., 0.]], dtype=float32)"
      ]
     },
     "execution_count": 49,
     "metadata": {},
     "output_type": "execute_result"
    }
   ],
   "source": [
    "test_labels"
   ]
  },
  {
   "cell_type": "code",
   "execution_count": 50,
   "id": "fb0e846c",
   "metadata": {},
   "outputs": [],
   "source": [
    "#RUN THE MODEL ON TRAIN DATA"
   ]
  },
  {
   "cell_type": "code",
   "execution_count": 51,
   "id": "56b00506",
   "metadata": {},
   "outputs": [
    {
     "name": "stdout",
     "output_type": "stream",
     "text": [
      "Epoch 1/5\n",
      "469/469 [==============================] - 5s 9ms/step - loss: 0.2570 - accuracy: 0.9246\n",
      "Epoch 2/5\n",
      "469/469 [==============================] - 4s 9ms/step - loss: 0.1040 - accuracy: 0.9691\n",
      "Epoch 3/5\n",
      "469/469 [==============================] - 4s 9ms/step - loss: 0.0675 - accuracy: 0.9798\n",
      "Epoch 4/5\n",
      "469/469 [==============================] - 4s 9ms/step - loss: 0.0487 - accuracy: 0.9847\n",
      "Epoch 5/5\n",
      "469/469 [==============================] - 5s 10ms/step - loss: 0.0372 - accuracy: 0.9890\n"
     ]
    },
    {
     "data": {
      "text/plain": [
       "<keras.callbacks.History at 0x2875c5fcfa0>"
      ]
     },
     "execution_count": 51,
     "metadata": {},
     "output_type": "execute_result"
    }
   ],
   "source": [
    "# fitting the model to its train data\n",
    "network.fit(train_images,train_labels,epochs=5,batch_size=128)\n",
    "#accuracy:0.9899 epoch5/5"
   ]
  },
  {
   "cell_type": "code",
   "execution_count": 52,
   "id": "a5b3b7d3",
   "metadata": {},
   "outputs": [],
   "source": [
    "#test data performance"
   ]
  },
  {
   "cell_type": "code",
   "execution_count": 53,
   "id": "9152d661",
   "metadata": {},
   "outputs": [
    {
     "name": "stdout",
     "output_type": "stream",
     "text": [
      "313/313 [==============================] - 1s 2ms/step - loss: 0.0762 - accuracy: 0.9778\n"
     ]
    }
   ],
   "source": [
    "test_loss,test_acc=network.evaluate(test_images,test_labels)"
   ]
  },
  {
   "cell_type": "code",
   "execution_count": 54,
   "id": "acae4d42",
   "metadata": {},
   "outputs": [
    {
     "name": "stdout",
     "output_type": "stream",
     "text": [
      "test_acc: 0.9778000116348267\n"
     ]
    }
   ],
   "source": [
    "print('test_acc:',test_acc)#test_acc:0.9794999957084656"
   ]
  },
  {
   "cell_type": "code",
   "execution_count": null,
   "id": "8b2b919f",
   "metadata": {},
   "outputs": [],
   "source": []
  }
 ],
 "metadata": {
  "kernelspec": {
   "display_name": "Python 3",
   "language": "python",
   "name": "python3"
  },
  "language_info": {
   "codemirror_mode": {
    "name": "ipython",
    "version": 3
   },
   "file_extension": ".py",
   "mimetype": "text/x-python",
   "name": "python",
   "nbconvert_exporter": "python",
   "pygments_lexer": "ipython3",
   "version": "3.8.8"
  }
 },
 "nbformat": 4,
 "nbformat_minor": 5
}
