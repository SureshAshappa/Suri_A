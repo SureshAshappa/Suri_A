{
 "cells": [
  {
   "cell_type": "code",
   "execution_count": null,
   "id": "6106f708",
   "metadata": {},
   "outputs": [],
   "source": []
  },
  {
   "cell_type": "code",
   "execution_count": 1,
   "id": "cddffa3e",
   "metadata": {},
   "outputs": [],
   "source": [
    "import h5py\n",
    "import pandas as pd \n",
    "import numpy as np\n",
    "from tensorflow import keras\n",
    "from keras.models import Sequential"
   ]
  },
  {
   "cell_type": "code",
   "execution_count": 2,
   "id": "c08482eb",
   "metadata": {},
   "outputs": [],
   "source": [
    "data = h5py.File('SVHN_single_grey1.h5', 'r')"
   ]
  },
  {
   "cell_type": "code",
   "execution_count": 3,
   "id": "bbccbb4d",
   "metadata": {},
   "outputs": [
    {
     "name": "stdout",
     "output_type": "stream",
     "text": [
      "Requirement already satisfied: h5py in c:\\users\\smile\\appdata\\roaming\\python\\python38\\site-packages (3.1.0)\n",
      "Requirement already satisfied: numpy>=1.17.5 in c:\\users\\smile\\anaconda3\\lib\\site-packages (from h5py) (1.19.5)\n"
     ]
    }
   ],
   "source": [
    "!pip install --no-binary=h5py h5py"
   ]
  },
  {
   "cell_type": "code",
   "execution_count": 4,
   "id": "dc0765c0",
   "metadata": {},
   "outputs": [],
   "source": [
    "#!pip install h5py"
   ]
  },
  {
   "cell_type": "code",
   "execution_count": 5,
   "id": "47c92c3b",
   "metadata": {},
   "outputs": [
    {
     "data": {
      "text/plain": [
       "['X_test', 'X_train', 'X_val', 'y_test', 'y_train', 'y_val']"
      ]
     },
     "execution_count": 5,
     "metadata": {},
     "output_type": "execute_result"
    }
   ],
   "source": [
    "list(data.keys())"
   ]
  },
  {
   "cell_type": "code",
   "execution_count": 6,
   "id": "6388b9e7",
   "metadata": {},
   "outputs": [],
   "source": [
    "x_train = data['X_train'][:]"
   ]
  },
  {
   "cell_type": "code",
   "execution_count": 7,
   "id": "39eedff6",
   "metadata": {},
   "outputs": [
    {
     "data": {
      "text/plain": [
       "(42000, 32, 32)"
      ]
     },
     "execution_count": 7,
     "metadata": {},
     "output_type": "execute_result"
    }
   ],
   "source": [
    "x_train.shape"
   ]
  },
  {
   "cell_type": "code",
   "execution_count": 8,
   "id": "d210874b",
   "metadata": {},
   "outputs": [
    {
     "data": {
      "text/plain": [
       "array([[[ 33.0704,  30.2601,  26.852 , ...,  71.4471,  58.2204,\n",
       "          42.9939],\n",
       "        [ 25.2283,  25.5533,  29.9765, ..., 113.0209, 103.3639,\n",
       "          84.2949],\n",
       "        [ 26.2775,  22.6137,  40.4763, ..., 113.3028, 121.775 ,\n",
       "         115.4228],\n",
       "        ...,\n",
       "        [ 28.5502,  36.212 ,  45.0801, ...,  24.1359,  25.0927,\n",
       "          26.0603],\n",
       "        [ 38.4352,  26.4733,  23.2717, ...,  28.1094,  29.4683,\n",
       "          30.0661],\n",
       "        [ 50.2984,  26.0773,  24.0389, ...,  49.6682,  50.853 ,\n",
       "          53.0377]],\n",
       "\n",
       "       [[ 86.9591,  87.0685,  88.3735, ...,  91.8014,  89.7477,\n",
       "          92.5302],\n",
       "        [ 86.688 ,  86.9114,  87.4337, ...,  90.7306,  87.204 ,\n",
       "          88.5629],\n",
       "        [ 85.9654,  85.8145,  85.9239, ...,  63.8626,  59.8199,\n",
       "          54.8805],\n",
       "        ...,\n",
       "        [ 90.2236,  91.0448,  93.4637, ...,  55.3535,  48.5822,\n",
       "          44.0557],\n",
       "        [ 90.6427,  90.4039,  90.937 , ...,  78.2696,  77.4977,\n",
       "          74.27  ],\n",
       "        [ 88.0236,  88.1977,  86.6709, ...,  75.2206,  76.6396,\n",
       "          79.2865]],\n",
       "\n",
       "       [[123.125 , 125.8581, 122.0757, ..., 123.5747, 124.1186,\n",
       "         123.3144],\n",
       "        [121.1683, 124.1294, 117.4613, ..., 115.6078, 119.5751,\n",
       "         122.8306],\n",
       "        [124.6132, 121.1019, 109.6623, ..., 111.1783, 119.7923,\n",
       "         124.7595],\n",
       "        ...,\n",
       "        [135.1391, 127.3679, 117.754 , ...,  95.0919, 105.5917,\n",
       "         114.9283],\n",
       "        [134.8402, 131.9545, 124.0415, ...,  93.864 , 105.3036,\n",
       "         115.1132],\n",
       "        [134.8402, 132.0685, 128.34  , ...,  93.9349, 104.7875,\n",
       "         113.8252]],\n",
       "\n",
       "       ...,\n",
       "\n",
       "       [[154.094 , 155.8057, 156.8164, ..., 138.9322, 136.1605,\n",
       "         133.0468],\n",
       "        [145.725 , 147.4367, 150.0343, ..., 145.4477, 140.9751,\n",
       "         136.9647],\n",
       "        [144.9531, 144.8391, 143.85  , ..., 143.263 , 143.263 ,\n",
       "         146.4799],\n",
       "        ...,\n",
       "        [150.2237, 150.8107, 150.1097, ...,  96.8207,  96.9239,\n",
       "          97.2228],\n",
       "        [151.6365, 152.2235, 151.1096, ..., 120.8892, 121.8891,\n",
       "         123.1771],\n",
       "        [146.5769, 147.9358, 147.9358, ..., 135.1328, 136.6596,\n",
       "         137.6595]],\n",
       "\n",
       "       [[207.4954, 208.4953, 213.0218, ..., 210.1361, 208.4244,\n",
       "         203.4357],\n",
       "        [204.4957, 207.6094, 213.6088, ..., 209.4243, 207.8374,\n",
       "         202.5498],\n",
       "        [204.3216, 208.3212, 212.9078, ..., 209.0222, 207.1364,\n",
       "         201.4359],\n",
       "        ...,\n",
       "        [199.1372, 202.083 , 207.4523, ..., 212.8477, 211.8478,\n",
       "         209.5491],\n",
       "        [201.137 , 201.61  , 205.2676, ..., 213.9616, 213.5487,\n",
       "         209.1362],\n",
       "        [202.9088, 202.9088, 206.9084, ..., 214.1357, 212.1359,\n",
       "         209.1362]],\n",
       "\n",
       "       [[ 95.0784,  96.0783, 100.0779, ..., 122.7551, 122.8691,\n",
       "         122.8691],\n",
       "        [ 95.0784,  96.0783, 100.0779, ..., 122.8691, 122.9831,\n",
       "         122.9831],\n",
       "        [ 95.0784,  96.0783, 101.0778, ..., 126.5698, 126.9827,\n",
       "         126.9827],\n",
       "        ...,\n",
       "        [ 98.833 ,  99.8329, 103.8325, ..., 129.8962, 131.896 ,\n",
       "         131.896 ],\n",
       "        [ 98.833 ,  99.8329, 103.8325, ..., 136.0805, 138.1943,\n",
       "         138.1943],\n",
       "        [ 98.833 ,  99.8329, 103.8325, ..., 138.0803, 140.493 ,\n",
       "         140.493 ]]], dtype=float32)"
      ]
     },
     "execution_count": 8,
     "metadata": {},
     "output_type": "execute_result"
    }
   ],
   "source": [
    "x_train"
   ]
  },
  {
   "cell_type": "code",
   "execution_count": 9,
   "id": "d9380b96",
   "metadata": {},
   "outputs": [],
   "source": [
    "y_train = data['y_train'][:]"
   ]
  },
  {
   "cell_type": "code",
   "execution_count": 10,
   "id": "64e5f180",
   "metadata": {},
   "outputs": [
    {
     "data": {
      "text/plain": [
       "(42000,)"
      ]
     },
     "execution_count": 10,
     "metadata": {},
     "output_type": "execute_result"
    }
   ],
   "source": [
    "y_train.shape"
   ]
  },
  {
   "cell_type": "code",
   "execution_count": 11,
   "id": "db12dc4f",
   "metadata": {},
   "outputs": [
    {
     "data": {
      "text/plain": [
       "array([2, 6, 7, ..., 7, 0, 4], dtype=uint8)"
      ]
     },
     "execution_count": 11,
     "metadata": {},
     "output_type": "execute_result"
    }
   ],
   "source": [
    "y_train"
   ]
  },
  {
   "cell_type": "code",
   "execution_count": 12,
   "id": "01c6e3cf",
   "metadata": {},
   "outputs": [],
   "source": [
    "x_test = data['X_test'][:]"
   ]
  },
  {
   "cell_type": "code",
   "execution_count": 13,
   "id": "cef38d16",
   "metadata": {},
   "outputs": [
    {
     "data": {
      "text/plain": [
       "(18000, 32, 32)"
      ]
     },
     "execution_count": 13,
     "metadata": {},
     "output_type": "execute_result"
    }
   ],
   "source": [
    "x_test.shape"
   ]
  },
  {
   "cell_type": "code",
   "execution_count": 14,
   "id": "6001795f",
   "metadata": {},
   "outputs": [
    {
     "data": {
      "text/plain": [
       "array([[[ 40.558 ,  46.7917,  48.9764, ..., 112.1153, 112.9904,\n",
       "         112.1646],\n",
       "        [ 39.4379,  44.2911,  47.1768, ..., 111.0122, 110.9475,\n",
       "         109.9368],\n",
       "        [ 38.4488,  43.6394,  48.7098, ..., 109.8921, 109.9414,\n",
       "         109.1048],\n",
       "        ...,\n",
       "        [ 34.9869,  35.4707,  39.6676, ..., 109.211 , 109.9074,\n",
       "         112.7346],\n",
       "        [ 35.6602,  35.5462,  40.3193, ..., 110.9998, 112.049 ,\n",
       "         114.3431],\n",
       "        [ 36.1871,  35.4214,  40.6998, ..., 110.0169, 111.2017,\n",
       "         114.1906]],\n",
       "\n",
       "       [[115.1609, 114.161 , 113.1611, ..., 112.0302, 112.6711,\n",
       "         112.7851],\n",
       "        [110.5743, 110.2754, 108.9766, ..., 106.1448, 106.7857,\n",
       "         107.0137],\n",
       "        [102.8031, 102.5042, 101.7924, ...,  95.776 ,  95.531 ,\n",
       "          95.645 ],\n",
       "        ...,\n",
       "        [169.8457, 170.6176, 167.8028, ...,  45.1708,  55.6967,\n",
       "          62.81  ],\n",
       "        [157.7329, 157.6189, 153.8042, ...,  42.9538,  50.1811,\n",
       "          56.1805],\n",
       "        [150.3207, 149.2068, 144.8051, ...,  42.1388,  48.2522,\n",
       "          53.2517]],\n",
       "\n",
       "       [[133.255 , 134.7279, 136.3148, ..., 103.7248, 100.8391,\n",
       "         100.6111],\n",
       "        [134.2549, 135.8418, 138.3146, ..., 117.1965, 114.1968,\n",
       "         114.0828],\n",
       "        [136.2547, 135.9558, 137.4287, ..., 126.8535, 123.7398,\n",
       "         123.4409],\n",
       "        ...,\n",
       "        [135.4136, 133.4847, 131.2569, ..., 129.0552, 131.642 ,\n",
       "         133.4569],\n",
       "        [129.3972, 128.7671, 127.8381, ..., 128.5822, 129.2832,\n",
       "         129.9842],\n",
       "        [119.0823, 120.8649, 123.0496, ..., 128.1801, 127.8103,\n",
       "         128.2124]],\n",
       "\n",
       "       ...,\n",
       "\n",
       "       [[166.1898, 164.7169, 162.8311, ...,  92.9414,  97.3431,\n",
       "          97.9301],\n",
       "        [164.6029, 163.717 , 162.1301, ...,  93.0554,  97.3431,\n",
       "          97.0442],\n",
       "        [161.9021, 161.9021, 161.1302, ...,  94.1693,  97.5711,\n",
       "          97.1582],\n",
       "        ...,\n",
       "        [ 75.0679,  84.8219,  96.8638, ..., 163.9019, 163.7879,\n",
       "         163.6739],\n",
       "        [ 81.0673,  87.2947,  93.935 , ..., 163.016 , 162.788 ,\n",
       "         162.674 ],\n",
       "        [ 86.7247,  89.4794,  92.8211, ..., 162.902 , 162.788 ,\n",
       "         162.674 ]],\n",
       "\n",
       "       [[137.5778, 136.6919, 134.8061, ..., 111.1397, 109.314 ,\n",
       "         108.0152],\n",
       "        [131.5784, 130.6925, 127.9208, ..., 107.1401, 105.5424,\n",
       "         104.2436],\n",
       "        [119.8076, 118.8077, 115.0361, ..., 101.2547,  99.771 ,\n",
       "          98.8851],\n",
       "        ...,\n",
       "        [130.0238, 129.0239, 125.1383, ..., 141.3755, 141.3755,\n",
       "         140.3756],\n",
       "        [134.0234, 134.0234, 133.1375, ..., 144.4892, 143.3753,\n",
       "         142.3754],\n",
       "        [136.0232, 137.0231, 138.137 , ..., 144.7881, 142.7883,\n",
       "         141.7884]],\n",
       "\n",
       "       [[ 30.182 ,  30.182 ,  30.182 , ...,  41.1208,  42.1207,\n",
       "          42.8217],\n",
       "        [ 30.182 ,  30.182 ,  29.595 , ...,  40.1209,  41.1208,\n",
       "          41.8218],\n",
       "        [ 29.8939,  29.8939,  28.894 , ...,  39.121 ,  40.1209,\n",
       "          40.1209],\n",
       "        ...,\n",
       "        [ 31.9431,  31.9431,  31.9431, ...,  51.4958,  50.9088,\n",
       "          49.9089],\n",
       "        [ 31.1712,  31.1712,  32.0571, ...,  40.2627,  39.9638,\n",
       "          39.2628],\n",
       "        [ 31.1712,  31.1712,  32.1711, ...,  35.0891,  34.6762,\n",
       "          34.0892]]], dtype=float32)"
      ]
     },
     "execution_count": 14,
     "metadata": {},
     "output_type": "execute_result"
    }
   ],
   "source": [
    "x_test"
   ]
  },
  {
   "cell_type": "code",
   "execution_count": 15,
   "id": "83bfad0c",
   "metadata": {},
   "outputs": [],
   "source": [
    "y_test = data['y_test'][:]"
   ]
  },
  {
   "cell_type": "code",
   "execution_count": 16,
   "id": "94dc3e6c",
   "metadata": {},
   "outputs": [
    {
     "data": {
      "text/plain": [
       "(18000,)"
      ]
     },
     "execution_count": 16,
     "metadata": {},
     "output_type": "execute_result"
    }
   ],
   "source": [
    "y_test.shape"
   ]
  },
  {
   "cell_type": "code",
   "execution_count": 17,
   "id": "c4a5e608",
   "metadata": {},
   "outputs": [
    {
     "data": {
      "text/plain": [
       "array([1, 7, 2, ..., 7, 9, 2], dtype=uint8)"
      ]
     },
     "execution_count": 17,
     "metadata": {},
     "output_type": "execute_result"
    }
   ],
   "source": [
    "y_test"
   ]
  },
  {
   "cell_type": "markdown",
   "id": "e3a0cd1a",
   "metadata": {},
   "source": [
    "# Viewing an image in the train data"
   ]
  },
  {
   "cell_type": "code",
   "execution_count": 18,
   "id": "b55947f8",
   "metadata": {},
   "outputs": [],
   "source": [
    "import matplotlib.pyplot as plt"
   ]
  },
  {
   "cell_type": "code",
   "execution_count": 19,
   "id": "3a9b4925",
   "metadata": {},
   "outputs": [
    {
     "data": {
      "text/plain": [
       "<matplotlib.image.AxesImage at 0x217ff1919d0>"
      ]
     },
     "execution_count": 19,
     "metadata": {},
     "output_type": "execute_result"
    },
    {
     "data": {
      "image/png": "[encoded data removed]",
      "text/plain": [
       "<Figure size 432x288 with 1 Axes>"
      ]
     },
     "metadata": {
      "needs_background": "light"
     },
     "output_type": "display_data"
    }
   ],
   "source": [
    "plt.imshow(x_train[0])"
   ]
  },
  {
   "cell_type": "markdown",
   "id": "071ff296",
   "metadata": {},
   "source": [
    "# How many digits in X-train (Counts)!"
   ]
  },
  {
   "cell_type": "code",
   "execution_count": 20,
   "id": "10cad3f0",
   "metadata": {},
   "outputs": [],
   "source": [
    "a = pd.DataFrame(y_train)"
   ]
  },
  {
   "cell_type": "markdown",
   "id": "72a31fba",
   "metadata": {},
   "source": [
    "# Verifying the number of categories"
   ]
  },
  {
   "cell_type": "code",
   "execution_count": 21,
   "id": "9db7635f",
   "metadata": {},
   "outputs": [
    {
     "data": {
      "text/plain": [
       "3    4281\n",
       "5    4232\n",
       "2    4197\n",
       "9    4196\n",
       "7    4192\n",
       "4    4188\n",
       "8    4188\n",
       "0    4186\n",
       "1    4172\n",
       "6    4168\n",
       "dtype: int64"
      ]
     },
     "execution_count": 21,
     "metadata": {},
     "output_type": "execute_result"
    }
   ],
   "source": [
    "a.value_counts()"
   ]
  },
  {
   "cell_type": "code",
   "execution_count": 22,
   "id": "62b03134",
   "metadata": {},
   "outputs": [
    {
     "data": {
      "text/plain": [
       "42000"
      ]
     },
     "execution_count": 22,
     "metadata": {},
     "output_type": "execute_result"
    }
   ],
   "source": [
    "a.value_counts().sum()"
   ]
  },
  {
   "cell_type": "markdown",
   "id": "2eaed9f5",
   "metadata": {},
   "source": [
    "# Scaling x_train"
   ]
  },
  {
   "cell_type": "code",
   "execution_count": 23,
   "id": "98af64fb",
   "metadata": {},
   "outputs": [],
   "source": [
    "x_train = x_train/255.0"
   ]
  },
  {
   "cell_type": "code",
   "execution_count": 24,
   "id": "01dbf73d",
   "metadata": {},
   "outputs": [
    {
     "data": {
      "text/plain": [
       "array([[[0.12968785, 0.11866706, 0.10530196, ..., 0.2801847 ,\n",
       "         0.2283153 , 0.16860352],\n",
       "        [0.09893451, 0.10020902, 0.1175549 , ..., 0.4432192 ,\n",
       "         0.40534863, 0.33056822],\n",
       "        [0.10304902, 0.08868118, 0.15873058, ..., 0.44432473,\n",
       "         0.47754902, 0.45263842],\n",
       "        ...,\n",
       "        [0.11196157, 0.14200786, 0.17678471, ..., 0.09465059,\n",
       "         0.09840274, 0.10219726],\n",
       "        [0.15072627, 0.10381687, 0.09126157, ..., 0.11023294,\n",
       "         0.11556196, 0.11790627],\n",
       "        [0.19724864, 0.10226392, 0.0942702 , ..., 0.19477727,\n",
       "         0.19942354, 0.20799099]],\n",
       "\n",
       "       [[0.34101608, 0.3414451 , 0.34656274, ..., 0.3600055 ,\n",
       "         0.35195178, 0.3628635 ],\n",
       "        [0.33995295, 0.340829  , 0.34287727, ..., 0.35580626,\n",
       "         0.3419765 , 0.34730548],\n",
       "        [0.33711922, 0.33652744, 0.33695647, ..., 0.25044155,\n",
       "         0.23458785, 0.21521765],\n",
       "        ...,\n",
       "        [0.35381806, 0.35703844, 0.3665243 , ..., 0.21707255,\n",
       "         0.19051842, 0.17276745],\n",
       "        [0.35546157, 0.3545251 , 0.35661566, ..., 0.3069396 ,\n",
       "         0.30391255, 0.29125488],\n",
       "        [0.34519058, 0.34587333, 0.3398859 , ..., 0.29498273,\n",
       "         0.30054745, 0.31092745]],\n",
       "\n",
       "       [[0.48284313, 0.49356118, 0.47872823, ..., 0.48460665,\n",
       "         0.4867396 , 0.4835859 ],\n",
       "        [0.47516978, 0.48678195, 0.46063256, ..., 0.45336393,\n",
       "         0.468922  , 0.48168862],\n",
       "        [0.4886792 , 0.4749094 , 0.43004823, ..., 0.43599334,\n",
       "         0.4697737 , 0.48925292],\n",
       "        ...,\n",
       "        [0.52995723, 0.49948195, 0.46178037, ..., 0.37290943,\n",
       "         0.4140851 , 0.4506992 ],\n",
       "        [0.52878505, 0.51746863, 0.48643723, ..., 0.36809412,\n",
       "         0.41295528, 0.4514243 ],\n",
       "        [0.52878505, 0.51791567, 0.5032941 , ..., 0.36837214,\n",
       "         0.41093138, 0.44637334]],\n",
       "\n",
       "       ...,\n",
       "\n",
       "       [[0.6042902 , 0.61100274, 0.6149663 , ..., 0.54483217,\n",
       "         0.5339628 , 0.5217522 ],\n",
       "        [0.5714706 , 0.5781832 , 0.5883698 , ..., 0.57038313,\n",
       "         0.5528435 , 0.53711647],\n",
       "        [0.56844354, 0.56799644, 0.56411767, ..., 0.5618157 ,\n",
       "         0.5618157 , 0.574431  ],\n",
       "        ...,\n",
       "        [0.5891125 , 0.5914145 , 0.5886655 , ..., 0.37968904,\n",
       "         0.38009372, 0.38126588],\n",
       "        [0.59465295, 0.5969549 , 0.5925867 , ..., 0.4740753 ,\n",
       "         0.47799647, 0.48304746],\n",
       "        [0.5748114 , 0.5801404 , 0.5801404 , ..., 0.52993256,\n",
       "         0.53592   , 0.5398412 ]],\n",
       "\n",
       "       [[0.8137075 , 0.8176286 , 0.8353796 , ..., 0.8240631 ,\n",
       "         0.81735057, 0.7977871 ],\n",
       "        [0.8019439 , 0.8141545 , 0.83768153, ..., 0.8212718 ,\n",
       "         0.81504864, 0.79431295],\n",
       "        [0.8012611 , 0.81694585, 0.83493257, ..., 0.81969494,\n",
       "         0.8122996 , 0.7899447 ],\n",
       "        ...,\n",
       "        [0.7809302 , 0.7924823 , 0.81353843, ..., 0.8346969 ,\n",
       "         0.8307757 , 0.8217612 ],\n",
       "        [0.7887725 , 0.7906275 , 0.804971  , ..., 0.8390651 ,\n",
       "         0.8374459 , 0.820142  ],\n",
       "        [0.79572076, 0.79572076, 0.8114055 , ..., 0.83974785,\n",
       "         0.8319055 , 0.820142  ]],\n",
       "\n",
       "       [[0.37285647, 0.37677765, 0.39246237, ..., 0.48139253,\n",
       "         0.48183963, 0.48183963],\n",
       "        [0.37285647, 0.37677765, 0.39246237, ..., 0.48183963,\n",
       "         0.48228666, 0.48228666],\n",
       "        [0.37285647, 0.37677765, 0.39638352, ..., 0.49635217,\n",
       "         0.49797136, 0.49797136],\n",
       "        ...,\n",
       "        [0.3875804 , 0.39150158, 0.40718627, ..., 0.50939685,\n",
       "         0.5172392 , 0.5172392 ],\n",
       "        [0.3875804 , 0.39150158, 0.40718627, ..., 0.533649  ,\n",
       "         0.5419384 , 0.5419384 ],\n",
       "        [0.3875804 , 0.39150158, 0.40718627, ..., 0.5414914 ,\n",
       "         0.5509529 , 0.5509529 ]]], dtype=float32)"
      ]
     },
     "execution_count": 24,
     "metadata": {},
     "output_type": "execute_result"
    }
   ],
   "source": [
    "x_train"
   ]
  },
  {
   "cell_type": "markdown",
   "id": "e762103f",
   "metadata": {},
   "source": [
    "# Scaling x_test"
   ]
  },
  {
   "cell_type": "code",
   "execution_count": 25,
   "id": "b6d51ef9",
   "metadata": {},
   "outputs": [],
   "source": [
    "x_test = x_test/255.0"
   ]
  },
  {
   "cell_type": "code",
   "execution_count": 26,
   "id": "59a54981",
   "metadata": {},
   "outputs": [
    {
     "data": {
      "text/plain": [
       "array([[[0.15905097, 0.18349686, 0.19206432, ..., 0.43966785,\n",
       "         0.44309962, 0.43986115],\n",
       "        [0.15465844, 0.17369059, 0.18500705, ..., 0.43534195,\n",
       "         0.43508825, 0.4311247 ],\n",
       "        [0.1507796 , 0.1711349 , 0.19101882, ..., 0.4309494 ,\n",
       "         0.43114275, 0.42786196],\n",
       "        ...,\n",
       "        [0.13720353, 0.13910078, 0.15555921, ..., 0.42827842,\n",
       "         0.4310094 , 0.44209644],\n",
       "        [0.13984391, 0.13939686, 0.15811491, ..., 0.43529335,\n",
       "         0.43940786, 0.4484043 ],\n",
       "        [0.1419102 , 0.13890745, 0.15960705, ..., 0.43143883,\n",
       "         0.4360851 , 0.44780627]],\n",
       "\n",
       "       [[0.45161137, 0.44769022, 0.44376904, ..., 0.4393341 ,\n",
       "         0.44184744, 0.4422945 ],\n",
       "        [0.4336247 , 0.43245253, 0.42735922, ..., 0.4162541 ,\n",
       "         0.41876745, 0.41966158],\n",
       "        [0.40314943, 0.40197727, 0.39918587, ..., 0.37559217,\n",
       "         0.37463138, 0.3750784 ],\n",
       "        ...,\n",
       "        [0.6660616 , 0.6690886 , 0.6580502 , ..., 0.17714038,\n",
       "         0.21841843, 0.24631374],\n",
       "        [0.6185604 , 0.61811334, 0.6031537 , ..., 0.16844627,\n",
       "         0.19678862, 0.22031568],\n",
       "        [0.5894929 , 0.58512473, 0.5678631 , ..., 0.1652502 ,\n",
       "         0.18922432, 0.20883021]],\n",
       "\n",
       "       [[0.52256864, 0.52834475, 0.53456783, ..., 0.4067639 ,\n",
       "         0.39544746, 0.39455333],\n",
       "        [0.5264898 , 0.53271294, 0.5424102 , ..., 0.45959413,\n",
       "         0.4478306 , 0.44738352],\n",
       "        [0.53433216, 0.53316   , 0.5389361 , ..., 0.49746472,\n",
       "         0.4852541 , 0.48408198],\n",
       "        ...,\n",
       "        [0.53103375, 0.5234694 , 0.51473296, ..., 0.50609887,\n",
       "         0.51624316, 0.5233604 ],\n",
       "        [0.50744003, 0.50496906, 0.50132585, ..., 0.5042439 ,\n",
       "         0.50699294, 0.50974196],\n",
       "        [0.4669894 , 0.47398   , 0.48254743, ..., 0.50266707,\n",
       "         0.5012169 , 0.5027937 ]],\n",
       "\n",
       "       ...,\n",
       "\n",
       "       [[0.6517247 , 0.64594865, 0.6385533 , ..., 0.36447608,\n",
       "         0.38173765, 0.3840396 ],\n",
       "        [0.6455016 , 0.64202744, 0.6358043 , ..., 0.36492312,\n",
       "         0.38173765, 0.38056546],\n",
       "        [0.63491017, 0.63491017, 0.63188314, ..., 0.36929137,\n",
       "         0.38263175, 0.38101256],\n",
       "        ...,\n",
       "        [0.2943839 , 0.3326349 , 0.37985805, ..., 0.6427525 ,\n",
       "         0.6423055 , 0.64185846],\n",
       "        [0.31791097, 0.34233215, 0.36837253, ..., 0.6392785 ,\n",
       "         0.6383843 , 0.63793725],\n",
       "        [0.34009686, 0.3508996 , 0.3640043 , ..., 0.6388313 ,\n",
       "         0.6383843 , 0.63793725]],\n",
       "\n",
       "       [[0.5395208 , 0.5360466 , 0.5286514 , ..., 0.43584198,\n",
       "         0.42868236, 0.42358902],\n",
       "        [0.5159937 , 0.5125196 , 0.5016502 , ..., 0.42015725,\n",
       "         0.41389176, 0.40879843],\n",
       "        [0.46983373, 0.46591255, 0.45112196, ..., 0.39707726,\n",
       "         0.39125884, 0.38778472],\n",
       "        ...,\n",
       "        [0.5098973 , 0.5059761 , 0.49073842, ..., 0.55441374,\n",
       "         0.55441374, 0.5504925 ],\n",
       "        [0.525582  , 0.525582  , 0.52210784, ..., 0.5666243 ,\n",
       "         0.5622561 , 0.5583349 ],\n",
       "        [0.53342426, 0.53734547, 0.5417137 , ..., 0.56779647,\n",
       "         0.5599541 , 0.55603296]],\n",
       "\n",
       "       [[0.11836078, 0.11836078, 0.11836078, ..., 0.16125804,\n",
       "         0.16517922, 0.16792823],\n",
       "        [0.11836078, 0.11836078, 0.11605882, ..., 0.15733686,\n",
       "         0.16125804, 0.16400705],\n",
       "        [0.11723098, 0.11723098, 0.1133098 , ..., 0.15341568,\n",
       "         0.15733686, 0.15733686],\n",
       "        ...,\n",
       "        [0.12526706, 0.12526706, 0.12526706, ..., 0.2019443 ,\n",
       "         0.19964235, 0.19572118],\n",
       "        [0.12224   , 0.12224   , 0.12571411, ..., 0.15789294,\n",
       "         0.15672077, 0.15397176],\n",
       "        [0.12224   , 0.12224   , 0.12616117, ..., 0.13760431,\n",
       "         0.1359851 , 0.13368313]]], dtype=float32)"
      ]
     },
     "execution_count": 26,
     "metadata": {},
     "output_type": "execute_result"
    }
   ],
   "source": [
    "x_test"
   ]
  },
  {
   "cell_type": "code",
   "execution_count": 27,
   "id": "8a735e98",
   "metadata": {},
   "outputs": [
    {
     "data": {
      "text/plain": [
       "<matplotlib.image.AxesImage at 0x217ff29d7c0>"
      ]
     },
     "execution_count": 27,
     "metadata": {},
     "output_type": "execute_result"
    },
    {
     "data": {
      "image/png": "[encoded data removed]",
      "text/plain": [
       "<Figure size 432x288 with 1 Axes>"
      ]
     },
     "metadata": {
      "needs_background": "light"
     },
     "output_type": "display_data"
    }
   ],
   "source": [
    "plt.imshow(x_train[0])"
   ]
  },
  {
   "cell_type": "code",
   "execution_count": 28,
   "id": "684a50cc",
   "metadata": {},
   "outputs": [
    {
     "data": {
      "text/plain": [
       "<matplotlib.image.AxesImage at 0x217ff3022e0>"
      ]
     },
     "execution_count": 28,
     "metadata": {},
     "output_type": "execute_result"
    },
    {
     "data": {
      "image/png": "[encoded data removed]",
      "text/plain": [
       "<Figure size 432x288 with 1 Axes>"
      ]
     },
     "metadata": {
      "needs_background": "light"
     },
     "output_type": "display_data"
    }
   ],
   "source": [
    "plt.imshow(x_train[1])"
   ]
  },
  {
   "cell_type": "markdown",
   "id": "83ddf001",
   "metadata": {},
   "source": [
    "# REshaping of x_train"
   ]
  },
  {
   "cell_type": "code",
   "execution_count": 29,
   "id": "6a09c037",
   "metadata": {},
   "outputs": [],
   "source": [
    "import matplotlib.pyplot as plt"
   ]
  },
  {
   "cell_type": "code",
   "execution_count": 30,
   "id": "5c57ad69",
   "metadata": {},
   "outputs": [],
   "source": [
    "x_train = x_train.reshape(len(x_train), 32*32)"
   ]
  },
  {
   "cell_type": "code",
   "execution_count": 31,
   "id": "9d37fdf4",
   "metadata": {},
   "outputs": [
    {
     "data": {
      "text/plain": [
       "(42000, 1024)"
      ]
     },
     "execution_count": 31,
     "metadata": {},
     "output_type": "execute_result"
    }
   ],
   "source": [
    "x_train.shape"
   ]
  },
  {
   "cell_type": "code",
   "execution_count": 32,
   "id": "a6b68e57",
   "metadata": {},
   "outputs": [
    {
     "data": {
      "text/plain": [
       "array([[0.12968785, 0.11866706, 0.10530196, ..., 0.19477727, 0.19942354,\n",
       "        0.20799099],\n",
       "       [0.34101608, 0.3414451 , 0.34656274, ..., 0.29498273, 0.30054745,\n",
       "        0.31092745],\n",
       "       [0.48284313, 0.49356118, 0.47872823, ..., 0.36837214, 0.41093138,\n",
       "        0.44637334],\n",
       "       ...,\n",
       "       [0.6042902 , 0.61100274, 0.6149663 , ..., 0.52993256, 0.53592   ,\n",
       "        0.5398412 ],\n",
       "       [0.8137075 , 0.8176286 , 0.8353796 , ..., 0.83974785, 0.8319055 ,\n",
       "        0.820142  ],\n",
       "       [0.37285647, 0.37677765, 0.39246237, ..., 0.5414914 , 0.5509529 ,\n",
       "        0.5509529 ]], dtype=float32)"
      ]
     },
     "execution_count": 32,
     "metadata": {},
     "output_type": "execute_result"
    }
   ],
   "source": [
    "x_train"
   ]
  },
  {
   "cell_type": "markdown",
   "id": "67355615",
   "metadata": {},
   "source": [
    "# Reshaping of x-test"
   ]
  },
  {
   "cell_type": "code",
   "execution_count": 33,
   "id": "f8aac865",
   "metadata": {},
   "outputs": [],
   "source": [
    "x_test = x_test.reshape(len(x_test),32*32)"
   ]
  },
  {
   "cell_type": "code",
   "execution_count": 34,
   "id": "9b99da73",
   "metadata": {},
   "outputs": [
    {
     "data": {
      "text/plain": [
       "(18000, 1024)"
      ]
     },
     "execution_count": 34,
     "metadata": {},
     "output_type": "execute_result"
    }
   ],
   "source": [
    "x_test.shape"
   ]
  },
  {
   "cell_type": "code",
   "execution_count": 35,
   "id": "70d8eb1c",
   "metadata": {},
   "outputs": [
    {
     "data": {
      "text/plain": [
       "array([[0.15905097, 0.18349686, 0.19206432, ..., 0.43143883, 0.4360851 ,\n",
       "        0.44780627],\n",
       "       [0.45161137, 0.44769022, 0.44376904, ..., 0.1652502 , 0.18922432,\n",
       "        0.20883021],\n",
       "       [0.52256864, 0.52834475, 0.53456783, ..., 0.50266707, 0.5012169 ,\n",
       "        0.5027937 ],\n",
       "       ...,\n",
       "       [0.6517247 , 0.64594865, 0.6385533 , ..., 0.6388313 , 0.6383843 ,\n",
       "        0.63793725],\n",
       "       [0.5395208 , 0.5360466 , 0.5286514 , ..., 0.56779647, 0.5599541 ,\n",
       "        0.55603296],\n",
       "       [0.11836078, 0.11836078, 0.11836078, ..., 0.13760431, 0.1359851 ,\n",
       "        0.13368313]], dtype=float32)"
      ]
     },
     "execution_count": 35,
     "metadata": {},
     "output_type": "execute_result"
    }
   ],
   "source": [
    "x_test"
   ]
  },
  {
   "cell_type": "markdown",
   "id": "b7de031e",
   "metadata": {},
   "source": [
    "# Let y_train be a categorical one"
   ]
  },
  {
   "cell_type": "code",
   "execution_count": 36,
   "id": "c897c61e",
   "metadata": {},
   "outputs": [],
   "source": [
    "# preparing the response dATA\n",
    "from tensorflow.keras.utils import to_categorical"
   ]
  },
  {
   "cell_type": "code",
   "execution_count": 37,
   "id": "a7ea44da",
   "metadata": {},
   "outputs": [],
   "source": [
    "y_train = to_categorical(y_train, num_classes=10) "
   ]
  },
  {
   "cell_type": "code",
   "execution_count": 38,
   "id": "4012bc3d",
   "metadata": {},
   "outputs": [
    {
     "data": {
      "text/plain": [
       "array([[0., 0., 1., ..., 0., 0., 0.],\n",
       "       [0., 0., 0., ..., 0., 0., 0.],\n",
       "       [0., 0., 0., ..., 1., 0., 0.],\n",
       "       ...,\n",
       "       [0., 0., 0., ..., 1., 0., 0.],\n",
       "       [1., 0., 0., ..., 0., 0., 0.],\n",
       "       [0., 0., 0., ..., 0., 0., 0.]], dtype=float32)"
      ]
     },
     "execution_count": 38,
     "metadata": {},
     "output_type": "execute_result"
    }
   ],
   "source": [
    "y_train"
   ]
  },
  {
   "cell_type": "markdown",
   "id": "87c5f04f",
   "metadata": {},
   "source": [
    "# viewing on image in the train data"
   ]
  },
  {
   "cell_type": "code",
   "execution_count": 39,
   "id": "bb80077a",
   "metadata": {},
   "outputs": [
    {
     "name": "stdout",
     "output_type": "stream",
     "text": [
      "Requirement already satisfied: h5py in c:\\users\\smile\\appdata\\roaming\\python\\python38\\site-packages (3.1.0)\n",
      "Requirement already satisfied: numpy>=1.17.5 in c:\\users\\smile\\anaconda3\\lib\\site-packages (from h5py) (1.19.5)\n"
     ]
    }
   ],
   "source": [
    "!pip install --no-binary=h5py h5py\n"
   ]
  },
  {
   "cell_type": "markdown",
   "id": "437aceda",
   "metadata": {},
   "source": [
    "# 18000 rows y-test"
   ]
  },
  {
   "cell_type": "code",
   "execution_count": 40,
   "id": "6074c694",
   "metadata": {},
   "outputs": [],
   "source": [
    "y_test = to_categorical(y_test, num_classes=10)"
   ]
  },
  {
   "cell_type": "code",
   "execution_count": 41,
   "id": "f916a841",
   "metadata": {},
   "outputs": [
    {
     "data": {
      "text/plain": [
       "array([[0., 1., 0., ..., 0., 0., 0.],\n",
       "       [0., 0., 0., ..., 1., 0., 0.],\n",
       "       [0., 0., 1., ..., 0., 0., 0.],\n",
       "       ...,\n",
       "       [0., 0., 0., ..., 1., 0., 0.],\n",
       "       [0., 0., 0., ..., 0., 0., 1.],\n",
       "       [0., 0., 1., ..., 0., 0., 0.]], dtype=float32)"
      ]
     },
     "execution_count": 41,
     "metadata": {},
     "output_type": "execute_result"
    }
   ],
   "source": [
    "y_test"
   ]
  },
  {
   "cell_type": "code",
   "execution_count": 42,
   "id": "b4f018be",
   "metadata": {},
   "outputs": [],
   "source": [
    "seq = Sequential()"
   ]
  },
  {
   "cell_type": "code",
   "execution_count": 43,
   "id": "bc5b8b06",
   "metadata": {},
   "outputs": [],
   "source": [
    "from keras.layers import Dense"
   ]
  },
  {
   "cell_type": "code",
   "execution_count": 44,
   "id": "ec7ddea4",
   "metadata": {},
   "outputs": [],
   "source": [
    "seq.add(Dense(1024, activation = 'relu'))\n",
    "seq.add(Dense(512, activation = 'relu'))\n",
    "seq.add(Dense(256, activation = 'relu'))\n",
    "seq.add(Dense(10, activation = 'softmax'))"
   ]
  },
  {
   "cell_type": "code",
   "execution_count": 45,
   "id": "8ab60de2",
   "metadata": {},
   "outputs": [],
   "source": [
    "seq.compile(optimizer = 'rmsprop',\n",
    "           loss = 'categorical_crossentropy',\n",
    "            metrics = ['accuracy'])"
   ]
  },
  {
   "cell_type": "code",
   "execution_count": 46,
   "id": "75487e6c",
   "metadata": {},
   "outputs": [
    {
     "name": "stdout",
     "output_type": "stream",
     "text": [
      "Epoch 1/10\n",
      "420/420 [==============================] - 22s 50ms/step - loss: 2.2343 - accuracy: 0.1726\n",
      "Epoch 2/10\n",
      "420/420 [==============================] - 21s 50ms/step - loss: 1.7236 - accuracy: 0.3951\n",
      "Epoch 3/10\n",
      "420/420 [==============================] - 21s 49ms/step - loss: 1.4694 - accuracy: 0.5061\n",
      "Epoch 4/10\n",
      "420/420 [==============================] - 21s 51ms/step - loss: 1.3066 - accuracy: 0.5699\n",
      "Epoch 5/10\n",
      "420/420 [==============================] - 21s 51ms/step - loss: 1.2052 - accuracy: 0.6087\n",
      "Epoch 6/10\n",
      "420/420 [==============================] - 21s 50ms/step - loss: 1.1325 - accuracy: 0.6358\n",
      "Epoch 7/10\n",
      "420/420 [==============================] - 21s 50ms/step - loss: 1.0691 - accuracy: 0.6569\n",
      "Epoch 8/10\n",
      "420/420 [==============================] - 21s 50ms/step - loss: 1.0064 - accuracy: 0.6754\n",
      "Epoch 9/10\n",
      "420/420 [==============================] - 21s 50ms/step - loss: 0.9644 - accuracy: 0.68871s -\n",
      "Epoch 10/10\n",
      "420/420 [==============================] - 22s 52ms/step - loss: 0.9209 - accuracy: 0.7048\n"
     ]
    },
    {
     "data": {
      "text/plain": [
       "<keras.callbacks.History at 0x217ff80f790>"
      ]
     },
     "execution_count": 46,
     "metadata": {},
     "output_type": "execute_result"
    }
   ],
   "source": [
    "seq.fit(x_train,y_train, epochs=10,batch_size=100)"
   ]
  },
  {
   "cell_type": "code",
   "execution_count": 47,
   "id": "29947441",
   "metadata": {},
   "outputs": [
    {
     "name": "stdout",
     "output_type": "stream",
     "text": [
      "Model: \"sequential\"\n",
      "_________________________________________________________________\n",
      "Layer (type)                 Output Shape              Param #   \n",
      "=================================================================\n",
      "dense (Dense)                (100, 1024)               1049600   \n",
      "_________________________________________________________________\n",
      "dense_1 (Dense)              (100, 512)                524800    \n",
      "_________________________________________________________________\n",
      "dense_2 (Dense)              (100, 256)                131328    \n",
      "_________________________________________________________________\n",
      "dense_3 (Dense)              (100, 10)                 2570      \n",
      "=================================================================\n",
      "Total params: 1,708,298\n",
      "Trainable params: 1,708,298\n",
      "Non-trainable params: 0\n",
      "_________________________________________________________________\n"
     ]
    }
   ],
   "source": [
    "seq.summary()"
   ]
  },
  {
   "cell_type": "markdown",
   "id": "0a230913",
   "metadata": {},
   "source": [
    "# Evaluate trained model"
   ]
  },
  {
   "cell_type": "code",
   "execution_count": 48,
   "id": "da47b802",
   "metadata": {},
   "outputs": [
    {
     "name": "stdout",
     "output_type": "stream",
     "text": [
      "1313/1313 [==============================] - 11s 8ms/step - loss: 0.7752 - accuracy: 0.7598\n"
     ]
    }
   ],
   "source": [
    "train_loss, train_acc = seq.evaluate(x_train,y_train)"
   ]
  },
  {
   "cell_type": "code",
   "execution_count": 49,
   "id": "e04533b0",
   "metadata": {},
   "outputs": [
    {
     "name": "stdout",
     "output_type": "stream",
     "text": [
      "train_acc: 0.7597857117652893\n"
     ]
    }
   ],
   "source": [
    "print('train_acc:',train_acc)"
   ]
  },
  {
   "cell_type": "code",
   "execution_count": 50,
   "id": "b81f4ccc",
   "metadata": {},
   "outputs": [
    {
     "name": "stdout",
     "output_type": "stream",
     "text": [
      "train_loss: 0.7751551270484924\n"
     ]
    }
   ],
   "source": [
    "print('train_loss:',train_loss)"
   ]
  },
  {
   "cell_type": "markdown",
   "id": "27f5aeaf",
   "metadata": {},
   "source": [
    "# Evalute test results"
   ]
  },
  {
   "cell_type": "code",
   "execution_count": 51,
   "id": "3ecdca3b",
   "metadata": {},
   "outputs": [
    {
     "name": "stdout",
     "output_type": "stream",
     "text": [
      "563/563 [==============================] - 5s 8ms/step - loss: 0.8454 - accuracy: 0.7436\n"
     ]
    }
   ],
   "source": [
    "test_loss,test_acc = seq.evaluate(x_test,y_test)"
   ]
  },
  {
   "cell_type": "code",
   "execution_count": 52,
   "id": "399e16ef",
   "metadata": {},
   "outputs": [
    {
     "name": "stdout",
     "output_type": "stream",
     "text": [
      "test_acc: 0.7436110973358154\n"
     ]
    }
   ],
   "source": [
    "print('test_acc:',test_acc)"
   ]
  },
  {
   "cell_type": "code",
   "execution_count": 53,
   "id": "7806b8cf",
   "metadata": {},
   "outputs": [
    {
     "name": "stdout",
     "output_type": "stream",
     "text": [
      "test_loss: 0.8453622460365295\n"
     ]
    }
   ],
   "source": [
    "print('test_loss:',test_loss)"
   ]
  },
  {
   "cell_type": "code",
   "execution_count": null,
   "id": "aa1ed389",
   "metadata": {},
   "outputs": [],
   "source": []
  }
 ],
 "metadata": {
  "kernelspec": {
   "display_name": "Python 3",
   "language": "python",
   "name": "python3"
  },
  "language_info": {
   "codemirror_mode": {
    "name": "ipython",
    "version": 3
   },
   "file_extension": ".py",
   "mimetype": "text/x-python",
   "name": "python",
   "nbconvert_exporter": "python",
   "pygments_lexer": "ipython3",
   "version": "3.8.8"
  }
 },
 "nbformat": 4,
 "nbformat_minor": 5
}
