{
 "cells": [
  {
   "cell_type": "code",
   "execution_count": 1,
   "id": "befa488b",
   "metadata": {},
   "outputs": [],
   "source": [
    "#Libraries"
   ]
  },
  {
   "cell_type": "code",
   "execution_count": 2,
   "id": "ae14ddb8",
   "metadata": {},
   "outputs": [],
   "source": [
    "import numpy as np\n",
    "from keras.preprocessing.text import Tokenizer\n",
    "from keras.datasets import imdb\n",
    "from keras import preprocessing\n",
    "from keras.layers import Embedding\n",
    "from keras.models import Sequential\n",
    "from keras.layers import Flatten,Dense\n",
    "from keras.preprocessing import sequence\n",
    "from keras.preprocessing.sequence import pad_sequences\n",
    "from keras.layers import Embedding,Flatten,Dense\n",
    "import matplotlib.pyplot as plt\n",
    "from keras.layers import LSTM\n",
    "from keras.layers import Embedding,SimpleRNN"
   ]
  },
  {
   "cell_type": "code",
   "execution_count": 3,
   "id": "ca5be2ce",
   "metadata": {},
   "outputs": [],
   "source": [
    "#Numpy implementation of a simple RNN__understand RNN"
   ]
  },
  {
   "cell_type": "code",
   "execution_count": 4,
   "id": "2d140e8a",
   "metadata": {},
   "outputs": [],
   "source": [
    "import numpy as np\n",
    "timesteps=100\n",
    "input_features=32\n",
    "output_features=64\n",
    "inputs=np.random.random((timesteps,input_features))\n",
    "state_t=np.zeros((output_features,))\n",
    "W=np.random.random((output_features,input_features))\n",
    "U=np.random.random((output_features,output_features))\n",
    "b=np.random.random((output_features,))"
   ]
  },
  {
   "cell_type": "code",
   "execution_count": 5,
   "id": "24cabdcd",
   "metadata": {},
   "outputs": [],
   "source": [
    "successive_outputs=[]\n",
    "for input_t in inputs:\n",
    "    output_t=np.tanh(np.dot(W,input_t)+np.dot(U,state_t)+b)\n",
    "    successive_outputs.append(output_t)\n",
    "    state_t=output_t\n",
    "final_output_sequence=np.concatenate(successive_outputs, axis=0)"
   ]
  },
  {
   "cell_type": "code",
   "execution_count": 6,
   "id": "251b1c92",
   "metadata": {},
   "outputs": [],
   "source": [
    "#Batch size in SRNN\n"
   ]
  },
  {
   "cell_type": "code",
   "execution_count": 7,
   "id": "0b93cdcf",
   "metadata": {},
   "outputs": [],
   "source": [
    "#A recurrent layer in Keras\n",
    "# 'There is one minor difference: SimpleRNN process batches of sequences,like all other\n",
    "# keras layers, not a single sequence as in the Numpy example.This means it takes inputs of shape \n",
    "#(batch_size,timesteps,input_features),rather than (timesteps, input_features)."
   ]
  },
  {
   "cell_type": "code",
   "execution_count": 8,
   "id": "e0865cf4",
   "metadata": {},
   "outputs": [],
   "source": [
    "#Simple RNN architect"
   ]
  },
  {
   "cell_type": "code",
   "execution_count": 9,
   "id": "a4591b18",
   "metadata": {},
   "outputs": [],
   "source": [
    "#----simple RNN"
   ]
  },
  {
   "cell_type": "code",
   "execution_count": 10,
   "id": "b72eb4d7",
   "metadata": {},
   "outputs": [
    {
     "name": "stdout",
     "output_type": "stream",
     "text": [
      "Model: \"sequential\"\n",
      "_________________________________________________________________\n",
      "Layer (type)                 Output Shape              Param #   \n",
      "=================================================================\n",
      "embedding (Embedding)        (None, None, 32)          320000    \n",
      "_________________________________________________________________\n",
      "simple_rnn (SimpleRNN)       (None, 32)                2080      \n",
      "=================================================================\n",
      "Total params: 322,080\n",
      "Trainable params: 322,080\n",
      "Non-trainable params: 0\n",
      "_________________________________________________________________\n"
     ]
    }
   ],
   "source": [
    "from keras.models import Sequential\n",
    "from keras.layers import Embedding,SimpleRNN\n",
    "model=Sequential()\n",
    "model.add(Embedding(10000,32))\n",
    "model.add(SimpleRNN(32))\n",
    "model.summary()"
   ]
  },
  {
   "cell_type": "code",
   "execution_count": 11,
   "id": "d3b5f785",
   "metadata": {},
   "outputs": [],
   "source": [
    "#It's sometimes useful to stack several recurrent layers one after the other\n",
    "# in order to increase the representational power of a network.In such a setup,you have \n",
    "#to get all of the intermediate layers to return full sequence of outputs:"
   ]
  },
  {
   "cell_type": "code",
   "execution_count": 12,
   "id": "f97be617",
   "metadata": {},
   "outputs": [],
   "source": [
    "##example shown below"
   ]
  },
  {
   "cell_type": "code",
   "execution_count": 13,
   "id": "94ac74fb",
   "metadata": {},
   "outputs": [
    {
     "name": "stdout",
     "output_type": "stream",
     "text": [
      "Model: \"sequential_1\"\n",
      "_________________________________________________________________\n",
      "Layer (type)                 Output Shape              Param #   \n",
      "=================================================================\n",
      "embedding_1 (Embedding)      (None, None, 32)          320000    \n",
      "_________________________________________________________________\n",
      "simple_rnn_1 (SimpleRNN)     (None, None, 32)          2080      \n",
      "_________________________________________________________________\n",
      "simple_rnn_2 (SimpleRNN)     (None, None, 32)          2080      \n",
      "_________________________________________________________________\n",
      "simple_rnn_3 (SimpleRNN)     (None, None, 32)          2080      \n",
      "_________________________________________________________________\n",
      "simple_rnn_4 (SimpleRNN)     (None, 32)                2080      \n",
      "=================================================================\n",
      "Total params: 328,320\n",
      "Trainable params: 328,320\n",
      "Non-trainable params: 0\n",
      "_________________________________________________________________\n"
     ]
    }
   ],
   "source": [
    "model=Sequential()\n",
    "model.add(Embedding(10000,32))\n",
    "model.add(SimpleRNN(32, return_sequences=True))\n",
    "model.add(SimpleRNN(32, return_sequences=True))\n",
    "model.add(SimpleRNN(32, return_sequences=True))\n",
    "model.add(SimpleRNN(32))\n",
    "model.summary()"
   ]
  },
  {
   "cell_type": "code",
   "execution_count": 14,
   "id": "0afa95fe",
   "metadata": {},
   "outputs": [],
   "source": [
    "#Data"
   ]
  },
  {
   "cell_type": "code",
   "execution_count": 15,
   "id": "052bf2e3",
   "metadata": {},
   "outputs": [],
   "source": [
    "#preparing the IMDB data"
   ]
  },
  {
   "cell_type": "code",
   "execution_count": 16,
   "id": "aca1761d",
   "metadata": {},
   "outputs": [],
   "source": [
    "from keras.datasets import imdb\n",
    "from keras.preprocessing import sequence"
   ]
  },
  {
   "cell_type": "code",
   "execution_count": 17,
   "id": "bc3c145a",
   "metadata": {},
   "outputs": [],
   "source": [
    "max_features=10000\n",
    "maxlen=500\n",
    "batch_size=32"
   ]
  },
  {
   "cell_type": "code",
   "execution_count": 18,
   "id": "9819a146",
   "metadata": {},
   "outputs": [],
   "source": [
    "(input_train,y_train),(input_test,y_test)=imdb.load_data(num_words=max_features)"
   ]
  },
  {
   "cell_type": "code",
   "execution_count": 19,
   "id": "a652010d",
   "metadata": {},
   "outputs": [
    {
     "name": "stdout",
     "output_type": "stream",
     "text": [
      "25000 train sequences\n",
      "25000 test sequences\n"
     ]
    }
   ],
   "source": [
    "print(len(input_train),'train sequences')#25k\n",
    "print(len(input_train), 'test sequences')#25k"
   ]
  },
  {
   "cell_type": "code",
   "execution_count": 20,
   "id": "53ff36fb",
   "metadata": {},
   "outputs": [
    {
     "name": "stdout",
     "output_type": "stream",
     "text": [
      "input_train shape: (25000, 500)\n",
      "input_test shape: (25000, 500)\n"
     ]
    }
   ],
   "source": [
    "input_train=sequence.pad_sequences(input_train,maxlen=maxlen)\n",
    "input_test=sequence.pad_sequences(input_test,maxlen=maxlen)\n",
    "print('input_train shape:',input_train.shape)#25k,500\n",
    "print('input_test shape:',input_test.shape)#25k,500"
   ]
  },
  {
   "cell_type": "code",
   "execution_count": 21,
   "id": "fffd50e2",
   "metadata": {},
   "outputs": [],
   "source": [
    "#training the model with Embedding and SimpleRNN layers"
   ]
  },
  {
   "cell_type": "code",
   "execution_count": 22,
   "id": "6cabd9ee",
   "metadata": {},
   "outputs": [],
   "source": [
    "from keras.layers import Dense\n",
    "model=Sequential()\n",
    "model.add(Embedding(max_features,32))\n",
    "model.add(SimpleRNN(32))\n",
    "model.add(Dense(1,activation='sigmoid'))\n",
    "model.compile(optimizer='rmsprop',loss='binary_crossentropy',metrics=['acc'])"
   ]
  },
  {
   "cell_type": "code",
   "execution_count": 23,
   "id": "5cb2faa8",
   "metadata": {},
   "outputs": [
    {
     "name": "stdout",
     "output_type": "stream",
     "text": [
      "782/782 [==============================] - 121s 151ms/step - loss: 0.4709 - acc: 0.7733\n"
     ]
    }
   ],
   "source": [
    "history=model.fit(input_train,y_train),\n",
    "epochs=5,\n",
    "batch_size=128,\n",
    "validation_split=0.2\n"
   ]
  },
  {
   "cell_type": "code",
   "execution_count": 24,
   "id": "9fa7d6fb",
   "metadata": {},
   "outputs": [],
   "source": [
    "#implement"
   ]
  },
  {
   "cell_type": "code",
   "execution_count": 25,
   "id": "bea9249e",
   "metadata": {},
   "outputs": [
    {
     "name": "stdout",
     "output_type": "stream",
     "text": [
      "Epoch 1/5\n",
      "157/157 [==============================] - 32s 207ms/step - loss: 0.3012 - acc: 0.8777 - val_loss: 0.3076 - val_acc: 0.8780\n",
      "Epoch 2/5\n",
      "157/157 [==============================] - 33s 207ms/step - loss: 0.2550 - acc: 0.9039 - val_loss: 0.3645 - val_acc: 0.8724\n",
      "Epoch 3/5\n",
      "157/157 [==============================] - 33s 209ms/step - loss: 0.2308 - acc: 0.9137 - val_loss: 0.3610 - val_acc: 0.8404\n",
      "Epoch 4/5\n",
      "157/157 [==============================] - 32s 203ms/step - loss: 0.1984 - acc: 0.9286 - val_loss: 0.3058 - val_acc: 0.8732\n",
      "Epoch 5/5\n",
      "157/157 [==============================] - 31s 200ms/step - loss: 0.1795 - acc: 0.9335 - val_loss: 0.3890 - val_acc: 0.8558\n"
     ]
    }
   ],
   "source": [
    "history=model.fit(input_train,y_train,epochs=5,batch_size=128,validation_split=0.2)"
   ]
  },
  {
   "cell_type": "code",
   "execution_count": 26,
   "id": "5fb9899d",
   "metadata": {},
   "outputs": [],
   "source": [
    "#Accuracy"
   ]
  },
  {
   "cell_type": "code",
   "execution_count": 27,
   "id": "1162b0f6",
   "metadata": {},
   "outputs": [],
   "source": [
    "#plotting results"
   ]
  },
  {
   "cell_type": "code",
   "execution_count": 28,
   "id": "7e7fc29c",
   "metadata": {},
   "outputs": [],
   "source": [
    "import matplotlib.pyplot as plt\n",
    "acc=history.history['acc']\n",
    "val_acc=history.history['val_acc']\n",
    "loss=history.history['loss']\n",
    "val_loss=history.history['val_loss']\n",
    "epochs=range(1,len(acc)+1)"
   ]
  },
  {
   "cell_type": "code",
   "execution_count": 29,
   "id": "29ae5df7",
   "metadata": {},
   "outputs": [
    {
     "data": {
      "image/png": "[encoded data removed]",
      "text/plain": [
       "<Figure size 432x288 with 1 Axes>"
      ]
     },
     "metadata": {
      "needs_background": "light"
     },
     "output_type": "display_data"
    }
   ],
   "source": [
    "plt.plot(epochs,acc,'bo',label='Training acc')\n",
    "plt.plot(epochs,val_acc,'g',label='Validation acc')\n",
    "plt.title('Training and validation accuracy')\n",
    "plt.legend()\n",
    "plt.show()"
   ]
  },
  {
   "cell_type": "code",
   "execution_count": 30,
   "id": "379f4977",
   "metadata": {},
   "outputs": [],
   "source": [
    "#loss"
   ]
  },
  {
   "cell_type": "code",
   "execution_count": 51,
   "id": "5df03474",
   "metadata": {},
   "outputs": [
    {
     "data": {
      "image/png": "[encoded data removed]",
      "text/plain": [
       "<Figure size 432x288 with 1 Axes>"
      ]
     },
     "metadata": {
      "needs_background": "light"
     },
     "output_type": "display_data"
    }
   ],
   "source": [
    "plt.plot(epochs,loss,'bo',label='Training loss')\n",
    "plt.plot(epochs,val_loss,'g',label='Validation loss')\n",
    "plt.title('Training and validation loss')\n",
    "plt.legend()\n",
    "plt.show()"
   ]
  },
  {
   "cell_type": "code",
   "execution_count": 32,
   "id": "62ad6210",
   "metadata": {},
   "outputs": [],
   "source": [
    "##LSTM"
   ]
  },
  {
   "cell_type": "code",
   "execution_count": 33,
   "id": "e9dd6a8c",
   "metadata": {},
   "outputs": [],
   "source": [
    "#_____EXPERIMENTNUSING THE LSTM LAYER IN KERAS"
   ]
  },
  {
   "cell_type": "code",
   "execution_count": 34,
   "id": "80caa6be",
   "metadata": {},
   "outputs": [],
   "source": [
    "from keras.layers import LSTM\n",
    "model=Sequential()\n",
    "model.add(Embedding(max_features,32))\n",
    "model.add(LSTM(32))\n",
    "model.add(Dense(1, activation='sigmoid'))\n",
    "model.compile(optimizer='rmsprop',loss='binary_crossentropy',\n",
    "              metrics=['acc'])"
   ]
  },
  {
   "cell_type": "code",
   "execution_count": 46,
   "id": "5ac99b6d",
   "metadata": {},
   "outputs": [
    {
     "name": "stdout",
     "output_type": "stream",
     "text": [
      "Epoch 1/5\n",
      "157/157 [==============================] - 78s 478ms/step - loss: 0.4975 - acc: 0.7688 - val_loss: 0.3410 - val_acc: 0.8632\n",
      "Epoch 2/5\n",
      "157/157 [==============================] - 75s 479ms/step - loss: 0.3080 - acc: 0.8756 - val_loss: 0.3135 - val_acc: 0.8696\n",
      "Epoch 3/5\n",
      "157/157 [==============================] - 76s 484ms/step - loss: 0.2363 - acc: 0.9114 - val_loss: 0.2840 - val_acc: 0.8804\n",
      "Epoch 4/5\n",
      "157/157 [==============================] - 77s 493ms/step - loss: 0.2056 - acc: 0.9232 - val_loss: 0.3075 - val_acc: 0.8862\n",
      "Epoch 5/5\n",
      "157/157 [==============================] - 78s 496ms/step - loss: 0.1798 - acc: 0.9345 - val_loss: 0.2960 - val_acc: 0.8906\n"
     ]
    }
   ],
   "source": [
    "history=model.fit(input_train,y_train,epochs=5,\n",
    "                  batch_size=128,validation_split=0.2)"
   ]
  },
  {
   "cell_type": "code",
   "execution_count": 36,
   "id": "6abfb61d",
   "metadata": {},
   "outputs": [],
   "source": [
    "#LSTM"
   ]
  },
  {
   "cell_type": "code",
   "execution_count": 42,
   "id": "bea17c15",
   "metadata": {},
   "outputs": [],
   "source": [
    "#from keras.layers import LSTM\n",
    "#model=Sequential()\n",
    "#model.add(Embedding(max_features,32))\n",
    "#model.add(LSTM(32))\n",
    "#model.add(Dense(1,activation='sigmoid'))\n",
    "#model.compile(optimizer='rmsprop',loss='binary_crossentropy',\n",
    "             # metrics=['acc'])"
   ]
  },
  {
   "cell_type": "code",
   "execution_count": 43,
   "id": "c6459f5f",
   "metadata": {},
   "outputs": [],
   "source": [
    "#Accuracy"
   ]
  },
  {
   "cell_type": "code",
   "execution_count": 47,
   "id": "06d51c18",
   "metadata": {},
   "outputs": [],
   "source": [
    "import matplotlib.pyplot as plt\n",
    "acc1=history.history['acc']\n",
    "val_acc1=history.history['val_acc']\n",
    "loss1=history.history['loss']\n",
    "val_loss1=history.history['val_loss']\n",
    "epochs1=range(1,len(acc)+1)"
   ]
  },
  {
   "cell_type": "code",
   "execution_count": 48,
   "id": "40782764",
   "metadata": {},
   "outputs": [
    {
     "data": {
      "image/png": "[encoded data removed]",
      "text/plain": [
       "<Figure size 432x288 with 1 Axes>"
      ]
     },
     "metadata": {
      "needs_background": "light"
     },
     "output_type": "display_data"
    }
   ],
   "source": [
    "plt.plot(epochs1,acc1,'bo',label='Training acc')\n",
    "plt.plot(epochs1,val_acc1,'r',label='Validation acc')\n",
    "plt.title('Training and validation accuracy')\n",
    "plt.legend()\n",
    "plt.show()"
   ]
  },
  {
   "cell_type": "code",
   "execution_count": 49,
   "id": "de829337",
   "metadata": {},
   "outputs": [],
   "source": [
    "#Loss"
   ]
  },
  {
   "cell_type": "code",
   "execution_count": 50,
   "id": "834871f6",
   "metadata": {},
   "outputs": [
    {
     "data": {
      "image/png": "[encoded data removed]",
      "text/plain": [
       "<Figure size 432x288 with 1 Axes>"
      ]
     },
     "metadata": {
      "needs_background": "light"
     },
     "output_type": "display_data"
    }
   ],
   "source": [
    "plt.plot(epochs1,loss1,'bo',label='Training loss_lstm')\n",
    "plt.plot(epochs1,val_loss1,'r',label='Validation loss_lstm')\n",
    "plt.title('Training and validation loss_lstm')\n",
    "plt.legend()\n",
    "plt.show()"
   ]
  },
  {
   "cell_type": "code",
   "execution_count": null,
   "id": "8aa4a46e",
   "metadata": {},
   "outputs": [],
   "source": []
  },
  {
   "cell_type": "code",
   "execution_count": null,
   "id": "6ec11360",
   "metadata": {},
   "outputs": [],
   "source": []
  },
  {
   "cell_type": "code",
   "execution_count": null,
   "id": "a69e0ff3",
   "metadata": {},
   "outputs": [],
   "source": []
  }
 ],
 "metadata": {
  "kernelspec": {
   "display_name": "Python 3",
   "language": "python",
   "name": "python3"
  },
  "language_info": {
   "codemirror_mode": {
    "name": "ipython",
    "version": 3
   },
   "file_extension": ".py",
   "mimetype": "text/x-python",
   "name": "python",
   "nbconvert_exporter": "python",
   "pygments_lexer": "ipython3",
   "version": "3.8.8"
  }
 },
 "nbformat": 4,
 "nbformat_minor": 5
}
