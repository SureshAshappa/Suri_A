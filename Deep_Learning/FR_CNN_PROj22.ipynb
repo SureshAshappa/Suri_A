{
 "cells": [
  {
   "cell_type": "code",
   "execution_count": 1,
   "id": "2edb1132",
   "metadata": {},
   "outputs": [],
   "source": [
    "#project on face Recognisation"
   ]
  },
  {
   "cell_type": "code",
   "execution_count": 2,
   "id": "21b38efa",
   "metadata": {},
   "outputs": [],
   "source": [
    "#specifing the folder where images are present"
   ]
  },
  {
   "cell_type": "code",
   "execution_count": 3,
   "id": "a4b808ad",
   "metadata": {},
   "outputs": [],
   "source": [
    "TrainingImagePath='C:/Users/SURESH A/Desktop/vali&train 21 sep/Train'"
   ]
  },
  {
   "cell_type": "code",
   "execution_count": 4,
   "id": "670de02c",
   "metadata": {},
   "outputs": [],
   "source": [
    "validationImagePath='C:/Users/SURESH A/Desktop/vali&train 21 sep/Validation'"
   ]
  },
  {
   "cell_type": "code",
   "execution_count": 5,
   "id": "523f915e",
   "metadata": {},
   "outputs": [],
   "source": [
    "from keras .preprocessing.image import ImageDataGenerator"
   ]
  },
  {
   "cell_type": "code",
   "execution_count": 6,
   "id": "6f78ab70",
   "metadata": {},
   "outputs": [],
   "source": [
    "##-----Base model"
   ]
  },
  {
   "cell_type": "code",
   "execution_count": 7,
   "id": "c580396f",
   "metadata": {},
   "outputs": [],
   "source": [
    "train_datagen=ImageDataGenerator(rescale=1./255)"
   ]
  },
  {
   "cell_type": "code",
   "execution_count": 8,
   "id": "9fad72d0",
   "metadata": {},
   "outputs": [],
   "source": [
    "test_datagen=ImageDataGenerator(rescale=1./255)"
   ]
  },
  {
   "cell_type": "code",
   "execution_count": 9,
   "id": "64ba3b54",
   "metadata": {},
   "outputs": [],
   "source": [
    "#Generating the Training Data"
   ]
  },
  {
   "cell_type": "code",
   "execution_count": 10,
   "id": "d878cf7b",
   "metadata": {},
   "outputs": [
    {
     "name": "stdout",
     "output_type": "stream",
     "text": [
      "Found 139 images belonging to 11 classes.\n"
     ]
    }
   ],
   "source": [
    "training_set=train_datagen.flow_from_directory(TrainingImagePath,target_size=(64,64),\n",
    "                                              batch_size=20,class_mode='categorical')"
   ]
  },
  {
   "cell_type": "raw",
   "id": "36db9859",
   "metadata": {},
   "source": []
  },
  {
   "cell_type": "code",
   "execution_count": 11,
   "id": "e0a1632a",
   "metadata": {},
   "outputs": [],
   "source": [
    "#Generating the validation data"
   ]
  },
  {
   "cell_type": "code",
   "execution_count": 12,
   "id": "60e17e66",
   "metadata": {},
   "outputs": [
    {
     "name": "stdout",
     "output_type": "stream",
     "text": [
      "Found 59 images belonging to 11 classes.\n"
     ]
    }
   ],
   "source": [
    "validation_set=test_datagen.flow_from_directory(validationImagePath,target_size=(64,64),\n",
    "                                              batch_size=20,class_mode='categorical')"
   ]
  },
  {
   "cell_type": "code",
   "execution_count": 13,
   "id": "110c61c1",
   "metadata": {},
   "outputs": [],
   "source": [
    "#LIBRARIES AND MODEL TYPE\n"
   ]
  },
  {
   "cell_type": "code",
   "execution_count": 14,
   "id": "0dcc4280",
   "metadata": {},
   "outputs": [],
   "source": [
    "#CREATE CNN DEEP LEARNING MODEL"
   ]
  },
  {
   "cell_type": "code",
   "execution_count": 15,
   "id": "d5ceba33",
   "metadata": {},
   "outputs": [],
   "source": [
    "from keras.models import Sequential\n",
    "from keras.layers import Convolution2D\n",
    "from keras.layers import MaxPool2D\n",
    "from keras.layers import Flatten\n",
    "from keras.layers import Dense\n"
   ]
  },
  {
   "cell_type": "code",
   "execution_count": 16,
   "id": "ec795325",
   "metadata": {},
   "outputs": [
    {
     "data": {
      "text/plain": [
       "'Initializing the Convolutional Neural Network'"
      ]
     },
     "execution_count": 16,
     "metadata": {},
     "output_type": "execute_result"
    }
   ],
   "source": [
    "'Initializing the Convolutional Neural Network'"
   ]
  },
  {
   "cell_type": "code",
   "execution_count": 17,
   "id": "c67689b0",
   "metadata": {},
   "outputs": [],
   "source": [
    "classifier=Sequential()"
   ]
  },
  {
   "cell_type": "code",
   "execution_count": 18,
   "id": "7bc4dd9c",
   "metadata": {},
   "outputs": [],
   "source": [
    "#MODEL\n",
    "#--STEP 1 -CONVOLUTIONAL\n",
    "#ADDING THE FIRST LAYER OF CNN\n",
    "#WE ARE USING THE FORMAT(64,64,3) BECAUSE WE ARE USING TENSORFLOW BACKEND\n",
    "#IT MEANS 3 MATRIX OF SIZE(64*64) PIXELS REPRESENTING RED,\n",
    "#--GREEN AND BLUE COMPONENTS OF PIXELS"
   ]
  },
  {
   "cell_type": "code",
   "execution_count": 19,
   "id": "41d74f50",
   "metadata": {},
   "outputs": [],
   "source": [
    "classifier.add(Convolution2D(32, kernel_size=(3,3),input_shape=(64,64,3),activation='relu'))"
   ]
  },
  {
   "cell_type": "code",
   "execution_count": 20,
   "id": "b16e8d01",
   "metadata": {},
   "outputs": [],
   "source": [
    "#step --2  MAX POOLING"
   ]
  },
  {
   "cell_type": "code",
   "execution_count": 21,
   "id": "6a406f04",
   "metadata": {},
   "outputs": [],
   "source": [
    "classifier.add(MaxPool2D( pool_size=(2,2)))"
   ]
  },
  {
   "cell_type": "code",
   "execution_count": 22,
   "id": "e076b2b2",
   "metadata": {},
   "outputs": [],
   "source": [
    "#additional layer of convolution for better accuracy"
   ]
  },
  {
   "cell_type": "code",
   "execution_count": 23,
   "id": "d033b258",
   "metadata": {},
   "outputs": [],
   "source": [
    "classifier.add(Convolution2D(64, kernel_size=(3,3),activation='relu'))"
   ]
  },
  {
   "cell_type": "code",
   "execution_count": 24,
   "id": "3bab5c7d",
   "metadata": {},
   "outputs": [],
   "source": [
    "classifier.add(MaxPool2D( pool_size=(2,2)))"
   ]
  },
  {
   "cell_type": "code",
   "execution_count": 25,
   "id": "d5698fbe",
   "metadata": {},
   "outputs": [],
   "source": [
    "#additional layer of convolution for better accuracy"
   ]
  },
  {
   "cell_type": "code",
   "execution_count": 26,
   "id": "d98500f1",
   "metadata": {},
   "outputs": [],
   "source": [
    "classifier.add(Convolution2D(64, kernel_size=(3,3),activation='relu'))"
   ]
  },
  {
   "cell_type": "code",
   "execution_count": 27,
   "id": "3f4f7577",
   "metadata": {},
   "outputs": [],
   "source": [
    "#step 3 Flattening"
   ]
  },
  {
   "cell_type": "code",
   "execution_count": 28,
   "id": "bd4755ea",
   "metadata": {},
   "outputs": [],
   "source": [
    "classifier.add(Flatten())"
   ]
  },
  {
   "cell_type": "code",
   "execution_count": 29,
   "id": "640f1c47",
   "metadata": {},
   "outputs": [],
   "source": [
    "#step--4 Fully connected Neural Network"
   ]
  },
  {
   "cell_type": "code",
   "execution_count": 30,
   "id": "e9ccbd32",
   "metadata": {},
   "outputs": [],
   "source": [
    "classifier.add(Dense(64,activation='relu'))"
   ]
  },
  {
   "cell_type": "code",
   "execution_count": 31,
   "id": "f6e9c1f8",
   "metadata": {},
   "outputs": [],
   "source": [
    "classifier.add(Dense(11,activation='softmax'))"
   ]
  },
  {
   "cell_type": "code",
   "execution_count": 32,
   "id": "a2a20196",
   "metadata": {},
   "outputs": [
    {
     "name": "stdout",
     "output_type": "stream",
     "text": [
      "Model: \"sequential\"\n",
      "_________________________________________________________________\n",
      "Layer (type)                 Output Shape              Param #   \n",
      "=================================================================\n",
      "conv2d (Conv2D)              (None, 62, 62, 32)        896       \n",
      "_________________________________________________________________\n",
      "max_pooling2d (MaxPooling2D) (None, 31, 31, 32)        0         \n",
      "_________________________________________________________________\n",
      "conv2d_1 (Conv2D)            (None, 29, 29, 64)        18496     \n",
      "_________________________________________________________________\n",
      "max_pooling2d_1 (MaxPooling2 (None, 14, 14, 64)        0         \n",
      "_________________________________________________________________\n",
      "conv2d_2 (Conv2D)            (None, 12, 12, 64)        36928     \n",
      "_________________________________________________________________\n",
      "flatten (Flatten)            (None, 9216)              0         \n",
      "_________________________________________________________________\n",
      "dense (Dense)                (None, 64)                589888    \n",
      "_________________________________________________________________\n",
      "dense_1 (Dense)              (None, 11)                715       \n",
      "=================================================================\n",
      "Total params: 646,923\n",
      "Trainable params: 646,923\n",
      "Non-trainable params: 0\n",
      "_________________________________________________________________\n"
     ]
    }
   ],
   "source": [
    "classifier.summary()"
   ]
  },
  {
   "cell_type": "code",
   "execution_count": 33,
   "id": "0fe9e04d",
   "metadata": {},
   "outputs": [],
   "source": [
    "#COMPILER"
   ]
  },
  {
   "cell_type": "code",
   "execution_count": 34,
   "id": "19e9fdc6",
   "metadata": {},
   "outputs": [
    {
     "data": {
      "text/plain": [
       "'COMPILING THE CNN'"
      ]
     },
     "execution_count": 34,
     "metadata": {},
     "output_type": "execute_result"
    }
   ],
   "source": [
    "\"COMPILING THE CNN\""
   ]
  },
  {
   "cell_type": "code",
   "execution_count": 35,
   "id": "0c342ec0",
   "metadata": {},
   "outputs": [],
   "source": [
    "classifier.compile(loss='categorical_crossentropy',optimizer='adam',metrics=['accuracy'])"
   ]
  },
  {
   "cell_type": "code",
   "execution_count": 36,
   "id": "8ef488d5",
   "metadata": {},
   "outputs": [],
   "source": [
    "#EXECUTION OF MODEL"
   ]
  },
  {
   "cell_type": "code",
   "execution_count": 37,
   "id": "e0893b93",
   "metadata": {},
   "outputs": [],
   "source": [
    "#STARTING THE MODEL TRAINING"
   ]
  },
  {
   "cell_type": "code",
   "execution_count": 38,
   "id": "e50e9a86",
   "metadata": {},
   "outputs": [
    {
     "name": "stderr",
     "output_type": "stream",
     "text": [
      "C:\\Users\\SURESH A\\AppData\\Roaming\\Python\\Python38\\site-packages\\keras\\engine\\training.py:1972: UserWarning: `Model.fit_generator` is deprecated and will be removed in a future version. Please use `Model.fit`, which supports generators.\n",
      "  warnings.warn('`Model.fit_generator` is deprecated and '\n"
     ]
    },
    {
     "name": "stdout",
     "output_type": "stream",
     "text": [
      "Epoch 1/20\n",
      "7/7 [==============================] - 7s 892ms/step - loss: 2.3863 - accuracy: 0.1007 - val_loss: 2.3245 - val_accuracy: 0.1525\n",
      "Epoch 2/20\n",
      "7/7 [==============================] - 4s 617ms/step - loss: 2.2773 - accuracy: 0.1439 - val_loss: 2.2546 - val_accuracy: 0.1525\n",
      "Epoch 3/20\n",
      "7/7 [==============================] - 4s 615ms/step - loss: 2.2011 - accuracy: 0.2734 - val_loss: 2.1733 - val_accuracy: 0.2712\n",
      "Epoch 4/20\n",
      "7/7 [==============================] - 4s 623ms/step - loss: 1.9950 - accuracy: 0.3022 - val_loss: 2.0895 - val_accuracy: 0.2373\n",
      "Epoch 5/20\n",
      "7/7 [==============================] - 4s 620ms/step - loss: 1.7670 - accuracy: 0.4029 - val_loss: 1.9965 - val_accuracy: 0.3051\n",
      "Epoch 6/20\n",
      "7/7 [==============================] - 4s 632ms/step - loss: 1.4932 - accuracy: 0.5755 - val_loss: 1.9655 - val_accuracy: 0.3729\n",
      "Epoch 7/20\n",
      "7/7 [==============================] - 4s 617ms/step - loss: 1.2522 - accuracy: 0.6043 - val_loss: 1.8516 - val_accuracy: 0.3390\n",
      "Epoch 8/20\n",
      "7/7 [==============================] - 4s 619ms/step - loss: 0.9509 - accuracy: 0.7410 - val_loss: 1.7849 - val_accuracy: 0.4237\n",
      "Epoch 9/20\n",
      "7/7 [==============================] - 4s 622ms/step - loss: 0.7345 - accuracy: 0.7842 - val_loss: 2.1551 - val_accuracy: 0.3729\n",
      "Epoch 10/20\n",
      "7/7 [==============================] - 4s 613ms/step - loss: 0.5149 - accuracy: 0.8489 - val_loss: 1.6424 - val_accuracy: 0.5085\n",
      "Epoch 11/20\n",
      "7/7 [==============================] - 4s 614ms/step - loss: 0.3546 - accuracy: 0.9209 - val_loss: 1.9782 - val_accuracy: 0.4915\n",
      "Epoch 12/20\n",
      "7/7 [==============================] - 4s 612ms/step - loss: 0.2071 - accuracy: 0.9640 - val_loss: 2.0038 - val_accuracy: 0.4915\n",
      "Epoch 13/20\n",
      "7/7 [==============================] - 4s 619ms/step - loss: 0.1110 - accuracy: 0.9640 - val_loss: 2.1306 - val_accuracy: 0.4746\n",
      "Epoch 14/20\n",
      "7/7 [==============================] - 4s 608ms/step - loss: 0.0608 - accuracy: 0.9856 - val_loss: 2.6160 - val_accuracy: 0.4915\n",
      "Epoch 15/20\n",
      "7/7 [==============================] - 4s 616ms/step - loss: 0.0277 - accuracy: 1.0000 - val_loss: 2.7319 - val_accuracy: 0.4915\n",
      "Epoch 16/20\n",
      "7/7 [==============================] - 4s 620ms/step - loss: 0.0124 - accuracy: 1.0000 - val_loss: 2.9871 - val_accuracy: 0.4746\n",
      "Epoch 17/20\n",
      "7/7 [==============================] - 4s 614ms/step - loss: 0.0069 - accuracy: 1.0000 - val_loss: 3.0460 - val_accuracy: 0.4746\n",
      "Epoch 18/20\n",
      "7/7 [==============================] - 4s 620ms/step - loss: 0.0050 - accuracy: 1.0000 - val_loss: 3.0152 - val_accuracy: 0.5085\n",
      "Epoch 19/20\n",
      "7/7 [==============================] - 4s 624ms/step - loss: 0.0030 - accuracy: 1.0000 - val_loss: 3.1807 - val_accuracy: 0.4915\n",
      "Epoch 20/20\n",
      "7/7 [==============================] - 4s 618ms/step - loss: 0.0024 - accuracy: 1.0000 - val_loss: 3.1417 - val_accuracy: 0.4915\n"
     ]
    }
   ],
   "source": [
    "history=classifier.fit_generator(training_set,epochs=20,validation_data=validation_set)"
   ]
  },
  {
   "cell_type": "code",
   "execution_count": 39,
   "id": "e90572de",
   "metadata": {},
   "outputs": [],
   "source": [
    "#Displaying curves of loss and accuracy during training"
   ]
  },
  {
   "cell_type": "code",
   "execution_count": 40,
   "id": "5c4957ff",
   "metadata": {},
   "outputs": [],
   "source": [
    "import matplotlib.pyplot as plt"
   ]
  },
  {
   "cell_type": "code",
   "execution_count": 41,
   "id": "e72da9b2",
   "metadata": {},
   "outputs": [],
   "source": [
    "acc=history.history['accuracy']\n",
    "val_acc=history.history['val_accuracy']\n",
    "loss=history.history['loss']\n",
    "val_loss=history.history['val_loss']"
   ]
  },
  {
   "cell_type": "code",
   "execution_count": 42,
   "id": "bedac873",
   "metadata": {},
   "outputs": [],
   "source": [
    "epochs=range(1,len(acc)+1)"
   ]
  },
  {
   "cell_type": "code",
   "execution_count": 43,
   "id": "e0cc3023",
   "metadata": {},
   "outputs": [
    {
     "data": {
      "text/plain": [
       "<Figure size 432x288 with 0 Axes>"
      ]
     },
     "execution_count": 43,
     "metadata": {},
     "output_type": "execute_result"
    },
    {
     "data": {
      "image/png": "[encoded data removed]",
      "text/plain": [
       "<Figure size 432x288 with 1 Axes>"
      ]
     },
     "metadata": {
      "needs_background": "light"
     },
     "output_type": "display_data"
    },
    {
     "data": {
      "text/plain": [
       "<Figure size 432x288 with 0 Axes>"
      ]
     },
     "metadata": {},
     "output_type": "display_data"
    }
   ],
   "source": [
    "plt.plot(epochs,acc,'bo',label='Training acc')\n",
    "plt.plot(epochs,val_acc,'r',label='validation acc')\n",
    "plt.title('Training and validation accuracy')\n",
    "plt.legend()\n",
    "plt.figure()"
   ]
  },
  {
   "cell_type": "code",
   "execution_count": 44,
   "id": "eeab1a51",
   "metadata": {},
   "outputs": [],
   "source": [
    "#LOSS BASE MODEL"
   ]
  },
  {
   "cell_type": "code",
   "execution_count": 45,
   "id": "874ec80c",
   "metadata": {},
   "outputs": [
    {
     "data": {
      "text/plain": [
       "<Figure size 432x288 with 0 Axes>"
      ]
     },
     "execution_count": 45,
     "metadata": {},
     "output_type": "execute_result"
    },
    {
     "data": {
      "image/png": "[encoded data removed]",
      "text/plain": [
       "<Figure size 432x288 with 1 Axes>"
      ]
     },
     "metadata": {
      "needs_background": "light"
     },
     "output_type": "display_data"
    },
    {
     "data": {
      "text/plain": [
       "<Figure size 432x288 with 0 Axes>"
      ]
     },
     "metadata": {},
     "output_type": "display_data"
    }
   ],
   "source": [
    "plt.plot(epochs,loss,'bo',label='Training loss')\n",
    "plt.plot(epochs,val_loss,'r',label='validation loss')\n",
    "plt.title('Training and validation loss')\n",
    "plt.legend()\n",
    "plt.figure()"
   ]
  },
  {
   "cell_type": "code",
   "execution_count": 46,
   "id": "e2bd00cd",
   "metadata": {},
   "outputs": [],
   "source": [
    "#lets improve"
   ]
  },
  {
   "cell_type": "code",
   "execution_count": 47,
   "id": "d7dbe52c",
   "metadata": {},
   "outputs": [],
   "source": [
    "#--model2----"
   ]
  },
  {
   "cell_type": "code",
   "execution_count": 48,
   "id": "55a67360",
   "metadata": {},
   "outputs": [],
   "source": [
    "#Specifying the folder where images are present"
   ]
  },
  {
   "cell_type": "code",
   "execution_count": 49,
   "id": "23259e35",
   "metadata": {},
   "outputs": [],
   "source": [
    "TrainingImagePath='C:/Users/SURESH A/Desktop/vali&train 21 sep/Train'"
   ]
  },
  {
   "cell_type": "code",
   "execution_count": 50,
   "id": "2aa7a5a8",
   "metadata": {},
   "outputs": [],
   "source": [
    "validationImagePath='C:/Users/SURESH A/Desktop/vali&train 21 sep/Validation'"
   ]
  },
  {
   "cell_type": "code",
   "execution_count": 51,
   "id": "823fcb31",
   "metadata": {},
   "outputs": [],
   "source": [
    "from keras .preprocessing.image import ImageDataGenerator"
   ]
  },
  {
   "cell_type": "code",
   "execution_count": 52,
   "id": "08f68256",
   "metadata": {},
   "outputs": [],
   "source": [
    "#Adding parameters in the ImageDatagenerator"
   ]
  },
  {
   "cell_type": "code",
   "execution_count": 53,
   "id": "c00b921c",
   "metadata": {},
   "outputs": [],
   "source": [
    "train_datagen=ImageDataGenerator(rescale=1./255,shear_range=0.5,zoom_range=0.5,\n",
    "                                width_shift_range=0.2,height_shift_range=0.2)"
   ]
  },
  {
   "cell_type": "code",
   "execution_count": 54,
   "id": "ea9c3f10",
   "metadata": {},
   "outputs": [],
   "source": [
    "#no transformations are done on the testing images"
   ]
  },
  {
   "cell_type": "code",
   "execution_count": 55,
   "id": "e9785ce1",
   "metadata": {},
   "outputs": [],
   "source": [
    "test_datagen=ImageDataGenerator(rescale=1./255)"
   ]
  },
  {
   "cell_type": "code",
   "execution_count": 56,
   "id": "03a299de",
   "metadata": {},
   "outputs": [
    {
     "name": "stdout",
     "output_type": "stream",
     "text": [
      "Found 139 images belonging to 11 classes.\n"
     ]
    }
   ],
   "source": [
    "#Generating the training Data\n",
    "training_set=train_datagen.flow_from_directory(TrainingImagePath,target_size=(64,64),\n",
    "                                              batch_size=20,class_mode='categorical')"
   ]
  },
  {
   "cell_type": "code",
   "execution_count": 57,
   "id": "7b74e68e",
   "metadata": {},
   "outputs": [],
   "source": [
    "#Generating the validation data"
   ]
  },
  {
   "cell_type": "code",
   "execution_count": 58,
   "id": "73ba84b2",
   "metadata": {},
   "outputs": [
    {
     "name": "stdout",
     "output_type": "stream",
     "text": [
      "Found 59 images belonging to 11 classes.\n"
     ]
    }
   ],
   "source": [
    "validation_set=test_datagen.flow_from_directory(validationImagePath,target_size=(64,64),\n",
    "                                              batch_size=20,class_mode='categorical')"
   ]
  },
  {
   "cell_type": "code",
   "execution_count": 59,
   "id": "e30ed57d",
   "metadata": {},
   "outputs": [],
   "source": [
    "##-----------CREATE CNN DEEP LEARNING MODEL"
   ]
  },
  {
   "cell_type": "code",
   "execution_count": 60,
   "id": "7864e023",
   "metadata": {},
   "outputs": [],
   "source": [
    "from keras.models import Sequential\n",
    "from keras.layers import Convolution2D\n",
    "from keras.layers import MaxPool2D\n",
    "from keras.layers import Flatten\n",
    "from keras.layers import Dense"
   ]
  },
  {
   "cell_type": "code",
   "execution_count": 61,
   "id": "c4058281",
   "metadata": {},
   "outputs": [],
   "source": [
    "#'Initializing the Convolutional Neural Network'"
   ]
  },
  {
   "cell_type": "code",
   "execution_count": 62,
   "id": "a914285f",
   "metadata": {},
   "outputs": [],
   "source": [
    "classifier=Sequential()"
   ]
  },
  {
   "cell_type": "code",
   "execution_count": 63,
   "id": "46352bec",
   "metadata": {},
   "outputs": [],
   "source": [
    "#CONVOLUTION"
   ]
  },
  {
   "cell_type": "code",
   "execution_count": 64,
   "id": "0b3a2f86",
   "metadata": {},
   "outputs": [],
   "source": [
    "classifier.add(Convolution2D(32, kernel_size=(3,3),input_shape=(64,64,3),activation='relu'))"
   ]
  },
  {
   "cell_type": "code",
   "execution_count": 65,
   "id": "b0970ca7",
   "metadata": {},
   "outputs": [],
   "source": [
    "##  MAX POOLING"
   ]
  },
  {
   "cell_type": "code",
   "execution_count": 66,
   "id": "de652fdf",
   "metadata": {},
   "outputs": [],
   "source": [
    "classifier.add(MaxPool2D( pool_size=(2,2)))"
   ]
  },
  {
   "cell_type": "code",
   "execution_count": 67,
   "id": "aca8cec9",
   "metadata": {},
   "outputs": [],
   "source": [
    "#additional layer of convolution for better accuracy"
   ]
  },
  {
   "cell_type": "code",
   "execution_count": 68,
   "id": "1f771df4",
   "metadata": {},
   "outputs": [],
   "source": [
    "classifier.add(Convolution2D(64, kernel_size=(3,3),activation='relu'))"
   ]
  },
  {
   "cell_type": "code",
   "execution_count": 69,
   "id": "eddc4f46",
   "metadata": {},
   "outputs": [],
   "source": [
    "classifier.add(MaxPool2D( pool_size=(2,2)))"
   ]
  },
  {
   "cell_type": "code",
   "execution_count": 70,
   "id": "f55d34f5",
   "metadata": {},
   "outputs": [],
   "source": [
    "#Model_2"
   ]
  },
  {
   "cell_type": "code",
   "execution_count": 71,
   "id": "f29b6ca5",
   "metadata": {},
   "outputs": [],
   "source": [
    "classifier.add(Convolution2D(64, kernel_size=(3,3),activation='relu'))"
   ]
  },
  {
   "cell_type": "code",
   "execution_count": 72,
   "id": "cf4b588b",
   "metadata": {},
   "outputs": [],
   "source": [
    "##Flattening"
   ]
  },
  {
   "cell_type": "code",
   "execution_count": 73,
   "id": "0a32ad56",
   "metadata": {},
   "outputs": [],
   "source": [
    "classifier.add(Flatten())"
   ]
  },
  {
   "cell_type": "code",
   "execution_count": 74,
   "id": "00cad8ac",
   "metadata": {},
   "outputs": [],
   "source": [
    "#Fully connected Neural Network"
   ]
  },
  {
   "cell_type": "code",
   "execution_count": 75,
   "id": "f00cc9a5",
   "metadata": {},
   "outputs": [],
   "source": [
    "classifier.add(Dense(64,activation='relu'))#hidden layer"
   ]
  },
  {
   "cell_type": "code",
   "execution_count": 76,
   "id": "bf91d906",
   "metadata": {},
   "outputs": [],
   "source": [
    "classifier.add(Dense(11,activation='softmax'))#output layer"
   ]
  },
  {
   "cell_type": "code",
   "execution_count": 77,
   "id": "d3cdc675",
   "metadata": {},
   "outputs": [
    {
     "name": "stdout",
     "output_type": "stream",
     "text": [
      "Model: \"sequential_1\"\n",
      "_________________________________________________________________\n",
      "Layer (type)                 Output Shape              Param #   \n",
      "=================================================================\n",
      "conv2d_3 (Conv2D)            (None, 62, 62, 32)        896       \n",
      "_________________________________________________________________\n",
      "max_pooling2d_2 (MaxPooling2 (None, 31, 31, 32)        0         \n",
      "_________________________________________________________________\n",
      "conv2d_4 (Conv2D)            (None, 29, 29, 64)        18496     \n",
      "_________________________________________________________________\n",
      "max_pooling2d_3 (MaxPooling2 (None, 14, 14, 64)        0         \n",
      "_________________________________________________________________\n",
      "conv2d_5 (Conv2D)            (None, 12, 12, 64)        36928     \n",
      "_________________________________________________________________\n",
      "flatten_1 (Flatten)          (None, 9216)              0         \n",
      "_________________________________________________________________\n",
      "dense_2 (Dense)              (None, 64)                589888    \n",
      "_________________________________________________________________\n",
      "dense_3 (Dense)              (None, 11)                715       \n",
      "=================================================================\n",
      "Total params: 646,923\n",
      "Trainable params: 646,923\n",
      "Non-trainable params: 0\n",
      "_________________________________________________________________\n"
     ]
    }
   ],
   "source": [
    "classifier.summary()"
   ]
  },
  {
   "cell_type": "code",
   "execution_count": 78,
   "id": "a0a43ed4",
   "metadata": {},
   "outputs": [],
   "source": [
    "#compiler"
   ]
  },
  {
   "cell_type": "code",
   "execution_count": 79,
   "id": "0c659e33",
   "metadata": {},
   "outputs": [],
   "source": [
    "classifier.compile(loss='categorical_crossentropy',optimizer='adam',metrics=['accuracy'])"
   ]
  },
  {
   "cell_type": "code",
   "execution_count": 80,
   "id": "96f82406",
   "metadata": {},
   "outputs": [],
   "source": [
    "#Execute"
   ]
  },
  {
   "cell_type": "code",
   "execution_count": 81,
   "id": "e1b5220d",
   "metadata": {},
   "outputs": [
    {
     "name": "stderr",
     "output_type": "stream",
     "text": [
      "C:\\Users\\SURESH A\\AppData\\Roaming\\Python\\Python38\\site-packages\\keras\\engine\\training.py:1972: UserWarning: `Model.fit_generator` is deprecated and will be removed in a future version. Please use `Model.fit`, which supports generators.\n",
      "  warnings.warn('`Model.fit_generator` is deprecated and '\n"
     ]
    },
    {
     "name": "stdout",
     "output_type": "stream",
     "text": [
      "Epoch 1/30\n",
      "7/7 [==============================] - 6s 746ms/step - loss: 2.3921 - accuracy: 0.1439 - val_loss: 2.3239 - val_accuracy: 0.1525\n",
      "Epoch 2/30\n",
      "7/7 [==============================] - 4s 649ms/step - loss: 2.3383 - accuracy: 0.1367 - val_loss: 2.2902 - val_accuracy: 0.1525\n",
      "Epoch 3/30\n",
      "7/7 [==============================] - 4s 645ms/step - loss: 2.3378 - accuracy: 0.1439 - val_loss: 2.2620 - val_accuracy: 0.1525\n",
      "Epoch 4/30\n",
      "7/7 [==============================] - 4s 653ms/step - loss: 2.2915 - accuracy: 0.1655 - val_loss: 2.2322 - val_accuracy: 0.2034\n",
      "Epoch 5/30\n",
      "7/7 [==============================] - 4s 655ms/step - loss: 2.2732 - accuracy: 0.1511 - val_loss: 2.1955 - val_accuracy: 0.1525\n",
      "Epoch 6/30\n",
      "7/7 [==============================] - 4s 649ms/step - loss: 2.2235 - accuracy: 0.1799 - val_loss: 2.2262 - val_accuracy: 0.2034\n",
      "Epoch 7/30\n",
      "7/7 [==============================] - 4s 646ms/step - loss: 2.2353 - accuracy: 0.1727 - val_loss: 2.1614 - val_accuracy: 0.2712\n",
      "Epoch 8/30\n",
      "7/7 [==============================] - 4s 655ms/step - loss: 2.2421 - accuracy: 0.1583 - val_loss: 2.2060 - val_accuracy: 0.2373\n",
      "Epoch 9/30\n",
      "7/7 [==============================] - 4s 650ms/step - loss: 2.1385 - accuracy: 0.2158 - val_loss: 2.0295 - val_accuracy: 0.2373\n",
      "Epoch 10/30\n",
      "7/7 [==============================] - 4s 650ms/step - loss: 2.0681 - accuracy: 0.3525 - val_loss: 1.9246 - val_accuracy: 0.2881\n",
      "Epoch 11/30\n",
      "7/7 [==============================] - 4s 653ms/step - loss: 2.0700 - accuracy: 0.3165 - val_loss: 1.8551 - val_accuracy: 0.3220\n",
      "Epoch 12/30\n",
      "7/7 [==============================] - 4s 657ms/step - loss: 1.8936 - accuracy: 0.3237 - val_loss: 1.9333 - val_accuracy: 0.3220\n",
      "Epoch 13/30\n",
      "7/7 [==============================] - 4s 645ms/step - loss: 1.9426 - accuracy: 0.3237 - val_loss: 1.6748 - val_accuracy: 0.4068\n",
      "Epoch 14/30\n",
      "7/7 [==============================] - 4s 654ms/step - loss: 1.8705 - accuracy: 0.3813 - val_loss: 1.6308 - val_accuracy: 0.4746\n",
      "Epoch 15/30\n",
      "7/7 [==============================] - 4s 665ms/step - loss: 1.8022 - accuracy: 0.3957 - val_loss: 1.7188 - val_accuracy: 0.3051\n",
      "Epoch 16/30\n",
      "7/7 [==============================] - 4s 658ms/step - loss: 1.7362 - accuracy: 0.4820 - val_loss: 1.5027 - val_accuracy: 0.4746\n",
      "Epoch 17/30\n",
      "7/7 [==============================] - 4s 649ms/step - loss: 1.6253 - accuracy: 0.4245 - val_loss: 1.3684 - val_accuracy: 0.5254\n",
      "Epoch 18/30\n",
      "7/7 [==============================] - 4s 654ms/step - loss: 1.7278 - accuracy: 0.4388 - val_loss: 1.3522 - val_accuracy: 0.5085\n",
      "Epoch 19/30\n",
      "7/7 [==============================] - 4s 645ms/step - loss: 1.5719 - accuracy: 0.4532 - val_loss: 1.4970 - val_accuracy: 0.5085\n",
      "Epoch 20/30\n",
      "7/7 [==============================] - 4s 657ms/step - loss: 1.6283 - accuracy: 0.4604 - val_loss: 1.5523 - val_accuracy: 0.4746\n",
      "Epoch 21/30\n",
      "7/7 [==============================] - 4s 655ms/step - loss: 1.5518 - accuracy: 0.4460 - val_loss: 1.2394 - val_accuracy: 0.5593\n",
      "Epoch 22/30\n",
      "7/7 [==============================] - 4s 651ms/step - loss: 1.3896 - accuracy: 0.5108 - val_loss: 1.3206 - val_accuracy: 0.5254\n",
      "Epoch 23/30\n",
      "7/7 [==============================] - 4s 647ms/step - loss: 1.5952 - accuracy: 0.4892 - val_loss: 1.2670 - val_accuracy: 0.5424\n",
      "Epoch 24/30\n",
      "7/7 [==============================] - 4s 651ms/step - loss: 1.4325 - accuracy: 0.5180 - val_loss: 1.2628 - val_accuracy: 0.5593\n",
      "Epoch 25/30\n",
      "7/7 [==============================] - 5s 701ms/step - loss: 1.4629 - accuracy: 0.4460 - val_loss: 1.0495 - val_accuracy: 0.7119\n",
      "Epoch 26/30\n",
      "7/7 [==============================] - 5s 689ms/step - loss: 1.3741 - accuracy: 0.5108 - val_loss: 1.1041 - val_accuracy: 0.5593\n",
      "Epoch 27/30\n",
      "7/7 [==============================] - 4s 650ms/step - loss: 1.3171 - accuracy: 0.5683 - val_loss: 1.0908 - val_accuracy: 0.6102\n",
      "Epoch 28/30\n",
      "7/7 [==============================] - 4s 654ms/step - loss: 1.2919 - accuracy: 0.5468 - val_loss: 1.0295 - val_accuracy: 0.6271\n",
      "Epoch 29/30\n",
      "7/7 [==============================] - 4s 652ms/step - loss: 1.3124 - accuracy: 0.5899 - val_loss: 1.1573 - val_accuracy: 0.6102\n",
      "Epoch 30/30\n",
      "7/7 [==============================] - 4s 648ms/step - loss: 1.1038 - accuracy: 0.6403 - val_loss: 0.9940 - val_accuracy: 0.6780\n"
     ]
    }
   ],
   "source": [
    "#Starting the model training\n",
    "history=classifier.fit_generator(training_set,epochs=30,validation_data=validation_set)"
   ]
  },
  {
   "cell_type": "code",
   "execution_count": 82,
   "id": "ff93ecbb",
   "metadata": {},
   "outputs": [],
   "source": [
    "#Displaying curves of loss and accuracy during training"
   ]
  },
  {
   "cell_type": "code",
   "execution_count": 83,
   "id": "ca1d8003",
   "metadata": {},
   "outputs": [],
   "source": [
    "import matplotlib.pyplot as plt"
   ]
  },
  {
   "cell_type": "code",
   "execution_count": 84,
   "id": "4c0d7c8b",
   "metadata": {},
   "outputs": [],
   "source": [
    "acc=history.history['accuracy']\n",
    "val_acc=history.history['val_accuracy']\n",
    "loss=history.history['loss']\n",
    "val_loss=history.history['val_loss']"
   ]
  },
  {
   "cell_type": "code",
   "execution_count": 85,
   "id": "29517a08",
   "metadata": {},
   "outputs": [],
   "source": [
    "epochs=range(1,len(acc)+1)"
   ]
  },
  {
   "cell_type": "code",
   "execution_count": 86,
   "id": "d7de88b1",
   "metadata": {},
   "outputs": [
    {
     "data": {
      "text/plain": [
       "<Figure size 432x288 with 0 Axes>"
      ]
     },
     "execution_count": 86,
     "metadata": {},
     "output_type": "execute_result"
    },
    {
     "data": {
      "image/png": "[encoded data removed]",
      "text/plain": [
       "<Figure size 432x288 with 1 Axes>"
      ]
     },
     "metadata": {
      "needs_background": "light"
     },
     "output_type": "display_data"
    },
    {
     "data": {
      "text/plain": [
       "<Figure size 432x288 with 0 Axes>"
      ]
     },
     "metadata": {},
     "output_type": "display_data"
    }
   ],
   "source": [
    "plt.plot(epochs,acc,'bo',label='Training acc')\n",
    "plt.plot(epochs,val_acc,'g',label='validation acc')\n",
    "plt.title('Training and validation accuracy')\n",
    "plt.legend()\n",
    "plt.figure()"
   ]
  },
  {
   "cell_type": "code",
   "execution_count": 87,
   "id": "b6e6ccbb",
   "metadata": {},
   "outputs": [
    {
     "data": {
      "text/plain": [
       "<Figure size 432x288 with 0 Axes>"
      ]
     },
     "execution_count": 87,
     "metadata": {},
     "output_type": "execute_result"
    },
    {
     "data": {
      "image/png": "[encoded data removed]",
      "text/plain": [
       "<Figure size 432x288 with 1 Axes>"
      ]
     },
     "metadata": {
      "needs_background": "light"
     },
     "output_type": "display_data"
    },
    {
     "data": {
      "text/plain": [
       "<Figure size 432x288 with 0 Axes>"
      ]
     },
     "metadata": {},
     "output_type": "display_data"
    }
   ],
   "source": [
    "plt.plot(epochs,loss,'bo',label='Training loss')\n",
    "plt.plot(epochs,val_loss,'g',label='validation loss')\n",
    "plt.title('Training and validation loss')\n",
    "plt.legend()\n",
    "plt.figure()"
   ]
  },
  {
   "cell_type": "code",
   "execution_count": 88,
   "id": "c7a2dfff",
   "metadata": {},
   "outputs": [],
   "source": [
    "#MODEL_3"
   ]
  },
  {
   "cell_type": "code",
   "execution_count": 89,
   "id": "7bc6580e",
   "metadata": {},
   "outputs": [],
   "source": [
    "#---------PRETRAINED MODEL"
   ]
  },
  {
   "cell_type": "code",
   "execution_count": 90,
   "id": "9b07bf4b",
   "metadata": {},
   "outputs": [],
   "source": [
    "#INSTANTIANTING THE VGG16 CONVOLUTIONAL BASE\n",
    "#IMAGENET DATASET(1.4 MILLION LABELED IMAGES AND 1000 DIFFERENT CLASSES)"
   ]
  },
  {
   "cell_type": "code",
   "execution_count": 91,
   "id": "de5dd328",
   "metadata": {},
   "outputs": [],
   "source": [
    "import tensorflow as tf"
   ]
  },
  {
   "cell_type": "code",
   "execution_count": 92,
   "id": "54c56d82",
   "metadata": {},
   "outputs": [
    {
     "data": {
      "text/plain": [
       "<function keras.applications.vgg16.VGG16(include_top=True, weights='imagenet', input_tensor=None, input_shape=None, pooling=None, classes=1000, classifier_activation='softmax')>"
      ]
     },
     "execution_count": 92,
     "metadata": {},
     "output_type": "execute_result"
    }
   ],
   "source": [
    "#from keras.applications import VGG16 #tf.keras.applications.vgg16.preprocess_input\n",
    "tf.keras.applications.VGG16"
   ]
  },
  {
   "cell_type": "code",
   "execution_count": 93,
   "id": "e3895aff",
   "metadata": {},
   "outputs": [
    {
     "data": {
      "text/plain": [
       "<function keras.applications.vgg16.preprocess_input(x, data_format=None)>"
      ]
     },
     "execution_count": 93,
     "metadata": {},
     "output_type": "execute_result"
    }
   ],
   "source": [
    "#from keras.applications import VGG16\n",
    "tf.keras.applications.vgg16.preprocess_input"
   ]
  },
  {
   "cell_type": "code",
   "execution_count": 94,
   "id": "df4ad4c0",
   "metadata": {},
   "outputs": [],
   "source": [
    "from keras.applications.vgg16 import VGG16\n",
    "from keras.preprocessing import image\n",
    "from keras.applications.vgg16 import preprocess_input\n",
    "from keras.layers import Input, Flatten, Dense\n",
    "from keras.models import Model\n",
    "from keras.datasets import mnist"
   ]
  },
  {
   "cell_type": "code",
   "execution_count": 95,
   "id": "d0b38dcb",
   "metadata": {},
   "outputs": [],
   "source": [
    "conv_base=VGG16(weights='imagenet',include_top=False,input_shape=(150,150,3))"
   ]
  },
  {
   "cell_type": "code",
   "execution_count": 96,
   "id": "3fe842a9",
   "metadata": {},
   "outputs": [
    {
     "name": "stdout",
     "output_type": "stream",
     "text": [
      "Model: \"vgg16\"\n",
      "_________________________________________________________________\n",
      "Layer (type)                 Output Shape              Param #   \n",
      "=================================================================\n",
      "input_1 (InputLayer)         [(None, 150, 150, 3)]     0         \n",
      "_________________________________________________________________\n",
      "block1_conv1 (Conv2D)        (None, 150, 150, 64)      1792      \n",
      "_________________________________________________________________\n",
      "block1_conv2 (Conv2D)        (None, 150, 150, 64)      36928     \n",
      "_________________________________________________________________\n",
      "block1_pool (MaxPooling2D)   (None, 75, 75, 64)        0         \n",
      "_________________________________________________________________\n",
      "block2_conv1 (Conv2D)        (None, 75, 75, 128)       73856     \n",
      "_________________________________________________________________\n",
      "block2_conv2 (Conv2D)        (None, 75, 75, 128)       147584    \n",
      "_________________________________________________________________\n",
      "block2_pool (MaxPooling2D)   (None, 37, 37, 128)       0         \n",
      "_________________________________________________________________\n",
      "block3_conv1 (Conv2D)        (None, 37, 37, 256)       295168    \n",
      "_________________________________________________________________\n",
      "block3_conv2 (Conv2D)        (None, 37, 37, 256)       590080    \n",
      "_________________________________________________________________\n",
      "block3_conv3 (Conv2D)        (None, 37, 37, 256)       590080    \n",
      "_________________________________________________________________\n",
      "block3_pool (MaxPooling2D)   (None, 18, 18, 256)       0         \n",
      "_________________________________________________________________\n",
      "block4_conv1 (Conv2D)        (None, 18, 18, 512)       1180160   \n",
      "_________________________________________________________________\n",
      "block4_conv2 (Conv2D)        (None, 18, 18, 512)       2359808   \n",
      "_________________________________________________________________\n",
      "block4_conv3 (Conv2D)        (None, 18, 18, 512)       2359808   \n",
      "_________________________________________________________________\n",
      "block4_pool (MaxPooling2D)   (None, 9, 9, 512)         0         \n",
      "_________________________________________________________________\n",
      "block5_conv1 (Conv2D)        (None, 9, 9, 512)         2359808   \n",
      "_________________________________________________________________\n",
      "block5_conv2 (Conv2D)        (None, 9, 9, 512)         2359808   \n",
      "_________________________________________________________________\n",
      "block5_conv3 (Conv2D)        (None, 9, 9, 512)         2359808   \n",
      "_________________________________________________________________\n",
      "block5_pool (MaxPooling2D)   (None, 4, 4, 512)         0         \n",
      "=================================================================\n",
      "Total params: 14,714,688\n",
      "Trainable params: 14,714,688\n",
      "Non-trainable params: 0\n",
      "_________________________________________________________________\n"
     ]
    }
   ],
   "source": [
    "conv_base.summary()"
   ]
  },
  {
   "cell_type": "code",
   "execution_count": 97,
   "id": "f68e1ac5",
   "metadata": {},
   "outputs": [],
   "source": [
    "#Extracting features using the pretrained convolutional base"
   ]
  },
  {
   "cell_type": "code",
   "execution_count": 98,
   "id": "30ab2fcb",
   "metadata": {},
   "outputs": [],
   "source": [
    "import numpy as np\n",
    "from keras.preprocessing.image import ImageDataGenerator"
   ]
  },
  {
   "cell_type": "code",
   "execution_count": 99,
   "id": "756f34ae",
   "metadata": {},
   "outputs": [],
   "source": [
    "#specifying the folder where images are present"
   ]
  },
  {
   "cell_type": "code",
   "execution_count": 100,
   "id": "857a2d4e",
   "metadata": {},
   "outputs": [],
   "source": [
    "TrainingImagePath='C:/Users/SURESH A/Desktop/vali&train 21 sep/Train'"
   ]
  },
  {
   "cell_type": "code",
   "execution_count": 101,
   "id": "d96ca4b4",
   "metadata": {},
   "outputs": [],
   "source": [
    "validationImagePath='C:/Users/SURESH A/Desktop/vali&train 21 sep/Validation'"
   ]
  },
  {
   "cell_type": "code",
   "execution_count": 102,
   "id": "99b581a2",
   "metadata": {},
   "outputs": [],
   "source": [
    "datagen=ImageDataGenerator(rescale=1./255)"
   ]
  },
  {
   "cell_type": "code",
   "execution_count": 103,
   "id": "923dfa57",
   "metadata": {},
   "outputs": [],
   "source": [
    "batch_size=20"
   ]
  },
  {
   "cell_type": "code",
   "execution_count": 104,
   "id": "f562227d",
   "metadata": {},
   "outputs": [],
   "source": [
    "def extract_features(directory,sample_count):\n",
    "    features=np.zeros(shape=(sample_count,4,4,512))\n",
    "    labels=np.zeros(shape=(sample_count))\n",
    "    generator=datagen.flow_from_directory(directory,target_size=(150,150),batch_size=batch_size,class_mode='binary')\n",
    "    i=0\n",
    "    for inputs_batch,labels_batch in generator:\n",
    "        features_batch=conv_base.predict(inputs_batch)\n",
    "        features[i*batch_size:(i+1)*batch_size]=features_batch\n",
    "        labels[i*batch_size:(i+1)*batch_size]=labels_batch\n",
    "        i+=1\n",
    "        if i* batch_size>=sample_count:\n",
    "            break\n",
    "    return features,labels"
   ]
  },
  {
   "cell_type": "code",
   "execution_count": 105,
   "id": "b0d11144",
   "metadata": {},
   "outputs": [],
   "source": [
    "#PREPARATION"
   ]
  },
  {
   "cell_type": "code",
   "execution_count": 106,
   "id": "526f7eb4",
   "metadata": {},
   "outputs": [],
   "source": [
    "# Following three codes takes few minutes each as it converting images\n",
    "#in to arrays"
   ]
  },
  {
   "cell_type": "code",
   "execution_count": 107,
   "id": "bea40b84",
   "metadata": {},
   "outputs": [
    {
     "name": "stdout",
     "output_type": "stream",
     "text": [
      "Found 139 images belonging to 11 classes.\n"
     ]
    }
   ],
   "source": [
    "train_features,train_labels=extract_features(TrainingImagePath,139)"
   ]
  },
  {
   "cell_type": "code",
   "execution_count": 108,
   "id": "23726692",
   "metadata": {},
   "outputs": [
    {
     "name": "stdout",
     "output_type": "stream",
     "text": [
      "Found 59 images belonging to 11 classes.\n"
     ]
    }
   ],
   "source": [
    "validation_features,validation_labels=extract_features(validationImagePath,59)"
   ]
  },
  {
   "cell_type": "code",
   "execution_count": 109,
   "id": "b7fa9856",
   "metadata": {},
   "outputs": [
    {
     "data": {
      "text/plain": [
       "(139, 4, 4, 512)"
      ]
     },
     "execution_count": 109,
     "metadata": {},
     "output_type": "execute_result"
    }
   ],
   "source": [
    "train_features.shape"
   ]
  },
  {
   "cell_type": "code",
   "execution_count": 110,
   "id": "740e991f",
   "metadata": {},
   "outputs": [],
   "source": [
    "train_features=np.reshape(train_features,(139,4*4*512))"
   ]
  },
  {
   "cell_type": "code",
   "execution_count": 111,
   "id": "138a141e",
   "metadata": {},
   "outputs": [
    {
     "data": {
      "text/plain": [
       "(139, 8192)"
      ]
     },
     "execution_count": 111,
     "metadata": {},
     "output_type": "execute_result"
    }
   ],
   "source": [
    "train_features.shape"
   ]
  },
  {
   "cell_type": "code",
   "execution_count": 112,
   "id": "a22753e4",
   "metadata": {},
   "outputs": [
    {
     "data": {
      "text/plain": [
       "(59, 4, 4, 512)"
      ]
     },
     "execution_count": 112,
     "metadata": {},
     "output_type": "execute_result"
    }
   ],
   "source": [
    "validation_features.shape"
   ]
  },
  {
   "cell_type": "code",
   "execution_count": 114,
   "id": "e1ea1466",
   "metadata": {},
   "outputs": [],
   "source": [
    "validation_features=np.reshape(validation_features,(59,4*4*512))"
   ]
  },
  {
   "cell_type": "code",
   "execution_count": 115,
   "id": "c0b7b2f2",
   "metadata": {},
   "outputs": [
    {
     "data": {
      "text/plain": [
       "(59, 8192)"
      ]
     },
     "execution_count": 115,
     "metadata": {},
     "output_type": "execute_result"
    }
   ],
   "source": [
    "validation_features.shape"
   ]
  },
  {
   "cell_type": "code",
   "execution_count": 116,
   "id": "d456041d",
   "metadata": {},
   "outputs": [],
   "source": [
    "#preparing the response data"
   ]
  },
  {
   "cell_type": "code",
   "execution_count": 117,
   "id": "c2b7b838",
   "metadata": {},
   "outputs": [
    {
     "data": {
      "text/plain": [
       "(139,)"
      ]
     },
     "execution_count": 117,
     "metadata": {},
     "output_type": "execute_result"
    }
   ],
   "source": [
    "train_labels.shape"
   ]
  },
  {
   "cell_type": "code",
   "execution_count": 118,
   "id": "7d16550a",
   "metadata": {},
   "outputs": [],
   "source": [
    "#from keras.utils import to_categorical\n",
    "from tensorflow.keras.utils import to_categorical"
   ]
  },
  {
   "cell_type": "code",
   "execution_count": 119,
   "id": "dd7afa76",
   "metadata": {},
   "outputs": [
    {
     "data": {
      "text/plain": [
       "(139, 11)"
      ]
     },
     "execution_count": 119,
     "metadata": {},
     "output_type": "execute_result"
    }
   ],
   "source": [
    "train_labels_cat=to_categorical(train_labels)\n",
    "train_labels_cat.shape"
   ]
  },
  {
   "cell_type": "code",
   "execution_count": 120,
   "id": "0cc7f0fb",
   "metadata": {},
   "outputs": [
    {
     "data": {
      "text/plain": [
       "(59, 11)"
      ]
     },
     "execution_count": 120,
     "metadata": {},
     "output_type": "execute_result"
    }
   ],
   "source": [
    "validation_labels.shape\n",
    "valid_labels_cat=to_categorical(validation_labels)\n",
    "valid_labels_cat.shape"
   ]
  },
  {
   "cell_type": "code",
   "execution_count": 121,
   "id": "4952bcd9",
   "metadata": {},
   "outputs": [],
   "source": [
    "#DEFINING AND TRAINING THE DENSITY CONNECTED CLASSIFIER"
   ]
  },
  {
   "cell_type": "code",
   "execution_count": 122,
   "id": "a9cc74ca",
   "metadata": {},
   "outputs": [],
   "source": [
    "from keras import models\n",
    "from keras import layers\n",
    "from keras import optimizers"
   ]
  },
  {
   "cell_type": "code",
   "execution_count": 123,
   "id": "8a2dd7b9",
   "metadata": {},
   "outputs": [],
   "source": [
    "model=models.Sequential()\n",
    "model.add(layers.Dense(256,activation='relu',input_dim=4*4*512))\n",
    "model.add(layers.Dropout(0.5))\n",
    "model.add(layers.Dense(11,activation='softmax'))\n",
    "model.compile(optimizer='adam',loss='categorical_crossentropy',metrics=['acc'])"
   ]
  },
  {
   "cell_type": "code",
   "execution_count": 124,
   "id": "7016b7d6",
   "metadata": {},
   "outputs": [
    {
     "name": "stdout",
     "output_type": "stream",
     "text": [
      "Epoch 1/30\n",
      "7/7 [==============================] - 1s 57ms/step - loss: 3.1679 - acc: 0.1583 - val_loss: 1.6470 - val_acc: 0.4068\n",
      "Epoch 2/30\n",
      "7/7 [==============================] - 0s 26ms/step - loss: 1.4238 - acc: 0.5468 - val_loss: 1.0320 - val_acc: 0.7458\n",
      "Epoch 3/30\n",
      "7/7 [==============================] - 0s 25ms/step - loss: 0.8535 - acc: 0.7194 - val_loss: 0.7492 - val_acc: 0.8475\n",
      "Epoch 4/30\n",
      "7/7 [==============================] - 0s 24ms/step - loss: 0.5714 - acc: 0.8345 - val_loss: 0.5390 - val_acc: 0.8475\n",
      "Epoch 5/30\n",
      "7/7 [==============================] - 0s 25ms/step - loss: 0.4147 - acc: 0.8849 - val_loss: 0.4798 - val_acc: 0.8644\n",
      "Epoch 6/30\n",
      "7/7 [==============================] - 0s 23ms/step - loss: 0.2369 - acc: 0.9353 - val_loss: 0.3774 - val_acc: 0.8475\n",
      "Epoch 7/30\n",
      "7/7 [==============================] - 0s 23ms/step - loss: 0.1490 - acc: 0.9712 - val_loss: 0.3373 - val_acc: 0.8814\n",
      "Epoch 8/30\n",
      "7/7 [==============================] - 0s 23ms/step - loss: 0.1404 - acc: 0.9784 - val_loss: 0.3520 - val_acc: 0.8814\n",
      "Epoch 9/30\n",
      "7/7 [==============================] - 0s 23ms/step - loss: 0.0799 - acc: 1.0000 - val_loss: 0.3057 - val_acc: 0.8983\n",
      "Epoch 10/30\n",
      "7/7 [==============================] - 0s 22ms/step - loss: 0.0862 - acc: 0.9784 - val_loss: 0.3142 - val_acc: 0.8983\n",
      "Epoch 11/30\n",
      "7/7 [==============================] - 0s 22ms/step - loss: 0.0662 - acc: 0.9856 - val_loss: 0.3306 - val_acc: 0.8644\n",
      "Epoch 12/30\n",
      "7/7 [==============================] - 0s 24ms/step - loss: 0.0596 - acc: 1.0000 - val_loss: 0.2974 - val_acc: 0.8814\n",
      "Epoch 13/30\n",
      "7/7 [==============================] - 0s 23ms/step - loss: 0.0423 - acc: 1.0000 - val_loss: 0.2533 - val_acc: 0.8983\n",
      "Epoch 14/30\n",
      "7/7 [==============================] - 0s 25ms/step - loss: 0.0253 - acc: 1.0000 - val_loss: 0.2329 - val_acc: 0.9322\n",
      "Epoch 15/30\n",
      "7/7 [==============================] - 0s 24ms/step - loss: 0.0365 - acc: 0.9928 - val_loss: 0.2307 - val_acc: 0.9322\n",
      "Epoch 16/30\n",
      "7/7 [==============================] - 0s 26ms/step - loss: 0.0524 - acc: 0.9928 - val_loss: 0.2600 - val_acc: 0.9153\n",
      "Epoch 17/30\n",
      "7/7 [==============================] - 0s 26ms/step - loss: 0.0390 - acc: 0.9928 - val_loss: 0.2440 - val_acc: 0.8983\n",
      "Epoch 18/30\n",
      "7/7 [==============================] - 0s 25ms/step - loss: 0.0273 - acc: 1.0000 - val_loss: 0.2356 - val_acc: 0.9153\n",
      "Epoch 19/30\n",
      "7/7 [==============================] - 0s 26ms/step - loss: 0.0385 - acc: 1.0000 - val_loss: 0.2485 - val_acc: 0.9153\n",
      "Epoch 20/30\n",
      "7/7 [==============================] - 0s 25ms/step - loss: 0.0296 - acc: 1.0000 - val_loss: 0.2440 - val_acc: 0.9153\n",
      "Epoch 21/30\n",
      "7/7 [==============================] - 0s 27ms/step - loss: 0.0280 - acc: 0.9928 - val_loss: 0.2602 - val_acc: 0.9153\n",
      "Epoch 22/30\n",
      "7/7 [==============================] - 0s 25ms/step - loss: 0.0209 - acc: 1.0000 - val_loss: 0.3219 - val_acc: 0.8814\n",
      "Epoch 23/30\n",
      "7/7 [==============================] - 0s 24ms/step - loss: 0.0198 - acc: 1.0000 - val_loss: 0.2798 - val_acc: 0.8983\n",
      "Epoch 24/30\n",
      "7/7 [==============================] - 0s 24ms/step - loss: 0.0244 - acc: 1.0000 - val_loss: 0.2240 - val_acc: 0.9153\n",
      "Epoch 25/30\n",
      "7/7 [==============================] - 0s 22ms/step - loss: 0.0311 - acc: 0.9928 - val_loss: 0.1994 - val_acc: 0.9153\n",
      "Epoch 26/30\n",
      "7/7 [==============================] - 0s 25ms/step - loss: 0.0188 - acc: 1.0000 - val_loss: 0.2055 - val_acc: 0.9153\n",
      "Epoch 27/30\n",
      "7/7 [==============================] - 0s 24ms/step - loss: 0.0331 - acc: 0.9928 - val_loss: 0.1724 - val_acc: 0.9492\n",
      "Epoch 28/30\n",
      "7/7 [==============================] - 0s 25ms/step - loss: 0.0233 - acc: 1.0000 - val_loss: 0.1851 - val_acc: 0.9322\n",
      "Epoch 29/30\n",
      "7/7 [==============================] - 0s 25ms/step - loss: 0.0151 - acc: 1.0000 - val_loss: 0.1939 - val_acc: 0.9322\n",
      "Epoch 30/30\n",
      "7/7 [==============================] - 0s 25ms/step - loss: 0.0205 - acc: 1.0000 - val_loss: 0.2026 - val_acc: 0.9322\n"
     ]
    }
   ],
   "source": [
    "history=model.fit(train_features,train_labels_cat,epochs=30,batch_size=20,\n",
    "                 validation_data=(validation_features,valid_labels_cat))"
   ]
  },
  {
   "cell_type": "code",
   "execution_count": 125,
   "id": "21d34328",
   "metadata": {},
   "outputs": [],
   "source": [
    "#ACCURACY_3"
   ]
  },
  {
   "cell_type": "code",
   "execution_count": 126,
   "id": "60925528",
   "metadata": {},
   "outputs": [],
   "source": [
    "#PLOTTING THE RESULTS\n",
    "import matplotlib.pyplot as plt\n",
    "acc=history.history['acc']\n",
    "val_acc=history.history['val_acc']\n",
    "loss=history.history['loss']\n",
    "val_loss=history.history['val_loss']"
   ]
  },
  {
   "cell_type": "code",
   "execution_count": 127,
   "id": "4ab4c38e",
   "metadata": {},
   "outputs": [],
   "source": [
    "epochs=range(1,len(acc)+1)"
   ]
  },
  {
   "cell_type": "code",
   "execution_count": 128,
   "id": "b6882ba0",
   "metadata": {},
   "outputs": [
    {
     "data": {
      "text/plain": [
       "<Figure size 432x288 with 0 Axes>"
      ]
     },
     "execution_count": 128,
     "metadata": {},
     "output_type": "execute_result"
    },
    {
     "data": {
      "image/png": "[encoded data removed]",
      "text/plain": [
       "<Figure size 432x288 with 1 Axes>"
      ]
     },
     "metadata": {
      "needs_background": "light"
     },
     "output_type": "display_data"
    },
    {
     "data": {
      "text/plain": [
       "<Figure size 432x288 with 0 Axes>"
      ]
     },
     "metadata": {},
     "output_type": "display_data"
    }
   ],
   "source": [
    "plt.plot(epochs,acc,'bo',label='Training acc')\n",
    "plt.plot(epochs,val_acc,'r',label='validation acc')\n",
    "plt.title('Training and validation accuracy')\n",
    "plt.legend()\n",
    "plt.figure()"
   ]
  },
  {
   "cell_type": "code",
   "execution_count": 129,
   "id": "13eb2bc5",
   "metadata": {},
   "outputs": [],
   "source": [
    "#loss_3"
   ]
  },
  {
   "cell_type": "code",
   "execution_count": 131,
   "id": "5fb3bb4b",
   "metadata": {},
   "outputs": [
    {
     "data": {
      "image/png": "[encoded data removed]",
      "text/plain": [
       "<Figure size 432x288 with 1 Axes>"
      ]
     },
     "metadata": {
      "needs_background": "light"
     },
     "output_type": "display_data"
    }
   ],
   "source": [
    "plt.plot(epochs,loss,'bo',label='Training loss')\n",
    "plt.plot(epochs,val_loss,'r',label='validation loss')\n",
    "plt.title('Training and validation loss')\n",
    "plt.legend()\n",
    "plt.show()"
   ]
  },
  {
   "cell_type": "code",
   "execution_count": null,
   "id": "2b3414d8",
   "metadata": {},
   "outputs": [],
   "source": []
  },
  {
   "cell_type": "code",
   "execution_count": null,
   "id": "405f8cf4",
   "metadata": {},
   "outputs": [],
   "source": []
  }
 ],
 "metadata": {
  "kernelspec": {
   "display_name": "Python 3",
   "language": "python",
   "name": "python3"
  },
  "language_info": {
   "codemirror_mode": {
    "name": "ipython",
    "version": 3
   },
   "file_extension": ".py",
   "mimetype": "text/x-python",
   "name": "python",
   "nbconvert_exporter": "python",
   "pygments_lexer": "ipython3",
   "version": "3.8.8"
  }
 },
 "nbformat": 4,
 "nbformat_minor": 5
}
