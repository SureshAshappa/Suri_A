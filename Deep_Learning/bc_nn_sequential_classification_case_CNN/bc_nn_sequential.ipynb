{
 "cells": [
  {
   "cell_type": "code",
   "execution_count": 1,
   "id": "85e1c13f",
   "metadata": {},
   "outputs": [],
   "source": [
    "#Classification Case Neural Network"
   ]
  },
  {
   "cell_type": "code",
   "execution_count": 2,
   "id": "54a817b3",
   "metadata": {},
   "outputs": [],
   "source": [
    "import pandas as pd\n",
    "import numpy as np\n",
    "import matplotlib.pyplot as plt\n",
    "pd.set_option('display.max_column',None)\n",
    "import seaborn as sns\n",
    "from sklearn.preprocessing import normalize\n",
    "from sklearn.model_selection import train_test_split"
   ]
  },
  {
   "cell_type": "code",
   "execution_count": 3,
   "id": "13c15397",
   "metadata": {},
   "outputs": [
    {
     "name": "stdout",
     "output_type": "stream",
     "text": [
      "Requirement already satisfied: tensorflow in c:\\users\\suresh a\\appdata\\roaming\\python\\python38\\site-packages (2.6.0)\n",
      "Requirement already satisfied: clang~=5.0 in c:\\users\\suresh a\\appdata\\roaming\\python\\python38\\site-packages (from tensorflow) (5.0)\n",
      "Requirement already satisfied: h5py~=3.1.0 in c:\\users\\suresh a\\appdata\\roaming\\python\\python38\\site-packages (from tensorflow) (3.1.0)\n",
      "Requirement already satisfied: termcolor~=1.1.0 in c:\\users\\suresh a\\appdata\\roaming\\python\\python38\\site-packages (from tensorflow) (1.1.0)\n",
      "Requirement already satisfied: six~=1.15.0 in c:\\programdata\\anaconda3\\new folder (2)\\lib\\site-packages (from tensorflow) (1.15.0)\n",
      "Requirement already satisfied: keras~=2.6 in c:\\users\\suresh a\\appdata\\roaming\\python\\python38\\site-packages (from tensorflow) (2.6.0)\n",
      "Requirement already satisfied: tensorboard~=2.6 in c:\\users\\suresh a\\appdata\\roaming\\python\\python38\\site-packages (from tensorflow) (2.6.0)\n",
      "Requirement already satisfied: numpy~=1.19.2 in c:\\users\\suresh a\\appdata\\roaming\\python\\python38\\site-packages (from tensorflow) (1.19.5)\n",
      "Requirement already satisfied: gast==0.4.0 in c:\\users\\suresh a\\appdata\\roaming\\python\\python38\\site-packages (from tensorflow) (0.4.0)\n",
      "Requirement already satisfied: grpcio<2.0,>=1.37.0 in c:\\users\\suresh a\\appdata\\roaming\\python\\python38\\site-packages (from tensorflow) (1.40.0)\n",
      "Requirement already satisfied: flatbuffers~=1.12.0 in c:\\users\\suresh a\\appdata\\roaming\\python\\python38\\site-packages (from tensorflow) (1.12)\n",
      "Requirement already satisfied: wheel~=0.35 in c:\\programdata\\anaconda3\\new folder (2)\\lib\\site-packages (from tensorflow) (0.36.2)\n",
      "Requirement already satisfied: astunparse~=1.6.3 in c:\\users\\suresh a\\appdata\\roaming\\python\\python38\\site-packages (from tensorflow) (1.6.3)\n",
      "Requirement already satisfied: google-pasta~=0.2 in c:\\users\\suresh a\\appdata\\roaming\\python\\python38\\site-packages (from tensorflow) (0.2.0)\n",
      "Requirement already satisfied: opt-einsum~=3.3.0 in c:\\users\\suresh a\\appdata\\roaming\\python\\python38\\site-packages (from tensorflow) (3.3.0)\n",
      "Requirement already satisfied: typing-extensions~=3.7.4 in c:\\programdata\\anaconda3\\new folder (2)\\lib\\site-packages (from tensorflow) (3.7.4.3)\n",
      "Requirement already satisfied: tensorflow-estimator~=2.6 in c:\\users\\suresh a\\appdata\\roaming\\python\\python38\\site-packages (from tensorflow) (2.6.0)\n",
      "Requirement already satisfied: keras-preprocessing~=1.1.2 in c:\\users\\suresh a\\appdata\\roaming\\python\\python38\\site-packages (from tensorflow) (1.1.2)\n",
      "Requirement already satisfied: absl-py~=0.10 in c:\\users\\suresh a\\appdata\\roaming\\python\\python38\\site-packages (from tensorflow) (0.13.0)\n",
      "Requirement already satisfied: protobuf>=3.9.2 in c:\\users\\suresh a\\appdata\\roaming\\python\\python38\\site-packages (from tensorflow) (3.17.3)\n",
      "Requirement already satisfied: wrapt~=1.12.1 in c:\\programdata\\anaconda3\\new folder (2)\\lib\\site-packages (from tensorflow) (1.12.1)\n",
      "Requirement already satisfied: werkzeug>=0.11.15 in c:\\programdata\\anaconda3\\new folder (2)\\lib\\site-packages (from tensorboard~=2.6->tensorflow) (1.0.1)\n",
      "Requirement already satisfied: requests<3,>=2.21.0 in c:\\programdata\\anaconda3\\new folder (2)\\lib\\site-packages (from tensorboard~=2.6->tensorflow) (2.25.1)\n",
      "Requirement already satisfied: google-auth<2,>=1.6.3 in c:\\users\\suresh a\\appdata\\roaming\\python\\python38\\site-packages (from tensorboard~=2.6->tensorflow) (1.35.0)\n",
      "Requirement already satisfied: google-auth-oauthlib<0.5,>=0.4.1 in c:\\users\\suresh a\\appdata\\roaming\\python\\python38\\site-packages (from tensorboard~=2.6->tensorflow) (0.4.6)\n",
      "Requirement already satisfied: tensorboard-plugin-wit>=1.6.0 in c:\\users\\suresh a\\appdata\\roaming\\python\\python38\\site-packages (from tensorboard~=2.6->tensorflow) (1.8.0)\n",
      "Requirement already satisfied: tensorboard-data-server<0.7.0,>=0.6.0 in c:\\users\\suresh a\\appdata\\roaming\\python\\python38\\site-packages (from tensorboard~=2.6->tensorflow) (0.6.1)\n",
      "Requirement already satisfied: setuptools>=41.0.0 in c:\\programdata\\anaconda3\\new folder (2)\\lib\\site-packages (from tensorboard~=2.6->tensorflow) (52.0.0.post20210125)\n",
      "Requirement already satisfied: markdown>=2.6.8 in c:\\users\\suresh a\\appdata\\roaming\\python\\python38\\site-packages (from tensorboard~=2.6->tensorflow) (3.3.4)\n",
      "Requirement already satisfied: pyasn1-modules>=0.2.1 in c:\\users\\suresh a\\appdata\\roaming\\python\\python38\\site-packages (from google-auth<2,>=1.6.3->tensorboard~=2.6->tensorflow) (0.2.8)\n",
      "Requirement already satisfied: rsa<5,>=3.1.4 in c:\\users\\suresh a\\appdata\\roaming\\python\\python38\\site-packages (from google-auth<2,>=1.6.3->tensorboard~=2.6->tensorflow) (4.7.2)\n",
      "Requirement already satisfied: cachetools<5.0,>=2.0.0 in c:\\users\\suresh a\\appdata\\roaming\\python\\python38\\site-packages (from google-auth<2,>=1.6.3->tensorboard~=2.6->tensorflow) (4.2.2)\n",
      "Requirement already satisfied: requests-oauthlib>=0.7.0 in c:\\users\\suresh a\\appdata\\roaming\\python\\python38\\site-packages (from google-auth-oauthlib<0.5,>=0.4.1->tensorboard~=2.6->tensorflow) (1.3.0)\n",
      "Requirement already satisfied: pyasn1<0.5.0,>=0.4.6 in c:\\users\\suresh a\\appdata\\roaming\\python\\python38\\site-packages (from pyasn1-modules>=0.2.1->google-auth<2,>=1.6.3->tensorboard~=2.6->tensorflow) (0.4.8)\n",
      "Requirement already satisfied: urllib3<1.27,>=1.21.1 in c:\\programdata\\anaconda3\\new folder (2)\\lib\\site-packages (from requests<3,>=2.21.0->tensorboard~=2.6->tensorflow) (1.26.4)\n",
      "Requirement already satisfied: chardet<5,>=3.0.2 in c:\\programdata\\anaconda3\\new folder (2)\\lib\\site-packages (from requests<3,>=2.21.0->tensorboard~=2.6->tensorflow) (4.0.0)\n",
      "Requirement already satisfied: idna<3,>=2.5 in c:\\programdata\\anaconda3\\new folder (2)\\lib\\site-packages (from requests<3,>=2.21.0->tensorboard~=2.6->tensorflow) (2.10)\n",
      "Requirement already satisfied: certifi>=2017.4.17 in c:\\programdata\\anaconda3\\new folder (2)\\lib\\site-packages (from requests<3,>=2.21.0->tensorboard~=2.6->tensorflow) (2020.12.5)\n",
      "Requirement already satisfied: oauthlib>=3.0.0 in c:\\users\\suresh a\\appdata\\roaming\\python\\python38\\site-packages (from requests-oauthlib>=0.7.0->google-auth-oauthlib<0.5,>=0.4.1->tensorboard~=2.6->tensorflow) (3.1.1)\n"
     ]
    }
   ],
   "source": [
    "!pip install --user tensorflow"
   ]
  },
  {
   "cell_type": "code",
   "execution_count": 4,
   "id": "a0097116",
   "metadata": {},
   "outputs": [
    {
     "name": "stdout",
     "output_type": "stream",
     "text": [
      "\n",
      "Note: you may need to restart the kernel to use updated packages.\n"
     ]
    },
    {
     "name": "stderr",
     "output_type": "stream",
     "text": [
      "usage: conda-script.py [-h] [-V] command ...\n",
      "conda-script.py: error: unrecognized arguments: tensorflow\n"
     ]
    }
   ],
   "source": [
    "conda install -c conda-forge tensorflow "
   ]
  },
  {
   "cell_type": "code",
   "execution_count": 5,
   "id": "ad91af26",
   "metadata": {},
   "outputs": [],
   "source": [
    "#pip install tensorflow\n",
    "from tensorflow import keras\n",
    "from keras.models import Sequential\n",
    "from keras.layers import Dense"
   ]
  },
  {
   "cell_type": "code",
   "execution_count": 6,
   "id": "ed5e440b",
   "metadata": {},
   "outputs": [],
   "source": [
    "bc=pd.read_csv('Downloads/BreastCancer.csv')"
   ]
  },
  {
   "cell_type": "code",
   "execution_count": 7,
   "id": "d8695612",
   "metadata": {},
   "outputs": [
    {
     "name": "stdout",
     "output_type": "stream",
     "text": [
      "<class 'pandas.core.frame.DataFrame'>\n",
      "RangeIndex: 699 entries, 0 to 698\n",
      "Data columns (total 12 columns):\n",
      " #   Column           Non-Null Count  Dtype  \n",
      "---  ------           --------------  -----  \n",
      " 0   Unnamed: 0       699 non-null    int64  \n",
      " 1   Id               699 non-null    int64  \n",
      " 2   Cl.thickness     699 non-null    int64  \n",
      " 3   Cell.size        699 non-null    int64  \n",
      " 4   Cell.shape       699 non-null    int64  \n",
      " 5   Marg.adhesion    699 non-null    int64  \n",
      " 6   Epith.c.size     699 non-null    int64  \n",
      " 7   Bare.nuclei      683 non-null    float64\n",
      " 8   Bl.cromatin      699 non-null    int64  \n",
      " 9   Normal.nucleoli  699 non-null    int64  \n",
      " 10  Mitoses          699 non-null    int64  \n",
      " 11  Class            699 non-null    object \n",
      "dtypes: float64(1), int64(10), object(1)\n",
      "memory usage: 65.7+ KB\n"
     ]
    }
   ],
   "source": [
    "bc.info()"
   ]
  },
  {
   "cell_type": "code",
   "execution_count": 8,
   "id": "8a344b1b",
   "metadata": {},
   "outputs": [
    {
     "data": {
      "text/plain": [
       "(699, 12)"
      ]
     },
     "execution_count": 8,
     "metadata": {},
     "output_type": "execute_result"
    }
   ],
   "source": [
    "bc.shape"
   ]
  },
  {
   "cell_type": "code",
   "execution_count": 9,
   "id": "414c138c",
   "metadata": {},
   "outputs": [
    {
     "data": {
      "text/plain": [
       "Unnamed: 0          0\n",
       "Id                  0\n",
       "Cl.thickness        0\n",
       "Cell.size           0\n",
       "Cell.shape          0\n",
       "Marg.adhesion       0\n",
       "Epith.c.size        0\n",
       "Bare.nuclei        16\n",
       "Bl.cromatin         0\n",
       "Normal.nucleoli     0\n",
       "Mitoses             0\n",
       "Class               0\n",
       "dtype: int64"
      ]
     },
     "execution_count": 9,
     "metadata": {},
     "output_type": "execute_result"
    }
   ],
   "source": [
    "#checking missing values\n",
    "bc.isnull().sum()"
   ]
  },
  {
   "cell_type": "code",
   "execution_count": 10,
   "id": "49c79785",
   "metadata": {},
   "outputs": [],
   "source": [
    "#Drop null values\n",
    "bc=bc.dropna()"
   ]
  },
  {
   "cell_type": "code",
   "execution_count": 11,
   "id": "f8297418",
   "metadata": {},
   "outputs": [
    {
     "name": "stdout",
     "output_type": "stream",
     "text": [
      "<class 'pandas.core.frame.DataFrame'>\n",
      "Int64Index: 683 entries, 0 to 698\n",
      "Data columns (total 12 columns):\n",
      " #   Column           Non-Null Count  Dtype  \n",
      "---  ------           --------------  -----  \n",
      " 0   Unnamed: 0       683 non-null    int64  \n",
      " 1   Id               683 non-null    int64  \n",
      " 2   Cl.thickness     683 non-null    int64  \n",
      " 3   Cell.size        683 non-null    int64  \n",
      " 4   Cell.shape       683 non-null    int64  \n",
      " 5   Marg.adhesion    683 non-null    int64  \n",
      " 6   Epith.c.size     683 non-null    int64  \n",
      " 7   Bare.nuclei      683 non-null    float64\n",
      " 8   Bl.cromatin      683 non-null    int64  \n",
      " 9   Normal.nucleoli  683 non-null    int64  \n",
      " 10  Mitoses          683 non-null    int64  \n",
      " 11  Class            683 non-null    object \n",
      "dtypes: float64(1), int64(10), object(1)\n",
      "memory usage: 69.4+ KB\n"
     ]
    }
   ],
   "source": [
    "bc.info()"
   ]
  },
  {
   "cell_type": "code",
   "execution_count": 12,
   "id": "6ea40104",
   "metadata": {},
   "outputs": [
    {
     "data": {
      "text/plain": [
       "Unnamed: 0         0\n",
       "Id                 0\n",
       "Cl.thickness       0\n",
       "Cell.size          0\n",
       "Cell.shape         0\n",
       "Marg.adhesion      0\n",
       "Epith.c.size       0\n",
       "Bare.nuclei        0\n",
       "Bl.cromatin        0\n",
       "Normal.nucleoli    0\n",
       "Mitoses            0\n",
       "Class              0\n",
       "dtype: int64"
      ]
     },
     "execution_count": 12,
     "metadata": {},
     "output_type": "execute_result"
    }
   ],
   "source": [
    "#checking missing values\n",
    "bc.isnull().sum()"
   ]
  },
  {
   "cell_type": "code",
   "execution_count": 13,
   "id": "2eedd43a",
   "metadata": {},
   "outputs": [],
   "source": [
    "#Asssigning Predictors and Response variables\n",
    "x=bc.iloc[:,2:11]"
   ]
  },
  {
   "cell_type": "code",
   "execution_count": 14,
   "id": "c984e304",
   "metadata": {},
   "outputs": [
    {
     "name": "stdout",
     "output_type": "stream",
     "text": [
      "<class 'pandas.core.frame.DataFrame'>\n",
      "Int64Index: 683 entries, 0 to 698\n",
      "Data columns (total 9 columns):\n",
      " #   Column           Non-Null Count  Dtype  \n",
      "---  ------           --------------  -----  \n",
      " 0   Cl.thickness     683 non-null    int64  \n",
      " 1   Cell.size        683 non-null    int64  \n",
      " 2   Cell.shape       683 non-null    int64  \n",
      " 3   Marg.adhesion    683 non-null    int64  \n",
      " 4   Epith.c.size     683 non-null    int64  \n",
      " 5   Bare.nuclei      683 non-null    float64\n",
      " 6   Bl.cromatin      683 non-null    int64  \n",
      " 7   Normal.nucleoli  683 non-null    int64  \n",
      " 8   Mitoses          683 non-null    int64  \n",
      "dtypes: float64(1), int64(8)\n",
      "memory usage: 53.4 KB\n"
     ]
    }
   ],
   "source": [
    "x.info()"
   ]
  },
  {
   "cell_type": "code",
   "execution_count": 15,
   "id": "1dc125d3",
   "metadata": {},
   "outputs": [],
   "source": [
    "y=bc.iloc[:,11]"
   ]
  },
  {
   "cell_type": "code",
   "execution_count": 16,
   "id": "2cda4551",
   "metadata": {},
   "outputs": [
    {
     "data": {
      "text/plain": [
       "(683,)"
      ]
     },
     "execution_count": 16,
     "metadata": {},
     "output_type": "execute_result"
    }
   ],
   "source": [
    "y.shape"
   ]
  },
  {
   "cell_type": "code",
   "execution_count": 17,
   "id": "6345c989",
   "metadata": {},
   "outputs": [
    {
     "data": {
      "text/plain": [
       "dtype('O')"
      ]
     },
     "execution_count": 17,
     "metadata": {},
     "output_type": "execute_result"
    }
   ],
   "source": [
    "y.dtype"
   ]
  },
  {
   "cell_type": "code",
   "execution_count": 18,
   "id": "e16d941f",
   "metadata": {},
   "outputs": [],
   "source": [
    "#split into train_test and Standardise"
   ]
  },
  {
   "cell_type": "code",
   "execution_count": 19,
   "id": "13f5a290",
   "metadata": {},
   "outputs": [],
   "source": [
    "#spliting the data into train and test"
   ]
  },
  {
   "cell_type": "code",
   "execution_count": 20,
   "id": "0fc5da08",
   "metadata": {},
   "outputs": [],
   "source": [
    "from sklearn.model_selection import train_test_split\n",
    "x_train,x_test,y_train,y_test=train_test_split(x,y,random_state=0,test_size=0.25)"
   ]
  },
  {
   "cell_type": "code",
   "execution_count": 21,
   "id": "9b35c7d5",
   "metadata": {},
   "outputs": [],
   "source": [
    "#standardizing the data\n",
    "from sklearn.preprocessing import StandardScaler\n",
    "scaler=StandardScaler()"
   ]
  },
  {
   "cell_type": "code",
   "execution_count": 22,
   "id": "7303b0eb",
   "metadata": {},
   "outputs": [
    {
     "data": {
      "text/plain": [
       "array([[ 0.91903747,  0.9407658 ,  2.30881719, ...,  2.22576767,\n",
       "         2.27129602,  0.24623928],\n",
       "       [ 1.27578287, -0.04290763,  1.63138773, ...,  1.82407819,\n",
       "         1.94996317,  3.74830911],\n",
       "       [ 1.27578287,  2.25233038,  2.30881719, ...,  2.62745714,\n",
       "         2.27129602, -0.33743902],\n",
       "       ...,\n",
       "       [-1.22143494, -0.69868992, -0.73961536, ..., -0.98774815,\n",
       "        -0.62069958, -0.33743902],\n",
       "       [-0.50794414, -0.69868992, -0.73961536, ..., -0.58605867,\n",
       "        -0.62069958, -0.33743902],\n",
       "       [ 1.98927367,  1.92443923,  1.29267301, ...,  1.42238871,\n",
       "         1.30729749, -0.33743902]])"
      ]
     },
     "execution_count": 22,
     "metadata": {},
     "output_type": "execute_result"
    }
   ],
   "source": [
    "#standardizing the x_train data\n",
    "scaler.fit(x_train)\n",
    "x_train=scaler.transform(x_train)\n",
    "x_train#array"
   ]
  },
  {
   "cell_type": "code",
   "execution_count": 23,
   "id": "78d14aa0",
   "metadata": {},
   "outputs": [
    {
     "data": {
      "text/plain": [
       "(512, 9)"
      ]
     },
     "execution_count": 23,
     "metadata": {},
     "output_type": "execute_result"
    }
   ],
   "source": [
    "x_train.shape"
   ]
  },
  {
   "cell_type": "code",
   "execution_count": 24,
   "id": "8d61705d",
   "metadata": {},
   "outputs": [
    {
     "data": {
      "text/plain": [
       "array([[-1.22099312, -0.71283207, -0.74896625, ..., -1.03668951,\n",
       "        -0.59095109, -0.38057137],\n",
       "       [-0.5226994 , -0.71283207, -0.74896625, ..., -0.60536614,\n",
       "        -0.59095109, -0.38057137],\n",
       "       [ 0.17559433,  0.57705453,  0.54797784, ...,  0.25728061,\n",
       "         0.11080333, -0.38057137],\n",
       "       ...,\n",
       "       [ 0.17559433, -0.71283207, -0.74896625, ..., -0.17404277,\n",
       "        -0.59095109,  0.18044332],\n",
       "       [-0.87184626, -0.39036042, -0.42473023, ...,  1.55125073,\n",
       "        -0.59095109, -0.38057137],\n",
       "       [-0.87184626, -0.71283207, -0.74896625, ..., -0.17404277,\n",
       "        -0.59095109, -0.38057137]])"
      ]
     },
     "execution_count": 24,
     "metadata": {},
     "output_type": "execute_result"
    }
   ],
   "source": [
    "#standardizing the x_test data\n",
    "scaler.fit(x_test)\n",
    "x_test=scaler.transform(x_test)\n",
    "x_test #array"
   ]
  },
  {
   "cell_type": "code",
   "execution_count": 25,
   "id": "3d460aea",
   "metadata": {},
   "outputs": [
    {
     "data": {
      "text/plain": [
       "(171, 9)"
      ]
     },
     "execution_count": 25,
     "metadata": {},
     "output_type": "execute_result"
    }
   ],
   "source": [
    "x_test.shape"
   ]
  },
  {
   "cell_type": "code",
   "execution_count": 26,
   "id": "6fd9aa9e",
   "metadata": {},
   "outputs": [],
   "source": [
    "#No characters, numbers and float conversion"
   ]
  },
  {
   "cell_type": "code",
   "execution_count": 27,
   "id": "e17bb9f9",
   "metadata": {},
   "outputs": [],
   "source": [
    "#import deep learning and sequential model\n",
    "#importing libraries"
   ]
  },
  {
   "cell_type": "code",
   "execution_count": 28,
   "id": "3480bf0a",
   "metadata": {},
   "outputs": [],
   "source": [
    "from keras.models import Sequential\n",
    "from keras.layers import Dense"
   ]
  },
  {
   "cell_type": "code",
   "execution_count": 29,
   "id": "8ab6ae86",
   "metadata": {},
   "outputs": [
    {
     "data": {
      "text/plain": [
       "(512, 9)"
      ]
     },
     "execution_count": 29,
     "metadata": {},
     "output_type": "execute_result"
    }
   ],
   "source": [
    "#Processing train data\n",
    "y_train[y_train=='malignant']=1\n",
    "y_train[y_train=='benign']=0\n",
    "y_train=np.asarray(y_train).astype('float32')#model needs float\n",
    "x_train=np.asarray(x_train).astype('float32')#model needs float\n",
    "x_train.shape"
   ]
  },
  {
   "cell_type": "code",
   "execution_count": 30,
   "id": "c3565380",
   "metadata": {},
   "outputs": [
    {
     "data": {
      "text/plain": [
       "(512,)"
      ]
     },
     "execution_count": 30,
     "metadata": {},
     "output_type": "execute_result"
    }
   ],
   "source": [
    "y_train.shape"
   ]
  },
  {
   "cell_type": "code",
   "execution_count": 31,
   "id": "6a82fb79",
   "metadata": {},
   "outputs": [],
   "source": [
    "#processing test data"
   ]
  },
  {
   "cell_type": "code",
   "execution_count": 32,
   "id": "f76e7cbc",
   "metadata": {},
   "outputs": [
    {
     "data": {
      "text/plain": [
       "(171, 9)"
      ]
     },
     "execution_count": 32,
     "metadata": {},
     "output_type": "execute_result"
    }
   ],
   "source": [
    "y_test[y_test=='malignant']=1\n",
    "y_test[y_test=='benign']=0\n",
    "y_test=np.asarray(y_test).astype('float32')#model needs float\n",
    "x_test=np.asarray(x_test).astype('float32')#model needs float\n",
    "x_test.shape"
   ]
  },
  {
   "cell_type": "code",
   "execution_count": 33,
   "id": "d877fbe2",
   "metadata": {},
   "outputs": [
    {
     "data": {
      "text/plain": [
       "(171,)"
      ]
     },
     "execution_count": 33,
     "metadata": {},
     "output_type": "execute_result"
    }
   ],
   "source": [
    "y_test.shape"
   ]
  },
  {
   "cell_type": "code",
   "execution_count": 34,
   "id": "bf077923",
   "metadata": {},
   "outputs": [],
   "source": [
    "#model"
   ]
  },
  {
   "cell_type": "markdown",
   "id": "e1c4278f",
   "metadata": {},
   "source": []
  },
  {
   "cell_type": "code",
   "execution_count": 35,
   "id": "b117d26e",
   "metadata": {},
   "outputs": [],
   "source": [
    "# model with hiddenlayer activation-'relu' & outputlayer \n",
    "#activation -'sigmoid'"
   ]
  },
  {
   "cell_type": "code",
   "execution_count": 36,
   "id": "35428e92",
   "metadata": {},
   "outputs": [],
   "source": [
    "bc_seq=Sequential()\n",
    "bc_seq.add(Dense(9,activation='relu'))\n",
    "bc_seq.add(Dense(30,activation='relu'))\n",
    "bc_seq.add(Dense(20,activation='relu'))\n",
    "bc_seq.add(Dense(10,activation='relu'))\n",
    "bc_seq.add(Dense(1,activation='sigmoid'))"
   ]
  },
  {
   "cell_type": "code",
   "execution_count": 37,
   "id": "41609178",
   "metadata": {},
   "outputs": [],
   "source": [
    "#compilation "
   ]
  },
  {
   "cell_type": "code",
   "execution_count": 38,
   "id": "5e3a5277",
   "metadata": {},
   "outputs": [],
   "source": [
    "bc_seq.compile(loss='binary_crossentropy',optimizer='adam',metrics=['accuracy'])"
   ]
  },
  {
   "cell_type": "code",
   "execution_count": 39,
   "id": "57012015",
   "metadata": {},
   "outputs": [
    {
     "name": "stdout",
     "output_type": "stream",
     "text": [
      "Epoch 1/10\n",
      "16/16 [==============================] - 0s 2ms/step - loss: 0.6868 - accuracy: 0.3379\n",
      "Epoch 2/10\n",
      "16/16 [==============================] - 0s 2ms/step - loss: 0.6183 - accuracy: 0.6660\n",
      "Epoch 3/10\n",
      "16/16 [==============================] - 0s 2ms/step - loss: 0.5529 - accuracy: 0.8789\n",
      "Epoch 4/10\n",
      "16/16 [==============================] - 0s 2ms/step - loss: 0.5083 - accuracy: 0.9160\n",
      "Epoch 5/10\n",
      "16/16 [==============================] - 0s 2ms/step - loss: 0.4864 - accuracy: 0.9395\n",
      "Epoch 6/10\n",
      "16/16 [==============================] - 0s 1ms/step - loss: 0.4747 - accuracy: 0.9570\n",
      "Epoch 7/10\n",
      "16/16 [==============================] - 0s 1ms/step - loss: 0.4624 - accuracy: 0.9629\n",
      "Epoch 8/10\n",
      "16/16 [==============================] - 0s 1ms/step - loss: 0.4489 - accuracy: 0.9707\n",
      "Epoch 9/10\n",
      "16/16 [==============================] - 0s 2ms/step - loss: 0.4286 - accuracy: 0.9746\n",
      "Epoch 10/10\n",
      "16/16 [==============================] - 0s 1ms/step - loss: 0.3989 - accuracy: 0.9766\n"
     ]
    },
    {
     "data": {
      "text/plain": [
       "<keras.callbacks.History at 0x1567b68c580>"
      ]
     },
     "execution_count": 39,
     "metadata": {},
     "output_type": "execute_result"
    }
   ],
   "source": [
    "bc_seq.fit(x_train,y_train,epochs=10) #default taken 32 as batch sdize"
   ]
  },
  {
   "cell_type": "code",
   "execution_count": 40,
   "id": "f6165d73",
   "metadata": {},
   "outputs": [
    {
     "name": "stdout",
     "output_type": "stream",
     "text": [
      "Model: \"sequential\"\n",
      "_________________________________________________________________\n",
      "Layer (type)                 Output Shape              Param #   \n",
      "=================================================================\n",
      "dense (Dense)                (32, 9)                   90        \n",
      "_________________________________________________________________\n",
      "dense_1 (Dense)              (32, 30)                  300       \n",
      "_________________________________________________________________\n",
      "dense_2 (Dense)              (32, 20)                  620       \n",
      "_________________________________________________________________\n",
      "dense_3 (Dense)              (32, 10)                  210       \n",
      "_________________________________________________________________\n",
      "dense_4 (Dense)              (32, 1)                   11        \n",
      "=================================================================\n",
      "Total params: 1,231\n",
      "Trainable params: 1,231\n",
      "Non-trainable params: 0\n",
      "_________________________________________________________________\n"
     ]
    }
   ],
   "source": [
    "bc_seq.summary()"
   ]
  },
  {
   "cell_type": "code",
   "execution_count": 41,
   "id": "d1dd2b2f",
   "metadata": {},
   "outputs": [],
   "source": [
    "# model with hiddenlayer activation-'relu' & outputlayer \n",
    "#activation -'sigmoid'"
   ]
  },
  {
   "cell_type": "code",
   "execution_count": 42,
   "id": "f4730c4a",
   "metadata": {},
   "outputs": [],
   "source": [
    "#bc_seq=Sequential()\n",
    "#bc_seq.add(Dense(9,activation='relu'))\n",
    "#bc_seq.add(Dense(30,activation='relu'))\n",
    "#bc_seq.add(Dense(20,activation='relu'))\n",
    "#bc_seq.add(Dense(10,activation='relu'))\n",
    "#bc_seq.add(Dense(1,activation='sigmoid'))"
   ]
  },
  {
   "cell_type": "code",
   "execution_count": 43,
   "id": "91b0dac2",
   "metadata": {},
   "outputs": [],
   "source": [
    "#bc_seq.summary()"
   ]
  },
  {
   "cell_type": "code",
   "execution_count": 44,
   "id": "d8d4e5f3",
   "metadata": {},
   "outputs": [],
   "source": [
    "#Evaluating model on train data"
   ]
  },
  {
   "cell_type": "code",
   "execution_count": 45,
   "id": "29031f19",
   "metadata": {},
   "outputs": [
    {
     "name": "stdout",
     "output_type": "stream",
     "text": [
      "16/16 [==============================] - 0s 1ms/step - loss: 0.3750 - accuracy: 0.9766\n"
     ]
    }
   ],
   "source": [
    "train_loss,train_acc=bc_seq.evaluate(x_train,y_train)"
   ]
  },
  {
   "cell_type": "code",
   "execution_count": 46,
   "id": "25f848ca",
   "metadata": {},
   "outputs": [
    {
     "name": "stdout",
     "output_type": "stream",
     "text": [
      "train_acc: 0.9765625\n"
     ]
    }
   ],
   "source": [
    "print('train_acc:',train_acc)"
   ]
  },
  {
   "cell_type": "code",
   "execution_count": 47,
   "id": "ce5f599b",
   "metadata": {},
   "outputs": [],
   "source": [
    "#Evaluating model on test data"
   ]
  },
  {
   "cell_type": "code",
   "execution_count": 48,
   "id": "771aabae",
   "metadata": {},
   "outputs": [
    {
     "name": "stdout",
     "output_type": "stream",
     "text": [
      "6/6 [==============================] - 0s 4ms/step - loss: 0.3829 - accuracy: 0.9591\n"
     ]
    }
   ],
   "source": [
    "test_loss,test_acc=bc_seq.evaluate(x_test,y_test)"
   ]
  },
  {
   "cell_type": "code",
   "execution_count": 49,
   "id": "1f72e887",
   "metadata": {},
   "outputs": [
    {
     "name": "stdout",
     "output_type": "stream",
     "text": [
      "test_acc: 0.9590643048286438\n"
     ]
    }
   ],
   "source": [
    "print('test_acc:',test_acc)"
   ]
  },
  {
   "cell_type": "code",
   "execution_count": null,
   "id": "be94971e",
   "metadata": {},
   "outputs": [],
   "source": []
  },
  {
   "cell_type": "code",
   "execution_count": null,
   "id": "5ba31b31",
   "metadata": {},
   "outputs": [],
   "source": []
  },
  {
   "cell_type": "code",
   "execution_count": null,
   "id": "76187d79",
   "metadata": {},
   "outputs": [],
   "source": []
  },
  {
   "cell_type": "code",
   "execution_count": null,
   "id": "d08f4094",
   "metadata": {},
   "outputs": [],
   "source": []
  }
 ],
 "metadata": {
  "kernelspec": {
   "display_name": "Python 3",
   "language": "python",
   "name": "python3"
  },
  "language_info": {
   "codemirror_mode": {
    "name": "ipython",
    "version": 3
   },
   "file_extension": ".py",
   "mimetype": "text/x-python",
   "name": "python",
   "nbconvert_exporter": "python",
   "pygments_lexer": "ipython3",
   "version": "3.8.8"
  }
 },
 "nbformat": 4,
 "nbformat_minor": 5
}
