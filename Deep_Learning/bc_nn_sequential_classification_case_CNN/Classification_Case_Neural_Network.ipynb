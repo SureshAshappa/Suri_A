{
 "cells": [
  {
   "cell_type": "code",
   "execution_count": 16,
   "id": "bb7e642c",
   "metadata": {},
   "outputs": [],
   "source": [
    "import pandas as pd \n",
    "import numpy as np \n",
    "import matplotlib.pyplot as plt\n",
    "import seaborn as sns\n",
    "from sklearn.preprocessing import normalize\n",
    "from sklearn.model_selection import train_test_split\n",
    "from sklearn.preprocessing import StandardScaler"
   ]
  },
  {
   "cell_type": "code",
   "execution_count": 2,
   "id": "012a9005",
   "metadata": {},
   "outputs": [
    {
     "name": "stdout",
     "output_type": "stream",
     "text": [
      "Requirement already satisfied: tensorflow in c:\\users\\smile\\appdata\\roaming\\python\\python38\\site-packages (2.6.0)\n",
      "Requirement already satisfied: opt-einsum~=3.3.0 in c:\\users\\smile\\appdata\\roaming\\python\\python38\\site-packages (from tensorflow) (3.3.0)\n",
      "Requirement already satisfied: six~=1.15.0 in c:\\users\\smile\\anaconda3\\lib\\site-packages (from tensorflow) (1.15.0)\n",
      "Requirement already satisfied: keras~=2.6 in c:\\users\\smile\\appdata\\roaming\\python\\python38\\site-packages (from tensorflow) (2.6.0)\n",
      "Requirement already satisfied: keras-preprocessing~=1.1.2 in c:\\users\\smile\\appdata\\roaming\\python\\python38\\site-packages (from tensorflow) (1.1.2)\n",
      "Requirement already satisfied: h5py~=3.1.0 in c:\\users\\smile\\appdata\\roaming\\python\\python38\\site-packages (from tensorflow) (3.1.0)\n",
      "Requirement already satisfied: protobuf>=3.9.2 in c:\\users\\smile\\appdata\\roaming\\python\\python38\\site-packages (from tensorflow) (3.17.3)\n",
      "Requirement already satisfied: tensorboard~=2.6 in c:\\users\\smile\\appdata\\roaming\\python\\python38\\site-packages (from tensorflow) (2.6.0)\n",
      "Requirement already satisfied: numpy~=1.19.2 in c:\\users\\smile\\anaconda3\\lib\\site-packages (from tensorflow) (1.19.5)\n",
      "Requirement already satisfied: grpcio<2.0,>=1.37.0 in c:\\users\\smile\\appdata\\roaming\\python\\python38\\site-packages (from tensorflow) (1.40.0)\n",
      "Requirement already satisfied: termcolor~=1.1.0 in c:\\users\\smile\\appdata\\roaming\\python\\python38\\site-packages (from tensorflow) (1.1.0)\n",
      "Requirement already satisfied: absl-py~=0.10 in c:\\users\\smile\\appdata\\roaming\\python\\python38\\site-packages (from tensorflow) (0.13.0)\n",
      "Requirement already satisfied: google-pasta~=0.2 in c:\\users\\smile\\appdata\\roaming\\python\\python38\\site-packages (from tensorflow) (0.2.0)\n",
      "Requirement already satisfied: wheel~=0.35 in c:\\users\\smile\\anaconda3\\lib\\site-packages (from tensorflow) (0.36.2)\n",
      "Requirement already satisfied: wrapt~=1.12.1 in c:\\users\\smile\\anaconda3\\lib\\site-packages (from tensorflow) (1.12.1)\n",
      "Requirement already satisfied: tensorflow-estimator~=2.6 in c:\\users\\smile\\appdata\\roaming\\python\\python38\\site-packages (from tensorflow) (2.6.0)\n",
      "Requirement already satisfied: gast==0.4.0 in c:\\users\\smile\\appdata\\roaming\\python\\python38\\site-packages (from tensorflow) (0.4.0)\n",
      "Requirement already satisfied: astunparse~=1.6.3 in c:\\users\\smile\\appdata\\roaming\\python\\python38\\site-packages (from tensorflow) (1.6.3)\n",
      "Requirement already satisfied: typing-extensions~=3.7.4 in c:\\users\\smile\\anaconda3\\lib\\site-packages (from tensorflow) (3.7.4.3)\n",
      "Requirement already satisfied: clang~=5.0 in c:\\users\\smile\\appdata\\roaming\\python\\python38\\site-packages (from tensorflow) (5.0)\n",
      "Requirement already satisfied: flatbuffers~=1.12.0 in c:\\users\\smile\\appdata\\roaming\\python\\python38\\site-packages (from tensorflow) (1.12)\n",
      "Requirement already satisfied: tensorboard-data-server<0.7.0,>=0.6.0 in c:\\users\\smile\\appdata\\roaming\\python\\python38\\site-packages (from tensorboard~=2.6->tensorflow) (0.6.1)\n",
      "Requirement already satisfied: werkzeug>=0.11.15 in c:\\users\\smile\\anaconda3\\lib\\site-packages (from tensorboard~=2.6->tensorflow) (1.0.1)\n",
      "Requirement already satisfied: requests<3,>=2.21.0 in c:\\users\\smile\\anaconda3\\lib\\site-packages (from tensorboard~=2.6->tensorflow) (2.25.1)\n",
      "Requirement already satisfied: setuptools>=41.0.0 in c:\\users\\smile\\anaconda3\\lib\\site-packages (from tensorboard~=2.6->tensorflow) (52.0.0.post20210125)\n",
      "Requirement already satisfied: google-auth-oauthlib<0.5,>=0.4.1 in c:\\users\\smile\\appdata\\roaming\\python\\python38\\site-packages (from tensorboard~=2.6->tensorflow) (0.4.6)\n",
      "Requirement already satisfied: tensorboard-plugin-wit>=1.6.0 in c:\\users\\smile\\appdata\\roaming\\python\\python38\\site-packages (from tensorboard~=2.6->tensorflow) (1.8.0)\n",
      "Requirement already satisfied: google-auth<2,>=1.6.3 in c:\\users\\smile\\appdata\\roaming\\python\\python38\\site-packages (from tensorboard~=2.6->tensorflow) (1.35.0)\n",
      "Requirement already satisfied: markdown>=2.6.8 in c:\\users\\smile\\appdata\\roaming\\python\\python38\\site-packages (from tensorboard~=2.6->tensorflow) (3.3.4)\n",
      "Requirement already satisfied: pyasn1-modules>=0.2.1 in c:\\users\\smile\\appdata\\roaming\\python\\python38\\site-packages (from google-auth<2,>=1.6.3->tensorboard~=2.6->tensorflow) (0.2.8)\n",
      "Requirement already satisfied: rsa<5,>=3.1.4 in c:\\users\\smile\\appdata\\roaming\\python\\python38\\site-packages (from google-auth<2,>=1.6.3->tensorboard~=2.6->tensorflow) (4.7.2)\n",
      "Requirement already satisfied: cachetools<5.0,>=2.0.0 in c:\\users\\smile\\appdata\\roaming\\python\\python38\\site-packages (from google-auth<2,>=1.6.3->tensorboard~=2.6->tensorflow) (4.2.2)\n",
      "Requirement already satisfied: requests-oauthlib>=0.7.0 in c:\\users\\smile\\appdata\\roaming\\python\\python38\\site-packages (from google-auth-oauthlib<0.5,>=0.4.1->tensorboard~=2.6->tensorflow) (1.3.0)\n",
      "Requirement already satisfied: pyasn1<0.5.0,>=0.4.6 in c:\\users\\smile\\appdata\\roaming\\python\\python38\\site-packages (from pyasn1-modules>=0.2.1->google-auth<2,>=1.6.3->tensorboard~=2.6->tensorflow) (0.4.8)\n",
      "Requirement already satisfied: idna<3,>=2.5 in c:\\users\\smile\\anaconda3\\lib\\site-packages (from requests<3,>=2.21.0->tensorboard~=2.6->tensorflow) (2.10)\n",
      "Requirement already satisfied: chardet<5,>=3.0.2 in c:\\users\\smile\\anaconda3\\lib\\site-packages (from requests<3,>=2.21.0->tensorboard~=2.6->tensorflow) (4.0.0)\n",
      "Requirement already satisfied: certifi>=2017.4.17 in c:\\users\\smile\\anaconda3\\lib\\site-packages (from requests<3,>=2.21.0->tensorboard~=2.6->tensorflow) (2020.12.5)\n",
      "Requirement already satisfied: urllib3<1.27,>=1.21.1 in c:\\users\\smile\\anaconda3\\lib\\site-packages (from requests<3,>=2.21.0->tensorboard~=2.6->tensorflow) (1.26.4)\n",
      "Requirement already satisfied: oauthlib>=3.0.0 in c:\\users\\smile\\appdata\\roaming\\python\\python38\\site-packages (from requests-oauthlib>=0.7.0->google-auth-oauthlib<0.5,>=0.4.1->tensorboard~=2.6->tensorflow) (3.1.1)\n"
     ]
    }
   ],
   "source": [
    "!pip install --user tensorflow"
   ]
  },
  {
   "cell_type": "code",
   "execution_count": 3,
   "id": "e7e099bd",
   "metadata": {},
   "outputs": [],
   "source": [
    "from tensorflow import keras\n",
    "from keras.models import Sequential\n",
    "from keras.layers import Dense"
   ]
  },
  {
   "cell_type": "code",
   "execution_count": 4,
   "id": "6850a04d",
   "metadata": {},
   "outputs": [],
   "source": [
    "bc = pd.read_csv('BreastCancer (1).csv')"
   ]
  },
  {
   "cell_type": "code",
   "execution_count": 5,
   "id": "15fa1250",
   "metadata": {},
   "outputs": [
    {
     "name": "stdout",
     "output_type": "stream",
     "text": [
      "<class 'pandas.core.frame.DataFrame'>\n",
      "RangeIndex: 699 entries, 0 to 698\n",
      "Data columns (total 12 columns):\n",
      " #   Column           Non-Null Count  Dtype  \n",
      "---  ------           --------------  -----  \n",
      " 0   Unnamed: 0       699 non-null    int64  \n",
      " 1   Id               699 non-null    int64  \n",
      " 2   Cl.thickness     699 non-null    int64  \n",
      " 3   Cell.size        699 non-null    int64  \n",
      " 4   Cell.shape       699 non-null    int64  \n",
      " 5   Marg.adhesion    699 non-null    int64  \n",
      " 6   Epith.c.size     699 non-null    int64  \n",
      " 7   Bare.nuclei      683 non-null    float64\n",
      " 8   Bl.cromatin      699 non-null    int64  \n",
      " 9   Normal.nucleoli  699 non-null    int64  \n",
      " 10  Mitoses          699 non-null    int64  \n",
      " 11  Class            699 non-null    object \n",
      "dtypes: float64(1), int64(10), object(1)\n",
      "memory usage: 65.7+ KB\n"
     ]
    }
   ],
   "source": [
    "bc.info()"
   ]
  },
  {
   "cell_type": "code",
   "execution_count": 6,
   "id": "3f6477b6",
   "metadata": {},
   "outputs": [
    {
     "data": {
      "text/plain": [
       "(699, 12)"
      ]
     },
     "execution_count": 6,
     "metadata": {},
     "output_type": "execute_result"
    }
   ],
   "source": [
    "bc.shape"
   ]
  },
  {
   "cell_type": "code",
   "execution_count": 7,
   "id": "82aa3dfd",
   "metadata": {},
   "outputs": [
    {
     "data": {
      "text/plain": [
       "Unnamed: 0          0\n",
       "Id                  0\n",
       "Cl.thickness        0\n",
       "Cell.size           0\n",
       "Cell.shape          0\n",
       "Marg.adhesion       0\n",
       "Epith.c.size        0\n",
       "Bare.nuclei        16\n",
       "Bl.cromatin         0\n",
       "Normal.nucleoli     0\n",
       "Mitoses             0\n",
       "Class               0\n",
       "dtype: int64"
      ]
     },
     "execution_count": 7,
     "metadata": {},
     "output_type": "execute_result"
    }
   ],
   "source": [
    "bc.isnull().sum()"
   ]
  },
  {
   "cell_type": "code",
   "execution_count": 8,
   "id": "1ee38b97",
   "metadata": {},
   "outputs": [],
   "source": [
    "bc=bc.dropna()"
   ]
  },
  {
   "cell_type": "code",
   "execution_count": 9,
   "id": "272fc78f",
   "metadata": {},
   "outputs": [
    {
     "name": "stdout",
     "output_type": "stream",
     "text": [
      "<class 'pandas.core.frame.DataFrame'>\n",
      "Int64Index: 683 entries, 0 to 698\n",
      "Data columns (total 12 columns):\n",
      " #   Column           Non-Null Count  Dtype  \n",
      "---  ------           --------------  -----  \n",
      " 0   Unnamed: 0       683 non-null    int64  \n",
      " 1   Id               683 non-null    int64  \n",
      " 2   Cl.thickness     683 non-null    int64  \n",
      " 3   Cell.size        683 non-null    int64  \n",
      " 4   Cell.shape       683 non-null    int64  \n",
      " 5   Marg.adhesion    683 non-null    int64  \n",
      " 6   Epith.c.size     683 non-null    int64  \n",
      " 7   Bare.nuclei      683 non-null    float64\n",
      " 8   Bl.cromatin      683 non-null    int64  \n",
      " 9   Normal.nucleoli  683 non-null    int64  \n",
      " 10  Mitoses          683 non-null    int64  \n",
      " 11  Class            683 non-null    object \n",
      "dtypes: float64(1), int64(10), object(1)\n",
      "memory usage: 69.4+ KB\n"
     ]
    }
   ],
   "source": [
    "bc.info()"
   ]
  },
  {
   "cell_type": "code",
   "execution_count": 10,
   "id": "1045307d",
   "metadata": {},
   "outputs": [],
   "source": [
    "x = bc.iloc[:,2:11]"
   ]
  },
  {
   "cell_type": "code",
   "execution_count": 11,
   "id": "72e428eb",
   "metadata": {},
   "outputs": [
    {
     "name": "stdout",
     "output_type": "stream",
     "text": [
      "<class 'pandas.core.frame.DataFrame'>\n",
      "Int64Index: 683 entries, 0 to 698\n",
      "Data columns (total 9 columns):\n",
      " #   Column           Non-Null Count  Dtype  \n",
      "---  ------           --------------  -----  \n",
      " 0   Cl.thickness     683 non-null    int64  \n",
      " 1   Cell.size        683 non-null    int64  \n",
      " 2   Cell.shape       683 non-null    int64  \n",
      " 3   Marg.adhesion    683 non-null    int64  \n",
      " 4   Epith.c.size     683 non-null    int64  \n",
      " 5   Bare.nuclei      683 non-null    float64\n",
      " 6   Bl.cromatin      683 non-null    int64  \n",
      " 7   Normal.nucleoli  683 non-null    int64  \n",
      " 8   Mitoses          683 non-null    int64  \n",
      "dtypes: float64(1), int64(8)\n",
      "memory usage: 53.4 KB\n"
     ]
    }
   ],
   "source": [
    "x.info()"
   ]
  },
  {
   "cell_type": "code",
   "execution_count": 12,
   "id": "3a0ad9f1",
   "metadata": {},
   "outputs": [],
   "source": [
    "y=bc.iloc[:,11]"
   ]
  },
  {
   "cell_type": "code",
   "execution_count": 13,
   "id": "9a92aa54",
   "metadata": {},
   "outputs": [],
   "source": [
    "xtrain,xtest,ytrain,ytest = train_test_split(x,y,random_state=0,test_size=0.25)"
   ]
  },
  {
   "cell_type": "code",
   "execution_count": 14,
   "id": "8a61a19d",
   "metadata": {},
   "outputs": [
    {
     "data": {
      "text/html": [
       "<div>\n",
       "<style scoped>\n",
       "    .dataframe tbody tr th:only-of-type {\n",
       "        vertical-align: middle;\n",
       "    }\n",
       "\n",
       "    .dataframe tbody tr th {\n",
       "        vertical-align: top;\n",
       "    }\n",
       "\n",
       "    .dataframe thead th {\n",
       "        text-align: right;\n",
       "    }\n",
       "</style>\n",
       "<table border=\"1\" class=\"dataframe\">\n",
       "  <thead>\n",
       "    <tr style=\"text-align: right;\">\n",
       "      <th></th>\n",
       "      <th>Cl.thickness</th>\n",
       "      <th>Cell.size</th>\n",
       "      <th>Cell.shape</th>\n",
       "      <th>Marg.adhesion</th>\n",
       "      <th>Epith.c.size</th>\n",
       "      <th>Bare.nuclei</th>\n",
       "      <th>Bl.cromatin</th>\n",
       "      <th>Normal.nucleoli</th>\n",
       "      <th>Mitoses</th>\n",
       "    </tr>\n",
       "  </thead>\n",
       "  <tbody>\n",
       "    <tr>\n",
       "      <th>571</th>\n",
       "      <td>7</td>\n",
       "      <td>6</td>\n",
       "      <td>10</td>\n",
       "      <td>5</td>\n",
       "      <td>3</td>\n",
       "      <td>10.0</td>\n",
       "      <td>9</td>\n",
       "      <td>10</td>\n",
       "      <td>2</td>\n",
       "    </tr>\n",
       "    <tr>\n",
       "      <th>68</th>\n",
       "      <td>8</td>\n",
       "      <td>3</td>\n",
       "      <td>8</td>\n",
       "      <td>3</td>\n",
       "      <td>4</td>\n",
       "      <td>9.0</td>\n",
       "      <td>8</td>\n",
       "      <td>9</td>\n",
       "      <td>8</td>\n",
       "    </tr>\n",
       "    <tr>\n",
       "      <th>586</th>\n",
       "      <td>8</td>\n",
       "      <td>10</td>\n",
       "      <td>10</td>\n",
       "      <td>10</td>\n",
       "      <td>6</td>\n",
       "      <td>10.0</td>\n",
       "      <td>10</td>\n",
       "      <td>10</td>\n",
       "      <td>1</td>\n",
       "    </tr>\n",
       "    <tr>\n",
       "      <th>311</th>\n",
       "      <td>1</td>\n",
       "      <td>1</td>\n",
       "      <td>1</td>\n",
       "      <td>1</td>\n",
       "      <td>2</td>\n",
       "      <td>1.0</td>\n",
       "      <td>1</td>\n",
       "      <td>1</td>\n",
       "      <td>1</td>\n",
       "    </tr>\n",
       "    <tr>\n",
       "      <th>369</th>\n",
       "      <td>1</td>\n",
       "      <td>1</td>\n",
       "      <td>3</td>\n",
       "      <td>1</td>\n",
       "      <td>1</td>\n",
       "      <td>1.0</td>\n",
       "      <td>2</td>\n",
       "      <td>1</td>\n",
       "      <td>1</td>\n",
       "    </tr>\n",
       "  </tbody>\n",
       "</table>\n",
       "</div>"
      ],
      "text/plain": [
       "     Cl.thickness  Cell.size  Cell.shape  Marg.adhesion  Epith.c.size  \\\n",
       "571             7          6          10              5             3   \n",
       "68              8          3           8              3             4   \n",
       "586             8         10          10             10             6   \n",
       "311             1          1           1              1             2   \n",
       "369             1          1           3              1             1   \n",
       "\n",
       "     Bare.nuclei  Bl.cromatin  Normal.nucleoli  Mitoses  \n",
       "571         10.0            9               10        2  \n",
       "68           9.0            8                9        8  \n",
       "586         10.0           10               10        1  \n",
       "311          1.0            1                1        1  \n",
       "369          1.0            2                1        1  "
      ]
     },
     "execution_count": 14,
     "metadata": {},
     "output_type": "execute_result"
    }
   ],
   "source": [
    "xtrain.head()"
   ]
  },
  {
   "cell_type": "code",
   "execution_count": 22,
   "id": "83ebcd19",
   "metadata": {},
   "outputs": [
    {
     "data": {
      "text/plain": [
       "array([[ 0.91903747,  0.9407658 ,  2.30881719, ...,  2.22576767,\n",
       "         2.27129602,  0.24623928],\n",
       "       [ 1.27578287, -0.04290763,  1.63138773, ...,  1.82407819,\n",
       "         1.94996317,  3.74830911],\n",
       "       [ 1.27578287,  2.25233038,  2.30881719, ...,  2.62745714,\n",
       "         2.27129602, -0.33743902],\n",
       "       ...,\n",
       "       [-1.22143494, -0.69868992, -0.73961536, ..., -0.98774815,\n",
       "        -0.62069958, -0.33743902],\n",
       "       [-0.50794414, -0.69868992, -0.73961536, ..., -0.58605867,\n",
       "        -0.62069958, -0.33743902],\n",
       "       [ 1.98927367,  1.92443923,  1.29267301, ...,  1.42238871,\n",
       "         1.30729749, -0.33743902]])"
      ]
     },
     "execution_count": 22,
     "metadata": {},
     "output_type": "execute_result"
    }
   ],
   "source": [
    "xtrain"
   ]
  },
  {
   "cell_type": "markdown",
   "id": "2f29241f",
   "metadata": {},
   "source": [
    "Standardizing the data"
   ]
  },
  {
   "cell_type": "code",
   "execution_count": 17,
   "id": "d9e5a5d3",
   "metadata": {},
   "outputs": [],
   "source": [
    "scaler = StandardScaler()"
   ]
  },
  {
   "cell_type": "code",
   "execution_count": 18,
   "id": "f189d722",
   "metadata": {},
   "outputs": [
    {
     "data": {
      "text/plain": [
       "StandardScaler()"
      ]
     },
     "execution_count": 18,
     "metadata": {},
     "output_type": "execute_result"
    }
   ],
   "source": [
    "scaler.fit(xtrain)"
   ]
  },
  {
   "cell_type": "code",
   "execution_count": 20,
   "id": "bff61f57",
   "metadata": {},
   "outputs": [],
   "source": [
    "xtrain = scaler.transform(xtrain)"
   ]
  },
  {
   "cell_type": "markdown",
   "id": "182e8e75",
   "metadata": {},
   "source": [
    "Standardizing the x test  data"
   ]
  },
  {
   "cell_type": "code",
   "execution_count": 23,
   "id": "7a0c733b",
   "metadata": {},
   "outputs": [
    {
     "data": {
      "text/plain": [
       "StandardScaler()"
      ]
     },
     "execution_count": 23,
     "metadata": {},
     "output_type": "execute_result"
    }
   ],
   "source": [
    "scaler.fit(xtest)"
   ]
  },
  {
   "cell_type": "code",
   "execution_count": 24,
   "id": "84be8ac0",
   "metadata": {},
   "outputs": [],
   "source": [
    "xtest = scaler.transform(xtest)"
   ]
  },
  {
   "cell_type": "code",
   "execution_count": 25,
   "id": "d8596f85",
   "metadata": {},
   "outputs": [
    {
     "data": {
      "text/plain": [
       "array([[-1.22099312, -0.71283207, -0.74896625, ..., -1.03668951,\n",
       "        -0.59095109, -0.38057137],\n",
       "       [-0.5226994 , -0.71283207, -0.74896625, ..., -0.60536614,\n",
       "        -0.59095109, -0.38057137],\n",
       "       [ 0.17559433,  0.57705453,  0.54797784, ...,  0.25728061,\n",
       "         0.11080333, -0.38057137],\n",
       "       ...,\n",
       "       [ 0.17559433, -0.71283207, -0.74896625, ..., -0.17404277,\n",
       "        -0.59095109,  0.18044332],\n",
       "       [-0.87184626, -0.39036042, -0.42473023, ...,  1.55125073,\n",
       "        -0.59095109, -0.38057137],\n",
       "       [-0.87184626, -0.71283207, -0.74896625, ..., -0.17404277,\n",
       "        -0.59095109, -0.38057137]])"
      ]
     },
     "execution_count": 25,
     "metadata": {},
     "output_type": "execute_result"
    }
   ],
   "source": [
    "xtest"
   ]
  },
  {
   "cell_type": "code",
   "execution_count": 26,
   "id": "686a73d7",
   "metadata": {},
   "outputs": [
    {
     "data": {
      "text/plain": [
       "(171, 9)"
      ]
     },
     "execution_count": 26,
     "metadata": {},
     "output_type": "execute_result"
    }
   ],
   "source": [
    "xtest.shape"
   ]
  },
  {
   "cell_type": "code",
   "execution_count": 27,
   "id": "e6caa1a1",
   "metadata": {},
   "outputs": [],
   "source": [
    "ytrain[ytrain=='malignant']=1\n",
    "ytrain[ytrain=='benign']=0\n",
    "ytrain = np.asarray(ytrain).astype('float32')\n",
    "xtrain = np.asarray(xtrain).astype('float32')\n"
   ]
  },
  {
   "cell_type": "code",
   "execution_count": 28,
   "id": "0a625727",
   "metadata": {},
   "outputs": [
    {
     "data": {
      "text/plain": [
       "(512, 9)"
      ]
     },
     "execution_count": 28,
     "metadata": {},
     "output_type": "execute_result"
    }
   ],
   "source": [
    "xtrain.shape"
   ]
  },
  {
   "cell_type": "code",
   "execution_count": 30,
   "id": "fdd349de",
   "metadata": {},
   "outputs": [
    {
     "data": {
      "text/plain": [
       "(512,)"
      ]
     },
     "execution_count": 30,
     "metadata": {},
     "output_type": "execute_result"
    }
   ],
   "source": [
    "ytrain.shape"
   ]
  },
  {
   "cell_type": "code",
   "execution_count": 31,
   "id": "2a52e44c",
   "metadata": {},
   "outputs": [],
   "source": [
    "ytest[ytest=='malignant']=1\n",
    "ytest[ytest=='benign']=0\n",
    "ytest = np.asarray(ytest).astype('float')\n",
    "xtest = np.asarray(xtest).astype('float')"
   ]
  },
  {
   "cell_type": "code",
   "execution_count": 32,
   "id": "565aa401",
   "metadata": {},
   "outputs": [
    {
     "data": {
      "text/plain": [
       "(171,)"
      ]
     },
     "execution_count": 32,
     "metadata": {},
     "output_type": "execute_result"
    }
   ],
   "source": [
    "ytest.shape"
   ]
  },
  {
   "cell_type": "code",
   "execution_count": 33,
   "id": "38fa87f0",
   "metadata": {},
   "outputs": [
    {
     "data": {
      "text/plain": [
       "(171, 9)"
      ]
     },
     "execution_count": 33,
     "metadata": {},
     "output_type": "execute_result"
    }
   ],
   "source": [
    "xtest.shape"
   ]
  },
  {
   "cell_type": "markdown",
   "id": "8394c710",
   "metadata": {},
   "source": [
    "# MOdel"
   ]
  },
  {
   "cell_type": "markdown",
   "id": "b1b1b6e7",
   "metadata": {},
   "source": [
    "model with hiddenlayer activation - 'relu' & outputlayer activation - 'sigmoid'"
   ]
  },
  {
   "cell_type": "code",
   "execution_count": 44,
   "id": "656ae967",
   "metadata": {},
   "outputs": [],
   "source": [
    "bc_seq = Sequential()\n"
   ]
  },
  {
   "cell_type": "code",
   "execution_count": 45,
   "id": "fd37bcde",
   "metadata": {},
   "outputs": [],
   "source": [
    "bc_seq.add(Dense(9, activation = 'relu'))\n",
    "bc_seq.add(Dense(30, activation = 'relu'))\n",
    "bc_seq.add(Dense(20, activation = 'relu'))\n",
    "bc_seq.add(Dense(10, activation = 'relu'))\n",
    "bc_seq.add(Dense(1, activation = 'sigmoid'))"
   ]
  },
  {
   "cell_type": "code",
   "execution_count": 46,
   "id": "2e8f44dd",
   "metadata": {},
   "outputs": [],
   "source": [
    "bc_seq.compile(loss = 'binary_crossentropy',\n",
    "               optimizer='adam',\n",
    "               metrics=['accuracy'])"
   ]
  },
  {
   "cell_type": "code",
   "execution_count": 47,
   "id": "4640c390",
   "metadata": {},
   "outputs": [
    {
     "name": "stdout",
     "output_type": "stream",
     "text": [
      "Epoch 1/10\n",
      "16/16 [==============================] - 1s 4ms/step - loss: 0.6032 - accuracy: 0.9512\n",
      "Epoch 2/10\n",
      "16/16 [==============================] - 0s 4ms/step - loss: 0.4883 - accuracy: 0.9707\n",
      "Epoch 3/10\n",
      "16/16 [==============================] - 0s 3ms/step - loss: 0.3464 - accuracy: 0.9785\n",
      "Epoch 4/10\n",
      "16/16 [==============================] - 0s 3ms/step - loss: 0.2150 - accuracy: 0.9785\n",
      "Epoch 5/10\n",
      "16/16 [==============================] - 0s 3ms/step - loss: 0.1261 - accuracy: 0.9785\n",
      "Epoch 6/10\n",
      "16/16 [==============================] - 0s 2ms/step - loss: 0.0895 - accuracy: 0.9785\n",
      "Epoch 7/10\n",
      "16/16 [==============================] - 0s 2ms/step - loss: 0.0763 - accuracy: 0.9785\n",
      "Epoch 8/10\n",
      "16/16 [==============================] - 0s 2ms/step - loss: 0.0726 - accuracy: 0.9785\n",
      "Epoch 9/10\n",
      "16/16 [==============================] - 0s 2ms/step - loss: 0.0699 - accuracy: 0.9785\n",
      "Epoch 10/10\n",
      "16/16 [==============================] - 0s 2ms/step - loss: 0.0685 - accuracy: 0.9785\n"
     ]
    },
    {
     "data": {
      "text/plain": [
       "<keras.callbacks.History at 0x21e8121d5e0>"
      ]
     },
     "execution_count": 47,
     "metadata": {},
     "output_type": "execute_result"
    }
   ],
   "source": [
    "bc_seq.fit(xtrain,ytrain,epochs=10)"
   ]
  },
  {
   "cell_type": "code",
   "execution_count": 50,
   "id": "f5c7ea90",
   "metadata": {},
   "outputs": [
    {
     "name": "stdout",
     "output_type": "stream",
     "text": [
      "Model: \"sequential_3\"\n",
      "_________________________________________________________________\n",
      "Layer (type)                 Output Shape              Param #   \n",
      "=================================================================\n",
      "dense_10 (Dense)             (32, 9)                   90        \n",
      "_________________________________________________________________\n",
      "dense_11 (Dense)             (32, 30)                  300       \n",
      "_________________________________________________________________\n",
      "dense_12 (Dense)             (32, 20)                  620       \n",
      "_________________________________________________________________\n",
      "dense_13 (Dense)             (32, 10)                  210       \n",
      "_________________________________________________________________\n",
      "dense_14 (Dense)             (32, 1)                   11        \n",
      "=================================================================\n",
      "Total params: 1,231\n",
      "Trainable params: 1,231\n",
      "Non-trainable params: 0\n",
      "_________________________________________________________________\n"
     ]
    }
   ],
   "source": [
    "bc_seq.summary()"
   ]
  },
  {
   "cell_type": "markdown",
   "id": "8fb7ea56",
   "metadata": {},
   "source": [
    "#Evaluating model on train data"
   ]
  },
  {
   "cell_type": "code",
   "execution_count": 51,
   "id": "4d2a2cce",
   "metadata": {},
   "outputs": [
    {
     "name": "stdout",
     "output_type": "stream",
     "text": [
      "16/16 [==============================] - 0s 3ms/step - loss: 0.0668 - accuracy: 0.9785\n"
     ]
    }
   ],
   "source": [
    "train_loss,train_acc = bc_seq.evaluate(xtrain,ytrain)"
   ]
  },
  {
   "cell_type": "code",
   "execution_count": 52,
   "id": "8e8ee5ec",
   "metadata": {},
   "outputs": [
    {
     "name": "stdout",
     "output_type": "stream",
     "text": [
      "train_acc:  0.978515625\n"
     ]
    }
   ],
   "source": [
    "print('train_acc: ',train_acc)"
   ]
  },
  {
   "cell_type": "code",
   "execution_count": 53,
   "id": "07a32dee",
   "metadata": {},
   "outputs": [
    {
     "name": "stdout",
     "output_type": "stream",
     "text": [
      "train_loss:  0.06680475175380707\n"
     ]
    }
   ],
   "source": [
    "print('train_loss: ',train_loss)"
   ]
  },
  {
   "cell_type": "markdown",
   "id": "c090fe9b",
   "metadata": {},
   "source": [
    "#Evaluating model on test data"
   ]
  },
  {
   "cell_type": "code",
   "execution_count": 54,
   "id": "0aa15f2e",
   "metadata": {},
   "outputs": [
    {
     "name": "stdout",
     "output_type": "stream",
     "text": [
      "6/6 [==============================] - 0s 5ms/step - loss: 0.1314 - accuracy: 0.9357\n"
     ]
    }
   ],
   "source": [
    "test_loss,test_acc = bc_seq.evaluate(xtest,ytest)"
   ]
  },
  {
   "cell_type": "code",
   "execution_count": 55,
   "id": "591963f8",
   "metadata": {},
   "outputs": [
    {
     "name": "stdout",
     "output_type": "stream",
     "text": [
      "test_loss: 0.1313648372888565\n"
     ]
    }
   ],
   "source": [
    "print('test_loss:',test_loss)"
   ]
  },
  {
   "cell_type": "code",
   "execution_count": 56,
   "id": "47278536",
   "metadata": {},
   "outputs": [
    {
     "name": "stdout",
     "output_type": "stream",
     "text": [
      "test_acc: 0.9356725215911865\n"
     ]
    }
   ],
   "source": [
    "print('test_acc:',test_acc)"
   ]
  },
  {
   "cell_type": "code",
   "execution_count": null,
   "id": "d1f70d53",
   "metadata": {},
   "outputs": [],
   "source": []
  }
 ],
 "metadata": {
  "kernelspec": {
   "display_name": "Python 3",
   "language": "python",
   "name": "python3"
  },
  "language_info": {
   "codemirror_mode": {
    "name": "ipython",
    "version": 3
   },
   "file_extension": ".py",
   "mimetype": "text/x-python",
   "name": "python",
   "nbconvert_exporter": "python",
   "pygments_lexer": "ipython3",
   "version": "3.8.8"
  }
 },
 "nbformat": 4,
 "nbformat_minor": 5
}
