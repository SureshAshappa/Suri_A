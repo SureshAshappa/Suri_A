{
 "cells": [
  {
   "cell_type": "code",
   "execution_count": 1,
   "id": "be2bb9f7",
   "metadata": {},
   "outputs": [
    {
     "name": "stdout",
     "output_type": "stream",
     "text": [
      "Requirement already satisfied: wordcloud in c:\\programdata\\anaconda3\\new folder (2)\\lib\\site-packages (1.8.1)\n",
      "Requirement already satisfied: pillow in c:\\programdata\\anaconda3\\new folder (2)\\lib\\site-packages (from wordcloud) (8.2.0)\n",
      "Requirement already satisfied: numpy>=1.6.1 in c:\\users\\suresh a\\appdata\\roaming\\python\\python38\\site-packages (from wordcloud) (1.19.5)\n",
      "Requirement already satisfied: matplotlib in c:\\programdata\\anaconda3\\new folder (2)\\lib\\site-packages (from wordcloud) (3.3.4)\n",
      "Requirement already satisfied: cycler>=0.10 in c:\\programdata\\anaconda3\\new folder (2)\\lib\\site-packages (from matplotlib->wordcloud) (0.10.0)\n",
      "Requirement already satisfied: pyparsing!=2.0.4,!=2.1.2,!=2.1.6,>=2.0.3 in c:\\programdata\\anaconda3\\new folder (2)\\lib\\site-packages (from matplotlib->wordcloud) (2.4.7)\n",
      "Requirement already satisfied: kiwisolver>=1.0.1 in c:\\programdata\\anaconda3\\new folder (2)\\lib\\site-packages (from matplotlib->wordcloud) (1.3.1)\n",
      "Requirement already satisfied: python-dateutil>=2.1 in c:\\programdata\\anaconda3\\new folder (2)\\lib\\site-packages (from matplotlib->wordcloud) (2.8.1)\n",
      "Requirement already satisfied: six in c:\\programdata\\anaconda3\\new folder (2)\\lib\\site-packages (from cycler>=0.10->matplotlib->wordcloud) (1.15.0)\n"
     ]
    }
   ],
   "source": [
    "import os\n",
    "import pandas as pd\n",
    "import numpy as np\n",
    "import matplotlib.pyplot as plt\n",
    "import seaborn\n",
    "import re\n",
    "import string\n",
    "from nltk.tokenize import word_tokenize\n",
    "from nltk.corpus import stopwords\n",
    "from nltk.stem import WordNetLemmatizer\n",
    "import nltk\n",
    "!pip install wordcloud\n",
    "from wordcloud import WordCloud"
   ]
  },
  {
   "cell_type": "code",
   "execution_count": 2,
   "id": "607350b3",
   "metadata": {},
   "outputs": [],
   "source": [
    "#http://localhost:8888/edit/Downloads/Acknowledgment.txt"
   ]
  },
  {
   "cell_type": "code",
   "execution_count": 3,
   "id": "be49ef72",
   "metadata": {},
   "outputs": [],
   "source": [
    "#start"
   ]
  },
  {
   "cell_type": "code",
   "execution_count": 6,
   "id": "6843757c",
   "metadata": {},
   "outputs": [],
   "source": [
    "with open('Downloads/iehp105.txt','r')as f:\n",
    "    text=f.readlines()"
   ]
  },
  {
   "cell_type": "code",
   "execution_count": 7,
   "id": "50115484",
   "metadata": {},
   "outputs": [],
   "source": [
    "text=[line.strip() for line in text]"
   ]
  },
  {
   "cell_type": "code",
   "execution_count": 8,
   "id": "84e16287",
   "metadata": {},
   "outputs": [
    {
     "name": "stdout",
     "output_type": "stream",
     "text": [
      "['Sports Training                                                   5', '', '5.1    Introduction', 'We use the term training in various contexts. We talk of training', 'of teachers, administrators, police and army personnel, medical', 'and paramedical functionaries including, working in non-', 'governmental organisations and volunteers engaged in various', 'events. In these contexts, by training we mean, an organised', 'and systematic instructional process which aims at improving', 'an individualsâ€™ ability to play their assigned roles effectively and', 'meaningfully. However, this kind of understanding of the term', 'training cannot be applied to the concept of sports training.', 'The term sports training is specifically used in the context of', 'athletics, sports and games which could be a training of sports', 'persons, coaches and teachers of physical education. It is', 'also used by scientists and experts who belong to the field of', 'sports science and medicine, sports bio-mechanics, exercise', 'physiology, sports psychology and other fields like yoga and', 'science movement. But even in these contexts, the concept', 'of sports training is understood differently. In this chapter,', 'therefore, we shall learn the meaning of sports training, its aims,', 'characteristics and principles and also about sports skills.', '5.2    Sports Training: Meaning', 'Sports training is a special process of preparation of sports', 'persons based on scientific principles aimed at improving and', 'maintaining higher performance capacity in different sports', 'activities. It is a particular type of training designed to improve', 'fitness and abilities to perform in a given sport. It includes', 'strength in training, corrective and restorative exercises,', 'conditioning and cardiovascular training. It also includes mental', 'and psychological training and advise on nutritional values.', '5.3 \\tPerformance Development Through Sports Training', 'Box 5.1              Sports training is especially focused on optimal performance in', 'Purpose of sports   a particular sport. Its main aim is to develop the performance', 'training is to      capacity of sports persons, so that they achieve the highest', 'achieve optimal     possible performance. To do so, it is essential to be mentally', 'level performance   strong. The ability to manage stress and anxiety associated', 'in a particular     with different sports need to be strengthened. Competition in', 'game and sport.     sports makes the participants face varied situations which', 'require the individuals to be mentally fit.', '', '', '', '', '2021â€“22', '']\n"
     ]
    }
   ],
   "source": [
    "print(text)"
   ]
  },
  {
   "cell_type": "code",
   "execution_count": 9,
   "id": "5d57f37c",
   "metadata": {},
   "outputs": [],
   "source": [
    "#join"
   ]
  },
  {
   "cell_type": "code",
   "execution_count": 10,
   "id": "afbf92a3",
   "metadata": {},
   "outputs": [],
   "source": [
    "#let us have a vector of words and apply paste function into it"
   ]
  },
  {
   "cell_type": "code",
   "execution_count": 11,
   "id": "f57377c1",
   "metadata": {},
   "outputs": [],
   "source": [
    "a=['Hello','World','My','First','Handshake','Through','R']"
   ]
  },
  {
   "cell_type": "code",
   "execution_count": 12,
   "id": "d87d471f",
   "metadata": {},
   "outputs": [
    {
     "data": {
      "text/plain": [
       "['Hello', 'World', 'My', 'First', 'Handshake', 'Through', 'R']"
      ]
     },
     "execution_count": 12,
     "metadata": {},
     "output_type": "execute_result"
    }
   ],
   "source": [
    "a"
   ]
  },
  {
   "cell_type": "code",
   "execution_count": 13,
   "id": "4c1978c0",
   "metadata": {},
   "outputs": [],
   "source": [
    "b=' '.join(a)"
   ]
  },
  {
   "cell_type": "code",
   "execution_count": 14,
   "id": "b796a18a",
   "metadata": {},
   "outputs": [
    {
     "data": {
      "text/plain": [
       "'Hello World My First Handshake Through R'"
      ]
     },
     "execution_count": 14,
     "metadata": {},
     "output_type": "execute_result"
    }
   ],
   "source": [
    "b"
   ]
  },
  {
   "cell_type": "code",
   "execution_count": 15,
   "id": "9c03d131",
   "metadata": {},
   "outputs": [],
   "source": [
    "#just check how do these two look"
   ]
  },
  {
   "cell_type": "code",
   "execution_count": 16,
   "id": "a9898db7",
   "metadata": {},
   "outputs": [
    {
     "data": {
      "text/plain": [
       "['Hello', 'World', 'My', 'First', 'Handshake', 'Through', 'R']"
      ]
     },
     "execution_count": 16,
     "metadata": {},
     "output_type": "execute_result"
    }
   ],
   "source": [
    "a"
   ]
  },
  {
   "cell_type": "code",
   "execution_count": 17,
   "id": "f4eedd03",
   "metadata": {},
   "outputs": [
    {
     "data": {
      "text/plain": [
       "'Hello World My First Handshake Through R'"
      ]
     },
     "execution_count": 17,
     "metadata": {},
     "output_type": "execute_result"
    }
   ],
   "source": [
    "b"
   ]
  },
  {
   "cell_type": "code",
   "execution_count": 18,
   "id": "9db8c940",
   "metadata": {},
   "outputs": [],
   "source": [
    "#Lets start again"
   ]
  },
  {
   "cell_type": "code",
   "execution_count": 19,
   "id": "45ea8991",
   "metadata": {},
   "outputs": [],
   "source": [
    "with open('Downloads/iehp105.txt','r')as f:\n",
    "    chunk_2=f.readlines()"
   ]
  },
  {
   "cell_type": "code",
   "execution_count": 20,
   "id": "7b3ac99a",
   "metadata": {},
   "outputs": [
    {
     "name": "stdout",
     "output_type": "stream",
     "text": [
      "['          Sports Training                                                   5\\n', '\\n', '                     5.1    Introduction\\n', '                     We use the term training in various contexts. We talk of training\\n', '                     of teachers, administrators, police and army personnel, medical\\n', '                     and paramedical functionaries including, working in non-\\n', '                     governmental organisations and volunteers engaged in various\\n', '                     events. In these contexts, by training we mean, an organised\\n', '                     and systematic instructional process which aims at improving\\n', '                     an individualsâ€™ ability to play their assigned roles effectively and\\n', '                     meaningfully. However, this kind of understanding of the term\\n', '                     training cannot be applied to the concept of sports training.\\n', '                     The term sports training is specifically used in the context of\\n', '                     athletics, sports and games which could be a training of sports\\n', '                     persons, coaches and teachers of physical education. It is\\n', '                     also used by scientists and experts who belong to the field of\\n', '                     sports science and medicine, sports bio-mechanics, exercise\\n', '                     physiology, sports psychology and other fields like yoga and\\n', '                     science movement. But even in these contexts, the concept\\n', '                     of sports training is understood differently. In this chapter,\\n', '                     therefore, we shall learn the meaning of sports training, its aims,\\n', '                     characteristics and principles and also about sports skills.\\n', '                     5.2    Sports Training: Meaning\\n', '                     Sports training is a special process of preparation of sports\\n', '                     persons based on scientific principles aimed at improving and\\n', '                     maintaining higher performance capacity in different sports\\n', '                     activities. It is a particular type of training designed to improve\\n', '                     fitness and abilities to perform in a given sport. It includes\\n', '                     strength in training, corrective and restorative exercises,\\n', '                     conditioning and cardiovascular training. It also includes mental\\n', '                     and psychological training and advise on nutritional values.\\n', '                     5.3 \\tPerformance Development Through Sports Training\\n', 'Box 5.1              Sports training is especially focused on optimal performance in\\n', ' Purpose of sports   a particular sport. Its main aim is to develop the performance\\n', ' training is to      capacity of sports persons, so that they achieve the highest\\n', ' achieve optimal     possible performance. To do so, it is essential to be mentally\\n', ' level performance   strong. The ability to manage stress and anxiety associated\\n', ' in a particular     with different sports need to be strengthened. Competition in\\n', ' game and sport.     sports makes the participants face varied situations which\\n', '                     require the individuals to be mentally fit.\\n', '\\n', '\\n', '\\n', '\\n', '                                     2021â€“22\\n', '\\x0c']\n"
     ]
    }
   ],
   "source": [
    "print(chunk_2)"
   ]
  },
  {
   "cell_type": "code",
   "execution_count": 21,
   "id": "db4684ea",
   "metadata": {},
   "outputs": [],
   "source": [
    "chunk_pasted_2=' '.join(chunk_2)"
   ]
  },
  {
   "cell_type": "code",
   "execution_count": 22,
   "id": "4df9c758",
   "metadata": {},
   "outputs": [
    {
     "data": {
      "text/plain": [
       "'          Sports Training                                                   5\\n \\n                      5.1    Introduction\\n                      We use the term training in various contexts. We talk of training\\n                      of teachers, administrators, police and army personnel, medical\\n                      and paramedical functionaries including, working in non-\\n                      governmental organisations and volunteers engaged in various\\n                      events. In these contexts, by training we mean, an organised\\n                      and systematic instructional process which aims at improving\\n                      an individualsâ€™ ability to play their assigned roles effectively and\\n                      meaningfully. However, this kind of understanding of the term\\n                      training cannot be applied to the concept of sports training.\\n                      The term sports training is specifically used in the context of\\n                      athletics, sports and games which could be a training of sports\\n                      persons, coaches and teachers of physical education. It is\\n                      also used by scientists and experts who belong to the field of\\n                      sports science and medicine, sports bio-mechanics, exercise\\n                      physiology, sports psychology and other fields like yoga and\\n                      science movement. But even in these contexts, the concept\\n                      of sports training is understood differently. In this chapter,\\n                      therefore, we shall learn the meaning of sports training, its aims,\\n                      characteristics and principles and also about sports skills.\\n                      5.2    Sports Training: Meaning\\n                      Sports training is a special process of preparation of sports\\n                      persons based on scientific principles aimed at improving and\\n                      maintaining higher performance capacity in different sports\\n                      activities. It is a particular type of training designed to improve\\n                      fitness and abilities to perform in a given sport. It includes\\n                      strength in training, corrective and restorative exercises,\\n                      conditioning and cardiovascular training. It also includes mental\\n                      and psychological training and advise on nutritional values.\\n                      5.3 \\tPerformance Development Through Sports Training\\n Box 5.1              Sports training is especially focused on optimal performance in\\n  Purpose of sports   a particular sport. Its main aim is to develop the performance\\n  training is to      capacity of sports persons, so that they achieve the highest\\n  achieve optimal     possible performance. To do so, it is essential to be mentally\\n  level performance   strong. The ability to manage stress and anxiety associated\\n  in a particular     with different sports need to be strengthened. Competition in\\n  game and sport.     sports makes the participants face varied situations which\\n                      require the individuals to be mentally fit.\\n \\n \\n \\n \\n                                      2021â€“22\\n \\x0c'"
      ]
     },
     "execution_count": 22,
     "metadata": {},
     "output_type": "execute_result"
    }
   ],
   "source": [
    "chunk_pasted_2"
   ]
  },
  {
   "cell_type": "code",
   "execution_count": 23,
   "id": "eda30150",
   "metadata": {},
   "outputs": [],
   "source": [
    "#Lower Case"
   ]
  },
  {
   "cell_type": "code",
   "execution_count": 24,
   "id": "2ec0233d",
   "metadata": {},
   "outputs": [],
   "source": [
    "### claening the data"
   ]
  },
  {
   "cell_type": "code",
   "execution_count": 25,
   "id": "b81b4d55",
   "metadata": {},
   "outputs": [],
   "source": [
    "#Let us now lower case this data"
   ]
  },
  {
   "cell_type": "code",
   "execution_count": 26,
   "id": "a56bb832",
   "metadata": {},
   "outputs": [],
   "source": [
    "clean_data1=chunk_pasted_2.lower()"
   ]
  },
  {
   "cell_type": "code",
   "execution_count": 27,
   "id": "6b5dba15",
   "metadata": {},
   "outputs": [
    {
     "data": {
      "text/plain": [
       "'          sports training                                                   5\\n \\n                      5.1    introduction\\n                      we use the term training in various contexts. we talk of training\\n                      of teachers, administrators, police and army personnel, medical\\n                      and paramedical functionaries including, working in non-\\n                      governmental organisations and volunteers engaged in various\\n                      events. in these contexts, by training we mean, an organised\\n                      and systematic instructional process which aims at improving\\n                      an individualsâ€™ ability to play their assigned roles effectively and\\n                      meaningfully. however, this kind of understanding of the term\\n                      training cannot be applied to the concept of sports training.\\n                      the term sports training is specifically used in the context of\\n                      athletics, sports and games which could be a training of sports\\n                      persons, coaches and teachers of physical education. it is\\n                      also used by scientists and experts who belong to the field of\\n                      sports science and medicine, sports bio-mechanics, exercise\\n                      physiology, sports psychology and other fields like yoga and\\n                      science movement. but even in these contexts, the concept\\n                      of sports training is understood differently. in this chapter,\\n                      therefore, we shall learn the meaning of sports training, its aims,\\n                      characteristics and principles and also about sports skills.\\n                      5.2    sports training: meaning\\n                      sports training is a special process of preparation of sports\\n                      persons based on scientific principles aimed at improving and\\n                      maintaining higher performance capacity in different sports\\n                      activities. it is a particular type of training designed to improve\\n                      fitness and abilities to perform in a given sport. it includes\\n                      strength in training, corrective and restorative exercises,\\n                      conditioning and cardiovascular training. it also includes mental\\n                      and psychological training and advise on nutritional values.\\n                      5.3 \\tperformance development through sports training\\n box 5.1              sports training is especially focused on optimal performance in\\n  purpose of sports   a particular sport. its main aim is to develop the performance\\n  training is to      capacity of sports persons, so that they achieve the highest\\n  achieve optimal     possible performance. to do so, it is essential to be mentally\\n  level performance   strong. the ability to manage stress and anxiety associated\\n  in a particular     with different sports need to be strengthened. competition in\\n  game and sport.     sports makes the participants face varied situations which\\n                      require the individuals to be mentally fit.\\n \\n \\n \\n \\n                                      2021â€“22\\n \\x0c'"
      ]
     },
     "execution_count": 27,
     "metadata": {},
     "output_type": "execute_result"
    }
   ],
   "source": [
    "clean_data1"
   ]
  },
  {
   "cell_type": "code",
   "execution_count": 28,
   "id": "d7b1a58f",
   "metadata": {},
   "outputs": [],
   "source": [
    "#Punctuations"
   ]
  },
  {
   "cell_type": "code",
   "execution_count": 29,
   "id": "b32fb748",
   "metadata": {},
   "outputs": [],
   "source": [
    "##cleaning the punctuations, pattern='\\\\W'\n",
    "#we are going to replace the punctations by space,\n",
    "#if we don't do so then we may new words"
   ]
  },
  {
   "cell_type": "code",
   "execution_count": 30,
   "id": "560fdde6",
   "metadata": {},
   "outputs": [
    {
     "data": {
      "text/plain": [
       "'          sports training                                                   5\\n \\n                      51    introduction\\n                      we use the term training in various contexts we talk of training\\n                      of teachers administrators police and army personnel medical\\n                      and paramedical functionaries including working in non\\n                      governmental organisations and volunteers engaged in various\\n                      events in these contexts by training we mean an organised\\n                      and systematic instructional process which aims at improving\\n                      an individualsâ ability to play their assigned roles effectively and\\n                      meaningfully however this kind of understanding of the term\\n                      training cannot be applied to the concept of sports training\\n                      the term sports training is specifically used in the context of\\n                      athletics sports and games which could be a training of sports\\n                      persons coaches and teachers of physical education it is\\n                      also used by scientists and experts who belong to the field of\\n                      sports science and medicine sports biomechanics exercise\\n                      physiology sports psychology and other fields like yoga and\\n                      science movement but even in these contexts the concept\\n                      of sports training is understood differently in this chapter\\n                      therefore we shall learn the meaning of sports training its aims\\n                      characteristics and principles and also about sports skills\\n                      52    sports training meaning\\n                      sports training is a special process of preparation of sports\\n                      persons based on scientific principles aimed at improving and\\n                      maintaining higher performance capacity in different sports\\n                      activities it is a particular type of training designed to improve\\n                      fitness and abilities to perform in a given sport it includes\\n                      strength in training corrective and restorative exercises\\n                      conditioning and cardiovascular training it also includes mental\\n                      and psychological training and advise on nutritional values\\n                      53 \\tperformance development through sports training\\n box 51              sports training is especially focused on optimal performance in\\n  purpose of sports   a particular sport its main aim is to develop the performance\\n  training is to      capacity of sports persons so that they achieve the highest\\n  achieve optimal     possible performance to do so it is essential to be mentally\\n  level performance   strong the ability to manage stress and anxiety associated\\n  in a particular     with different sports need to be strengthened competition in\\n  game and sport     sports makes the participants face varied situations which\\n                      require the individuals to be mentally fit\\n \\n \\n \\n \\n                                      2021â22\\n \\x0c'"
      ]
     },
     "execution_count": 30,
     "metadata": {},
     "output_type": "execute_result"
    }
   ],
   "source": [
    "clean_data2=re.sub(r'[^\\w\\s]','',clean_data1)\n",
    "clean_data2"
   ]
  },
  {
   "cell_type": "code",
   "execution_count": 31,
   "id": "fd4558ce",
   "metadata": {},
   "outputs": [],
   "source": [
    "#Digits"
   ]
  },
  {
   "cell_type": "code",
   "execution_count": 32,
   "id": "429ecdbd",
   "metadata": {},
   "outputs": [],
   "source": [
    "#Cleaning the digits,pattern='\\\\d'"
   ]
  },
  {
   "cell_type": "code",
   "execution_count": 33,
   "id": "093c10f1",
   "metadata": {},
   "outputs": [],
   "source": [
    "clean_data3=re.sub(r'\\d+',' ',clean_data2)"
   ]
  },
  {
   "cell_type": "code",
   "execution_count": 34,
   "id": "ba54b916",
   "metadata": {},
   "outputs": [
    {
     "data": {
      "text/plain": [
       "'          sports training                                                    \\n \\n                           introduction\\n                      we use the term training in various contexts we talk of training\\n                      of teachers administrators police and army personnel medical\\n                      and paramedical functionaries including working in non\\n                      governmental organisations and volunteers engaged in various\\n                      events in these contexts by training we mean an organised\\n                      and systematic instructional process which aims at improving\\n                      an individualsâ ability to play their assigned roles effectively and\\n                      meaningfully however this kind of understanding of the term\\n                      training cannot be applied to the concept of sports training\\n                      the term sports training is specifically used in the context of\\n                      athletics sports and games which could be a training of sports\\n                      persons coaches and teachers of physical education it is\\n                      also used by scientists and experts who belong to the field of\\n                      sports science and medicine sports biomechanics exercise\\n                      physiology sports psychology and other fields like yoga and\\n                      science movement but even in these contexts the concept\\n                      of sports training is understood differently in this chapter\\n                      therefore we shall learn the meaning of sports training its aims\\n                      characteristics and principles and also about sports skills\\n                           sports training meaning\\n                      sports training is a special process of preparation of sports\\n                      persons based on scientific principles aimed at improving and\\n                      maintaining higher performance capacity in different sports\\n                      activities it is a particular type of training designed to improve\\n                      fitness and abilities to perform in a given sport it includes\\n                      strength in training corrective and restorative exercises\\n                      conditioning and cardiovascular training it also includes mental\\n                      and psychological training and advise on nutritional values\\n                        \\tperformance development through sports training\\n box                sports training is especially focused on optimal performance in\\n  purpose of sports   a particular sport its main aim is to develop the performance\\n  training is to      capacity of sports persons so that they achieve the highest\\n  achieve optimal     possible performance to do so it is essential to be mentally\\n  level performance   strong the ability to manage stress and anxiety associated\\n  in a particular     with different sports need to be strengthened competition in\\n  game and sport     sports makes the participants face varied situations which\\n                      require the individuals to be mentally fit\\n \\n \\n \\n \\n                                       â \\n \\x0c'"
      ]
     },
     "execution_count": 34,
     "metadata": {},
     "output_type": "execute_result"
    }
   ],
   "source": [
    "clean_data3"
   ]
  },
  {
   "cell_type": "code",
   "execution_count": 35,
   "id": "8d739394",
   "metadata": {},
   "outputs": [],
   "source": [
    "#Stop_words"
   ]
  },
  {
   "cell_type": "code",
   "execution_count": 36,
   "id": "e7f9153c",
   "metadata": {},
   "outputs": [],
   "source": [
    "#let see a preview of stopwords"
   ]
  },
  {
   "cell_type": "code",
   "execution_count": 37,
   "id": "40a0cfe3",
   "metadata": {},
   "outputs": [
    {
     "name": "stderr",
     "output_type": "stream",
     "text": [
      "[nltk_data] Downloading package stopwords to C:\\Users\\SURESH\n",
      "[nltk_data]     A\\AppData\\Roaming\\nltk_data...\n",
      "[nltk_data]   Package stopwords is already up-to-date!\n"
     ]
    },
    {
     "data": {
      "text/plain": [
       "True"
      ]
     },
     "execution_count": 37,
     "metadata": {},
     "output_type": "execute_result"
    }
   ],
   "source": [
    "nltk.download('stopwords')"
   ]
  },
  {
   "cell_type": "code",
   "execution_count": 38,
   "id": "4f1a2557",
   "metadata": {},
   "outputs": [],
   "source": [
    "stop_words=set(stopwords.words('english'))"
   ]
  },
  {
   "cell_type": "code",
   "execution_count": 39,
   "id": "23c8eaff",
   "metadata": {},
   "outputs": [
    {
     "data": {
      "text/plain": [
       "{'a',\n",
       " 'about',\n",
       " 'above',\n",
       " 'after',\n",
       " 'again',\n",
       " 'against',\n",
       " 'ain',\n",
       " 'all',\n",
       " 'am',\n",
       " 'an',\n",
       " 'and',\n",
       " 'any',\n",
       " 'are',\n",
       " 'aren',\n",
       " \"aren't\",\n",
       " 'as',\n",
       " 'at',\n",
       " 'be',\n",
       " 'because',\n",
       " 'been',\n",
       " 'before',\n",
       " 'being',\n",
       " 'below',\n",
       " 'between',\n",
       " 'both',\n",
       " 'but',\n",
       " 'by',\n",
       " 'can',\n",
       " 'couldn',\n",
       " \"couldn't\",\n",
       " 'd',\n",
       " 'did',\n",
       " 'didn',\n",
       " \"didn't\",\n",
       " 'do',\n",
       " 'does',\n",
       " 'doesn',\n",
       " \"doesn't\",\n",
       " 'doing',\n",
       " 'don',\n",
       " \"don't\",\n",
       " 'down',\n",
       " 'during',\n",
       " 'each',\n",
       " 'few',\n",
       " 'for',\n",
       " 'from',\n",
       " 'further',\n",
       " 'had',\n",
       " 'hadn',\n",
       " \"hadn't\",\n",
       " 'has',\n",
       " 'hasn',\n",
       " \"hasn't\",\n",
       " 'have',\n",
       " 'haven',\n",
       " \"haven't\",\n",
       " 'having',\n",
       " 'he',\n",
       " 'her',\n",
       " 'here',\n",
       " 'hers',\n",
       " 'herself',\n",
       " 'him',\n",
       " 'himself',\n",
       " 'his',\n",
       " 'how',\n",
       " 'i',\n",
       " 'if',\n",
       " 'in',\n",
       " 'into',\n",
       " 'is',\n",
       " 'isn',\n",
       " \"isn't\",\n",
       " 'it',\n",
       " \"it's\",\n",
       " 'its',\n",
       " 'itself',\n",
       " 'just',\n",
       " 'll',\n",
       " 'm',\n",
       " 'ma',\n",
       " 'me',\n",
       " 'mightn',\n",
       " \"mightn't\",\n",
       " 'more',\n",
       " 'most',\n",
       " 'mustn',\n",
       " \"mustn't\",\n",
       " 'my',\n",
       " 'myself',\n",
       " 'needn',\n",
       " \"needn't\",\n",
       " 'no',\n",
       " 'nor',\n",
       " 'not',\n",
       " 'now',\n",
       " 'o',\n",
       " 'of',\n",
       " 'off',\n",
       " 'on',\n",
       " 'once',\n",
       " 'only',\n",
       " 'or',\n",
       " 'other',\n",
       " 'our',\n",
       " 'ours',\n",
       " 'ourselves',\n",
       " 'out',\n",
       " 'over',\n",
       " 'own',\n",
       " 're',\n",
       " 's',\n",
       " 'same',\n",
       " 'shan',\n",
       " \"shan't\",\n",
       " 'she',\n",
       " \"she's\",\n",
       " 'should',\n",
       " \"should've\",\n",
       " 'shouldn',\n",
       " \"shouldn't\",\n",
       " 'so',\n",
       " 'some',\n",
       " 'such',\n",
       " 't',\n",
       " 'than',\n",
       " 'that',\n",
       " \"that'll\",\n",
       " 'the',\n",
       " 'their',\n",
       " 'theirs',\n",
       " 'them',\n",
       " 'themselves',\n",
       " 'then',\n",
       " 'there',\n",
       " 'these',\n",
       " 'they',\n",
       " 'this',\n",
       " 'those',\n",
       " 'through',\n",
       " 'to',\n",
       " 'too',\n",
       " 'under',\n",
       " 'until',\n",
       " 'up',\n",
       " 've',\n",
       " 'very',\n",
       " 'was',\n",
       " 'wasn',\n",
       " \"wasn't\",\n",
       " 'we',\n",
       " 'were',\n",
       " 'weren',\n",
       " \"weren't\",\n",
       " 'what',\n",
       " 'when',\n",
       " 'where',\n",
       " 'which',\n",
       " 'while',\n",
       " 'who',\n",
       " 'whom',\n",
       " 'why',\n",
       " 'will',\n",
       " 'with',\n",
       " 'won',\n",
       " \"won't\",\n",
       " 'wouldn',\n",
       " \"wouldn't\",\n",
       " 'y',\n",
       " 'you',\n",
       " \"you'd\",\n",
       " \"you'll\",\n",
       " \"you're\",\n",
       " \"you've\",\n",
       " 'your',\n",
       " 'yours',\n",
       " 'yourself',\n",
       " 'yourselves'}"
      ]
     },
     "execution_count": 39,
     "metadata": {},
     "output_type": "execute_result"
    }
   ],
   "source": [
    "stop_words"
   ]
  },
  {
   "cell_type": "code",
   "execution_count": 40,
   "id": "da6b4cf7",
   "metadata": {},
   "outputs": [],
   "source": [
    "#stop_words\n",
    "#let us remove them using function removeWords()"
   ]
  },
  {
   "cell_type": "code",
   "execution_count": 41,
   "id": "a6856868",
   "metadata": {},
   "outputs": [],
   "source": [
    "from nltk.tokenize import word_tokenize"
   ]
  },
  {
   "cell_type": "code",
   "execution_count": 42,
   "id": "c1034e06",
   "metadata": {},
   "outputs": [],
   "source": [
    "import nltk"
   ]
  },
  {
   "cell_type": "code",
   "execution_count": 43,
   "id": "6802516e",
   "metadata": {},
   "outputs": [
    {
     "name": "stderr",
     "output_type": "stream",
     "text": [
      "[nltk_data] Downloading package punkt to C:\\Users\\SURESH\n",
      "[nltk_data]     A\\AppData\\Roaming\\nltk_data...\n",
      "[nltk_data]   Package punkt is already up-to-date!\n"
     ]
    },
    {
     "data": {
      "text/plain": [
       "True"
      ]
     },
     "execution_count": 43,
     "metadata": {},
     "output_type": "execute_result"
    }
   ],
   "source": [
    "nltk.download('punkt')"
   ]
  },
  {
   "cell_type": "code",
   "execution_count": 44,
   "id": "ec2493f0",
   "metadata": {},
   "outputs": [],
   "source": [
    "tokens=word_tokenize(clean_data3)"
   ]
  },
  {
   "cell_type": "code",
   "execution_count": 45,
   "id": "de1e2da5",
   "metadata": {},
   "outputs": [],
   "source": [
    "clean_data4=[i for i in tokens if not i in stop_words]"
   ]
  },
  {
   "cell_type": "code",
   "execution_count": 46,
   "id": "90cde1bb",
   "metadata": {},
   "outputs": [
    {
     "data": {
      "text/plain": [
       "['sports',\n",
       " 'training',\n",
       " 'introduction',\n",
       " 'use',\n",
       " 'term',\n",
       " 'training',\n",
       " 'various',\n",
       " 'contexts',\n",
       " 'talk',\n",
       " 'training',\n",
       " 'teachers',\n",
       " 'administrators',\n",
       " 'police',\n",
       " 'army',\n",
       " 'personnel',\n",
       " 'medical',\n",
       " 'paramedical',\n",
       " 'functionaries',\n",
       " 'including',\n",
       " 'working',\n",
       " 'non',\n",
       " 'governmental',\n",
       " 'organisations',\n",
       " 'volunteers',\n",
       " 'engaged',\n",
       " 'various',\n",
       " 'events',\n",
       " 'contexts',\n",
       " 'training',\n",
       " 'mean',\n",
       " 'organised',\n",
       " 'systematic',\n",
       " 'instructional',\n",
       " 'process',\n",
       " 'aims',\n",
       " 'improving',\n",
       " 'individualsâ',\n",
       " 'ability',\n",
       " 'play',\n",
       " 'assigned',\n",
       " 'roles',\n",
       " 'effectively',\n",
       " 'meaningfully',\n",
       " 'however',\n",
       " 'kind',\n",
       " 'understanding',\n",
       " 'term',\n",
       " 'training',\n",
       " 'applied',\n",
       " 'concept',\n",
       " 'sports',\n",
       " 'training',\n",
       " 'term',\n",
       " 'sports',\n",
       " 'training',\n",
       " 'specifically',\n",
       " 'used',\n",
       " 'context',\n",
       " 'athletics',\n",
       " 'sports',\n",
       " 'games',\n",
       " 'could',\n",
       " 'training',\n",
       " 'sports',\n",
       " 'persons',\n",
       " 'coaches',\n",
       " 'teachers',\n",
       " 'physical',\n",
       " 'education',\n",
       " 'also',\n",
       " 'used',\n",
       " 'scientists',\n",
       " 'experts',\n",
       " 'belong',\n",
       " 'field',\n",
       " 'sports',\n",
       " 'science',\n",
       " 'medicine',\n",
       " 'sports',\n",
       " 'biomechanics',\n",
       " 'exercise',\n",
       " 'physiology',\n",
       " 'sports',\n",
       " 'psychology',\n",
       " 'fields',\n",
       " 'like',\n",
       " 'yoga',\n",
       " 'science',\n",
       " 'movement',\n",
       " 'even',\n",
       " 'contexts',\n",
       " 'concept',\n",
       " 'sports',\n",
       " 'training',\n",
       " 'understood',\n",
       " 'differently',\n",
       " 'chapter',\n",
       " 'therefore',\n",
       " 'shall',\n",
       " 'learn',\n",
       " 'meaning',\n",
       " 'sports',\n",
       " 'training',\n",
       " 'aims',\n",
       " 'characteristics',\n",
       " 'principles',\n",
       " 'also',\n",
       " 'sports',\n",
       " 'skills',\n",
       " 'sports',\n",
       " 'training',\n",
       " 'meaning',\n",
       " 'sports',\n",
       " 'training',\n",
       " 'special',\n",
       " 'process',\n",
       " 'preparation',\n",
       " 'sports',\n",
       " 'persons',\n",
       " 'based',\n",
       " 'scientific',\n",
       " 'principles',\n",
       " 'aimed',\n",
       " 'improving',\n",
       " 'maintaining',\n",
       " 'higher',\n",
       " 'performance',\n",
       " 'capacity',\n",
       " 'different',\n",
       " 'sports',\n",
       " 'activities',\n",
       " 'particular',\n",
       " 'type',\n",
       " 'training',\n",
       " 'designed',\n",
       " 'improve',\n",
       " 'fitness',\n",
       " 'abilities',\n",
       " 'perform',\n",
       " 'given',\n",
       " 'sport',\n",
       " 'includes',\n",
       " 'strength',\n",
       " 'training',\n",
       " 'corrective',\n",
       " 'restorative',\n",
       " 'exercises',\n",
       " 'conditioning',\n",
       " 'cardiovascular',\n",
       " 'training',\n",
       " 'also',\n",
       " 'includes',\n",
       " 'mental',\n",
       " 'psychological',\n",
       " 'training',\n",
       " 'advise',\n",
       " 'nutritional',\n",
       " 'values',\n",
       " 'performance',\n",
       " 'development',\n",
       " 'sports',\n",
       " 'training',\n",
       " 'box',\n",
       " 'sports',\n",
       " 'training',\n",
       " 'especially',\n",
       " 'focused',\n",
       " 'optimal',\n",
       " 'performance',\n",
       " 'purpose',\n",
       " 'sports',\n",
       " 'particular',\n",
       " 'sport',\n",
       " 'main',\n",
       " 'aim',\n",
       " 'develop',\n",
       " 'performance',\n",
       " 'training',\n",
       " 'capacity',\n",
       " 'sports',\n",
       " 'persons',\n",
       " 'achieve',\n",
       " 'highest',\n",
       " 'achieve',\n",
       " 'optimal',\n",
       " 'possible',\n",
       " 'performance',\n",
       " 'essential',\n",
       " 'mentally',\n",
       " 'level',\n",
       " 'performance',\n",
       " 'strong',\n",
       " 'ability',\n",
       " 'manage',\n",
       " 'stress',\n",
       " 'anxiety',\n",
       " 'associated',\n",
       " 'particular',\n",
       " 'different',\n",
       " 'sports',\n",
       " 'need',\n",
       " 'strengthened',\n",
       " 'competition',\n",
       " 'game',\n",
       " 'sport',\n",
       " 'sports',\n",
       " 'makes',\n",
       " 'participants',\n",
       " 'face',\n",
       " 'varied',\n",
       " 'situations',\n",
       " 'require',\n",
       " 'individuals',\n",
       " 'mentally',\n",
       " 'fit',\n",
       " 'â']"
      ]
     },
     "execution_count": 46,
     "metadata": {},
     "output_type": "execute_result"
    }
   ],
   "source": [
    "clean_data4"
   ]
  },
  {
   "cell_type": "code",
   "execution_count": 47,
   "id": "df2affb1",
   "metadata": {},
   "outputs": [],
   "source": [
    "#lets club the list"
   ]
  },
  {
   "cell_type": "code",
   "execution_count": 48,
   "id": "c4cd0d46",
   "metadata": {},
   "outputs": [],
   "source": [
    "clean_data4=' '.join(str(x) for x in clean_data4)"
   ]
  },
  {
   "cell_type": "code",
   "execution_count": 49,
   "id": "28dcdf04",
   "metadata": {},
   "outputs": [
    {
     "data": {
      "text/plain": [
       "'sports training introduction use term training various contexts talk training teachers administrators police army personnel medical paramedical functionaries including working non governmental organisations volunteers engaged various events contexts training mean organised systematic instructional process aims improving individualsâ ability play assigned roles effectively meaningfully however kind understanding term training applied concept sports training term sports training specifically used context athletics sports games could training sports persons coaches teachers physical education also used scientists experts belong field sports science medicine sports biomechanics exercise physiology sports psychology fields like yoga science movement even contexts concept sports training understood differently chapter therefore shall learn meaning sports training aims characteristics principles also sports skills sports training meaning sports training special process preparation sports persons based scientific principles aimed improving maintaining higher performance capacity different sports activities particular type training designed improve fitness abilities perform given sport includes strength training corrective restorative exercises conditioning cardiovascular training also includes mental psychological training advise nutritional values performance development sports training box sports training especially focused optimal performance purpose sports particular sport main aim develop performance training capacity sports persons achieve highest achieve optimal possible performance essential mentally level performance strong ability manage stress anxiety associated particular different sports need strengthened competition game sport sports makes participants face varied situations require individuals mentally fit â'"
      ]
     },
     "execution_count": 49,
     "metadata": {},
     "output_type": "execute_result"
    }
   ],
   "source": [
    "clean_data4"
   ]
  },
  {
   "cell_type": "code",
   "execution_count": 50,
   "id": "004080cc",
   "metadata": {},
   "outputs": [],
   "source": [
    "#let us remove single letters"
   ]
  },
  {
   "cell_type": "code",
   "execution_count": 51,
   "id": "f04fdf2f",
   "metadata": {},
   "outputs": [],
   "source": [
    "clean_data5=' '.join(i for i in clean_data4.split() if not (i.isalpha() and len(i)==1))"
   ]
  },
  {
   "cell_type": "code",
   "execution_count": 52,
   "id": "af132f7e",
   "metadata": {},
   "outputs": [],
   "source": [
    "#whitespace"
   ]
  },
  {
   "cell_type": "code",
   "execution_count": 53,
   "id": "7c8e0f8e",
   "metadata": {},
   "outputs": [],
   "source": [
    "clean_data6=clean_data5.strip()"
   ]
  },
  {
   "cell_type": "raw",
   "id": "fa9f391b",
   "metadata": {},
   "source": [
    "clean_data6"
   ]
  },
  {
   "cell_type": "code",
   "execution_count": 54,
   "id": "de072c7e",
   "metadata": {},
   "outputs": [],
   "source": [
    "## frequency of the words"
   ]
  },
  {
   "cell_type": "code",
   "execution_count": 55,
   "id": "1816d9cd",
   "metadata": {},
   "outputs": [],
   "source": [
    "words_dict={}"
   ]
  },
  {
   "cell_type": "code",
   "execution_count": 56,
   "id": "41636774",
   "metadata": {},
   "outputs": [
    {
     "name": "stdout",
     "output_type": "stream",
     "text": [
      "abilities:1\n",
      "ability:2\n",
      "achieve:2\n",
      "activities:1\n",
      "administrators:1\n",
      "advise:1\n",
      "aim:1\n",
      "aimed:1\n",
      "aims:2\n",
      "also:3\n",
      "anxiety:1\n",
      "applied:1\n",
      "army:1\n",
      "assigned:1\n",
      "associated:1\n",
      "athletics:1\n",
      "based:1\n",
      "belong:1\n",
      "biomechanics:1\n",
      "box:1\n",
      "capacity:2\n",
      "cardiovascular:1\n",
      "chapter:1\n",
      "characteristics:1\n",
      "coaches:1\n",
      "competition:1\n",
      "concept:2\n",
      "conditioning:1\n",
      "context:1\n",
      "contexts:3\n",
      "corrective:1\n",
      "could:1\n",
      "designed:1\n",
      "develop:1\n",
      "development:1\n",
      "different:2\n",
      "differently:1\n",
      "education:1\n",
      "effectively:1\n",
      "engaged:1\n",
      "especially:1\n",
      "essential:1\n",
      "even:1\n",
      "events:1\n",
      "exercise:1\n",
      "exercises:1\n",
      "experts:1\n",
      "face:1\n",
      "field:1\n",
      "fields:1\n",
      "fit:1\n",
      "fitness:1\n",
      "focused:1\n",
      "functionaries:1\n",
      "game:1\n",
      "games:1\n",
      "given:1\n",
      "governmental:1\n",
      "higher:1\n",
      "highest:1\n",
      "however:1\n",
      "improve:1\n",
      "improving:2\n",
      "includes:2\n",
      "including:1\n",
      "individuals:1\n",
      "individualsâ:1\n",
      "instructional:1\n",
      "introduction:1\n",
      "kind:1\n",
      "learn:1\n",
      "level:1\n",
      "like:1\n",
      "main:1\n",
      "maintaining:1\n",
      "makes:1\n",
      "manage:1\n",
      "mean:1\n",
      "meaning:2\n",
      "meaningfully:1\n",
      "medical:1\n",
      "medicine:1\n",
      "mental:1\n",
      "mentally:2\n",
      "movement:1\n",
      "need:1\n",
      "non:1\n",
      "nutritional:1\n",
      "optimal:2\n",
      "organisations:1\n",
      "organised:1\n",
      "paramedical:1\n",
      "participants:1\n",
      "particular:3\n",
      "perform:1\n",
      "performance:6\n",
      "personnel:1\n",
      "persons:3\n",
      "physical:1\n",
      "physiology:1\n",
      "play:1\n",
      "police:1\n",
      "possible:1\n",
      "preparation:1\n",
      "principles:2\n",
      "process:2\n",
      "psychological:1\n",
      "psychology:1\n",
      "purpose:1\n",
      "require:1\n",
      "restorative:1\n",
      "roles:1\n",
      "science:2\n",
      "scientific:1\n",
      "scientists:1\n",
      "shall:1\n",
      "situations:1\n",
      "skills:1\n",
      "special:1\n",
      "specifically:1\n",
      "sport:3\n",
      "sports:21\n",
      "strength:1\n",
      "strengthened:1\n",
      "stress:1\n",
      "strong:1\n",
      "systematic:1\n",
      "talk:1\n",
      "teachers:2\n",
      "term:3\n",
      "therefore:1\n",
      "training:19\n",
      "type:1\n",
      "understanding:1\n",
      "understood:1\n",
      "use:1\n",
      "used:2\n",
      "values:1\n",
      "varied:1\n",
      "various:2\n",
      "volunteers:1\n",
      "working:1\n",
      "yoga:1\n"
     ]
    }
   ],
   "source": [
    "for word in clean_data6.split():\n",
    "    words_dict[word]=words_dict.get(word,0)+1\n",
    "for key in sorted(words_dict):\n",
    "    print('{}:{}'.format(key,words_dict[key]))"
   ]
  },
  {
   "cell_type": "code",
   "execution_count": 57,
   "id": "4bd2aeba",
   "metadata": {},
   "outputs": [],
   "source": [
    "## word cloud"
   ]
  },
  {
   "cell_type": "code",
   "execution_count": 58,
   "id": "a3af7056",
   "metadata": {},
   "outputs": [],
   "source": [
    "#CREAT THE WORLD CLOUD OBJECT"
   ]
  },
  {
   "cell_type": "code",
   "execution_count": 59,
   "id": "bddc9b12",
   "metadata": {},
   "outputs": [],
   "source": [
    "wordcloud=WordCloud(width=480,height=480,margin=0).generate(clean_data6)"
   ]
  },
  {
   "cell_type": "code",
   "execution_count": 60,
   "id": "41126020",
   "metadata": {},
   "outputs": [],
   "source": [
    "#display the generated image:"
   ]
  },
  {
   "cell_type": "code",
   "execution_count": 61,
   "id": "e6d57967",
   "metadata": {},
   "outputs": [
    {
     "data": {
      "image/png": "[encoded data removed]",
      "text/plain": [
       "<Figure size 432x288 with 1 Axes>"
      ]
     },
     "metadata": {
      "needs_background": "light"
     },
     "output_type": "display_data"
    }
   ],
   "source": [
    "plt.imshow(wordcloud, interpolation='bilinear')\n",
    "plt.axis('off')\n",
    "plt.margins(x=0,y=0)\n",
    "plt.show()"
   ]
  },
  {
   "cell_type": "code",
   "execution_count": 62,
   "id": "986c875f",
   "metadata": {},
   "outputs": [],
   "source": [
    "#controlling number of words"
   ]
  },
  {
   "cell_type": "code",
   "execution_count": 63,
   "id": "d20e8ec8",
   "metadata": {},
   "outputs": [],
   "source": [
    "wordcloud=WordCloud(width=480,height=480,max_words=3).generate(clean_data6)"
   ]
  },
  {
   "cell_type": "code",
   "execution_count": 64,
   "id": "217139aa",
   "metadata": {},
   "outputs": [
    {
     "data": {
      "image/png": "[encoded data removed]",
      "text/plain": [
       "<Figure size 432x288 with 1 Axes>"
      ]
     },
     "metadata": {
      "needs_background": "light"
     },
     "output_type": "display_data"
    }
   ],
   "source": [
    "plt.figure()\n",
    "plt.imshow(wordcloud, interpolation='bilinear')\n",
    "plt.axis('off')\n",
    "plt.margins(x=0,y=0)\n",
    "plt.show()"
   ]
  },
  {
   "cell_type": "code",
   "execution_count": 65,
   "id": "67a9d908",
   "metadata": {},
   "outputs": [],
   "source": [
    "wordcloud=WordCloud(width=480,height=480,colormap='Oranges_r').generate(clean_data6)"
   ]
  },
  {
   "cell_type": "code",
   "execution_count": 66,
   "id": "3766e496",
   "metadata": {},
   "outputs": [],
   "source": [
    "#plot the worldcloud image AWESOME IT IS"
   ]
  },
  {
   "cell_type": "code",
   "execution_count": 67,
   "id": "3e3ee36b",
   "metadata": {},
   "outputs": [
    {
     "data": {
      "image/png": "[encoded data removed]",
      "text/plain": [
       "<Figure size 432x288 with 1 Axes>"
      ]
     },
     "metadata": {
      "needs_background": "light"
     },
     "output_type": "display_data"
    }
   ],
   "source": [
    "plt.figure()\n",
    "plt.imshow(wordcloud, interpolation='bilinear')\n",
    "plt.axis('off')\n",
    "plt.margins(x=0,y=0)\n",
    "plt.show()"
   ]
  },
  {
   "cell_type": "code",
   "execution_count": 68,
   "id": "971c40fb",
   "metadata": {},
   "outputs": [],
   "source": [
    "#SENTIMENT ANALYSIS"
   ]
  },
  {
   "cell_type": "code",
   "execution_count": 69,
   "id": "94a18dd8",
   "metadata": {},
   "outputs": [],
   "source": [
    "from nltk.sentiment.vader import SentimentIntensityAnalyzer"
   ]
  },
  {
   "cell_type": "code",
   "execution_count": 70,
   "id": "3d7af5c8",
   "metadata": {},
   "outputs": [],
   "source": [
    "import nltk"
   ]
  },
  {
   "cell_type": "code",
   "execution_count": 71,
   "id": "b32a3cca",
   "metadata": {},
   "outputs": [
    {
     "name": "stderr",
     "output_type": "stream",
     "text": [
      "[nltk_data] Downloading package vader_lexicon to C:\\Users\\SURESH\n",
      "[nltk_data]     A\\AppData\\Roaming\\nltk_data...\n",
      "[nltk_data]   Package vader_lexicon is already up-to-date!\n"
     ]
    },
    {
     "data": {
      "text/plain": [
       "True"
      ]
     },
     "execution_count": 71,
     "metadata": {},
     "output_type": "execute_result"
    }
   ],
   "source": [
    "nltk.download('vader_lexicon')"
   ]
  },
  {
   "cell_type": "code",
   "execution_count": 72,
   "id": "892c733a",
   "metadata": {},
   "outputs": [],
   "source": [
    "analyser=SentimentIntensityAnalyzer()"
   ]
  },
  {
   "cell_type": "code",
   "execution_count": 73,
   "id": "a0be0ca9",
   "metadata": {},
   "outputs": [],
   "source": [
    "scores=analyser.polarity_scores(clean_data6)"
   ]
  },
  {
   "cell_type": "code",
   "execution_count": 74,
   "id": "bb81420c",
   "metadata": {},
   "outputs": [
    {
     "name": "stdout",
     "output_type": "stream",
     "text": [
      "compound:0.9933, neg:0.018, neu:0.758, pos:0.224, "
     ]
    }
   ],
   "source": [
    "for key in sorted(scores):\n",
    "    print('{0}:{1}, '.format(key, scores[key]),end=\"\")"
   ]
  },
  {
   "cell_type": "code",
   "execution_count": null,
   "id": "f99d21fe",
   "metadata": {},
   "outputs": [],
   "source": []
  },
  {
   "cell_type": "code",
   "execution_count": null,
   "id": "d6b3d4ef",
   "metadata": {},
   "outputs": [],
   "source": []
  }
 ],
 "metadata": {
  "kernelspec": {
   "display_name": "Python 3",
   "language": "python",
   "name": "python3"
  },
  "language_info": {
   "codemirror_mode": {
    "name": "ipython",
    "version": 3
   },
   "file_extension": ".py",
   "mimetype": "text/x-python",
   "name": "python",
   "nbconvert_exporter": "python",
   "pygments_lexer": "ipython3",
   "version": "3.8.8"
  }
 },
 "nbformat": 4,
 "nbformat_minor": 5
}
